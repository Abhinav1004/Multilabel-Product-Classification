{
 "cells": [
  {
   "cell_type": "markdown",
   "metadata": {},
   "source": [
    "# Importing Libraries"
   ]
  },
  {
   "cell_type": "code",
   "execution_count": 1,
   "metadata": {},
   "outputs": [],
   "source": [
    "import pandas as pd\n",
    "import numpy as np\n",
    "import re\n",
    "from matplotlib import pyplot as plt\n",
    "from matplotlib.pyplot import figure\n",
    "\n",
    "from sklearn.feature_extraction.text import TfidfVectorizer\n",
    "from sklearn.preprocessing import MultiLabelBinarizer\n",
    "from sklearn.model_selection import train_test_split\n",
    "\n",
    "from sklearn.linear_model import SGDClassifier\n",
    "from sklearn.linear_model import LogisticRegression\n",
    "from sklearn.svm import LinearSVC\n",
    "from sklearn.tree import DecisionTreeClassifier\n",
    "from xgboost.sklearn import XGBClassifier\n",
    "from sklearn.model_selection import GridSearchCV\n",
    "\n",
    "from sklearn.metrics import f1_score,hamming_loss\n",
    "\n",
    "from sklearn.multiclass import OneVsRestClassifier"
   ]
  },
  {
   "cell_type": "markdown",
   "metadata": {},
   "source": [
    "# Extrapolatory Data Analysis\n",
    "\n",
    "1. We find the number of rows,columns in the dataset\n",
    "2. We find the classwise distribution of the text\n",
    "3. Find the average word count in the dataset to know whether the text classification is to be done on short or long sentences\n",
    "\n",
    "## Observations\n",
    "\n",
    "1. We have very less samples per class for some classes\n",
    "2. Number of rows is 915\n",
    "3. Text size is small i.e average word count is 4-5 words per sentence\n"
   ]
  },
  {
   "cell_type": "code",
   "execution_count": 2,
   "metadata": {
    "scrolled": false
   },
   "outputs": [
    {
     "data": {
      "text/html": [
       "<div>\n",
       "<style scoped>\n",
       "    .dataframe tbody tr th:only-of-type {\n",
       "        vertical-align: middle;\n",
       "    }\n",
       "\n",
       "    .dataframe tbody tr th {\n",
       "        vertical-align: top;\n",
       "    }\n",
       "\n",
       "    .dataframe thead th {\n",
       "        text-align: right;\n",
       "    }\n",
       "</style>\n",
       "<table border=\"1\" class=\"dataframe\">\n",
       "  <thead>\n",
       "    <tr style=\"text-align: right;\">\n",
       "      <th></th>\n",
       "      <th>intent</th>\n",
       "      <th>message</th>\n",
       "    </tr>\n",
       "  </thead>\n",
       "  <tbody>\n",
       "    <tr>\n",
       "      <th>0</th>\n",
       "      <td>abs</td>\n",
       "      <td>Its a switchable abs</td>\n",
       "    </tr>\n",
       "    <tr>\n",
       "      <th>1</th>\n",
       "      <td>abs</td>\n",
       "      <td>kya ye switchable abs hai</td>\n",
       "    </tr>\n",
       "    <tr>\n",
       "      <th>2</th>\n",
       "      <td>abs</td>\n",
       "      <td>How many chanenls in th ABS</td>\n",
       "    </tr>\n",
       "    <tr>\n",
       "      <th>3</th>\n",
       "      <td>abs</td>\n",
       "      <td>abs mai kitne channels hai</td>\n",
       "    </tr>\n",
       "    <tr>\n",
       "      <th>4</th>\n",
       "      <td>abs</td>\n",
       "      <td>Is ABS there</td>\n",
       "    </tr>\n",
       "  </tbody>\n",
       "</table>\n",
       "</div>"
      ],
      "text/plain": [
       "  intent                      message\n",
       "0    abs         Its a switchable abs\n",
       "1    abs    kya ye switchable abs hai\n",
       "2    abs  How many chanenls in th ABS\n",
       "3    abs   abs mai kitne channels hai\n",
       "4    abs                 Is ABS there"
      ]
     },
     "execution_count": 2,
     "metadata": {},
     "output_type": "execute_result"
    }
   ],
   "source": [
    "data = pd.read_excel(\"data_set.xlsx\")\n",
    "data.head()"
   ]
  },
  {
   "cell_type": "code",
   "execution_count": 3,
   "metadata": {},
   "outputs": [],
   "source": [
    "# for use in classwise classification report\n",
    "labels_list = list()\n",
    "for i in range(data.shape[0]):\n",
    "    if data.iloc[i,0] not in labels_list:\n",
    "        labels_list.append(data.iloc[i,0])\n",
    "# print(labels_list)"
   ]
  },
  {
   "cell_type": "code",
   "execution_count": 4,
   "metadata": {},
   "outputs": [
    {
     "name": "stdout",
     "output_type": "stream",
     "text": [
      "Number of rows--> 915\n",
      "Number of columns--> 2\n"
     ]
    }
   ],
   "source": [
    "print(\"Number of rows-->\",data.shape[0])\n",
    "print(\"Number of columns-->\",data.shape[1])"
   ]
  },
  {
   "cell_type": "code",
   "execution_count": 5,
   "metadata": {},
   "outputs": [
    {
     "data": {
      "text/plain": [
       "newDesign                     35\n",
       "ducati                        32\n",
       "safetyMeasuresCovid           26\n",
       "complaints                    26\n",
       "Apparel                       26\n",
       "instrumentCluster             24\n",
       "launchSignup                  23\n",
       "tbtNavigation                 23\n",
       "ducatiFinance                 22\n",
       "fuelCapacity                  22\n",
       "tubelessTyres                 22\n",
       "ducatiAvailabilityDelivery    22\n",
       "bookTestRide                  22\n",
       "bookingAmount                 21\n",
       "serviceCost                   21\n",
       "locateDealer                  20\n",
       "comfort                       20\n",
       "braking                       19\n",
       "ducatiColours                 18\n",
       "miy                           18\n",
       "downloadWallpapers            18\n",
       "rsa                           18\n",
       "faceFilters                   18\n",
       "power                         17\n",
       "bs6                           17\n",
       "engine                        16\n",
       "ducatiPrice                   16\n",
       "usbPort                       16\n",
       "mileage                       15\n",
       "seatHeight                    15\n",
       "ducatiApp                     14\n",
       "exchangeOptions               14\n",
       "ducatiFeatures                14\n",
       "newFrame                      14\n",
       "triumph                       14\n",
       "gma                           14\n",
       "engineDisplacement            13\n",
       "Headlamps                     13\n",
       "battery                       13\n",
       "topSpeed                      13\n",
       "longStrokeengine              13\n",
       "windscreen                    12\n",
       "groundClearance               12\n",
       "upgrade                       12\n",
       "ducatiLegacy                  12\n",
       "ducatiVariants                12\n",
       "abs                           11\n",
       "torque                        11\n",
       "vibrations                    11\n",
       "cylinders                     10\n",
       "airCooled                     10\n",
       "warranty                      10\n",
       "hazardLights                   6\n",
       "kickstart                      5\n",
       "competition                    4\n",
       "Name: intent, dtype: int64"
      ]
     },
     "execution_count": 5,
     "metadata": {},
     "output_type": "execute_result"
    }
   ],
   "source": [
    "data['intent'].value_counts()"
   ]
  },
  {
   "cell_type": "code",
   "execution_count": 6,
   "metadata": {
    "scrolled": true
   },
   "outputs": [
    {
     "data": {
      "text/plain": [
       "<AxesSubplot:>"
      ]
     },
     "execution_count": 6,
     "metadata": {},
     "output_type": "execute_result"
    },
    {
     "data": {
      "image/png": "[encoded data removed]",
      "text/plain": [
       "<Figure size 960x640 with 1 Axes>"
      ]
     },
     "metadata": {
      "needs_background": "light"
     },
     "output_type": "display_data"
    }
   ],
   "source": [
    "figure(figsize=(12, 8), dpi=80)\n",
    "data['intent'].value_counts().plot(kind='bar')"
   ]
  },
  {
   "cell_type": "code",
   "execution_count": 7,
   "metadata": {},
   "outputs": [
    {
     "name": "stdout",
     "output_type": "stream",
     "text": [
      "Average word count--  4.787978142076502\n"
     ]
    }
   ],
   "source": [
    "sentence_list = data['message'].tolist()\n",
    "word_count = 0\n",
    "for sentence in sentence_list:\n",
    "    word_count+=len(sentence.split(\" \"))\n",
    "average_word_count = word_count/data.shape[0]\n",
    "print(\"Average word count-- \",average_word_count)"
   ]
  },
  {
   "cell_type": "markdown",
   "metadata": {},
   "source": [
    "# Data Preprocessing\n",
    "\n",
    "1. It includes cleaning the text i.e removing non alphabetic characters and converting the text to lower case etc.\n",
    "\n",
    "### Note ###\n",
    "1. Not removing stopwords here as the text size is already small and removing it degrades model performance"
   ]
  },
  {
   "cell_type": "code",
   "execution_count": 8,
   "metadata": {},
   "outputs": [],
   "source": [
    "# function for text cleaning \n",
    "def clean_text(text):\n",
    "    # remove backslash-apostrophe \n",
    "    text = re.sub(\"\\'\", \"\", text) \n",
    "    # remove everything except alphabets \n",
    "    text = re.sub(\"[^a-zA-Z]\",\" \",text) \n",
    "    # remove whitespaces \n",
    "    text = ' '.join(text.split()) \n",
    "    # convert text to lowercase \n",
    "    text = text.lower() \n",
    "    \n",
    "    return text\n",
    "\n",
    "data['message'] = data['message'].apply(lambda x:clean_text(x))\n"
   ]
  },
  {
   "cell_type": "markdown",
   "metadata": {},
   "source": [
    "# Data preparation\n",
    "\n",
    "1. It involves encoding the data class label into multiclass label form\n",
    "2. Creating the TF IDF vectorizer"
   ]
  },
  {
   "cell_type": "code",
   "execution_count": 9,
   "metadata": {},
   "outputs": [],
   "source": [
    "for i in range(data.shape[0]):\n",
    "    data.iloc[i,0] = [data.iloc[i,0]]\n",
    "    \n",
    "multilabel = MultiLabelBinarizer()\n",
    "y = multilabel.fit_transform(data['intent'])"
   ]
  },
  {
   "cell_type": "code",
   "execution_count": 10,
   "metadata": {
    "scrolled": true
   },
   "outputs": [
    {
     "data": {
      "text/plain": [
       "array(['Apparel', 'Headlamps', 'abs', 'airCooled', 'battery',\n",
       "       'bookTestRide', 'bookingAmount', 'braking', 'bs6', 'comfort',\n",
       "       'competition', 'complaints', 'cylinders', 'downloadWallpapers',\n",
       "       'ducati', 'ducatiApp', 'ducatiAvailabilityDelivery',\n",
       "       'ducatiColours', 'ducatiFeatures', 'ducatiFinance', 'ducatiLegacy',\n",
       "       'ducatiPrice', 'ducatiVariants', 'engine', 'engineDisplacement',\n",
       "       'exchangeOptions', 'faceFilters', 'fuelCapacity', 'gma',\n",
       "       'groundClearance', 'hazardLights', 'instrumentCluster',\n",
       "       'kickstart', 'launchSignup', 'locateDealer', 'longStrokeengine',\n",
       "       'mileage', 'miy', 'newDesign', 'newFrame', 'power', 'rsa',\n",
       "       'safetyMeasuresCovid', 'seatHeight', 'serviceCost',\n",
       "       'tbtNavigation', 'topSpeed', 'torque', 'triumph', 'tubelessTyres',\n",
       "       'upgrade', 'usbPort', 'vibrations', 'warranty', 'windscreen'],\n",
       "      dtype=object)"
      ]
     },
     "execution_count": 10,
     "metadata": {},
     "output_type": "execute_result"
    }
   ],
   "source": [
    "multilabel.classes_"
   ]
  },
  {
   "cell_type": "code",
   "execution_count": 11,
   "metadata": {
    "scrolled": true
   },
   "outputs": [
    {
     "name": "stdout",
     "output_type": "stream",
     "text": [
      "(915, 1500) (915, 55)\n"
     ]
    }
   ],
   "source": [
    "# using tfidf vectorizer for feature extraction as no embedding can be used \n",
    "# also with small data samples no good embedding can be created\n",
    "tfidf = TfidfVectorizer(analyzer='word', max_features=1500, ngram_range=(1,3), stop_words='english')\n",
    "X = tfidf.fit_transform(data['message'])\n",
    "print(X.shape, y.shape)"
   ]
  },
  {
   "cell_type": "markdown",
   "metadata": {},
   "source": [
    "# Model Training\n",
    "\n",
    "1. We first split the dataset in 60:40 ratio as asked in document\n",
    "2. We use three classifiers\n",
    "        * SGD Classifier\n",
    "        * SVM with Linear kernel\n",
    "        * Decision Tree \n",
    "3. Do the model training on 60% of the samples and testing on 40% of samples and generate metrics report"
   ]
  },
  {
   "cell_type": "code",
   "execution_count": 12,
   "metadata": {},
   "outputs": [],
   "source": [
    "#splitting into 60:40 ratio as per assignment\n",
    "X_train, X_test, y_train, y_test = train_test_split(X, y, test_size = 0.4)"
   ]
  },
  {
   "cell_type": "code",
   "execution_count": 13,
   "metadata": {},
   "outputs": [],
   "source": [
    "sgd = SGDClassifier()\n",
    "svc = LinearSVC()\n",
    "decision_tree = DecisionTreeClassifier()"
   ]
  },
  {
   "cell_type": "code",
   "execution_count": 14,
   "metadata": {},
   "outputs": [],
   "source": [
    "from sklearn.metrics import accuracy_score,hamming_loss,precision_score,recall_score,f1_score\n",
    "def print_metrics_report(clf,y_test,y_pred):\n",
    "    print(\"Clf: \", clf.__class__.__name__)\n",
    "    print('Exact Match Ratio: {0}'.format(np.round(accuracy_score(y_test, y_pred, normalize=True, sample_weight=None)*100,2)))\n",
    "\n",
    "    print('Hamming loss: {0}'.format(np.round(hamming_loss(y_test, y_pred)*100,2))) \n",
    "    print('Recall: {0}'.format(np.round(precision_score(y_test, y_pred, average='micro')*100,2)))\n",
    "    print('Precision: {0}'.format(np.round(recall_score(y_test,y_pred, average='micro')*100,2)))\n",
    "    print('F1 Measure: {0}'.format(np.round(f1_score(y_test, y_pred, average='micro')*100,2))) \n",
    "    print('-------------')\n",
    "    print(\"\")"
   ]
  },
  {
   "cell_type": "code",
   "execution_count": 28,
   "metadata": {
    "scrolled": false
   },
   "outputs": [
    {
     "name": "stdout",
     "output_type": "stream",
     "text": [
      "Clf:  LinearSVC\n",
      "Exact Match Ratio: 46.72\n",
      "Hamming loss: 1.05\n",
      "Recall: 90.16\n",
      "Precision: 47.54\n",
      "F1 Measure: 62.25\n",
      "-------------\n",
      "\n",
      "Clf:  SGDClassifier\n",
      "Exact Match Ratio: 60.93\n",
      "Hamming loss: 0.85\n",
      "Recall: 84.45\n",
      "Precision: 65.3\n",
      "F1 Measure: 73.65\n",
      "-------------\n",
      "\n",
      "Clf:  DecisionTreeClassifier\n",
      "Exact Match Ratio: 60.66\n",
      "Hamming loss: 0.87\n",
      "Recall: 81.52\n",
      "Precision: 67.49\n",
      "F1 Measure: 73.84\n",
      "-------------\n",
      "\n"
     ]
    }
   ],
   "source": [
    "for classifier in [svc,sgd,decision_tree]:\n",
    "    clf = OneVsRestClassifier(classifier)\n",
    "    clf.fit(X_train, y_train)\n",
    "    y_pred = clf.predict(X_test)\n",
    "    print_metrics_report(classifier,y_test,y_pred)"
   ]
  },
  {
   "cell_type": "markdown",
   "metadata": {},
   "source": [
    "# Hyperparameter Tuning"
   ]
  },
  {
   "cell_type": "code",
   "execution_count": 16,
   "metadata": {},
   "outputs": [],
   "source": [
    "# Hyper parameters range intialization for tuning \n",
    "\n",
    "parameters={\n",
    "    \"estimator__splitter\":[\"best\",\"random\"],\n",
    "            \"estimator__max_depth\" : [1,9,17,24],\n",
    "           \"estimator__min_samples_leaf\":[1,3,5],\n",
    "#            \"min_weight_fraction_leaf\":[0.1,0.2,0.3,0.4,0.5,0.6,0.7,0.8,0.9],\n",
    "           \"estimator__max_features\":[\"auto\",\"sqrt\",None],\n",
    "           \"estimator__max_leaf_nodes\":[None,10,20,30,40,50,70] \n",
    "           }"
   ]
  },
  {
   "cell_type": "code",
   "execution_count": 17,
   "metadata": {},
   "outputs": [
    {
     "name": "stdout",
     "output_type": "stream",
     "text": [
      "Fitting 3 folds for each of 504 candidates, totalling 1512 fits\n",
      "[CV] estimator__max_depth=1, estimator__max_features=auto, estimator__max_leaf_nodes=None, estimator__min_samples_leaf=1, estimator__splitter=best \n",
      "[CV]  estimator__max_depth=1, estimator__max_features=auto, estimator__max_leaf_nodes=None, estimator__min_samples_leaf=1, estimator__splitter=best, score=-0.018, total=   0.1s\n",
      "[CV] estimator__max_depth=1, estimator__max_features=auto, estimator__max_leaf_nodes=None, estimator__min_samples_leaf=1, estimator__splitter=best \n",
      "[CV]  estimator__max_depth=1, estimator__max_features=auto, estimator__max_leaf_nodes=None, estimator__min_samples_leaf=1, estimator__splitter=best, score=-0.018, total=   0.1s\n",
      "[CV] estimator__max_depth=1, estimator__max_features=auto, estimator__max_leaf_nodes=None, estimator__min_samples_leaf=1, estimator__splitter=best \n"
     ]
    },
    {
     "name": "stderr",
     "output_type": "stream",
     "text": [
      "[Parallel(n_jobs=1)]: Using backend SequentialBackend with 1 concurrent workers.\n",
      "/home/abhinav/anaconda3/lib/python3.8/site-packages/sklearn/multiclass.py:76: UserWarning: Label not 10 is present in all training examples.\n",
      "  warnings.warn(\"Label %s is present in all training examples.\" %\n",
      "[Parallel(n_jobs=1)]: Done   1 out of   1 | elapsed:    0.1s remaining:    0.0s\n",
      "[Parallel(n_jobs=1)]: Done   2 out of   2 | elapsed:    0.1s remaining:    0.0s\n"
     ]
    },
    {
     "name": "stdout",
     "output_type": "stream",
     "text": [
      "[CV]  estimator__max_depth=1, estimator__max_features=auto, estimator__max_leaf_nodes=None, estimator__min_samples_leaf=1, estimator__splitter=best, score=-0.018, total=   0.1s\n",
      "[CV] estimator__max_depth=1, estimator__max_features=auto, estimator__max_leaf_nodes=None, estimator__min_samples_leaf=1, estimator__splitter=random \n",
      "[CV]  estimator__max_depth=1, estimator__max_features=auto, estimator__max_leaf_nodes=None, estimator__min_samples_leaf=1, estimator__splitter=random, score=-0.018, total=   0.1s\n",
      "[CV] estimator__max_depth=1, estimator__max_features=auto, estimator__max_leaf_nodes=None, estimator__min_samples_leaf=1, estimator__splitter=random \n",
      "[CV]  estimator__max_depth=1, estimator__max_features=auto, estimator__max_leaf_nodes=None, estimator__min_samples_leaf=1, estimator__splitter=random, score=-0.018, total=   0.1s\n",
      "[CV] estimator__max_depth=1, estimator__max_features=auto, estimator__max_leaf_nodes=None, estimator__min_samples_leaf=1, estimator__splitter=random \n"
     ]
    },
    {
     "name": "stderr",
     "output_type": "stream",
     "text": [
      "/home/abhinav/anaconda3/lib/python3.8/site-packages/sklearn/multiclass.py:76: UserWarning: Label not 10 is present in all training examples.\n",
      "  warnings.warn(\"Label %s is present in all training examples.\" %\n"
     ]
    },
    {
     "name": "stdout",
     "output_type": "stream",
     "text": [
      "[CV]  estimator__max_depth=1, estimator__max_features=auto, estimator__max_leaf_nodes=None, estimator__min_samples_leaf=1, estimator__splitter=random, score=-0.018, total=   0.1s\n",
      "[CV] estimator__max_depth=1, estimator__max_features=auto, estimator__max_leaf_nodes=None, estimator__min_samples_leaf=3, estimator__splitter=best \n",
      "[CV]  estimator__max_depth=1, estimator__max_features=auto, estimator__max_leaf_nodes=None, estimator__min_samples_leaf=3, estimator__splitter=best, score=-0.018, total=   0.1s\n",
      "[CV] estimator__max_depth=1, estimator__max_features=auto, estimator__max_leaf_nodes=None, estimator__min_samples_leaf=3, estimator__splitter=best \n",
      "[CV]  estimator__max_depth=1, estimator__max_features=auto, estimator__max_leaf_nodes=None, estimator__min_samples_leaf=3, estimator__splitter=best, score=-0.018, total=   0.1s\n",
      "[CV] estimator__max_depth=1, estimator__max_features=auto, estimator__max_leaf_nodes=None, estimator__min_samples_leaf=3, estimator__splitter=best \n"
     ]
    },
    {
     "name": "stderr",
     "output_type": "stream",
     "text": [
      "/home/abhinav/anaconda3/lib/python3.8/site-packages/sklearn/multiclass.py:76: UserWarning: Label not 10 is present in all training examples.\n",
      "  warnings.warn(\"Label %s is present in all training examples.\" %\n"
     ]
    },
    {
     "name": "stdout",
     "output_type": "stream",
     "text": [
      "[CV]  estimator__max_depth=1, estimator__max_features=auto, estimator__max_leaf_nodes=None, estimator__min_samples_leaf=3, estimator__splitter=best, score=-0.017, total=   0.1s\n",
      "[CV] estimator__max_depth=1, estimator__max_features=auto, estimator__max_leaf_nodes=None, estimator__min_samples_leaf=3, estimator__splitter=random \n",
      "[CV]  estimator__max_depth=1, estimator__max_features=auto, estimator__max_leaf_nodes=None, estimator__min_samples_leaf=3, estimator__splitter=random, score=-0.018, total=   0.1s\n",
      "[CV] estimator__max_depth=1, estimator__max_features=auto, estimator__max_leaf_nodes=None, estimator__min_samples_leaf=3, estimator__splitter=random \n",
      "[CV]  estimator__max_depth=1, estimator__max_features=auto, estimator__max_leaf_nodes=None, estimator__min_samples_leaf=3, estimator__splitter=random, score=-0.018, total=   0.1s\n",
      "[CV] estimator__max_depth=1, estimator__max_features=auto, estimator__max_leaf_nodes=None, estimator__min_samples_leaf=3, estimator__splitter=random \n",
      "[CV]  estimator__max_depth=1, estimator__max_features=auto, estimator__max_leaf_nodes=None, estimator__min_samples_leaf=3, estimator__splitter=random, score=-0.018, total=   0.1s\n",
      "[CV] estimator__max_depth=1, estimator__max_features=auto, estimator__max_leaf_nodes=None, estimator__min_samples_leaf=5, estimator__splitter=best \n"
     ]
    },
    {
     "name": "stderr",
     "output_type": "stream",
     "text": [
      "/home/abhinav/anaconda3/lib/python3.8/site-packages/sklearn/multiclass.py:76: UserWarning: Label not 10 is present in all training examples.\n",
      "  warnings.warn(\"Label %s is present in all training examples.\" %\n",
      "/home/abhinav/anaconda3/lib/python3.8/site-packages/sklearn/multiclass.py:76: UserWarning: Label not 10 is present in all training examples.\n",
      "  warnings.warn(\"Label %s is present in all training examples.\" %\n"
     ]
    },
    {
     "name": "stdout",
     "output_type": "stream",
     "text": [
      "[CV]  estimator__max_depth=1, estimator__max_features=auto, estimator__max_leaf_nodes=None, estimator__min_samples_leaf=5, estimator__splitter=best, score=-0.018, total=   0.1s\n",
      "[CV] estimator__max_depth=1, estimator__max_features=auto, estimator__max_leaf_nodes=None, estimator__min_samples_leaf=5, estimator__splitter=best \n",
      "[CV]  estimator__max_depth=1, estimator__max_features=auto, estimator__max_leaf_nodes=None, estimator__min_samples_leaf=5, estimator__splitter=best, score=-0.018, total=   0.1s\n",
      "[CV] estimator__max_depth=1, estimator__max_features=auto, estimator__max_leaf_nodes=None, estimator__min_samples_leaf=5, estimator__splitter=best \n",
      "[CV]  estimator__max_depth=1, estimator__max_features=auto, estimator__max_leaf_nodes=None, estimator__min_samples_leaf=5, estimator__splitter=best, score=-0.018, total=   0.1s\n",
      "[CV] estimator__max_depth=1, estimator__max_features=auto, estimator__max_leaf_nodes=None, estimator__min_samples_leaf=5, estimator__splitter=random \n"
     ]
    },
    {
     "name": "stderr",
     "output_type": "stream",
     "text": [
      "/home/abhinav/anaconda3/lib/python3.8/site-packages/sklearn/multiclass.py:76: UserWarning: Label not 10 is present in all training examples.\n",
      "  warnings.warn(\"Label %s is present in all training examples.\" %\n"
     ]
    },
    {
     "name": "stdout",
     "output_type": "stream",
     "text": [
      "[CV]  estimator__max_depth=1, estimator__max_features=auto, estimator__max_leaf_nodes=None, estimator__min_samples_leaf=5, estimator__splitter=random, score=-0.018, total=   0.1s\n",
      "[CV] estimator__max_depth=1, estimator__max_features=auto, estimator__max_leaf_nodes=None, estimator__min_samples_leaf=5, estimator__splitter=random \n",
      "[CV]  estimator__max_depth=1, estimator__max_features=auto, estimator__max_leaf_nodes=None, estimator__min_samples_leaf=5, estimator__splitter=random, score=-0.018, total=   0.1s\n",
      "[CV] estimator__max_depth=1, estimator__max_features=auto, estimator__max_leaf_nodes=None, estimator__min_samples_leaf=5, estimator__splitter=random \n",
      "[CV]  estimator__max_depth=1, estimator__max_features=auto, estimator__max_leaf_nodes=None, estimator__min_samples_leaf=5, estimator__splitter=random, score=-0.018, total=   0.1s\n",
      "[CV] estimator__max_depth=1, estimator__max_features=auto, estimator__max_leaf_nodes=10, estimator__min_samples_leaf=1, estimator__splitter=best \n"
     ]
    },
    {
     "name": "stderr",
     "output_type": "stream",
     "text": [
      "/home/abhinav/anaconda3/lib/python3.8/site-packages/sklearn/multiclass.py:76: UserWarning: Label not 10 is present in all training examples.\n",
      "  warnings.warn(\"Label %s is present in all training examples.\" %\n"
     ]
    },
    {
     "name": "stdout",
     "output_type": "stream",
     "text": [
      "[CV]  estimator__max_depth=1, estimator__max_features=auto, estimator__max_leaf_nodes=10, estimator__min_samples_leaf=1, estimator__splitter=best, score=-0.018, total=   0.1s\n",
      "[CV] estimator__max_depth=1, estimator__max_features=auto, estimator__max_leaf_nodes=10, estimator__min_samples_leaf=1, estimator__splitter=best \n",
      "[CV]  estimator__max_depth=1, estimator__max_features=auto, estimator__max_leaf_nodes=10, estimator__min_samples_leaf=1, estimator__splitter=best, score=-0.018, total=   0.1s\n",
      "[CV] estimator__max_depth=1, estimator__max_features=auto, estimator__max_leaf_nodes=10, estimator__min_samples_leaf=1, estimator__splitter=best \n",
      "[CV]  estimator__max_depth=1, estimator__max_features=auto, estimator__max_leaf_nodes=10, estimator__min_samples_leaf=1, estimator__splitter=best, score=-0.018, total=   0.1s\n",
      "[CV] estimator__max_depth=1, estimator__max_features=auto, estimator__max_leaf_nodes=10, estimator__min_samples_leaf=1, estimator__splitter=random \n"
     ]
    },
    {
     "name": "stderr",
     "output_type": "stream",
     "text": [
      "/home/abhinav/anaconda3/lib/python3.8/site-packages/sklearn/multiclass.py:76: UserWarning: Label not 10 is present in all training examples.\n",
      "  warnings.warn(\"Label %s is present in all training examples.\" %\n"
     ]
    },
    {
     "name": "stdout",
     "output_type": "stream",
     "text": [
      "[CV]  estimator__max_depth=1, estimator__max_features=auto, estimator__max_leaf_nodes=10, estimator__min_samples_leaf=1, estimator__splitter=random, score=-0.018, total=   0.1s\n",
      "[CV] estimator__max_depth=1, estimator__max_features=auto, estimator__max_leaf_nodes=10, estimator__min_samples_leaf=1, estimator__splitter=random \n",
      "[CV]  estimator__max_depth=1, estimator__max_features=auto, estimator__max_leaf_nodes=10, estimator__min_samples_leaf=1, estimator__splitter=random, score=-0.018, total=   0.1s\n",
      "[CV] estimator__max_depth=1, estimator__max_features=auto, estimator__max_leaf_nodes=10, estimator__min_samples_leaf=1, estimator__splitter=random \n",
      "[CV]  estimator__max_depth=1, estimator__max_features=auto, estimator__max_leaf_nodes=10, estimator__min_samples_leaf=1, estimator__splitter=random, score=-0.018, total=   0.1s\n",
      "[CV] estimator__max_depth=1, estimator__max_features=auto, estimator__max_leaf_nodes=10, estimator__min_samples_leaf=3, estimator__splitter=best \n"
     ]
    },
    {
     "name": "stderr",
     "output_type": "stream",
     "text": [
      "/home/abhinav/anaconda3/lib/python3.8/site-packages/sklearn/multiclass.py:76: UserWarning: Label not 10 is present in all training examples.\n",
      "  warnings.warn(\"Label %s is present in all training examples.\" %\n"
     ]
    },
    {
     "name": "stdout",
     "output_type": "stream",
     "text": [
      "[CV]  estimator__max_depth=1, estimator__max_features=auto, estimator__max_leaf_nodes=10, estimator__min_samples_leaf=3, estimator__splitter=best, score=-0.018, total=   0.1s\n",
      "[CV] estimator__max_depth=1, estimator__max_features=auto, estimator__max_leaf_nodes=10, estimator__min_samples_leaf=3, estimator__splitter=best \n",
      "[CV]  estimator__max_depth=1, estimator__max_features=auto, estimator__max_leaf_nodes=10, estimator__min_samples_leaf=3, estimator__splitter=best, score=-0.018, total=   0.1s\n",
      "[CV] estimator__max_depth=1, estimator__max_features=auto, estimator__max_leaf_nodes=10, estimator__min_samples_leaf=3, estimator__splitter=best \n",
      "[CV]  estimator__max_depth=1, estimator__max_features=auto, estimator__max_leaf_nodes=10, estimator__min_samples_leaf=3, estimator__splitter=best, score=-0.018, total=   0.1s\n",
      "[CV] estimator__max_depth=1, estimator__max_features=auto, estimator__max_leaf_nodes=10, estimator__min_samples_leaf=3, estimator__splitter=random \n"
     ]
    },
    {
     "name": "stderr",
     "output_type": "stream",
     "text": [
      "/home/abhinav/anaconda3/lib/python3.8/site-packages/sklearn/multiclass.py:76: UserWarning: Label not 10 is present in all training examples.\n",
      "  warnings.warn(\"Label %s is present in all training examples.\" %\n"
     ]
    },
    {
     "name": "stdout",
     "output_type": "stream",
     "text": [
      "[CV]  estimator__max_depth=1, estimator__max_features=auto, estimator__max_leaf_nodes=10, estimator__min_samples_leaf=3, estimator__splitter=random, score=-0.018, total=   0.1s\n",
      "[CV] estimator__max_depth=1, estimator__max_features=auto, estimator__max_leaf_nodes=10, estimator__min_samples_leaf=3, estimator__splitter=random \n",
      "[CV]  estimator__max_depth=1, estimator__max_features=auto, estimator__max_leaf_nodes=10, estimator__min_samples_leaf=3, estimator__splitter=random, score=-0.018, total=   0.1s\n",
      "[CV] estimator__max_depth=1, estimator__max_features=auto, estimator__max_leaf_nodes=10, estimator__min_samples_leaf=3, estimator__splitter=random \n",
      "[CV]  estimator__max_depth=1, estimator__max_features=auto, estimator__max_leaf_nodes=10, estimator__min_samples_leaf=3, estimator__splitter=random, score=-0.018, total=   0.1s\n",
      "[CV] estimator__max_depth=1, estimator__max_features=auto, estimator__max_leaf_nodes=10, estimator__min_samples_leaf=5, estimator__splitter=best \n"
     ]
    },
    {
     "name": "stderr",
     "output_type": "stream",
     "text": [
      "/home/abhinav/anaconda3/lib/python3.8/site-packages/sklearn/multiclass.py:76: UserWarning: Label not 10 is present in all training examples.\n",
      "  warnings.warn(\"Label %s is present in all training examples.\" %\n"
     ]
    },
    {
     "name": "stdout",
     "output_type": "stream",
     "text": [
      "[CV]  estimator__max_depth=1, estimator__max_features=auto, estimator__max_leaf_nodes=10, estimator__min_samples_leaf=5, estimator__splitter=best, score=-0.018, total=   0.1s\n",
      "[CV] estimator__max_depth=1, estimator__max_features=auto, estimator__max_leaf_nodes=10, estimator__min_samples_leaf=5, estimator__splitter=best \n",
      "[CV]  estimator__max_depth=1, estimator__max_features=auto, estimator__max_leaf_nodes=10, estimator__min_samples_leaf=5, estimator__splitter=best, score=-0.018, total=   0.1s\n",
      "[CV] estimator__max_depth=1, estimator__max_features=auto, estimator__max_leaf_nodes=10, estimator__min_samples_leaf=5, estimator__splitter=best \n",
      "[CV]  estimator__max_depth=1, estimator__max_features=auto, estimator__max_leaf_nodes=10, estimator__min_samples_leaf=5, estimator__splitter=best, score=-0.018, total=   0.1s\n",
      "[CV] estimator__max_depth=1, estimator__max_features=auto, estimator__max_leaf_nodes=10, estimator__min_samples_leaf=5, estimator__splitter=random \n"
     ]
    },
    {
     "name": "stderr",
     "output_type": "stream",
     "text": [
      "/home/abhinav/anaconda3/lib/python3.8/site-packages/sklearn/multiclass.py:76: UserWarning: Label not 10 is present in all training examples.\n",
      "  warnings.warn(\"Label %s is present in all training examples.\" %\n"
     ]
    },
    {
     "name": "stdout",
     "output_type": "stream",
     "text": [
      "[CV]  estimator__max_depth=1, estimator__max_features=auto, estimator__max_leaf_nodes=10, estimator__min_samples_leaf=5, estimator__splitter=random, score=-0.018, total=   0.1s\n",
      "[CV] estimator__max_depth=1, estimator__max_features=auto, estimator__max_leaf_nodes=10, estimator__min_samples_leaf=5, estimator__splitter=random \n",
      "[CV]  estimator__max_depth=1, estimator__max_features=auto, estimator__max_leaf_nodes=10, estimator__min_samples_leaf=5, estimator__splitter=random, score=-0.018, total=   0.1s\n",
      "[CV] estimator__max_depth=1, estimator__max_features=auto, estimator__max_leaf_nodes=10, estimator__min_samples_leaf=5, estimator__splitter=random \n",
      "[CV]  estimator__max_depth=1, estimator__max_features=auto, estimator__max_leaf_nodes=10, estimator__min_samples_leaf=5, estimator__splitter=random, score=-0.018, total=   0.1s\n",
      "[CV] estimator__max_depth=1, estimator__max_features=auto, estimator__max_leaf_nodes=20, estimator__min_samples_leaf=1, estimator__splitter=best \n"
     ]
    },
    {
     "name": "stderr",
     "output_type": "stream",
     "text": [
      "/home/abhinav/anaconda3/lib/python3.8/site-packages/sklearn/multiclass.py:76: UserWarning: Label not 10 is present in all training examples.\n",
      "  warnings.warn(\"Label %s is present in all training examples.\" %\n"
     ]
    },
    {
     "name": "stdout",
     "output_type": "stream",
     "text": [
      "[CV]  estimator__max_depth=1, estimator__max_features=auto, estimator__max_leaf_nodes=20, estimator__min_samples_leaf=1, estimator__splitter=best, score=-0.017, total=   0.1s\n",
      "[CV] estimator__max_depth=1, estimator__max_features=auto, estimator__max_leaf_nodes=20, estimator__min_samples_leaf=1, estimator__splitter=best \n",
      "[CV]  estimator__max_depth=1, estimator__max_features=auto, estimator__max_leaf_nodes=20, estimator__min_samples_leaf=1, estimator__splitter=best, score=-0.018, total=   0.1s\n",
      "[CV] estimator__max_depth=1, estimator__max_features=auto, estimator__max_leaf_nodes=20, estimator__min_samples_leaf=1, estimator__splitter=best \n",
      "[CV]  estimator__max_depth=1, estimator__max_features=auto, estimator__max_leaf_nodes=20, estimator__min_samples_leaf=1, estimator__splitter=best, score=-0.018, total=   0.1s\n",
      "[CV] estimator__max_depth=1, estimator__max_features=auto, estimator__max_leaf_nodes=20, estimator__min_samples_leaf=1, estimator__splitter=random \n",
      "[CV]  estimator__max_depth=1, estimator__max_features=auto, estimator__max_leaf_nodes=20, estimator__min_samples_leaf=1, estimator__splitter=random, score=-0.018, total=   0.1s\n",
      "[CV] estimator__max_depth=1, estimator__max_features=auto, estimator__max_leaf_nodes=20, estimator__min_samples_leaf=1, estimator__splitter=random \n"
     ]
    },
    {
     "name": "stderr",
     "output_type": "stream",
     "text": [
      "/home/abhinav/anaconda3/lib/python3.8/site-packages/sklearn/multiclass.py:76: UserWarning: Label not 10 is present in all training examples.\n",
      "  warnings.warn(\"Label %s is present in all training examples.\" %\n"
     ]
    },
    {
     "name": "stdout",
     "output_type": "stream",
     "text": [
      "[CV]  estimator__max_depth=1, estimator__max_features=auto, estimator__max_leaf_nodes=20, estimator__min_samples_leaf=1, estimator__splitter=random, score=-0.018, total=   0.1s\n",
      "[CV] estimator__max_depth=1, estimator__max_features=auto, estimator__max_leaf_nodes=20, estimator__min_samples_leaf=1, estimator__splitter=random \n",
      "[CV]  estimator__max_depth=1, estimator__max_features=auto, estimator__max_leaf_nodes=20, estimator__min_samples_leaf=1, estimator__splitter=random, score=-0.018, total=   0.1s\n",
      "[CV] estimator__max_depth=1, estimator__max_features=auto, estimator__max_leaf_nodes=20, estimator__min_samples_leaf=3, estimator__splitter=best \n",
      "[CV]  estimator__max_depth=1, estimator__max_features=auto, estimator__max_leaf_nodes=20, estimator__min_samples_leaf=3, estimator__splitter=best, score=-0.018, total=   0.1s\n",
      "[CV] estimator__max_depth=1, estimator__max_features=auto, estimator__max_leaf_nodes=20, estimator__min_samples_leaf=3, estimator__splitter=best \n"
     ]
    },
    {
     "name": "stderr",
     "output_type": "stream",
     "text": [
      "/home/abhinav/anaconda3/lib/python3.8/site-packages/sklearn/multiclass.py:76: UserWarning: Label not 10 is present in all training examples.\n",
      "  warnings.warn(\"Label %s is present in all training examples.\" %\n"
     ]
    },
    {
     "name": "stdout",
     "output_type": "stream",
     "text": [
      "[CV]  estimator__max_depth=1, estimator__max_features=auto, estimator__max_leaf_nodes=20, estimator__min_samples_leaf=3, estimator__splitter=best, score=-0.018, total=   0.1s\n",
      "[CV] estimator__max_depth=1, estimator__max_features=auto, estimator__max_leaf_nodes=20, estimator__min_samples_leaf=3, estimator__splitter=best \n",
      "[CV]  estimator__max_depth=1, estimator__max_features=auto, estimator__max_leaf_nodes=20, estimator__min_samples_leaf=3, estimator__splitter=best, score=-0.018, total=   0.1s\n",
      "[CV] estimator__max_depth=1, estimator__max_features=auto, estimator__max_leaf_nodes=20, estimator__min_samples_leaf=3, estimator__splitter=random \n",
      "[CV]  estimator__max_depth=1, estimator__max_features=auto, estimator__max_leaf_nodes=20, estimator__min_samples_leaf=3, estimator__splitter=random, score=-0.018, total=   0.1s\n",
      "[CV] estimator__max_depth=1, estimator__max_features=auto, estimator__max_leaf_nodes=20, estimator__min_samples_leaf=3, estimator__splitter=random \n"
     ]
    },
    {
     "name": "stderr",
     "output_type": "stream",
     "text": [
      "/home/abhinav/anaconda3/lib/python3.8/site-packages/sklearn/multiclass.py:76: UserWarning: Label not 10 is present in all training examples.\n",
      "  warnings.warn(\"Label %s is present in all training examples.\" %\n"
     ]
    },
    {
     "name": "stdout",
     "output_type": "stream",
     "text": [
      "[CV]  estimator__max_depth=1, estimator__max_features=auto, estimator__max_leaf_nodes=20, estimator__min_samples_leaf=3, estimator__splitter=random, score=-0.018, total=   0.1s\n",
      "[CV] estimator__max_depth=1, estimator__max_features=auto, estimator__max_leaf_nodes=20, estimator__min_samples_leaf=3, estimator__splitter=random \n",
      "[CV]  estimator__max_depth=1, estimator__max_features=auto, estimator__max_leaf_nodes=20, estimator__min_samples_leaf=3, estimator__splitter=random, score=-0.018, total=   0.1s\n",
      "[CV] estimator__max_depth=1, estimator__max_features=auto, estimator__max_leaf_nodes=20, estimator__min_samples_leaf=5, estimator__splitter=best \n",
      "[CV]  estimator__max_depth=1, estimator__max_features=auto, estimator__max_leaf_nodes=20, estimator__min_samples_leaf=5, estimator__splitter=best, score=-0.018, total=   0.1s\n",
      "[CV] estimator__max_depth=1, estimator__max_features=auto, estimator__max_leaf_nodes=20, estimator__min_samples_leaf=5, estimator__splitter=best \n"
     ]
    },
    {
     "name": "stderr",
     "output_type": "stream",
     "text": [
      "/home/abhinav/anaconda3/lib/python3.8/site-packages/sklearn/multiclass.py:76: UserWarning: Label not 10 is present in all training examples.\n",
      "  warnings.warn(\"Label %s is present in all training examples.\" %\n"
     ]
    },
    {
     "name": "stdout",
     "output_type": "stream",
     "text": [
      "[CV]  estimator__max_depth=1, estimator__max_features=auto, estimator__max_leaf_nodes=20, estimator__min_samples_leaf=5, estimator__splitter=best, score=-0.018, total=   0.1s\n",
      "[CV] estimator__max_depth=1, estimator__max_features=auto, estimator__max_leaf_nodes=20, estimator__min_samples_leaf=5, estimator__splitter=best \n",
      "[CV]  estimator__max_depth=1, estimator__max_features=auto, estimator__max_leaf_nodes=20, estimator__min_samples_leaf=5, estimator__splitter=best, score=-0.018, total=   0.1s\n",
      "[CV] estimator__max_depth=1, estimator__max_features=auto, estimator__max_leaf_nodes=20, estimator__min_samples_leaf=5, estimator__splitter=random \n",
      "[CV]  estimator__max_depth=1, estimator__max_features=auto, estimator__max_leaf_nodes=20, estimator__min_samples_leaf=5, estimator__splitter=random, score=-0.018, total=   0.1s\n",
      "[CV] estimator__max_depth=1, estimator__max_features=auto, estimator__max_leaf_nodes=20, estimator__min_samples_leaf=5, estimator__splitter=random \n"
     ]
    },
    {
     "name": "stderr",
     "output_type": "stream",
     "text": [
      "/home/abhinav/anaconda3/lib/python3.8/site-packages/sklearn/multiclass.py:76: UserWarning: Label not 10 is present in all training examples.\n",
      "  warnings.warn(\"Label %s is present in all training examples.\" %\n"
     ]
    },
    {
     "name": "stdout",
     "output_type": "stream",
     "text": [
      "[CV]  estimator__max_depth=1, estimator__max_features=auto, estimator__max_leaf_nodes=20, estimator__min_samples_leaf=5, estimator__splitter=random, score=-0.018, total=   0.1s\n",
      "[CV] estimator__max_depth=1, estimator__max_features=auto, estimator__max_leaf_nodes=20, estimator__min_samples_leaf=5, estimator__splitter=random \n",
      "[CV]  estimator__max_depth=1, estimator__max_features=auto, estimator__max_leaf_nodes=20, estimator__min_samples_leaf=5, estimator__splitter=random, score=-0.018, total=   0.1s\n",
      "[CV] estimator__max_depth=1, estimator__max_features=auto, estimator__max_leaf_nodes=30, estimator__min_samples_leaf=1, estimator__splitter=best \n",
      "[CV]  estimator__max_depth=1, estimator__max_features=auto, estimator__max_leaf_nodes=30, estimator__min_samples_leaf=1, estimator__splitter=best, score=-0.018, total=   0.1s\n",
      "[CV] estimator__max_depth=1, estimator__max_features=auto, estimator__max_leaf_nodes=30, estimator__min_samples_leaf=1, estimator__splitter=best \n"
     ]
    },
    {
     "name": "stderr",
     "output_type": "stream",
     "text": [
      "/home/abhinav/anaconda3/lib/python3.8/site-packages/sklearn/multiclass.py:76: UserWarning: Label not 10 is present in all training examples.\n",
      "  warnings.warn(\"Label %s is present in all training examples.\" %\n"
     ]
    },
    {
     "name": "stdout",
     "output_type": "stream",
     "text": [
      "[CV]  estimator__max_depth=1, estimator__max_features=auto, estimator__max_leaf_nodes=30, estimator__min_samples_leaf=1, estimator__splitter=best, score=-0.019, total=   0.1s\n",
      "[CV] estimator__max_depth=1, estimator__max_features=auto, estimator__max_leaf_nodes=30, estimator__min_samples_leaf=1, estimator__splitter=best \n",
      "[CV]  estimator__max_depth=1, estimator__max_features=auto, estimator__max_leaf_nodes=30, estimator__min_samples_leaf=1, estimator__splitter=best, score=-0.018, total=   0.1s\n",
      "[CV] estimator__max_depth=1, estimator__max_features=auto, estimator__max_leaf_nodes=30, estimator__min_samples_leaf=1, estimator__splitter=random \n",
      "[CV]  estimator__max_depth=1, estimator__max_features=auto, estimator__max_leaf_nodes=30, estimator__min_samples_leaf=1, estimator__splitter=random, score=-0.018, total=   0.1s\n",
      "[CV] estimator__max_depth=1, estimator__max_features=auto, estimator__max_leaf_nodes=30, estimator__min_samples_leaf=1, estimator__splitter=random \n"
     ]
    },
    {
     "name": "stderr",
     "output_type": "stream",
     "text": [
      "/home/abhinav/anaconda3/lib/python3.8/site-packages/sklearn/multiclass.py:76: UserWarning: Label not 10 is present in all training examples.\n",
      "  warnings.warn(\"Label %s is present in all training examples.\" %\n"
     ]
    },
    {
     "name": "stdout",
     "output_type": "stream",
     "text": [
      "[CV]  estimator__max_depth=1, estimator__max_features=auto, estimator__max_leaf_nodes=30, estimator__min_samples_leaf=1, estimator__splitter=random, score=-0.018, total=   0.1s\n",
      "[CV] estimator__max_depth=1, estimator__max_features=auto, estimator__max_leaf_nodes=30, estimator__min_samples_leaf=1, estimator__splitter=random \n",
      "[CV]  estimator__max_depth=1, estimator__max_features=auto, estimator__max_leaf_nodes=30, estimator__min_samples_leaf=1, estimator__splitter=random, score=-0.018, total=   0.1s\n",
      "[CV] estimator__max_depth=1, estimator__max_features=auto, estimator__max_leaf_nodes=30, estimator__min_samples_leaf=3, estimator__splitter=best \n",
      "[CV]  estimator__max_depth=1, estimator__max_features=auto, estimator__max_leaf_nodes=30, estimator__min_samples_leaf=3, estimator__splitter=best, score=-0.017, total=   0.1s\n",
      "[CV] estimator__max_depth=1, estimator__max_features=auto, estimator__max_leaf_nodes=30, estimator__min_samples_leaf=3, estimator__splitter=best \n"
     ]
    },
    {
     "name": "stderr",
     "output_type": "stream",
     "text": [
      "/home/abhinav/anaconda3/lib/python3.8/site-packages/sklearn/multiclass.py:76: UserWarning: Label not 10 is present in all training examples.\n",
      "  warnings.warn(\"Label %s is present in all training examples.\" %\n"
     ]
    },
    {
     "name": "stdout",
     "output_type": "stream",
     "text": [
      "[CV]  estimator__max_depth=1, estimator__max_features=auto, estimator__max_leaf_nodes=30, estimator__min_samples_leaf=3, estimator__splitter=best, score=-0.018, total=   0.1s\n",
      "[CV] estimator__max_depth=1, estimator__max_features=auto, estimator__max_leaf_nodes=30, estimator__min_samples_leaf=3, estimator__splitter=best \n",
      "[CV]  estimator__max_depth=1, estimator__max_features=auto, estimator__max_leaf_nodes=30, estimator__min_samples_leaf=3, estimator__splitter=best, score=-0.018, total=   0.1s\n",
      "[CV] estimator__max_depth=1, estimator__max_features=auto, estimator__max_leaf_nodes=30, estimator__min_samples_leaf=3, estimator__splitter=random \n",
      "[CV]  estimator__max_depth=1, estimator__max_features=auto, estimator__max_leaf_nodes=30, estimator__min_samples_leaf=3, estimator__splitter=random, score=-0.018, total=   0.1s\n",
      "[CV] estimator__max_depth=1, estimator__max_features=auto, estimator__max_leaf_nodes=30, estimator__min_samples_leaf=3, estimator__splitter=random \n"
     ]
    },
    {
     "name": "stderr",
     "output_type": "stream",
     "text": [
      "/home/abhinav/anaconda3/lib/python3.8/site-packages/sklearn/multiclass.py:76: UserWarning: Label not 10 is present in all training examples.\n",
      "  warnings.warn(\"Label %s is present in all training examples.\" %\n"
     ]
    },
    {
     "name": "stdout",
     "output_type": "stream",
     "text": [
      "[CV]  estimator__max_depth=1, estimator__max_features=auto, estimator__max_leaf_nodes=30, estimator__min_samples_leaf=3, estimator__splitter=random, score=-0.018, total=   0.1s\n",
      "[CV] estimator__max_depth=1, estimator__max_features=auto, estimator__max_leaf_nodes=30, estimator__min_samples_leaf=3, estimator__splitter=random \n",
      "[CV]  estimator__max_depth=1, estimator__max_features=auto, estimator__max_leaf_nodes=30, estimator__min_samples_leaf=3, estimator__splitter=random, score=-0.018, total=   0.1s\n",
      "[CV] estimator__max_depth=1, estimator__max_features=auto, estimator__max_leaf_nodes=30, estimator__min_samples_leaf=5, estimator__splitter=best \n",
      "[CV]  estimator__max_depth=1, estimator__max_features=auto, estimator__max_leaf_nodes=30, estimator__min_samples_leaf=5, estimator__splitter=best, score=-0.018, total=   0.1s\n",
      "[CV] estimator__max_depth=1, estimator__max_features=auto, estimator__max_leaf_nodes=30, estimator__min_samples_leaf=5, estimator__splitter=best \n"
     ]
    },
    {
     "name": "stderr",
     "output_type": "stream",
     "text": [
      "/home/abhinav/anaconda3/lib/python3.8/site-packages/sklearn/multiclass.py:76: UserWarning: Label not 10 is present in all training examples.\n",
      "  warnings.warn(\"Label %s is present in all training examples.\" %\n"
     ]
    },
    {
     "name": "stdout",
     "output_type": "stream",
     "text": [
      "[CV]  estimator__max_depth=1, estimator__max_features=auto, estimator__max_leaf_nodes=30, estimator__min_samples_leaf=5, estimator__splitter=best, score=-0.018, total=   0.1s\n",
      "[CV] estimator__max_depth=1, estimator__max_features=auto, estimator__max_leaf_nodes=30, estimator__min_samples_leaf=5, estimator__splitter=best \n",
      "[CV]  estimator__max_depth=1, estimator__max_features=auto, estimator__max_leaf_nodes=30, estimator__min_samples_leaf=5, estimator__splitter=best, score=-0.018, total=   0.1s\n",
      "[CV] estimator__max_depth=1, estimator__max_features=auto, estimator__max_leaf_nodes=30, estimator__min_samples_leaf=5, estimator__splitter=random \n",
      "[CV]  estimator__max_depth=1, estimator__max_features=auto, estimator__max_leaf_nodes=30, estimator__min_samples_leaf=5, estimator__splitter=random, score=-0.018, total=   0.1s\n",
      "[CV] estimator__max_depth=1, estimator__max_features=auto, estimator__max_leaf_nodes=30, estimator__min_samples_leaf=5, estimator__splitter=random \n"
     ]
    },
    {
     "name": "stderr",
     "output_type": "stream",
     "text": [
      "/home/abhinav/anaconda3/lib/python3.8/site-packages/sklearn/multiclass.py:76: UserWarning: Label not 10 is present in all training examples.\n",
      "  warnings.warn(\"Label %s is present in all training examples.\" %\n"
     ]
    },
    {
     "name": "stdout",
     "output_type": "stream",
     "text": [
      "[CV]  estimator__max_depth=1, estimator__max_features=auto, estimator__max_leaf_nodes=30, estimator__min_samples_leaf=5, estimator__splitter=random, score=-0.018, total=   0.1s\n",
      "[CV] estimator__max_depth=1, estimator__max_features=auto, estimator__max_leaf_nodes=30, estimator__min_samples_leaf=5, estimator__splitter=random \n",
      "[CV]  estimator__max_depth=1, estimator__max_features=auto, estimator__max_leaf_nodes=30, estimator__min_samples_leaf=5, estimator__splitter=random, score=-0.018, total=   0.1s\n",
      "[CV] estimator__max_depth=1, estimator__max_features=auto, estimator__max_leaf_nodes=40, estimator__min_samples_leaf=1, estimator__splitter=best \n",
      "[CV]  estimator__max_depth=1, estimator__max_features=auto, estimator__max_leaf_nodes=40, estimator__min_samples_leaf=1, estimator__splitter=best, score=-0.017, total=   0.1s\n",
      "[CV] estimator__max_depth=1, estimator__max_features=auto, estimator__max_leaf_nodes=40, estimator__min_samples_leaf=1, estimator__splitter=best \n"
     ]
    },
    {
     "name": "stderr",
     "output_type": "stream",
     "text": [
      "/home/abhinav/anaconda3/lib/python3.8/site-packages/sklearn/multiclass.py:76: UserWarning: Label not 10 is present in all training examples.\n",
      "  warnings.warn(\"Label %s is present in all training examples.\" %\n"
     ]
    },
    {
     "name": "stdout",
     "output_type": "stream",
     "text": [
      "[CV]  estimator__max_depth=1, estimator__max_features=auto, estimator__max_leaf_nodes=40, estimator__min_samples_leaf=1, estimator__splitter=best, score=-0.018, total=   0.1s\n",
      "[CV] estimator__max_depth=1, estimator__max_features=auto, estimator__max_leaf_nodes=40, estimator__min_samples_leaf=1, estimator__splitter=best \n",
      "[CV]  estimator__max_depth=1, estimator__max_features=auto, estimator__max_leaf_nodes=40, estimator__min_samples_leaf=1, estimator__splitter=best, score=-0.018, total=   0.1s\n",
      "[CV] estimator__max_depth=1, estimator__max_features=auto, estimator__max_leaf_nodes=40, estimator__min_samples_leaf=1, estimator__splitter=random \n",
      "[CV]  estimator__max_depth=1, estimator__max_features=auto, estimator__max_leaf_nodes=40, estimator__min_samples_leaf=1, estimator__splitter=random, score=-0.018, total=   0.1s\n",
      "[CV] estimator__max_depth=1, estimator__max_features=auto, estimator__max_leaf_nodes=40, estimator__min_samples_leaf=1, estimator__splitter=random \n"
     ]
    },
    {
     "name": "stderr",
     "output_type": "stream",
     "text": [
      "/home/abhinav/anaconda3/lib/python3.8/site-packages/sklearn/multiclass.py:76: UserWarning: Label not 10 is present in all training examples.\n",
      "  warnings.warn(\"Label %s is present in all training examples.\" %\n"
     ]
    },
    {
     "name": "stdout",
     "output_type": "stream",
     "text": [
      "[CV]  estimator__max_depth=1, estimator__max_features=auto, estimator__max_leaf_nodes=40, estimator__min_samples_leaf=1, estimator__splitter=random, score=-0.018, total=   0.1s\n",
      "[CV] estimator__max_depth=1, estimator__max_features=auto, estimator__max_leaf_nodes=40, estimator__min_samples_leaf=1, estimator__splitter=random \n",
      "[CV]  estimator__max_depth=1, estimator__max_features=auto, estimator__max_leaf_nodes=40, estimator__min_samples_leaf=1, estimator__splitter=random, score=-0.018, total=   0.1s\n",
      "[CV] estimator__max_depth=1, estimator__max_features=auto, estimator__max_leaf_nodes=40, estimator__min_samples_leaf=3, estimator__splitter=best \n",
      "[CV]  estimator__max_depth=1, estimator__max_features=auto, estimator__max_leaf_nodes=40, estimator__min_samples_leaf=3, estimator__splitter=best, score=-0.018, total=   0.1s\n",
      "[CV] estimator__max_depth=1, estimator__max_features=auto, estimator__max_leaf_nodes=40, estimator__min_samples_leaf=3, estimator__splitter=best \n"
     ]
    },
    {
     "name": "stderr",
     "output_type": "stream",
     "text": [
      "/home/abhinav/anaconda3/lib/python3.8/site-packages/sklearn/multiclass.py:76: UserWarning: Label not 10 is present in all training examples.\n",
      "  warnings.warn(\"Label %s is present in all training examples.\" %\n"
     ]
    },
    {
     "name": "stdout",
     "output_type": "stream",
     "text": [
      "[CV]  estimator__max_depth=1, estimator__max_features=auto, estimator__max_leaf_nodes=40, estimator__min_samples_leaf=3, estimator__splitter=best, score=-0.018, total=   0.1s\n",
      "[CV] estimator__max_depth=1, estimator__max_features=auto, estimator__max_leaf_nodes=40, estimator__min_samples_leaf=3, estimator__splitter=best \n",
      "[CV]  estimator__max_depth=1, estimator__max_features=auto, estimator__max_leaf_nodes=40, estimator__min_samples_leaf=3, estimator__splitter=best, score=-0.018, total=   0.1s\n",
      "[CV] estimator__max_depth=1, estimator__max_features=auto, estimator__max_leaf_nodes=40, estimator__min_samples_leaf=3, estimator__splitter=random \n",
      "[CV]  estimator__max_depth=1, estimator__max_features=auto, estimator__max_leaf_nodes=40, estimator__min_samples_leaf=3, estimator__splitter=random, score=-0.018, total=   0.1s\n",
      "[CV] estimator__max_depth=1, estimator__max_features=auto, estimator__max_leaf_nodes=40, estimator__min_samples_leaf=3, estimator__splitter=random \n"
     ]
    },
    {
     "name": "stderr",
     "output_type": "stream",
     "text": [
      "/home/abhinav/anaconda3/lib/python3.8/site-packages/sklearn/multiclass.py:76: UserWarning: Label not 10 is present in all training examples.\n",
      "  warnings.warn(\"Label %s is present in all training examples.\" %\n"
     ]
    },
    {
     "name": "stdout",
     "output_type": "stream",
     "text": [
      "[CV]  estimator__max_depth=1, estimator__max_features=auto, estimator__max_leaf_nodes=40, estimator__min_samples_leaf=3, estimator__splitter=random, score=-0.018, total=   0.1s\n",
      "[CV] estimator__max_depth=1, estimator__max_features=auto, estimator__max_leaf_nodes=40, estimator__min_samples_leaf=3, estimator__splitter=random \n",
      "[CV]  estimator__max_depth=1, estimator__max_features=auto, estimator__max_leaf_nodes=40, estimator__min_samples_leaf=3, estimator__splitter=random, score=-0.018, total=   0.1s\n",
      "[CV] estimator__max_depth=1, estimator__max_features=auto, estimator__max_leaf_nodes=40, estimator__min_samples_leaf=5, estimator__splitter=best \n",
      "[CV]  estimator__max_depth=1, estimator__max_features=auto, estimator__max_leaf_nodes=40, estimator__min_samples_leaf=5, estimator__splitter=best, score=-0.018, total=   0.1s\n",
      "[CV] estimator__max_depth=1, estimator__max_features=auto, estimator__max_leaf_nodes=40, estimator__min_samples_leaf=5, estimator__splitter=best \n"
     ]
    },
    {
     "name": "stderr",
     "output_type": "stream",
     "text": [
      "/home/abhinav/anaconda3/lib/python3.8/site-packages/sklearn/multiclass.py:76: UserWarning: Label not 10 is present in all training examples.\n",
      "  warnings.warn(\"Label %s is present in all training examples.\" %\n"
     ]
    },
    {
     "name": "stdout",
     "output_type": "stream",
     "text": [
      "[CV]  estimator__max_depth=1, estimator__max_features=auto, estimator__max_leaf_nodes=40, estimator__min_samples_leaf=5, estimator__splitter=best, score=-0.018, total=   0.1s\n",
      "[CV] estimator__max_depth=1, estimator__max_features=auto, estimator__max_leaf_nodes=40, estimator__min_samples_leaf=5, estimator__splitter=best \n",
      "[CV]  estimator__max_depth=1, estimator__max_features=auto, estimator__max_leaf_nodes=40, estimator__min_samples_leaf=5, estimator__splitter=best, score=-0.018, total=   0.1s\n",
      "[CV] estimator__max_depth=1, estimator__max_features=auto, estimator__max_leaf_nodes=40, estimator__min_samples_leaf=5, estimator__splitter=random \n",
      "[CV]  estimator__max_depth=1, estimator__max_features=auto, estimator__max_leaf_nodes=40, estimator__min_samples_leaf=5, estimator__splitter=random, score=-0.018, total=   0.1s\n",
      "[CV] estimator__max_depth=1, estimator__max_features=auto, estimator__max_leaf_nodes=40, estimator__min_samples_leaf=5, estimator__splitter=random \n"
     ]
    },
    {
     "name": "stderr",
     "output_type": "stream",
     "text": [
      "/home/abhinav/anaconda3/lib/python3.8/site-packages/sklearn/multiclass.py:76: UserWarning: Label not 10 is present in all training examples.\n",
      "  warnings.warn(\"Label %s is present in all training examples.\" %\n"
     ]
    },
    {
     "name": "stdout",
     "output_type": "stream",
     "text": [
      "[CV]  estimator__max_depth=1, estimator__max_features=auto, estimator__max_leaf_nodes=40, estimator__min_samples_leaf=5, estimator__splitter=random, score=-0.018, total=   0.1s\n",
      "[CV] estimator__max_depth=1, estimator__max_features=auto, estimator__max_leaf_nodes=40, estimator__min_samples_leaf=5, estimator__splitter=random \n",
      "[CV]  estimator__max_depth=1, estimator__max_features=auto, estimator__max_leaf_nodes=40, estimator__min_samples_leaf=5, estimator__splitter=random, score=-0.018, total=   0.1s\n",
      "[CV] estimator__max_depth=1, estimator__max_features=auto, estimator__max_leaf_nodes=50, estimator__min_samples_leaf=1, estimator__splitter=best \n",
      "[CV]  estimator__max_depth=1, estimator__max_features=auto, estimator__max_leaf_nodes=50, estimator__min_samples_leaf=1, estimator__splitter=best, score=-0.018, total=   0.1s\n",
      "[CV] estimator__max_depth=1, estimator__max_features=auto, estimator__max_leaf_nodes=50, estimator__min_samples_leaf=1, estimator__splitter=best \n"
     ]
    },
    {
     "name": "stderr",
     "output_type": "stream",
     "text": [
      "/home/abhinav/anaconda3/lib/python3.8/site-packages/sklearn/multiclass.py:76: UserWarning: Label not 10 is present in all training examples.\n",
      "  warnings.warn(\"Label %s is present in all training examples.\" %\n"
     ]
    },
    {
     "name": "stdout",
     "output_type": "stream",
     "text": [
      "[CV]  estimator__max_depth=1, estimator__max_features=auto, estimator__max_leaf_nodes=50, estimator__min_samples_leaf=1, estimator__splitter=best, score=-0.018, total=   0.1s\n",
      "[CV] estimator__max_depth=1, estimator__max_features=auto, estimator__max_leaf_nodes=50, estimator__min_samples_leaf=1, estimator__splitter=best \n",
      "[CV]  estimator__max_depth=1, estimator__max_features=auto, estimator__max_leaf_nodes=50, estimator__min_samples_leaf=1, estimator__splitter=best, score=-0.018, total=   0.1s\n",
      "[CV] estimator__max_depth=1, estimator__max_features=auto, estimator__max_leaf_nodes=50, estimator__min_samples_leaf=1, estimator__splitter=random \n",
      "[CV]  estimator__max_depth=1, estimator__max_features=auto, estimator__max_leaf_nodes=50, estimator__min_samples_leaf=1, estimator__splitter=random, score=-0.018, total=   0.1s\n",
      "[CV] estimator__max_depth=1, estimator__max_features=auto, estimator__max_leaf_nodes=50, estimator__min_samples_leaf=1, estimator__splitter=random \n"
     ]
    },
    {
     "name": "stderr",
     "output_type": "stream",
     "text": [
      "/home/abhinav/anaconda3/lib/python3.8/site-packages/sklearn/multiclass.py:76: UserWarning: Label not 10 is present in all training examples.\n",
      "  warnings.warn(\"Label %s is present in all training examples.\" %\n"
     ]
    },
    {
     "name": "stdout",
     "output_type": "stream",
     "text": [
      "[CV]  estimator__max_depth=1, estimator__max_features=auto, estimator__max_leaf_nodes=50, estimator__min_samples_leaf=1, estimator__splitter=random, score=-0.017, total=   0.1s\n",
      "[CV] estimator__max_depth=1, estimator__max_features=auto, estimator__max_leaf_nodes=50, estimator__min_samples_leaf=1, estimator__splitter=random \n",
      "[CV]  estimator__max_depth=1, estimator__max_features=auto, estimator__max_leaf_nodes=50, estimator__min_samples_leaf=1, estimator__splitter=random, score=-0.018, total=   0.1s\n",
      "[CV] estimator__max_depth=1, estimator__max_features=auto, estimator__max_leaf_nodes=50, estimator__min_samples_leaf=3, estimator__splitter=best \n",
      "[CV]  estimator__max_depth=1, estimator__max_features=auto, estimator__max_leaf_nodes=50, estimator__min_samples_leaf=3, estimator__splitter=best, score=-0.018, total=   0.1s\n",
      "[CV] estimator__max_depth=1, estimator__max_features=auto, estimator__max_leaf_nodes=50, estimator__min_samples_leaf=3, estimator__splitter=best \n"
     ]
    },
    {
     "name": "stderr",
     "output_type": "stream",
     "text": [
      "/home/abhinav/anaconda3/lib/python3.8/site-packages/sklearn/multiclass.py:76: UserWarning: Label not 10 is present in all training examples.\n",
      "  warnings.warn(\"Label %s is present in all training examples.\" %\n"
     ]
    },
    {
     "name": "stdout",
     "output_type": "stream",
     "text": [
      "[CV]  estimator__max_depth=1, estimator__max_features=auto, estimator__max_leaf_nodes=50, estimator__min_samples_leaf=3, estimator__splitter=best, score=-0.018, total=   0.1s\n",
      "[CV] estimator__max_depth=1, estimator__max_features=auto, estimator__max_leaf_nodes=50, estimator__min_samples_leaf=3, estimator__splitter=best \n",
      "[CV]  estimator__max_depth=1, estimator__max_features=auto, estimator__max_leaf_nodes=50, estimator__min_samples_leaf=3, estimator__splitter=best, score=-0.018, total=   0.1s\n",
      "[CV] estimator__max_depth=1, estimator__max_features=auto, estimator__max_leaf_nodes=50, estimator__min_samples_leaf=3, estimator__splitter=random \n",
      "[CV]  estimator__max_depth=1, estimator__max_features=auto, estimator__max_leaf_nodes=50, estimator__min_samples_leaf=3, estimator__splitter=random, score=-0.018, total=   0.1s\n",
      "[CV] estimator__max_depth=1, estimator__max_features=auto, estimator__max_leaf_nodes=50, estimator__min_samples_leaf=3, estimator__splitter=random \n"
     ]
    },
    {
     "name": "stderr",
     "output_type": "stream",
     "text": [
      "/home/abhinav/anaconda3/lib/python3.8/site-packages/sklearn/multiclass.py:76: UserWarning: Label not 10 is present in all training examples.\n",
      "  warnings.warn(\"Label %s is present in all training examples.\" %\n"
     ]
    },
    {
     "name": "stdout",
     "output_type": "stream",
     "text": [
      "[CV]  estimator__max_depth=1, estimator__max_features=auto, estimator__max_leaf_nodes=50, estimator__min_samples_leaf=3, estimator__splitter=random, score=-0.018, total=   0.1s\n",
      "[CV] estimator__max_depth=1, estimator__max_features=auto, estimator__max_leaf_nodes=50, estimator__min_samples_leaf=3, estimator__splitter=random \n",
      "[CV]  estimator__max_depth=1, estimator__max_features=auto, estimator__max_leaf_nodes=50, estimator__min_samples_leaf=3, estimator__splitter=random, score=-0.018, total=   0.1s\n",
      "[CV] estimator__max_depth=1, estimator__max_features=auto, estimator__max_leaf_nodes=50, estimator__min_samples_leaf=5, estimator__splitter=best \n",
      "[CV]  estimator__max_depth=1, estimator__max_features=auto, estimator__max_leaf_nodes=50, estimator__min_samples_leaf=5, estimator__splitter=best, score=-0.018, total=   0.1s\n",
      "[CV] estimator__max_depth=1, estimator__max_features=auto, estimator__max_leaf_nodes=50, estimator__min_samples_leaf=5, estimator__splitter=best \n"
     ]
    },
    {
     "name": "stderr",
     "output_type": "stream",
     "text": [
      "/home/abhinav/anaconda3/lib/python3.8/site-packages/sklearn/multiclass.py:76: UserWarning: Label not 10 is present in all training examples.\n",
      "  warnings.warn(\"Label %s is present in all training examples.\" %\n"
     ]
    },
    {
     "name": "stdout",
     "output_type": "stream",
     "text": [
      "[CV]  estimator__max_depth=1, estimator__max_features=auto, estimator__max_leaf_nodes=50, estimator__min_samples_leaf=5, estimator__splitter=best, score=-0.018, total=   0.1s\n",
      "[CV] estimator__max_depth=1, estimator__max_features=auto, estimator__max_leaf_nodes=50, estimator__min_samples_leaf=5, estimator__splitter=best \n",
      "[CV]  estimator__max_depth=1, estimator__max_features=auto, estimator__max_leaf_nodes=50, estimator__min_samples_leaf=5, estimator__splitter=best, score=-0.018, total=   0.1s\n",
      "[CV] estimator__max_depth=1, estimator__max_features=auto, estimator__max_leaf_nodes=50, estimator__min_samples_leaf=5, estimator__splitter=random \n",
      "[CV]  estimator__max_depth=1, estimator__max_features=auto, estimator__max_leaf_nodes=50, estimator__min_samples_leaf=5, estimator__splitter=random, score=-0.018, total=   0.1s\n",
      "[CV] estimator__max_depth=1, estimator__max_features=auto, estimator__max_leaf_nodes=50, estimator__min_samples_leaf=5, estimator__splitter=random \n"
     ]
    },
    {
     "name": "stderr",
     "output_type": "stream",
     "text": [
      "/home/abhinav/anaconda3/lib/python3.8/site-packages/sklearn/multiclass.py:76: UserWarning: Label not 10 is present in all training examples.\n",
      "  warnings.warn(\"Label %s is present in all training examples.\" %\n"
     ]
    },
    {
     "name": "stdout",
     "output_type": "stream",
     "text": [
      "[CV]  estimator__max_depth=1, estimator__max_features=auto, estimator__max_leaf_nodes=50, estimator__min_samples_leaf=5, estimator__splitter=random, score=-0.018, total=   0.1s\n",
      "[CV] estimator__max_depth=1, estimator__max_features=auto, estimator__max_leaf_nodes=50, estimator__min_samples_leaf=5, estimator__splitter=random \n",
      "[CV]  estimator__max_depth=1, estimator__max_features=auto, estimator__max_leaf_nodes=50, estimator__min_samples_leaf=5, estimator__splitter=random, score=-0.018, total=   0.1s\n",
      "[CV] estimator__max_depth=1, estimator__max_features=auto, estimator__max_leaf_nodes=70, estimator__min_samples_leaf=1, estimator__splitter=best \n",
      "[CV]  estimator__max_depth=1, estimator__max_features=auto, estimator__max_leaf_nodes=70, estimator__min_samples_leaf=1, estimator__splitter=best, score=-0.018, total=   0.1s\n",
      "[CV] estimator__max_depth=1, estimator__max_features=auto, estimator__max_leaf_nodes=70, estimator__min_samples_leaf=1, estimator__splitter=best \n"
     ]
    },
    {
     "name": "stderr",
     "output_type": "stream",
     "text": [
      "/home/abhinav/anaconda3/lib/python3.8/site-packages/sklearn/multiclass.py:76: UserWarning: Label not 10 is present in all training examples.\n",
      "  warnings.warn(\"Label %s is present in all training examples.\" %\n"
     ]
    },
    {
     "name": "stdout",
     "output_type": "stream",
     "text": [
      "[CV]  estimator__max_depth=1, estimator__max_features=auto, estimator__max_leaf_nodes=70, estimator__min_samples_leaf=1, estimator__splitter=best, score=-0.017, total=   0.1s\n",
      "[CV] estimator__max_depth=1, estimator__max_features=auto, estimator__max_leaf_nodes=70, estimator__min_samples_leaf=1, estimator__splitter=best \n",
      "[CV]  estimator__max_depth=1, estimator__max_features=auto, estimator__max_leaf_nodes=70, estimator__min_samples_leaf=1, estimator__splitter=best, score=-0.018, total=   0.1s\n",
      "[CV] estimator__max_depth=1, estimator__max_features=auto, estimator__max_leaf_nodes=70, estimator__min_samples_leaf=1, estimator__splitter=random \n",
      "[CV]  estimator__max_depth=1, estimator__max_features=auto, estimator__max_leaf_nodes=70, estimator__min_samples_leaf=1, estimator__splitter=random, score=-0.018, total=   0.1s\n",
      "[CV] estimator__max_depth=1, estimator__max_features=auto, estimator__max_leaf_nodes=70, estimator__min_samples_leaf=1, estimator__splitter=random \n"
     ]
    },
    {
     "name": "stderr",
     "output_type": "stream",
     "text": [
      "/home/abhinav/anaconda3/lib/python3.8/site-packages/sklearn/multiclass.py:76: UserWarning: Label not 10 is present in all training examples.\n",
      "  warnings.warn(\"Label %s is present in all training examples.\" %\n",
      "/home/abhinav/anaconda3/lib/python3.8/site-packages/sklearn/multiclass.py:76: UserWarning: Label not 10 is present in all training examples.\n",
      "  warnings.warn(\"Label %s is present in all training examples.\" %\n"
     ]
    },
    {
     "name": "stdout",
     "output_type": "stream",
     "text": [
      "[CV]  estimator__max_depth=1, estimator__max_features=auto, estimator__max_leaf_nodes=70, estimator__min_samples_leaf=1, estimator__splitter=random, score=-0.018, total=   0.1s\n",
      "[CV] estimator__max_depth=1, estimator__max_features=auto, estimator__max_leaf_nodes=70, estimator__min_samples_leaf=1, estimator__splitter=random \n",
      "[CV]  estimator__max_depth=1, estimator__max_features=auto, estimator__max_leaf_nodes=70, estimator__min_samples_leaf=1, estimator__splitter=random, score=-0.018, total=   0.1s\n",
      "[CV] estimator__max_depth=1, estimator__max_features=auto, estimator__max_leaf_nodes=70, estimator__min_samples_leaf=3, estimator__splitter=best \n",
      "[CV]  estimator__max_depth=1, estimator__max_features=auto, estimator__max_leaf_nodes=70, estimator__min_samples_leaf=3, estimator__splitter=best, score=-0.018, total=   0.1s\n",
      "[CV] estimator__max_depth=1, estimator__max_features=auto, estimator__max_leaf_nodes=70, estimator__min_samples_leaf=3, estimator__splitter=best \n",
      "[CV]  estimator__max_depth=1, estimator__max_features=auto, estimator__max_leaf_nodes=70, estimator__min_samples_leaf=3, estimator__splitter=best, score=-0.018, total=   0.1s\n",
      "[CV] estimator__max_depth=1, estimator__max_features=auto, estimator__max_leaf_nodes=70, estimator__min_samples_leaf=3, estimator__splitter=best \n",
      "[CV]  estimator__max_depth=1, estimator__max_features=auto, estimator__max_leaf_nodes=70, estimator__min_samples_leaf=3, estimator__splitter=best, score=-0.018, total=   0.1s\n",
      "[CV] estimator__max_depth=1, estimator__max_features=auto, estimator__max_leaf_nodes=70, estimator__min_samples_leaf=3, estimator__splitter=random \n",
      "[CV]  estimator__max_depth=1, estimator__max_features=auto, estimator__max_leaf_nodes=70, estimator__min_samples_leaf=3, estimator__splitter=random, score=-0.018, total=   0.1s\n",
      "[CV] estimator__max_depth=1, estimator__max_features=auto, estimator__max_leaf_nodes=70, estimator__min_samples_leaf=3, estimator__splitter=random \n",
      "[CV]  estimator__max_depth=1, estimator__max_features=auto, estimator__max_leaf_nodes=70, estimator__min_samples_leaf=3, estimator__splitter=random, score=-0.018, total=   0.1s\n",
      "[CV] estimator__max_depth=1, estimator__max_features=auto, estimator__max_leaf_nodes=70, estimator__min_samples_leaf=3, estimator__splitter=random \n"
     ]
    },
    {
     "name": "stderr",
     "output_type": "stream",
     "text": [
      "/home/abhinav/anaconda3/lib/python3.8/site-packages/sklearn/multiclass.py:76: UserWarning: Label not 10 is present in all training examples.\n",
      "  warnings.warn(\"Label %s is present in all training examples.\" %\n",
      "/home/abhinav/anaconda3/lib/python3.8/site-packages/sklearn/multiclass.py:76: UserWarning: Label not 10 is present in all training examples.\n",
      "  warnings.warn(\"Label %s is present in all training examples.\" %\n"
     ]
    },
    {
     "name": "stdout",
     "output_type": "stream",
     "text": [
      "[CV]  estimator__max_depth=1, estimator__max_features=auto, estimator__max_leaf_nodes=70, estimator__min_samples_leaf=3, estimator__splitter=random, score=-0.018, total=   0.1s\n",
      "[CV] estimator__max_depth=1, estimator__max_features=auto, estimator__max_leaf_nodes=70, estimator__min_samples_leaf=5, estimator__splitter=best \n",
      "[CV]  estimator__max_depth=1, estimator__max_features=auto, estimator__max_leaf_nodes=70, estimator__min_samples_leaf=5, estimator__splitter=best, score=-0.018, total=   0.1s\n",
      "[CV] estimator__max_depth=1, estimator__max_features=auto, estimator__max_leaf_nodes=70, estimator__min_samples_leaf=5, estimator__splitter=best \n",
      "[CV]  estimator__max_depth=1, estimator__max_features=auto, estimator__max_leaf_nodes=70, estimator__min_samples_leaf=5, estimator__splitter=best, score=-0.018, total=   0.1s\n",
      "[CV] estimator__max_depth=1, estimator__max_features=auto, estimator__max_leaf_nodes=70, estimator__min_samples_leaf=5, estimator__splitter=best \n",
      "[CV]  estimator__max_depth=1, estimator__max_features=auto, estimator__max_leaf_nodes=70, estimator__min_samples_leaf=5, estimator__splitter=best, score=-0.018, total=   0.1s\n",
      "[CV] estimator__max_depth=1, estimator__max_features=auto, estimator__max_leaf_nodes=70, estimator__min_samples_leaf=5, estimator__splitter=random \n",
      "[CV]  estimator__max_depth=1, estimator__max_features=auto, estimator__max_leaf_nodes=70, estimator__min_samples_leaf=5, estimator__splitter=random, score=-0.018, total=   0.1s\n",
      "[CV] estimator__max_depth=1, estimator__max_features=auto, estimator__max_leaf_nodes=70, estimator__min_samples_leaf=5, estimator__splitter=random \n",
      "[CV]  estimator__max_depth=1, estimator__max_features=auto, estimator__max_leaf_nodes=70, estimator__min_samples_leaf=5, estimator__splitter=random, score=-0.018, total=   0.1s\n",
      "[CV] estimator__max_depth=1, estimator__max_features=auto, estimator__max_leaf_nodes=70, estimator__min_samples_leaf=5, estimator__splitter=random \n",
      "[CV]  estimator__max_depth=1, estimator__max_features=auto, estimator__max_leaf_nodes=70, estimator__min_samples_leaf=5, estimator__splitter=random, score=-0.018, total=   0.1s\n",
      "[CV] estimator__max_depth=1, estimator__max_features=sqrt, estimator__max_leaf_nodes=None, estimator__min_samples_leaf=1, estimator__splitter=best \n"
     ]
    },
    {
     "name": "stderr",
     "output_type": "stream",
     "text": [
      "/home/abhinav/anaconda3/lib/python3.8/site-packages/sklearn/multiclass.py:76: UserWarning: Label not 10 is present in all training examples.\n",
      "  warnings.warn(\"Label %s is present in all training examples.\" %\n",
      "/home/abhinav/anaconda3/lib/python3.8/site-packages/sklearn/multiclass.py:76: UserWarning: Label not 10 is present in all training examples.\n",
      "  warnings.warn(\"Label %s is present in all training examples.\" %\n",
      "/home/abhinav/anaconda3/lib/python3.8/site-packages/sklearn/multiclass.py:76: UserWarning: Label not 10 is present in all training examples.\n",
      "  warnings.warn(\"Label %s is present in all training examples.\" %\n"
     ]
    },
    {
     "name": "stdout",
     "output_type": "stream",
     "text": [
      "[CV]  estimator__max_depth=1, estimator__max_features=sqrt, estimator__max_leaf_nodes=None, estimator__min_samples_leaf=1, estimator__splitter=best, score=-0.017, total=   0.1s\n",
      "[CV] estimator__max_depth=1, estimator__max_features=sqrt, estimator__max_leaf_nodes=None, estimator__min_samples_leaf=1, estimator__splitter=best \n",
      "[CV]  estimator__max_depth=1, estimator__max_features=sqrt, estimator__max_leaf_nodes=None, estimator__min_samples_leaf=1, estimator__splitter=best, score=-0.017, total=   0.1s\n",
      "[CV] estimator__max_depth=1, estimator__max_features=sqrt, estimator__max_leaf_nodes=None, estimator__min_samples_leaf=1, estimator__splitter=best \n",
      "[CV]  estimator__max_depth=1, estimator__max_features=sqrt, estimator__max_leaf_nodes=None, estimator__min_samples_leaf=1, estimator__splitter=best, score=-0.018, total=   0.1s\n",
      "[CV] estimator__max_depth=1, estimator__max_features=sqrt, estimator__max_leaf_nodes=None, estimator__min_samples_leaf=1, estimator__splitter=random \n",
      "[CV]  estimator__max_depth=1, estimator__max_features=sqrt, estimator__max_leaf_nodes=None, estimator__min_samples_leaf=1, estimator__splitter=random, score=-0.018, total=   0.1s\n",
      "[CV] estimator__max_depth=1, estimator__max_features=sqrt, estimator__max_leaf_nodes=None, estimator__min_samples_leaf=1, estimator__splitter=random \n",
      "[CV]  estimator__max_depth=1, estimator__max_features=sqrt, estimator__max_leaf_nodes=None, estimator__min_samples_leaf=1, estimator__splitter=random, score=-0.018, total=   0.1s\n",
      "[CV] estimator__max_depth=1, estimator__max_features=sqrt, estimator__max_leaf_nodes=None, estimator__min_samples_leaf=1, estimator__splitter=random \n",
      "[CV]  estimator__max_depth=1, estimator__max_features=sqrt, estimator__max_leaf_nodes=None, estimator__min_samples_leaf=1, estimator__splitter=random, score=-0.018, total=   0.1s\n",
      "[CV] estimator__max_depth=1, estimator__max_features=sqrt, estimator__max_leaf_nodes=None, estimator__min_samples_leaf=3, estimator__splitter=best \n",
      "[CV]  estimator__max_depth=1, estimator__max_features=sqrt, estimator__max_leaf_nodes=None, estimator__min_samples_leaf=3, estimator__splitter=best, score=-0.018, total=   0.1s\n",
      "[CV] estimator__max_depth=1, estimator__max_features=sqrt, estimator__max_leaf_nodes=None, estimator__min_samples_leaf=3, estimator__splitter=best \n"
     ]
    },
    {
     "name": "stderr",
     "output_type": "stream",
     "text": [
      "/home/abhinav/anaconda3/lib/python3.8/site-packages/sklearn/multiclass.py:76: UserWarning: Label not 10 is present in all training examples.\n",
      "  warnings.warn(\"Label %s is present in all training examples.\" %\n"
     ]
    },
    {
     "name": "stdout",
     "output_type": "stream",
     "text": [
      "[CV]  estimator__max_depth=1, estimator__max_features=sqrt, estimator__max_leaf_nodes=None, estimator__min_samples_leaf=3, estimator__splitter=best, score=-0.018, total=   0.1s\n",
      "[CV] estimator__max_depth=1, estimator__max_features=sqrt, estimator__max_leaf_nodes=None, estimator__min_samples_leaf=3, estimator__splitter=best \n",
      "[CV]  estimator__max_depth=1, estimator__max_features=sqrt, estimator__max_leaf_nodes=None, estimator__min_samples_leaf=3, estimator__splitter=best, score=-0.017, total=   0.1s\n",
      "[CV] estimator__max_depth=1, estimator__max_features=sqrt, estimator__max_leaf_nodes=None, estimator__min_samples_leaf=3, estimator__splitter=random \n",
      "[CV]  estimator__max_depth=1, estimator__max_features=sqrt, estimator__max_leaf_nodes=None, estimator__min_samples_leaf=3, estimator__splitter=random, score=-0.018, total=   0.1s\n",
      "[CV] estimator__max_depth=1, estimator__max_features=sqrt, estimator__max_leaf_nodes=None, estimator__min_samples_leaf=3, estimator__splitter=random \n"
     ]
    },
    {
     "name": "stderr",
     "output_type": "stream",
     "text": [
      "/home/abhinav/anaconda3/lib/python3.8/site-packages/sklearn/multiclass.py:76: UserWarning: Label not 10 is present in all training examples.\n",
      "  warnings.warn(\"Label %s is present in all training examples.\" %\n"
     ]
    },
    {
     "name": "stdout",
     "output_type": "stream",
     "text": [
      "[CV]  estimator__max_depth=1, estimator__max_features=sqrt, estimator__max_leaf_nodes=None, estimator__min_samples_leaf=3, estimator__splitter=random, score=-0.018, total=   0.1s\n",
      "[CV] estimator__max_depth=1, estimator__max_features=sqrt, estimator__max_leaf_nodes=None, estimator__min_samples_leaf=3, estimator__splitter=random \n",
      "[CV]  estimator__max_depth=1, estimator__max_features=sqrt, estimator__max_leaf_nodes=None, estimator__min_samples_leaf=3, estimator__splitter=random, score=-0.018, total=   0.1s\n",
      "[CV] estimator__max_depth=1, estimator__max_features=sqrt, estimator__max_leaf_nodes=None, estimator__min_samples_leaf=5, estimator__splitter=best \n",
      "[CV]  estimator__max_depth=1, estimator__max_features=sqrt, estimator__max_leaf_nodes=None, estimator__min_samples_leaf=5, estimator__splitter=best, score=-0.018, total=   0.1s\n",
      "[CV] estimator__max_depth=1, estimator__max_features=sqrt, estimator__max_leaf_nodes=None, estimator__min_samples_leaf=5, estimator__splitter=best \n"
     ]
    },
    {
     "name": "stderr",
     "output_type": "stream",
     "text": [
      "/home/abhinav/anaconda3/lib/python3.8/site-packages/sklearn/multiclass.py:76: UserWarning: Label not 10 is present in all training examples.\n",
      "  warnings.warn(\"Label %s is present in all training examples.\" %\n"
     ]
    },
    {
     "name": "stdout",
     "output_type": "stream",
     "text": [
      "[CV]  estimator__max_depth=1, estimator__max_features=sqrt, estimator__max_leaf_nodes=None, estimator__min_samples_leaf=5, estimator__splitter=best, score=-0.018, total=   0.1s\n",
      "[CV] estimator__max_depth=1, estimator__max_features=sqrt, estimator__max_leaf_nodes=None, estimator__min_samples_leaf=5, estimator__splitter=best \n",
      "[CV]  estimator__max_depth=1, estimator__max_features=sqrt, estimator__max_leaf_nodes=None, estimator__min_samples_leaf=5, estimator__splitter=best, score=-0.018, total=   0.1s\n",
      "[CV] estimator__max_depth=1, estimator__max_features=sqrt, estimator__max_leaf_nodes=None, estimator__min_samples_leaf=5, estimator__splitter=random \n",
      "[CV]  estimator__max_depth=1, estimator__max_features=sqrt, estimator__max_leaf_nodes=None, estimator__min_samples_leaf=5, estimator__splitter=random, score=-0.018, total=   0.1s\n",
      "[CV] estimator__max_depth=1, estimator__max_features=sqrt, estimator__max_leaf_nodes=None, estimator__min_samples_leaf=5, estimator__splitter=random \n"
     ]
    },
    {
     "name": "stderr",
     "output_type": "stream",
     "text": [
      "/home/abhinav/anaconda3/lib/python3.8/site-packages/sklearn/multiclass.py:76: UserWarning: Label not 10 is present in all training examples.\n",
      "  warnings.warn(\"Label %s is present in all training examples.\" %\n"
     ]
    },
    {
     "name": "stdout",
     "output_type": "stream",
     "text": [
      "[CV]  estimator__max_depth=1, estimator__max_features=sqrt, estimator__max_leaf_nodes=None, estimator__min_samples_leaf=5, estimator__splitter=random, score=-0.017, total=   0.1s\n",
      "[CV] estimator__max_depth=1, estimator__max_features=sqrt, estimator__max_leaf_nodes=None, estimator__min_samples_leaf=5, estimator__splitter=random \n",
      "[CV]  estimator__max_depth=1, estimator__max_features=sqrt, estimator__max_leaf_nodes=None, estimator__min_samples_leaf=5, estimator__splitter=random, score=-0.018, total=   0.1s\n",
      "[CV] estimator__max_depth=1, estimator__max_features=sqrt, estimator__max_leaf_nodes=10, estimator__min_samples_leaf=1, estimator__splitter=best \n",
      "[CV]  estimator__max_depth=1, estimator__max_features=sqrt, estimator__max_leaf_nodes=10, estimator__min_samples_leaf=1, estimator__splitter=best, score=-0.018, total=   0.1s\n",
      "[CV] estimator__max_depth=1, estimator__max_features=sqrt, estimator__max_leaf_nodes=10, estimator__min_samples_leaf=1, estimator__splitter=best \n",
      "[CV]  estimator__max_depth=1, estimator__max_features=sqrt, estimator__max_leaf_nodes=10, estimator__min_samples_leaf=1, estimator__splitter=best, score=-0.018, total=   0.1s\n",
      "[CV] estimator__max_depth=1, estimator__max_features=sqrt, estimator__max_leaf_nodes=10, estimator__min_samples_leaf=1, estimator__splitter=best \n",
      "[CV]  estimator__max_depth=1, estimator__max_features=sqrt, estimator__max_leaf_nodes=10, estimator__min_samples_leaf=1, estimator__splitter=best, score=-0.018, total=   0.1s\n",
      "[CV] estimator__max_depth=1, estimator__max_features=sqrt, estimator__max_leaf_nodes=10, estimator__min_samples_leaf=1, estimator__splitter=random \n",
      "[CV]  estimator__max_depth=1, estimator__max_features=sqrt, estimator__max_leaf_nodes=10, estimator__min_samples_leaf=1, estimator__splitter=random, score=-0.018, total=   0.1s\n",
      "[CV] estimator__max_depth=1, estimator__max_features=sqrt, estimator__max_leaf_nodes=10, estimator__min_samples_leaf=1, estimator__splitter=random \n",
      "[CV]  estimator__max_depth=1, estimator__max_features=sqrt, estimator__max_leaf_nodes=10, estimator__min_samples_leaf=1, estimator__splitter=random, score=-0.018, total=   0.1s\n",
      "[CV] estimator__max_depth=1, estimator__max_features=sqrt, estimator__max_leaf_nodes=10, estimator__min_samples_leaf=1, estimator__splitter=random \n",
      "[CV]  estimator__max_depth=1, estimator__max_features=sqrt, estimator__max_leaf_nodes=10, estimator__min_samples_leaf=1, estimator__splitter=random, score=-0.018, total=   0.1s\n",
      "[CV] estimator__max_depth=1, estimator__max_features=sqrt, estimator__max_leaf_nodes=10, estimator__min_samples_leaf=3, estimator__splitter=best \n"
     ]
    },
    {
     "name": "stderr",
     "output_type": "stream",
     "text": [
      "/home/abhinav/anaconda3/lib/python3.8/site-packages/sklearn/multiclass.py:76: UserWarning: Label not 10 is present in all training examples.\n",
      "  warnings.warn(\"Label %s is present in all training examples.\" %\n",
      "/home/abhinav/anaconda3/lib/python3.8/site-packages/sklearn/multiclass.py:76: UserWarning: Label not 10 is present in all training examples.\n",
      "  warnings.warn(\"Label %s is present in all training examples.\" %\n",
      "/home/abhinav/anaconda3/lib/python3.8/site-packages/sklearn/multiclass.py:76: UserWarning: Label not 10 is present in all training examples.\n",
      "  warnings.warn(\"Label %s is present in all training examples.\" %\n"
     ]
    },
    {
     "name": "stdout",
     "output_type": "stream",
     "text": [
      "[CV]  estimator__max_depth=1, estimator__max_features=sqrt, estimator__max_leaf_nodes=10, estimator__min_samples_leaf=3, estimator__splitter=best, score=-0.018, total=   0.1s\n",
      "[CV] estimator__max_depth=1, estimator__max_features=sqrt, estimator__max_leaf_nodes=10, estimator__min_samples_leaf=3, estimator__splitter=best \n",
      "[CV]  estimator__max_depth=1, estimator__max_features=sqrt, estimator__max_leaf_nodes=10, estimator__min_samples_leaf=3, estimator__splitter=best, score=-0.018, total=   0.1s\n",
      "[CV] estimator__max_depth=1, estimator__max_features=sqrt, estimator__max_leaf_nodes=10, estimator__min_samples_leaf=3, estimator__splitter=best \n",
      "[CV]  estimator__max_depth=1, estimator__max_features=sqrt, estimator__max_leaf_nodes=10, estimator__min_samples_leaf=3, estimator__splitter=best, score=-0.018, total=   0.1s\n",
      "[CV] estimator__max_depth=1, estimator__max_features=sqrt, estimator__max_leaf_nodes=10, estimator__min_samples_leaf=3, estimator__splitter=random \n"
     ]
    },
    {
     "name": "stderr",
     "output_type": "stream",
     "text": [
      "/home/abhinav/anaconda3/lib/python3.8/site-packages/sklearn/multiclass.py:76: UserWarning: Label not 10 is present in all training examples.\n",
      "  warnings.warn(\"Label %s is present in all training examples.\" %\n"
     ]
    },
    {
     "name": "stdout",
     "output_type": "stream",
     "text": [
      "[CV]  estimator__max_depth=1, estimator__max_features=sqrt, estimator__max_leaf_nodes=10, estimator__min_samples_leaf=3, estimator__splitter=random, score=-0.018, total=   0.1s\n",
      "[CV] estimator__max_depth=1, estimator__max_features=sqrt, estimator__max_leaf_nodes=10, estimator__min_samples_leaf=3, estimator__splitter=random \n",
      "[CV]  estimator__max_depth=1, estimator__max_features=sqrt, estimator__max_leaf_nodes=10, estimator__min_samples_leaf=3, estimator__splitter=random, score=-0.018, total=   0.1s\n",
      "[CV] estimator__max_depth=1, estimator__max_features=sqrt, estimator__max_leaf_nodes=10, estimator__min_samples_leaf=3, estimator__splitter=random \n",
      "[CV]  estimator__max_depth=1, estimator__max_features=sqrt, estimator__max_leaf_nodes=10, estimator__min_samples_leaf=3, estimator__splitter=random, score=-0.018, total=   0.1s\n",
      "[CV] estimator__max_depth=1, estimator__max_features=sqrt, estimator__max_leaf_nodes=10, estimator__min_samples_leaf=5, estimator__splitter=best \n"
     ]
    },
    {
     "name": "stderr",
     "output_type": "stream",
     "text": [
      "/home/abhinav/anaconda3/lib/python3.8/site-packages/sklearn/multiclass.py:76: UserWarning: Label not 10 is present in all training examples.\n",
      "  warnings.warn(\"Label %s is present in all training examples.\" %\n"
     ]
    },
    {
     "name": "stdout",
     "output_type": "stream",
     "text": [
      "[CV]  estimator__max_depth=1, estimator__max_features=sqrt, estimator__max_leaf_nodes=10, estimator__min_samples_leaf=5, estimator__splitter=best, score=-0.018, total=   0.1s\n",
      "[CV] estimator__max_depth=1, estimator__max_features=sqrt, estimator__max_leaf_nodes=10, estimator__min_samples_leaf=5, estimator__splitter=best \n",
      "[CV]  estimator__max_depth=1, estimator__max_features=sqrt, estimator__max_leaf_nodes=10, estimator__min_samples_leaf=5, estimator__splitter=best, score=-0.018, total=   0.1s\n",
      "[CV] estimator__max_depth=1, estimator__max_features=sqrt, estimator__max_leaf_nodes=10, estimator__min_samples_leaf=5, estimator__splitter=best \n",
      "[CV]  estimator__max_depth=1, estimator__max_features=sqrt, estimator__max_leaf_nodes=10, estimator__min_samples_leaf=5, estimator__splitter=best, score=-0.018, total=   0.1s\n",
      "[CV] estimator__max_depth=1, estimator__max_features=sqrt, estimator__max_leaf_nodes=10, estimator__min_samples_leaf=5, estimator__splitter=random \n"
     ]
    },
    {
     "name": "stderr",
     "output_type": "stream",
     "text": [
      "/home/abhinav/anaconda3/lib/python3.8/site-packages/sklearn/multiclass.py:76: UserWarning: Label not 10 is present in all training examples.\n",
      "  warnings.warn(\"Label %s is present in all training examples.\" %\n"
     ]
    },
    {
     "name": "stdout",
     "output_type": "stream",
     "text": [
      "[CV]  estimator__max_depth=1, estimator__max_features=sqrt, estimator__max_leaf_nodes=10, estimator__min_samples_leaf=5, estimator__splitter=random, score=-0.018, total=   0.1s\n",
      "[CV] estimator__max_depth=1, estimator__max_features=sqrt, estimator__max_leaf_nodes=10, estimator__min_samples_leaf=5, estimator__splitter=random \n",
      "[CV]  estimator__max_depth=1, estimator__max_features=sqrt, estimator__max_leaf_nodes=10, estimator__min_samples_leaf=5, estimator__splitter=random, score=-0.018, total=   0.1s\n",
      "[CV] estimator__max_depth=1, estimator__max_features=sqrt, estimator__max_leaf_nodes=10, estimator__min_samples_leaf=5, estimator__splitter=random \n",
      "[CV]  estimator__max_depth=1, estimator__max_features=sqrt, estimator__max_leaf_nodes=10, estimator__min_samples_leaf=5, estimator__splitter=random, score=-0.018, total=   0.1s\n",
      "[CV] estimator__max_depth=1, estimator__max_features=sqrt, estimator__max_leaf_nodes=20, estimator__min_samples_leaf=1, estimator__splitter=best \n"
     ]
    },
    {
     "name": "stderr",
     "output_type": "stream",
     "text": [
      "/home/abhinav/anaconda3/lib/python3.8/site-packages/sklearn/multiclass.py:76: UserWarning: Label not 10 is present in all training examples.\n",
      "  warnings.warn(\"Label %s is present in all training examples.\" %\n"
     ]
    },
    {
     "name": "stdout",
     "output_type": "stream",
     "text": [
      "[CV]  estimator__max_depth=1, estimator__max_features=sqrt, estimator__max_leaf_nodes=20, estimator__min_samples_leaf=1, estimator__splitter=best, score=-0.018, total=   0.1s\n",
      "[CV] estimator__max_depth=1, estimator__max_features=sqrt, estimator__max_leaf_nodes=20, estimator__min_samples_leaf=1, estimator__splitter=best \n",
      "[CV]  estimator__max_depth=1, estimator__max_features=sqrt, estimator__max_leaf_nodes=20, estimator__min_samples_leaf=1, estimator__splitter=best, score=-0.018, total=   0.1s\n",
      "[CV] estimator__max_depth=1, estimator__max_features=sqrt, estimator__max_leaf_nodes=20, estimator__min_samples_leaf=1, estimator__splitter=best \n",
      "[CV]  estimator__max_depth=1, estimator__max_features=sqrt, estimator__max_leaf_nodes=20, estimator__min_samples_leaf=1, estimator__splitter=best, score=-0.018, total=   0.1s\n",
      "[CV] estimator__max_depth=1, estimator__max_features=sqrt, estimator__max_leaf_nodes=20, estimator__min_samples_leaf=1, estimator__splitter=random \n"
     ]
    },
    {
     "name": "stderr",
     "output_type": "stream",
     "text": [
      "/home/abhinav/anaconda3/lib/python3.8/site-packages/sklearn/multiclass.py:76: UserWarning: Label not 10 is present in all training examples.\n",
      "  warnings.warn(\"Label %s is present in all training examples.\" %\n"
     ]
    },
    {
     "name": "stdout",
     "output_type": "stream",
     "text": [
      "[CV]  estimator__max_depth=1, estimator__max_features=sqrt, estimator__max_leaf_nodes=20, estimator__min_samples_leaf=1, estimator__splitter=random, score=-0.018, total=   0.1s\n",
      "[CV] estimator__max_depth=1, estimator__max_features=sqrt, estimator__max_leaf_nodes=20, estimator__min_samples_leaf=1, estimator__splitter=random \n",
      "[CV]  estimator__max_depth=1, estimator__max_features=sqrt, estimator__max_leaf_nodes=20, estimator__min_samples_leaf=1, estimator__splitter=random, score=-0.018, total=   0.1s\n",
      "[CV] estimator__max_depth=1, estimator__max_features=sqrt, estimator__max_leaf_nodes=20, estimator__min_samples_leaf=1, estimator__splitter=random \n",
      "[CV]  estimator__max_depth=1, estimator__max_features=sqrt, estimator__max_leaf_nodes=20, estimator__min_samples_leaf=1, estimator__splitter=random, score=-0.018, total=   0.1s\n",
      "[CV] estimator__max_depth=1, estimator__max_features=sqrt, estimator__max_leaf_nodes=20, estimator__min_samples_leaf=3, estimator__splitter=best \n"
     ]
    },
    {
     "name": "stderr",
     "output_type": "stream",
     "text": [
      "/home/abhinav/anaconda3/lib/python3.8/site-packages/sklearn/multiclass.py:76: UserWarning: Label not 10 is present in all training examples.\n",
      "  warnings.warn(\"Label %s is present in all training examples.\" %\n"
     ]
    },
    {
     "name": "stdout",
     "output_type": "stream",
     "text": [
      "[CV]  estimator__max_depth=1, estimator__max_features=sqrt, estimator__max_leaf_nodes=20, estimator__min_samples_leaf=3, estimator__splitter=best, score=-0.018, total=   0.1s\n",
      "[CV] estimator__max_depth=1, estimator__max_features=sqrt, estimator__max_leaf_nodes=20, estimator__min_samples_leaf=3, estimator__splitter=best \n",
      "[CV]  estimator__max_depth=1, estimator__max_features=sqrt, estimator__max_leaf_nodes=20, estimator__min_samples_leaf=3, estimator__splitter=best, score=-0.018, total=   0.1s\n",
      "[CV] estimator__max_depth=1, estimator__max_features=sqrt, estimator__max_leaf_nodes=20, estimator__min_samples_leaf=3, estimator__splitter=best \n",
      "[CV]  estimator__max_depth=1, estimator__max_features=sqrt, estimator__max_leaf_nodes=20, estimator__min_samples_leaf=3, estimator__splitter=best, score=-0.018, total=   0.1s\n",
      "[CV] estimator__max_depth=1, estimator__max_features=sqrt, estimator__max_leaf_nodes=20, estimator__min_samples_leaf=3, estimator__splitter=random \n"
     ]
    },
    {
     "name": "stderr",
     "output_type": "stream",
     "text": [
      "/home/abhinav/anaconda3/lib/python3.8/site-packages/sklearn/multiclass.py:76: UserWarning: Label not 10 is present in all training examples.\n",
      "  warnings.warn(\"Label %s is present in all training examples.\" %\n"
     ]
    },
    {
     "name": "stdout",
     "output_type": "stream",
     "text": [
      "[CV]  estimator__max_depth=1, estimator__max_features=sqrt, estimator__max_leaf_nodes=20, estimator__min_samples_leaf=3, estimator__splitter=random, score=-0.018, total=   0.1s\n",
      "[CV] estimator__max_depth=1, estimator__max_features=sqrt, estimator__max_leaf_nodes=20, estimator__min_samples_leaf=3, estimator__splitter=random \n",
      "[CV]  estimator__max_depth=1, estimator__max_features=sqrt, estimator__max_leaf_nodes=20, estimator__min_samples_leaf=3, estimator__splitter=random, score=-0.018, total=   0.1s\n",
      "[CV] estimator__max_depth=1, estimator__max_features=sqrt, estimator__max_leaf_nodes=20, estimator__min_samples_leaf=3, estimator__splitter=random \n",
      "[CV]  estimator__max_depth=1, estimator__max_features=sqrt, estimator__max_leaf_nodes=20, estimator__min_samples_leaf=3, estimator__splitter=random, score=-0.018, total=   0.1s\n",
      "[CV] estimator__max_depth=1, estimator__max_features=sqrt, estimator__max_leaf_nodes=20, estimator__min_samples_leaf=5, estimator__splitter=best \n"
     ]
    },
    {
     "name": "stderr",
     "output_type": "stream",
     "text": [
      "/home/abhinav/anaconda3/lib/python3.8/site-packages/sklearn/multiclass.py:76: UserWarning: Label not 10 is present in all training examples.\n",
      "  warnings.warn(\"Label %s is present in all training examples.\" %\n"
     ]
    },
    {
     "name": "stdout",
     "output_type": "stream",
     "text": [
      "[CV]  estimator__max_depth=1, estimator__max_features=sqrt, estimator__max_leaf_nodes=20, estimator__min_samples_leaf=5, estimator__splitter=best, score=-0.018, total=   0.1s\n",
      "[CV] estimator__max_depth=1, estimator__max_features=sqrt, estimator__max_leaf_nodes=20, estimator__min_samples_leaf=5, estimator__splitter=best \n",
      "[CV]  estimator__max_depth=1, estimator__max_features=sqrt, estimator__max_leaf_nodes=20, estimator__min_samples_leaf=5, estimator__splitter=best, score=-0.018, total=   0.1s\n",
      "[CV] estimator__max_depth=1, estimator__max_features=sqrt, estimator__max_leaf_nodes=20, estimator__min_samples_leaf=5, estimator__splitter=best \n",
      "[CV]  estimator__max_depth=1, estimator__max_features=sqrt, estimator__max_leaf_nodes=20, estimator__min_samples_leaf=5, estimator__splitter=best, score=-0.018, total=   0.1s\n",
      "[CV] estimator__max_depth=1, estimator__max_features=sqrt, estimator__max_leaf_nodes=20, estimator__min_samples_leaf=5, estimator__splitter=random \n"
     ]
    },
    {
     "name": "stderr",
     "output_type": "stream",
     "text": [
      "/home/abhinav/anaconda3/lib/python3.8/site-packages/sklearn/multiclass.py:76: UserWarning: Label not 10 is present in all training examples.\n",
      "  warnings.warn(\"Label %s is present in all training examples.\" %\n"
     ]
    },
    {
     "name": "stdout",
     "output_type": "stream",
     "text": [
      "[CV]  estimator__max_depth=1, estimator__max_features=sqrt, estimator__max_leaf_nodes=20, estimator__min_samples_leaf=5, estimator__splitter=random, score=-0.018, total=   0.1s\n",
      "[CV] estimator__max_depth=1, estimator__max_features=sqrt, estimator__max_leaf_nodes=20, estimator__min_samples_leaf=5, estimator__splitter=random \n",
      "[CV]  estimator__max_depth=1, estimator__max_features=sqrt, estimator__max_leaf_nodes=20, estimator__min_samples_leaf=5, estimator__splitter=random, score=-0.018, total=   0.1s\n",
      "[CV] estimator__max_depth=1, estimator__max_features=sqrt, estimator__max_leaf_nodes=20, estimator__min_samples_leaf=5, estimator__splitter=random \n",
      "[CV]  estimator__max_depth=1, estimator__max_features=sqrt, estimator__max_leaf_nodes=20, estimator__min_samples_leaf=5, estimator__splitter=random, score=-0.018, total=   0.1s\n",
      "[CV] estimator__max_depth=1, estimator__max_features=sqrt, estimator__max_leaf_nodes=30, estimator__min_samples_leaf=1, estimator__splitter=best \n"
     ]
    },
    {
     "name": "stderr",
     "output_type": "stream",
     "text": [
      "/home/abhinav/anaconda3/lib/python3.8/site-packages/sklearn/multiclass.py:76: UserWarning: Label not 10 is present in all training examples.\n",
      "  warnings.warn(\"Label %s is present in all training examples.\" %\n"
     ]
    },
    {
     "name": "stdout",
     "output_type": "stream",
     "text": [
      "[CV]  estimator__max_depth=1, estimator__max_features=sqrt, estimator__max_leaf_nodes=30, estimator__min_samples_leaf=1, estimator__splitter=best, score=-0.018, total=   0.1s\n",
      "[CV] estimator__max_depth=1, estimator__max_features=sqrt, estimator__max_leaf_nodes=30, estimator__min_samples_leaf=1, estimator__splitter=best \n",
      "[CV]  estimator__max_depth=1, estimator__max_features=sqrt, estimator__max_leaf_nodes=30, estimator__min_samples_leaf=1, estimator__splitter=best, score=-0.018, total=   0.1s\n",
      "[CV] estimator__max_depth=1, estimator__max_features=sqrt, estimator__max_leaf_nodes=30, estimator__min_samples_leaf=1, estimator__splitter=best \n",
      "[CV]  estimator__max_depth=1, estimator__max_features=sqrt, estimator__max_leaf_nodes=30, estimator__min_samples_leaf=1, estimator__splitter=best, score=-0.018, total=   0.1s\n",
      "[CV] estimator__max_depth=1, estimator__max_features=sqrt, estimator__max_leaf_nodes=30, estimator__min_samples_leaf=1, estimator__splitter=random \n"
     ]
    },
    {
     "name": "stderr",
     "output_type": "stream",
     "text": [
      "/home/abhinav/anaconda3/lib/python3.8/site-packages/sklearn/multiclass.py:76: UserWarning: Label not 10 is present in all training examples.\n",
      "  warnings.warn(\"Label %s is present in all training examples.\" %\n"
     ]
    },
    {
     "name": "stdout",
     "output_type": "stream",
     "text": [
      "[CV]  estimator__max_depth=1, estimator__max_features=sqrt, estimator__max_leaf_nodes=30, estimator__min_samples_leaf=1, estimator__splitter=random, score=-0.018, total=   0.1s\n",
      "[CV] estimator__max_depth=1, estimator__max_features=sqrt, estimator__max_leaf_nodes=30, estimator__min_samples_leaf=1, estimator__splitter=random \n",
      "[CV]  estimator__max_depth=1, estimator__max_features=sqrt, estimator__max_leaf_nodes=30, estimator__min_samples_leaf=1, estimator__splitter=random, score=-0.018, total=   0.1s\n",
      "[CV] estimator__max_depth=1, estimator__max_features=sqrt, estimator__max_leaf_nodes=30, estimator__min_samples_leaf=1, estimator__splitter=random \n",
      "[CV]  estimator__max_depth=1, estimator__max_features=sqrt, estimator__max_leaf_nodes=30, estimator__min_samples_leaf=1, estimator__splitter=random, score=-0.018, total=   0.1s\n",
      "[CV] estimator__max_depth=1, estimator__max_features=sqrt, estimator__max_leaf_nodes=30, estimator__min_samples_leaf=3, estimator__splitter=best \n"
     ]
    },
    {
     "name": "stderr",
     "output_type": "stream",
     "text": [
      "/home/abhinav/anaconda3/lib/python3.8/site-packages/sklearn/multiclass.py:76: UserWarning: Label not 10 is present in all training examples.\n",
      "  warnings.warn(\"Label %s is present in all training examples.\" %\n"
     ]
    },
    {
     "name": "stdout",
     "output_type": "stream",
     "text": [
      "[CV]  estimator__max_depth=1, estimator__max_features=sqrt, estimator__max_leaf_nodes=30, estimator__min_samples_leaf=3, estimator__splitter=best, score=-0.018, total=   0.1s\n",
      "[CV] estimator__max_depth=1, estimator__max_features=sqrt, estimator__max_leaf_nodes=30, estimator__min_samples_leaf=3, estimator__splitter=best \n",
      "[CV]  estimator__max_depth=1, estimator__max_features=sqrt, estimator__max_leaf_nodes=30, estimator__min_samples_leaf=3, estimator__splitter=best, score=-0.018, total=   0.1s\n",
      "[CV] estimator__max_depth=1, estimator__max_features=sqrt, estimator__max_leaf_nodes=30, estimator__min_samples_leaf=3, estimator__splitter=best \n",
      "[CV]  estimator__max_depth=1, estimator__max_features=sqrt, estimator__max_leaf_nodes=30, estimator__min_samples_leaf=3, estimator__splitter=best, score=-0.018, total=   0.1s\n",
      "[CV] estimator__max_depth=1, estimator__max_features=sqrt, estimator__max_leaf_nodes=30, estimator__min_samples_leaf=3, estimator__splitter=random \n"
     ]
    },
    {
     "name": "stderr",
     "output_type": "stream",
     "text": [
      "/home/abhinav/anaconda3/lib/python3.8/site-packages/sklearn/multiclass.py:76: UserWarning: Label not 10 is present in all training examples.\n",
      "  warnings.warn(\"Label %s is present in all training examples.\" %\n"
     ]
    },
    {
     "name": "stdout",
     "output_type": "stream",
     "text": [
      "[CV]  estimator__max_depth=1, estimator__max_features=sqrt, estimator__max_leaf_nodes=30, estimator__min_samples_leaf=3, estimator__splitter=random, score=-0.018, total=   0.1s\n",
      "[CV] estimator__max_depth=1, estimator__max_features=sqrt, estimator__max_leaf_nodes=30, estimator__min_samples_leaf=3, estimator__splitter=random \n",
      "[CV]  estimator__max_depth=1, estimator__max_features=sqrt, estimator__max_leaf_nodes=30, estimator__min_samples_leaf=3, estimator__splitter=random, score=-0.018, total=   0.1s\n",
      "[CV] estimator__max_depth=1, estimator__max_features=sqrt, estimator__max_leaf_nodes=30, estimator__min_samples_leaf=3, estimator__splitter=random \n",
      "[CV]  estimator__max_depth=1, estimator__max_features=sqrt, estimator__max_leaf_nodes=30, estimator__min_samples_leaf=3, estimator__splitter=random, score=-0.018, total=   0.1s\n",
      "[CV] estimator__max_depth=1, estimator__max_features=sqrt, estimator__max_leaf_nodes=30, estimator__min_samples_leaf=5, estimator__splitter=best \n"
     ]
    },
    {
     "name": "stderr",
     "output_type": "stream",
     "text": [
      "/home/abhinav/anaconda3/lib/python3.8/site-packages/sklearn/multiclass.py:76: UserWarning: Label not 10 is present in all training examples.\n",
      "  warnings.warn(\"Label %s is present in all training examples.\" %\n"
     ]
    },
    {
     "name": "stdout",
     "output_type": "stream",
     "text": [
      "[CV]  estimator__max_depth=1, estimator__max_features=sqrt, estimator__max_leaf_nodes=30, estimator__min_samples_leaf=5, estimator__splitter=best, score=-0.018, total=   0.1s\n",
      "[CV] estimator__max_depth=1, estimator__max_features=sqrt, estimator__max_leaf_nodes=30, estimator__min_samples_leaf=5, estimator__splitter=best \n",
      "[CV]  estimator__max_depth=1, estimator__max_features=sqrt, estimator__max_leaf_nodes=30, estimator__min_samples_leaf=5, estimator__splitter=best, score=-0.018, total=   0.1s\n",
      "[CV] estimator__max_depth=1, estimator__max_features=sqrt, estimator__max_leaf_nodes=30, estimator__min_samples_leaf=5, estimator__splitter=best \n",
      "[CV]  estimator__max_depth=1, estimator__max_features=sqrt, estimator__max_leaf_nodes=30, estimator__min_samples_leaf=5, estimator__splitter=best, score=-0.018, total=   0.1s\n",
      "[CV] estimator__max_depth=1, estimator__max_features=sqrt, estimator__max_leaf_nodes=30, estimator__min_samples_leaf=5, estimator__splitter=random \n"
     ]
    },
    {
     "name": "stderr",
     "output_type": "stream",
     "text": [
      "/home/abhinav/anaconda3/lib/python3.8/site-packages/sklearn/multiclass.py:76: UserWarning: Label not 10 is present in all training examples.\n",
      "  warnings.warn(\"Label %s is present in all training examples.\" %\n"
     ]
    },
    {
     "name": "stdout",
     "output_type": "stream",
     "text": [
      "[CV]  estimator__max_depth=1, estimator__max_features=sqrt, estimator__max_leaf_nodes=30, estimator__min_samples_leaf=5, estimator__splitter=random, score=-0.018, total=   0.1s\n",
      "[CV] estimator__max_depth=1, estimator__max_features=sqrt, estimator__max_leaf_nodes=30, estimator__min_samples_leaf=5, estimator__splitter=random \n",
      "[CV]  estimator__max_depth=1, estimator__max_features=sqrt, estimator__max_leaf_nodes=30, estimator__min_samples_leaf=5, estimator__splitter=random, score=-0.018, total=   0.1s\n",
      "[CV] estimator__max_depth=1, estimator__max_features=sqrt, estimator__max_leaf_nodes=30, estimator__min_samples_leaf=5, estimator__splitter=random \n",
      "[CV]  estimator__max_depth=1, estimator__max_features=sqrt, estimator__max_leaf_nodes=30, estimator__min_samples_leaf=5, estimator__splitter=random, score=-0.018, total=   0.1s\n",
      "[CV] estimator__max_depth=1, estimator__max_features=sqrt, estimator__max_leaf_nodes=40, estimator__min_samples_leaf=1, estimator__splitter=best \n"
     ]
    },
    {
     "name": "stderr",
     "output_type": "stream",
     "text": [
      "/home/abhinav/anaconda3/lib/python3.8/site-packages/sklearn/multiclass.py:76: UserWarning: Label not 10 is present in all training examples.\n",
      "  warnings.warn(\"Label %s is present in all training examples.\" %\n"
     ]
    },
    {
     "name": "stdout",
     "output_type": "stream",
     "text": [
      "[CV]  estimator__max_depth=1, estimator__max_features=sqrt, estimator__max_leaf_nodes=40, estimator__min_samples_leaf=1, estimator__splitter=best, score=-0.018, total=   0.1s\n",
      "[CV] estimator__max_depth=1, estimator__max_features=sqrt, estimator__max_leaf_nodes=40, estimator__min_samples_leaf=1, estimator__splitter=best \n",
      "[CV]  estimator__max_depth=1, estimator__max_features=sqrt, estimator__max_leaf_nodes=40, estimator__min_samples_leaf=1, estimator__splitter=best, score=-0.017, total=   0.1s\n",
      "[CV] estimator__max_depth=1, estimator__max_features=sqrt, estimator__max_leaf_nodes=40, estimator__min_samples_leaf=1, estimator__splitter=best \n",
      "[CV]  estimator__max_depth=1, estimator__max_features=sqrt, estimator__max_leaf_nodes=40, estimator__min_samples_leaf=1, estimator__splitter=best, score=-0.018, total=   0.1s\n",
      "[CV] estimator__max_depth=1, estimator__max_features=sqrt, estimator__max_leaf_nodes=40, estimator__min_samples_leaf=1, estimator__splitter=random \n"
     ]
    },
    {
     "name": "stderr",
     "output_type": "stream",
     "text": [
      "/home/abhinav/anaconda3/lib/python3.8/site-packages/sklearn/multiclass.py:76: UserWarning: Label not 10 is present in all training examples.\n",
      "  warnings.warn(\"Label %s is present in all training examples.\" %\n"
     ]
    },
    {
     "name": "stdout",
     "output_type": "stream",
     "text": [
      "[CV]  estimator__max_depth=1, estimator__max_features=sqrt, estimator__max_leaf_nodes=40, estimator__min_samples_leaf=1, estimator__splitter=random, score=-0.018, total=   0.1s\n",
      "[CV] estimator__max_depth=1, estimator__max_features=sqrt, estimator__max_leaf_nodes=40, estimator__min_samples_leaf=1, estimator__splitter=random \n",
      "[CV]  estimator__max_depth=1, estimator__max_features=sqrt, estimator__max_leaf_nodes=40, estimator__min_samples_leaf=1, estimator__splitter=random, score=-0.018, total=   0.1s\n",
      "[CV] estimator__max_depth=1, estimator__max_features=sqrt, estimator__max_leaf_nodes=40, estimator__min_samples_leaf=1, estimator__splitter=random \n",
      "[CV]  estimator__max_depth=1, estimator__max_features=sqrt, estimator__max_leaf_nodes=40, estimator__min_samples_leaf=1, estimator__splitter=random, score=-0.018, total=   0.1s\n",
      "[CV] estimator__max_depth=1, estimator__max_features=sqrt, estimator__max_leaf_nodes=40, estimator__min_samples_leaf=3, estimator__splitter=best \n"
     ]
    },
    {
     "name": "stderr",
     "output_type": "stream",
     "text": [
      "/home/abhinav/anaconda3/lib/python3.8/site-packages/sklearn/multiclass.py:76: UserWarning: Label not 10 is present in all training examples.\n",
      "  warnings.warn(\"Label %s is present in all training examples.\" %\n"
     ]
    },
    {
     "name": "stdout",
     "output_type": "stream",
     "text": [
      "[CV]  estimator__max_depth=1, estimator__max_features=sqrt, estimator__max_leaf_nodes=40, estimator__min_samples_leaf=3, estimator__splitter=best, score=-0.018, total=   0.1s\n",
      "[CV] estimator__max_depth=1, estimator__max_features=sqrt, estimator__max_leaf_nodes=40, estimator__min_samples_leaf=3, estimator__splitter=best \n",
      "[CV]  estimator__max_depth=1, estimator__max_features=sqrt, estimator__max_leaf_nodes=40, estimator__min_samples_leaf=3, estimator__splitter=best, score=-0.018, total=   0.1s\n",
      "[CV] estimator__max_depth=1, estimator__max_features=sqrt, estimator__max_leaf_nodes=40, estimator__min_samples_leaf=3, estimator__splitter=best \n",
      "[CV]  estimator__max_depth=1, estimator__max_features=sqrt, estimator__max_leaf_nodes=40, estimator__min_samples_leaf=3, estimator__splitter=best, score=-0.018, total=   0.1s\n",
      "[CV] estimator__max_depth=1, estimator__max_features=sqrt, estimator__max_leaf_nodes=40, estimator__min_samples_leaf=3, estimator__splitter=random \n"
     ]
    },
    {
     "name": "stderr",
     "output_type": "stream",
     "text": [
      "/home/abhinav/anaconda3/lib/python3.8/site-packages/sklearn/multiclass.py:76: UserWarning: Label not 10 is present in all training examples.\n",
      "  warnings.warn(\"Label %s is present in all training examples.\" %\n"
     ]
    },
    {
     "name": "stdout",
     "output_type": "stream",
     "text": [
      "[CV]  estimator__max_depth=1, estimator__max_features=sqrt, estimator__max_leaf_nodes=40, estimator__min_samples_leaf=3, estimator__splitter=random, score=-0.018, total=   0.1s\n",
      "[CV] estimator__max_depth=1, estimator__max_features=sqrt, estimator__max_leaf_nodes=40, estimator__min_samples_leaf=3, estimator__splitter=random \n",
      "[CV]  estimator__max_depth=1, estimator__max_features=sqrt, estimator__max_leaf_nodes=40, estimator__min_samples_leaf=3, estimator__splitter=random, score=-0.018, total=   0.1s\n",
      "[CV] estimator__max_depth=1, estimator__max_features=sqrt, estimator__max_leaf_nodes=40, estimator__min_samples_leaf=3, estimator__splitter=random \n",
      "[CV]  estimator__max_depth=1, estimator__max_features=sqrt, estimator__max_leaf_nodes=40, estimator__min_samples_leaf=3, estimator__splitter=random, score=-0.018, total=   0.1s\n",
      "[CV] estimator__max_depth=1, estimator__max_features=sqrt, estimator__max_leaf_nodes=40, estimator__min_samples_leaf=5, estimator__splitter=best \n"
     ]
    },
    {
     "name": "stderr",
     "output_type": "stream",
     "text": [
      "/home/abhinav/anaconda3/lib/python3.8/site-packages/sklearn/multiclass.py:76: UserWarning: Label not 10 is present in all training examples.\n",
      "  warnings.warn(\"Label %s is present in all training examples.\" %\n"
     ]
    },
    {
     "name": "stdout",
     "output_type": "stream",
     "text": [
      "[CV]  estimator__max_depth=1, estimator__max_features=sqrt, estimator__max_leaf_nodes=40, estimator__min_samples_leaf=5, estimator__splitter=best, score=-0.018, total=   0.1s\n",
      "[CV] estimator__max_depth=1, estimator__max_features=sqrt, estimator__max_leaf_nodes=40, estimator__min_samples_leaf=5, estimator__splitter=best \n",
      "[CV]  estimator__max_depth=1, estimator__max_features=sqrt, estimator__max_leaf_nodes=40, estimator__min_samples_leaf=5, estimator__splitter=best, score=-0.018, total=   0.1s\n",
      "[CV] estimator__max_depth=1, estimator__max_features=sqrt, estimator__max_leaf_nodes=40, estimator__min_samples_leaf=5, estimator__splitter=best \n",
      "[CV]  estimator__max_depth=1, estimator__max_features=sqrt, estimator__max_leaf_nodes=40, estimator__min_samples_leaf=5, estimator__splitter=best, score=-0.018, total=   0.1s\n",
      "[CV] estimator__max_depth=1, estimator__max_features=sqrt, estimator__max_leaf_nodes=40, estimator__min_samples_leaf=5, estimator__splitter=random \n",
      "[CV]  estimator__max_depth=1, estimator__max_features=sqrt, estimator__max_leaf_nodes=40, estimator__min_samples_leaf=5, estimator__splitter=random, score=-0.018, total=   0.1s\n",
      "[CV] estimator__max_depth=1, estimator__max_features=sqrt, estimator__max_leaf_nodes=40, estimator__min_samples_leaf=5, estimator__splitter=random \n",
      "[CV]  estimator__max_depth=1, estimator__max_features=sqrt, estimator__max_leaf_nodes=40, estimator__min_samples_leaf=5, estimator__splitter=random, score=-0.018, total=   0.1s\n",
      "[CV] estimator__max_depth=1, estimator__max_features=sqrt, estimator__max_leaf_nodes=40, estimator__min_samples_leaf=5, estimator__splitter=random \n"
     ]
    },
    {
     "name": "stderr",
     "output_type": "stream",
     "text": [
      "/home/abhinav/anaconda3/lib/python3.8/site-packages/sklearn/multiclass.py:76: UserWarning: Label not 10 is present in all training examples.\n",
      "  warnings.warn(\"Label %s is present in all training examples.\" %\n"
     ]
    },
    {
     "name": "stdout",
     "output_type": "stream",
     "text": [
      "[CV]  estimator__max_depth=1, estimator__max_features=sqrt, estimator__max_leaf_nodes=40, estimator__min_samples_leaf=5, estimator__splitter=random, score=-0.018, total=   0.1s\n",
      "[CV] estimator__max_depth=1, estimator__max_features=sqrt, estimator__max_leaf_nodes=50, estimator__min_samples_leaf=1, estimator__splitter=best \n",
      "[CV]  estimator__max_depth=1, estimator__max_features=sqrt, estimator__max_leaf_nodes=50, estimator__min_samples_leaf=1, estimator__splitter=best, score=-0.018, total=   0.1s\n",
      "[CV] estimator__max_depth=1, estimator__max_features=sqrt, estimator__max_leaf_nodes=50, estimator__min_samples_leaf=1, estimator__splitter=best \n",
      "[CV]  estimator__max_depth=1, estimator__max_features=sqrt, estimator__max_leaf_nodes=50, estimator__min_samples_leaf=1, estimator__splitter=best, score=-0.018, total=   0.1s\n",
      "[CV] estimator__max_depth=1, estimator__max_features=sqrt, estimator__max_leaf_nodes=50, estimator__min_samples_leaf=1, estimator__splitter=best \n"
     ]
    },
    {
     "name": "stderr",
     "output_type": "stream",
     "text": [
      "/home/abhinav/anaconda3/lib/python3.8/site-packages/sklearn/multiclass.py:76: UserWarning: Label not 10 is present in all training examples.\n",
      "  warnings.warn(\"Label %s is present in all training examples.\" %\n"
     ]
    },
    {
     "name": "stdout",
     "output_type": "stream",
     "text": [
      "[CV]  estimator__max_depth=1, estimator__max_features=sqrt, estimator__max_leaf_nodes=50, estimator__min_samples_leaf=1, estimator__splitter=best, score=-0.018, total=   0.1s\n",
      "[CV] estimator__max_depth=1, estimator__max_features=sqrt, estimator__max_leaf_nodes=50, estimator__min_samples_leaf=1, estimator__splitter=random \n",
      "[CV]  estimator__max_depth=1, estimator__max_features=sqrt, estimator__max_leaf_nodes=50, estimator__min_samples_leaf=1, estimator__splitter=random, score=-0.018, total=   0.1s\n",
      "[CV] estimator__max_depth=1, estimator__max_features=sqrt, estimator__max_leaf_nodes=50, estimator__min_samples_leaf=1, estimator__splitter=random \n",
      "[CV]  estimator__max_depth=1, estimator__max_features=sqrt, estimator__max_leaf_nodes=50, estimator__min_samples_leaf=1, estimator__splitter=random, score=-0.018, total=   0.1s\n",
      "[CV] estimator__max_depth=1, estimator__max_features=sqrt, estimator__max_leaf_nodes=50, estimator__min_samples_leaf=1, estimator__splitter=random \n"
     ]
    },
    {
     "name": "stderr",
     "output_type": "stream",
     "text": [
      "/home/abhinav/anaconda3/lib/python3.8/site-packages/sklearn/multiclass.py:76: UserWarning: Label not 10 is present in all training examples.\n",
      "  warnings.warn(\"Label %s is present in all training examples.\" %\n"
     ]
    },
    {
     "name": "stdout",
     "output_type": "stream",
     "text": [
      "[CV]  estimator__max_depth=1, estimator__max_features=sqrt, estimator__max_leaf_nodes=50, estimator__min_samples_leaf=1, estimator__splitter=random, score=-0.018, total=   0.1s\n",
      "[CV] estimator__max_depth=1, estimator__max_features=sqrt, estimator__max_leaf_nodes=50, estimator__min_samples_leaf=3, estimator__splitter=best \n",
      "[CV]  estimator__max_depth=1, estimator__max_features=sqrt, estimator__max_leaf_nodes=50, estimator__min_samples_leaf=3, estimator__splitter=best, score=-0.018, total=   0.1s\n",
      "[CV] estimator__max_depth=1, estimator__max_features=sqrt, estimator__max_leaf_nodes=50, estimator__min_samples_leaf=3, estimator__splitter=best \n",
      "[CV]  estimator__max_depth=1, estimator__max_features=sqrt, estimator__max_leaf_nodes=50, estimator__min_samples_leaf=3, estimator__splitter=best, score=-0.018, total=   0.1s\n",
      "[CV] estimator__max_depth=1, estimator__max_features=sqrt, estimator__max_leaf_nodes=50, estimator__min_samples_leaf=3, estimator__splitter=best \n"
     ]
    },
    {
     "name": "stderr",
     "output_type": "stream",
     "text": [
      "/home/abhinav/anaconda3/lib/python3.8/site-packages/sklearn/multiclass.py:76: UserWarning: Label not 10 is present in all training examples.\n",
      "  warnings.warn(\"Label %s is present in all training examples.\" %\n"
     ]
    },
    {
     "name": "stdout",
     "output_type": "stream",
     "text": [
      "[CV]  estimator__max_depth=1, estimator__max_features=sqrt, estimator__max_leaf_nodes=50, estimator__min_samples_leaf=3, estimator__splitter=best, score=-0.018, total=   0.1s\n",
      "[CV] estimator__max_depth=1, estimator__max_features=sqrt, estimator__max_leaf_nodes=50, estimator__min_samples_leaf=3, estimator__splitter=random \n",
      "[CV]  estimator__max_depth=1, estimator__max_features=sqrt, estimator__max_leaf_nodes=50, estimator__min_samples_leaf=3, estimator__splitter=random, score=-0.018, total=   0.1s\n",
      "[CV] estimator__max_depth=1, estimator__max_features=sqrt, estimator__max_leaf_nodes=50, estimator__min_samples_leaf=3, estimator__splitter=random \n",
      "[CV]  estimator__max_depth=1, estimator__max_features=sqrt, estimator__max_leaf_nodes=50, estimator__min_samples_leaf=3, estimator__splitter=random, score=-0.018, total=   0.1s\n",
      "[CV] estimator__max_depth=1, estimator__max_features=sqrt, estimator__max_leaf_nodes=50, estimator__min_samples_leaf=3, estimator__splitter=random \n"
     ]
    },
    {
     "name": "stderr",
     "output_type": "stream",
     "text": [
      "/home/abhinav/anaconda3/lib/python3.8/site-packages/sklearn/multiclass.py:76: UserWarning: Label not 10 is present in all training examples.\n",
      "  warnings.warn(\"Label %s is present in all training examples.\" %\n"
     ]
    },
    {
     "name": "stdout",
     "output_type": "stream",
     "text": [
      "[CV]  estimator__max_depth=1, estimator__max_features=sqrt, estimator__max_leaf_nodes=50, estimator__min_samples_leaf=3, estimator__splitter=random, score=-0.018, total=   0.1s\n",
      "[CV] estimator__max_depth=1, estimator__max_features=sqrt, estimator__max_leaf_nodes=50, estimator__min_samples_leaf=5, estimator__splitter=best \n",
      "[CV]  estimator__max_depth=1, estimator__max_features=sqrt, estimator__max_leaf_nodes=50, estimator__min_samples_leaf=5, estimator__splitter=best, score=-0.018, total=   0.1s\n",
      "[CV] estimator__max_depth=1, estimator__max_features=sqrt, estimator__max_leaf_nodes=50, estimator__min_samples_leaf=5, estimator__splitter=best \n",
      "[CV]  estimator__max_depth=1, estimator__max_features=sqrt, estimator__max_leaf_nodes=50, estimator__min_samples_leaf=5, estimator__splitter=best, score=-0.018, total=   0.1s\n",
      "[CV] estimator__max_depth=1, estimator__max_features=sqrt, estimator__max_leaf_nodes=50, estimator__min_samples_leaf=5, estimator__splitter=best \n"
     ]
    },
    {
     "name": "stderr",
     "output_type": "stream",
     "text": [
      "/home/abhinav/anaconda3/lib/python3.8/site-packages/sklearn/multiclass.py:76: UserWarning: Label not 10 is present in all training examples.\n",
      "  warnings.warn(\"Label %s is present in all training examples.\" %\n"
     ]
    },
    {
     "name": "stdout",
     "output_type": "stream",
     "text": [
      "[CV]  estimator__max_depth=1, estimator__max_features=sqrt, estimator__max_leaf_nodes=50, estimator__min_samples_leaf=5, estimator__splitter=best, score=-0.018, total=   0.1s\n",
      "[CV] estimator__max_depth=1, estimator__max_features=sqrt, estimator__max_leaf_nodes=50, estimator__min_samples_leaf=5, estimator__splitter=random \n",
      "[CV]  estimator__max_depth=1, estimator__max_features=sqrt, estimator__max_leaf_nodes=50, estimator__min_samples_leaf=5, estimator__splitter=random, score=-0.018, total=   0.1s\n",
      "[CV] estimator__max_depth=1, estimator__max_features=sqrt, estimator__max_leaf_nodes=50, estimator__min_samples_leaf=5, estimator__splitter=random \n",
      "[CV]  estimator__max_depth=1, estimator__max_features=sqrt, estimator__max_leaf_nodes=50, estimator__min_samples_leaf=5, estimator__splitter=random, score=-0.018, total=   0.1s\n",
      "[CV] estimator__max_depth=1, estimator__max_features=sqrt, estimator__max_leaf_nodes=50, estimator__min_samples_leaf=5, estimator__splitter=random \n"
     ]
    },
    {
     "name": "stderr",
     "output_type": "stream",
     "text": [
      "/home/abhinav/anaconda3/lib/python3.8/site-packages/sklearn/multiclass.py:76: UserWarning: Label not 10 is present in all training examples.\n",
      "  warnings.warn(\"Label %s is present in all training examples.\" %\n"
     ]
    },
    {
     "name": "stdout",
     "output_type": "stream",
     "text": [
      "[CV]  estimator__max_depth=1, estimator__max_features=sqrt, estimator__max_leaf_nodes=50, estimator__min_samples_leaf=5, estimator__splitter=random, score=-0.018, total=   0.1s\n",
      "[CV] estimator__max_depth=1, estimator__max_features=sqrt, estimator__max_leaf_nodes=70, estimator__min_samples_leaf=1, estimator__splitter=best \n",
      "[CV]  estimator__max_depth=1, estimator__max_features=sqrt, estimator__max_leaf_nodes=70, estimator__min_samples_leaf=1, estimator__splitter=best, score=-0.018, total=   0.1s\n",
      "[CV] estimator__max_depth=1, estimator__max_features=sqrt, estimator__max_leaf_nodes=70, estimator__min_samples_leaf=1, estimator__splitter=best \n",
      "[CV]  estimator__max_depth=1, estimator__max_features=sqrt, estimator__max_leaf_nodes=70, estimator__min_samples_leaf=1, estimator__splitter=best, score=-0.018, total=   0.1s\n",
      "[CV] estimator__max_depth=1, estimator__max_features=sqrt, estimator__max_leaf_nodes=70, estimator__min_samples_leaf=1, estimator__splitter=best \n",
      "[CV]  estimator__max_depth=1, estimator__max_features=sqrt, estimator__max_leaf_nodes=70, estimator__min_samples_leaf=1, estimator__splitter=best, score=-0.018, total=   0.1s\n",
      "[CV] estimator__max_depth=1, estimator__max_features=sqrt, estimator__max_leaf_nodes=70, estimator__min_samples_leaf=1, estimator__splitter=random \n"
     ]
    },
    {
     "name": "stderr",
     "output_type": "stream",
     "text": [
      "/home/abhinav/anaconda3/lib/python3.8/site-packages/sklearn/multiclass.py:76: UserWarning: Label not 10 is present in all training examples.\n",
      "  warnings.warn(\"Label %s is present in all training examples.\" %\n",
      "/home/abhinav/anaconda3/lib/python3.8/site-packages/sklearn/multiclass.py:76: UserWarning: Label not 10 is present in all training examples.\n",
      "  warnings.warn(\"Label %s is present in all training examples.\" %\n"
     ]
    },
    {
     "name": "stdout",
     "output_type": "stream",
     "text": [
      "[CV]  estimator__max_depth=1, estimator__max_features=sqrt, estimator__max_leaf_nodes=70, estimator__min_samples_leaf=1, estimator__splitter=random, score=-0.018, total=   0.1s\n",
      "[CV] estimator__max_depth=1, estimator__max_features=sqrt, estimator__max_leaf_nodes=70, estimator__min_samples_leaf=1, estimator__splitter=random \n",
      "[CV]  estimator__max_depth=1, estimator__max_features=sqrt, estimator__max_leaf_nodes=70, estimator__min_samples_leaf=1, estimator__splitter=random, score=-0.018, total=   0.1s\n",
      "[CV] estimator__max_depth=1, estimator__max_features=sqrt, estimator__max_leaf_nodes=70, estimator__min_samples_leaf=1, estimator__splitter=random \n",
      "[CV]  estimator__max_depth=1, estimator__max_features=sqrt, estimator__max_leaf_nodes=70, estimator__min_samples_leaf=1, estimator__splitter=random, score=-0.018, total=   0.1s\n",
      "[CV] estimator__max_depth=1, estimator__max_features=sqrt, estimator__max_leaf_nodes=70, estimator__min_samples_leaf=3, estimator__splitter=best \n",
      "[CV]  estimator__max_depth=1, estimator__max_features=sqrt, estimator__max_leaf_nodes=70, estimator__min_samples_leaf=3, estimator__splitter=best, score=-0.018, total=   0.1s\n",
      "[CV] estimator__max_depth=1, estimator__max_features=sqrt, estimator__max_leaf_nodes=70, estimator__min_samples_leaf=3, estimator__splitter=best \n"
     ]
    },
    {
     "name": "stderr",
     "output_type": "stream",
     "text": [
      "/home/abhinav/anaconda3/lib/python3.8/site-packages/sklearn/multiclass.py:76: UserWarning: Label not 10 is present in all training examples.\n",
      "  warnings.warn(\"Label %s is present in all training examples.\" %\n",
      "/home/abhinav/anaconda3/lib/python3.8/site-packages/sklearn/multiclass.py:76: UserWarning: Label not 10 is present in all training examples.\n",
      "  warnings.warn(\"Label %s is present in all training examples.\" %\n"
     ]
    },
    {
     "name": "stdout",
     "output_type": "stream",
     "text": [
      "[CV]  estimator__max_depth=1, estimator__max_features=sqrt, estimator__max_leaf_nodes=70, estimator__min_samples_leaf=3, estimator__splitter=best, score=-0.018, total=   0.1s\n",
      "[CV] estimator__max_depth=1, estimator__max_features=sqrt, estimator__max_leaf_nodes=70, estimator__min_samples_leaf=3, estimator__splitter=best \n",
      "[CV]  estimator__max_depth=1, estimator__max_features=sqrt, estimator__max_leaf_nodes=70, estimator__min_samples_leaf=3, estimator__splitter=best, score=-0.018, total=   0.1s\n",
      "[CV] estimator__max_depth=1, estimator__max_features=sqrt, estimator__max_leaf_nodes=70, estimator__min_samples_leaf=3, estimator__splitter=random \n",
      "[CV]  estimator__max_depth=1, estimator__max_features=sqrt, estimator__max_leaf_nodes=70, estimator__min_samples_leaf=3, estimator__splitter=random, score=-0.018, total=   0.1s\n",
      "[CV] estimator__max_depth=1, estimator__max_features=sqrt, estimator__max_leaf_nodes=70, estimator__min_samples_leaf=3, estimator__splitter=random \n",
      "[CV]  estimator__max_depth=1, estimator__max_features=sqrt, estimator__max_leaf_nodes=70, estimator__min_samples_leaf=3, estimator__splitter=random, score=-0.018, total=   0.1s\n",
      "[CV] estimator__max_depth=1, estimator__max_features=sqrt, estimator__max_leaf_nodes=70, estimator__min_samples_leaf=3, estimator__splitter=random \n",
      "[CV]  estimator__max_depth=1, estimator__max_features=sqrt, estimator__max_leaf_nodes=70, estimator__min_samples_leaf=3, estimator__splitter=random, score=-0.018, total=   0.1s\n",
      "[CV] estimator__max_depth=1, estimator__max_features=sqrt, estimator__max_leaf_nodes=70, estimator__min_samples_leaf=5, estimator__splitter=best \n",
      "[CV]  estimator__max_depth=1, estimator__max_features=sqrt, estimator__max_leaf_nodes=70, estimator__min_samples_leaf=5, estimator__splitter=best, score=-0.018, total=   0.1s\n",
      "[CV] estimator__max_depth=1, estimator__max_features=sqrt, estimator__max_leaf_nodes=70, estimator__min_samples_leaf=5, estimator__splitter=best \n",
      "[CV]  estimator__max_depth=1, estimator__max_features=sqrt, estimator__max_leaf_nodes=70, estimator__min_samples_leaf=5, estimator__splitter=best, score=-0.018, total=   0.1s\n",
      "[CV] estimator__max_depth=1, estimator__max_features=sqrt, estimator__max_leaf_nodes=70, estimator__min_samples_leaf=5, estimator__splitter=best \n",
      "[CV]  estimator__max_depth=1, estimator__max_features=sqrt, estimator__max_leaf_nodes=70, estimator__min_samples_leaf=5, estimator__splitter=best, score=-0.018, total=   0.1s\n",
      "[CV] estimator__max_depth=1, estimator__max_features=sqrt, estimator__max_leaf_nodes=70, estimator__min_samples_leaf=5, estimator__splitter=random \n"
     ]
    },
    {
     "name": "stderr",
     "output_type": "stream",
     "text": [
      "/home/abhinav/anaconda3/lib/python3.8/site-packages/sklearn/multiclass.py:76: UserWarning: Label not 10 is present in all training examples.\n",
      "  warnings.warn(\"Label %s is present in all training examples.\" %\n",
      "/home/abhinav/anaconda3/lib/python3.8/site-packages/sklearn/multiclass.py:76: UserWarning: Label not 10 is present in all training examples.\n",
      "  warnings.warn(\"Label %s is present in all training examples.\" %\n"
     ]
    },
    {
     "name": "stdout",
     "output_type": "stream",
     "text": [
      "[CV]  estimator__max_depth=1, estimator__max_features=sqrt, estimator__max_leaf_nodes=70, estimator__min_samples_leaf=5, estimator__splitter=random, score=-0.018, total=   0.1s\n",
      "[CV] estimator__max_depth=1, estimator__max_features=sqrt, estimator__max_leaf_nodes=70, estimator__min_samples_leaf=5, estimator__splitter=random \n",
      "[CV]  estimator__max_depth=1, estimator__max_features=sqrt, estimator__max_leaf_nodes=70, estimator__min_samples_leaf=5, estimator__splitter=random, score=-0.018, total=   0.1s\n",
      "[CV] estimator__max_depth=1, estimator__max_features=sqrt, estimator__max_leaf_nodes=70, estimator__min_samples_leaf=5, estimator__splitter=random \n",
      "[CV]  estimator__max_depth=1, estimator__max_features=sqrt, estimator__max_leaf_nodes=70, estimator__min_samples_leaf=5, estimator__splitter=random, score=-0.018, total=   0.1s\n",
      "[CV] estimator__max_depth=1, estimator__max_features=None, estimator__max_leaf_nodes=None, estimator__min_samples_leaf=1, estimator__splitter=best \n"
     ]
    },
    {
     "name": "stderr",
     "output_type": "stream",
     "text": [
      "/home/abhinav/anaconda3/lib/python3.8/site-packages/sklearn/multiclass.py:76: UserWarning: Label not 10 is present in all training examples.\n",
      "  warnings.warn(\"Label %s is present in all training examples.\" %\n"
     ]
    },
    {
     "name": "stdout",
     "output_type": "stream",
     "text": [
      "[CV]  estimator__max_depth=1, estimator__max_features=None, estimator__max_leaf_nodes=None, estimator__min_samples_leaf=1, estimator__splitter=best, score=-0.011, total=   0.1s\n",
      "[CV] estimator__max_depth=1, estimator__max_features=None, estimator__max_leaf_nodes=None, estimator__min_samples_leaf=1, estimator__splitter=best \n",
      "[CV]  estimator__max_depth=1, estimator__max_features=None, estimator__max_leaf_nodes=None, estimator__min_samples_leaf=1, estimator__splitter=best, score=-0.011, total=   0.1s\n",
      "[CV] estimator__max_depth=1, estimator__max_features=None, estimator__max_leaf_nodes=None, estimator__min_samples_leaf=1, estimator__splitter=best \n",
      "[CV]  estimator__max_depth=1, estimator__max_features=None, estimator__max_leaf_nodes=None, estimator__min_samples_leaf=1, estimator__splitter=best, score=-0.011, total=   0.1s\n",
      "[CV] estimator__max_depth=1, estimator__max_features=None, estimator__max_leaf_nodes=None, estimator__min_samples_leaf=1, estimator__splitter=random \n"
     ]
    },
    {
     "name": "stderr",
     "output_type": "stream",
     "text": [
      "/home/abhinav/anaconda3/lib/python3.8/site-packages/sklearn/multiclass.py:76: UserWarning: Label not 10 is present in all training examples.\n",
      "  warnings.warn(\"Label %s is present in all training examples.\" %\n"
     ]
    },
    {
     "name": "stdout",
     "output_type": "stream",
     "text": [
      "[CV]  estimator__max_depth=1, estimator__max_features=None, estimator__max_leaf_nodes=None, estimator__min_samples_leaf=1, estimator__splitter=random, score=-0.013, total=   0.1s\n",
      "[CV] estimator__max_depth=1, estimator__max_features=None, estimator__max_leaf_nodes=None, estimator__min_samples_leaf=1, estimator__splitter=random \n",
      "[CV]  estimator__max_depth=1, estimator__max_features=None, estimator__max_leaf_nodes=None, estimator__min_samples_leaf=1, estimator__splitter=random, score=-0.012, total=   0.1s\n",
      "[CV] estimator__max_depth=1, estimator__max_features=None, estimator__max_leaf_nodes=None, estimator__min_samples_leaf=1, estimator__splitter=random \n",
      "[CV]  estimator__max_depth=1, estimator__max_features=None, estimator__max_leaf_nodes=None, estimator__min_samples_leaf=1, estimator__splitter=random, score=-0.014, total=   0.1s\n",
      "[CV] estimator__max_depth=1, estimator__max_features=None, estimator__max_leaf_nodes=None, estimator__min_samples_leaf=3, estimator__splitter=best \n"
     ]
    },
    {
     "name": "stderr",
     "output_type": "stream",
     "text": [
      "/home/abhinav/anaconda3/lib/python3.8/site-packages/sklearn/multiclass.py:76: UserWarning: Label not 10 is present in all training examples.\n",
      "  warnings.warn(\"Label %s is present in all training examples.\" %\n"
     ]
    },
    {
     "name": "stdout",
     "output_type": "stream",
     "text": [
      "[CV]  estimator__max_depth=1, estimator__max_features=None, estimator__max_leaf_nodes=None, estimator__min_samples_leaf=3, estimator__splitter=best, score=-0.012, total=   0.1s\n",
      "[CV] estimator__max_depth=1, estimator__max_features=None, estimator__max_leaf_nodes=None, estimator__min_samples_leaf=3, estimator__splitter=best \n",
      "[CV]  estimator__max_depth=1, estimator__max_features=None, estimator__max_leaf_nodes=None, estimator__min_samples_leaf=3, estimator__splitter=best, score=-0.012, total=   0.1s\n",
      "[CV] estimator__max_depth=1, estimator__max_features=None, estimator__max_leaf_nodes=None, estimator__min_samples_leaf=3, estimator__splitter=best \n",
      "[CV]  estimator__max_depth=1, estimator__max_features=None, estimator__max_leaf_nodes=None, estimator__min_samples_leaf=3, estimator__splitter=best, score=-0.012, total=   0.1s\n",
      "[CV] estimator__max_depth=1, estimator__max_features=None, estimator__max_leaf_nodes=None, estimator__min_samples_leaf=3, estimator__splitter=random \n"
     ]
    },
    {
     "name": "stderr",
     "output_type": "stream",
     "text": [
      "/home/abhinav/anaconda3/lib/python3.8/site-packages/sklearn/multiclass.py:76: UserWarning: Label not 10 is present in all training examples.\n",
      "  warnings.warn(\"Label %s is present in all training examples.\" %\n"
     ]
    },
    {
     "name": "stdout",
     "output_type": "stream",
     "text": [
      "[CV]  estimator__max_depth=1, estimator__max_features=None, estimator__max_leaf_nodes=None, estimator__min_samples_leaf=3, estimator__splitter=random, score=-0.015, total=   0.1s\n",
      "[CV] estimator__max_depth=1, estimator__max_features=None, estimator__max_leaf_nodes=None, estimator__min_samples_leaf=3, estimator__splitter=random \n",
      "[CV]  estimator__max_depth=1, estimator__max_features=None, estimator__max_leaf_nodes=None, estimator__min_samples_leaf=3, estimator__splitter=random, score=-0.014, total=   0.1s\n",
      "[CV] estimator__max_depth=1, estimator__max_features=None, estimator__max_leaf_nodes=None, estimator__min_samples_leaf=3, estimator__splitter=random \n",
      "[CV]  estimator__max_depth=1, estimator__max_features=None, estimator__max_leaf_nodes=None, estimator__min_samples_leaf=3, estimator__splitter=random, score=-0.014, total=   0.1s\n",
      "[CV] estimator__max_depth=1, estimator__max_features=None, estimator__max_leaf_nodes=None, estimator__min_samples_leaf=5, estimator__splitter=best \n"
     ]
    },
    {
     "name": "stderr",
     "output_type": "stream",
     "text": [
      "/home/abhinav/anaconda3/lib/python3.8/site-packages/sklearn/multiclass.py:76: UserWarning: Label not 10 is present in all training examples.\n",
      "  warnings.warn(\"Label %s is present in all training examples.\" %\n"
     ]
    },
    {
     "name": "stdout",
     "output_type": "stream",
     "text": [
      "[CV]  estimator__max_depth=1, estimator__max_features=None, estimator__max_leaf_nodes=None, estimator__min_samples_leaf=5, estimator__splitter=best, score=-0.015, total=   0.1s\n",
      "[CV] estimator__max_depth=1, estimator__max_features=None, estimator__max_leaf_nodes=None, estimator__min_samples_leaf=5, estimator__splitter=best \n",
      "[CV]  estimator__max_depth=1, estimator__max_features=None, estimator__max_leaf_nodes=None, estimator__min_samples_leaf=5, estimator__splitter=best, score=-0.014, total=   0.1s\n",
      "[CV] estimator__max_depth=1, estimator__max_features=None, estimator__max_leaf_nodes=None, estimator__min_samples_leaf=5, estimator__splitter=best \n",
      "[CV]  estimator__max_depth=1, estimator__max_features=None, estimator__max_leaf_nodes=None, estimator__min_samples_leaf=5, estimator__splitter=best, score=-0.016, total=   0.1s\n",
      "[CV] estimator__max_depth=1, estimator__max_features=None, estimator__max_leaf_nodes=None, estimator__min_samples_leaf=5, estimator__splitter=random \n"
     ]
    },
    {
     "name": "stderr",
     "output_type": "stream",
     "text": [
      "/home/abhinav/anaconda3/lib/python3.8/site-packages/sklearn/multiclass.py:76: UserWarning: Label not 10 is present in all training examples.\n",
      "  warnings.warn(\"Label %s is present in all training examples.\" %\n"
     ]
    },
    {
     "name": "stdout",
     "output_type": "stream",
     "text": [
      "[CV]  estimator__max_depth=1, estimator__max_features=None, estimator__max_leaf_nodes=None, estimator__min_samples_leaf=5, estimator__splitter=random, score=-0.017, total=   0.1s\n",
      "[CV] estimator__max_depth=1, estimator__max_features=None, estimator__max_leaf_nodes=None, estimator__min_samples_leaf=5, estimator__splitter=random \n",
      "[CV]  estimator__max_depth=1, estimator__max_features=None, estimator__max_leaf_nodes=None, estimator__min_samples_leaf=5, estimator__splitter=random, score=-0.016, total=   0.1s\n",
      "[CV] estimator__max_depth=1, estimator__max_features=None, estimator__max_leaf_nodes=None, estimator__min_samples_leaf=5, estimator__splitter=random \n",
      "[CV]  estimator__max_depth=1, estimator__max_features=None, estimator__max_leaf_nodes=None, estimator__min_samples_leaf=5, estimator__splitter=random, score=-0.017, total=   0.1s\n",
      "[CV] estimator__max_depth=1, estimator__max_features=None, estimator__max_leaf_nodes=10, estimator__min_samples_leaf=1, estimator__splitter=best \n"
     ]
    },
    {
     "name": "stderr",
     "output_type": "stream",
     "text": [
      "/home/abhinav/anaconda3/lib/python3.8/site-packages/sklearn/multiclass.py:76: UserWarning: Label not 10 is present in all training examples.\n",
      "  warnings.warn(\"Label %s is present in all training examples.\" %\n"
     ]
    },
    {
     "name": "stdout",
     "output_type": "stream",
     "text": [
      "[CV]  estimator__max_depth=1, estimator__max_features=None, estimator__max_leaf_nodes=10, estimator__min_samples_leaf=1, estimator__splitter=best, score=-0.011, total=   0.1s\n",
      "[CV] estimator__max_depth=1, estimator__max_features=None, estimator__max_leaf_nodes=10, estimator__min_samples_leaf=1, estimator__splitter=best \n",
      "[CV]  estimator__max_depth=1, estimator__max_features=None, estimator__max_leaf_nodes=10, estimator__min_samples_leaf=1, estimator__splitter=best, score=-0.011, total=   0.1s\n",
      "[CV] estimator__max_depth=1, estimator__max_features=None, estimator__max_leaf_nodes=10, estimator__min_samples_leaf=1, estimator__splitter=best \n",
      "[CV]  estimator__max_depth=1, estimator__max_features=None, estimator__max_leaf_nodes=10, estimator__min_samples_leaf=1, estimator__splitter=best, score=-0.011, total=   0.1s\n",
      "[CV] estimator__max_depth=1, estimator__max_features=None, estimator__max_leaf_nodes=10, estimator__min_samples_leaf=1, estimator__splitter=random \n"
     ]
    },
    {
     "name": "stderr",
     "output_type": "stream",
     "text": [
      "/home/abhinav/anaconda3/lib/python3.8/site-packages/sklearn/multiclass.py:76: UserWarning: Label not 10 is present in all training examples.\n",
      "  warnings.warn(\"Label %s is present in all training examples.\" %\n"
     ]
    },
    {
     "name": "stdout",
     "output_type": "stream",
     "text": [
      "[CV]  estimator__max_depth=1, estimator__max_features=None, estimator__max_leaf_nodes=10, estimator__min_samples_leaf=1, estimator__splitter=random, score=-0.013, total=   0.1s\n",
      "[CV] estimator__max_depth=1, estimator__max_features=None, estimator__max_leaf_nodes=10, estimator__min_samples_leaf=1, estimator__splitter=random \n",
      "[CV]  estimator__max_depth=1, estimator__max_features=None, estimator__max_leaf_nodes=10, estimator__min_samples_leaf=1, estimator__splitter=random, score=-0.014, total=   0.1s\n",
      "[CV] estimator__max_depth=1, estimator__max_features=None, estimator__max_leaf_nodes=10, estimator__min_samples_leaf=1, estimator__splitter=random \n",
      "[CV]  estimator__max_depth=1, estimator__max_features=None, estimator__max_leaf_nodes=10, estimator__min_samples_leaf=1, estimator__splitter=random, score=-0.013, total=   0.1s\n",
      "[CV] estimator__max_depth=1, estimator__max_features=None, estimator__max_leaf_nodes=10, estimator__min_samples_leaf=3, estimator__splitter=best \n"
     ]
    },
    {
     "name": "stderr",
     "output_type": "stream",
     "text": [
      "/home/abhinav/anaconda3/lib/python3.8/site-packages/sklearn/multiclass.py:76: UserWarning: Label not 10 is present in all training examples.\n",
      "  warnings.warn(\"Label %s is present in all training examples.\" %\n"
     ]
    },
    {
     "name": "stdout",
     "output_type": "stream",
     "text": [
      "[CV]  estimator__max_depth=1, estimator__max_features=None, estimator__max_leaf_nodes=10, estimator__min_samples_leaf=3, estimator__splitter=best, score=-0.012, total=   0.1s\n",
      "[CV] estimator__max_depth=1, estimator__max_features=None, estimator__max_leaf_nodes=10, estimator__min_samples_leaf=3, estimator__splitter=best \n",
      "[CV]  estimator__max_depth=1, estimator__max_features=None, estimator__max_leaf_nodes=10, estimator__min_samples_leaf=3, estimator__splitter=best, score=-0.011, total=   0.1s\n",
      "[CV] estimator__max_depth=1, estimator__max_features=None, estimator__max_leaf_nodes=10, estimator__min_samples_leaf=3, estimator__splitter=best \n",
      "[CV]  estimator__max_depth=1, estimator__max_features=None, estimator__max_leaf_nodes=10, estimator__min_samples_leaf=3, estimator__splitter=best, score=-0.011, total=   0.1s\n",
      "[CV] estimator__max_depth=1, estimator__max_features=None, estimator__max_leaf_nodes=10, estimator__min_samples_leaf=3, estimator__splitter=random \n"
     ]
    },
    {
     "name": "stderr",
     "output_type": "stream",
     "text": [
      "/home/abhinav/anaconda3/lib/python3.8/site-packages/sklearn/multiclass.py:76: UserWarning: Label not 10 is present in all training examples.\n",
      "  warnings.warn(\"Label %s is present in all training examples.\" %\n"
     ]
    },
    {
     "name": "stdout",
     "output_type": "stream",
     "text": [
      "[CV]  estimator__max_depth=1, estimator__max_features=None, estimator__max_leaf_nodes=10, estimator__min_samples_leaf=3, estimator__splitter=random, score=-0.013, total=   0.1s\n",
      "[CV] estimator__max_depth=1, estimator__max_features=None, estimator__max_leaf_nodes=10, estimator__min_samples_leaf=3, estimator__splitter=random \n",
      "[CV]  estimator__max_depth=1, estimator__max_features=None, estimator__max_leaf_nodes=10, estimator__min_samples_leaf=3, estimator__splitter=random, score=-0.014, total=   0.1s\n",
      "[CV] estimator__max_depth=1, estimator__max_features=None, estimator__max_leaf_nodes=10, estimator__min_samples_leaf=3, estimator__splitter=random \n",
      "[CV]  estimator__max_depth=1, estimator__max_features=None, estimator__max_leaf_nodes=10, estimator__min_samples_leaf=3, estimator__splitter=random, score=-0.014, total=   0.1s\n",
      "[CV] estimator__max_depth=1, estimator__max_features=None, estimator__max_leaf_nodes=10, estimator__min_samples_leaf=5, estimator__splitter=best \n"
     ]
    },
    {
     "name": "stderr",
     "output_type": "stream",
     "text": [
      "/home/abhinav/anaconda3/lib/python3.8/site-packages/sklearn/multiclass.py:76: UserWarning: Label not 10 is present in all training examples.\n",
      "  warnings.warn(\"Label %s is present in all training examples.\" %\n"
     ]
    },
    {
     "name": "stdout",
     "output_type": "stream",
     "text": [
      "[CV]  estimator__max_depth=1, estimator__max_features=None, estimator__max_leaf_nodes=10, estimator__min_samples_leaf=5, estimator__splitter=best, score=-0.015, total=   0.1s\n",
      "[CV] estimator__max_depth=1, estimator__max_features=None, estimator__max_leaf_nodes=10, estimator__min_samples_leaf=5, estimator__splitter=best \n",
      "[CV]  estimator__max_depth=1, estimator__max_features=None, estimator__max_leaf_nodes=10, estimator__min_samples_leaf=5, estimator__splitter=best, score=-0.014, total=   0.1s\n",
      "[CV] estimator__max_depth=1, estimator__max_features=None, estimator__max_leaf_nodes=10, estimator__min_samples_leaf=5, estimator__splitter=best \n",
      "[CV]  estimator__max_depth=1, estimator__max_features=None, estimator__max_leaf_nodes=10, estimator__min_samples_leaf=5, estimator__splitter=best, score=-0.016, total=   0.1s\n",
      "[CV] estimator__max_depth=1, estimator__max_features=None, estimator__max_leaf_nodes=10, estimator__min_samples_leaf=5, estimator__splitter=random \n"
     ]
    },
    {
     "name": "stderr",
     "output_type": "stream",
     "text": [
      "/home/abhinav/anaconda3/lib/python3.8/site-packages/sklearn/multiclass.py:76: UserWarning: Label not 10 is present in all training examples.\n",
      "  warnings.warn(\"Label %s is present in all training examples.\" %\n"
     ]
    },
    {
     "name": "stdout",
     "output_type": "stream",
     "text": [
      "[CV]  estimator__max_depth=1, estimator__max_features=None, estimator__max_leaf_nodes=10, estimator__min_samples_leaf=5, estimator__splitter=random, score=-0.017, total=   0.1s\n",
      "[CV] estimator__max_depth=1, estimator__max_features=None, estimator__max_leaf_nodes=10, estimator__min_samples_leaf=5, estimator__splitter=random \n",
      "[CV]  estimator__max_depth=1, estimator__max_features=None, estimator__max_leaf_nodes=10, estimator__min_samples_leaf=5, estimator__splitter=random, score=-0.016, total=   0.1s\n",
      "[CV] estimator__max_depth=1, estimator__max_features=None, estimator__max_leaf_nodes=10, estimator__min_samples_leaf=5, estimator__splitter=random \n",
      "[CV]  estimator__max_depth=1, estimator__max_features=None, estimator__max_leaf_nodes=10, estimator__min_samples_leaf=5, estimator__splitter=random, score=-0.017, total=   0.1s\n",
      "[CV] estimator__max_depth=1, estimator__max_features=None, estimator__max_leaf_nodes=20, estimator__min_samples_leaf=1, estimator__splitter=best \n"
     ]
    },
    {
     "name": "stderr",
     "output_type": "stream",
     "text": [
      "/home/abhinav/anaconda3/lib/python3.8/site-packages/sklearn/multiclass.py:76: UserWarning: Label not 10 is present in all training examples.\n",
      "  warnings.warn(\"Label %s is present in all training examples.\" %\n"
     ]
    },
    {
     "name": "stdout",
     "output_type": "stream",
     "text": [
      "[CV]  estimator__max_depth=1, estimator__max_features=None, estimator__max_leaf_nodes=20, estimator__min_samples_leaf=1, estimator__splitter=best, score=-0.011, total=   0.1s\n",
      "[CV] estimator__max_depth=1, estimator__max_features=None, estimator__max_leaf_nodes=20, estimator__min_samples_leaf=1, estimator__splitter=best \n",
      "[CV]  estimator__max_depth=1, estimator__max_features=None, estimator__max_leaf_nodes=20, estimator__min_samples_leaf=1, estimator__splitter=best, score=-0.012, total=   0.1s\n",
      "[CV] estimator__max_depth=1, estimator__max_features=None, estimator__max_leaf_nodes=20, estimator__min_samples_leaf=1, estimator__splitter=best \n",
      "[CV]  estimator__max_depth=1, estimator__max_features=None, estimator__max_leaf_nodes=20, estimator__min_samples_leaf=1, estimator__splitter=best, score=-0.011, total=   0.1s\n",
      "[CV] estimator__max_depth=1, estimator__max_features=None, estimator__max_leaf_nodes=20, estimator__min_samples_leaf=1, estimator__splitter=random \n"
     ]
    },
    {
     "name": "stderr",
     "output_type": "stream",
     "text": [
      "/home/abhinav/anaconda3/lib/python3.8/site-packages/sklearn/multiclass.py:76: UserWarning: Label not 10 is present in all training examples.\n",
      "  warnings.warn(\"Label %s is present in all training examples.\" %\n"
     ]
    },
    {
     "name": "stdout",
     "output_type": "stream",
     "text": [
      "[CV]  estimator__max_depth=1, estimator__max_features=None, estimator__max_leaf_nodes=20, estimator__min_samples_leaf=1, estimator__splitter=random, score=-0.013, total=   0.1s\n",
      "[CV] estimator__max_depth=1, estimator__max_features=None, estimator__max_leaf_nodes=20, estimator__min_samples_leaf=1, estimator__splitter=random \n",
      "[CV]  estimator__max_depth=1, estimator__max_features=None, estimator__max_leaf_nodes=20, estimator__min_samples_leaf=1, estimator__splitter=random, score=-0.015, total=   0.1s\n",
      "[CV] estimator__max_depth=1, estimator__max_features=None, estimator__max_leaf_nodes=20, estimator__min_samples_leaf=1, estimator__splitter=random \n",
      "[CV]  estimator__max_depth=1, estimator__max_features=None, estimator__max_leaf_nodes=20, estimator__min_samples_leaf=1, estimator__splitter=random, score=-0.014, total=   0.1s\n",
      "[CV] estimator__max_depth=1, estimator__max_features=None, estimator__max_leaf_nodes=20, estimator__min_samples_leaf=3, estimator__splitter=best \n"
     ]
    },
    {
     "name": "stderr",
     "output_type": "stream",
     "text": [
      "/home/abhinav/anaconda3/lib/python3.8/site-packages/sklearn/multiclass.py:76: UserWarning: Label not 10 is present in all training examples.\n",
      "  warnings.warn(\"Label %s is present in all training examples.\" %\n"
     ]
    },
    {
     "name": "stdout",
     "output_type": "stream",
     "text": [
      "[CV]  estimator__max_depth=1, estimator__max_features=None, estimator__max_leaf_nodes=20, estimator__min_samples_leaf=3, estimator__splitter=best, score=-0.012, total=   0.1s\n",
      "[CV] estimator__max_depth=1, estimator__max_features=None, estimator__max_leaf_nodes=20, estimator__min_samples_leaf=3, estimator__splitter=best \n",
      "[CV]  estimator__max_depth=1, estimator__max_features=None, estimator__max_leaf_nodes=20, estimator__min_samples_leaf=3, estimator__splitter=best, score=-0.012, total=   0.1s\n",
      "[CV] estimator__max_depth=1, estimator__max_features=None, estimator__max_leaf_nodes=20, estimator__min_samples_leaf=3, estimator__splitter=best \n",
      "[CV]  estimator__max_depth=1, estimator__max_features=None, estimator__max_leaf_nodes=20, estimator__min_samples_leaf=3, estimator__splitter=best, score=-0.011, total=   0.1s\n",
      "[CV] estimator__max_depth=1, estimator__max_features=None, estimator__max_leaf_nodes=20, estimator__min_samples_leaf=3, estimator__splitter=random \n"
     ]
    },
    {
     "name": "stderr",
     "output_type": "stream",
     "text": [
      "/home/abhinav/anaconda3/lib/python3.8/site-packages/sklearn/multiclass.py:76: UserWarning: Label not 10 is present in all training examples.\n",
      "  warnings.warn(\"Label %s is present in all training examples.\" %\n"
     ]
    },
    {
     "name": "stdout",
     "output_type": "stream",
     "text": [
      "[CV]  estimator__max_depth=1, estimator__max_features=None, estimator__max_leaf_nodes=20, estimator__min_samples_leaf=3, estimator__splitter=random, score=-0.016, total=   0.1s\n",
      "[CV] estimator__max_depth=1, estimator__max_features=None, estimator__max_leaf_nodes=20, estimator__min_samples_leaf=3, estimator__splitter=random \n",
      "[CV]  estimator__max_depth=1, estimator__max_features=None, estimator__max_leaf_nodes=20, estimator__min_samples_leaf=3, estimator__splitter=random, score=-0.014, total=   0.1s\n",
      "[CV] estimator__max_depth=1, estimator__max_features=None, estimator__max_leaf_nodes=20, estimator__min_samples_leaf=3, estimator__splitter=random \n",
      "[CV]  estimator__max_depth=1, estimator__max_features=None, estimator__max_leaf_nodes=20, estimator__min_samples_leaf=3, estimator__splitter=random, score=-0.014, total=   0.1s\n",
      "[CV] estimator__max_depth=1, estimator__max_features=None, estimator__max_leaf_nodes=20, estimator__min_samples_leaf=5, estimator__splitter=best \n"
     ]
    },
    {
     "name": "stderr",
     "output_type": "stream",
     "text": [
      "/home/abhinav/anaconda3/lib/python3.8/site-packages/sklearn/multiclass.py:76: UserWarning: Label not 10 is present in all training examples.\n",
      "  warnings.warn(\"Label %s is present in all training examples.\" %\n"
     ]
    },
    {
     "name": "stdout",
     "output_type": "stream",
     "text": [
      "[CV]  estimator__max_depth=1, estimator__max_features=None, estimator__max_leaf_nodes=20, estimator__min_samples_leaf=5, estimator__splitter=best, score=-0.015, total=   0.1s\n",
      "[CV] estimator__max_depth=1, estimator__max_features=None, estimator__max_leaf_nodes=20, estimator__min_samples_leaf=5, estimator__splitter=best \n",
      "[CV]  estimator__max_depth=1, estimator__max_features=None, estimator__max_leaf_nodes=20, estimator__min_samples_leaf=5, estimator__splitter=best, score=-0.014, total=   0.1s\n",
      "[CV] estimator__max_depth=1, estimator__max_features=None, estimator__max_leaf_nodes=20, estimator__min_samples_leaf=5, estimator__splitter=best \n",
      "[CV]  estimator__max_depth=1, estimator__max_features=None, estimator__max_leaf_nodes=20, estimator__min_samples_leaf=5, estimator__splitter=best, score=-0.016, total=   0.1s\n",
      "[CV] estimator__max_depth=1, estimator__max_features=None, estimator__max_leaf_nodes=20, estimator__min_samples_leaf=5, estimator__splitter=random \n"
     ]
    },
    {
     "name": "stderr",
     "output_type": "stream",
     "text": [
      "/home/abhinav/anaconda3/lib/python3.8/site-packages/sklearn/multiclass.py:76: UserWarning: Label not 10 is present in all training examples.\n",
      "  warnings.warn(\"Label %s is present in all training examples.\" %\n"
     ]
    },
    {
     "name": "stdout",
     "output_type": "stream",
     "text": [
      "[CV]  estimator__max_depth=1, estimator__max_features=None, estimator__max_leaf_nodes=20, estimator__min_samples_leaf=5, estimator__splitter=random, score=-0.016, total=   0.1s\n",
      "[CV] estimator__max_depth=1, estimator__max_features=None, estimator__max_leaf_nodes=20, estimator__min_samples_leaf=5, estimator__splitter=random \n",
      "[CV]  estimator__max_depth=1, estimator__max_features=None, estimator__max_leaf_nodes=20, estimator__min_samples_leaf=5, estimator__splitter=random, score=-0.016, total=   0.1s\n",
      "[CV] estimator__max_depth=1, estimator__max_features=None, estimator__max_leaf_nodes=20, estimator__min_samples_leaf=5, estimator__splitter=random \n",
      "[CV]  estimator__max_depth=1, estimator__max_features=None, estimator__max_leaf_nodes=20, estimator__min_samples_leaf=5, estimator__splitter=random, score=-0.017, total=   0.1s\n",
      "[CV] estimator__max_depth=1, estimator__max_features=None, estimator__max_leaf_nodes=30, estimator__min_samples_leaf=1, estimator__splitter=best \n"
     ]
    },
    {
     "name": "stderr",
     "output_type": "stream",
     "text": [
      "/home/abhinav/anaconda3/lib/python3.8/site-packages/sklearn/multiclass.py:76: UserWarning: Label not 10 is present in all training examples.\n",
      "  warnings.warn(\"Label %s is present in all training examples.\" %\n"
     ]
    },
    {
     "name": "stdout",
     "output_type": "stream",
     "text": [
      "[CV]  estimator__max_depth=1, estimator__max_features=None, estimator__max_leaf_nodes=30, estimator__min_samples_leaf=1, estimator__splitter=best, score=-0.012, total=   0.1s\n",
      "[CV] estimator__max_depth=1, estimator__max_features=None, estimator__max_leaf_nodes=30, estimator__min_samples_leaf=1, estimator__splitter=best \n",
      "[CV]  estimator__max_depth=1, estimator__max_features=None, estimator__max_leaf_nodes=30, estimator__min_samples_leaf=1, estimator__splitter=best, score=-0.011, total=   0.1s\n",
      "[CV] estimator__max_depth=1, estimator__max_features=None, estimator__max_leaf_nodes=30, estimator__min_samples_leaf=1, estimator__splitter=best \n",
      "[CV]  estimator__max_depth=1, estimator__max_features=None, estimator__max_leaf_nodes=30, estimator__min_samples_leaf=1, estimator__splitter=best, score=-0.011, total=   0.1s\n",
      "[CV] estimator__max_depth=1, estimator__max_features=None, estimator__max_leaf_nodes=30, estimator__min_samples_leaf=1, estimator__splitter=random \n"
     ]
    },
    {
     "name": "stderr",
     "output_type": "stream",
     "text": [
      "/home/abhinav/anaconda3/lib/python3.8/site-packages/sklearn/multiclass.py:76: UserWarning: Label not 10 is present in all training examples.\n",
      "  warnings.warn(\"Label %s is present in all training examples.\" %\n"
     ]
    },
    {
     "name": "stdout",
     "output_type": "stream",
     "text": [
      "[CV]  estimator__max_depth=1, estimator__max_features=None, estimator__max_leaf_nodes=30, estimator__min_samples_leaf=1, estimator__splitter=random, score=-0.014, total=   0.1s\n",
      "[CV] estimator__max_depth=1, estimator__max_features=None, estimator__max_leaf_nodes=30, estimator__min_samples_leaf=1, estimator__splitter=random \n",
      "[CV]  estimator__max_depth=1, estimator__max_features=None, estimator__max_leaf_nodes=30, estimator__min_samples_leaf=1, estimator__splitter=random, score=-0.013, total=   0.1s\n",
      "[CV] estimator__max_depth=1, estimator__max_features=None, estimator__max_leaf_nodes=30, estimator__min_samples_leaf=1, estimator__splitter=random \n",
      "[CV]  estimator__max_depth=1, estimator__max_features=None, estimator__max_leaf_nodes=30, estimator__min_samples_leaf=1, estimator__splitter=random, score=-0.013, total=   0.1s\n",
      "[CV] estimator__max_depth=1, estimator__max_features=None, estimator__max_leaf_nodes=30, estimator__min_samples_leaf=3, estimator__splitter=best \n"
     ]
    },
    {
     "name": "stderr",
     "output_type": "stream",
     "text": [
      "/home/abhinav/anaconda3/lib/python3.8/site-packages/sklearn/multiclass.py:76: UserWarning: Label not 10 is present in all training examples.\n",
      "  warnings.warn(\"Label %s is present in all training examples.\" %\n"
     ]
    },
    {
     "name": "stdout",
     "output_type": "stream",
     "text": [
      "[CV]  estimator__max_depth=1, estimator__max_features=None, estimator__max_leaf_nodes=30, estimator__min_samples_leaf=3, estimator__splitter=best, score=-0.012, total=   0.1s\n",
      "[CV] estimator__max_depth=1, estimator__max_features=None, estimator__max_leaf_nodes=30, estimator__min_samples_leaf=3, estimator__splitter=best \n",
      "[CV]  estimator__max_depth=1, estimator__max_features=None, estimator__max_leaf_nodes=30, estimator__min_samples_leaf=3, estimator__splitter=best, score=-0.011, total=   0.1s\n",
      "[CV] estimator__max_depth=1, estimator__max_features=None, estimator__max_leaf_nodes=30, estimator__min_samples_leaf=3, estimator__splitter=best \n",
      "[CV]  estimator__max_depth=1, estimator__max_features=None, estimator__max_leaf_nodes=30, estimator__min_samples_leaf=3, estimator__splitter=best, score=-0.012, total=   0.1s\n",
      "[CV] estimator__max_depth=1, estimator__max_features=None, estimator__max_leaf_nodes=30, estimator__min_samples_leaf=3, estimator__splitter=random \n"
     ]
    },
    {
     "name": "stderr",
     "output_type": "stream",
     "text": [
      "/home/abhinav/anaconda3/lib/python3.8/site-packages/sklearn/multiclass.py:76: UserWarning: Label not 10 is present in all training examples.\n",
      "  warnings.warn(\"Label %s is present in all training examples.\" %\n"
     ]
    },
    {
     "name": "stdout",
     "output_type": "stream",
     "text": [
      "[CV]  estimator__max_depth=1, estimator__max_features=None, estimator__max_leaf_nodes=30, estimator__min_samples_leaf=3, estimator__splitter=random, score=-0.014, total=   0.1s\n",
      "[CV] estimator__max_depth=1, estimator__max_features=None, estimator__max_leaf_nodes=30, estimator__min_samples_leaf=3, estimator__splitter=random \n",
      "[CV]  estimator__max_depth=1, estimator__max_features=None, estimator__max_leaf_nodes=30, estimator__min_samples_leaf=3, estimator__splitter=random, score=-0.015, total=   0.1s\n",
      "[CV] estimator__max_depth=1, estimator__max_features=None, estimator__max_leaf_nodes=30, estimator__min_samples_leaf=3, estimator__splitter=random \n",
      "[CV]  estimator__max_depth=1, estimator__max_features=None, estimator__max_leaf_nodes=30, estimator__min_samples_leaf=3, estimator__splitter=random, score=-0.014, total=   0.1s\n",
      "[CV] estimator__max_depth=1, estimator__max_features=None, estimator__max_leaf_nodes=30, estimator__min_samples_leaf=5, estimator__splitter=best \n"
     ]
    },
    {
     "name": "stderr",
     "output_type": "stream",
     "text": [
      "/home/abhinav/anaconda3/lib/python3.8/site-packages/sklearn/multiclass.py:76: UserWarning: Label not 10 is present in all training examples.\n",
      "  warnings.warn(\"Label %s is present in all training examples.\" %\n"
     ]
    },
    {
     "name": "stdout",
     "output_type": "stream",
     "text": [
      "[CV]  estimator__max_depth=1, estimator__max_features=None, estimator__max_leaf_nodes=30, estimator__min_samples_leaf=5, estimator__splitter=best, score=-0.015, total=   0.1s\n",
      "[CV] estimator__max_depth=1, estimator__max_features=None, estimator__max_leaf_nodes=30, estimator__min_samples_leaf=5, estimator__splitter=best \n",
      "[CV]  estimator__max_depth=1, estimator__max_features=None, estimator__max_leaf_nodes=30, estimator__min_samples_leaf=5, estimator__splitter=best, score=-0.014, total=   0.1s\n",
      "[CV] estimator__max_depth=1, estimator__max_features=None, estimator__max_leaf_nodes=30, estimator__min_samples_leaf=5, estimator__splitter=best \n",
      "[CV]  estimator__max_depth=1, estimator__max_features=None, estimator__max_leaf_nodes=30, estimator__min_samples_leaf=5, estimator__splitter=best, score=-0.016, total=   0.1s\n",
      "[CV] estimator__max_depth=1, estimator__max_features=None, estimator__max_leaf_nodes=30, estimator__min_samples_leaf=5, estimator__splitter=random \n"
     ]
    },
    {
     "name": "stderr",
     "output_type": "stream",
     "text": [
      "/home/abhinav/anaconda3/lib/python3.8/site-packages/sklearn/multiclass.py:76: UserWarning: Label not 10 is present in all training examples.\n",
      "  warnings.warn(\"Label %s is present in all training examples.\" %\n"
     ]
    },
    {
     "name": "stdout",
     "output_type": "stream",
     "text": [
      "[CV]  estimator__max_depth=1, estimator__max_features=None, estimator__max_leaf_nodes=30, estimator__min_samples_leaf=5, estimator__splitter=random, score=-0.016, total=   0.1s\n",
      "[CV] estimator__max_depth=1, estimator__max_features=None, estimator__max_leaf_nodes=30, estimator__min_samples_leaf=5, estimator__splitter=random \n",
      "[CV]  estimator__max_depth=1, estimator__max_features=None, estimator__max_leaf_nodes=30, estimator__min_samples_leaf=5, estimator__splitter=random, score=-0.016, total=   0.1s\n",
      "[CV] estimator__max_depth=1, estimator__max_features=None, estimator__max_leaf_nodes=30, estimator__min_samples_leaf=5, estimator__splitter=random \n",
      "[CV]  estimator__max_depth=1, estimator__max_features=None, estimator__max_leaf_nodes=30, estimator__min_samples_leaf=5, estimator__splitter=random, score=-0.017, total=   0.1s\n",
      "[CV] estimator__max_depth=1, estimator__max_features=None, estimator__max_leaf_nodes=40, estimator__min_samples_leaf=1, estimator__splitter=best \n"
     ]
    },
    {
     "name": "stderr",
     "output_type": "stream",
     "text": [
      "/home/abhinav/anaconda3/lib/python3.8/site-packages/sklearn/multiclass.py:76: UserWarning: Label not 10 is present in all training examples.\n",
      "  warnings.warn(\"Label %s is present in all training examples.\" %\n"
     ]
    },
    {
     "name": "stdout",
     "output_type": "stream",
     "text": [
      "[CV]  estimator__max_depth=1, estimator__max_features=None, estimator__max_leaf_nodes=40, estimator__min_samples_leaf=1, estimator__splitter=best, score=-0.011, total=   0.1s\n",
      "[CV] estimator__max_depth=1, estimator__max_features=None, estimator__max_leaf_nodes=40, estimator__min_samples_leaf=1, estimator__splitter=best \n",
      "[CV]  estimator__max_depth=1, estimator__max_features=None, estimator__max_leaf_nodes=40, estimator__min_samples_leaf=1, estimator__splitter=best, score=-0.011, total=   0.1s\n",
      "[CV] estimator__max_depth=1, estimator__max_features=None, estimator__max_leaf_nodes=40, estimator__min_samples_leaf=1, estimator__splitter=best \n",
      "[CV]  estimator__max_depth=1, estimator__max_features=None, estimator__max_leaf_nodes=40, estimator__min_samples_leaf=1, estimator__splitter=best, score=-0.011, total=   0.1s\n",
      "[CV] estimator__max_depth=1, estimator__max_features=None, estimator__max_leaf_nodes=40, estimator__min_samples_leaf=1, estimator__splitter=random \n"
     ]
    },
    {
     "name": "stderr",
     "output_type": "stream",
     "text": [
      "/home/abhinav/anaconda3/lib/python3.8/site-packages/sklearn/multiclass.py:76: UserWarning: Label not 10 is present in all training examples.\n",
      "  warnings.warn(\"Label %s is present in all training examples.\" %\n"
     ]
    },
    {
     "name": "stdout",
     "output_type": "stream",
     "text": [
      "[CV]  estimator__max_depth=1, estimator__max_features=None, estimator__max_leaf_nodes=40, estimator__min_samples_leaf=1, estimator__splitter=random, score=-0.013, total=   0.1s\n",
      "[CV] estimator__max_depth=1, estimator__max_features=None, estimator__max_leaf_nodes=40, estimator__min_samples_leaf=1, estimator__splitter=random \n",
      "[CV]  estimator__max_depth=1, estimator__max_features=None, estimator__max_leaf_nodes=40, estimator__min_samples_leaf=1, estimator__splitter=random, score=-0.013, total=   0.1s\n",
      "[CV] estimator__max_depth=1, estimator__max_features=None, estimator__max_leaf_nodes=40, estimator__min_samples_leaf=1, estimator__splitter=random \n",
      "[CV]  estimator__max_depth=1, estimator__max_features=None, estimator__max_leaf_nodes=40, estimator__min_samples_leaf=1, estimator__splitter=random, score=-0.013, total=   0.1s\n",
      "[CV] estimator__max_depth=1, estimator__max_features=None, estimator__max_leaf_nodes=40, estimator__min_samples_leaf=3, estimator__splitter=best \n"
     ]
    },
    {
     "name": "stderr",
     "output_type": "stream",
     "text": [
      "/home/abhinav/anaconda3/lib/python3.8/site-packages/sklearn/multiclass.py:76: UserWarning: Label not 10 is present in all training examples.\n",
      "  warnings.warn(\"Label %s is present in all training examples.\" %\n"
     ]
    },
    {
     "name": "stdout",
     "output_type": "stream",
     "text": [
      "[CV]  estimator__max_depth=1, estimator__max_features=None, estimator__max_leaf_nodes=40, estimator__min_samples_leaf=3, estimator__splitter=best, score=-0.012, total=   0.1s\n",
      "[CV] estimator__max_depth=1, estimator__max_features=None, estimator__max_leaf_nodes=40, estimator__min_samples_leaf=3, estimator__splitter=best \n",
      "[CV]  estimator__max_depth=1, estimator__max_features=None, estimator__max_leaf_nodes=40, estimator__min_samples_leaf=3, estimator__splitter=best, score=-0.011, total=   0.1s\n",
      "[CV] estimator__max_depth=1, estimator__max_features=None, estimator__max_leaf_nodes=40, estimator__min_samples_leaf=3, estimator__splitter=best \n",
      "[CV]  estimator__max_depth=1, estimator__max_features=None, estimator__max_leaf_nodes=40, estimator__min_samples_leaf=3, estimator__splitter=best, score=-0.011, total=   0.1s\n",
      "[CV] estimator__max_depth=1, estimator__max_features=None, estimator__max_leaf_nodes=40, estimator__min_samples_leaf=3, estimator__splitter=random \n"
     ]
    },
    {
     "name": "stderr",
     "output_type": "stream",
     "text": [
      "/home/abhinav/anaconda3/lib/python3.8/site-packages/sklearn/multiclass.py:76: UserWarning: Label not 10 is present in all training examples.\n",
      "  warnings.warn(\"Label %s is present in all training examples.\" %\n"
     ]
    },
    {
     "name": "stdout",
     "output_type": "stream",
     "text": [
      "[CV]  estimator__max_depth=1, estimator__max_features=None, estimator__max_leaf_nodes=40, estimator__min_samples_leaf=3, estimator__splitter=random, score=-0.014, total=   0.1s\n",
      "[CV] estimator__max_depth=1, estimator__max_features=None, estimator__max_leaf_nodes=40, estimator__min_samples_leaf=3, estimator__splitter=random \n",
      "[CV]  estimator__max_depth=1, estimator__max_features=None, estimator__max_leaf_nodes=40, estimator__min_samples_leaf=3, estimator__splitter=random, score=-0.014, total=   0.1s\n",
      "[CV] estimator__max_depth=1, estimator__max_features=None, estimator__max_leaf_nodes=40, estimator__min_samples_leaf=3, estimator__splitter=random \n",
      "[CV]  estimator__max_depth=1, estimator__max_features=None, estimator__max_leaf_nodes=40, estimator__min_samples_leaf=3, estimator__splitter=random, score=-0.014, total=   0.1s\n",
      "[CV] estimator__max_depth=1, estimator__max_features=None, estimator__max_leaf_nodes=40, estimator__min_samples_leaf=5, estimator__splitter=best \n"
     ]
    },
    {
     "name": "stderr",
     "output_type": "stream",
     "text": [
      "/home/abhinav/anaconda3/lib/python3.8/site-packages/sklearn/multiclass.py:76: UserWarning: Label not 10 is present in all training examples.\n",
      "  warnings.warn(\"Label %s is present in all training examples.\" %\n"
     ]
    },
    {
     "name": "stdout",
     "output_type": "stream",
     "text": [
      "[CV]  estimator__max_depth=1, estimator__max_features=None, estimator__max_leaf_nodes=40, estimator__min_samples_leaf=5, estimator__splitter=best, score=-0.015, total=   0.1s\n",
      "[CV] estimator__max_depth=1, estimator__max_features=None, estimator__max_leaf_nodes=40, estimator__min_samples_leaf=5, estimator__splitter=best \n",
      "[CV]  estimator__max_depth=1, estimator__max_features=None, estimator__max_leaf_nodes=40, estimator__min_samples_leaf=5, estimator__splitter=best, score=-0.014, total=   0.1s\n",
      "[CV] estimator__max_depth=1, estimator__max_features=None, estimator__max_leaf_nodes=40, estimator__min_samples_leaf=5, estimator__splitter=best \n",
      "[CV]  estimator__max_depth=1, estimator__max_features=None, estimator__max_leaf_nodes=40, estimator__min_samples_leaf=5, estimator__splitter=best, score=-0.016, total=   0.1s\n",
      "[CV] estimator__max_depth=1, estimator__max_features=None, estimator__max_leaf_nodes=40, estimator__min_samples_leaf=5, estimator__splitter=random \n"
     ]
    },
    {
     "name": "stderr",
     "output_type": "stream",
     "text": [
      "/home/abhinav/anaconda3/lib/python3.8/site-packages/sklearn/multiclass.py:76: UserWarning: Label not 10 is present in all training examples.\n",
      "  warnings.warn(\"Label %s is present in all training examples.\" %\n"
     ]
    },
    {
     "name": "stdout",
     "output_type": "stream",
     "text": [
      "[CV]  estimator__max_depth=1, estimator__max_features=None, estimator__max_leaf_nodes=40, estimator__min_samples_leaf=5, estimator__splitter=random, score=-0.017, total=   0.1s\n",
      "[CV] estimator__max_depth=1, estimator__max_features=None, estimator__max_leaf_nodes=40, estimator__min_samples_leaf=5, estimator__splitter=random \n",
      "[CV]  estimator__max_depth=1, estimator__max_features=None, estimator__max_leaf_nodes=40, estimator__min_samples_leaf=5, estimator__splitter=random, score=-0.016, total=   0.1s\n",
      "[CV] estimator__max_depth=1, estimator__max_features=None, estimator__max_leaf_nodes=40, estimator__min_samples_leaf=5, estimator__splitter=random \n",
      "[CV]  estimator__max_depth=1, estimator__max_features=None, estimator__max_leaf_nodes=40, estimator__min_samples_leaf=5, estimator__splitter=random, score=-0.016, total=   0.1s\n",
      "[CV] estimator__max_depth=1, estimator__max_features=None, estimator__max_leaf_nodes=50, estimator__min_samples_leaf=1, estimator__splitter=best \n"
     ]
    },
    {
     "name": "stderr",
     "output_type": "stream",
     "text": [
      "/home/abhinav/anaconda3/lib/python3.8/site-packages/sklearn/multiclass.py:76: UserWarning: Label not 10 is present in all training examples.\n",
      "  warnings.warn(\"Label %s is present in all training examples.\" %\n"
     ]
    },
    {
     "name": "stdout",
     "output_type": "stream",
     "text": [
      "[CV]  estimator__max_depth=1, estimator__max_features=None, estimator__max_leaf_nodes=50, estimator__min_samples_leaf=1, estimator__splitter=best, score=-0.011, total=   0.1s\n",
      "[CV] estimator__max_depth=1, estimator__max_features=None, estimator__max_leaf_nodes=50, estimator__min_samples_leaf=1, estimator__splitter=best \n",
      "[CV]  estimator__max_depth=1, estimator__max_features=None, estimator__max_leaf_nodes=50, estimator__min_samples_leaf=1, estimator__splitter=best, score=-0.011, total=   0.1s\n",
      "[CV] estimator__max_depth=1, estimator__max_features=None, estimator__max_leaf_nodes=50, estimator__min_samples_leaf=1, estimator__splitter=best \n",
      "[CV]  estimator__max_depth=1, estimator__max_features=None, estimator__max_leaf_nodes=50, estimator__min_samples_leaf=1, estimator__splitter=best, score=-0.011, total=   0.1s\n",
      "[CV] estimator__max_depth=1, estimator__max_features=None, estimator__max_leaf_nodes=50, estimator__min_samples_leaf=1, estimator__splitter=random \n"
     ]
    },
    {
     "name": "stderr",
     "output_type": "stream",
     "text": [
      "/home/abhinav/anaconda3/lib/python3.8/site-packages/sklearn/multiclass.py:76: UserWarning: Label not 10 is present in all training examples.\n",
      "  warnings.warn(\"Label %s is present in all training examples.\" %\n"
     ]
    },
    {
     "name": "stdout",
     "output_type": "stream",
     "text": [
      "[CV]  estimator__max_depth=1, estimator__max_features=None, estimator__max_leaf_nodes=50, estimator__min_samples_leaf=1, estimator__splitter=random, score=-0.014, total=   0.1s\n",
      "[CV] estimator__max_depth=1, estimator__max_features=None, estimator__max_leaf_nodes=50, estimator__min_samples_leaf=1, estimator__splitter=random \n",
      "[CV]  estimator__max_depth=1, estimator__max_features=None, estimator__max_leaf_nodes=50, estimator__min_samples_leaf=1, estimator__splitter=random, score=-0.013, total=   0.1s\n",
      "[CV] estimator__max_depth=1, estimator__max_features=None, estimator__max_leaf_nodes=50, estimator__min_samples_leaf=1, estimator__splitter=random \n",
      "[CV]  estimator__max_depth=1, estimator__max_features=None, estimator__max_leaf_nodes=50, estimator__min_samples_leaf=1, estimator__splitter=random, score=-0.012, total=   0.1s\n",
      "[CV] estimator__max_depth=1, estimator__max_features=None, estimator__max_leaf_nodes=50, estimator__min_samples_leaf=3, estimator__splitter=best \n"
     ]
    },
    {
     "name": "stderr",
     "output_type": "stream",
     "text": [
      "/home/abhinav/anaconda3/lib/python3.8/site-packages/sklearn/multiclass.py:76: UserWarning: Label not 10 is present in all training examples.\n",
      "  warnings.warn(\"Label %s is present in all training examples.\" %\n"
     ]
    },
    {
     "name": "stdout",
     "output_type": "stream",
     "text": [
      "[CV]  estimator__max_depth=1, estimator__max_features=None, estimator__max_leaf_nodes=50, estimator__min_samples_leaf=3, estimator__splitter=best, score=-0.012, total=   0.1s\n",
      "[CV] estimator__max_depth=1, estimator__max_features=None, estimator__max_leaf_nodes=50, estimator__min_samples_leaf=3, estimator__splitter=best \n",
      "[CV]  estimator__max_depth=1, estimator__max_features=None, estimator__max_leaf_nodes=50, estimator__min_samples_leaf=3, estimator__splitter=best, score=-0.011, total=   0.1s\n",
      "[CV] estimator__max_depth=1, estimator__max_features=None, estimator__max_leaf_nodes=50, estimator__min_samples_leaf=3, estimator__splitter=best \n",
      "[CV]  estimator__max_depth=1, estimator__max_features=None, estimator__max_leaf_nodes=50, estimator__min_samples_leaf=3, estimator__splitter=best, score=-0.011, total=   0.1s\n",
      "[CV] estimator__max_depth=1, estimator__max_features=None, estimator__max_leaf_nodes=50, estimator__min_samples_leaf=3, estimator__splitter=random \n",
      "[CV]  estimator__max_depth=1, estimator__max_features=None, estimator__max_leaf_nodes=50, estimator__min_samples_leaf=3, estimator__splitter=random, score=-0.015, total=   0.1s\n",
      "[CV] estimator__max_depth=1, estimator__max_features=None, estimator__max_leaf_nodes=50, estimator__min_samples_leaf=3, estimator__splitter=random \n",
      "[CV]  estimator__max_depth=1, estimator__max_features=None, estimator__max_leaf_nodes=50, estimator__min_samples_leaf=3, estimator__splitter=random, score=-0.014, total=   0.1s\n",
      "[CV] estimator__max_depth=1, estimator__max_features=None, estimator__max_leaf_nodes=50, estimator__min_samples_leaf=3, estimator__splitter=random \n"
     ]
    },
    {
     "name": "stderr",
     "output_type": "stream",
     "text": [
      "/home/abhinav/anaconda3/lib/python3.8/site-packages/sklearn/multiclass.py:76: UserWarning: Label not 10 is present in all training examples.\n",
      "  warnings.warn(\"Label %s is present in all training examples.\" %\n"
     ]
    },
    {
     "name": "stdout",
     "output_type": "stream",
     "text": [
      "[CV]  estimator__max_depth=1, estimator__max_features=None, estimator__max_leaf_nodes=50, estimator__min_samples_leaf=3, estimator__splitter=random, score=-0.013, total=   0.1s\n",
      "[CV] estimator__max_depth=1, estimator__max_features=None, estimator__max_leaf_nodes=50, estimator__min_samples_leaf=5, estimator__splitter=best \n",
      "[CV]  estimator__max_depth=1, estimator__max_features=None, estimator__max_leaf_nodes=50, estimator__min_samples_leaf=5, estimator__splitter=best, score=-0.015, total=   0.1s\n",
      "[CV] estimator__max_depth=1, estimator__max_features=None, estimator__max_leaf_nodes=50, estimator__min_samples_leaf=5, estimator__splitter=best \n",
      "[CV]  estimator__max_depth=1, estimator__max_features=None, estimator__max_leaf_nodes=50, estimator__min_samples_leaf=5, estimator__splitter=best, score=-0.014, total=   0.1s\n",
      "[CV] estimator__max_depth=1, estimator__max_features=None, estimator__max_leaf_nodes=50, estimator__min_samples_leaf=5, estimator__splitter=best \n"
     ]
    },
    {
     "name": "stderr",
     "output_type": "stream",
     "text": [
      "/home/abhinav/anaconda3/lib/python3.8/site-packages/sklearn/multiclass.py:76: UserWarning: Label not 10 is present in all training examples.\n",
      "  warnings.warn(\"Label %s is present in all training examples.\" %\n"
     ]
    },
    {
     "name": "stdout",
     "output_type": "stream",
     "text": [
      "[CV]  estimator__max_depth=1, estimator__max_features=None, estimator__max_leaf_nodes=50, estimator__min_samples_leaf=5, estimator__splitter=best, score=-0.016, total=   0.1s\n",
      "[CV] estimator__max_depth=1, estimator__max_features=None, estimator__max_leaf_nodes=50, estimator__min_samples_leaf=5, estimator__splitter=random \n",
      "[CV]  estimator__max_depth=1, estimator__max_features=None, estimator__max_leaf_nodes=50, estimator__min_samples_leaf=5, estimator__splitter=random, score=-0.016, total=   0.1s\n",
      "[CV] estimator__max_depth=1, estimator__max_features=None, estimator__max_leaf_nodes=50, estimator__min_samples_leaf=5, estimator__splitter=random \n",
      "[CV]  estimator__max_depth=1, estimator__max_features=None, estimator__max_leaf_nodes=50, estimator__min_samples_leaf=5, estimator__splitter=random, score=-0.016, total=   0.1s\n",
      "[CV] estimator__max_depth=1, estimator__max_features=None, estimator__max_leaf_nodes=50, estimator__min_samples_leaf=5, estimator__splitter=random \n"
     ]
    },
    {
     "name": "stderr",
     "output_type": "stream",
     "text": [
      "/home/abhinav/anaconda3/lib/python3.8/site-packages/sklearn/multiclass.py:76: UserWarning: Label not 10 is present in all training examples.\n",
      "  warnings.warn(\"Label %s is present in all training examples.\" %\n"
     ]
    },
    {
     "name": "stdout",
     "output_type": "stream",
     "text": [
      "[CV]  estimator__max_depth=1, estimator__max_features=None, estimator__max_leaf_nodes=50, estimator__min_samples_leaf=5, estimator__splitter=random, score=-0.017, total=   0.1s\n",
      "[CV] estimator__max_depth=1, estimator__max_features=None, estimator__max_leaf_nodes=70, estimator__min_samples_leaf=1, estimator__splitter=best \n",
      "[CV]  estimator__max_depth=1, estimator__max_features=None, estimator__max_leaf_nodes=70, estimator__min_samples_leaf=1, estimator__splitter=best, score=-0.011, total=   0.1s\n",
      "[CV] estimator__max_depth=1, estimator__max_features=None, estimator__max_leaf_nodes=70, estimator__min_samples_leaf=1, estimator__splitter=best \n",
      "[CV]  estimator__max_depth=1, estimator__max_features=None, estimator__max_leaf_nodes=70, estimator__min_samples_leaf=1, estimator__splitter=best, score=-0.011, total=   0.1s\n",
      "[CV] estimator__max_depth=1, estimator__max_features=None, estimator__max_leaf_nodes=70, estimator__min_samples_leaf=1, estimator__splitter=best \n"
     ]
    },
    {
     "name": "stderr",
     "output_type": "stream",
     "text": [
      "/home/abhinav/anaconda3/lib/python3.8/site-packages/sklearn/multiclass.py:76: UserWarning: Label not 10 is present in all training examples.\n",
      "  warnings.warn(\"Label %s is present in all training examples.\" %\n"
     ]
    },
    {
     "name": "stdout",
     "output_type": "stream",
     "text": [
      "[CV]  estimator__max_depth=1, estimator__max_features=None, estimator__max_leaf_nodes=70, estimator__min_samples_leaf=1, estimator__splitter=best, score=-0.011, total=   0.1s\n",
      "[CV] estimator__max_depth=1, estimator__max_features=None, estimator__max_leaf_nodes=70, estimator__min_samples_leaf=1, estimator__splitter=random \n",
      "[CV]  estimator__max_depth=1, estimator__max_features=None, estimator__max_leaf_nodes=70, estimator__min_samples_leaf=1, estimator__splitter=random, score=-0.014, total=   0.1s\n",
      "[CV] estimator__max_depth=1, estimator__max_features=None, estimator__max_leaf_nodes=70, estimator__min_samples_leaf=1, estimator__splitter=random \n",
      "[CV]  estimator__max_depth=1, estimator__max_features=None, estimator__max_leaf_nodes=70, estimator__min_samples_leaf=1, estimator__splitter=random, score=-0.013, total=   0.1s\n",
      "[CV] estimator__max_depth=1, estimator__max_features=None, estimator__max_leaf_nodes=70, estimator__min_samples_leaf=1, estimator__splitter=random \n"
     ]
    },
    {
     "name": "stderr",
     "output_type": "stream",
     "text": [
      "/home/abhinav/anaconda3/lib/python3.8/site-packages/sklearn/multiclass.py:76: UserWarning: Label not 10 is present in all training examples.\n",
      "  warnings.warn(\"Label %s is present in all training examples.\" %\n"
     ]
    },
    {
     "name": "stdout",
     "output_type": "stream",
     "text": [
      "[CV]  estimator__max_depth=1, estimator__max_features=None, estimator__max_leaf_nodes=70, estimator__min_samples_leaf=1, estimator__splitter=random, score=-0.013, total=   0.1s\n",
      "[CV] estimator__max_depth=1, estimator__max_features=None, estimator__max_leaf_nodes=70, estimator__min_samples_leaf=3, estimator__splitter=best \n",
      "[CV]  estimator__max_depth=1, estimator__max_features=None, estimator__max_leaf_nodes=70, estimator__min_samples_leaf=3, estimator__splitter=best, score=-0.012, total=   0.1s\n",
      "[CV] estimator__max_depth=1, estimator__max_features=None, estimator__max_leaf_nodes=70, estimator__min_samples_leaf=3, estimator__splitter=best \n",
      "[CV]  estimator__max_depth=1, estimator__max_features=None, estimator__max_leaf_nodes=70, estimator__min_samples_leaf=3, estimator__splitter=best, score=-0.012, total=   0.1s\n",
      "[CV] estimator__max_depth=1, estimator__max_features=None, estimator__max_leaf_nodes=70, estimator__min_samples_leaf=3, estimator__splitter=best \n"
     ]
    },
    {
     "name": "stderr",
     "output_type": "stream",
     "text": [
      "/home/abhinav/anaconda3/lib/python3.8/site-packages/sklearn/multiclass.py:76: UserWarning: Label not 10 is present in all training examples.\n",
      "  warnings.warn(\"Label %s is present in all training examples.\" %\n"
     ]
    },
    {
     "name": "stdout",
     "output_type": "stream",
     "text": [
      "[CV]  estimator__max_depth=1, estimator__max_features=None, estimator__max_leaf_nodes=70, estimator__min_samples_leaf=3, estimator__splitter=best, score=-0.011, total=   0.1s\n",
      "[CV] estimator__max_depth=1, estimator__max_features=None, estimator__max_leaf_nodes=70, estimator__min_samples_leaf=3, estimator__splitter=random \n",
      "[CV]  estimator__max_depth=1, estimator__max_features=None, estimator__max_leaf_nodes=70, estimator__min_samples_leaf=3, estimator__splitter=random, score=-0.014, total=   0.1s\n",
      "[CV] estimator__max_depth=1, estimator__max_features=None, estimator__max_leaf_nodes=70, estimator__min_samples_leaf=3, estimator__splitter=random \n",
      "[CV]  estimator__max_depth=1, estimator__max_features=None, estimator__max_leaf_nodes=70, estimator__min_samples_leaf=3, estimator__splitter=random, score=-0.014, total=   0.1s\n",
      "[CV] estimator__max_depth=1, estimator__max_features=None, estimator__max_leaf_nodes=70, estimator__min_samples_leaf=3, estimator__splitter=random \n"
     ]
    },
    {
     "name": "stderr",
     "output_type": "stream",
     "text": [
      "/home/abhinav/anaconda3/lib/python3.8/site-packages/sklearn/multiclass.py:76: UserWarning: Label not 10 is present in all training examples.\n",
      "  warnings.warn(\"Label %s is present in all training examples.\" %\n"
     ]
    },
    {
     "name": "stdout",
     "output_type": "stream",
     "text": [
      "[CV]  estimator__max_depth=1, estimator__max_features=None, estimator__max_leaf_nodes=70, estimator__min_samples_leaf=3, estimator__splitter=random, score=-0.014, total=   0.1s\n",
      "[CV] estimator__max_depth=1, estimator__max_features=None, estimator__max_leaf_nodes=70, estimator__min_samples_leaf=5, estimator__splitter=best \n",
      "[CV]  estimator__max_depth=1, estimator__max_features=None, estimator__max_leaf_nodes=70, estimator__min_samples_leaf=5, estimator__splitter=best, score=-0.015, total=   0.1s\n",
      "[CV] estimator__max_depth=1, estimator__max_features=None, estimator__max_leaf_nodes=70, estimator__min_samples_leaf=5, estimator__splitter=best \n",
      "[CV]  estimator__max_depth=1, estimator__max_features=None, estimator__max_leaf_nodes=70, estimator__min_samples_leaf=5, estimator__splitter=best, score=-0.014, total=   0.1s\n",
      "[CV] estimator__max_depth=1, estimator__max_features=None, estimator__max_leaf_nodes=70, estimator__min_samples_leaf=5, estimator__splitter=best \n"
     ]
    },
    {
     "name": "stderr",
     "output_type": "stream",
     "text": [
      "/home/abhinav/anaconda3/lib/python3.8/site-packages/sklearn/multiclass.py:76: UserWarning: Label not 10 is present in all training examples.\n",
      "  warnings.warn(\"Label %s is present in all training examples.\" %\n"
     ]
    },
    {
     "name": "stdout",
     "output_type": "stream",
     "text": [
      "[CV]  estimator__max_depth=1, estimator__max_features=None, estimator__max_leaf_nodes=70, estimator__min_samples_leaf=5, estimator__splitter=best, score=-0.016, total=   0.1s\n",
      "[CV] estimator__max_depth=1, estimator__max_features=None, estimator__max_leaf_nodes=70, estimator__min_samples_leaf=5, estimator__splitter=random \n",
      "[CV]  estimator__max_depth=1, estimator__max_features=None, estimator__max_leaf_nodes=70, estimator__min_samples_leaf=5, estimator__splitter=random, score=-0.016, total=   0.1s\n",
      "[CV] estimator__max_depth=1, estimator__max_features=None, estimator__max_leaf_nodes=70, estimator__min_samples_leaf=5, estimator__splitter=random \n",
      "[CV]  estimator__max_depth=1, estimator__max_features=None, estimator__max_leaf_nodes=70, estimator__min_samples_leaf=5, estimator__splitter=random, score=-0.016, total=   0.1s\n",
      "[CV] estimator__max_depth=1, estimator__max_features=None, estimator__max_leaf_nodes=70, estimator__min_samples_leaf=5, estimator__splitter=random \n"
     ]
    },
    {
     "name": "stderr",
     "output_type": "stream",
     "text": [
      "/home/abhinav/anaconda3/lib/python3.8/site-packages/sklearn/multiclass.py:76: UserWarning: Label not 10 is present in all training examples.\n",
      "  warnings.warn(\"Label %s is present in all training examples.\" %\n"
     ]
    },
    {
     "name": "stdout",
     "output_type": "stream",
     "text": [
      "[CV]  estimator__max_depth=1, estimator__max_features=None, estimator__max_leaf_nodes=70, estimator__min_samples_leaf=5, estimator__splitter=random, score=-0.017, total=   0.1s\n",
      "[CV] estimator__max_depth=9, estimator__max_features=auto, estimator__max_leaf_nodes=None, estimator__min_samples_leaf=1, estimator__splitter=best \n",
      "[CV]  estimator__max_depth=9, estimator__max_features=auto, estimator__max_leaf_nodes=None, estimator__min_samples_leaf=1, estimator__splitter=best, score=-0.018, total=   0.1s\n",
      "[CV] estimator__max_depth=9, estimator__max_features=auto, estimator__max_leaf_nodes=None, estimator__min_samples_leaf=1, estimator__splitter=best \n",
      "[CV]  estimator__max_depth=9, estimator__max_features=auto, estimator__max_leaf_nodes=None, estimator__min_samples_leaf=1, estimator__splitter=best, score=-0.017, total=   0.1s\n",
      "[CV] estimator__max_depth=9, estimator__max_features=auto, estimator__max_leaf_nodes=None, estimator__min_samples_leaf=1, estimator__splitter=best \n"
     ]
    },
    {
     "name": "stderr",
     "output_type": "stream",
     "text": [
      "/home/abhinav/anaconda3/lib/python3.8/site-packages/sklearn/multiclass.py:76: UserWarning: Label not 10 is present in all training examples.\n",
      "  warnings.warn(\"Label %s is present in all training examples.\" %\n"
     ]
    },
    {
     "name": "stdout",
     "output_type": "stream",
     "text": [
      "[CV]  estimator__max_depth=9, estimator__max_features=auto, estimator__max_leaf_nodes=None, estimator__min_samples_leaf=1, estimator__splitter=best, score=-0.016, total=   0.1s\n",
      "[CV] estimator__max_depth=9, estimator__max_features=auto, estimator__max_leaf_nodes=None, estimator__min_samples_leaf=1, estimator__splitter=random \n",
      "[CV]  estimator__max_depth=9, estimator__max_features=auto, estimator__max_leaf_nodes=None, estimator__min_samples_leaf=1, estimator__splitter=random, score=-0.018, total=   0.1s\n",
      "[CV] estimator__max_depth=9, estimator__max_features=auto, estimator__max_leaf_nodes=None, estimator__min_samples_leaf=1, estimator__splitter=random \n",
      "[CV]  estimator__max_depth=9, estimator__max_features=auto, estimator__max_leaf_nodes=None, estimator__min_samples_leaf=1, estimator__splitter=random, score=-0.016, total=   0.1s\n",
      "[CV] estimator__max_depth=9, estimator__max_features=auto, estimator__max_leaf_nodes=None, estimator__min_samples_leaf=1, estimator__splitter=random \n"
     ]
    },
    {
     "name": "stderr",
     "output_type": "stream",
     "text": [
      "/home/abhinav/anaconda3/lib/python3.8/site-packages/sklearn/multiclass.py:76: UserWarning: Label not 10 is present in all training examples.\n",
      "  warnings.warn(\"Label %s is present in all training examples.\" %\n"
     ]
    },
    {
     "name": "stdout",
     "output_type": "stream",
     "text": [
      "[CV]  estimator__max_depth=9, estimator__max_features=auto, estimator__max_leaf_nodes=None, estimator__min_samples_leaf=1, estimator__splitter=random, score=-0.018, total=   0.1s\n",
      "[CV] estimator__max_depth=9, estimator__max_features=auto, estimator__max_leaf_nodes=None, estimator__min_samples_leaf=3, estimator__splitter=best \n",
      "[CV]  estimator__max_depth=9, estimator__max_features=auto, estimator__max_leaf_nodes=None, estimator__min_samples_leaf=3, estimator__splitter=best, score=-0.016, total=   0.1s\n",
      "[CV] estimator__max_depth=9, estimator__max_features=auto, estimator__max_leaf_nodes=None, estimator__min_samples_leaf=3, estimator__splitter=best \n",
      "[CV]  estimator__max_depth=9, estimator__max_features=auto, estimator__max_leaf_nodes=None, estimator__min_samples_leaf=3, estimator__splitter=best, score=-0.017, total=   0.1s\n",
      "[CV] estimator__max_depth=9, estimator__max_features=auto, estimator__max_leaf_nodes=None, estimator__min_samples_leaf=3, estimator__splitter=best \n"
     ]
    },
    {
     "name": "stderr",
     "output_type": "stream",
     "text": [
      "/home/abhinav/anaconda3/lib/python3.8/site-packages/sklearn/multiclass.py:76: UserWarning: Label not 10 is present in all training examples.\n",
      "  warnings.warn(\"Label %s is present in all training examples.\" %\n"
     ]
    },
    {
     "name": "stdout",
     "output_type": "stream",
     "text": [
      "[CV]  estimator__max_depth=9, estimator__max_features=auto, estimator__max_leaf_nodes=None, estimator__min_samples_leaf=3, estimator__splitter=best, score=-0.017, total=   0.1s\n",
      "[CV] estimator__max_depth=9, estimator__max_features=auto, estimator__max_leaf_nodes=None, estimator__min_samples_leaf=3, estimator__splitter=random \n",
      "[CV]  estimator__max_depth=9, estimator__max_features=auto, estimator__max_leaf_nodes=None, estimator__min_samples_leaf=3, estimator__splitter=random, score=-0.018, total=   0.1s\n",
      "[CV] estimator__max_depth=9, estimator__max_features=auto, estimator__max_leaf_nodes=None, estimator__min_samples_leaf=3, estimator__splitter=random \n",
      "[CV]  estimator__max_depth=9, estimator__max_features=auto, estimator__max_leaf_nodes=None, estimator__min_samples_leaf=3, estimator__splitter=random, score=-0.017, total=   0.1s\n",
      "[CV] estimator__max_depth=9, estimator__max_features=auto, estimator__max_leaf_nodes=None, estimator__min_samples_leaf=3, estimator__splitter=random \n"
     ]
    },
    {
     "name": "stderr",
     "output_type": "stream",
     "text": [
      "/home/abhinav/anaconda3/lib/python3.8/site-packages/sklearn/multiclass.py:76: UserWarning: Label not 10 is present in all training examples.\n",
      "  warnings.warn(\"Label %s is present in all training examples.\" %\n"
     ]
    },
    {
     "name": "stdout",
     "output_type": "stream",
     "text": [
      "[CV]  estimator__max_depth=9, estimator__max_features=auto, estimator__max_leaf_nodes=None, estimator__min_samples_leaf=3, estimator__splitter=random, score=-0.018, total=   0.1s\n",
      "[CV] estimator__max_depth=9, estimator__max_features=auto, estimator__max_leaf_nodes=None, estimator__min_samples_leaf=5, estimator__splitter=best \n",
      "[CV]  estimator__max_depth=9, estimator__max_features=auto, estimator__max_leaf_nodes=None, estimator__min_samples_leaf=5, estimator__splitter=best, score=-0.017, total=   0.1s\n",
      "[CV] estimator__max_depth=9, estimator__max_features=auto, estimator__max_leaf_nodes=None, estimator__min_samples_leaf=5, estimator__splitter=best \n",
      "[CV]  estimator__max_depth=9, estimator__max_features=auto, estimator__max_leaf_nodes=None, estimator__min_samples_leaf=5, estimator__splitter=best, score=-0.018, total=   0.1s\n",
      "[CV] estimator__max_depth=9, estimator__max_features=auto, estimator__max_leaf_nodes=None, estimator__min_samples_leaf=5, estimator__splitter=best \n"
     ]
    },
    {
     "name": "stderr",
     "output_type": "stream",
     "text": [
      "/home/abhinav/anaconda3/lib/python3.8/site-packages/sklearn/multiclass.py:76: UserWarning: Label not 10 is present in all training examples.\n",
      "  warnings.warn(\"Label %s is present in all training examples.\" %\n"
     ]
    },
    {
     "name": "stdout",
     "output_type": "stream",
     "text": [
      "[CV]  estimator__max_depth=9, estimator__max_features=auto, estimator__max_leaf_nodes=None, estimator__min_samples_leaf=5, estimator__splitter=best, score=-0.018, total=   0.1s\n",
      "[CV] estimator__max_depth=9, estimator__max_features=auto, estimator__max_leaf_nodes=None, estimator__min_samples_leaf=5, estimator__splitter=random \n",
      "[CV]  estimator__max_depth=9, estimator__max_features=auto, estimator__max_leaf_nodes=None, estimator__min_samples_leaf=5, estimator__splitter=random, score=-0.018, total=   0.1s\n",
      "[CV] estimator__max_depth=9, estimator__max_features=auto, estimator__max_leaf_nodes=None, estimator__min_samples_leaf=5, estimator__splitter=random \n",
      "[CV]  estimator__max_depth=9, estimator__max_features=auto, estimator__max_leaf_nodes=None, estimator__min_samples_leaf=5, estimator__splitter=random, score=-0.017, total=   0.1s\n",
      "[CV] estimator__max_depth=9, estimator__max_features=auto, estimator__max_leaf_nodes=None, estimator__min_samples_leaf=5, estimator__splitter=random \n"
     ]
    },
    {
     "name": "stderr",
     "output_type": "stream",
     "text": [
      "/home/abhinav/anaconda3/lib/python3.8/site-packages/sklearn/multiclass.py:76: UserWarning: Label not 10 is present in all training examples.\n",
      "  warnings.warn(\"Label %s is present in all training examples.\" %\n"
     ]
    },
    {
     "name": "stdout",
     "output_type": "stream",
     "text": [
      "[CV]  estimator__max_depth=9, estimator__max_features=auto, estimator__max_leaf_nodes=None, estimator__min_samples_leaf=5, estimator__splitter=random, score=-0.018, total=   0.1s\n",
      "[CV] estimator__max_depth=9, estimator__max_features=auto, estimator__max_leaf_nodes=10, estimator__min_samples_leaf=1, estimator__splitter=best \n",
      "[CV]  estimator__max_depth=9, estimator__max_features=auto, estimator__max_leaf_nodes=10, estimator__min_samples_leaf=1, estimator__splitter=best, score=-0.017, total=   0.1s\n",
      "[CV] estimator__max_depth=9, estimator__max_features=auto, estimator__max_leaf_nodes=10, estimator__min_samples_leaf=1, estimator__splitter=best \n",
      "[CV]  estimator__max_depth=9, estimator__max_features=auto, estimator__max_leaf_nodes=10, estimator__min_samples_leaf=1, estimator__splitter=best, score=-0.015, total=   0.1s\n",
      "[CV] estimator__max_depth=9, estimator__max_features=auto, estimator__max_leaf_nodes=10, estimator__min_samples_leaf=1, estimator__splitter=best \n"
     ]
    },
    {
     "name": "stderr",
     "output_type": "stream",
     "text": [
      "/home/abhinav/anaconda3/lib/python3.8/site-packages/sklearn/multiclass.py:76: UserWarning: Label not 10 is present in all training examples.\n",
      "  warnings.warn(\"Label %s is present in all training examples.\" %\n"
     ]
    },
    {
     "name": "stdout",
     "output_type": "stream",
     "text": [
      "[CV]  estimator__max_depth=9, estimator__max_features=auto, estimator__max_leaf_nodes=10, estimator__min_samples_leaf=1, estimator__splitter=best, score=-0.016, total=   0.1s\n",
      "[CV] estimator__max_depth=9, estimator__max_features=auto, estimator__max_leaf_nodes=10, estimator__min_samples_leaf=1, estimator__splitter=random \n",
      "[CV]  estimator__max_depth=9, estimator__max_features=auto, estimator__max_leaf_nodes=10, estimator__min_samples_leaf=1, estimator__splitter=random, score=-0.017, total=   0.1s\n",
      "[CV] estimator__max_depth=9, estimator__max_features=auto, estimator__max_leaf_nodes=10, estimator__min_samples_leaf=1, estimator__splitter=random \n",
      "[CV]  estimator__max_depth=9, estimator__max_features=auto, estimator__max_leaf_nodes=10, estimator__min_samples_leaf=1, estimator__splitter=random, score=-0.016, total=   0.1s\n",
      "[CV] estimator__max_depth=9, estimator__max_features=auto, estimator__max_leaf_nodes=10, estimator__min_samples_leaf=1, estimator__splitter=random \n"
     ]
    },
    {
     "name": "stderr",
     "output_type": "stream",
     "text": [
      "/home/abhinav/anaconda3/lib/python3.8/site-packages/sklearn/multiclass.py:76: UserWarning: Label not 10 is present in all training examples.\n",
      "  warnings.warn(\"Label %s is present in all training examples.\" %\n"
     ]
    },
    {
     "name": "stdout",
     "output_type": "stream",
     "text": [
      "[CV]  estimator__max_depth=9, estimator__max_features=auto, estimator__max_leaf_nodes=10, estimator__min_samples_leaf=1, estimator__splitter=random, score=-0.017, total=   0.1s\n",
      "[CV] estimator__max_depth=9, estimator__max_features=auto, estimator__max_leaf_nodes=10, estimator__min_samples_leaf=3, estimator__splitter=best \n",
      "[CV]  estimator__max_depth=9, estimator__max_features=auto, estimator__max_leaf_nodes=10, estimator__min_samples_leaf=3, estimator__splitter=best, score=-0.018, total=   0.1s\n",
      "[CV] estimator__max_depth=9, estimator__max_features=auto, estimator__max_leaf_nodes=10, estimator__min_samples_leaf=3, estimator__splitter=best \n",
      "[CV]  estimator__max_depth=9, estimator__max_features=auto, estimator__max_leaf_nodes=10, estimator__min_samples_leaf=3, estimator__splitter=best, score=-0.018, total=   0.1s\n",
      "[CV] estimator__max_depth=9, estimator__max_features=auto, estimator__max_leaf_nodes=10, estimator__min_samples_leaf=3, estimator__splitter=best \n"
     ]
    },
    {
     "name": "stderr",
     "output_type": "stream",
     "text": [
      "/home/abhinav/anaconda3/lib/python3.8/site-packages/sklearn/multiclass.py:76: UserWarning: Label not 10 is present in all training examples.\n",
      "  warnings.warn(\"Label %s is present in all training examples.\" %\n"
     ]
    },
    {
     "name": "stdout",
     "output_type": "stream",
     "text": [
      "[CV]  estimator__max_depth=9, estimator__max_features=auto, estimator__max_leaf_nodes=10, estimator__min_samples_leaf=3, estimator__splitter=best, score=-0.016, total=   0.1s\n",
      "[CV] estimator__max_depth=9, estimator__max_features=auto, estimator__max_leaf_nodes=10, estimator__min_samples_leaf=3, estimator__splitter=random \n",
      "[CV]  estimator__max_depth=9, estimator__max_features=auto, estimator__max_leaf_nodes=10, estimator__min_samples_leaf=3, estimator__splitter=random, score=-0.018, total=   0.1s\n",
      "[CV] estimator__max_depth=9, estimator__max_features=auto, estimator__max_leaf_nodes=10, estimator__min_samples_leaf=3, estimator__splitter=random \n",
      "[CV]  estimator__max_depth=9, estimator__max_features=auto, estimator__max_leaf_nodes=10, estimator__min_samples_leaf=3, estimator__splitter=random, score=-0.018, total=   0.1s\n",
      "[CV] estimator__max_depth=9, estimator__max_features=auto, estimator__max_leaf_nodes=10, estimator__min_samples_leaf=3, estimator__splitter=random \n"
     ]
    },
    {
     "name": "stderr",
     "output_type": "stream",
     "text": [
      "/home/abhinav/anaconda3/lib/python3.8/site-packages/sklearn/multiclass.py:76: UserWarning: Label not 10 is present in all training examples.\n",
      "  warnings.warn(\"Label %s is present in all training examples.\" %\n"
     ]
    },
    {
     "name": "stdout",
     "output_type": "stream",
     "text": [
      "[CV]  estimator__max_depth=9, estimator__max_features=auto, estimator__max_leaf_nodes=10, estimator__min_samples_leaf=3, estimator__splitter=random, score=-0.017, total=   0.1s\n",
      "[CV] estimator__max_depth=9, estimator__max_features=auto, estimator__max_leaf_nodes=10, estimator__min_samples_leaf=5, estimator__splitter=best \n",
      "[CV]  estimator__max_depth=9, estimator__max_features=auto, estimator__max_leaf_nodes=10, estimator__min_samples_leaf=5, estimator__splitter=best, score=-0.018, total=   0.1s\n",
      "[CV] estimator__max_depth=9, estimator__max_features=auto, estimator__max_leaf_nodes=10, estimator__min_samples_leaf=5, estimator__splitter=best \n",
      "[CV]  estimator__max_depth=9, estimator__max_features=auto, estimator__max_leaf_nodes=10, estimator__min_samples_leaf=5, estimator__splitter=best, score=-0.017, total=   0.1s\n",
      "[CV] estimator__max_depth=9, estimator__max_features=auto, estimator__max_leaf_nodes=10, estimator__min_samples_leaf=5, estimator__splitter=best \n"
     ]
    },
    {
     "name": "stderr",
     "output_type": "stream",
     "text": [
      "/home/abhinav/anaconda3/lib/python3.8/site-packages/sklearn/multiclass.py:76: UserWarning: Label not 10 is present in all training examples.\n",
      "  warnings.warn(\"Label %s is present in all training examples.\" %\n"
     ]
    },
    {
     "name": "stdout",
     "output_type": "stream",
     "text": [
      "[CV]  estimator__max_depth=9, estimator__max_features=auto, estimator__max_leaf_nodes=10, estimator__min_samples_leaf=5, estimator__splitter=best, score=-0.018, total=   0.1s\n",
      "[CV] estimator__max_depth=9, estimator__max_features=auto, estimator__max_leaf_nodes=10, estimator__min_samples_leaf=5, estimator__splitter=random \n",
      "[CV]  estimator__max_depth=9, estimator__max_features=auto, estimator__max_leaf_nodes=10, estimator__min_samples_leaf=5, estimator__splitter=random, score=-0.018, total=   0.1s\n",
      "[CV] estimator__max_depth=9, estimator__max_features=auto, estimator__max_leaf_nodes=10, estimator__min_samples_leaf=5, estimator__splitter=random \n",
      "[CV]  estimator__max_depth=9, estimator__max_features=auto, estimator__max_leaf_nodes=10, estimator__min_samples_leaf=5, estimator__splitter=random, score=-0.018, total=   0.1s\n",
      "[CV] estimator__max_depth=9, estimator__max_features=auto, estimator__max_leaf_nodes=10, estimator__min_samples_leaf=5, estimator__splitter=random \n"
     ]
    },
    {
     "name": "stderr",
     "output_type": "stream",
     "text": [
      "/home/abhinav/anaconda3/lib/python3.8/site-packages/sklearn/multiclass.py:76: UserWarning: Label not 10 is present in all training examples.\n",
      "  warnings.warn(\"Label %s is present in all training examples.\" %\n"
     ]
    },
    {
     "name": "stdout",
     "output_type": "stream",
     "text": [
      "[CV]  estimator__max_depth=9, estimator__max_features=auto, estimator__max_leaf_nodes=10, estimator__min_samples_leaf=5, estimator__splitter=random, score=-0.018, total=   0.1s\n",
      "[CV] estimator__max_depth=9, estimator__max_features=auto, estimator__max_leaf_nodes=20, estimator__min_samples_leaf=1, estimator__splitter=best \n",
      "[CV]  estimator__max_depth=9, estimator__max_features=auto, estimator__max_leaf_nodes=20, estimator__min_samples_leaf=1, estimator__splitter=best, score=-0.018, total=   0.1s\n",
      "[CV] estimator__max_depth=9, estimator__max_features=auto, estimator__max_leaf_nodes=20, estimator__min_samples_leaf=1, estimator__splitter=best \n",
      "[CV]  estimator__max_depth=9, estimator__max_features=auto, estimator__max_leaf_nodes=20, estimator__min_samples_leaf=1, estimator__splitter=best, score=-0.017, total=   0.1s\n",
      "[CV] estimator__max_depth=9, estimator__max_features=auto, estimator__max_leaf_nodes=20, estimator__min_samples_leaf=1, estimator__splitter=best \n"
     ]
    },
    {
     "name": "stderr",
     "output_type": "stream",
     "text": [
      "/home/abhinav/anaconda3/lib/python3.8/site-packages/sklearn/multiclass.py:76: UserWarning: Label not 10 is present in all training examples.\n",
      "  warnings.warn(\"Label %s is present in all training examples.\" %\n"
     ]
    },
    {
     "name": "stdout",
     "output_type": "stream",
     "text": [
      "[CV]  estimator__max_depth=9, estimator__max_features=auto, estimator__max_leaf_nodes=20, estimator__min_samples_leaf=1, estimator__splitter=best, score=-0.017, total=   0.1s\n",
      "[CV] estimator__max_depth=9, estimator__max_features=auto, estimator__max_leaf_nodes=20, estimator__min_samples_leaf=1, estimator__splitter=random \n",
      "[CV]  estimator__max_depth=9, estimator__max_features=auto, estimator__max_leaf_nodes=20, estimator__min_samples_leaf=1, estimator__splitter=random, score=-0.016, total=   0.1s\n",
      "[CV] estimator__max_depth=9, estimator__max_features=auto, estimator__max_leaf_nodes=20, estimator__min_samples_leaf=1, estimator__splitter=random \n",
      "[CV]  estimator__max_depth=9, estimator__max_features=auto, estimator__max_leaf_nodes=20, estimator__min_samples_leaf=1, estimator__splitter=random, score=-0.018, total=   0.1s\n",
      "[CV] estimator__max_depth=9, estimator__max_features=auto, estimator__max_leaf_nodes=20, estimator__min_samples_leaf=1, estimator__splitter=random \n"
     ]
    },
    {
     "name": "stderr",
     "output_type": "stream",
     "text": [
      "/home/abhinav/anaconda3/lib/python3.8/site-packages/sklearn/multiclass.py:76: UserWarning: Label not 10 is present in all training examples.\n",
      "  warnings.warn(\"Label %s is present in all training examples.\" %\n"
     ]
    },
    {
     "name": "stdout",
     "output_type": "stream",
     "text": [
      "[CV]  estimator__max_depth=9, estimator__max_features=auto, estimator__max_leaf_nodes=20, estimator__min_samples_leaf=1, estimator__splitter=random, score=-0.017, total=   0.1s\n",
      "[CV] estimator__max_depth=9, estimator__max_features=auto, estimator__max_leaf_nodes=20, estimator__min_samples_leaf=3, estimator__splitter=best \n",
      "[CV]  estimator__max_depth=9, estimator__max_features=auto, estimator__max_leaf_nodes=20, estimator__min_samples_leaf=3, estimator__splitter=best, score=-0.017, total=   0.1s\n",
      "[CV] estimator__max_depth=9, estimator__max_features=auto, estimator__max_leaf_nodes=20, estimator__min_samples_leaf=3, estimator__splitter=best \n",
      "[CV]  estimator__max_depth=9, estimator__max_features=auto, estimator__max_leaf_nodes=20, estimator__min_samples_leaf=3, estimator__splitter=best, score=-0.017, total=   0.1s\n",
      "[CV] estimator__max_depth=9, estimator__max_features=auto, estimator__max_leaf_nodes=20, estimator__min_samples_leaf=3, estimator__splitter=best \n"
     ]
    },
    {
     "name": "stderr",
     "output_type": "stream",
     "text": [
      "/home/abhinav/anaconda3/lib/python3.8/site-packages/sklearn/multiclass.py:76: UserWarning: Label not 10 is present in all training examples.\n",
      "  warnings.warn(\"Label %s is present in all training examples.\" %\n"
     ]
    },
    {
     "name": "stdout",
     "output_type": "stream",
     "text": [
      "[CV]  estimator__max_depth=9, estimator__max_features=auto, estimator__max_leaf_nodes=20, estimator__min_samples_leaf=3, estimator__splitter=best, score=-0.018, total=   0.1s\n",
      "[CV] estimator__max_depth=9, estimator__max_features=auto, estimator__max_leaf_nodes=20, estimator__min_samples_leaf=3, estimator__splitter=random \n",
      "[CV]  estimator__max_depth=9, estimator__max_features=auto, estimator__max_leaf_nodes=20, estimator__min_samples_leaf=3, estimator__splitter=random, score=-0.018, total=   0.1s\n",
      "[CV] estimator__max_depth=9, estimator__max_features=auto, estimator__max_leaf_nodes=20, estimator__min_samples_leaf=3, estimator__splitter=random \n",
      "[CV]  estimator__max_depth=9, estimator__max_features=auto, estimator__max_leaf_nodes=20, estimator__min_samples_leaf=3, estimator__splitter=random, score=-0.018, total=   0.1s\n",
      "[CV] estimator__max_depth=9, estimator__max_features=auto, estimator__max_leaf_nodes=20, estimator__min_samples_leaf=3, estimator__splitter=random \n"
     ]
    },
    {
     "name": "stderr",
     "output_type": "stream",
     "text": [
      "/home/abhinav/anaconda3/lib/python3.8/site-packages/sklearn/multiclass.py:76: UserWarning: Label not 10 is present in all training examples.\n",
      "  warnings.warn(\"Label %s is present in all training examples.\" %\n"
     ]
    },
    {
     "name": "stdout",
     "output_type": "stream",
     "text": [
      "[CV]  estimator__max_depth=9, estimator__max_features=auto, estimator__max_leaf_nodes=20, estimator__min_samples_leaf=3, estimator__splitter=random, score=-0.018, total=   0.1s\n",
      "[CV] estimator__max_depth=9, estimator__max_features=auto, estimator__max_leaf_nodes=20, estimator__min_samples_leaf=5, estimator__splitter=best \n",
      "[CV]  estimator__max_depth=9, estimator__max_features=auto, estimator__max_leaf_nodes=20, estimator__min_samples_leaf=5, estimator__splitter=best, score=-0.018, total=   0.1s\n",
      "[CV] estimator__max_depth=9, estimator__max_features=auto, estimator__max_leaf_nodes=20, estimator__min_samples_leaf=5, estimator__splitter=best \n",
      "[CV]  estimator__max_depth=9, estimator__max_features=auto, estimator__max_leaf_nodes=20, estimator__min_samples_leaf=5, estimator__splitter=best, score=-0.018, total=   0.1s\n",
      "[CV] estimator__max_depth=9, estimator__max_features=auto, estimator__max_leaf_nodes=20, estimator__min_samples_leaf=5, estimator__splitter=best \n"
     ]
    },
    {
     "name": "stderr",
     "output_type": "stream",
     "text": [
      "/home/abhinav/anaconda3/lib/python3.8/site-packages/sklearn/multiclass.py:76: UserWarning: Label not 10 is present in all training examples.\n",
      "  warnings.warn(\"Label %s is present in all training examples.\" %\n"
     ]
    },
    {
     "name": "stdout",
     "output_type": "stream",
     "text": [
      "[CV]  estimator__max_depth=9, estimator__max_features=auto, estimator__max_leaf_nodes=20, estimator__min_samples_leaf=5, estimator__splitter=best, score=-0.018, total=   0.1s\n",
      "[CV] estimator__max_depth=9, estimator__max_features=auto, estimator__max_leaf_nodes=20, estimator__min_samples_leaf=5, estimator__splitter=random \n",
      "[CV]  estimator__max_depth=9, estimator__max_features=auto, estimator__max_leaf_nodes=20, estimator__min_samples_leaf=5, estimator__splitter=random, score=-0.018, total=   0.1s\n",
      "[CV] estimator__max_depth=9, estimator__max_features=auto, estimator__max_leaf_nodes=20, estimator__min_samples_leaf=5, estimator__splitter=random \n",
      "[CV]  estimator__max_depth=9, estimator__max_features=auto, estimator__max_leaf_nodes=20, estimator__min_samples_leaf=5, estimator__splitter=random, score=-0.018, total=   0.1s\n",
      "[CV] estimator__max_depth=9, estimator__max_features=auto, estimator__max_leaf_nodes=20, estimator__min_samples_leaf=5, estimator__splitter=random \n"
     ]
    },
    {
     "name": "stderr",
     "output_type": "stream",
     "text": [
      "/home/abhinav/anaconda3/lib/python3.8/site-packages/sklearn/multiclass.py:76: UserWarning: Label not 10 is present in all training examples.\n",
      "  warnings.warn(\"Label %s is present in all training examples.\" %\n"
     ]
    },
    {
     "name": "stdout",
     "output_type": "stream",
     "text": [
      "[CV]  estimator__max_depth=9, estimator__max_features=auto, estimator__max_leaf_nodes=20, estimator__min_samples_leaf=5, estimator__splitter=random, score=-0.018, total=   0.1s\n",
      "[CV] estimator__max_depth=9, estimator__max_features=auto, estimator__max_leaf_nodes=30, estimator__min_samples_leaf=1, estimator__splitter=best \n",
      "[CV]  estimator__max_depth=9, estimator__max_features=auto, estimator__max_leaf_nodes=30, estimator__min_samples_leaf=1, estimator__splitter=best, score=-0.017, total=   0.1s\n",
      "[CV] estimator__max_depth=9, estimator__max_features=auto, estimator__max_leaf_nodes=30, estimator__min_samples_leaf=1, estimator__splitter=best \n",
      "[CV]  estimator__max_depth=9, estimator__max_features=auto, estimator__max_leaf_nodes=30, estimator__min_samples_leaf=1, estimator__splitter=best, score=-0.017, total=   0.1s\n",
      "[CV] estimator__max_depth=9, estimator__max_features=auto, estimator__max_leaf_nodes=30, estimator__min_samples_leaf=1, estimator__splitter=best \n"
     ]
    },
    {
     "name": "stderr",
     "output_type": "stream",
     "text": [
      "/home/abhinav/anaconda3/lib/python3.8/site-packages/sklearn/multiclass.py:76: UserWarning: Label not 10 is present in all training examples.\n",
      "  warnings.warn(\"Label %s is present in all training examples.\" %\n"
     ]
    },
    {
     "name": "stdout",
     "output_type": "stream",
     "text": [
      "[CV]  estimator__max_depth=9, estimator__max_features=auto, estimator__max_leaf_nodes=30, estimator__min_samples_leaf=1, estimator__splitter=best, score=-0.018, total=   0.1s\n",
      "[CV] estimator__max_depth=9, estimator__max_features=auto, estimator__max_leaf_nodes=30, estimator__min_samples_leaf=1, estimator__splitter=random \n",
      "[CV]  estimator__max_depth=9, estimator__max_features=auto, estimator__max_leaf_nodes=30, estimator__min_samples_leaf=1, estimator__splitter=random, score=-0.016, total=   0.1s\n",
      "[CV] estimator__max_depth=9, estimator__max_features=auto, estimator__max_leaf_nodes=30, estimator__min_samples_leaf=1, estimator__splitter=random \n",
      "[CV]  estimator__max_depth=9, estimator__max_features=auto, estimator__max_leaf_nodes=30, estimator__min_samples_leaf=1, estimator__splitter=random, score=-0.016, total=   0.1s\n",
      "[CV] estimator__max_depth=9, estimator__max_features=auto, estimator__max_leaf_nodes=30, estimator__min_samples_leaf=1, estimator__splitter=random \n"
     ]
    },
    {
     "name": "stderr",
     "output_type": "stream",
     "text": [
      "/home/abhinav/anaconda3/lib/python3.8/site-packages/sklearn/multiclass.py:76: UserWarning: Label not 10 is present in all training examples.\n",
      "  warnings.warn(\"Label %s is present in all training examples.\" %\n"
     ]
    },
    {
     "name": "stdout",
     "output_type": "stream",
     "text": [
      "[CV]  estimator__max_depth=9, estimator__max_features=auto, estimator__max_leaf_nodes=30, estimator__min_samples_leaf=1, estimator__splitter=random, score=-0.017, total=   0.1s\n",
      "[CV] estimator__max_depth=9, estimator__max_features=auto, estimator__max_leaf_nodes=30, estimator__min_samples_leaf=3, estimator__splitter=best \n",
      "[CV]  estimator__max_depth=9, estimator__max_features=auto, estimator__max_leaf_nodes=30, estimator__min_samples_leaf=3, estimator__splitter=best, score=-0.017, total=   0.1s\n",
      "[CV] estimator__max_depth=9, estimator__max_features=auto, estimator__max_leaf_nodes=30, estimator__min_samples_leaf=3, estimator__splitter=best \n",
      "[CV]  estimator__max_depth=9, estimator__max_features=auto, estimator__max_leaf_nodes=30, estimator__min_samples_leaf=3, estimator__splitter=best, score=-0.016, total=   0.1s\n",
      "[CV] estimator__max_depth=9, estimator__max_features=auto, estimator__max_leaf_nodes=30, estimator__min_samples_leaf=3, estimator__splitter=best \n"
     ]
    },
    {
     "name": "stderr",
     "output_type": "stream",
     "text": [
      "/home/abhinav/anaconda3/lib/python3.8/site-packages/sklearn/multiclass.py:76: UserWarning: Label not 10 is present in all training examples.\n",
      "  warnings.warn(\"Label %s is present in all training examples.\" %\n"
     ]
    },
    {
     "name": "stdout",
     "output_type": "stream",
     "text": [
      "[CV]  estimator__max_depth=9, estimator__max_features=auto, estimator__max_leaf_nodes=30, estimator__min_samples_leaf=3, estimator__splitter=best, score=-0.017, total=   0.1s\n",
      "[CV] estimator__max_depth=9, estimator__max_features=auto, estimator__max_leaf_nodes=30, estimator__min_samples_leaf=3, estimator__splitter=random \n",
      "[CV]  estimator__max_depth=9, estimator__max_features=auto, estimator__max_leaf_nodes=30, estimator__min_samples_leaf=3, estimator__splitter=random, score=-0.018, total=   0.1s\n",
      "[CV] estimator__max_depth=9, estimator__max_features=auto, estimator__max_leaf_nodes=30, estimator__min_samples_leaf=3, estimator__splitter=random \n",
      "[CV]  estimator__max_depth=9, estimator__max_features=auto, estimator__max_leaf_nodes=30, estimator__min_samples_leaf=3, estimator__splitter=random, score=-0.018, total=   0.1s\n",
      "[CV] estimator__max_depth=9, estimator__max_features=auto, estimator__max_leaf_nodes=30, estimator__min_samples_leaf=3, estimator__splitter=random \n"
     ]
    },
    {
     "name": "stderr",
     "output_type": "stream",
     "text": [
      "/home/abhinav/anaconda3/lib/python3.8/site-packages/sklearn/multiclass.py:76: UserWarning: Label not 10 is present in all training examples.\n",
      "  warnings.warn(\"Label %s is present in all training examples.\" %\n"
     ]
    },
    {
     "name": "stdout",
     "output_type": "stream",
     "text": [
      "[CV]  estimator__max_depth=9, estimator__max_features=auto, estimator__max_leaf_nodes=30, estimator__min_samples_leaf=3, estimator__splitter=random, score=-0.018, total=   0.1s\n",
      "[CV] estimator__max_depth=9, estimator__max_features=auto, estimator__max_leaf_nodes=30, estimator__min_samples_leaf=5, estimator__splitter=best \n",
      "[CV]  estimator__max_depth=9, estimator__max_features=auto, estimator__max_leaf_nodes=30, estimator__min_samples_leaf=5, estimator__splitter=best, score=-0.017, total=   0.1s\n",
      "[CV] estimator__max_depth=9, estimator__max_features=auto, estimator__max_leaf_nodes=30, estimator__min_samples_leaf=5, estimator__splitter=best \n",
      "[CV]  estimator__max_depth=9, estimator__max_features=auto, estimator__max_leaf_nodes=30, estimator__min_samples_leaf=5, estimator__splitter=best, score=-0.018, total=   0.1s\n",
      "[CV] estimator__max_depth=9, estimator__max_features=auto, estimator__max_leaf_nodes=30, estimator__min_samples_leaf=5, estimator__splitter=best \n"
     ]
    },
    {
     "name": "stderr",
     "output_type": "stream",
     "text": [
      "/home/abhinav/anaconda3/lib/python3.8/site-packages/sklearn/multiclass.py:76: UserWarning: Label not 10 is present in all training examples.\n",
      "  warnings.warn(\"Label %s is present in all training examples.\" %\n"
     ]
    },
    {
     "name": "stdout",
     "output_type": "stream",
     "text": [
      "[CV]  estimator__max_depth=9, estimator__max_features=auto, estimator__max_leaf_nodes=30, estimator__min_samples_leaf=5, estimator__splitter=best, score=-0.018, total=   0.1s\n",
      "[CV] estimator__max_depth=9, estimator__max_features=auto, estimator__max_leaf_nodes=30, estimator__min_samples_leaf=5, estimator__splitter=random \n",
      "[CV]  estimator__max_depth=9, estimator__max_features=auto, estimator__max_leaf_nodes=30, estimator__min_samples_leaf=5, estimator__splitter=random, score=-0.018, total=   0.1s\n",
      "[CV] estimator__max_depth=9, estimator__max_features=auto, estimator__max_leaf_nodes=30, estimator__min_samples_leaf=5, estimator__splitter=random \n",
      "[CV]  estimator__max_depth=9, estimator__max_features=auto, estimator__max_leaf_nodes=30, estimator__min_samples_leaf=5, estimator__splitter=random, score=-0.018, total=   0.1s\n",
      "[CV] estimator__max_depth=9, estimator__max_features=auto, estimator__max_leaf_nodes=30, estimator__min_samples_leaf=5, estimator__splitter=random \n"
     ]
    },
    {
     "name": "stderr",
     "output_type": "stream",
     "text": [
      "/home/abhinav/anaconda3/lib/python3.8/site-packages/sklearn/multiclass.py:76: UserWarning: Label not 10 is present in all training examples.\n",
      "  warnings.warn(\"Label %s is present in all training examples.\" %\n"
     ]
    },
    {
     "name": "stdout",
     "output_type": "stream",
     "text": [
      "[CV]  estimator__max_depth=9, estimator__max_features=auto, estimator__max_leaf_nodes=30, estimator__min_samples_leaf=5, estimator__splitter=random, score=-0.018, total=   0.1s\n",
      "[CV] estimator__max_depth=9, estimator__max_features=auto, estimator__max_leaf_nodes=40, estimator__min_samples_leaf=1, estimator__splitter=best \n",
      "[CV]  estimator__max_depth=9, estimator__max_features=auto, estimator__max_leaf_nodes=40, estimator__min_samples_leaf=1, estimator__splitter=best, score=-0.017, total=   0.1s\n",
      "[CV] estimator__max_depth=9, estimator__max_features=auto, estimator__max_leaf_nodes=40, estimator__min_samples_leaf=1, estimator__splitter=best \n",
      "[CV]  estimator__max_depth=9, estimator__max_features=auto, estimator__max_leaf_nodes=40, estimator__min_samples_leaf=1, estimator__splitter=best, score=-0.015, total=   0.1s\n",
      "[CV] estimator__max_depth=9, estimator__max_features=auto, estimator__max_leaf_nodes=40, estimator__min_samples_leaf=1, estimator__splitter=best \n"
     ]
    },
    {
     "name": "stderr",
     "output_type": "stream",
     "text": [
      "/home/abhinav/anaconda3/lib/python3.8/site-packages/sklearn/multiclass.py:76: UserWarning: Label not 10 is present in all training examples.\n",
      "  warnings.warn(\"Label %s is present in all training examples.\" %\n"
     ]
    },
    {
     "name": "stdout",
     "output_type": "stream",
     "text": [
      "[CV]  estimator__max_depth=9, estimator__max_features=auto, estimator__max_leaf_nodes=40, estimator__min_samples_leaf=1, estimator__splitter=best, score=-0.017, total=   0.1s\n",
      "[CV] estimator__max_depth=9, estimator__max_features=auto, estimator__max_leaf_nodes=40, estimator__min_samples_leaf=1, estimator__splitter=random \n",
      "[CV]  estimator__max_depth=9, estimator__max_features=auto, estimator__max_leaf_nodes=40, estimator__min_samples_leaf=1, estimator__splitter=random, score=-0.017, total=   0.1s\n",
      "[CV] estimator__max_depth=9, estimator__max_features=auto, estimator__max_leaf_nodes=40, estimator__min_samples_leaf=1, estimator__splitter=random \n",
      "[CV]  estimator__max_depth=9, estimator__max_features=auto, estimator__max_leaf_nodes=40, estimator__min_samples_leaf=1, estimator__splitter=random, score=-0.017, total=   0.1s\n",
      "[CV] estimator__max_depth=9, estimator__max_features=auto, estimator__max_leaf_nodes=40, estimator__min_samples_leaf=1, estimator__splitter=random \n"
     ]
    },
    {
     "name": "stderr",
     "output_type": "stream",
     "text": [
      "/home/abhinav/anaconda3/lib/python3.8/site-packages/sklearn/multiclass.py:76: UserWarning: Label not 10 is present in all training examples.\n",
      "  warnings.warn(\"Label %s is present in all training examples.\" %\n"
     ]
    },
    {
     "name": "stdout",
     "output_type": "stream",
     "text": [
      "[CV]  estimator__max_depth=9, estimator__max_features=auto, estimator__max_leaf_nodes=40, estimator__min_samples_leaf=1, estimator__splitter=random, score=-0.016, total=   0.1s\n",
      "[CV] estimator__max_depth=9, estimator__max_features=auto, estimator__max_leaf_nodes=40, estimator__min_samples_leaf=3, estimator__splitter=best \n",
      "[CV]  estimator__max_depth=9, estimator__max_features=auto, estimator__max_leaf_nodes=40, estimator__min_samples_leaf=3, estimator__splitter=best, score=-0.017, total=   0.1s\n",
      "[CV] estimator__max_depth=9, estimator__max_features=auto, estimator__max_leaf_nodes=40, estimator__min_samples_leaf=3, estimator__splitter=best \n",
      "[CV]  estimator__max_depth=9, estimator__max_features=auto, estimator__max_leaf_nodes=40, estimator__min_samples_leaf=3, estimator__splitter=best, score=-0.016, total=   0.1s\n",
      "[CV] estimator__max_depth=9, estimator__max_features=auto, estimator__max_leaf_nodes=40, estimator__min_samples_leaf=3, estimator__splitter=best \n"
     ]
    },
    {
     "name": "stderr",
     "output_type": "stream",
     "text": [
      "/home/abhinav/anaconda3/lib/python3.8/site-packages/sklearn/multiclass.py:76: UserWarning: Label not 10 is present in all training examples.\n",
      "  warnings.warn(\"Label %s is present in all training examples.\" %\n"
     ]
    },
    {
     "name": "stdout",
     "output_type": "stream",
     "text": [
      "[CV]  estimator__max_depth=9, estimator__max_features=auto, estimator__max_leaf_nodes=40, estimator__min_samples_leaf=3, estimator__splitter=best, score=-0.018, total=   0.1s\n",
      "[CV] estimator__max_depth=9, estimator__max_features=auto, estimator__max_leaf_nodes=40, estimator__min_samples_leaf=3, estimator__splitter=random \n",
      "[CV]  estimator__max_depth=9, estimator__max_features=auto, estimator__max_leaf_nodes=40, estimator__min_samples_leaf=3, estimator__splitter=random, score=-0.018, total=   0.1s\n",
      "[CV] estimator__max_depth=9, estimator__max_features=auto, estimator__max_leaf_nodes=40, estimator__min_samples_leaf=3, estimator__splitter=random \n",
      "[CV]  estimator__max_depth=9, estimator__max_features=auto, estimator__max_leaf_nodes=40, estimator__min_samples_leaf=3, estimator__splitter=random, score=-0.017, total=   0.1s\n",
      "[CV] estimator__max_depth=9, estimator__max_features=auto, estimator__max_leaf_nodes=40, estimator__min_samples_leaf=3, estimator__splitter=random \n"
     ]
    },
    {
     "name": "stderr",
     "output_type": "stream",
     "text": [
      "/home/abhinav/anaconda3/lib/python3.8/site-packages/sklearn/multiclass.py:76: UserWarning: Label not 10 is present in all training examples.\n",
      "  warnings.warn(\"Label %s is present in all training examples.\" %\n"
     ]
    },
    {
     "name": "stdout",
     "output_type": "stream",
     "text": [
      "[CV]  estimator__max_depth=9, estimator__max_features=auto, estimator__max_leaf_nodes=40, estimator__min_samples_leaf=3, estimator__splitter=random, score=-0.018, total=   0.1s\n",
      "[CV] estimator__max_depth=9, estimator__max_features=auto, estimator__max_leaf_nodes=40, estimator__min_samples_leaf=5, estimator__splitter=best \n",
      "[CV]  estimator__max_depth=9, estimator__max_features=auto, estimator__max_leaf_nodes=40, estimator__min_samples_leaf=5, estimator__splitter=best, score=-0.018, total=   0.1s\n",
      "[CV] estimator__max_depth=9, estimator__max_features=auto, estimator__max_leaf_nodes=40, estimator__min_samples_leaf=5, estimator__splitter=best \n",
      "[CV]  estimator__max_depth=9, estimator__max_features=auto, estimator__max_leaf_nodes=40, estimator__min_samples_leaf=5, estimator__splitter=best, score=-0.018, total=   0.1s\n",
      "[CV] estimator__max_depth=9, estimator__max_features=auto, estimator__max_leaf_nodes=40, estimator__min_samples_leaf=5, estimator__splitter=best \n"
     ]
    },
    {
     "name": "stderr",
     "output_type": "stream",
     "text": [
      "/home/abhinav/anaconda3/lib/python3.8/site-packages/sklearn/multiclass.py:76: UserWarning: Label not 10 is present in all training examples.\n",
      "  warnings.warn(\"Label %s is present in all training examples.\" %\n"
     ]
    },
    {
     "name": "stdout",
     "output_type": "stream",
     "text": [
      "[CV]  estimator__max_depth=9, estimator__max_features=auto, estimator__max_leaf_nodes=40, estimator__min_samples_leaf=5, estimator__splitter=best, score=-0.018, total=   0.1s\n",
      "[CV] estimator__max_depth=9, estimator__max_features=auto, estimator__max_leaf_nodes=40, estimator__min_samples_leaf=5, estimator__splitter=random \n",
      "[CV]  estimator__max_depth=9, estimator__max_features=auto, estimator__max_leaf_nodes=40, estimator__min_samples_leaf=5, estimator__splitter=random, score=-0.018, total=   0.1s\n",
      "[CV] estimator__max_depth=9, estimator__max_features=auto, estimator__max_leaf_nodes=40, estimator__min_samples_leaf=5, estimator__splitter=random \n",
      "[CV]  estimator__max_depth=9, estimator__max_features=auto, estimator__max_leaf_nodes=40, estimator__min_samples_leaf=5, estimator__splitter=random, score=-0.018, total=   0.1s\n",
      "[CV] estimator__max_depth=9, estimator__max_features=auto, estimator__max_leaf_nodes=40, estimator__min_samples_leaf=5, estimator__splitter=random \n"
     ]
    },
    {
     "name": "stderr",
     "output_type": "stream",
     "text": [
      "/home/abhinav/anaconda3/lib/python3.8/site-packages/sklearn/multiclass.py:76: UserWarning: Label not 10 is present in all training examples.\n",
      "  warnings.warn(\"Label %s is present in all training examples.\" %\n"
     ]
    },
    {
     "name": "stdout",
     "output_type": "stream",
     "text": [
      "[CV]  estimator__max_depth=9, estimator__max_features=auto, estimator__max_leaf_nodes=40, estimator__min_samples_leaf=5, estimator__splitter=random, score=-0.018, total=   0.1s\n",
      "[CV] estimator__max_depth=9, estimator__max_features=auto, estimator__max_leaf_nodes=50, estimator__min_samples_leaf=1, estimator__splitter=best \n",
      "[CV]  estimator__max_depth=9, estimator__max_features=auto, estimator__max_leaf_nodes=50, estimator__min_samples_leaf=1, estimator__splitter=best, score=-0.018, total=   0.1s\n",
      "[CV] estimator__max_depth=9, estimator__max_features=auto, estimator__max_leaf_nodes=50, estimator__min_samples_leaf=1, estimator__splitter=best \n",
      "[CV]  estimator__max_depth=9, estimator__max_features=auto, estimator__max_leaf_nodes=50, estimator__min_samples_leaf=1, estimator__splitter=best, score=-0.016, total=   0.1s\n",
      "[CV] estimator__max_depth=9, estimator__max_features=auto, estimator__max_leaf_nodes=50, estimator__min_samples_leaf=1, estimator__splitter=best \n"
     ]
    },
    {
     "name": "stderr",
     "output_type": "stream",
     "text": [
      "/home/abhinav/anaconda3/lib/python3.8/site-packages/sklearn/multiclass.py:76: UserWarning: Label not 10 is present in all training examples.\n",
      "  warnings.warn(\"Label %s is present in all training examples.\" %\n"
     ]
    },
    {
     "name": "stdout",
     "output_type": "stream",
     "text": [
      "[CV]  estimator__max_depth=9, estimator__max_features=auto, estimator__max_leaf_nodes=50, estimator__min_samples_leaf=1, estimator__splitter=best, score=-0.016, total=   0.1s\n",
      "[CV] estimator__max_depth=9, estimator__max_features=auto, estimator__max_leaf_nodes=50, estimator__min_samples_leaf=1, estimator__splitter=random \n",
      "[CV]  estimator__max_depth=9, estimator__max_features=auto, estimator__max_leaf_nodes=50, estimator__min_samples_leaf=1, estimator__splitter=random, score=-0.017, total=   0.1s\n",
      "[CV] estimator__max_depth=9, estimator__max_features=auto, estimator__max_leaf_nodes=50, estimator__min_samples_leaf=1, estimator__splitter=random \n",
      "[CV]  estimator__max_depth=9, estimator__max_features=auto, estimator__max_leaf_nodes=50, estimator__min_samples_leaf=1, estimator__splitter=random, score=-0.018, total=   0.1s\n",
      "[CV] estimator__max_depth=9, estimator__max_features=auto, estimator__max_leaf_nodes=50, estimator__min_samples_leaf=1, estimator__splitter=random \n"
     ]
    },
    {
     "name": "stderr",
     "output_type": "stream",
     "text": [
      "/home/abhinav/anaconda3/lib/python3.8/site-packages/sklearn/multiclass.py:76: UserWarning: Label not 10 is present in all training examples.\n",
      "  warnings.warn(\"Label %s is present in all training examples.\" %\n"
     ]
    },
    {
     "name": "stdout",
     "output_type": "stream",
     "text": [
      "[CV]  estimator__max_depth=9, estimator__max_features=auto, estimator__max_leaf_nodes=50, estimator__min_samples_leaf=1, estimator__splitter=random, score=-0.016, total=   0.1s\n",
      "[CV] estimator__max_depth=9, estimator__max_features=auto, estimator__max_leaf_nodes=50, estimator__min_samples_leaf=3, estimator__splitter=best \n",
      "[CV]  estimator__max_depth=9, estimator__max_features=auto, estimator__max_leaf_nodes=50, estimator__min_samples_leaf=3, estimator__splitter=best, score=-0.017, total=   0.1s\n",
      "[CV] estimator__max_depth=9, estimator__max_features=auto, estimator__max_leaf_nodes=50, estimator__min_samples_leaf=3, estimator__splitter=best \n",
      "[CV]  estimator__max_depth=9, estimator__max_features=auto, estimator__max_leaf_nodes=50, estimator__min_samples_leaf=3, estimator__splitter=best, score=-0.016, total=   0.1s\n",
      "[CV] estimator__max_depth=9, estimator__max_features=auto, estimator__max_leaf_nodes=50, estimator__min_samples_leaf=3, estimator__splitter=best \n"
     ]
    },
    {
     "name": "stderr",
     "output_type": "stream",
     "text": [
      "/home/abhinav/anaconda3/lib/python3.8/site-packages/sklearn/multiclass.py:76: UserWarning: Label not 10 is present in all training examples.\n",
      "  warnings.warn(\"Label %s is present in all training examples.\" %\n"
     ]
    },
    {
     "name": "stdout",
     "output_type": "stream",
     "text": [
      "[CV]  estimator__max_depth=9, estimator__max_features=auto, estimator__max_leaf_nodes=50, estimator__min_samples_leaf=3, estimator__splitter=best, score=-0.016, total=   0.1s\n",
      "[CV] estimator__max_depth=9, estimator__max_features=auto, estimator__max_leaf_nodes=50, estimator__min_samples_leaf=3, estimator__splitter=random \n",
      "[CV]  estimator__max_depth=9, estimator__max_features=auto, estimator__max_leaf_nodes=50, estimator__min_samples_leaf=3, estimator__splitter=random, score=-0.018, total=   0.1s\n",
      "[CV] estimator__max_depth=9, estimator__max_features=auto, estimator__max_leaf_nodes=50, estimator__min_samples_leaf=3, estimator__splitter=random \n",
      "[CV]  estimator__max_depth=9, estimator__max_features=auto, estimator__max_leaf_nodes=50, estimator__min_samples_leaf=3, estimator__splitter=random, score=-0.018, total=   0.1s\n",
      "[CV] estimator__max_depth=9, estimator__max_features=auto, estimator__max_leaf_nodes=50, estimator__min_samples_leaf=3, estimator__splitter=random \n"
     ]
    },
    {
     "name": "stderr",
     "output_type": "stream",
     "text": [
      "/home/abhinav/anaconda3/lib/python3.8/site-packages/sklearn/multiclass.py:76: UserWarning: Label not 10 is present in all training examples.\n",
      "  warnings.warn(\"Label %s is present in all training examples.\" %\n"
     ]
    },
    {
     "name": "stdout",
     "output_type": "stream",
     "text": [
      "[CV]  estimator__max_depth=9, estimator__max_features=auto, estimator__max_leaf_nodes=50, estimator__min_samples_leaf=3, estimator__splitter=random, score=-0.017, total=   0.1s\n",
      "[CV] estimator__max_depth=9, estimator__max_features=auto, estimator__max_leaf_nodes=50, estimator__min_samples_leaf=5, estimator__splitter=best \n",
      "[CV]  estimator__max_depth=9, estimator__max_features=auto, estimator__max_leaf_nodes=50, estimator__min_samples_leaf=5, estimator__splitter=best, score=-0.018, total=   0.1s\n",
      "[CV] estimator__max_depth=9, estimator__max_features=auto, estimator__max_leaf_nodes=50, estimator__min_samples_leaf=5, estimator__splitter=best \n",
      "[CV]  estimator__max_depth=9, estimator__max_features=auto, estimator__max_leaf_nodes=50, estimator__min_samples_leaf=5, estimator__splitter=best, score=-0.017, total=   0.1s\n",
      "[CV] estimator__max_depth=9, estimator__max_features=auto, estimator__max_leaf_nodes=50, estimator__min_samples_leaf=5, estimator__splitter=best \n"
     ]
    },
    {
     "name": "stderr",
     "output_type": "stream",
     "text": [
      "/home/abhinav/anaconda3/lib/python3.8/site-packages/sklearn/multiclass.py:76: UserWarning: Label not 10 is present in all training examples.\n",
      "  warnings.warn(\"Label %s is present in all training examples.\" %\n"
     ]
    },
    {
     "name": "stdout",
     "output_type": "stream",
     "text": [
      "[CV]  estimator__max_depth=9, estimator__max_features=auto, estimator__max_leaf_nodes=50, estimator__min_samples_leaf=5, estimator__splitter=best, score=-0.018, total=   0.1s\n",
      "[CV] estimator__max_depth=9, estimator__max_features=auto, estimator__max_leaf_nodes=50, estimator__min_samples_leaf=5, estimator__splitter=random \n",
      "[CV]  estimator__max_depth=9, estimator__max_features=auto, estimator__max_leaf_nodes=50, estimator__min_samples_leaf=5, estimator__splitter=random, score=-0.018, total=   0.1s\n",
      "[CV] estimator__max_depth=9, estimator__max_features=auto, estimator__max_leaf_nodes=50, estimator__min_samples_leaf=5, estimator__splitter=random \n",
      "[CV]  estimator__max_depth=9, estimator__max_features=auto, estimator__max_leaf_nodes=50, estimator__min_samples_leaf=5, estimator__splitter=random, score=-0.017, total=   0.1s\n",
      "[CV] estimator__max_depth=9, estimator__max_features=auto, estimator__max_leaf_nodes=50, estimator__min_samples_leaf=5, estimator__splitter=random \n"
     ]
    },
    {
     "name": "stderr",
     "output_type": "stream",
     "text": [
      "/home/abhinav/anaconda3/lib/python3.8/site-packages/sklearn/multiclass.py:76: UserWarning: Label not 10 is present in all training examples.\n",
      "  warnings.warn(\"Label %s is present in all training examples.\" %\n"
     ]
    },
    {
     "name": "stdout",
     "output_type": "stream",
     "text": [
      "[CV]  estimator__max_depth=9, estimator__max_features=auto, estimator__max_leaf_nodes=50, estimator__min_samples_leaf=5, estimator__splitter=random, score=-0.018, total=   0.1s\n",
      "[CV] estimator__max_depth=9, estimator__max_features=auto, estimator__max_leaf_nodes=70, estimator__min_samples_leaf=1, estimator__splitter=best \n",
      "[CV]  estimator__max_depth=9, estimator__max_features=auto, estimator__max_leaf_nodes=70, estimator__min_samples_leaf=1, estimator__splitter=best, score=-0.018, total=   0.1s\n",
      "[CV] estimator__max_depth=9, estimator__max_features=auto, estimator__max_leaf_nodes=70, estimator__min_samples_leaf=1, estimator__splitter=best \n",
      "[CV]  estimator__max_depth=9, estimator__max_features=auto, estimator__max_leaf_nodes=70, estimator__min_samples_leaf=1, estimator__splitter=best, score=-0.015, total=   0.1s\n",
      "[CV] estimator__max_depth=9, estimator__max_features=auto, estimator__max_leaf_nodes=70, estimator__min_samples_leaf=1, estimator__splitter=best \n"
     ]
    },
    {
     "name": "stderr",
     "output_type": "stream",
     "text": [
      "/home/abhinav/anaconda3/lib/python3.8/site-packages/sklearn/multiclass.py:76: UserWarning: Label not 10 is present in all training examples.\n",
      "  warnings.warn(\"Label %s is present in all training examples.\" %\n"
     ]
    },
    {
     "name": "stdout",
     "output_type": "stream",
     "text": [
      "[CV]  estimator__max_depth=9, estimator__max_features=auto, estimator__max_leaf_nodes=70, estimator__min_samples_leaf=1, estimator__splitter=best, score=-0.016, total=   0.1s\n",
      "[CV] estimator__max_depth=9, estimator__max_features=auto, estimator__max_leaf_nodes=70, estimator__min_samples_leaf=1, estimator__splitter=random \n",
      "[CV]  estimator__max_depth=9, estimator__max_features=auto, estimator__max_leaf_nodes=70, estimator__min_samples_leaf=1, estimator__splitter=random, score=-0.019, total=   0.1s\n",
      "[CV] estimator__max_depth=9, estimator__max_features=auto, estimator__max_leaf_nodes=70, estimator__min_samples_leaf=1, estimator__splitter=random \n",
      "[CV]  estimator__max_depth=9, estimator__max_features=auto, estimator__max_leaf_nodes=70, estimator__min_samples_leaf=1, estimator__splitter=random, score=-0.018, total=   0.1s\n",
      "[CV] estimator__max_depth=9, estimator__max_features=auto, estimator__max_leaf_nodes=70, estimator__min_samples_leaf=1, estimator__splitter=random \n"
     ]
    },
    {
     "name": "stderr",
     "output_type": "stream",
     "text": [
      "/home/abhinav/anaconda3/lib/python3.8/site-packages/sklearn/multiclass.py:76: UserWarning: Label not 10 is present in all training examples.\n",
      "  warnings.warn(\"Label %s is present in all training examples.\" %\n"
     ]
    },
    {
     "name": "stdout",
     "output_type": "stream",
     "text": [
      "[CV]  estimator__max_depth=9, estimator__max_features=auto, estimator__max_leaf_nodes=70, estimator__min_samples_leaf=1, estimator__splitter=random, score=-0.017, total=   0.1s\n",
      "[CV] estimator__max_depth=9, estimator__max_features=auto, estimator__max_leaf_nodes=70, estimator__min_samples_leaf=3, estimator__splitter=best \n",
      "[CV]  estimator__max_depth=9, estimator__max_features=auto, estimator__max_leaf_nodes=70, estimator__min_samples_leaf=3, estimator__splitter=best, score=-0.017, total=   0.1s\n",
      "[CV] estimator__max_depth=9, estimator__max_features=auto, estimator__max_leaf_nodes=70, estimator__min_samples_leaf=3, estimator__splitter=best \n",
      "[CV]  estimator__max_depth=9, estimator__max_features=auto, estimator__max_leaf_nodes=70, estimator__min_samples_leaf=3, estimator__splitter=best, score=-0.016, total=   0.1s\n",
      "[CV] estimator__max_depth=9, estimator__max_features=auto, estimator__max_leaf_nodes=70, estimator__min_samples_leaf=3, estimator__splitter=best \n"
     ]
    },
    {
     "name": "stderr",
     "output_type": "stream",
     "text": [
      "/home/abhinav/anaconda3/lib/python3.8/site-packages/sklearn/multiclass.py:76: UserWarning: Label not 10 is present in all training examples.\n",
      "  warnings.warn(\"Label %s is present in all training examples.\" %\n"
     ]
    },
    {
     "name": "stdout",
     "output_type": "stream",
     "text": [
      "[CV]  estimator__max_depth=9, estimator__max_features=auto, estimator__max_leaf_nodes=70, estimator__min_samples_leaf=3, estimator__splitter=best, score=-0.016, total=   0.1s\n",
      "[CV] estimator__max_depth=9, estimator__max_features=auto, estimator__max_leaf_nodes=70, estimator__min_samples_leaf=3, estimator__splitter=random \n",
      "[CV]  estimator__max_depth=9, estimator__max_features=auto, estimator__max_leaf_nodes=70, estimator__min_samples_leaf=3, estimator__splitter=random, score=-0.017, total=   0.1s\n",
      "[CV] estimator__max_depth=9, estimator__max_features=auto, estimator__max_leaf_nodes=70, estimator__min_samples_leaf=3, estimator__splitter=random \n",
      "[CV]  estimator__max_depth=9, estimator__max_features=auto, estimator__max_leaf_nodes=70, estimator__min_samples_leaf=3, estimator__splitter=random, score=-0.017, total=   0.1s\n",
      "[CV] estimator__max_depth=9, estimator__max_features=auto, estimator__max_leaf_nodes=70, estimator__min_samples_leaf=3, estimator__splitter=random \n"
     ]
    },
    {
     "name": "stderr",
     "output_type": "stream",
     "text": [
      "/home/abhinav/anaconda3/lib/python3.8/site-packages/sklearn/multiclass.py:76: UserWarning: Label not 10 is present in all training examples.\n",
      "  warnings.warn(\"Label %s is present in all training examples.\" %\n"
     ]
    },
    {
     "name": "stdout",
     "output_type": "stream",
     "text": [
      "[CV]  estimator__max_depth=9, estimator__max_features=auto, estimator__max_leaf_nodes=70, estimator__min_samples_leaf=3, estimator__splitter=random, score=-0.017, total=   0.1s\n",
      "[CV] estimator__max_depth=9, estimator__max_features=auto, estimator__max_leaf_nodes=70, estimator__min_samples_leaf=5, estimator__splitter=best \n",
      "[CV]  estimator__max_depth=9, estimator__max_features=auto, estimator__max_leaf_nodes=70, estimator__min_samples_leaf=5, estimator__splitter=best, score=-0.018, total=   0.1s\n",
      "[CV] estimator__max_depth=9, estimator__max_features=auto, estimator__max_leaf_nodes=70, estimator__min_samples_leaf=5, estimator__splitter=best \n",
      "[CV]  estimator__max_depth=9, estimator__max_features=auto, estimator__max_leaf_nodes=70, estimator__min_samples_leaf=5, estimator__splitter=best, score=-0.017, total=   0.1s\n",
      "[CV] estimator__max_depth=9, estimator__max_features=auto, estimator__max_leaf_nodes=70, estimator__min_samples_leaf=5, estimator__splitter=best \n"
     ]
    },
    {
     "name": "stderr",
     "output_type": "stream",
     "text": [
      "/home/abhinav/anaconda3/lib/python3.8/site-packages/sklearn/multiclass.py:76: UserWarning: Label not 10 is present in all training examples.\n",
      "  warnings.warn(\"Label %s is present in all training examples.\" %\n"
     ]
    },
    {
     "name": "stdout",
     "output_type": "stream",
     "text": [
      "[CV]  estimator__max_depth=9, estimator__max_features=auto, estimator__max_leaf_nodes=70, estimator__min_samples_leaf=5, estimator__splitter=best, score=-0.018, total=   0.1s\n",
      "[CV] estimator__max_depth=9, estimator__max_features=auto, estimator__max_leaf_nodes=70, estimator__min_samples_leaf=5, estimator__splitter=random \n",
      "[CV]  estimator__max_depth=9, estimator__max_features=auto, estimator__max_leaf_nodes=70, estimator__min_samples_leaf=5, estimator__splitter=random, score=-0.018, total=   0.1s\n",
      "[CV] estimator__max_depth=9, estimator__max_features=auto, estimator__max_leaf_nodes=70, estimator__min_samples_leaf=5, estimator__splitter=random \n",
      "[CV]  estimator__max_depth=9, estimator__max_features=auto, estimator__max_leaf_nodes=70, estimator__min_samples_leaf=5, estimator__splitter=random, score=-0.018, total=   0.1s\n",
      "[CV] estimator__max_depth=9, estimator__max_features=auto, estimator__max_leaf_nodes=70, estimator__min_samples_leaf=5, estimator__splitter=random \n"
     ]
    },
    {
     "name": "stderr",
     "output_type": "stream",
     "text": [
      "/home/abhinav/anaconda3/lib/python3.8/site-packages/sklearn/multiclass.py:76: UserWarning: Label not 10 is present in all training examples.\n",
      "  warnings.warn(\"Label %s is present in all training examples.\" %\n"
     ]
    },
    {
     "name": "stdout",
     "output_type": "stream",
     "text": [
      "[CV]  estimator__max_depth=9, estimator__max_features=auto, estimator__max_leaf_nodes=70, estimator__min_samples_leaf=5, estimator__splitter=random, score=-0.018, total=   0.1s\n",
      "[CV] estimator__max_depth=9, estimator__max_features=sqrt, estimator__max_leaf_nodes=None, estimator__min_samples_leaf=1, estimator__splitter=best \n",
      "[CV]  estimator__max_depth=9, estimator__max_features=sqrt, estimator__max_leaf_nodes=None, estimator__min_samples_leaf=1, estimator__splitter=best, score=-0.017, total=   0.1s\n",
      "[CV] estimator__max_depth=9, estimator__max_features=sqrt, estimator__max_leaf_nodes=None, estimator__min_samples_leaf=1, estimator__splitter=best \n",
      "[CV]  estimator__max_depth=9, estimator__max_features=sqrt, estimator__max_leaf_nodes=None, estimator__min_samples_leaf=1, estimator__splitter=best, score=-0.018, total=   0.1s\n",
      "[CV] estimator__max_depth=9, estimator__max_features=sqrt, estimator__max_leaf_nodes=None, estimator__min_samples_leaf=1, estimator__splitter=best \n"
     ]
    },
    {
     "name": "stderr",
     "output_type": "stream",
     "text": [
      "/home/abhinav/anaconda3/lib/python3.8/site-packages/sklearn/multiclass.py:76: UserWarning: Label not 10 is present in all training examples.\n",
      "  warnings.warn(\"Label %s is present in all training examples.\" %\n"
     ]
    },
    {
     "name": "stdout",
     "output_type": "stream",
     "text": [
      "[CV]  estimator__max_depth=9, estimator__max_features=sqrt, estimator__max_leaf_nodes=None, estimator__min_samples_leaf=1, estimator__splitter=best, score=-0.017, total=   0.1s\n",
      "[CV] estimator__max_depth=9, estimator__max_features=sqrt, estimator__max_leaf_nodes=None, estimator__min_samples_leaf=1, estimator__splitter=random \n",
      "[CV]  estimator__max_depth=9, estimator__max_features=sqrt, estimator__max_leaf_nodes=None, estimator__min_samples_leaf=1, estimator__splitter=random, score=-0.017, total=   0.1s\n",
      "[CV] estimator__max_depth=9, estimator__max_features=sqrt, estimator__max_leaf_nodes=None, estimator__min_samples_leaf=1, estimator__splitter=random \n",
      "[CV]  estimator__max_depth=9, estimator__max_features=sqrt, estimator__max_leaf_nodes=None, estimator__min_samples_leaf=1, estimator__splitter=random, score=-0.016, total=   0.1s\n",
      "[CV] estimator__max_depth=9, estimator__max_features=sqrt, estimator__max_leaf_nodes=None, estimator__min_samples_leaf=1, estimator__splitter=random \n"
     ]
    },
    {
     "name": "stderr",
     "output_type": "stream",
     "text": [
      "/home/abhinav/anaconda3/lib/python3.8/site-packages/sklearn/multiclass.py:76: UserWarning: Label not 10 is present in all training examples.\n",
      "  warnings.warn(\"Label %s is present in all training examples.\" %\n"
     ]
    },
    {
     "name": "stdout",
     "output_type": "stream",
     "text": [
      "[CV]  estimator__max_depth=9, estimator__max_features=sqrt, estimator__max_leaf_nodes=None, estimator__min_samples_leaf=1, estimator__splitter=random, score=-0.016, total=   0.1s\n",
      "[CV] estimator__max_depth=9, estimator__max_features=sqrt, estimator__max_leaf_nodes=None, estimator__min_samples_leaf=3, estimator__splitter=best \n",
      "[CV]  estimator__max_depth=9, estimator__max_features=sqrt, estimator__max_leaf_nodes=None, estimator__min_samples_leaf=3, estimator__splitter=best, score=-0.017, total=   0.1s\n",
      "[CV] estimator__max_depth=9, estimator__max_features=sqrt, estimator__max_leaf_nodes=None, estimator__min_samples_leaf=3, estimator__splitter=best \n",
      "[CV]  estimator__max_depth=9, estimator__max_features=sqrt, estimator__max_leaf_nodes=None, estimator__min_samples_leaf=3, estimator__splitter=best, score=-0.017, total=   0.1s\n",
      "[CV] estimator__max_depth=9, estimator__max_features=sqrt, estimator__max_leaf_nodes=None, estimator__min_samples_leaf=3, estimator__splitter=best \n"
     ]
    },
    {
     "name": "stderr",
     "output_type": "stream",
     "text": [
      "/home/abhinav/anaconda3/lib/python3.8/site-packages/sklearn/multiclass.py:76: UserWarning: Label not 10 is present in all training examples.\n",
      "  warnings.warn(\"Label %s is present in all training examples.\" %\n"
     ]
    },
    {
     "name": "stdout",
     "output_type": "stream",
     "text": [
      "[CV]  estimator__max_depth=9, estimator__max_features=sqrt, estimator__max_leaf_nodes=None, estimator__min_samples_leaf=3, estimator__splitter=best, score=-0.017, total=   0.1s\n",
      "[CV] estimator__max_depth=9, estimator__max_features=sqrt, estimator__max_leaf_nodes=None, estimator__min_samples_leaf=3, estimator__splitter=random \n",
      "[CV]  estimator__max_depth=9, estimator__max_features=sqrt, estimator__max_leaf_nodes=None, estimator__min_samples_leaf=3, estimator__splitter=random, score=-0.018, total=   0.1s\n",
      "[CV] estimator__max_depth=9, estimator__max_features=sqrt, estimator__max_leaf_nodes=None, estimator__min_samples_leaf=3, estimator__splitter=random \n",
      "[CV]  estimator__max_depth=9, estimator__max_features=sqrt, estimator__max_leaf_nodes=None, estimator__min_samples_leaf=3, estimator__splitter=random, score=-0.017, total=   0.1s\n",
      "[CV] estimator__max_depth=9, estimator__max_features=sqrt, estimator__max_leaf_nodes=None, estimator__min_samples_leaf=3, estimator__splitter=random \n"
     ]
    },
    {
     "name": "stderr",
     "output_type": "stream",
     "text": [
      "/home/abhinav/anaconda3/lib/python3.8/site-packages/sklearn/multiclass.py:76: UserWarning: Label not 10 is present in all training examples.\n",
      "  warnings.warn(\"Label %s is present in all training examples.\" %\n"
     ]
    },
    {
     "name": "stdout",
     "output_type": "stream",
     "text": [
      "[CV]  estimator__max_depth=9, estimator__max_features=sqrt, estimator__max_leaf_nodes=None, estimator__min_samples_leaf=3, estimator__splitter=random, score=-0.017, total=   0.1s\n",
      "[CV] estimator__max_depth=9, estimator__max_features=sqrt, estimator__max_leaf_nodes=None, estimator__min_samples_leaf=5, estimator__splitter=best \n",
      "[CV]  estimator__max_depth=9, estimator__max_features=sqrt, estimator__max_leaf_nodes=None, estimator__min_samples_leaf=5, estimator__splitter=best, score=-0.018, total=   0.1s\n",
      "[CV] estimator__max_depth=9, estimator__max_features=sqrt, estimator__max_leaf_nodes=None, estimator__min_samples_leaf=5, estimator__splitter=best \n",
      "[CV]  estimator__max_depth=9, estimator__max_features=sqrt, estimator__max_leaf_nodes=None, estimator__min_samples_leaf=5, estimator__splitter=best, score=-0.017, total=   0.1s\n",
      "[CV] estimator__max_depth=9, estimator__max_features=sqrt, estimator__max_leaf_nodes=None, estimator__min_samples_leaf=5, estimator__splitter=best \n"
     ]
    },
    {
     "name": "stderr",
     "output_type": "stream",
     "text": [
      "/home/abhinav/anaconda3/lib/python3.8/site-packages/sklearn/multiclass.py:76: UserWarning: Label not 10 is present in all training examples.\n",
      "  warnings.warn(\"Label %s is present in all training examples.\" %\n"
     ]
    },
    {
     "name": "stdout",
     "output_type": "stream",
     "text": [
      "[CV]  estimator__max_depth=9, estimator__max_features=sqrt, estimator__max_leaf_nodes=None, estimator__min_samples_leaf=5, estimator__splitter=best, score=-0.018, total=   0.1s\n",
      "[CV] estimator__max_depth=9, estimator__max_features=sqrt, estimator__max_leaf_nodes=None, estimator__min_samples_leaf=5, estimator__splitter=random \n",
      "[CV]  estimator__max_depth=9, estimator__max_features=sqrt, estimator__max_leaf_nodes=None, estimator__min_samples_leaf=5, estimator__splitter=random, score=-0.018, total=   0.1s\n",
      "[CV] estimator__max_depth=9, estimator__max_features=sqrt, estimator__max_leaf_nodes=None, estimator__min_samples_leaf=5, estimator__splitter=random \n",
      "[CV]  estimator__max_depth=9, estimator__max_features=sqrt, estimator__max_leaf_nodes=None, estimator__min_samples_leaf=5, estimator__splitter=random, score=-0.018, total=   0.1s\n",
      "[CV] estimator__max_depth=9, estimator__max_features=sqrt, estimator__max_leaf_nodes=None, estimator__min_samples_leaf=5, estimator__splitter=random \n"
     ]
    },
    {
     "name": "stderr",
     "output_type": "stream",
     "text": [
      "/home/abhinav/anaconda3/lib/python3.8/site-packages/sklearn/multiclass.py:76: UserWarning: Label not 10 is present in all training examples.\n",
      "  warnings.warn(\"Label %s is present in all training examples.\" %\n"
     ]
    },
    {
     "name": "stdout",
     "output_type": "stream",
     "text": [
      "[CV]  estimator__max_depth=9, estimator__max_features=sqrt, estimator__max_leaf_nodes=None, estimator__min_samples_leaf=5, estimator__splitter=random, score=-0.018, total=   0.1s\n",
      "[CV] estimator__max_depth=9, estimator__max_features=sqrt, estimator__max_leaf_nodes=10, estimator__min_samples_leaf=1, estimator__splitter=best \n",
      "[CV]  estimator__max_depth=9, estimator__max_features=sqrt, estimator__max_leaf_nodes=10, estimator__min_samples_leaf=1, estimator__splitter=best, score=-0.017, total=   0.1s\n",
      "[CV] estimator__max_depth=9, estimator__max_features=sqrt, estimator__max_leaf_nodes=10, estimator__min_samples_leaf=1, estimator__splitter=best \n",
      "[CV]  estimator__max_depth=9, estimator__max_features=sqrt, estimator__max_leaf_nodes=10, estimator__min_samples_leaf=1, estimator__splitter=best, score=-0.015, total=   0.1s\n",
      "[CV] estimator__max_depth=9, estimator__max_features=sqrt, estimator__max_leaf_nodes=10, estimator__min_samples_leaf=1, estimator__splitter=best \n"
     ]
    },
    {
     "name": "stderr",
     "output_type": "stream",
     "text": [
      "/home/abhinav/anaconda3/lib/python3.8/site-packages/sklearn/multiclass.py:76: UserWarning: Label not 10 is present in all training examples.\n",
      "  warnings.warn(\"Label %s is present in all training examples.\" %\n"
     ]
    },
    {
     "name": "stdout",
     "output_type": "stream",
     "text": [
      "[CV]  estimator__max_depth=9, estimator__max_features=sqrt, estimator__max_leaf_nodes=10, estimator__min_samples_leaf=1, estimator__splitter=best, score=-0.016, total=   0.1s\n",
      "[CV] estimator__max_depth=9, estimator__max_features=sqrt, estimator__max_leaf_nodes=10, estimator__min_samples_leaf=1, estimator__splitter=random \n",
      "[CV]  estimator__max_depth=9, estimator__max_features=sqrt, estimator__max_leaf_nodes=10, estimator__min_samples_leaf=1, estimator__splitter=random, score=-0.019, total=   0.1s\n",
      "[CV] estimator__max_depth=9, estimator__max_features=sqrt, estimator__max_leaf_nodes=10, estimator__min_samples_leaf=1, estimator__splitter=random \n",
      "[CV]  estimator__max_depth=9, estimator__max_features=sqrt, estimator__max_leaf_nodes=10, estimator__min_samples_leaf=1, estimator__splitter=random, score=-0.016, total=   0.1s\n",
      "[CV] estimator__max_depth=9, estimator__max_features=sqrt, estimator__max_leaf_nodes=10, estimator__min_samples_leaf=1, estimator__splitter=random \n"
     ]
    },
    {
     "name": "stderr",
     "output_type": "stream",
     "text": [
      "/home/abhinav/anaconda3/lib/python3.8/site-packages/sklearn/multiclass.py:76: UserWarning: Label not 10 is present in all training examples.\n",
      "  warnings.warn(\"Label %s is present in all training examples.\" %\n"
     ]
    },
    {
     "name": "stdout",
     "output_type": "stream",
     "text": [
      "[CV]  estimator__max_depth=9, estimator__max_features=sqrt, estimator__max_leaf_nodes=10, estimator__min_samples_leaf=1, estimator__splitter=random, score=-0.016, total=   0.1s\n",
      "[CV] estimator__max_depth=9, estimator__max_features=sqrt, estimator__max_leaf_nodes=10, estimator__min_samples_leaf=3, estimator__splitter=best \n",
      "[CV]  estimator__max_depth=9, estimator__max_features=sqrt, estimator__max_leaf_nodes=10, estimator__min_samples_leaf=3, estimator__splitter=best, score=-0.017, total=   0.1s\n",
      "[CV] estimator__max_depth=9, estimator__max_features=sqrt, estimator__max_leaf_nodes=10, estimator__min_samples_leaf=3, estimator__splitter=best \n",
      "[CV]  estimator__max_depth=9, estimator__max_features=sqrt, estimator__max_leaf_nodes=10, estimator__min_samples_leaf=3, estimator__splitter=best, score=-0.015, total=   0.1s\n",
      "[CV] estimator__max_depth=9, estimator__max_features=sqrt, estimator__max_leaf_nodes=10, estimator__min_samples_leaf=3, estimator__splitter=best \n"
     ]
    },
    {
     "name": "stderr",
     "output_type": "stream",
     "text": [
      "/home/abhinav/anaconda3/lib/python3.8/site-packages/sklearn/multiclass.py:76: UserWarning: Label not 10 is present in all training examples.\n",
      "  warnings.warn(\"Label %s is present in all training examples.\" %\n"
     ]
    },
    {
     "name": "stdout",
     "output_type": "stream",
     "text": [
      "[CV]  estimator__max_depth=9, estimator__max_features=sqrt, estimator__max_leaf_nodes=10, estimator__min_samples_leaf=3, estimator__splitter=best, score=-0.017, total=   0.1s\n",
      "[CV] estimator__max_depth=9, estimator__max_features=sqrt, estimator__max_leaf_nodes=10, estimator__min_samples_leaf=3, estimator__splitter=random \n",
      "[CV]  estimator__max_depth=9, estimator__max_features=sqrt, estimator__max_leaf_nodes=10, estimator__min_samples_leaf=3, estimator__splitter=random, score=-0.017, total=   0.1s\n",
      "[CV] estimator__max_depth=9, estimator__max_features=sqrt, estimator__max_leaf_nodes=10, estimator__min_samples_leaf=3, estimator__splitter=random \n",
      "[CV]  estimator__max_depth=9, estimator__max_features=sqrt, estimator__max_leaf_nodes=10, estimator__min_samples_leaf=3, estimator__splitter=random, score=-0.017, total=   0.1s\n",
      "[CV] estimator__max_depth=9, estimator__max_features=sqrt, estimator__max_leaf_nodes=10, estimator__min_samples_leaf=3, estimator__splitter=random \n"
     ]
    },
    {
     "name": "stderr",
     "output_type": "stream",
     "text": [
      "/home/abhinav/anaconda3/lib/python3.8/site-packages/sklearn/multiclass.py:76: UserWarning: Label not 10 is present in all training examples.\n",
      "  warnings.warn(\"Label %s is present in all training examples.\" %\n"
     ]
    },
    {
     "name": "stdout",
     "output_type": "stream",
     "text": [
      "[CV]  estimator__max_depth=9, estimator__max_features=sqrt, estimator__max_leaf_nodes=10, estimator__min_samples_leaf=3, estimator__splitter=random, score=-0.018, total=   0.1s\n",
      "[CV] estimator__max_depth=9, estimator__max_features=sqrt, estimator__max_leaf_nodes=10, estimator__min_samples_leaf=5, estimator__splitter=best \n",
      "[CV]  estimator__max_depth=9, estimator__max_features=sqrt, estimator__max_leaf_nodes=10, estimator__min_samples_leaf=5, estimator__splitter=best, score=-0.017, total=   0.1s\n",
      "[CV] estimator__max_depth=9, estimator__max_features=sqrt, estimator__max_leaf_nodes=10, estimator__min_samples_leaf=5, estimator__splitter=best \n",
      "[CV]  estimator__max_depth=9, estimator__max_features=sqrt, estimator__max_leaf_nodes=10, estimator__min_samples_leaf=5, estimator__splitter=best, score=-0.018, total=   0.1s\n",
      "[CV] estimator__max_depth=9, estimator__max_features=sqrt, estimator__max_leaf_nodes=10, estimator__min_samples_leaf=5, estimator__splitter=best \n"
     ]
    },
    {
     "name": "stderr",
     "output_type": "stream",
     "text": [
      "/home/abhinav/anaconda3/lib/python3.8/site-packages/sklearn/multiclass.py:76: UserWarning: Label not 10 is present in all training examples.\n",
      "  warnings.warn(\"Label %s is present in all training examples.\" %\n"
     ]
    },
    {
     "name": "stdout",
     "output_type": "stream",
     "text": [
      "[CV]  estimator__max_depth=9, estimator__max_features=sqrt, estimator__max_leaf_nodes=10, estimator__min_samples_leaf=5, estimator__splitter=best, score=-0.017, total=   0.1s\n",
      "[CV] estimator__max_depth=9, estimator__max_features=sqrt, estimator__max_leaf_nodes=10, estimator__min_samples_leaf=5, estimator__splitter=random \n",
      "[CV]  estimator__max_depth=9, estimator__max_features=sqrt, estimator__max_leaf_nodes=10, estimator__min_samples_leaf=5, estimator__splitter=random, score=-0.018, total=   0.1s\n",
      "[CV] estimator__max_depth=9, estimator__max_features=sqrt, estimator__max_leaf_nodes=10, estimator__min_samples_leaf=5, estimator__splitter=random \n"
     ]
    },
    {
     "name": "stderr",
     "output_type": "stream",
     "text": [
      "/home/abhinav/anaconda3/lib/python3.8/site-packages/sklearn/multiclass.py:76: UserWarning: Label not 10 is present in all training examples.\n",
      "  warnings.warn(\"Label %s is present in all training examples.\" %\n"
     ]
    },
    {
     "name": "stdout",
     "output_type": "stream",
     "text": [
      "[CV]  estimator__max_depth=9, estimator__max_features=sqrt, estimator__max_leaf_nodes=10, estimator__min_samples_leaf=5, estimator__splitter=random, score=-0.018, total=   0.1s\n",
      "[CV] estimator__max_depth=9, estimator__max_features=sqrt, estimator__max_leaf_nodes=10, estimator__min_samples_leaf=5, estimator__splitter=random \n",
      "[CV]  estimator__max_depth=9, estimator__max_features=sqrt, estimator__max_leaf_nodes=10, estimator__min_samples_leaf=5, estimator__splitter=random, score=-0.018, total=   0.1s\n",
      "[CV] estimator__max_depth=9, estimator__max_features=sqrt, estimator__max_leaf_nodes=20, estimator__min_samples_leaf=1, estimator__splitter=best \n",
      "[CV]  estimator__max_depth=9, estimator__max_features=sqrt, estimator__max_leaf_nodes=20, estimator__min_samples_leaf=1, estimator__splitter=best, score=-0.017, total=   0.1s\n",
      "[CV] estimator__max_depth=9, estimator__max_features=sqrt, estimator__max_leaf_nodes=20, estimator__min_samples_leaf=1, estimator__splitter=best \n"
     ]
    },
    {
     "name": "stderr",
     "output_type": "stream",
     "text": [
      "/home/abhinav/anaconda3/lib/python3.8/site-packages/sklearn/multiclass.py:76: UserWarning: Label not 10 is present in all training examples.\n",
      "  warnings.warn(\"Label %s is present in all training examples.\" %\n"
     ]
    },
    {
     "name": "stdout",
     "output_type": "stream",
     "text": [
      "[CV]  estimator__max_depth=9, estimator__max_features=sqrt, estimator__max_leaf_nodes=20, estimator__min_samples_leaf=1, estimator__splitter=best, score=-0.018, total=   0.1s\n",
      "[CV] estimator__max_depth=9, estimator__max_features=sqrt, estimator__max_leaf_nodes=20, estimator__min_samples_leaf=1, estimator__splitter=best \n",
      "[CV]  estimator__max_depth=9, estimator__max_features=sqrt, estimator__max_leaf_nodes=20, estimator__min_samples_leaf=1, estimator__splitter=best, score=-0.016, total=   0.1s\n",
      "[CV] estimator__max_depth=9, estimator__max_features=sqrt, estimator__max_leaf_nodes=20, estimator__min_samples_leaf=1, estimator__splitter=random \n",
      "[CV]  estimator__max_depth=9, estimator__max_features=sqrt, estimator__max_leaf_nodes=20, estimator__min_samples_leaf=1, estimator__splitter=random, score=-0.017, total=   0.1s\n",
      "[CV] estimator__max_depth=9, estimator__max_features=sqrt, estimator__max_leaf_nodes=20, estimator__min_samples_leaf=1, estimator__splitter=random \n"
     ]
    },
    {
     "name": "stderr",
     "output_type": "stream",
     "text": [
      "/home/abhinav/anaconda3/lib/python3.8/site-packages/sklearn/multiclass.py:76: UserWarning: Label not 10 is present in all training examples.\n",
      "  warnings.warn(\"Label %s is present in all training examples.\" %\n"
     ]
    },
    {
     "name": "stdout",
     "output_type": "stream",
     "text": [
      "[CV]  estimator__max_depth=9, estimator__max_features=sqrt, estimator__max_leaf_nodes=20, estimator__min_samples_leaf=1, estimator__splitter=random, score=-0.017, total=   0.1s\n",
      "[CV] estimator__max_depth=9, estimator__max_features=sqrt, estimator__max_leaf_nodes=20, estimator__min_samples_leaf=1, estimator__splitter=random \n",
      "[CV]  estimator__max_depth=9, estimator__max_features=sqrt, estimator__max_leaf_nodes=20, estimator__min_samples_leaf=1, estimator__splitter=random, score=-0.016, total=   0.1s\n",
      "[CV] estimator__max_depth=9, estimator__max_features=sqrt, estimator__max_leaf_nodes=20, estimator__min_samples_leaf=3, estimator__splitter=best \n",
      "[CV]  estimator__max_depth=9, estimator__max_features=sqrt, estimator__max_leaf_nodes=20, estimator__min_samples_leaf=3, estimator__splitter=best, score=-0.017, total=   0.1s\n",
      "[CV] estimator__max_depth=9, estimator__max_features=sqrt, estimator__max_leaf_nodes=20, estimator__min_samples_leaf=3, estimator__splitter=best \n"
     ]
    },
    {
     "name": "stderr",
     "output_type": "stream",
     "text": [
      "/home/abhinav/anaconda3/lib/python3.8/site-packages/sklearn/multiclass.py:76: UserWarning: Label not 10 is present in all training examples.\n",
      "  warnings.warn(\"Label %s is present in all training examples.\" %\n"
     ]
    },
    {
     "name": "stdout",
     "output_type": "stream",
     "text": [
      "[CV]  estimator__max_depth=9, estimator__max_features=sqrt, estimator__max_leaf_nodes=20, estimator__min_samples_leaf=3, estimator__splitter=best, score=-0.016, total=   0.1s\n",
      "[CV] estimator__max_depth=9, estimator__max_features=sqrt, estimator__max_leaf_nodes=20, estimator__min_samples_leaf=3, estimator__splitter=best \n",
      "[CV]  estimator__max_depth=9, estimator__max_features=sqrt, estimator__max_leaf_nodes=20, estimator__min_samples_leaf=3, estimator__splitter=best, score=-0.018, total=   0.1s\n",
      "[CV] estimator__max_depth=9, estimator__max_features=sqrt, estimator__max_leaf_nodes=20, estimator__min_samples_leaf=3, estimator__splitter=random \n",
      "[CV]  estimator__max_depth=9, estimator__max_features=sqrt, estimator__max_leaf_nodes=20, estimator__min_samples_leaf=3, estimator__splitter=random, score=-0.018, total=   0.1s\n",
      "[CV] estimator__max_depth=9, estimator__max_features=sqrt, estimator__max_leaf_nodes=20, estimator__min_samples_leaf=3, estimator__splitter=random \n"
     ]
    },
    {
     "name": "stderr",
     "output_type": "stream",
     "text": [
      "/home/abhinav/anaconda3/lib/python3.8/site-packages/sklearn/multiclass.py:76: UserWarning: Label not 10 is present in all training examples.\n",
      "  warnings.warn(\"Label %s is present in all training examples.\" %\n"
     ]
    },
    {
     "name": "stdout",
     "output_type": "stream",
     "text": [
      "[CV]  estimator__max_depth=9, estimator__max_features=sqrt, estimator__max_leaf_nodes=20, estimator__min_samples_leaf=3, estimator__splitter=random, score=-0.018, total=   0.1s\n",
      "[CV] estimator__max_depth=9, estimator__max_features=sqrt, estimator__max_leaf_nodes=20, estimator__min_samples_leaf=3, estimator__splitter=random \n",
      "[CV]  estimator__max_depth=9, estimator__max_features=sqrt, estimator__max_leaf_nodes=20, estimator__min_samples_leaf=3, estimator__splitter=random, score=-0.018, total=   0.1s\n",
      "[CV] estimator__max_depth=9, estimator__max_features=sqrt, estimator__max_leaf_nodes=20, estimator__min_samples_leaf=5, estimator__splitter=best \n",
      "[CV]  estimator__max_depth=9, estimator__max_features=sqrt, estimator__max_leaf_nodes=20, estimator__min_samples_leaf=5, estimator__splitter=best, score=-0.018, total=   0.1s\n",
      "[CV] estimator__max_depth=9, estimator__max_features=sqrt, estimator__max_leaf_nodes=20, estimator__min_samples_leaf=5, estimator__splitter=best \n"
     ]
    },
    {
     "name": "stderr",
     "output_type": "stream",
     "text": [
      "/home/abhinav/anaconda3/lib/python3.8/site-packages/sklearn/multiclass.py:76: UserWarning: Label not 10 is present in all training examples.\n",
      "  warnings.warn(\"Label %s is present in all training examples.\" %\n"
     ]
    },
    {
     "name": "stdout",
     "output_type": "stream",
     "text": [
      "[CV]  estimator__max_depth=9, estimator__max_features=sqrt, estimator__max_leaf_nodes=20, estimator__min_samples_leaf=5, estimator__splitter=best, score=-0.018, total=   0.1s\n",
      "[CV] estimator__max_depth=9, estimator__max_features=sqrt, estimator__max_leaf_nodes=20, estimator__min_samples_leaf=5, estimator__splitter=best \n",
      "[CV]  estimator__max_depth=9, estimator__max_features=sqrt, estimator__max_leaf_nodes=20, estimator__min_samples_leaf=5, estimator__splitter=best, score=-0.018, total=   0.1s\n",
      "[CV] estimator__max_depth=9, estimator__max_features=sqrt, estimator__max_leaf_nodes=20, estimator__min_samples_leaf=5, estimator__splitter=random \n",
      "[CV]  estimator__max_depth=9, estimator__max_features=sqrt, estimator__max_leaf_nodes=20, estimator__min_samples_leaf=5, estimator__splitter=random, score=-0.018, total=   0.1s\n",
      "[CV] estimator__max_depth=9, estimator__max_features=sqrt, estimator__max_leaf_nodes=20, estimator__min_samples_leaf=5, estimator__splitter=random \n"
     ]
    },
    {
     "name": "stderr",
     "output_type": "stream",
     "text": [
      "/home/abhinav/anaconda3/lib/python3.8/site-packages/sklearn/multiclass.py:76: UserWarning: Label not 10 is present in all training examples.\n",
      "  warnings.warn(\"Label %s is present in all training examples.\" %\n"
     ]
    },
    {
     "name": "stdout",
     "output_type": "stream",
     "text": [
      "[CV]  estimator__max_depth=9, estimator__max_features=sqrt, estimator__max_leaf_nodes=20, estimator__min_samples_leaf=5, estimator__splitter=random, score=-0.018, total=   0.1s\n",
      "[CV] estimator__max_depth=9, estimator__max_features=sqrt, estimator__max_leaf_nodes=20, estimator__min_samples_leaf=5, estimator__splitter=random \n",
      "[CV]  estimator__max_depth=9, estimator__max_features=sqrt, estimator__max_leaf_nodes=20, estimator__min_samples_leaf=5, estimator__splitter=random, score=-0.018, total=   0.1s\n",
      "[CV] estimator__max_depth=9, estimator__max_features=sqrt, estimator__max_leaf_nodes=30, estimator__min_samples_leaf=1, estimator__splitter=best \n",
      "[CV]  estimator__max_depth=9, estimator__max_features=sqrt, estimator__max_leaf_nodes=30, estimator__min_samples_leaf=1, estimator__splitter=best, score=-0.016, total=   0.1s\n",
      "[CV] estimator__max_depth=9, estimator__max_features=sqrt, estimator__max_leaf_nodes=30, estimator__min_samples_leaf=1, estimator__splitter=best \n"
     ]
    },
    {
     "name": "stderr",
     "output_type": "stream",
     "text": [
      "/home/abhinav/anaconda3/lib/python3.8/site-packages/sklearn/multiclass.py:76: UserWarning: Label not 10 is present in all training examples.\n",
      "  warnings.warn(\"Label %s is present in all training examples.\" %\n"
     ]
    },
    {
     "name": "stdout",
     "output_type": "stream",
     "text": [
      "[CV]  estimator__max_depth=9, estimator__max_features=sqrt, estimator__max_leaf_nodes=30, estimator__min_samples_leaf=1, estimator__splitter=best, score=-0.016, total=   0.1s\n",
      "[CV] estimator__max_depth=9, estimator__max_features=sqrt, estimator__max_leaf_nodes=30, estimator__min_samples_leaf=1, estimator__splitter=best \n",
      "[CV]  estimator__max_depth=9, estimator__max_features=sqrt, estimator__max_leaf_nodes=30, estimator__min_samples_leaf=1, estimator__splitter=best, score=-0.017, total=   0.1s\n",
      "[CV] estimator__max_depth=9, estimator__max_features=sqrt, estimator__max_leaf_nodes=30, estimator__min_samples_leaf=1, estimator__splitter=random \n",
      "[CV]  estimator__max_depth=9, estimator__max_features=sqrt, estimator__max_leaf_nodes=30, estimator__min_samples_leaf=1, estimator__splitter=random, score=-0.016, total=   0.1s\n",
      "[CV] estimator__max_depth=9, estimator__max_features=sqrt, estimator__max_leaf_nodes=30, estimator__min_samples_leaf=1, estimator__splitter=random \n"
     ]
    },
    {
     "name": "stderr",
     "output_type": "stream",
     "text": [
      "/home/abhinav/anaconda3/lib/python3.8/site-packages/sklearn/multiclass.py:76: UserWarning: Label not 10 is present in all training examples.\n",
      "  warnings.warn(\"Label %s is present in all training examples.\" %\n"
     ]
    },
    {
     "name": "stdout",
     "output_type": "stream",
     "text": [
      "[CV]  estimator__max_depth=9, estimator__max_features=sqrt, estimator__max_leaf_nodes=30, estimator__min_samples_leaf=1, estimator__splitter=random, score=-0.016, total=   0.1s\n",
      "[CV] estimator__max_depth=9, estimator__max_features=sqrt, estimator__max_leaf_nodes=30, estimator__min_samples_leaf=1, estimator__splitter=random \n",
      "[CV]  estimator__max_depth=9, estimator__max_features=sqrt, estimator__max_leaf_nodes=30, estimator__min_samples_leaf=1, estimator__splitter=random, score=-0.017, total=   0.1s\n",
      "[CV] estimator__max_depth=9, estimator__max_features=sqrt, estimator__max_leaf_nodes=30, estimator__min_samples_leaf=3, estimator__splitter=best \n",
      "[CV]  estimator__max_depth=9, estimator__max_features=sqrt, estimator__max_leaf_nodes=30, estimator__min_samples_leaf=3, estimator__splitter=best, score=-0.017, total=   0.1s\n",
      "[CV] estimator__max_depth=9, estimator__max_features=sqrt, estimator__max_leaf_nodes=30, estimator__min_samples_leaf=3, estimator__splitter=best \n"
     ]
    },
    {
     "name": "stderr",
     "output_type": "stream",
     "text": [
      "/home/abhinav/anaconda3/lib/python3.8/site-packages/sklearn/multiclass.py:76: UserWarning: Label not 10 is present in all training examples.\n",
      "  warnings.warn(\"Label %s is present in all training examples.\" %\n"
     ]
    },
    {
     "name": "stdout",
     "output_type": "stream",
     "text": [
      "[CV]  estimator__max_depth=9, estimator__max_features=sqrt, estimator__max_leaf_nodes=30, estimator__min_samples_leaf=3, estimator__splitter=best, score=-0.017, total=   0.1s\n",
      "[CV] estimator__max_depth=9, estimator__max_features=sqrt, estimator__max_leaf_nodes=30, estimator__min_samples_leaf=3, estimator__splitter=best \n",
      "[CV]  estimator__max_depth=9, estimator__max_features=sqrt, estimator__max_leaf_nodes=30, estimator__min_samples_leaf=3, estimator__splitter=best, score=-0.017, total=   0.1s\n",
      "[CV] estimator__max_depth=9, estimator__max_features=sqrt, estimator__max_leaf_nodes=30, estimator__min_samples_leaf=3, estimator__splitter=random \n",
      "[CV]  estimator__max_depth=9, estimator__max_features=sqrt, estimator__max_leaf_nodes=30, estimator__min_samples_leaf=3, estimator__splitter=random, score=-0.018, total=   0.1s\n",
      "[CV] estimator__max_depth=9, estimator__max_features=sqrt, estimator__max_leaf_nodes=30, estimator__min_samples_leaf=3, estimator__splitter=random \n"
     ]
    },
    {
     "name": "stderr",
     "output_type": "stream",
     "text": [
      "/home/abhinav/anaconda3/lib/python3.8/site-packages/sklearn/multiclass.py:76: UserWarning: Label not 10 is present in all training examples.\n",
      "  warnings.warn(\"Label %s is present in all training examples.\" %\n"
     ]
    },
    {
     "name": "stdout",
     "output_type": "stream",
     "text": [
      "[CV]  estimator__max_depth=9, estimator__max_features=sqrt, estimator__max_leaf_nodes=30, estimator__min_samples_leaf=3, estimator__splitter=random, score=-0.018, total=   0.1s\n",
      "[CV] estimator__max_depth=9, estimator__max_features=sqrt, estimator__max_leaf_nodes=30, estimator__min_samples_leaf=3, estimator__splitter=random \n",
      "[CV]  estimator__max_depth=9, estimator__max_features=sqrt, estimator__max_leaf_nodes=30, estimator__min_samples_leaf=3, estimator__splitter=random, score=-0.017, total=   0.1s\n",
      "[CV] estimator__max_depth=9, estimator__max_features=sqrt, estimator__max_leaf_nodes=30, estimator__min_samples_leaf=5, estimator__splitter=best \n",
      "[CV]  estimator__max_depth=9, estimator__max_features=sqrt, estimator__max_leaf_nodes=30, estimator__min_samples_leaf=5, estimator__splitter=best, score=-0.018, total=   0.1s\n",
      "[CV] estimator__max_depth=9, estimator__max_features=sqrt, estimator__max_leaf_nodes=30, estimator__min_samples_leaf=5, estimator__splitter=best \n"
     ]
    },
    {
     "name": "stderr",
     "output_type": "stream",
     "text": [
      "/home/abhinav/anaconda3/lib/python3.8/site-packages/sklearn/multiclass.py:76: UserWarning: Label not 10 is present in all training examples.\n",
      "  warnings.warn(\"Label %s is present in all training examples.\" %\n"
     ]
    },
    {
     "name": "stdout",
     "output_type": "stream",
     "text": [
      "[CV]  estimator__max_depth=9, estimator__max_features=sqrt, estimator__max_leaf_nodes=30, estimator__min_samples_leaf=5, estimator__splitter=best, score=-0.018, total=   0.1s\n",
      "[CV] estimator__max_depth=9, estimator__max_features=sqrt, estimator__max_leaf_nodes=30, estimator__min_samples_leaf=5, estimator__splitter=best \n",
      "[CV]  estimator__max_depth=9, estimator__max_features=sqrt, estimator__max_leaf_nodes=30, estimator__min_samples_leaf=5, estimator__splitter=best, score=-0.018, total=   0.1s\n",
      "[CV] estimator__max_depth=9, estimator__max_features=sqrt, estimator__max_leaf_nodes=30, estimator__min_samples_leaf=5, estimator__splitter=random \n",
      "[CV]  estimator__max_depth=9, estimator__max_features=sqrt, estimator__max_leaf_nodes=30, estimator__min_samples_leaf=5, estimator__splitter=random, score=-0.018, total=   0.1s\n",
      "[CV] estimator__max_depth=9, estimator__max_features=sqrt, estimator__max_leaf_nodes=30, estimator__min_samples_leaf=5, estimator__splitter=random \n"
     ]
    },
    {
     "name": "stderr",
     "output_type": "stream",
     "text": [
      "/home/abhinav/anaconda3/lib/python3.8/site-packages/sklearn/multiclass.py:76: UserWarning: Label not 10 is present in all training examples.\n",
      "  warnings.warn(\"Label %s is present in all training examples.\" %\n"
     ]
    },
    {
     "name": "stdout",
     "output_type": "stream",
     "text": [
      "[CV]  estimator__max_depth=9, estimator__max_features=sqrt, estimator__max_leaf_nodes=30, estimator__min_samples_leaf=5, estimator__splitter=random, score=-0.018, total=   0.1s\n",
      "[CV] estimator__max_depth=9, estimator__max_features=sqrt, estimator__max_leaf_nodes=30, estimator__min_samples_leaf=5, estimator__splitter=random \n",
      "[CV]  estimator__max_depth=9, estimator__max_features=sqrt, estimator__max_leaf_nodes=30, estimator__min_samples_leaf=5, estimator__splitter=random, score=-0.018, total=   0.1s\n",
      "[CV] estimator__max_depth=9, estimator__max_features=sqrt, estimator__max_leaf_nodes=40, estimator__min_samples_leaf=1, estimator__splitter=best \n",
      "[CV]  estimator__max_depth=9, estimator__max_features=sqrt, estimator__max_leaf_nodes=40, estimator__min_samples_leaf=1, estimator__splitter=best, score=-0.016, total=   0.1s\n",
      "[CV] estimator__max_depth=9, estimator__max_features=sqrt, estimator__max_leaf_nodes=40, estimator__min_samples_leaf=1, estimator__splitter=best \n"
     ]
    },
    {
     "name": "stderr",
     "output_type": "stream",
     "text": [
      "/home/abhinav/anaconda3/lib/python3.8/site-packages/sklearn/multiclass.py:76: UserWarning: Label not 10 is present in all training examples.\n",
      "  warnings.warn(\"Label %s is present in all training examples.\" %\n"
     ]
    },
    {
     "name": "stdout",
     "output_type": "stream",
     "text": [
      "[CV]  estimator__max_depth=9, estimator__max_features=sqrt, estimator__max_leaf_nodes=40, estimator__min_samples_leaf=1, estimator__splitter=best, score=-0.017, total=   0.1s\n",
      "[CV] estimator__max_depth=9, estimator__max_features=sqrt, estimator__max_leaf_nodes=40, estimator__min_samples_leaf=1, estimator__splitter=best \n",
      "[CV]  estimator__max_depth=9, estimator__max_features=sqrt, estimator__max_leaf_nodes=40, estimator__min_samples_leaf=1, estimator__splitter=best, score=-0.017, total=   0.1s\n",
      "[CV] estimator__max_depth=9, estimator__max_features=sqrt, estimator__max_leaf_nodes=40, estimator__min_samples_leaf=1, estimator__splitter=random \n",
      "[CV]  estimator__max_depth=9, estimator__max_features=sqrt, estimator__max_leaf_nodes=40, estimator__min_samples_leaf=1, estimator__splitter=random, score=-0.018, total=   0.1s\n",
      "[CV] estimator__max_depth=9, estimator__max_features=sqrt, estimator__max_leaf_nodes=40, estimator__min_samples_leaf=1, estimator__splitter=random \n"
     ]
    },
    {
     "name": "stderr",
     "output_type": "stream",
     "text": [
      "/home/abhinav/anaconda3/lib/python3.8/site-packages/sklearn/multiclass.py:76: UserWarning: Label not 10 is present in all training examples.\n",
      "  warnings.warn(\"Label %s is present in all training examples.\" %\n"
     ]
    },
    {
     "name": "stdout",
     "output_type": "stream",
     "text": [
      "[CV]  estimator__max_depth=9, estimator__max_features=sqrt, estimator__max_leaf_nodes=40, estimator__min_samples_leaf=1, estimator__splitter=random, score=-0.017, total=   0.1s\n",
      "[CV] estimator__max_depth=9, estimator__max_features=sqrt, estimator__max_leaf_nodes=40, estimator__min_samples_leaf=1, estimator__splitter=random \n",
      "[CV]  estimator__max_depth=9, estimator__max_features=sqrt, estimator__max_leaf_nodes=40, estimator__min_samples_leaf=1, estimator__splitter=random, score=-0.017, total=   0.1s\n",
      "[CV] estimator__max_depth=9, estimator__max_features=sqrt, estimator__max_leaf_nodes=40, estimator__min_samples_leaf=3, estimator__splitter=best \n",
      "[CV]  estimator__max_depth=9, estimator__max_features=sqrt, estimator__max_leaf_nodes=40, estimator__min_samples_leaf=3, estimator__splitter=best, score=-0.018, total=   0.1s\n",
      "[CV] estimator__max_depth=9, estimator__max_features=sqrt, estimator__max_leaf_nodes=40, estimator__min_samples_leaf=3, estimator__splitter=best \n"
     ]
    },
    {
     "name": "stderr",
     "output_type": "stream",
     "text": [
      "/home/abhinav/anaconda3/lib/python3.8/site-packages/sklearn/multiclass.py:76: UserWarning: Label not 10 is present in all training examples.\n",
      "  warnings.warn(\"Label %s is present in all training examples.\" %\n"
     ]
    },
    {
     "name": "stdout",
     "output_type": "stream",
     "text": [
      "[CV]  estimator__max_depth=9, estimator__max_features=sqrt, estimator__max_leaf_nodes=40, estimator__min_samples_leaf=3, estimator__splitter=best, score=-0.016, total=   0.1s\n",
      "[CV] estimator__max_depth=9, estimator__max_features=sqrt, estimator__max_leaf_nodes=40, estimator__min_samples_leaf=3, estimator__splitter=best \n",
      "[CV]  estimator__max_depth=9, estimator__max_features=sqrt, estimator__max_leaf_nodes=40, estimator__min_samples_leaf=3, estimator__splitter=best, score=-0.018, total=   0.1s\n",
      "[CV] estimator__max_depth=9, estimator__max_features=sqrt, estimator__max_leaf_nodes=40, estimator__min_samples_leaf=3, estimator__splitter=random \n",
      "[CV]  estimator__max_depth=9, estimator__max_features=sqrt, estimator__max_leaf_nodes=40, estimator__min_samples_leaf=3, estimator__splitter=random, score=-0.017, total=   0.1s\n",
      "[CV] estimator__max_depth=9, estimator__max_features=sqrt, estimator__max_leaf_nodes=40, estimator__min_samples_leaf=3, estimator__splitter=random \n"
     ]
    },
    {
     "name": "stderr",
     "output_type": "stream",
     "text": [
      "/home/abhinav/anaconda3/lib/python3.8/site-packages/sklearn/multiclass.py:76: UserWarning: Label not 10 is present in all training examples.\n",
      "  warnings.warn(\"Label %s is present in all training examples.\" %\n"
     ]
    },
    {
     "name": "stdout",
     "output_type": "stream",
     "text": [
      "[CV]  estimator__max_depth=9, estimator__max_features=sqrt, estimator__max_leaf_nodes=40, estimator__min_samples_leaf=3, estimator__splitter=random, score=-0.018, total=   0.1s\n",
      "[CV] estimator__max_depth=9, estimator__max_features=sqrt, estimator__max_leaf_nodes=40, estimator__min_samples_leaf=3, estimator__splitter=random \n",
      "[CV]  estimator__max_depth=9, estimator__max_features=sqrt, estimator__max_leaf_nodes=40, estimator__min_samples_leaf=3, estimator__splitter=random, score=-0.018, total=   0.1s\n",
      "[CV] estimator__max_depth=9, estimator__max_features=sqrt, estimator__max_leaf_nodes=40, estimator__min_samples_leaf=5, estimator__splitter=best \n",
      "[CV]  estimator__max_depth=9, estimator__max_features=sqrt, estimator__max_leaf_nodes=40, estimator__min_samples_leaf=5, estimator__splitter=best, score=-0.018, total=   0.1s\n",
      "[CV] estimator__max_depth=9, estimator__max_features=sqrt, estimator__max_leaf_nodes=40, estimator__min_samples_leaf=5, estimator__splitter=best \n"
     ]
    },
    {
     "name": "stderr",
     "output_type": "stream",
     "text": [
      "/home/abhinav/anaconda3/lib/python3.8/site-packages/sklearn/multiclass.py:76: UserWarning: Label not 10 is present in all training examples.\n",
      "  warnings.warn(\"Label %s is present in all training examples.\" %\n"
     ]
    },
    {
     "name": "stdout",
     "output_type": "stream",
     "text": [
      "[CV]  estimator__max_depth=9, estimator__max_features=sqrt, estimator__max_leaf_nodes=40, estimator__min_samples_leaf=5, estimator__splitter=best, score=-0.018, total=   0.1s\n",
      "[CV] estimator__max_depth=9, estimator__max_features=sqrt, estimator__max_leaf_nodes=40, estimator__min_samples_leaf=5, estimator__splitter=best \n",
      "[CV]  estimator__max_depth=9, estimator__max_features=sqrt, estimator__max_leaf_nodes=40, estimator__min_samples_leaf=5, estimator__splitter=best, score=-0.018, total=   0.1s\n",
      "[CV] estimator__max_depth=9, estimator__max_features=sqrt, estimator__max_leaf_nodes=40, estimator__min_samples_leaf=5, estimator__splitter=random \n",
      "[CV]  estimator__max_depth=9, estimator__max_features=sqrt, estimator__max_leaf_nodes=40, estimator__min_samples_leaf=5, estimator__splitter=random, score=-0.018, total=   0.1s\n",
      "[CV] estimator__max_depth=9, estimator__max_features=sqrt, estimator__max_leaf_nodes=40, estimator__min_samples_leaf=5, estimator__splitter=random \n"
     ]
    },
    {
     "name": "stderr",
     "output_type": "stream",
     "text": [
      "/home/abhinav/anaconda3/lib/python3.8/site-packages/sklearn/multiclass.py:76: UserWarning: Label not 10 is present in all training examples.\n",
      "  warnings.warn(\"Label %s is present in all training examples.\" %\n"
     ]
    },
    {
     "name": "stdout",
     "output_type": "stream",
     "text": [
      "[CV]  estimator__max_depth=9, estimator__max_features=sqrt, estimator__max_leaf_nodes=40, estimator__min_samples_leaf=5, estimator__splitter=random, score=-0.017, total=   0.1s\n",
      "[CV] estimator__max_depth=9, estimator__max_features=sqrt, estimator__max_leaf_nodes=40, estimator__min_samples_leaf=5, estimator__splitter=random \n",
      "[CV]  estimator__max_depth=9, estimator__max_features=sqrt, estimator__max_leaf_nodes=40, estimator__min_samples_leaf=5, estimator__splitter=random, score=-0.018, total=   0.1s\n",
      "[CV] estimator__max_depth=9, estimator__max_features=sqrt, estimator__max_leaf_nodes=50, estimator__min_samples_leaf=1, estimator__splitter=best \n",
      "[CV]  estimator__max_depth=9, estimator__max_features=sqrt, estimator__max_leaf_nodes=50, estimator__min_samples_leaf=1, estimator__splitter=best, score=-0.018, total=   0.1s\n",
      "[CV] estimator__max_depth=9, estimator__max_features=sqrt, estimator__max_leaf_nodes=50, estimator__min_samples_leaf=1, estimator__splitter=best \n"
     ]
    },
    {
     "name": "stderr",
     "output_type": "stream",
     "text": [
      "/home/abhinav/anaconda3/lib/python3.8/site-packages/sklearn/multiclass.py:76: UserWarning: Label not 10 is present in all training examples.\n",
      "  warnings.warn(\"Label %s is present in all training examples.\" %\n"
     ]
    },
    {
     "name": "stdout",
     "output_type": "stream",
     "text": [
      "[CV]  estimator__max_depth=9, estimator__max_features=sqrt, estimator__max_leaf_nodes=50, estimator__min_samples_leaf=1, estimator__splitter=best, score=-0.016, total=   0.1s\n",
      "[CV] estimator__max_depth=9, estimator__max_features=sqrt, estimator__max_leaf_nodes=50, estimator__min_samples_leaf=1, estimator__splitter=best \n",
      "[CV]  estimator__max_depth=9, estimator__max_features=sqrt, estimator__max_leaf_nodes=50, estimator__min_samples_leaf=1, estimator__splitter=best, score=-0.017, total=   0.1s\n",
      "[CV] estimator__max_depth=9, estimator__max_features=sqrt, estimator__max_leaf_nodes=50, estimator__min_samples_leaf=1, estimator__splitter=random \n",
      "[CV]  estimator__max_depth=9, estimator__max_features=sqrt, estimator__max_leaf_nodes=50, estimator__min_samples_leaf=1, estimator__splitter=random, score=-0.017, total=   0.1s\n",
      "[CV] estimator__max_depth=9, estimator__max_features=sqrt, estimator__max_leaf_nodes=50, estimator__min_samples_leaf=1, estimator__splitter=random \n"
     ]
    },
    {
     "name": "stderr",
     "output_type": "stream",
     "text": [
      "/home/abhinav/anaconda3/lib/python3.8/site-packages/sklearn/multiclass.py:76: UserWarning: Label not 10 is present in all training examples.\n",
      "  warnings.warn(\"Label %s is present in all training examples.\" %\n"
     ]
    },
    {
     "name": "stdout",
     "output_type": "stream",
     "text": [
      "[CV]  estimator__max_depth=9, estimator__max_features=sqrt, estimator__max_leaf_nodes=50, estimator__min_samples_leaf=1, estimator__splitter=random, score=-0.017, total=   0.1s\n",
      "[CV] estimator__max_depth=9, estimator__max_features=sqrt, estimator__max_leaf_nodes=50, estimator__min_samples_leaf=1, estimator__splitter=random \n",
      "[CV]  estimator__max_depth=9, estimator__max_features=sqrt, estimator__max_leaf_nodes=50, estimator__min_samples_leaf=1, estimator__splitter=random, score=-0.018, total=   0.1s\n",
      "[CV] estimator__max_depth=9, estimator__max_features=sqrt, estimator__max_leaf_nodes=50, estimator__min_samples_leaf=3, estimator__splitter=best \n",
      "[CV]  estimator__max_depth=9, estimator__max_features=sqrt, estimator__max_leaf_nodes=50, estimator__min_samples_leaf=3, estimator__splitter=best, score=-0.018, total=   0.1s\n",
      "[CV] estimator__max_depth=9, estimator__max_features=sqrt, estimator__max_leaf_nodes=50, estimator__min_samples_leaf=3, estimator__splitter=best \n"
     ]
    },
    {
     "name": "stderr",
     "output_type": "stream",
     "text": [
      "/home/abhinav/anaconda3/lib/python3.8/site-packages/sklearn/multiclass.py:76: UserWarning: Label not 10 is present in all training examples.\n",
      "  warnings.warn(\"Label %s is present in all training examples.\" %\n"
     ]
    },
    {
     "name": "stdout",
     "output_type": "stream",
     "text": [
      "[CV]  estimator__max_depth=9, estimator__max_features=sqrt, estimator__max_leaf_nodes=50, estimator__min_samples_leaf=3, estimator__splitter=best, score=-0.018, total=   0.1s\n",
      "[CV] estimator__max_depth=9, estimator__max_features=sqrt, estimator__max_leaf_nodes=50, estimator__min_samples_leaf=3, estimator__splitter=best \n",
      "[CV]  estimator__max_depth=9, estimator__max_features=sqrt, estimator__max_leaf_nodes=50, estimator__min_samples_leaf=3, estimator__splitter=best, score=-0.017, total=   0.1s\n",
      "[CV] estimator__max_depth=9, estimator__max_features=sqrt, estimator__max_leaf_nodes=50, estimator__min_samples_leaf=3, estimator__splitter=random \n",
      "[CV]  estimator__max_depth=9, estimator__max_features=sqrt, estimator__max_leaf_nodes=50, estimator__min_samples_leaf=3, estimator__splitter=random, score=-0.017, total=   0.1s\n",
      "[CV] estimator__max_depth=9, estimator__max_features=sqrt, estimator__max_leaf_nodes=50, estimator__min_samples_leaf=3, estimator__splitter=random \n"
     ]
    },
    {
     "name": "stderr",
     "output_type": "stream",
     "text": [
      "/home/abhinav/anaconda3/lib/python3.8/site-packages/sklearn/multiclass.py:76: UserWarning: Label not 10 is present in all training examples.\n",
      "  warnings.warn(\"Label %s is present in all training examples.\" %\n"
     ]
    },
    {
     "name": "stdout",
     "output_type": "stream",
     "text": [
      "[CV]  estimator__max_depth=9, estimator__max_features=sqrt, estimator__max_leaf_nodes=50, estimator__min_samples_leaf=3, estimator__splitter=random, score=-0.017, total=   0.1s\n",
      "[CV] estimator__max_depth=9, estimator__max_features=sqrt, estimator__max_leaf_nodes=50, estimator__min_samples_leaf=3, estimator__splitter=random \n",
      "[CV]  estimator__max_depth=9, estimator__max_features=sqrt, estimator__max_leaf_nodes=50, estimator__min_samples_leaf=3, estimator__splitter=random, score=-0.017, total=   0.1s\n",
      "[CV] estimator__max_depth=9, estimator__max_features=sqrt, estimator__max_leaf_nodes=50, estimator__min_samples_leaf=5, estimator__splitter=best \n",
      "[CV]  estimator__max_depth=9, estimator__max_features=sqrt, estimator__max_leaf_nodes=50, estimator__min_samples_leaf=5, estimator__splitter=best, score=-0.018, total=   0.1s\n",
      "[CV] estimator__max_depth=9, estimator__max_features=sqrt, estimator__max_leaf_nodes=50, estimator__min_samples_leaf=5, estimator__splitter=best \n"
     ]
    },
    {
     "name": "stderr",
     "output_type": "stream",
     "text": [
      "/home/abhinav/anaconda3/lib/python3.8/site-packages/sklearn/multiclass.py:76: UserWarning: Label not 10 is present in all training examples.\n",
      "  warnings.warn(\"Label %s is present in all training examples.\" %\n"
     ]
    },
    {
     "name": "stdout",
     "output_type": "stream",
     "text": [
      "[CV]  estimator__max_depth=9, estimator__max_features=sqrt, estimator__max_leaf_nodes=50, estimator__min_samples_leaf=5, estimator__splitter=best, score=-0.018, total=   0.1s\n",
      "[CV] estimator__max_depth=9, estimator__max_features=sqrt, estimator__max_leaf_nodes=50, estimator__min_samples_leaf=5, estimator__splitter=best \n",
      "[CV]  estimator__max_depth=9, estimator__max_features=sqrt, estimator__max_leaf_nodes=50, estimator__min_samples_leaf=5, estimator__splitter=best, score=-0.018, total=   0.1s\n",
      "[CV] estimator__max_depth=9, estimator__max_features=sqrt, estimator__max_leaf_nodes=50, estimator__min_samples_leaf=5, estimator__splitter=random \n",
      "[CV]  estimator__max_depth=9, estimator__max_features=sqrt, estimator__max_leaf_nodes=50, estimator__min_samples_leaf=5, estimator__splitter=random, score=-0.018, total=   0.1s\n",
      "[CV] estimator__max_depth=9, estimator__max_features=sqrt, estimator__max_leaf_nodes=50, estimator__min_samples_leaf=5, estimator__splitter=random \n"
     ]
    },
    {
     "name": "stderr",
     "output_type": "stream",
     "text": [
      "/home/abhinav/anaconda3/lib/python3.8/site-packages/sklearn/multiclass.py:76: UserWarning: Label not 10 is present in all training examples.\n",
      "  warnings.warn(\"Label %s is present in all training examples.\" %\n"
     ]
    },
    {
     "name": "stdout",
     "output_type": "stream",
     "text": [
      "[CV]  estimator__max_depth=9, estimator__max_features=sqrt, estimator__max_leaf_nodes=50, estimator__min_samples_leaf=5, estimator__splitter=random, score=-0.018, total=   0.1s\n",
      "[CV] estimator__max_depth=9, estimator__max_features=sqrt, estimator__max_leaf_nodes=50, estimator__min_samples_leaf=5, estimator__splitter=random \n",
      "[CV]  estimator__max_depth=9, estimator__max_features=sqrt, estimator__max_leaf_nodes=50, estimator__min_samples_leaf=5, estimator__splitter=random, score=-0.018, total=   0.1s\n",
      "[CV] estimator__max_depth=9, estimator__max_features=sqrt, estimator__max_leaf_nodes=70, estimator__min_samples_leaf=1, estimator__splitter=best \n",
      "[CV]  estimator__max_depth=9, estimator__max_features=sqrt, estimator__max_leaf_nodes=70, estimator__min_samples_leaf=1, estimator__splitter=best, score=-0.017, total=   0.1s\n",
      "[CV] estimator__max_depth=9, estimator__max_features=sqrt, estimator__max_leaf_nodes=70, estimator__min_samples_leaf=1, estimator__splitter=best \n"
     ]
    },
    {
     "name": "stderr",
     "output_type": "stream",
     "text": [
      "/home/abhinav/anaconda3/lib/python3.8/site-packages/sklearn/multiclass.py:76: UserWarning: Label not 10 is present in all training examples.\n",
      "  warnings.warn(\"Label %s is present in all training examples.\" %\n"
     ]
    },
    {
     "name": "stdout",
     "output_type": "stream",
     "text": [
      "[CV]  estimator__max_depth=9, estimator__max_features=sqrt, estimator__max_leaf_nodes=70, estimator__min_samples_leaf=1, estimator__splitter=best, score=-0.017, total=   0.1s\n",
      "[CV] estimator__max_depth=9, estimator__max_features=sqrt, estimator__max_leaf_nodes=70, estimator__min_samples_leaf=1, estimator__splitter=best \n",
      "[CV]  estimator__max_depth=9, estimator__max_features=sqrt, estimator__max_leaf_nodes=70, estimator__min_samples_leaf=1, estimator__splitter=best, score=-0.017, total=   0.1s\n",
      "[CV] estimator__max_depth=9, estimator__max_features=sqrt, estimator__max_leaf_nodes=70, estimator__min_samples_leaf=1, estimator__splitter=random \n",
      "[CV]  estimator__max_depth=9, estimator__max_features=sqrt, estimator__max_leaf_nodes=70, estimator__min_samples_leaf=1, estimator__splitter=random, score=-0.018, total=   0.1s\n",
      "[CV] estimator__max_depth=9, estimator__max_features=sqrt, estimator__max_leaf_nodes=70, estimator__min_samples_leaf=1, estimator__splitter=random \n"
     ]
    },
    {
     "name": "stderr",
     "output_type": "stream",
     "text": [
      "/home/abhinav/anaconda3/lib/python3.8/site-packages/sklearn/multiclass.py:76: UserWarning: Label not 10 is present in all training examples.\n",
      "  warnings.warn(\"Label %s is present in all training examples.\" %\n"
     ]
    },
    {
     "name": "stdout",
     "output_type": "stream",
     "text": [
      "[CV]  estimator__max_depth=9, estimator__max_features=sqrt, estimator__max_leaf_nodes=70, estimator__min_samples_leaf=1, estimator__splitter=random, score=-0.017, total=   0.1s\n",
      "[CV] estimator__max_depth=9, estimator__max_features=sqrt, estimator__max_leaf_nodes=70, estimator__min_samples_leaf=1, estimator__splitter=random \n",
      "[CV]  estimator__max_depth=9, estimator__max_features=sqrt, estimator__max_leaf_nodes=70, estimator__min_samples_leaf=1, estimator__splitter=random, score=-0.016, total=   0.1s\n",
      "[CV] estimator__max_depth=9, estimator__max_features=sqrt, estimator__max_leaf_nodes=70, estimator__min_samples_leaf=3, estimator__splitter=best \n",
      "[CV]  estimator__max_depth=9, estimator__max_features=sqrt, estimator__max_leaf_nodes=70, estimator__min_samples_leaf=3, estimator__splitter=best, score=-0.017, total=   0.1s\n",
      "[CV] estimator__max_depth=9, estimator__max_features=sqrt, estimator__max_leaf_nodes=70, estimator__min_samples_leaf=3, estimator__splitter=best \n"
     ]
    },
    {
     "name": "stderr",
     "output_type": "stream",
     "text": [
      "/home/abhinav/anaconda3/lib/python3.8/site-packages/sklearn/multiclass.py:76: UserWarning: Label not 10 is present in all training examples.\n",
      "  warnings.warn(\"Label %s is present in all training examples.\" %\n"
     ]
    },
    {
     "name": "stdout",
     "output_type": "stream",
     "text": [
      "[CV]  estimator__max_depth=9, estimator__max_features=sqrt, estimator__max_leaf_nodes=70, estimator__min_samples_leaf=3, estimator__splitter=best, score=-0.017, total=   0.1s\n",
      "[CV] estimator__max_depth=9, estimator__max_features=sqrt, estimator__max_leaf_nodes=70, estimator__min_samples_leaf=3, estimator__splitter=best \n",
      "[CV]  estimator__max_depth=9, estimator__max_features=sqrt, estimator__max_leaf_nodes=70, estimator__min_samples_leaf=3, estimator__splitter=best, score=-0.017, total=   0.1s\n",
      "[CV] estimator__max_depth=9, estimator__max_features=sqrt, estimator__max_leaf_nodes=70, estimator__min_samples_leaf=3, estimator__splitter=random \n",
      "[CV]  estimator__max_depth=9, estimator__max_features=sqrt, estimator__max_leaf_nodes=70, estimator__min_samples_leaf=3, estimator__splitter=random, score=-0.018, total=   0.1s\n",
      "[CV] estimator__max_depth=9, estimator__max_features=sqrt, estimator__max_leaf_nodes=70, estimator__min_samples_leaf=3, estimator__splitter=random \n"
     ]
    },
    {
     "name": "stderr",
     "output_type": "stream",
     "text": [
      "/home/abhinav/anaconda3/lib/python3.8/site-packages/sklearn/multiclass.py:76: UserWarning: Label not 10 is present in all training examples.\n",
      "  warnings.warn(\"Label %s is present in all training examples.\" %\n"
     ]
    },
    {
     "name": "stdout",
     "output_type": "stream",
     "text": [
      "[CV]  estimator__max_depth=9, estimator__max_features=sqrt, estimator__max_leaf_nodes=70, estimator__min_samples_leaf=3, estimator__splitter=random, score=-0.018, total=   0.1s\n",
      "[CV] estimator__max_depth=9, estimator__max_features=sqrt, estimator__max_leaf_nodes=70, estimator__min_samples_leaf=3, estimator__splitter=random \n",
      "[CV]  estimator__max_depth=9, estimator__max_features=sqrt, estimator__max_leaf_nodes=70, estimator__min_samples_leaf=3, estimator__splitter=random, score=-0.018, total=   0.1s\n",
      "[CV] estimator__max_depth=9, estimator__max_features=sqrt, estimator__max_leaf_nodes=70, estimator__min_samples_leaf=5, estimator__splitter=best \n",
      "[CV]  estimator__max_depth=9, estimator__max_features=sqrt, estimator__max_leaf_nodes=70, estimator__min_samples_leaf=5, estimator__splitter=best, score=-0.018, total=   0.1s\n",
      "[CV] estimator__max_depth=9, estimator__max_features=sqrt, estimator__max_leaf_nodes=70, estimator__min_samples_leaf=5, estimator__splitter=best \n"
     ]
    },
    {
     "name": "stderr",
     "output_type": "stream",
     "text": [
      "/home/abhinav/anaconda3/lib/python3.8/site-packages/sklearn/multiclass.py:76: UserWarning: Label not 10 is present in all training examples.\n",
      "  warnings.warn(\"Label %s is present in all training examples.\" %\n"
     ]
    },
    {
     "name": "stdout",
     "output_type": "stream",
     "text": [
      "[CV]  estimator__max_depth=9, estimator__max_features=sqrt, estimator__max_leaf_nodes=70, estimator__min_samples_leaf=5, estimator__splitter=best, score=-0.018, total=   0.1s\n",
      "[CV] estimator__max_depth=9, estimator__max_features=sqrt, estimator__max_leaf_nodes=70, estimator__min_samples_leaf=5, estimator__splitter=best \n",
      "[CV]  estimator__max_depth=9, estimator__max_features=sqrt, estimator__max_leaf_nodes=70, estimator__min_samples_leaf=5, estimator__splitter=best, score=-0.018, total=   0.1s\n",
      "[CV] estimator__max_depth=9, estimator__max_features=sqrt, estimator__max_leaf_nodes=70, estimator__min_samples_leaf=5, estimator__splitter=random \n",
      "[CV]  estimator__max_depth=9, estimator__max_features=sqrt, estimator__max_leaf_nodes=70, estimator__min_samples_leaf=5, estimator__splitter=random, score=-0.018, total=   0.1s\n",
      "[CV] estimator__max_depth=9, estimator__max_features=sqrt, estimator__max_leaf_nodes=70, estimator__min_samples_leaf=5, estimator__splitter=random \n"
     ]
    },
    {
     "name": "stderr",
     "output_type": "stream",
     "text": [
      "/home/abhinav/anaconda3/lib/python3.8/site-packages/sklearn/multiclass.py:76: UserWarning: Label not 10 is present in all training examples.\n",
      "  warnings.warn(\"Label %s is present in all training examples.\" %\n"
     ]
    },
    {
     "name": "stdout",
     "output_type": "stream",
     "text": [
      "[CV]  estimator__max_depth=9, estimator__max_features=sqrt, estimator__max_leaf_nodes=70, estimator__min_samples_leaf=5, estimator__splitter=random, score=-0.018, total=   0.1s\n",
      "[CV] estimator__max_depth=9, estimator__max_features=sqrt, estimator__max_leaf_nodes=70, estimator__min_samples_leaf=5, estimator__splitter=random \n",
      "[CV]  estimator__max_depth=9, estimator__max_features=sqrt, estimator__max_leaf_nodes=70, estimator__min_samples_leaf=5, estimator__splitter=random, score=-0.018, total=   0.1s\n",
      "[CV] estimator__max_depth=9, estimator__max_features=None, estimator__max_leaf_nodes=None, estimator__min_samples_leaf=1, estimator__splitter=best \n",
      "[CV]  estimator__max_depth=9, estimator__max_features=None, estimator__max_leaf_nodes=None, estimator__min_samples_leaf=1, estimator__splitter=best, score=-0.010, total=   0.1s\n",
      "[CV] estimator__max_depth=9, estimator__max_features=None, estimator__max_leaf_nodes=None, estimator__min_samples_leaf=1, estimator__splitter=best \n"
     ]
    },
    {
     "name": "stderr",
     "output_type": "stream",
     "text": [
      "/home/abhinav/anaconda3/lib/python3.8/site-packages/sklearn/multiclass.py:76: UserWarning: Label not 10 is present in all training examples.\n",
      "  warnings.warn(\"Label %s is present in all training examples.\" %\n"
     ]
    },
    {
     "name": "stdout",
     "output_type": "stream",
     "text": [
      "[CV]  estimator__max_depth=9, estimator__max_features=None, estimator__max_leaf_nodes=None, estimator__min_samples_leaf=1, estimator__splitter=best, score=-0.010, total=   0.1s\n",
      "[CV] estimator__max_depth=9, estimator__max_features=None, estimator__max_leaf_nodes=None, estimator__min_samples_leaf=1, estimator__splitter=best \n",
      "[CV]  estimator__max_depth=9, estimator__max_features=None, estimator__max_leaf_nodes=None, estimator__min_samples_leaf=1, estimator__splitter=best, score=-0.009, total=   0.1s\n",
      "[CV] estimator__max_depth=9, estimator__max_features=None, estimator__max_leaf_nodes=None, estimator__min_samples_leaf=1, estimator__splitter=random \n"
     ]
    },
    {
     "name": "stderr",
     "output_type": "stream",
     "text": [
      "/home/abhinav/anaconda3/lib/python3.8/site-packages/sklearn/multiclass.py:76: UserWarning: Label not 10 is present in all training examples.\n",
      "  warnings.warn(\"Label %s is present in all training examples.\" %\n"
     ]
    },
    {
     "name": "stdout",
     "output_type": "stream",
     "text": [
      "[CV]  estimator__max_depth=9, estimator__max_features=None, estimator__max_leaf_nodes=None, estimator__min_samples_leaf=1, estimator__splitter=random, score=-0.012, total=   0.1s\n",
      "[CV] estimator__max_depth=9, estimator__max_features=None, estimator__max_leaf_nodes=None, estimator__min_samples_leaf=1, estimator__splitter=random \n",
      "[CV]  estimator__max_depth=9, estimator__max_features=None, estimator__max_leaf_nodes=None, estimator__min_samples_leaf=1, estimator__splitter=random, score=-0.010, total=   0.1s\n",
      "[CV] estimator__max_depth=9, estimator__max_features=None, estimator__max_leaf_nodes=None, estimator__min_samples_leaf=1, estimator__splitter=random \n",
      "[CV]  estimator__max_depth=9, estimator__max_features=None, estimator__max_leaf_nodes=None, estimator__min_samples_leaf=1, estimator__splitter=random, score=-0.010, total=   0.1s\n",
      "[CV] estimator__max_depth=9, estimator__max_features=None, estimator__max_leaf_nodes=None, estimator__min_samples_leaf=3, estimator__splitter=best \n",
      "[CV]  estimator__max_depth=9, estimator__max_features=None, estimator__max_leaf_nodes=None, estimator__min_samples_leaf=3, estimator__splitter=best, score=-0.012, total=   0.1s\n",
      "[CV] estimator__max_depth=9, estimator__max_features=None, estimator__max_leaf_nodes=None, estimator__min_samples_leaf=3, estimator__splitter=best \n"
     ]
    },
    {
     "name": "stderr",
     "output_type": "stream",
     "text": [
      "/home/abhinav/anaconda3/lib/python3.8/site-packages/sklearn/multiclass.py:76: UserWarning: Label not 10 is present in all training examples.\n",
      "  warnings.warn(\"Label %s is present in all training examples.\" %\n"
     ]
    },
    {
     "name": "stdout",
     "output_type": "stream",
     "text": [
      "[CV]  estimator__max_depth=9, estimator__max_features=None, estimator__max_leaf_nodes=None, estimator__min_samples_leaf=3, estimator__splitter=best, score=-0.012, total=   0.1s\n",
      "[CV] estimator__max_depth=9, estimator__max_features=None, estimator__max_leaf_nodes=None, estimator__min_samples_leaf=3, estimator__splitter=best \n",
      "[CV]  estimator__max_depth=9, estimator__max_features=None, estimator__max_leaf_nodes=None, estimator__min_samples_leaf=3, estimator__splitter=best, score=-0.012, total=   0.1s\n",
      "[CV] estimator__max_depth=9, estimator__max_features=None, estimator__max_leaf_nodes=None, estimator__min_samples_leaf=3, estimator__splitter=random \n"
     ]
    },
    {
     "name": "stderr",
     "output_type": "stream",
     "text": [
      "/home/abhinav/anaconda3/lib/python3.8/site-packages/sklearn/multiclass.py:76: UserWarning: Label not 10 is present in all training examples.\n",
      "  warnings.warn(\"Label %s is present in all training examples.\" %\n"
     ]
    },
    {
     "name": "stdout",
     "output_type": "stream",
     "text": [
      "[CV]  estimator__max_depth=9, estimator__max_features=None, estimator__max_leaf_nodes=None, estimator__min_samples_leaf=3, estimator__splitter=random, score=-0.014, total=   0.1s\n",
      "[CV] estimator__max_depth=9, estimator__max_features=None, estimator__max_leaf_nodes=None, estimator__min_samples_leaf=3, estimator__splitter=random \n",
      "[CV]  estimator__max_depth=9, estimator__max_features=None, estimator__max_leaf_nodes=None, estimator__min_samples_leaf=3, estimator__splitter=random, score=-0.012, total=   0.1s\n",
      "[CV] estimator__max_depth=9, estimator__max_features=None, estimator__max_leaf_nodes=None, estimator__min_samples_leaf=3, estimator__splitter=random \n",
      "[CV]  estimator__max_depth=9, estimator__max_features=None, estimator__max_leaf_nodes=None, estimator__min_samples_leaf=3, estimator__splitter=random, score=-0.013, total=   0.1s\n",
      "[CV] estimator__max_depth=9, estimator__max_features=None, estimator__max_leaf_nodes=None, estimator__min_samples_leaf=5, estimator__splitter=best \n",
      "[CV]  estimator__max_depth=9, estimator__max_features=None, estimator__max_leaf_nodes=None, estimator__min_samples_leaf=5, estimator__splitter=best, score=-0.015, total=   0.1s\n",
      "[CV] estimator__max_depth=9, estimator__max_features=None, estimator__max_leaf_nodes=None, estimator__min_samples_leaf=5, estimator__splitter=best \n"
     ]
    },
    {
     "name": "stderr",
     "output_type": "stream",
     "text": [
      "/home/abhinav/anaconda3/lib/python3.8/site-packages/sklearn/multiclass.py:76: UserWarning: Label not 10 is present in all training examples.\n",
      "  warnings.warn(\"Label %s is present in all training examples.\" %\n"
     ]
    },
    {
     "name": "stdout",
     "output_type": "stream",
     "text": [
      "[CV]  estimator__max_depth=9, estimator__max_features=None, estimator__max_leaf_nodes=None, estimator__min_samples_leaf=5, estimator__splitter=best, score=-0.014, total=   0.1s\n",
      "[CV] estimator__max_depth=9, estimator__max_features=None, estimator__max_leaf_nodes=None, estimator__min_samples_leaf=5, estimator__splitter=best \n",
      "[CV]  estimator__max_depth=9, estimator__max_features=None, estimator__max_leaf_nodes=None, estimator__min_samples_leaf=5, estimator__splitter=best, score=-0.016, total=   0.1s\n",
      "[CV] estimator__max_depth=9, estimator__max_features=None, estimator__max_leaf_nodes=None, estimator__min_samples_leaf=5, estimator__splitter=random \n"
     ]
    },
    {
     "name": "stderr",
     "output_type": "stream",
     "text": [
      "/home/abhinav/anaconda3/lib/python3.8/site-packages/sklearn/multiclass.py:76: UserWarning: Label not 10 is present in all training examples.\n",
      "  warnings.warn(\"Label %s is present in all training examples.\" %\n"
     ]
    },
    {
     "name": "stdout",
     "output_type": "stream",
     "text": [
      "[CV]  estimator__max_depth=9, estimator__max_features=None, estimator__max_leaf_nodes=None, estimator__min_samples_leaf=5, estimator__splitter=random, score=-0.016, total=   0.1s\n",
      "[CV] estimator__max_depth=9, estimator__max_features=None, estimator__max_leaf_nodes=None, estimator__min_samples_leaf=5, estimator__splitter=random \n",
      "[CV]  estimator__max_depth=9, estimator__max_features=None, estimator__max_leaf_nodes=None, estimator__min_samples_leaf=5, estimator__splitter=random, score=-0.015, total=   0.1s\n",
      "[CV] estimator__max_depth=9, estimator__max_features=None, estimator__max_leaf_nodes=None, estimator__min_samples_leaf=5, estimator__splitter=random \n",
      "[CV]  estimator__max_depth=9, estimator__max_features=None, estimator__max_leaf_nodes=None, estimator__min_samples_leaf=5, estimator__splitter=random, score=-0.016, total=   0.1s\n",
      "[CV] estimator__max_depth=9, estimator__max_features=None, estimator__max_leaf_nodes=10, estimator__min_samples_leaf=1, estimator__splitter=best \n",
      "[CV]  estimator__max_depth=9, estimator__max_features=None, estimator__max_leaf_nodes=10, estimator__min_samples_leaf=1, estimator__splitter=best, score=-0.011, total=   0.1s\n",
      "[CV] estimator__max_depth=9, estimator__max_features=None, estimator__max_leaf_nodes=10, estimator__min_samples_leaf=1, estimator__splitter=best \n"
     ]
    },
    {
     "name": "stderr",
     "output_type": "stream",
     "text": [
      "/home/abhinav/anaconda3/lib/python3.8/site-packages/sklearn/multiclass.py:76: UserWarning: Label not 10 is present in all training examples.\n",
      "  warnings.warn(\"Label %s is present in all training examples.\" %\n"
     ]
    },
    {
     "name": "stdout",
     "output_type": "stream",
     "text": [
      "[CV]  estimator__max_depth=9, estimator__max_features=None, estimator__max_leaf_nodes=10, estimator__min_samples_leaf=1, estimator__splitter=best, score=-0.011, total=   0.2s\n",
      "[CV] estimator__max_depth=9, estimator__max_features=None, estimator__max_leaf_nodes=10, estimator__min_samples_leaf=1, estimator__splitter=best \n",
      "[CV]  estimator__max_depth=9, estimator__max_features=None, estimator__max_leaf_nodes=10, estimator__min_samples_leaf=1, estimator__splitter=best, score=-0.009, total=   0.1s\n",
      "[CV] estimator__max_depth=9, estimator__max_features=None, estimator__max_leaf_nodes=10, estimator__min_samples_leaf=1, estimator__splitter=random \n"
     ]
    },
    {
     "name": "stderr",
     "output_type": "stream",
     "text": [
      "/home/abhinav/anaconda3/lib/python3.8/site-packages/sklearn/multiclass.py:76: UserWarning: Label not 10 is present in all training examples.\n",
      "  warnings.warn(\"Label %s is present in all training examples.\" %\n"
     ]
    },
    {
     "name": "stdout",
     "output_type": "stream",
     "text": [
      "[CV]  estimator__max_depth=9, estimator__max_features=None, estimator__max_leaf_nodes=10, estimator__min_samples_leaf=1, estimator__splitter=random, score=-0.011, total=   0.2s\n",
      "[CV] estimator__max_depth=9, estimator__max_features=None, estimator__max_leaf_nodes=10, estimator__min_samples_leaf=1, estimator__splitter=random \n",
      "[CV]  estimator__max_depth=9, estimator__max_features=None, estimator__max_leaf_nodes=10, estimator__min_samples_leaf=1, estimator__splitter=random, score=-0.011, total=   0.2s\n",
      "[CV] estimator__max_depth=9, estimator__max_features=None, estimator__max_leaf_nodes=10, estimator__min_samples_leaf=1, estimator__splitter=random \n",
      "[CV]  estimator__max_depth=9, estimator__max_features=None, estimator__max_leaf_nodes=10, estimator__min_samples_leaf=1, estimator__splitter=random, score=-0.011, total=   0.2s\n",
      "[CV] estimator__max_depth=9, estimator__max_features=None, estimator__max_leaf_nodes=10, estimator__min_samples_leaf=3, estimator__splitter=best \n",
      "[CV]  estimator__max_depth=9, estimator__max_features=None, estimator__max_leaf_nodes=10, estimator__min_samples_leaf=3, estimator__splitter=best, score=-0.013, total=   0.2s\n",
      "[CV] estimator__max_depth=9, estimator__max_features=None, estimator__max_leaf_nodes=10, estimator__min_samples_leaf=3, estimator__splitter=best \n"
     ]
    },
    {
     "name": "stderr",
     "output_type": "stream",
     "text": [
      "/home/abhinav/anaconda3/lib/python3.8/site-packages/sklearn/multiclass.py:76: UserWarning: Label not 10 is present in all training examples.\n",
      "  warnings.warn(\"Label %s is present in all training examples.\" %\n"
     ]
    },
    {
     "name": "stdout",
     "output_type": "stream",
     "text": [
      "[CV]  estimator__max_depth=9, estimator__max_features=None, estimator__max_leaf_nodes=10, estimator__min_samples_leaf=3, estimator__splitter=best, score=-0.012, total=   0.2s\n",
      "[CV] estimator__max_depth=9, estimator__max_features=None, estimator__max_leaf_nodes=10, estimator__min_samples_leaf=3, estimator__splitter=best \n",
      "[CV]  estimator__max_depth=9, estimator__max_features=None, estimator__max_leaf_nodes=10, estimator__min_samples_leaf=3, estimator__splitter=best, score=-0.012, total=   0.2s\n",
      "[CV] estimator__max_depth=9, estimator__max_features=None, estimator__max_leaf_nodes=10, estimator__min_samples_leaf=3, estimator__splitter=random \n"
     ]
    },
    {
     "name": "stderr",
     "output_type": "stream",
     "text": [
      "/home/abhinav/anaconda3/lib/python3.8/site-packages/sklearn/multiclass.py:76: UserWarning: Label not 10 is present in all training examples.\n",
      "  warnings.warn(\"Label %s is present in all training examples.\" %\n"
     ]
    },
    {
     "name": "stdout",
     "output_type": "stream",
     "text": [
      "[CV]  estimator__max_depth=9, estimator__max_features=None, estimator__max_leaf_nodes=10, estimator__min_samples_leaf=3, estimator__splitter=random, score=-0.014, total=   0.2s\n",
      "[CV] estimator__max_depth=9, estimator__max_features=None, estimator__max_leaf_nodes=10, estimator__min_samples_leaf=3, estimator__splitter=random \n",
      "[CV]  estimator__max_depth=9, estimator__max_features=None, estimator__max_leaf_nodes=10, estimator__min_samples_leaf=3, estimator__splitter=random, score=-0.013, total=   0.2s\n",
      "[CV] estimator__max_depth=9, estimator__max_features=None, estimator__max_leaf_nodes=10, estimator__min_samples_leaf=3, estimator__splitter=random \n",
      "[CV]  estimator__max_depth=9, estimator__max_features=None, estimator__max_leaf_nodes=10, estimator__min_samples_leaf=3, estimator__splitter=random, score=-0.013, total=   0.2s\n",
      "[CV] estimator__max_depth=9, estimator__max_features=None, estimator__max_leaf_nodes=10, estimator__min_samples_leaf=5, estimator__splitter=best \n",
      "[CV]  estimator__max_depth=9, estimator__max_features=None, estimator__max_leaf_nodes=10, estimator__min_samples_leaf=5, estimator__splitter=best, score=-0.015, total=   0.2s\n",
      "[CV] estimator__max_depth=9, estimator__max_features=None, estimator__max_leaf_nodes=10, estimator__min_samples_leaf=5, estimator__splitter=best \n"
     ]
    },
    {
     "name": "stderr",
     "output_type": "stream",
     "text": [
      "/home/abhinav/anaconda3/lib/python3.8/site-packages/sklearn/multiclass.py:76: UserWarning: Label not 10 is present in all training examples.\n",
      "  warnings.warn(\"Label %s is present in all training examples.\" %\n"
     ]
    },
    {
     "name": "stdout",
     "output_type": "stream",
     "text": [
      "[CV]  estimator__max_depth=9, estimator__max_features=None, estimator__max_leaf_nodes=10, estimator__min_samples_leaf=5, estimator__splitter=best, score=-0.014, total=   0.2s\n",
      "[CV] estimator__max_depth=9, estimator__max_features=None, estimator__max_leaf_nodes=10, estimator__min_samples_leaf=5, estimator__splitter=best \n",
      "[CV]  estimator__max_depth=9, estimator__max_features=None, estimator__max_leaf_nodes=10, estimator__min_samples_leaf=5, estimator__splitter=best, score=-0.016, total=   0.2s\n",
      "[CV] estimator__max_depth=9, estimator__max_features=None, estimator__max_leaf_nodes=10, estimator__min_samples_leaf=5, estimator__splitter=random \n"
     ]
    },
    {
     "name": "stderr",
     "output_type": "stream",
     "text": [
      "/home/abhinav/anaconda3/lib/python3.8/site-packages/sklearn/multiclass.py:76: UserWarning: Label not 10 is present in all training examples.\n",
      "  warnings.warn(\"Label %s is present in all training examples.\" %\n"
     ]
    },
    {
     "name": "stdout",
     "output_type": "stream",
     "text": [
      "[CV]  estimator__max_depth=9, estimator__max_features=None, estimator__max_leaf_nodes=10, estimator__min_samples_leaf=5, estimator__splitter=random, score=-0.016, total=   0.2s\n",
      "[CV] estimator__max_depth=9, estimator__max_features=None, estimator__max_leaf_nodes=10, estimator__min_samples_leaf=5, estimator__splitter=random \n",
      "[CV]  estimator__max_depth=9, estimator__max_features=None, estimator__max_leaf_nodes=10, estimator__min_samples_leaf=5, estimator__splitter=random, score=-0.015, total=   0.2s\n",
      "[CV] estimator__max_depth=9, estimator__max_features=None, estimator__max_leaf_nodes=10, estimator__min_samples_leaf=5, estimator__splitter=random \n",
      "[CV]  estimator__max_depth=9, estimator__max_features=None, estimator__max_leaf_nodes=10, estimator__min_samples_leaf=5, estimator__splitter=random, score=-0.016, total=   0.2s\n",
      "[CV] estimator__max_depth=9, estimator__max_features=None, estimator__max_leaf_nodes=20, estimator__min_samples_leaf=1, estimator__splitter=best \n"
     ]
    },
    {
     "name": "stderr",
     "output_type": "stream",
     "text": [
      "/home/abhinav/anaconda3/lib/python3.8/site-packages/sklearn/multiclass.py:76: UserWarning: Label not 10 is present in all training examples.\n",
      "  warnings.warn(\"Label %s is present in all training examples.\" %\n"
     ]
    },
    {
     "name": "stdout",
     "output_type": "stream",
     "text": [
      "[CV]  estimator__max_depth=9, estimator__max_features=None, estimator__max_leaf_nodes=20, estimator__min_samples_leaf=1, estimator__splitter=best, score=-0.011, total=   0.2s\n",
      "[CV] estimator__max_depth=9, estimator__max_features=None, estimator__max_leaf_nodes=20, estimator__min_samples_leaf=1, estimator__splitter=best \n",
      "[CV]  estimator__max_depth=9, estimator__max_features=None, estimator__max_leaf_nodes=20, estimator__min_samples_leaf=1, estimator__splitter=best, score=-0.010, total=   0.2s\n",
      "[CV] estimator__max_depth=9, estimator__max_features=None, estimator__max_leaf_nodes=20, estimator__min_samples_leaf=1, estimator__splitter=best \n",
      "[CV]  estimator__max_depth=9, estimator__max_features=None, estimator__max_leaf_nodes=20, estimator__min_samples_leaf=1, estimator__splitter=best, score=-0.009, total=   0.2s\n",
      "[CV] estimator__max_depth=9, estimator__max_features=None, estimator__max_leaf_nodes=20, estimator__min_samples_leaf=1, estimator__splitter=random \n",
      "[CV]  estimator__max_depth=9, estimator__max_features=None, estimator__max_leaf_nodes=20, estimator__min_samples_leaf=1, estimator__splitter=random, score=-0.011, total=   0.2s\n",
      "[CV] estimator__max_depth=9, estimator__max_features=None, estimator__max_leaf_nodes=20, estimator__min_samples_leaf=1, estimator__splitter=random \n"
     ]
    },
    {
     "name": "stderr",
     "output_type": "stream",
     "text": [
      "/home/abhinav/anaconda3/lib/python3.8/site-packages/sklearn/multiclass.py:76: UserWarning: Label not 10 is present in all training examples.\n",
      "  warnings.warn(\"Label %s is present in all training examples.\" %\n"
     ]
    },
    {
     "name": "stdout",
     "output_type": "stream",
     "text": [
      "[CV]  estimator__max_depth=9, estimator__max_features=None, estimator__max_leaf_nodes=20, estimator__min_samples_leaf=1, estimator__splitter=random, score=-0.010, total=   0.2s\n",
      "[CV] estimator__max_depth=9, estimator__max_features=None, estimator__max_leaf_nodes=20, estimator__min_samples_leaf=1, estimator__splitter=random \n",
      "[CV]  estimator__max_depth=9, estimator__max_features=None, estimator__max_leaf_nodes=20, estimator__min_samples_leaf=1, estimator__splitter=random, score=-0.010, total=   0.2s\n",
      "[CV] estimator__max_depth=9, estimator__max_features=None, estimator__max_leaf_nodes=20, estimator__min_samples_leaf=3, estimator__splitter=best \n"
     ]
    },
    {
     "name": "stderr",
     "output_type": "stream",
     "text": [
      "/home/abhinav/anaconda3/lib/python3.8/site-packages/sklearn/multiclass.py:76: UserWarning: Label not 10 is present in all training examples.\n",
      "  warnings.warn(\"Label %s is present in all training examples.\" %\n"
     ]
    },
    {
     "name": "stdout",
     "output_type": "stream",
     "text": [
      "[CV]  estimator__max_depth=9, estimator__max_features=None, estimator__max_leaf_nodes=20, estimator__min_samples_leaf=3, estimator__splitter=best, score=-0.012, total=   0.2s\n",
      "[CV] estimator__max_depth=9, estimator__max_features=None, estimator__max_leaf_nodes=20, estimator__min_samples_leaf=3, estimator__splitter=best \n",
      "[CV]  estimator__max_depth=9, estimator__max_features=None, estimator__max_leaf_nodes=20, estimator__min_samples_leaf=3, estimator__splitter=best, score=-0.012, total=   0.2s\n",
      "[CV] estimator__max_depth=9, estimator__max_features=None, estimator__max_leaf_nodes=20, estimator__min_samples_leaf=3, estimator__splitter=best \n",
      "[CV]  estimator__max_depth=9, estimator__max_features=None, estimator__max_leaf_nodes=20, estimator__min_samples_leaf=3, estimator__splitter=best, score=-0.011, total=   0.2s\n",
      "[CV] estimator__max_depth=9, estimator__max_features=None, estimator__max_leaf_nodes=20, estimator__min_samples_leaf=3, estimator__splitter=random \n"
     ]
    },
    {
     "name": "stderr",
     "output_type": "stream",
     "text": [
      "/home/abhinav/anaconda3/lib/python3.8/site-packages/sklearn/multiclass.py:76: UserWarning: Label not 10 is present in all training examples.\n",
      "  warnings.warn(\"Label %s is present in all training examples.\" %\n"
     ]
    },
    {
     "name": "stdout",
     "output_type": "stream",
     "text": [
      "[CV]  estimator__max_depth=9, estimator__max_features=None, estimator__max_leaf_nodes=20, estimator__min_samples_leaf=3, estimator__splitter=random, score=-0.014, total=   0.2s\n",
      "[CV] estimator__max_depth=9, estimator__max_features=None, estimator__max_leaf_nodes=20, estimator__min_samples_leaf=3, estimator__splitter=random \n",
      "[CV]  estimator__max_depth=9, estimator__max_features=None, estimator__max_leaf_nodes=20, estimator__min_samples_leaf=3, estimator__splitter=random, score=-0.013, total=   0.2s\n",
      "[CV] estimator__max_depth=9, estimator__max_features=None, estimator__max_leaf_nodes=20, estimator__min_samples_leaf=3, estimator__splitter=random \n",
      "[CV]  estimator__max_depth=9, estimator__max_features=None, estimator__max_leaf_nodes=20, estimator__min_samples_leaf=3, estimator__splitter=random, score=-0.013, total=   0.2s\n",
      "[CV] estimator__max_depth=9, estimator__max_features=None, estimator__max_leaf_nodes=20, estimator__min_samples_leaf=5, estimator__splitter=best \n"
     ]
    },
    {
     "name": "stderr",
     "output_type": "stream",
     "text": [
      "/home/abhinav/anaconda3/lib/python3.8/site-packages/sklearn/multiclass.py:76: UserWarning: Label not 10 is present in all training examples.\n",
      "  warnings.warn(\"Label %s is present in all training examples.\" %\n"
     ]
    },
    {
     "name": "stdout",
     "output_type": "stream",
     "text": [
      "[CV]  estimator__max_depth=9, estimator__max_features=None, estimator__max_leaf_nodes=20, estimator__min_samples_leaf=5, estimator__splitter=best, score=-0.015, total=   0.2s\n",
      "[CV] estimator__max_depth=9, estimator__max_features=None, estimator__max_leaf_nodes=20, estimator__min_samples_leaf=5, estimator__splitter=best \n",
      "[CV]  estimator__max_depth=9, estimator__max_features=None, estimator__max_leaf_nodes=20, estimator__min_samples_leaf=5, estimator__splitter=best, score=-0.014, total=   0.2s\n",
      "[CV] estimator__max_depth=9, estimator__max_features=None, estimator__max_leaf_nodes=20, estimator__min_samples_leaf=5, estimator__splitter=best \n",
      "[CV]  estimator__max_depth=9, estimator__max_features=None, estimator__max_leaf_nodes=20, estimator__min_samples_leaf=5, estimator__splitter=best, score=-0.016, total=   0.2s\n",
      "[CV] estimator__max_depth=9, estimator__max_features=None, estimator__max_leaf_nodes=20, estimator__min_samples_leaf=5, estimator__splitter=random \n"
     ]
    },
    {
     "name": "stderr",
     "output_type": "stream",
     "text": [
      "/home/abhinav/anaconda3/lib/python3.8/site-packages/sklearn/multiclass.py:76: UserWarning: Label not 10 is present in all training examples.\n",
      "  warnings.warn(\"Label %s is present in all training examples.\" %\n"
     ]
    },
    {
     "name": "stdout",
     "output_type": "stream",
     "text": [
      "[CV]  estimator__max_depth=9, estimator__max_features=None, estimator__max_leaf_nodes=20, estimator__min_samples_leaf=5, estimator__splitter=random, score=-0.016, total=   0.2s\n",
      "[CV] estimator__max_depth=9, estimator__max_features=None, estimator__max_leaf_nodes=20, estimator__min_samples_leaf=5, estimator__splitter=random \n",
      "[CV]  estimator__max_depth=9, estimator__max_features=None, estimator__max_leaf_nodes=20, estimator__min_samples_leaf=5, estimator__splitter=random, score=-0.015, total=   0.2s\n",
      "[CV] estimator__max_depth=9, estimator__max_features=None, estimator__max_leaf_nodes=20, estimator__min_samples_leaf=5, estimator__splitter=random \n",
      "[CV]  estimator__max_depth=9, estimator__max_features=None, estimator__max_leaf_nodes=20, estimator__min_samples_leaf=5, estimator__splitter=random, score=-0.016, total=   0.2s\n",
      "[CV] estimator__max_depth=9, estimator__max_features=None, estimator__max_leaf_nodes=30, estimator__min_samples_leaf=1, estimator__splitter=best \n",
      "[CV]  estimator__max_depth=9, estimator__max_features=None, estimator__max_leaf_nodes=30, estimator__min_samples_leaf=1, estimator__splitter=best, score=-0.009, total=   0.2s\n",
      "[CV] estimator__max_depth=9, estimator__max_features=None, estimator__max_leaf_nodes=30, estimator__min_samples_leaf=1, estimator__splitter=best \n"
     ]
    },
    {
     "name": "stderr",
     "output_type": "stream",
     "text": [
      "/home/abhinav/anaconda3/lib/python3.8/site-packages/sklearn/multiclass.py:76: UserWarning: Label not 10 is present in all training examples.\n",
      "  warnings.warn(\"Label %s is present in all training examples.\" %\n"
     ]
    },
    {
     "name": "stdout",
     "output_type": "stream",
     "text": [
      "[CV]  estimator__max_depth=9, estimator__max_features=None, estimator__max_leaf_nodes=30, estimator__min_samples_leaf=1, estimator__splitter=best, score=-0.010, total=   0.2s\n",
      "[CV] estimator__max_depth=9, estimator__max_features=None, estimator__max_leaf_nodes=30, estimator__min_samples_leaf=1, estimator__splitter=best \n",
      "[CV]  estimator__max_depth=9, estimator__max_features=None, estimator__max_leaf_nodes=30, estimator__min_samples_leaf=1, estimator__splitter=best, score=-0.009, total=   0.2s\n",
      "[CV] estimator__max_depth=9, estimator__max_features=None, estimator__max_leaf_nodes=30, estimator__min_samples_leaf=1, estimator__splitter=random \n"
     ]
    },
    {
     "name": "stderr",
     "output_type": "stream",
     "text": [
      "/home/abhinav/anaconda3/lib/python3.8/site-packages/sklearn/multiclass.py:76: UserWarning: Label not 10 is present in all training examples.\n",
      "  warnings.warn(\"Label %s is present in all training examples.\" %\n"
     ]
    },
    {
     "name": "stdout",
     "output_type": "stream",
     "text": [
      "[CV]  estimator__max_depth=9, estimator__max_features=None, estimator__max_leaf_nodes=30, estimator__min_samples_leaf=1, estimator__splitter=random, score=-0.011, total=   0.2s\n",
      "[CV] estimator__max_depth=9, estimator__max_features=None, estimator__max_leaf_nodes=30, estimator__min_samples_leaf=1, estimator__splitter=random \n",
      "[CV]  estimator__max_depth=9, estimator__max_features=None, estimator__max_leaf_nodes=30, estimator__min_samples_leaf=1, estimator__splitter=random, score=-0.012, total=   0.2s\n",
      "[CV] estimator__max_depth=9, estimator__max_features=None, estimator__max_leaf_nodes=30, estimator__min_samples_leaf=1, estimator__splitter=random \n",
      "[CV]  estimator__max_depth=9, estimator__max_features=None, estimator__max_leaf_nodes=30, estimator__min_samples_leaf=1, estimator__splitter=random, score=-0.010, total=   0.2s\n",
      "[CV] estimator__max_depth=9, estimator__max_features=None, estimator__max_leaf_nodes=30, estimator__min_samples_leaf=3, estimator__splitter=best \n",
      "[CV]  estimator__max_depth=9, estimator__max_features=None, estimator__max_leaf_nodes=30, estimator__min_samples_leaf=3, estimator__splitter=best, score=-0.012, total=   0.2s\n",
      "[CV] estimator__max_depth=9, estimator__max_features=None, estimator__max_leaf_nodes=30, estimator__min_samples_leaf=3, estimator__splitter=best \n"
     ]
    },
    {
     "name": "stderr",
     "output_type": "stream",
     "text": [
      "/home/abhinav/anaconda3/lib/python3.8/site-packages/sklearn/multiclass.py:76: UserWarning: Label not 10 is present in all training examples.\n",
      "  warnings.warn(\"Label %s is present in all training examples.\" %\n"
     ]
    },
    {
     "name": "stdout",
     "output_type": "stream",
     "text": [
      "[CV]  estimator__max_depth=9, estimator__max_features=None, estimator__max_leaf_nodes=30, estimator__min_samples_leaf=3, estimator__splitter=best, score=-0.012, total=   0.2s\n",
      "[CV] estimator__max_depth=9, estimator__max_features=None, estimator__max_leaf_nodes=30, estimator__min_samples_leaf=3, estimator__splitter=best \n",
      "[CV]  estimator__max_depth=9, estimator__max_features=None, estimator__max_leaf_nodes=30, estimator__min_samples_leaf=3, estimator__splitter=best, score=-0.011, total=   0.2s\n",
      "[CV] estimator__max_depth=9, estimator__max_features=None, estimator__max_leaf_nodes=30, estimator__min_samples_leaf=3, estimator__splitter=random \n"
     ]
    },
    {
     "name": "stderr",
     "output_type": "stream",
     "text": [
      "/home/abhinav/anaconda3/lib/python3.8/site-packages/sklearn/multiclass.py:76: UserWarning: Label not 10 is present in all training examples.\n",
      "  warnings.warn(\"Label %s is present in all training examples.\" %\n"
     ]
    },
    {
     "name": "stdout",
     "output_type": "stream",
     "text": [
      "[CV]  estimator__max_depth=9, estimator__max_features=None, estimator__max_leaf_nodes=30, estimator__min_samples_leaf=3, estimator__splitter=random, score=-0.014, total=   0.2s\n",
      "[CV] estimator__max_depth=9, estimator__max_features=None, estimator__max_leaf_nodes=30, estimator__min_samples_leaf=3, estimator__splitter=random \n",
      "[CV]  estimator__max_depth=9, estimator__max_features=None, estimator__max_leaf_nodes=30, estimator__min_samples_leaf=3, estimator__splitter=random, score=-0.013, total=   0.2s\n",
      "[CV] estimator__max_depth=9, estimator__max_features=None, estimator__max_leaf_nodes=30, estimator__min_samples_leaf=3, estimator__splitter=random \n",
      "[CV]  estimator__max_depth=9, estimator__max_features=None, estimator__max_leaf_nodes=30, estimator__min_samples_leaf=3, estimator__splitter=random, score=-0.012, total=   0.2s\n",
      "[CV] estimator__max_depth=9, estimator__max_features=None, estimator__max_leaf_nodes=30, estimator__min_samples_leaf=5, estimator__splitter=best \n"
     ]
    },
    {
     "name": "stderr",
     "output_type": "stream",
     "text": [
      "/home/abhinav/anaconda3/lib/python3.8/site-packages/sklearn/multiclass.py:76: UserWarning: Label not 10 is present in all training examples.\n",
      "  warnings.warn(\"Label %s is present in all training examples.\" %\n"
     ]
    },
    {
     "name": "stdout",
     "output_type": "stream",
     "text": [
      "[CV]  estimator__max_depth=9, estimator__max_features=None, estimator__max_leaf_nodes=30, estimator__min_samples_leaf=5, estimator__splitter=best, score=-0.015, total=   0.2s\n",
      "[CV] estimator__max_depth=9, estimator__max_features=None, estimator__max_leaf_nodes=30, estimator__min_samples_leaf=5, estimator__splitter=best \n",
      "[CV]  estimator__max_depth=9, estimator__max_features=None, estimator__max_leaf_nodes=30, estimator__min_samples_leaf=5, estimator__splitter=best, score=-0.014, total=   0.2s\n",
      "[CV] estimator__max_depth=9, estimator__max_features=None, estimator__max_leaf_nodes=30, estimator__min_samples_leaf=5, estimator__splitter=best \n",
      "[CV]  estimator__max_depth=9, estimator__max_features=None, estimator__max_leaf_nodes=30, estimator__min_samples_leaf=5, estimator__splitter=best, score=-0.016, total=   0.3s\n",
      "[CV] estimator__max_depth=9, estimator__max_features=None, estimator__max_leaf_nodes=30, estimator__min_samples_leaf=5, estimator__splitter=random \n"
     ]
    },
    {
     "name": "stderr",
     "output_type": "stream",
     "text": [
      "/home/abhinav/anaconda3/lib/python3.8/site-packages/sklearn/multiclass.py:76: UserWarning: Label not 10 is present in all training examples.\n",
      "  warnings.warn(\"Label %s is present in all training examples.\" %\n"
     ]
    },
    {
     "name": "stdout",
     "output_type": "stream",
     "text": [
      "[CV]  estimator__max_depth=9, estimator__max_features=None, estimator__max_leaf_nodes=30, estimator__min_samples_leaf=5, estimator__splitter=random, score=-0.017, total=   0.3s\n",
      "[CV] estimator__max_depth=9, estimator__max_features=None, estimator__max_leaf_nodes=30, estimator__min_samples_leaf=5, estimator__splitter=random \n",
      "[CV]  estimator__max_depth=9, estimator__max_features=None, estimator__max_leaf_nodes=30, estimator__min_samples_leaf=5, estimator__splitter=random, score=-0.015, total=   0.2s\n",
      "[CV] estimator__max_depth=9, estimator__max_features=None, estimator__max_leaf_nodes=30, estimator__min_samples_leaf=5, estimator__splitter=random \n",
      "[CV]  estimator__max_depth=9, estimator__max_features=None, estimator__max_leaf_nodes=30, estimator__min_samples_leaf=5, estimator__splitter=random, score=-0.016, total=   0.2s\n",
      "[CV] estimator__max_depth=9, estimator__max_features=None, estimator__max_leaf_nodes=40, estimator__min_samples_leaf=1, estimator__splitter=best \n",
      "[CV]  estimator__max_depth=9, estimator__max_features=None, estimator__max_leaf_nodes=40, estimator__min_samples_leaf=1, estimator__splitter=best, score=-0.010, total=   0.1s\n",
      "[CV] estimator__max_depth=9, estimator__max_features=None, estimator__max_leaf_nodes=40, estimator__min_samples_leaf=1, estimator__splitter=best \n"
     ]
    },
    {
     "name": "stderr",
     "output_type": "stream",
     "text": [
      "/home/abhinav/anaconda3/lib/python3.8/site-packages/sklearn/multiclass.py:76: UserWarning: Label not 10 is present in all training examples.\n",
      "  warnings.warn(\"Label %s is present in all training examples.\" %\n"
     ]
    },
    {
     "name": "stdout",
     "output_type": "stream",
     "text": [
      "[CV]  estimator__max_depth=9, estimator__max_features=None, estimator__max_leaf_nodes=40, estimator__min_samples_leaf=1, estimator__splitter=best, score=-0.010, total=   0.2s\n",
      "[CV] estimator__max_depth=9, estimator__max_features=None, estimator__max_leaf_nodes=40, estimator__min_samples_leaf=1, estimator__splitter=best \n",
      "[CV]  estimator__max_depth=9, estimator__max_features=None, estimator__max_leaf_nodes=40, estimator__min_samples_leaf=1, estimator__splitter=best, score=-0.009, total=   0.2s\n",
      "[CV] estimator__max_depth=9, estimator__max_features=None, estimator__max_leaf_nodes=40, estimator__min_samples_leaf=1, estimator__splitter=random \n"
     ]
    },
    {
     "name": "stderr",
     "output_type": "stream",
     "text": [
      "/home/abhinav/anaconda3/lib/python3.8/site-packages/sklearn/multiclass.py:76: UserWarning: Label not 10 is present in all training examples.\n",
      "  warnings.warn(\"Label %s is present in all training examples.\" %\n"
     ]
    },
    {
     "name": "stdout",
     "output_type": "stream",
     "text": [
      "[CV]  estimator__max_depth=9, estimator__max_features=None, estimator__max_leaf_nodes=40, estimator__min_samples_leaf=1, estimator__splitter=random, score=-0.012, total=   0.2s\n",
      "[CV] estimator__max_depth=9, estimator__max_features=None, estimator__max_leaf_nodes=40, estimator__min_samples_leaf=1, estimator__splitter=random \n",
      "[CV]  estimator__max_depth=9, estimator__max_features=None, estimator__max_leaf_nodes=40, estimator__min_samples_leaf=1, estimator__splitter=random, score=-0.009, total=   0.2s\n",
      "[CV] estimator__max_depth=9, estimator__max_features=None, estimator__max_leaf_nodes=40, estimator__min_samples_leaf=1, estimator__splitter=random \n",
      "[CV]  estimator__max_depth=9, estimator__max_features=None, estimator__max_leaf_nodes=40, estimator__min_samples_leaf=1, estimator__splitter=random, score=-0.011, total=   0.2s\n",
      "[CV] estimator__max_depth=9, estimator__max_features=None, estimator__max_leaf_nodes=40, estimator__min_samples_leaf=3, estimator__splitter=best \n",
      "[CV]  estimator__max_depth=9, estimator__max_features=None, estimator__max_leaf_nodes=40, estimator__min_samples_leaf=3, estimator__splitter=best, score=-0.012, total=   0.2s\n",
      "[CV] estimator__max_depth=9, estimator__max_features=None, estimator__max_leaf_nodes=40, estimator__min_samples_leaf=3, estimator__splitter=best \n"
     ]
    },
    {
     "name": "stderr",
     "output_type": "stream",
     "text": [
      "/home/abhinav/anaconda3/lib/python3.8/site-packages/sklearn/multiclass.py:76: UserWarning: Label not 10 is present in all training examples.\n",
      "  warnings.warn(\"Label %s is present in all training examples.\" %\n"
     ]
    },
    {
     "name": "stdout",
     "output_type": "stream",
     "text": [
      "[CV]  estimator__max_depth=9, estimator__max_features=None, estimator__max_leaf_nodes=40, estimator__min_samples_leaf=3, estimator__splitter=best, score=-0.012, total=   0.2s\n",
      "[CV] estimator__max_depth=9, estimator__max_features=None, estimator__max_leaf_nodes=40, estimator__min_samples_leaf=3, estimator__splitter=best \n",
      "[CV]  estimator__max_depth=9, estimator__max_features=None, estimator__max_leaf_nodes=40, estimator__min_samples_leaf=3, estimator__splitter=best, score=-0.012, total=   0.2s\n",
      "[CV] estimator__max_depth=9, estimator__max_features=None, estimator__max_leaf_nodes=40, estimator__min_samples_leaf=3, estimator__splitter=random \n"
     ]
    },
    {
     "name": "stderr",
     "output_type": "stream",
     "text": [
      "/home/abhinav/anaconda3/lib/python3.8/site-packages/sklearn/multiclass.py:76: UserWarning: Label not 10 is present in all training examples.\n",
      "  warnings.warn(\"Label %s is present in all training examples.\" %\n"
     ]
    },
    {
     "name": "stdout",
     "output_type": "stream",
     "text": [
      "[CV]  estimator__max_depth=9, estimator__max_features=None, estimator__max_leaf_nodes=40, estimator__min_samples_leaf=3, estimator__splitter=random, score=-0.015, total=   0.2s\n",
      "[CV] estimator__max_depth=9, estimator__max_features=None, estimator__max_leaf_nodes=40, estimator__min_samples_leaf=3, estimator__splitter=random \n",
      "[CV]  estimator__max_depth=9, estimator__max_features=None, estimator__max_leaf_nodes=40, estimator__min_samples_leaf=3, estimator__splitter=random, score=-0.013, total=   0.2s\n",
      "[CV] estimator__max_depth=9, estimator__max_features=None, estimator__max_leaf_nodes=40, estimator__min_samples_leaf=3, estimator__splitter=random \n",
      "[CV]  estimator__max_depth=9, estimator__max_features=None, estimator__max_leaf_nodes=40, estimator__min_samples_leaf=3, estimator__splitter=random, score=-0.012, total=   0.2s\n",
      "[CV] estimator__max_depth=9, estimator__max_features=None, estimator__max_leaf_nodes=40, estimator__min_samples_leaf=5, estimator__splitter=best \n",
      "[CV]  estimator__max_depth=9, estimator__max_features=None, estimator__max_leaf_nodes=40, estimator__min_samples_leaf=5, estimator__splitter=best, score=-0.015, total=   0.2s\n",
      "[CV] estimator__max_depth=9, estimator__max_features=None, estimator__max_leaf_nodes=40, estimator__min_samples_leaf=5, estimator__splitter=best \n"
     ]
    },
    {
     "name": "stderr",
     "output_type": "stream",
     "text": [
      "/home/abhinav/anaconda3/lib/python3.8/site-packages/sklearn/multiclass.py:76: UserWarning: Label not 10 is present in all training examples.\n",
      "  warnings.warn(\"Label %s is present in all training examples.\" %\n"
     ]
    },
    {
     "name": "stdout",
     "output_type": "stream",
     "text": [
      "[CV]  estimator__max_depth=9, estimator__max_features=None, estimator__max_leaf_nodes=40, estimator__min_samples_leaf=5, estimator__splitter=best, score=-0.014, total=   0.2s\n",
      "[CV] estimator__max_depth=9, estimator__max_features=None, estimator__max_leaf_nodes=40, estimator__min_samples_leaf=5, estimator__splitter=best \n",
      "[CV]  estimator__max_depth=9, estimator__max_features=None, estimator__max_leaf_nodes=40, estimator__min_samples_leaf=5, estimator__splitter=best, score=-0.016, total=   0.2s\n",
      "[CV] estimator__max_depth=9, estimator__max_features=None, estimator__max_leaf_nodes=40, estimator__min_samples_leaf=5, estimator__splitter=random \n"
     ]
    },
    {
     "name": "stderr",
     "output_type": "stream",
     "text": [
      "/home/abhinav/anaconda3/lib/python3.8/site-packages/sklearn/multiclass.py:76: UserWarning: Label not 10 is present in all training examples.\n",
      "  warnings.warn(\"Label %s is present in all training examples.\" %\n"
     ]
    },
    {
     "name": "stdout",
     "output_type": "stream",
     "text": [
      "[CV]  estimator__max_depth=9, estimator__max_features=None, estimator__max_leaf_nodes=40, estimator__min_samples_leaf=5, estimator__splitter=random, score=-0.016, total=   0.2s\n",
      "[CV] estimator__max_depth=9, estimator__max_features=None, estimator__max_leaf_nodes=40, estimator__min_samples_leaf=5, estimator__splitter=random \n",
      "[CV]  estimator__max_depth=9, estimator__max_features=None, estimator__max_leaf_nodes=40, estimator__min_samples_leaf=5, estimator__splitter=random, score=-0.015, total=   0.2s\n",
      "[CV] estimator__max_depth=9, estimator__max_features=None, estimator__max_leaf_nodes=40, estimator__min_samples_leaf=5, estimator__splitter=random \n",
      "[CV]  estimator__max_depth=9, estimator__max_features=None, estimator__max_leaf_nodes=40, estimator__min_samples_leaf=5, estimator__splitter=random, score=-0.016, total=   0.2s\n",
      "[CV] estimator__max_depth=9, estimator__max_features=None, estimator__max_leaf_nodes=50, estimator__min_samples_leaf=1, estimator__splitter=best \n",
      "[CV]  estimator__max_depth=9, estimator__max_features=None, estimator__max_leaf_nodes=50, estimator__min_samples_leaf=1, estimator__splitter=best, score=-0.010, total=   0.1s\n",
      "[CV] estimator__max_depth=9, estimator__max_features=None, estimator__max_leaf_nodes=50, estimator__min_samples_leaf=1, estimator__splitter=best \n"
     ]
    },
    {
     "name": "stderr",
     "output_type": "stream",
     "text": [
      "/home/abhinav/anaconda3/lib/python3.8/site-packages/sklearn/multiclass.py:76: UserWarning: Label not 10 is present in all training examples.\n",
      "  warnings.warn(\"Label %s is present in all training examples.\" %\n"
     ]
    },
    {
     "name": "stdout",
     "output_type": "stream",
     "text": [
      "[CV]  estimator__max_depth=9, estimator__max_features=None, estimator__max_leaf_nodes=50, estimator__min_samples_leaf=1, estimator__splitter=best, score=-0.011, total=   0.2s\n",
      "[CV] estimator__max_depth=9, estimator__max_features=None, estimator__max_leaf_nodes=50, estimator__min_samples_leaf=1, estimator__splitter=best \n",
      "[CV]  estimator__max_depth=9, estimator__max_features=None, estimator__max_leaf_nodes=50, estimator__min_samples_leaf=1, estimator__splitter=best, score=-0.009, total=   0.1s\n",
      "[CV] estimator__max_depth=9, estimator__max_features=None, estimator__max_leaf_nodes=50, estimator__min_samples_leaf=1, estimator__splitter=random \n"
     ]
    },
    {
     "name": "stderr",
     "output_type": "stream",
     "text": [
      "/home/abhinav/anaconda3/lib/python3.8/site-packages/sklearn/multiclass.py:76: UserWarning: Label not 10 is present in all training examples.\n",
      "  warnings.warn(\"Label %s is present in all training examples.\" %\n"
     ]
    },
    {
     "name": "stdout",
     "output_type": "stream",
     "text": [
      "[CV]  estimator__max_depth=9, estimator__max_features=None, estimator__max_leaf_nodes=50, estimator__min_samples_leaf=1, estimator__splitter=random, score=-0.011, total=   0.2s\n",
      "[CV] estimator__max_depth=9, estimator__max_features=None, estimator__max_leaf_nodes=50, estimator__min_samples_leaf=1, estimator__splitter=random \n",
      "[CV]  estimator__max_depth=9, estimator__max_features=None, estimator__max_leaf_nodes=50, estimator__min_samples_leaf=1, estimator__splitter=random, score=-0.011, total=   0.2s\n",
      "[CV] estimator__max_depth=9, estimator__max_features=None, estimator__max_leaf_nodes=50, estimator__min_samples_leaf=1, estimator__splitter=random \n",
      "[CV]  estimator__max_depth=9, estimator__max_features=None, estimator__max_leaf_nodes=50, estimator__min_samples_leaf=1, estimator__splitter=random, score=-0.010, total=   0.2s\n",
      "[CV] estimator__max_depth=9, estimator__max_features=None, estimator__max_leaf_nodes=50, estimator__min_samples_leaf=3, estimator__splitter=best \n",
      "[CV]  estimator__max_depth=9, estimator__max_features=None, estimator__max_leaf_nodes=50, estimator__min_samples_leaf=3, estimator__splitter=best, score=-0.012, total=   0.2s\n",
      "[CV] estimator__max_depth=9, estimator__max_features=None, estimator__max_leaf_nodes=50, estimator__min_samples_leaf=3, estimator__splitter=best \n"
     ]
    },
    {
     "name": "stderr",
     "output_type": "stream",
     "text": [
      "/home/abhinav/anaconda3/lib/python3.8/site-packages/sklearn/multiclass.py:76: UserWarning: Label not 10 is present in all training examples.\n",
      "  warnings.warn(\"Label %s is present in all training examples.\" %\n"
     ]
    },
    {
     "name": "stdout",
     "output_type": "stream",
     "text": [
      "[CV]  estimator__max_depth=9, estimator__max_features=None, estimator__max_leaf_nodes=50, estimator__min_samples_leaf=3, estimator__splitter=best, score=-0.012, total=   0.2s\n",
      "[CV] estimator__max_depth=9, estimator__max_features=None, estimator__max_leaf_nodes=50, estimator__min_samples_leaf=3, estimator__splitter=best \n",
      "[CV]  estimator__max_depth=9, estimator__max_features=None, estimator__max_leaf_nodes=50, estimator__min_samples_leaf=3, estimator__splitter=best, score=-0.011, total=   0.2s\n",
      "[CV] estimator__max_depth=9, estimator__max_features=None, estimator__max_leaf_nodes=50, estimator__min_samples_leaf=3, estimator__splitter=random \n"
     ]
    },
    {
     "name": "stderr",
     "output_type": "stream",
     "text": [
      "/home/abhinav/anaconda3/lib/python3.8/site-packages/sklearn/multiclass.py:76: UserWarning: Label not 10 is present in all training examples.\n",
      "  warnings.warn(\"Label %s is present in all training examples.\" %\n"
     ]
    },
    {
     "name": "stdout",
     "output_type": "stream",
     "text": [
      "[CV]  estimator__max_depth=9, estimator__max_features=None, estimator__max_leaf_nodes=50, estimator__min_samples_leaf=3, estimator__splitter=random, score=-0.014, total=   0.2s\n",
      "[CV] estimator__max_depth=9, estimator__max_features=None, estimator__max_leaf_nodes=50, estimator__min_samples_leaf=3, estimator__splitter=random \n",
      "[CV]  estimator__max_depth=9, estimator__max_features=None, estimator__max_leaf_nodes=50, estimator__min_samples_leaf=3, estimator__splitter=random, score=-0.012, total=   0.2s\n",
      "[CV] estimator__max_depth=9, estimator__max_features=None, estimator__max_leaf_nodes=50, estimator__min_samples_leaf=3, estimator__splitter=random \n",
      "[CV]  estimator__max_depth=9, estimator__max_features=None, estimator__max_leaf_nodes=50, estimator__min_samples_leaf=3, estimator__splitter=random, score=-0.013, total=   0.2s\n",
      "[CV] estimator__max_depth=9, estimator__max_features=None, estimator__max_leaf_nodes=50, estimator__min_samples_leaf=5, estimator__splitter=best \n",
      "[CV]  estimator__max_depth=9, estimator__max_features=None, estimator__max_leaf_nodes=50, estimator__min_samples_leaf=5, estimator__splitter=best, score=-0.015, total=   0.2s\n",
      "[CV] estimator__max_depth=9, estimator__max_features=None, estimator__max_leaf_nodes=50, estimator__min_samples_leaf=5, estimator__splitter=best \n"
     ]
    },
    {
     "name": "stderr",
     "output_type": "stream",
     "text": [
      "/home/abhinav/anaconda3/lib/python3.8/site-packages/sklearn/multiclass.py:76: UserWarning: Label not 10 is present in all training examples.\n",
      "  warnings.warn(\"Label %s is present in all training examples.\" %\n"
     ]
    },
    {
     "name": "stdout",
     "output_type": "stream",
     "text": [
      "[CV]  estimator__max_depth=9, estimator__max_features=None, estimator__max_leaf_nodes=50, estimator__min_samples_leaf=5, estimator__splitter=best, score=-0.014, total=   0.2s\n",
      "[CV] estimator__max_depth=9, estimator__max_features=None, estimator__max_leaf_nodes=50, estimator__min_samples_leaf=5, estimator__splitter=best \n",
      "[CV]  estimator__max_depth=9, estimator__max_features=None, estimator__max_leaf_nodes=50, estimator__min_samples_leaf=5, estimator__splitter=best, score=-0.016, total=   0.2s\n",
      "[CV] estimator__max_depth=9, estimator__max_features=None, estimator__max_leaf_nodes=50, estimator__min_samples_leaf=5, estimator__splitter=random \n"
     ]
    },
    {
     "name": "stderr",
     "output_type": "stream",
     "text": [
      "/home/abhinav/anaconda3/lib/python3.8/site-packages/sklearn/multiclass.py:76: UserWarning: Label not 10 is present in all training examples.\n",
      "  warnings.warn(\"Label %s is present in all training examples.\" %\n"
     ]
    },
    {
     "name": "stdout",
     "output_type": "stream",
     "text": [
      "[CV]  estimator__max_depth=9, estimator__max_features=None, estimator__max_leaf_nodes=50, estimator__min_samples_leaf=5, estimator__splitter=random, score=-0.016, total=   0.2s\n",
      "[CV] estimator__max_depth=9, estimator__max_features=None, estimator__max_leaf_nodes=50, estimator__min_samples_leaf=5, estimator__splitter=random \n",
      "[CV]  estimator__max_depth=9, estimator__max_features=None, estimator__max_leaf_nodes=50, estimator__min_samples_leaf=5, estimator__splitter=random, score=-0.014, total=   0.2s\n",
      "[CV] estimator__max_depth=9, estimator__max_features=None, estimator__max_leaf_nodes=50, estimator__min_samples_leaf=5, estimator__splitter=random \n",
      "[CV]  estimator__max_depth=9, estimator__max_features=None, estimator__max_leaf_nodes=50, estimator__min_samples_leaf=5, estimator__splitter=random, score=-0.016, total=   0.2s\n",
      "[CV] estimator__max_depth=9, estimator__max_features=None, estimator__max_leaf_nodes=70, estimator__min_samples_leaf=1, estimator__splitter=best \n"
     ]
    },
    {
     "name": "stderr",
     "output_type": "stream",
     "text": [
      "/home/abhinav/anaconda3/lib/python3.8/site-packages/sklearn/multiclass.py:76: UserWarning: Label not 10 is present in all training examples.\n",
      "  warnings.warn(\"Label %s is present in all training examples.\" %\n"
     ]
    },
    {
     "name": "stdout",
     "output_type": "stream",
     "text": [
      "[CV]  estimator__max_depth=9, estimator__max_features=None, estimator__max_leaf_nodes=70, estimator__min_samples_leaf=1, estimator__splitter=best, score=-0.010, total=   0.2s\n",
      "[CV] estimator__max_depth=9, estimator__max_features=None, estimator__max_leaf_nodes=70, estimator__min_samples_leaf=1, estimator__splitter=best \n",
      "[CV]  estimator__max_depth=9, estimator__max_features=None, estimator__max_leaf_nodes=70, estimator__min_samples_leaf=1, estimator__splitter=best, score=-0.010, total=   0.2s\n",
      "[CV] estimator__max_depth=9, estimator__max_features=None, estimator__max_leaf_nodes=70, estimator__min_samples_leaf=1, estimator__splitter=best \n",
      "[CV]  estimator__max_depth=9, estimator__max_features=None, estimator__max_leaf_nodes=70, estimator__min_samples_leaf=1, estimator__splitter=best, score=-0.009, total=   0.2s\n",
      "[CV] estimator__max_depth=9, estimator__max_features=None, estimator__max_leaf_nodes=70, estimator__min_samples_leaf=1, estimator__splitter=random \n",
      "[CV]  estimator__max_depth=9, estimator__max_features=None, estimator__max_leaf_nodes=70, estimator__min_samples_leaf=1, estimator__splitter=random, score=-0.012, total=   0.2s\n",
      "[CV] estimator__max_depth=9, estimator__max_features=None, estimator__max_leaf_nodes=70, estimator__min_samples_leaf=1, estimator__splitter=random \n"
     ]
    },
    {
     "name": "stderr",
     "output_type": "stream",
     "text": [
      "/home/abhinav/anaconda3/lib/python3.8/site-packages/sklearn/multiclass.py:76: UserWarning: Label not 10 is present in all training examples.\n",
      "  warnings.warn(\"Label %s is present in all training examples.\" %\n"
     ]
    },
    {
     "name": "stdout",
     "output_type": "stream",
     "text": [
      "[CV]  estimator__max_depth=9, estimator__max_features=None, estimator__max_leaf_nodes=70, estimator__min_samples_leaf=1, estimator__splitter=random, score=-0.011, total=   0.2s\n",
      "[CV] estimator__max_depth=9, estimator__max_features=None, estimator__max_leaf_nodes=70, estimator__min_samples_leaf=1, estimator__splitter=random \n",
      "[CV]  estimator__max_depth=9, estimator__max_features=None, estimator__max_leaf_nodes=70, estimator__min_samples_leaf=1, estimator__splitter=random, score=-0.011, total=   0.2s\n",
      "[CV] estimator__max_depth=9, estimator__max_features=None, estimator__max_leaf_nodes=70, estimator__min_samples_leaf=3, estimator__splitter=best \n"
     ]
    },
    {
     "name": "stderr",
     "output_type": "stream",
     "text": [
      "/home/abhinav/anaconda3/lib/python3.8/site-packages/sklearn/multiclass.py:76: UserWarning: Label not 10 is present in all training examples.\n",
      "  warnings.warn(\"Label %s is present in all training examples.\" %\n"
     ]
    },
    {
     "name": "stdout",
     "output_type": "stream",
     "text": [
      "[CV]  estimator__max_depth=9, estimator__max_features=None, estimator__max_leaf_nodes=70, estimator__min_samples_leaf=3, estimator__splitter=best, score=-0.012, total=   0.2s\n",
      "[CV] estimator__max_depth=9, estimator__max_features=None, estimator__max_leaf_nodes=70, estimator__min_samples_leaf=3, estimator__splitter=best \n",
      "[CV]  estimator__max_depth=9, estimator__max_features=None, estimator__max_leaf_nodes=70, estimator__min_samples_leaf=3, estimator__splitter=best, score=-0.012, total=   0.2s\n",
      "[CV] estimator__max_depth=9, estimator__max_features=None, estimator__max_leaf_nodes=70, estimator__min_samples_leaf=3, estimator__splitter=best \n",
      "[CV]  estimator__max_depth=9, estimator__max_features=None, estimator__max_leaf_nodes=70, estimator__min_samples_leaf=3, estimator__splitter=best, score=-0.012, total=   0.2s\n",
      "[CV] estimator__max_depth=9, estimator__max_features=None, estimator__max_leaf_nodes=70, estimator__min_samples_leaf=3, estimator__splitter=random \n",
      "[CV]  estimator__max_depth=9, estimator__max_features=None, estimator__max_leaf_nodes=70, estimator__min_samples_leaf=3, estimator__splitter=random, score=-0.013, total=   0.2s\n",
      "[CV] estimator__max_depth=9, estimator__max_features=None, estimator__max_leaf_nodes=70, estimator__min_samples_leaf=3, estimator__splitter=random \n"
     ]
    },
    {
     "name": "stderr",
     "output_type": "stream",
     "text": [
      "/home/abhinav/anaconda3/lib/python3.8/site-packages/sklearn/multiclass.py:76: UserWarning: Label not 10 is present in all training examples.\n",
      "  warnings.warn(\"Label %s is present in all training examples.\" %\n"
     ]
    },
    {
     "name": "stdout",
     "output_type": "stream",
     "text": [
      "[CV]  estimator__max_depth=9, estimator__max_features=None, estimator__max_leaf_nodes=70, estimator__min_samples_leaf=3, estimator__splitter=random, score=-0.013, total=   0.2s\n",
      "[CV] estimator__max_depth=9, estimator__max_features=None, estimator__max_leaf_nodes=70, estimator__min_samples_leaf=3, estimator__splitter=random \n",
      "[CV]  estimator__max_depth=9, estimator__max_features=None, estimator__max_leaf_nodes=70, estimator__min_samples_leaf=3, estimator__splitter=random, score=-0.012, total=   0.2s\n",
      "[CV] estimator__max_depth=9, estimator__max_features=None, estimator__max_leaf_nodes=70, estimator__min_samples_leaf=5, estimator__splitter=best \n"
     ]
    },
    {
     "name": "stderr",
     "output_type": "stream",
     "text": [
      "/home/abhinav/anaconda3/lib/python3.8/site-packages/sklearn/multiclass.py:76: UserWarning: Label not 10 is present in all training examples.\n",
      "  warnings.warn(\"Label %s is present in all training examples.\" %\n"
     ]
    },
    {
     "name": "stdout",
     "output_type": "stream",
     "text": [
      "[CV]  estimator__max_depth=9, estimator__max_features=None, estimator__max_leaf_nodes=70, estimator__min_samples_leaf=5, estimator__splitter=best, score=-0.015, total=   0.2s\n",
      "[CV] estimator__max_depth=9, estimator__max_features=None, estimator__max_leaf_nodes=70, estimator__min_samples_leaf=5, estimator__splitter=best \n",
      "[CV]  estimator__max_depth=9, estimator__max_features=None, estimator__max_leaf_nodes=70, estimator__min_samples_leaf=5, estimator__splitter=best, score=-0.014, total=   0.2s\n",
      "[CV] estimator__max_depth=9, estimator__max_features=None, estimator__max_leaf_nodes=70, estimator__min_samples_leaf=5, estimator__splitter=best \n",
      "[CV]  estimator__max_depth=9, estimator__max_features=None, estimator__max_leaf_nodes=70, estimator__min_samples_leaf=5, estimator__splitter=best, score=-0.016, total=   0.2s\n",
      "[CV] estimator__max_depth=9, estimator__max_features=None, estimator__max_leaf_nodes=70, estimator__min_samples_leaf=5, estimator__splitter=random \n"
     ]
    },
    {
     "name": "stderr",
     "output_type": "stream",
     "text": [
      "/home/abhinav/anaconda3/lib/python3.8/site-packages/sklearn/multiclass.py:76: UserWarning: Label not 10 is present in all training examples.\n",
      "  warnings.warn(\"Label %s is present in all training examples.\" %\n"
     ]
    },
    {
     "name": "stdout",
     "output_type": "stream",
     "text": [
      "[CV]  estimator__max_depth=9, estimator__max_features=None, estimator__max_leaf_nodes=70, estimator__min_samples_leaf=5, estimator__splitter=random, score=-0.017, total=   0.2s\n",
      "[CV] estimator__max_depth=9, estimator__max_features=None, estimator__max_leaf_nodes=70, estimator__min_samples_leaf=5, estimator__splitter=random \n",
      "[CV]  estimator__max_depth=9, estimator__max_features=None, estimator__max_leaf_nodes=70, estimator__min_samples_leaf=5, estimator__splitter=random, score=-0.015, total=   0.2s\n",
      "[CV] estimator__max_depth=9, estimator__max_features=None, estimator__max_leaf_nodes=70, estimator__min_samples_leaf=5, estimator__splitter=random \n",
      "[CV]  estimator__max_depth=9, estimator__max_features=None, estimator__max_leaf_nodes=70, estimator__min_samples_leaf=5, estimator__splitter=random, score=-0.016, total=   0.2s\n",
      "[CV] estimator__max_depth=17, estimator__max_features=auto, estimator__max_leaf_nodes=None, estimator__min_samples_leaf=1, estimator__splitter=best \n"
     ]
    },
    {
     "name": "stderr",
     "output_type": "stream",
     "text": [
      "/home/abhinav/anaconda3/lib/python3.8/site-packages/sklearn/multiclass.py:76: UserWarning: Label not 10 is present in all training examples.\n",
      "  warnings.warn(\"Label %s is present in all training examples.\" %\n"
     ]
    },
    {
     "name": "stdout",
     "output_type": "stream",
     "text": [
      "[CV]  estimator__max_depth=17, estimator__max_features=auto, estimator__max_leaf_nodes=None, estimator__min_samples_leaf=1, estimator__splitter=best, score=-0.018, total=   0.1s\n",
      "[CV] estimator__max_depth=17, estimator__max_features=auto, estimator__max_leaf_nodes=None, estimator__min_samples_leaf=1, estimator__splitter=best \n",
      "[CV]  estimator__max_depth=17, estimator__max_features=auto, estimator__max_leaf_nodes=None, estimator__min_samples_leaf=1, estimator__splitter=best, score=-0.015, total=   0.1s\n",
      "[CV] estimator__max_depth=17, estimator__max_features=auto, estimator__max_leaf_nodes=None, estimator__min_samples_leaf=1, estimator__splitter=best \n",
      "[CV]  estimator__max_depth=17, estimator__max_features=auto, estimator__max_leaf_nodes=None, estimator__min_samples_leaf=1, estimator__splitter=best, score=-0.017, total=   0.1s\n",
      "[CV] estimator__max_depth=17, estimator__max_features=auto, estimator__max_leaf_nodes=None, estimator__min_samples_leaf=1, estimator__splitter=random \n"
     ]
    },
    {
     "name": "stderr",
     "output_type": "stream",
     "text": [
      "/home/abhinav/anaconda3/lib/python3.8/site-packages/sklearn/multiclass.py:76: UserWarning: Label not 10 is present in all training examples.\n",
      "  warnings.warn(\"Label %s is present in all training examples.\" %\n"
     ]
    },
    {
     "name": "stdout",
     "output_type": "stream",
     "text": [
      "[CV]  estimator__max_depth=17, estimator__max_features=auto, estimator__max_leaf_nodes=None, estimator__min_samples_leaf=1, estimator__splitter=random, score=-0.016, total=   0.1s\n",
      "[CV] estimator__max_depth=17, estimator__max_features=auto, estimator__max_leaf_nodes=None, estimator__min_samples_leaf=1, estimator__splitter=random \n",
      "[CV]  estimator__max_depth=17, estimator__max_features=auto, estimator__max_leaf_nodes=None, estimator__min_samples_leaf=1, estimator__splitter=random, score=-0.018, total=   0.1s\n",
      "[CV] estimator__max_depth=17, estimator__max_features=auto, estimator__max_leaf_nodes=None, estimator__min_samples_leaf=1, estimator__splitter=random \n",
      "[CV]  estimator__max_depth=17, estimator__max_features=auto, estimator__max_leaf_nodes=None, estimator__min_samples_leaf=1, estimator__splitter=random, score=-0.018, total=   0.1s\n",
      "[CV] estimator__max_depth=17, estimator__max_features=auto, estimator__max_leaf_nodes=None, estimator__min_samples_leaf=3, estimator__splitter=best \n"
     ]
    },
    {
     "name": "stderr",
     "output_type": "stream",
     "text": [
      "/home/abhinav/anaconda3/lib/python3.8/site-packages/sklearn/multiclass.py:76: UserWarning: Label not 10 is present in all training examples.\n",
      "  warnings.warn(\"Label %s is present in all training examples.\" %\n"
     ]
    },
    {
     "name": "stdout",
     "output_type": "stream",
     "text": [
      "[CV]  estimator__max_depth=17, estimator__max_features=auto, estimator__max_leaf_nodes=None, estimator__min_samples_leaf=3, estimator__splitter=best, score=-0.017, total=   0.1s\n",
      "[CV] estimator__max_depth=17, estimator__max_features=auto, estimator__max_leaf_nodes=None, estimator__min_samples_leaf=3, estimator__splitter=best \n",
      "[CV]  estimator__max_depth=17, estimator__max_features=auto, estimator__max_leaf_nodes=None, estimator__min_samples_leaf=3, estimator__splitter=best, score=-0.017, total=   0.1s\n",
      "[CV] estimator__max_depth=17, estimator__max_features=auto, estimator__max_leaf_nodes=None, estimator__min_samples_leaf=3, estimator__splitter=best \n",
      "[CV]  estimator__max_depth=17, estimator__max_features=auto, estimator__max_leaf_nodes=None, estimator__min_samples_leaf=3, estimator__splitter=best, score=-0.018, total=   0.1s\n",
      "[CV] estimator__max_depth=17, estimator__max_features=auto, estimator__max_leaf_nodes=None, estimator__min_samples_leaf=3, estimator__splitter=random \n"
     ]
    },
    {
     "name": "stderr",
     "output_type": "stream",
     "text": [
      "/home/abhinav/anaconda3/lib/python3.8/site-packages/sklearn/multiclass.py:76: UserWarning: Label not 10 is present in all training examples.\n",
      "  warnings.warn(\"Label %s is present in all training examples.\" %\n"
     ]
    },
    {
     "name": "stdout",
     "output_type": "stream",
     "text": [
      "[CV]  estimator__max_depth=17, estimator__max_features=auto, estimator__max_leaf_nodes=None, estimator__min_samples_leaf=3, estimator__splitter=random, score=-0.018, total=   0.1s\n",
      "[CV] estimator__max_depth=17, estimator__max_features=auto, estimator__max_leaf_nodes=None, estimator__min_samples_leaf=3, estimator__splitter=random \n",
      "[CV]  estimator__max_depth=17, estimator__max_features=auto, estimator__max_leaf_nodes=None, estimator__min_samples_leaf=3, estimator__splitter=random, score=-0.017, total=   0.1s\n",
      "[CV] estimator__max_depth=17, estimator__max_features=auto, estimator__max_leaf_nodes=None, estimator__min_samples_leaf=3, estimator__splitter=random \n",
      "[CV]  estimator__max_depth=17, estimator__max_features=auto, estimator__max_leaf_nodes=None, estimator__min_samples_leaf=3, estimator__splitter=random, score=-0.017, total=   0.1s\n",
      "[CV] estimator__max_depth=17, estimator__max_features=auto, estimator__max_leaf_nodes=None, estimator__min_samples_leaf=5, estimator__splitter=best \n"
     ]
    },
    {
     "name": "stderr",
     "output_type": "stream",
     "text": [
      "/home/abhinav/anaconda3/lib/python3.8/site-packages/sklearn/multiclass.py:76: UserWarning: Label not 10 is present in all training examples.\n",
      "  warnings.warn(\"Label %s is present in all training examples.\" %\n"
     ]
    },
    {
     "name": "stdout",
     "output_type": "stream",
     "text": [
      "[CV]  estimator__max_depth=17, estimator__max_features=auto, estimator__max_leaf_nodes=None, estimator__min_samples_leaf=5, estimator__splitter=best, score=-0.017, total=   0.1s\n",
      "[CV] estimator__max_depth=17, estimator__max_features=auto, estimator__max_leaf_nodes=None, estimator__min_samples_leaf=5, estimator__splitter=best \n",
      "[CV]  estimator__max_depth=17, estimator__max_features=auto, estimator__max_leaf_nodes=None, estimator__min_samples_leaf=5, estimator__splitter=best, score=-0.018, total=   0.1s\n",
      "[CV] estimator__max_depth=17, estimator__max_features=auto, estimator__max_leaf_nodes=None, estimator__min_samples_leaf=5, estimator__splitter=best \n",
      "[CV]  estimator__max_depth=17, estimator__max_features=auto, estimator__max_leaf_nodes=None, estimator__min_samples_leaf=5, estimator__splitter=best, score=-0.018, total=   0.1s\n",
      "[CV] estimator__max_depth=17, estimator__max_features=auto, estimator__max_leaf_nodes=None, estimator__min_samples_leaf=5, estimator__splitter=random \n"
     ]
    },
    {
     "name": "stderr",
     "output_type": "stream",
     "text": [
      "/home/abhinav/anaconda3/lib/python3.8/site-packages/sklearn/multiclass.py:76: UserWarning: Label not 10 is present in all training examples.\n",
      "  warnings.warn(\"Label %s is present in all training examples.\" %\n"
     ]
    },
    {
     "name": "stdout",
     "output_type": "stream",
     "text": [
      "[CV]  estimator__max_depth=17, estimator__max_features=auto, estimator__max_leaf_nodes=None, estimator__min_samples_leaf=5, estimator__splitter=random, score=-0.018, total=   0.1s\n",
      "[CV] estimator__max_depth=17, estimator__max_features=auto, estimator__max_leaf_nodes=None, estimator__min_samples_leaf=5, estimator__splitter=random \n",
      "[CV]  estimator__max_depth=17, estimator__max_features=auto, estimator__max_leaf_nodes=None, estimator__min_samples_leaf=5, estimator__splitter=random, score=-0.018, total=   0.1s\n",
      "[CV] estimator__max_depth=17, estimator__max_features=auto, estimator__max_leaf_nodes=None, estimator__min_samples_leaf=5, estimator__splitter=random \n",
      "[CV]  estimator__max_depth=17, estimator__max_features=auto, estimator__max_leaf_nodes=None, estimator__min_samples_leaf=5, estimator__splitter=random, score=-0.018, total=   0.1s\n",
      "[CV] estimator__max_depth=17, estimator__max_features=auto, estimator__max_leaf_nodes=10, estimator__min_samples_leaf=1, estimator__splitter=best \n"
     ]
    },
    {
     "name": "stderr",
     "output_type": "stream",
     "text": [
      "/home/abhinav/anaconda3/lib/python3.8/site-packages/sklearn/multiclass.py:76: UserWarning: Label not 10 is present in all training examples.\n",
      "  warnings.warn(\"Label %s is present in all training examples.\" %\n"
     ]
    },
    {
     "name": "stdout",
     "output_type": "stream",
     "text": [
      "[CV]  estimator__max_depth=17, estimator__max_features=auto, estimator__max_leaf_nodes=10, estimator__min_samples_leaf=1, estimator__splitter=best, score=-0.016, total=   0.1s\n",
      "[CV] estimator__max_depth=17, estimator__max_features=auto, estimator__max_leaf_nodes=10, estimator__min_samples_leaf=1, estimator__splitter=best \n",
      "[CV]  estimator__max_depth=17, estimator__max_features=auto, estimator__max_leaf_nodes=10, estimator__min_samples_leaf=1, estimator__splitter=best, score=-0.017, total=   0.1s\n",
      "[CV] estimator__max_depth=17, estimator__max_features=auto, estimator__max_leaf_nodes=10, estimator__min_samples_leaf=1, estimator__splitter=best \n",
      "[CV]  estimator__max_depth=17, estimator__max_features=auto, estimator__max_leaf_nodes=10, estimator__min_samples_leaf=1, estimator__splitter=best, score=-0.017, total=   0.1s\n",
      "[CV] estimator__max_depth=17, estimator__max_features=auto, estimator__max_leaf_nodes=10, estimator__min_samples_leaf=1, estimator__splitter=random \n"
     ]
    },
    {
     "name": "stderr",
     "output_type": "stream",
     "text": [
      "/home/abhinav/anaconda3/lib/python3.8/site-packages/sklearn/multiclass.py:76: UserWarning: Label not 10 is present in all training examples.\n",
      "  warnings.warn(\"Label %s is present in all training examples.\" %\n"
     ]
    },
    {
     "name": "stdout",
     "output_type": "stream",
     "text": [
      "[CV]  estimator__max_depth=17, estimator__max_features=auto, estimator__max_leaf_nodes=10, estimator__min_samples_leaf=1, estimator__splitter=random, score=-0.017, total=   0.1s\n",
      "[CV] estimator__max_depth=17, estimator__max_features=auto, estimator__max_leaf_nodes=10, estimator__min_samples_leaf=1, estimator__splitter=random \n",
      "[CV]  estimator__max_depth=17, estimator__max_features=auto, estimator__max_leaf_nodes=10, estimator__min_samples_leaf=1, estimator__splitter=random, score=-0.017, total=   0.1s\n",
      "[CV] estimator__max_depth=17, estimator__max_features=auto, estimator__max_leaf_nodes=10, estimator__min_samples_leaf=1, estimator__splitter=random \n",
      "[CV]  estimator__max_depth=17, estimator__max_features=auto, estimator__max_leaf_nodes=10, estimator__min_samples_leaf=1, estimator__splitter=random, score=-0.017, total=   0.1s\n",
      "[CV] estimator__max_depth=17, estimator__max_features=auto, estimator__max_leaf_nodes=10, estimator__min_samples_leaf=3, estimator__splitter=best \n"
     ]
    },
    {
     "name": "stderr",
     "output_type": "stream",
     "text": [
      "/home/abhinav/anaconda3/lib/python3.8/site-packages/sklearn/multiclass.py:76: UserWarning: Label not 10 is present in all training examples.\n",
      "  warnings.warn(\"Label %s is present in all training examples.\" %\n"
     ]
    },
    {
     "name": "stdout",
     "output_type": "stream",
     "text": [
      "[CV]  estimator__max_depth=17, estimator__max_features=auto, estimator__max_leaf_nodes=10, estimator__min_samples_leaf=3, estimator__splitter=best, score=-0.018, total=   0.1s\n",
      "[CV] estimator__max_depth=17, estimator__max_features=auto, estimator__max_leaf_nodes=10, estimator__min_samples_leaf=3, estimator__splitter=best \n",
      "[CV]  estimator__max_depth=17, estimator__max_features=auto, estimator__max_leaf_nodes=10, estimator__min_samples_leaf=3, estimator__splitter=best, score=-0.018, total=   0.1s\n",
      "[CV] estimator__max_depth=17, estimator__max_features=auto, estimator__max_leaf_nodes=10, estimator__min_samples_leaf=3, estimator__splitter=best \n",
      "[CV]  estimator__max_depth=17, estimator__max_features=auto, estimator__max_leaf_nodes=10, estimator__min_samples_leaf=3, estimator__splitter=best, score=-0.017, total=   0.1s\n",
      "[CV] estimator__max_depth=17, estimator__max_features=auto, estimator__max_leaf_nodes=10, estimator__min_samples_leaf=3, estimator__splitter=random \n"
     ]
    },
    {
     "name": "stderr",
     "output_type": "stream",
     "text": [
      "/home/abhinav/anaconda3/lib/python3.8/site-packages/sklearn/multiclass.py:76: UserWarning: Label not 10 is present in all training examples.\n",
      "  warnings.warn(\"Label %s is present in all training examples.\" %\n"
     ]
    },
    {
     "name": "stdout",
     "output_type": "stream",
     "text": [
      "[CV]  estimator__max_depth=17, estimator__max_features=auto, estimator__max_leaf_nodes=10, estimator__min_samples_leaf=3, estimator__splitter=random, score=-0.018, total=   0.1s\n",
      "[CV] estimator__max_depth=17, estimator__max_features=auto, estimator__max_leaf_nodes=10, estimator__min_samples_leaf=3, estimator__splitter=random \n",
      "[CV]  estimator__max_depth=17, estimator__max_features=auto, estimator__max_leaf_nodes=10, estimator__min_samples_leaf=3, estimator__splitter=random, score=-0.017, total=   0.1s\n",
      "[CV] estimator__max_depth=17, estimator__max_features=auto, estimator__max_leaf_nodes=10, estimator__min_samples_leaf=3, estimator__splitter=random \n",
      "[CV]  estimator__max_depth=17, estimator__max_features=auto, estimator__max_leaf_nodes=10, estimator__min_samples_leaf=3, estimator__splitter=random, score=-0.018, total=   0.1s\n",
      "[CV] estimator__max_depth=17, estimator__max_features=auto, estimator__max_leaf_nodes=10, estimator__min_samples_leaf=5, estimator__splitter=best \n"
     ]
    },
    {
     "name": "stderr",
     "output_type": "stream",
     "text": [
      "/home/abhinav/anaconda3/lib/python3.8/site-packages/sklearn/multiclass.py:76: UserWarning: Label not 10 is present in all training examples.\n",
      "  warnings.warn(\"Label %s is present in all training examples.\" %\n"
     ]
    },
    {
     "name": "stdout",
     "output_type": "stream",
     "text": [
      "[CV]  estimator__max_depth=17, estimator__max_features=auto, estimator__max_leaf_nodes=10, estimator__min_samples_leaf=5, estimator__splitter=best, score=-0.018, total=   0.1s\n",
      "[CV] estimator__max_depth=17, estimator__max_features=auto, estimator__max_leaf_nodes=10, estimator__min_samples_leaf=5, estimator__splitter=best \n",
      "[CV]  estimator__max_depth=17, estimator__max_features=auto, estimator__max_leaf_nodes=10, estimator__min_samples_leaf=5, estimator__splitter=best, score=-0.018, total=   0.1s\n",
      "[CV] estimator__max_depth=17, estimator__max_features=auto, estimator__max_leaf_nodes=10, estimator__min_samples_leaf=5, estimator__splitter=best \n",
      "[CV]  estimator__max_depth=17, estimator__max_features=auto, estimator__max_leaf_nodes=10, estimator__min_samples_leaf=5, estimator__splitter=best, score=-0.018, total=   0.1s\n",
      "[CV] estimator__max_depth=17, estimator__max_features=auto, estimator__max_leaf_nodes=10, estimator__min_samples_leaf=5, estimator__splitter=random \n"
     ]
    },
    {
     "name": "stderr",
     "output_type": "stream",
     "text": [
      "/home/abhinav/anaconda3/lib/python3.8/site-packages/sklearn/multiclass.py:76: UserWarning: Label not 10 is present in all training examples.\n",
      "  warnings.warn(\"Label %s is present in all training examples.\" %\n"
     ]
    },
    {
     "name": "stdout",
     "output_type": "stream",
     "text": [
      "[CV]  estimator__max_depth=17, estimator__max_features=auto, estimator__max_leaf_nodes=10, estimator__min_samples_leaf=5, estimator__splitter=random, score=-0.018, total=   0.1s\n",
      "[CV] estimator__max_depth=17, estimator__max_features=auto, estimator__max_leaf_nodes=10, estimator__min_samples_leaf=5, estimator__splitter=random \n",
      "[CV]  estimator__max_depth=17, estimator__max_features=auto, estimator__max_leaf_nodes=10, estimator__min_samples_leaf=5, estimator__splitter=random, score=-0.018, total=   0.1s\n",
      "[CV] estimator__max_depth=17, estimator__max_features=auto, estimator__max_leaf_nodes=10, estimator__min_samples_leaf=5, estimator__splitter=random \n",
      "[CV]  estimator__max_depth=17, estimator__max_features=auto, estimator__max_leaf_nodes=10, estimator__min_samples_leaf=5, estimator__splitter=random, score=-0.018, total=   0.1s\n",
      "[CV] estimator__max_depth=17, estimator__max_features=auto, estimator__max_leaf_nodes=20, estimator__min_samples_leaf=1, estimator__splitter=best \n"
     ]
    },
    {
     "name": "stderr",
     "output_type": "stream",
     "text": [
      "/home/abhinav/anaconda3/lib/python3.8/site-packages/sklearn/multiclass.py:76: UserWarning: Label not 10 is present in all training examples.\n",
      "  warnings.warn(\"Label %s is present in all training examples.\" %\n"
     ]
    },
    {
     "name": "stdout",
     "output_type": "stream",
     "text": [
      "[CV]  estimator__max_depth=17, estimator__max_features=auto, estimator__max_leaf_nodes=20, estimator__min_samples_leaf=1, estimator__splitter=best, score=-0.015, total=   0.1s\n",
      "[CV] estimator__max_depth=17, estimator__max_features=auto, estimator__max_leaf_nodes=20, estimator__min_samples_leaf=1, estimator__splitter=best \n",
      "[CV]  estimator__max_depth=17, estimator__max_features=auto, estimator__max_leaf_nodes=20, estimator__min_samples_leaf=1, estimator__splitter=best, score=-0.017, total=   0.1s\n",
      "[CV] estimator__max_depth=17, estimator__max_features=auto, estimator__max_leaf_nodes=20, estimator__min_samples_leaf=1, estimator__splitter=best \n",
      "[CV]  estimator__max_depth=17, estimator__max_features=auto, estimator__max_leaf_nodes=20, estimator__min_samples_leaf=1, estimator__splitter=best, score=-0.015, total=   0.1s\n",
      "[CV] estimator__max_depth=17, estimator__max_features=auto, estimator__max_leaf_nodes=20, estimator__min_samples_leaf=1, estimator__splitter=random \n"
     ]
    },
    {
     "name": "stderr",
     "output_type": "stream",
     "text": [
      "/home/abhinav/anaconda3/lib/python3.8/site-packages/sklearn/multiclass.py:76: UserWarning: Label not 10 is present in all training examples.\n",
      "  warnings.warn(\"Label %s is present in all training examples.\" %\n"
     ]
    },
    {
     "name": "stdout",
     "output_type": "stream",
     "text": [
      "[CV]  estimator__max_depth=17, estimator__max_features=auto, estimator__max_leaf_nodes=20, estimator__min_samples_leaf=1, estimator__splitter=random, score=-0.015, total=   0.1s\n",
      "[CV] estimator__max_depth=17, estimator__max_features=auto, estimator__max_leaf_nodes=20, estimator__min_samples_leaf=1, estimator__splitter=random \n",
      "[CV]  estimator__max_depth=17, estimator__max_features=auto, estimator__max_leaf_nodes=20, estimator__min_samples_leaf=1, estimator__splitter=random, score=-0.017, total=   0.1s\n",
      "[CV] estimator__max_depth=17, estimator__max_features=auto, estimator__max_leaf_nodes=20, estimator__min_samples_leaf=1, estimator__splitter=random \n",
      "[CV]  estimator__max_depth=17, estimator__max_features=auto, estimator__max_leaf_nodes=20, estimator__min_samples_leaf=1, estimator__splitter=random, score=-0.015, total=   0.1s\n",
      "[CV] estimator__max_depth=17, estimator__max_features=auto, estimator__max_leaf_nodes=20, estimator__min_samples_leaf=3, estimator__splitter=best \n"
     ]
    },
    {
     "name": "stderr",
     "output_type": "stream",
     "text": [
      "/home/abhinav/anaconda3/lib/python3.8/site-packages/sklearn/multiclass.py:76: UserWarning: Label not 10 is present in all training examples.\n",
      "  warnings.warn(\"Label %s is present in all training examples.\" %\n"
     ]
    },
    {
     "name": "stdout",
     "output_type": "stream",
     "text": [
      "[CV]  estimator__max_depth=17, estimator__max_features=auto, estimator__max_leaf_nodes=20, estimator__min_samples_leaf=3, estimator__splitter=best, score=-0.016, total=   0.1s\n",
      "[CV] estimator__max_depth=17, estimator__max_features=auto, estimator__max_leaf_nodes=20, estimator__min_samples_leaf=3, estimator__splitter=best \n",
      "[CV]  estimator__max_depth=17, estimator__max_features=auto, estimator__max_leaf_nodes=20, estimator__min_samples_leaf=3, estimator__splitter=best, score=-0.016, total=   0.1s\n",
      "[CV] estimator__max_depth=17, estimator__max_features=auto, estimator__max_leaf_nodes=20, estimator__min_samples_leaf=3, estimator__splitter=best \n",
      "[CV]  estimator__max_depth=17, estimator__max_features=auto, estimator__max_leaf_nodes=20, estimator__min_samples_leaf=3, estimator__splitter=best, score=-0.017, total=   0.1s\n",
      "[CV] estimator__max_depth=17, estimator__max_features=auto, estimator__max_leaf_nodes=20, estimator__min_samples_leaf=3, estimator__splitter=random \n"
     ]
    },
    {
     "name": "stderr",
     "output_type": "stream",
     "text": [
      "/home/abhinav/anaconda3/lib/python3.8/site-packages/sklearn/multiclass.py:76: UserWarning: Label not 10 is present in all training examples.\n",
      "  warnings.warn(\"Label %s is present in all training examples.\" %\n"
     ]
    },
    {
     "name": "stdout",
     "output_type": "stream",
     "text": [
      "[CV]  estimator__max_depth=17, estimator__max_features=auto, estimator__max_leaf_nodes=20, estimator__min_samples_leaf=3, estimator__splitter=random, score=-0.018, total=   0.1s\n",
      "[CV] estimator__max_depth=17, estimator__max_features=auto, estimator__max_leaf_nodes=20, estimator__min_samples_leaf=3, estimator__splitter=random \n",
      "[CV]  estimator__max_depth=17, estimator__max_features=auto, estimator__max_leaf_nodes=20, estimator__min_samples_leaf=3, estimator__splitter=random, score=-0.018, total=   0.1s\n",
      "[CV] estimator__max_depth=17, estimator__max_features=auto, estimator__max_leaf_nodes=20, estimator__min_samples_leaf=3, estimator__splitter=random \n",
      "[CV]  estimator__max_depth=17, estimator__max_features=auto, estimator__max_leaf_nodes=20, estimator__min_samples_leaf=3, estimator__splitter=random, score=-0.018, total=   0.1s\n",
      "[CV] estimator__max_depth=17, estimator__max_features=auto, estimator__max_leaf_nodes=20, estimator__min_samples_leaf=5, estimator__splitter=best \n"
     ]
    },
    {
     "name": "stderr",
     "output_type": "stream",
     "text": [
      "/home/abhinav/anaconda3/lib/python3.8/site-packages/sklearn/multiclass.py:76: UserWarning: Label not 10 is present in all training examples.\n",
      "  warnings.warn(\"Label %s is present in all training examples.\" %\n"
     ]
    },
    {
     "name": "stdout",
     "output_type": "stream",
     "text": [
      "[CV]  estimator__max_depth=17, estimator__max_features=auto, estimator__max_leaf_nodes=20, estimator__min_samples_leaf=5, estimator__splitter=best, score=-0.017, total=   0.1s\n",
      "[CV] estimator__max_depth=17, estimator__max_features=auto, estimator__max_leaf_nodes=20, estimator__min_samples_leaf=5, estimator__splitter=best \n",
      "[CV]  estimator__max_depth=17, estimator__max_features=auto, estimator__max_leaf_nodes=20, estimator__min_samples_leaf=5, estimator__splitter=best, score=-0.017, total=   0.1s\n",
      "[CV] estimator__max_depth=17, estimator__max_features=auto, estimator__max_leaf_nodes=20, estimator__min_samples_leaf=5, estimator__splitter=best \n",
      "[CV]  estimator__max_depth=17, estimator__max_features=auto, estimator__max_leaf_nodes=20, estimator__min_samples_leaf=5, estimator__splitter=best, score=-0.018, total=   0.1s\n",
      "[CV] estimator__max_depth=17, estimator__max_features=auto, estimator__max_leaf_nodes=20, estimator__min_samples_leaf=5, estimator__splitter=random \n"
     ]
    },
    {
     "name": "stderr",
     "output_type": "stream",
     "text": [
      "/home/abhinav/anaconda3/lib/python3.8/site-packages/sklearn/multiclass.py:76: UserWarning: Label not 10 is present in all training examples.\n",
      "  warnings.warn(\"Label %s is present in all training examples.\" %\n"
     ]
    },
    {
     "name": "stdout",
     "output_type": "stream",
     "text": [
      "[CV]  estimator__max_depth=17, estimator__max_features=auto, estimator__max_leaf_nodes=20, estimator__min_samples_leaf=5, estimator__splitter=random, score=-0.018, total=   0.1s\n",
      "[CV] estimator__max_depth=17, estimator__max_features=auto, estimator__max_leaf_nodes=20, estimator__min_samples_leaf=5, estimator__splitter=random \n",
      "[CV]  estimator__max_depth=17, estimator__max_features=auto, estimator__max_leaf_nodes=20, estimator__min_samples_leaf=5, estimator__splitter=random, score=-0.018, total=   0.1s\n",
      "[CV] estimator__max_depth=17, estimator__max_features=auto, estimator__max_leaf_nodes=20, estimator__min_samples_leaf=5, estimator__splitter=random \n",
      "[CV]  estimator__max_depth=17, estimator__max_features=auto, estimator__max_leaf_nodes=20, estimator__min_samples_leaf=5, estimator__splitter=random, score=-0.018, total=   0.1s\n",
      "[CV] estimator__max_depth=17, estimator__max_features=auto, estimator__max_leaf_nodes=30, estimator__min_samples_leaf=1, estimator__splitter=best \n"
     ]
    },
    {
     "name": "stderr",
     "output_type": "stream",
     "text": [
      "/home/abhinav/anaconda3/lib/python3.8/site-packages/sklearn/multiclass.py:76: UserWarning: Label not 10 is present in all training examples.\n",
      "  warnings.warn(\"Label %s is present in all training examples.\" %\n"
     ]
    },
    {
     "name": "stdout",
     "output_type": "stream",
     "text": [
      "[CV]  estimator__max_depth=17, estimator__max_features=auto, estimator__max_leaf_nodes=30, estimator__min_samples_leaf=1, estimator__splitter=best, score=-0.016, total=   0.1s\n",
      "[CV] estimator__max_depth=17, estimator__max_features=auto, estimator__max_leaf_nodes=30, estimator__min_samples_leaf=1, estimator__splitter=best \n",
      "[CV]  estimator__max_depth=17, estimator__max_features=auto, estimator__max_leaf_nodes=30, estimator__min_samples_leaf=1, estimator__splitter=best, score=-0.016, total=   0.1s\n",
      "[CV] estimator__max_depth=17, estimator__max_features=auto, estimator__max_leaf_nodes=30, estimator__min_samples_leaf=1, estimator__splitter=best \n",
      "[CV]  estimator__max_depth=17, estimator__max_features=auto, estimator__max_leaf_nodes=30, estimator__min_samples_leaf=1, estimator__splitter=best, score=-0.018, total=   0.1s\n",
      "[CV] estimator__max_depth=17, estimator__max_features=auto, estimator__max_leaf_nodes=30, estimator__min_samples_leaf=1, estimator__splitter=random \n"
     ]
    },
    {
     "name": "stderr",
     "output_type": "stream",
     "text": [
      "/home/abhinav/anaconda3/lib/python3.8/site-packages/sklearn/multiclass.py:76: UserWarning: Label not 10 is present in all training examples.\n",
      "  warnings.warn(\"Label %s is present in all training examples.\" %\n"
     ]
    },
    {
     "name": "stdout",
     "output_type": "stream",
     "text": [
      "[CV]  estimator__max_depth=17, estimator__max_features=auto, estimator__max_leaf_nodes=30, estimator__min_samples_leaf=1, estimator__splitter=random, score=-0.018, total=   0.1s\n",
      "[CV] estimator__max_depth=17, estimator__max_features=auto, estimator__max_leaf_nodes=30, estimator__min_samples_leaf=1, estimator__splitter=random \n",
      "[CV]  estimator__max_depth=17, estimator__max_features=auto, estimator__max_leaf_nodes=30, estimator__min_samples_leaf=1, estimator__splitter=random, score=-0.015, total=   0.1s\n",
      "[CV] estimator__max_depth=17, estimator__max_features=auto, estimator__max_leaf_nodes=30, estimator__min_samples_leaf=1, estimator__splitter=random \n",
      "[CV]  estimator__max_depth=17, estimator__max_features=auto, estimator__max_leaf_nodes=30, estimator__min_samples_leaf=1, estimator__splitter=random, score=-0.016, total=   0.1s\n",
      "[CV] estimator__max_depth=17, estimator__max_features=auto, estimator__max_leaf_nodes=30, estimator__min_samples_leaf=3, estimator__splitter=best \n"
     ]
    },
    {
     "name": "stderr",
     "output_type": "stream",
     "text": [
      "/home/abhinav/anaconda3/lib/python3.8/site-packages/sklearn/multiclass.py:76: UserWarning: Label not 10 is present in all training examples.\n",
      "  warnings.warn(\"Label %s is present in all training examples.\" %\n"
     ]
    },
    {
     "name": "stdout",
     "output_type": "stream",
     "text": [
      "[CV]  estimator__max_depth=17, estimator__max_features=auto, estimator__max_leaf_nodes=30, estimator__min_samples_leaf=3, estimator__splitter=best, score=-0.017, total=   0.1s\n",
      "[CV] estimator__max_depth=17, estimator__max_features=auto, estimator__max_leaf_nodes=30, estimator__min_samples_leaf=3, estimator__splitter=best \n",
      "[CV]  estimator__max_depth=17, estimator__max_features=auto, estimator__max_leaf_nodes=30, estimator__min_samples_leaf=3, estimator__splitter=best, score=-0.016, total=   0.1s\n",
      "[CV] estimator__max_depth=17, estimator__max_features=auto, estimator__max_leaf_nodes=30, estimator__min_samples_leaf=3, estimator__splitter=best \n",
      "[CV]  estimator__max_depth=17, estimator__max_features=auto, estimator__max_leaf_nodes=30, estimator__min_samples_leaf=3, estimator__splitter=best, score=-0.017, total=   0.1s\n",
      "[CV] estimator__max_depth=17, estimator__max_features=auto, estimator__max_leaf_nodes=30, estimator__min_samples_leaf=3, estimator__splitter=random \n"
     ]
    },
    {
     "name": "stderr",
     "output_type": "stream",
     "text": [
      "/home/abhinav/anaconda3/lib/python3.8/site-packages/sklearn/multiclass.py:76: UserWarning: Label not 10 is present in all training examples.\n",
      "  warnings.warn(\"Label %s is present in all training examples.\" %\n"
     ]
    },
    {
     "name": "stdout",
     "output_type": "stream",
     "text": [
      "[CV]  estimator__max_depth=17, estimator__max_features=auto, estimator__max_leaf_nodes=30, estimator__min_samples_leaf=3, estimator__splitter=random, score=-0.017, total=   0.1s\n",
      "[CV] estimator__max_depth=17, estimator__max_features=auto, estimator__max_leaf_nodes=30, estimator__min_samples_leaf=3, estimator__splitter=random \n",
      "[CV]  estimator__max_depth=17, estimator__max_features=auto, estimator__max_leaf_nodes=30, estimator__min_samples_leaf=3, estimator__splitter=random, score=-0.017, total=   0.1s\n",
      "[CV] estimator__max_depth=17, estimator__max_features=auto, estimator__max_leaf_nodes=30, estimator__min_samples_leaf=3, estimator__splitter=random \n",
      "[CV]  estimator__max_depth=17, estimator__max_features=auto, estimator__max_leaf_nodes=30, estimator__min_samples_leaf=3, estimator__splitter=random, score=-0.017, total=   0.1s\n",
      "[CV] estimator__max_depth=17, estimator__max_features=auto, estimator__max_leaf_nodes=30, estimator__min_samples_leaf=5, estimator__splitter=best \n"
     ]
    },
    {
     "name": "stderr",
     "output_type": "stream",
     "text": [
      "/home/abhinav/anaconda3/lib/python3.8/site-packages/sklearn/multiclass.py:76: UserWarning: Label not 10 is present in all training examples.\n",
      "  warnings.warn(\"Label %s is present in all training examples.\" %\n"
     ]
    },
    {
     "name": "stdout",
     "output_type": "stream",
     "text": [
      "[CV]  estimator__max_depth=17, estimator__max_features=auto, estimator__max_leaf_nodes=30, estimator__min_samples_leaf=5, estimator__splitter=best, score=-0.018, total=   0.1s\n",
      "[CV] estimator__max_depth=17, estimator__max_features=auto, estimator__max_leaf_nodes=30, estimator__min_samples_leaf=5, estimator__splitter=best \n",
      "[CV]  estimator__max_depth=17, estimator__max_features=auto, estimator__max_leaf_nodes=30, estimator__min_samples_leaf=5, estimator__splitter=best, score=-0.018, total=   0.1s\n",
      "[CV] estimator__max_depth=17, estimator__max_features=auto, estimator__max_leaf_nodes=30, estimator__min_samples_leaf=5, estimator__splitter=best \n",
      "[CV]  estimator__max_depth=17, estimator__max_features=auto, estimator__max_leaf_nodes=30, estimator__min_samples_leaf=5, estimator__splitter=best, score=-0.018, total=   0.1s\n",
      "[CV] estimator__max_depth=17, estimator__max_features=auto, estimator__max_leaf_nodes=30, estimator__min_samples_leaf=5, estimator__splitter=random \n"
     ]
    },
    {
     "name": "stderr",
     "output_type": "stream",
     "text": [
      "/home/abhinav/anaconda3/lib/python3.8/site-packages/sklearn/multiclass.py:76: UserWarning: Label not 10 is present in all training examples.\n",
      "  warnings.warn(\"Label %s is present in all training examples.\" %\n"
     ]
    },
    {
     "name": "stdout",
     "output_type": "stream",
     "text": [
      "[CV]  estimator__max_depth=17, estimator__max_features=auto, estimator__max_leaf_nodes=30, estimator__min_samples_leaf=5, estimator__splitter=random, score=-0.018, total=   0.1s\n",
      "[CV] estimator__max_depth=17, estimator__max_features=auto, estimator__max_leaf_nodes=30, estimator__min_samples_leaf=5, estimator__splitter=random \n",
      "[CV]  estimator__max_depth=17, estimator__max_features=auto, estimator__max_leaf_nodes=30, estimator__min_samples_leaf=5, estimator__splitter=random, score=-0.018, total=   0.1s\n",
      "[CV] estimator__max_depth=17, estimator__max_features=auto, estimator__max_leaf_nodes=30, estimator__min_samples_leaf=5, estimator__splitter=random \n",
      "[CV]  estimator__max_depth=17, estimator__max_features=auto, estimator__max_leaf_nodes=30, estimator__min_samples_leaf=5, estimator__splitter=random, score=-0.018, total=   0.1s\n",
      "[CV] estimator__max_depth=17, estimator__max_features=auto, estimator__max_leaf_nodes=40, estimator__min_samples_leaf=1, estimator__splitter=best \n"
     ]
    },
    {
     "name": "stderr",
     "output_type": "stream",
     "text": [
      "/home/abhinav/anaconda3/lib/python3.8/site-packages/sklearn/multiclass.py:76: UserWarning: Label not 10 is present in all training examples.\n",
      "  warnings.warn(\"Label %s is present in all training examples.\" %\n"
     ]
    },
    {
     "name": "stdout",
     "output_type": "stream",
     "text": [
      "[CV]  estimator__max_depth=17, estimator__max_features=auto, estimator__max_leaf_nodes=40, estimator__min_samples_leaf=1, estimator__splitter=best, score=-0.016, total=   0.1s\n",
      "[CV] estimator__max_depth=17, estimator__max_features=auto, estimator__max_leaf_nodes=40, estimator__min_samples_leaf=1, estimator__splitter=best \n",
      "[CV]  estimator__max_depth=17, estimator__max_features=auto, estimator__max_leaf_nodes=40, estimator__min_samples_leaf=1, estimator__splitter=best, score=-0.017, total=   0.1s\n",
      "[CV] estimator__max_depth=17, estimator__max_features=auto, estimator__max_leaf_nodes=40, estimator__min_samples_leaf=1, estimator__splitter=best \n",
      "[CV]  estimator__max_depth=17, estimator__max_features=auto, estimator__max_leaf_nodes=40, estimator__min_samples_leaf=1, estimator__splitter=best, score=-0.016, total=   0.1s\n",
      "[CV] estimator__max_depth=17, estimator__max_features=auto, estimator__max_leaf_nodes=40, estimator__min_samples_leaf=1, estimator__splitter=random \n"
     ]
    },
    {
     "name": "stderr",
     "output_type": "stream",
     "text": [
      "/home/abhinav/anaconda3/lib/python3.8/site-packages/sklearn/multiclass.py:76: UserWarning: Label not 10 is present in all training examples.\n",
      "  warnings.warn(\"Label %s is present in all training examples.\" %\n"
     ]
    },
    {
     "name": "stdout",
     "output_type": "stream",
     "text": [
      "[CV]  estimator__max_depth=17, estimator__max_features=auto, estimator__max_leaf_nodes=40, estimator__min_samples_leaf=1, estimator__splitter=random, score=-0.016, total=   0.1s\n",
      "[CV] estimator__max_depth=17, estimator__max_features=auto, estimator__max_leaf_nodes=40, estimator__min_samples_leaf=1, estimator__splitter=random \n",
      "[CV]  estimator__max_depth=17, estimator__max_features=auto, estimator__max_leaf_nodes=40, estimator__min_samples_leaf=1, estimator__splitter=random, score=-0.016, total=   0.1s\n",
      "[CV] estimator__max_depth=17, estimator__max_features=auto, estimator__max_leaf_nodes=40, estimator__min_samples_leaf=1, estimator__splitter=random \n",
      "[CV]  estimator__max_depth=17, estimator__max_features=auto, estimator__max_leaf_nodes=40, estimator__min_samples_leaf=1, estimator__splitter=random, score=-0.015, total=   0.1s\n",
      "[CV] estimator__max_depth=17, estimator__max_features=auto, estimator__max_leaf_nodes=40, estimator__min_samples_leaf=3, estimator__splitter=best \n"
     ]
    },
    {
     "name": "stderr",
     "output_type": "stream",
     "text": [
      "/home/abhinav/anaconda3/lib/python3.8/site-packages/sklearn/multiclass.py:76: UserWarning: Label not 10 is present in all training examples.\n",
      "  warnings.warn(\"Label %s is present in all training examples.\" %\n"
     ]
    },
    {
     "name": "stdout",
     "output_type": "stream",
     "text": [
      "[CV]  estimator__max_depth=17, estimator__max_features=auto, estimator__max_leaf_nodes=40, estimator__min_samples_leaf=3, estimator__splitter=best, score=-0.018, total=   0.1s\n",
      "[CV] estimator__max_depth=17, estimator__max_features=auto, estimator__max_leaf_nodes=40, estimator__min_samples_leaf=3, estimator__splitter=best \n",
      "[CV]  estimator__max_depth=17, estimator__max_features=auto, estimator__max_leaf_nodes=40, estimator__min_samples_leaf=3, estimator__splitter=best, score=-0.018, total=   0.1s\n",
      "[CV] estimator__max_depth=17, estimator__max_features=auto, estimator__max_leaf_nodes=40, estimator__min_samples_leaf=3, estimator__splitter=best \n",
      "[CV]  estimator__max_depth=17, estimator__max_features=auto, estimator__max_leaf_nodes=40, estimator__min_samples_leaf=3, estimator__splitter=best, score=-0.016, total=   0.1s\n",
      "[CV] estimator__max_depth=17, estimator__max_features=auto, estimator__max_leaf_nodes=40, estimator__min_samples_leaf=3, estimator__splitter=random \n"
     ]
    },
    {
     "name": "stderr",
     "output_type": "stream",
     "text": [
      "/home/abhinav/anaconda3/lib/python3.8/site-packages/sklearn/multiclass.py:76: UserWarning: Label not 10 is present in all training examples.\n",
      "  warnings.warn(\"Label %s is present in all training examples.\" %\n"
     ]
    },
    {
     "name": "stdout",
     "output_type": "stream",
     "text": [
      "[CV]  estimator__max_depth=17, estimator__max_features=auto, estimator__max_leaf_nodes=40, estimator__min_samples_leaf=3, estimator__splitter=random, score=-0.018, total=   0.1s\n",
      "[CV] estimator__max_depth=17, estimator__max_features=auto, estimator__max_leaf_nodes=40, estimator__min_samples_leaf=3, estimator__splitter=random \n",
      "[CV]  estimator__max_depth=17, estimator__max_features=auto, estimator__max_leaf_nodes=40, estimator__min_samples_leaf=3, estimator__splitter=random, score=-0.016, total=   0.1s\n",
      "[CV] estimator__max_depth=17, estimator__max_features=auto, estimator__max_leaf_nodes=40, estimator__min_samples_leaf=3, estimator__splitter=random \n",
      "[CV]  estimator__max_depth=17, estimator__max_features=auto, estimator__max_leaf_nodes=40, estimator__min_samples_leaf=3, estimator__splitter=random, score=-0.018, total=   0.1s\n",
      "[CV] estimator__max_depth=17, estimator__max_features=auto, estimator__max_leaf_nodes=40, estimator__min_samples_leaf=5, estimator__splitter=best \n"
     ]
    },
    {
     "name": "stderr",
     "output_type": "stream",
     "text": [
      "/home/abhinav/anaconda3/lib/python3.8/site-packages/sklearn/multiclass.py:76: UserWarning: Label not 10 is present in all training examples.\n",
      "  warnings.warn(\"Label %s is present in all training examples.\" %\n"
     ]
    },
    {
     "name": "stdout",
     "output_type": "stream",
     "text": [
      "[CV]  estimator__max_depth=17, estimator__max_features=auto, estimator__max_leaf_nodes=40, estimator__min_samples_leaf=5, estimator__splitter=best, score=-0.018, total=   0.1s\n",
      "[CV] estimator__max_depth=17, estimator__max_features=auto, estimator__max_leaf_nodes=40, estimator__min_samples_leaf=5, estimator__splitter=best \n",
      "[CV]  estimator__max_depth=17, estimator__max_features=auto, estimator__max_leaf_nodes=40, estimator__min_samples_leaf=5, estimator__splitter=best, score=-0.018, total=   0.1s\n",
      "[CV] estimator__max_depth=17, estimator__max_features=auto, estimator__max_leaf_nodes=40, estimator__min_samples_leaf=5, estimator__splitter=best \n",
      "[CV]  estimator__max_depth=17, estimator__max_features=auto, estimator__max_leaf_nodes=40, estimator__min_samples_leaf=5, estimator__splitter=best, score=-0.018, total=   0.1s\n",
      "[CV] estimator__max_depth=17, estimator__max_features=auto, estimator__max_leaf_nodes=40, estimator__min_samples_leaf=5, estimator__splitter=random \n"
     ]
    },
    {
     "name": "stderr",
     "output_type": "stream",
     "text": [
      "/home/abhinav/anaconda3/lib/python3.8/site-packages/sklearn/multiclass.py:76: UserWarning: Label not 10 is present in all training examples.\n",
      "  warnings.warn(\"Label %s is present in all training examples.\" %\n"
     ]
    },
    {
     "name": "stdout",
     "output_type": "stream",
     "text": [
      "[CV]  estimator__max_depth=17, estimator__max_features=auto, estimator__max_leaf_nodes=40, estimator__min_samples_leaf=5, estimator__splitter=random, score=-0.018, total=   0.1s\n",
      "[CV] estimator__max_depth=17, estimator__max_features=auto, estimator__max_leaf_nodes=40, estimator__min_samples_leaf=5, estimator__splitter=random \n",
      "[CV]  estimator__max_depth=17, estimator__max_features=auto, estimator__max_leaf_nodes=40, estimator__min_samples_leaf=5, estimator__splitter=random, score=-0.018, total=   0.1s\n",
      "[CV] estimator__max_depth=17, estimator__max_features=auto, estimator__max_leaf_nodes=40, estimator__min_samples_leaf=5, estimator__splitter=random \n",
      "[CV]  estimator__max_depth=17, estimator__max_features=auto, estimator__max_leaf_nodes=40, estimator__min_samples_leaf=5, estimator__splitter=random, score=-0.018, total=   0.1s\n",
      "[CV] estimator__max_depth=17, estimator__max_features=auto, estimator__max_leaf_nodes=50, estimator__min_samples_leaf=1, estimator__splitter=best \n"
     ]
    },
    {
     "name": "stderr",
     "output_type": "stream",
     "text": [
      "/home/abhinav/anaconda3/lib/python3.8/site-packages/sklearn/multiclass.py:76: UserWarning: Label not 10 is present in all training examples.\n",
      "  warnings.warn(\"Label %s is present in all training examples.\" %\n"
     ]
    },
    {
     "name": "stdout",
     "output_type": "stream",
     "text": [
      "[CV]  estimator__max_depth=17, estimator__max_features=auto, estimator__max_leaf_nodes=50, estimator__min_samples_leaf=1, estimator__splitter=best, score=-0.017, total=   0.1s\n",
      "[CV] estimator__max_depth=17, estimator__max_features=auto, estimator__max_leaf_nodes=50, estimator__min_samples_leaf=1, estimator__splitter=best \n",
      "[CV]  estimator__max_depth=17, estimator__max_features=auto, estimator__max_leaf_nodes=50, estimator__min_samples_leaf=1, estimator__splitter=best, score=-0.017, total=   0.1s\n",
      "[CV] estimator__max_depth=17, estimator__max_features=auto, estimator__max_leaf_nodes=50, estimator__min_samples_leaf=1, estimator__splitter=best \n",
      "[CV]  estimator__max_depth=17, estimator__max_features=auto, estimator__max_leaf_nodes=50, estimator__min_samples_leaf=1, estimator__splitter=best, score=-0.015, total=   0.1s\n",
      "[CV] estimator__max_depth=17, estimator__max_features=auto, estimator__max_leaf_nodes=50, estimator__min_samples_leaf=1, estimator__splitter=random \n"
     ]
    },
    {
     "name": "stderr",
     "output_type": "stream",
     "text": [
      "/home/abhinav/anaconda3/lib/python3.8/site-packages/sklearn/multiclass.py:76: UserWarning: Label not 10 is present in all training examples.\n",
      "  warnings.warn(\"Label %s is present in all training examples.\" %\n"
     ]
    },
    {
     "name": "stdout",
     "output_type": "stream",
     "text": [
      "[CV]  estimator__max_depth=17, estimator__max_features=auto, estimator__max_leaf_nodes=50, estimator__min_samples_leaf=1, estimator__splitter=random, score=-0.017, total=   0.1s\n",
      "[CV] estimator__max_depth=17, estimator__max_features=auto, estimator__max_leaf_nodes=50, estimator__min_samples_leaf=1, estimator__splitter=random \n",
      "[CV]  estimator__max_depth=17, estimator__max_features=auto, estimator__max_leaf_nodes=50, estimator__min_samples_leaf=1, estimator__splitter=random, score=-0.018, total=   0.1s\n",
      "[CV] estimator__max_depth=17, estimator__max_features=auto, estimator__max_leaf_nodes=50, estimator__min_samples_leaf=1, estimator__splitter=random \n",
      "[CV]  estimator__max_depth=17, estimator__max_features=auto, estimator__max_leaf_nodes=50, estimator__min_samples_leaf=1, estimator__splitter=random, score=-0.017, total=   0.1s\n",
      "[CV] estimator__max_depth=17, estimator__max_features=auto, estimator__max_leaf_nodes=50, estimator__min_samples_leaf=3, estimator__splitter=best \n"
     ]
    },
    {
     "name": "stderr",
     "output_type": "stream",
     "text": [
      "/home/abhinav/anaconda3/lib/python3.8/site-packages/sklearn/multiclass.py:76: UserWarning: Label not 10 is present in all training examples.\n",
      "  warnings.warn(\"Label %s is present in all training examples.\" %\n"
     ]
    },
    {
     "name": "stdout",
     "output_type": "stream",
     "text": [
      "[CV]  estimator__max_depth=17, estimator__max_features=auto, estimator__max_leaf_nodes=50, estimator__min_samples_leaf=3, estimator__splitter=best, score=-0.017, total=   0.1s\n",
      "[CV] estimator__max_depth=17, estimator__max_features=auto, estimator__max_leaf_nodes=50, estimator__min_samples_leaf=3, estimator__splitter=best \n",
      "[CV]  estimator__max_depth=17, estimator__max_features=auto, estimator__max_leaf_nodes=50, estimator__min_samples_leaf=3, estimator__splitter=best, score=-0.016, total=   0.1s\n",
      "[CV] estimator__max_depth=17, estimator__max_features=auto, estimator__max_leaf_nodes=50, estimator__min_samples_leaf=3, estimator__splitter=best \n",
      "[CV]  estimator__max_depth=17, estimator__max_features=auto, estimator__max_leaf_nodes=50, estimator__min_samples_leaf=3, estimator__splitter=best, score=-0.017, total=   0.1s\n",
      "[CV] estimator__max_depth=17, estimator__max_features=auto, estimator__max_leaf_nodes=50, estimator__min_samples_leaf=3, estimator__splitter=random \n"
     ]
    },
    {
     "name": "stderr",
     "output_type": "stream",
     "text": [
      "/home/abhinav/anaconda3/lib/python3.8/site-packages/sklearn/multiclass.py:76: UserWarning: Label not 10 is present in all training examples.\n",
      "  warnings.warn(\"Label %s is present in all training examples.\" %\n"
     ]
    },
    {
     "name": "stdout",
     "output_type": "stream",
     "text": [
      "[CV]  estimator__max_depth=17, estimator__max_features=auto, estimator__max_leaf_nodes=50, estimator__min_samples_leaf=3, estimator__splitter=random, score=-0.018, total=   0.1s\n",
      "[CV] estimator__max_depth=17, estimator__max_features=auto, estimator__max_leaf_nodes=50, estimator__min_samples_leaf=3, estimator__splitter=random \n",
      "[CV]  estimator__max_depth=17, estimator__max_features=auto, estimator__max_leaf_nodes=50, estimator__min_samples_leaf=3, estimator__splitter=random, score=-0.017, total=   0.1s\n",
      "[CV] estimator__max_depth=17, estimator__max_features=auto, estimator__max_leaf_nodes=50, estimator__min_samples_leaf=3, estimator__splitter=random \n",
      "[CV]  estimator__max_depth=17, estimator__max_features=auto, estimator__max_leaf_nodes=50, estimator__min_samples_leaf=3, estimator__splitter=random, score=-0.017, total=   0.1s\n",
      "[CV] estimator__max_depth=17, estimator__max_features=auto, estimator__max_leaf_nodes=50, estimator__min_samples_leaf=5, estimator__splitter=best \n"
     ]
    },
    {
     "name": "stderr",
     "output_type": "stream",
     "text": [
      "/home/abhinav/anaconda3/lib/python3.8/site-packages/sklearn/multiclass.py:76: UserWarning: Label not 10 is present in all training examples.\n",
      "  warnings.warn(\"Label %s is present in all training examples.\" %\n"
     ]
    },
    {
     "name": "stdout",
     "output_type": "stream",
     "text": [
      "[CV]  estimator__max_depth=17, estimator__max_features=auto, estimator__max_leaf_nodes=50, estimator__min_samples_leaf=5, estimator__splitter=best, score=-0.018, total=   0.1s\n",
      "[CV] estimator__max_depth=17, estimator__max_features=auto, estimator__max_leaf_nodes=50, estimator__min_samples_leaf=5, estimator__splitter=best \n",
      "[CV]  estimator__max_depth=17, estimator__max_features=auto, estimator__max_leaf_nodes=50, estimator__min_samples_leaf=5, estimator__splitter=best, score=-0.018, total=   0.1s\n",
      "[CV] estimator__max_depth=17, estimator__max_features=auto, estimator__max_leaf_nodes=50, estimator__min_samples_leaf=5, estimator__splitter=best \n",
      "[CV]  estimator__max_depth=17, estimator__max_features=auto, estimator__max_leaf_nodes=50, estimator__min_samples_leaf=5, estimator__splitter=best, score=-0.018, total=   0.1s\n",
      "[CV] estimator__max_depth=17, estimator__max_features=auto, estimator__max_leaf_nodes=50, estimator__min_samples_leaf=5, estimator__splitter=random \n"
     ]
    },
    {
     "name": "stderr",
     "output_type": "stream",
     "text": [
      "/home/abhinav/anaconda3/lib/python3.8/site-packages/sklearn/multiclass.py:76: UserWarning: Label not 10 is present in all training examples.\n",
      "  warnings.warn(\"Label %s is present in all training examples.\" %\n"
     ]
    },
    {
     "name": "stdout",
     "output_type": "stream",
     "text": [
      "[CV]  estimator__max_depth=17, estimator__max_features=auto, estimator__max_leaf_nodes=50, estimator__min_samples_leaf=5, estimator__splitter=random, score=-0.018, total=   0.1s\n",
      "[CV] estimator__max_depth=17, estimator__max_features=auto, estimator__max_leaf_nodes=50, estimator__min_samples_leaf=5, estimator__splitter=random \n",
      "[CV]  estimator__max_depth=17, estimator__max_features=auto, estimator__max_leaf_nodes=50, estimator__min_samples_leaf=5, estimator__splitter=random, score=-0.018, total=   0.1s\n",
      "[CV] estimator__max_depth=17, estimator__max_features=auto, estimator__max_leaf_nodes=50, estimator__min_samples_leaf=5, estimator__splitter=random \n",
      "[CV]  estimator__max_depth=17, estimator__max_features=auto, estimator__max_leaf_nodes=50, estimator__min_samples_leaf=5, estimator__splitter=random, score=-0.018, total=   0.1s\n",
      "[CV] estimator__max_depth=17, estimator__max_features=auto, estimator__max_leaf_nodes=70, estimator__min_samples_leaf=1, estimator__splitter=best \n"
     ]
    },
    {
     "name": "stderr",
     "output_type": "stream",
     "text": [
      "/home/abhinav/anaconda3/lib/python3.8/site-packages/sklearn/multiclass.py:76: UserWarning: Label not 10 is present in all training examples.\n",
      "  warnings.warn(\"Label %s is present in all training examples.\" %\n"
     ]
    },
    {
     "name": "stdout",
     "output_type": "stream",
     "text": [
      "[CV]  estimator__max_depth=17, estimator__max_features=auto, estimator__max_leaf_nodes=70, estimator__min_samples_leaf=1, estimator__splitter=best, score=-0.016, total=   0.1s\n",
      "[CV] estimator__max_depth=17, estimator__max_features=auto, estimator__max_leaf_nodes=70, estimator__min_samples_leaf=1, estimator__splitter=best \n",
      "[CV]  estimator__max_depth=17, estimator__max_features=auto, estimator__max_leaf_nodes=70, estimator__min_samples_leaf=1, estimator__splitter=best, score=-0.016, total=   0.1s\n",
      "[CV] estimator__max_depth=17, estimator__max_features=auto, estimator__max_leaf_nodes=70, estimator__min_samples_leaf=1, estimator__splitter=best \n",
      "[CV]  estimator__max_depth=17, estimator__max_features=auto, estimator__max_leaf_nodes=70, estimator__min_samples_leaf=1, estimator__splitter=best, score=-0.015, total=   0.1s\n",
      "[CV] estimator__max_depth=17, estimator__max_features=auto, estimator__max_leaf_nodes=70, estimator__min_samples_leaf=1, estimator__splitter=random \n"
     ]
    },
    {
     "name": "stderr",
     "output_type": "stream",
     "text": [
      "/home/abhinav/anaconda3/lib/python3.8/site-packages/sklearn/multiclass.py:76: UserWarning: Label not 10 is present in all training examples.\n",
      "  warnings.warn(\"Label %s is present in all training examples.\" %\n"
     ]
    },
    {
     "name": "stdout",
     "output_type": "stream",
     "text": [
      "[CV]  estimator__max_depth=17, estimator__max_features=auto, estimator__max_leaf_nodes=70, estimator__min_samples_leaf=1, estimator__splitter=random, score=-0.017, total=   0.1s\n",
      "[CV] estimator__max_depth=17, estimator__max_features=auto, estimator__max_leaf_nodes=70, estimator__min_samples_leaf=1, estimator__splitter=random \n",
      "[CV]  estimator__max_depth=17, estimator__max_features=auto, estimator__max_leaf_nodes=70, estimator__min_samples_leaf=1, estimator__splitter=random, score=-0.016, total=   0.1s\n",
      "[CV] estimator__max_depth=17, estimator__max_features=auto, estimator__max_leaf_nodes=70, estimator__min_samples_leaf=1, estimator__splitter=random \n",
      "[CV]  estimator__max_depth=17, estimator__max_features=auto, estimator__max_leaf_nodes=70, estimator__min_samples_leaf=1, estimator__splitter=random, score=-0.016, total=   0.1s\n",
      "[CV] estimator__max_depth=17, estimator__max_features=auto, estimator__max_leaf_nodes=70, estimator__min_samples_leaf=3, estimator__splitter=best \n"
     ]
    },
    {
     "name": "stderr",
     "output_type": "stream",
     "text": [
      "/home/abhinav/anaconda3/lib/python3.8/site-packages/sklearn/multiclass.py:76: UserWarning: Label not 10 is present in all training examples.\n",
      "  warnings.warn(\"Label %s is present in all training examples.\" %\n"
     ]
    },
    {
     "name": "stdout",
     "output_type": "stream",
     "text": [
      "[CV]  estimator__max_depth=17, estimator__max_features=auto, estimator__max_leaf_nodes=70, estimator__min_samples_leaf=3, estimator__splitter=best, score=-0.016, total=   0.1s\n",
      "[CV] estimator__max_depth=17, estimator__max_features=auto, estimator__max_leaf_nodes=70, estimator__min_samples_leaf=3, estimator__splitter=best \n",
      "[CV]  estimator__max_depth=17, estimator__max_features=auto, estimator__max_leaf_nodes=70, estimator__min_samples_leaf=3, estimator__splitter=best, score=-0.016, total=   0.1s\n",
      "[CV] estimator__max_depth=17, estimator__max_features=auto, estimator__max_leaf_nodes=70, estimator__min_samples_leaf=3, estimator__splitter=best \n",
      "[CV]  estimator__max_depth=17, estimator__max_features=auto, estimator__max_leaf_nodes=70, estimator__min_samples_leaf=3, estimator__splitter=best, score=-0.018, total=   0.1s\n",
      "[CV] estimator__max_depth=17, estimator__max_features=auto, estimator__max_leaf_nodes=70, estimator__min_samples_leaf=3, estimator__splitter=random \n"
     ]
    },
    {
     "name": "stderr",
     "output_type": "stream",
     "text": [
      "/home/abhinav/anaconda3/lib/python3.8/site-packages/sklearn/multiclass.py:76: UserWarning: Label not 10 is present in all training examples.\n",
      "  warnings.warn(\"Label %s is present in all training examples.\" %\n"
     ]
    },
    {
     "name": "stdout",
     "output_type": "stream",
     "text": [
      "[CV]  estimator__max_depth=17, estimator__max_features=auto, estimator__max_leaf_nodes=70, estimator__min_samples_leaf=3, estimator__splitter=random, score=-0.018, total=   0.1s\n",
      "[CV] estimator__max_depth=17, estimator__max_features=auto, estimator__max_leaf_nodes=70, estimator__min_samples_leaf=3, estimator__splitter=random \n",
      "[CV]  estimator__max_depth=17, estimator__max_features=auto, estimator__max_leaf_nodes=70, estimator__min_samples_leaf=3, estimator__splitter=random, score=-0.016, total=   0.1s\n",
      "[CV] estimator__max_depth=17, estimator__max_features=auto, estimator__max_leaf_nodes=70, estimator__min_samples_leaf=3, estimator__splitter=random \n",
      "[CV]  estimator__max_depth=17, estimator__max_features=auto, estimator__max_leaf_nodes=70, estimator__min_samples_leaf=3, estimator__splitter=random, score=-0.018, total=   0.1s\n",
      "[CV] estimator__max_depth=17, estimator__max_features=auto, estimator__max_leaf_nodes=70, estimator__min_samples_leaf=5, estimator__splitter=best \n"
     ]
    },
    {
     "name": "stderr",
     "output_type": "stream",
     "text": [
      "/home/abhinav/anaconda3/lib/python3.8/site-packages/sklearn/multiclass.py:76: UserWarning: Label not 10 is present in all training examples.\n",
      "  warnings.warn(\"Label %s is present in all training examples.\" %\n"
     ]
    },
    {
     "name": "stdout",
     "output_type": "stream",
     "text": [
      "[CV]  estimator__max_depth=17, estimator__max_features=auto, estimator__max_leaf_nodes=70, estimator__min_samples_leaf=5, estimator__splitter=best, score=-0.018, total=   0.1s\n",
      "[CV] estimator__max_depth=17, estimator__max_features=auto, estimator__max_leaf_nodes=70, estimator__min_samples_leaf=5, estimator__splitter=best \n",
      "[CV]  estimator__max_depth=17, estimator__max_features=auto, estimator__max_leaf_nodes=70, estimator__min_samples_leaf=5, estimator__splitter=best, score=-0.018, total=   0.1s\n",
      "[CV] estimator__max_depth=17, estimator__max_features=auto, estimator__max_leaf_nodes=70, estimator__min_samples_leaf=5, estimator__splitter=best \n",
      "[CV]  estimator__max_depth=17, estimator__max_features=auto, estimator__max_leaf_nodes=70, estimator__min_samples_leaf=5, estimator__splitter=best, score=-0.018, total=   0.1s\n",
      "[CV] estimator__max_depth=17, estimator__max_features=auto, estimator__max_leaf_nodes=70, estimator__min_samples_leaf=5, estimator__splitter=random \n"
     ]
    },
    {
     "name": "stderr",
     "output_type": "stream",
     "text": [
      "/home/abhinav/anaconda3/lib/python3.8/site-packages/sklearn/multiclass.py:76: UserWarning: Label not 10 is present in all training examples.\n",
      "  warnings.warn(\"Label %s is present in all training examples.\" %\n"
     ]
    },
    {
     "name": "stdout",
     "output_type": "stream",
     "text": [
      "[CV]  estimator__max_depth=17, estimator__max_features=auto, estimator__max_leaf_nodes=70, estimator__min_samples_leaf=5, estimator__splitter=random, score=-0.018, total=   0.1s\n",
      "[CV] estimator__max_depth=17, estimator__max_features=auto, estimator__max_leaf_nodes=70, estimator__min_samples_leaf=5, estimator__splitter=random \n",
      "[CV]  estimator__max_depth=17, estimator__max_features=auto, estimator__max_leaf_nodes=70, estimator__min_samples_leaf=5, estimator__splitter=random, score=-0.018, total=   0.1s\n",
      "[CV] estimator__max_depth=17, estimator__max_features=auto, estimator__max_leaf_nodes=70, estimator__min_samples_leaf=5, estimator__splitter=random \n",
      "[CV]  estimator__max_depth=17, estimator__max_features=auto, estimator__max_leaf_nodes=70, estimator__min_samples_leaf=5, estimator__splitter=random, score=-0.018, total=   0.1s\n",
      "[CV] estimator__max_depth=17, estimator__max_features=sqrt, estimator__max_leaf_nodes=None, estimator__min_samples_leaf=1, estimator__splitter=best \n"
     ]
    },
    {
     "name": "stderr",
     "output_type": "stream",
     "text": [
      "/home/abhinav/anaconda3/lib/python3.8/site-packages/sklearn/multiclass.py:76: UserWarning: Label not 10 is present in all training examples.\n",
      "  warnings.warn(\"Label %s is present in all training examples.\" %\n"
     ]
    },
    {
     "name": "stdout",
     "output_type": "stream",
     "text": [
      "[CV]  estimator__max_depth=17, estimator__max_features=sqrt, estimator__max_leaf_nodes=None, estimator__min_samples_leaf=1, estimator__splitter=best, score=-0.014, total=   0.1s\n",
      "[CV] estimator__max_depth=17, estimator__max_features=sqrt, estimator__max_leaf_nodes=None, estimator__min_samples_leaf=1, estimator__splitter=best \n",
      "[CV]  estimator__max_depth=17, estimator__max_features=sqrt, estimator__max_leaf_nodes=None, estimator__min_samples_leaf=1, estimator__splitter=best, score=-0.016, total=   0.1s\n",
      "[CV] estimator__max_depth=17, estimator__max_features=sqrt, estimator__max_leaf_nodes=None, estimator__min_samples_leaf=1, estimator__splitter=best \n",
      "[CV]  estimator__max_depth=17, estimator__max_features=sqrt, estimator__max_leaf_nodes=None, estimator__min_samples_leaf=1, estimator__splitter=best, score=-0.014, total=   0.1s\n",
      "[CV] estimator__max_depth=17, estimator__max_features=sqrt, estimator__max_leaf_nodes=None, estimator__min_samples_leaf=1, estimator__splitter=random \n"
     ]
    },
    {
     "name": "stderr",
     "output_type": "stream",
     "text": [
      "/home/abhinav/anaconda3/lib/python3.8/site-packages/sklearn/multiclass.py:76: UserWarning: Label not 10 is present in all training examples.\n",
      "  warnings.warn(\"Label %s is present in all training examples.\" %\n"
     ]
    },
    {
     "name": "stdout",
     "output_type": "stream",
     "text": [
      "[CV]  estimator__max_depth=17, estimator__max_features=sqrt, estimator__max_leaf_nodes=None, estimator__min_samples_leaf=1, estimator__splitter=random, score=-0.016, total=   0.1s\n",
      "[CV] estimator__max_depth=17, estimator__max_features=sqrt, estimator__max_leaf_nodes=None, estimator__min_samples_leaf=1, estimator__splitter=random \n",
      "[CV]  estimator__max_depth=17, estimator__max_features=sqrt, estimator__max_leaf_nodes=None, estimator__min_samples_leaf=1, estimator__splitter=random, score=-0.017, total=   0.1s\n",
      "[CV] estimator__max_depth=17, estimator__max_features=sqrt, estimator__max_leaf_nodes=None, estimator__min_samples_leaf=1, estimator__splitter=random \n",
      "[CV]  estimator__max_depth=17, estimator__max_features=sqrt, estimator__max_leaf_nodes=None, estimator__min_samples_leaf=1, estimator__splitter=random, score=-0.017, total=   0.1s\n",
      "[CV] estimator__max_depth=17, estimator__max_features=sqrt, estimator__max_leaf_nodes=None, estimator__min_samples_leaf=3, estimator__splitter=best \n"
     ]
    },
    {
     "name": "stderr",
     "output_type": "stream",
     "text": [
      "/home/abhinav/anaconda3/lib/python3.8/site-packages/sklearn/multiclass.py:76: UserWarning: Label not 10 is present in all training examples.\n",
      "  warnings.warn(\"Label %s is present in all training examples.\" %\n"
     ]
    },
    {
     "name": "stdout",
     "output_type": "stream",
     "text": [
      "[CV]  estimator__max_depth=17, estimator__max_features=sqrt, estimator__max_leaf_nodes=None, estimator__min_samples_leaf=3, estimator__splitter=best, score=-0.017, total=   0.1s\n",
      "[CV] estimator__max_depth=17, estimator__max_features=sqrt, estimator__max_leaf_nodes=None, estimator__min_samples_leaf=3, estimator__splitter=best \n",
      "[CV]  estimator__max_depth=17, estimator__max_features=sqrt, estimator__max_leaf_nodes=None, estimator__min_samples_leaf=3, estimator__splitter=best, score=-0.017, total=   0.1s\n",
      "[CV] estimator__max_depth=17, estimator__max_features=sqrt, estimator__max_leaf_nodes=None, estimator__min_samples_leaf=3, estimator__splitter=best \n",
      "[CV]  estimator__max_depth=17, estimator__max_features=sqrt, estimator__max_leaf_nodes=None, estimator__min_samples_leaf=3, estimator__splitter=best, score=-0.016, total=   0.1s\n",
      "[CV] estimator__max_depth=17, estimator__max_features=sqrt, estimator__max_leaf_nodes=None, estimator__min_samples_leaf=3, estimator__splitter=random \n"
     ]
    },
    {
     "name": "stderr",
     "output_type": "stream",
     "text": [
      "/home/abhinav/anaconda3/lib/python3.8/site-packages/sklearn/multiclass.py:76: UserWarning: Label not 10 is present in all training examples.\n",
      "  warnings.warn(\"Label %s is present in all training examples.\" %\n"
     ]
    },
    {
     "name": "stdout",
     "output_type": "stream",
     "text": [
      "[CV]  estimator__max_depth=17, estimator__max_features=sqrt, estimator__max_leaf_nodes=None, estimator__min_samples_leaf=3, estimator__splitter=random, score=-0.018, total=   0.1s\n",
      "[CV] estimator__max_depth=17, estimator__max_features=sqrt, estimator__max_leaf_nodes=None, estimator__min_samples_leaf=3, estimator__splitter=random \n",
      "[CV]  estimator__max_depth=17, estimator__max_features=sqrt, estimator__max_leaf_nodes=None, estimator__min_samples_leaf=3, estimator__splitter=random, score=-0.017, total=   0.1s\n",
      "[CV] estimator__max_depth=17, estimator__max_features=sqrt, estimator__max_leaf_nodes=None, estimator__min_samples_leaf=3, estimator__splitter=random \n",
      "[CV]  estimator__max_depth=17, estimator__max_features=sqrt, estimator__max_leaf_nodes=None, estimator__min_samples_leaf=3, estimator__splitter=random, score=-0.017, total=   0.1s\n",
      "[CV] estimator__max_depth=17, estimator__max_features=sqrt, estimator__max_leaf_nodes=None, estimator__min_samples_leaf=5, estimator__splitter=best \n"
     ]
    },
    {
     "name": "stderr",
     "output_type": "stream",
     "text": [
      "/home/abhinav/anaconda3/lib/python3.8/site-packages/sklearn/multiclass.py:76: UserWarning: Label not 10 is present in all training examples.\n",
      "  warnings.warn(\"Label %s is present in all training examples.\" %\n"
     ]
    },
    {
     "name": "stdout",
     "output_type": "stream",
     "text": [
      "[CV]  estimator__max_depth=17, estimator__max_features=sqrt, estimator__max_leaf_nodes=None, estimator__min_samples_leaf=5, estimator__splitter=best, score=-0.018, total=   0.1s\n",
      "[CV] estimator__max_depth=17, estimator__max_features=sqrt, estimator__max_leaf_nodes=None, estimator__min_samples_leaf=5, estimator__splitter=best \n",
      "[CV]  estimator__max_depth=17, estimator__max_features=sqrt, estimator__max_leaf_nodes=None, estimator__min_samples_leaf=5, estimator__splitter=best, score=-0.017, total=   0.1s\n",
      "[CV] estimator__max_depth=17, estimator__max_features=sqrt, estimator__max_leaf_nodes=None, estimator__min_samples_leaf=5, estimator__splitter=best \n",
      "[CV]  estimator__max_depth=17, estimator__max_features=sqrt, estimator__max_leaf_nodes=None, estimator__min_samples_leaf=5, estimator__splitter=best, score=-0.018, total=   0.1s\n",
      "[CV] estimator__max_depth=17, estimator__max_features=sqrt, estimator__max_leaf_nodes=None, estimator__min_samples_leaf=5, estimator__splitter=random \n"
     ]
    },
    {
     "name": "stderr",
     "output_type": "stream",
     "text": [
      "/home/abhinav/anaconda3/lib/python3.8/site-packages/sklearn/multiclass.py:76: UserWarning: Label not 10 is present in all training examples.\n",
      "  warnings.warn(\"Label %s is present in all training examples.\" %\n"
     ]
    },
    {
     "name": "stdout",
     "output_type": "stream",
     "text": [
      "[CV]  estimator__max_depth=17, estimator__max_features=sqrt, estimator__max_leaf_nodes=None, estimator__min_samples_leaf=5, estimator__splitter=random, score=-0.018, total=   0.1s\n",
      "[CV] estimator__max_depth=17, estimator__max_features=sqrt, estimator__max_leaf_nodes=None, estimator__min_samples_leaf=5, estimator__splitter=random \n",
      "[CV]  estimator__max_depth=17, estimator__max_features=sqrt, estimator__max_leaf_nodes=None, estimator__min_samples_leaf=5, estimator__splitter=random, score=-0.018, total=   0.1s\n",
      "[CV] estimator__max_depth=17, estimator__max_features=sqrt, estimator__max_leaf_nodes=None, estimator__min_samples_leaf=5, estimator__splitter=random \n",
      "[CV]  estimator__max_depth=17, estimator__max_features=sqrt, estimator__max_leaf_nodes=None, estimator__min_samples_leaf=5, estimator__splitter=random, score=-0.018, total=   0.1s\n",
      "[CV] estimator__max_depth=17, estimator__max_features=sqrt, estimator__max_leaf_nodes=10, estimator__min_samples_leaf=1, estimator__splitter=best \n"
     ]
    },
    {
     "name": "stderr",
     "output_type": "stream",
     "text": [
      "/home/abhinav/anaconda3/lib/python3.8/site-packages/sklearn/multiclass.py:76: UserWarning: Label not 10 is present in all training examples.\n",
      "  warnings.warn(\"Label %s is present in all training examples.\" %\n"
     ]
    },
    {
     "name": "stdout",
     "output_type": "stream",
     "text": [
      "[CV]  estimator__max_depth=17, estimator__max_features=sqrt, estimator__max_leaf_nodes=10, estimator__min_samples_leaf=1, estimator__splitter=best, score=-0.018, total=   0.1s\n",
      "[CV] estimator__max_depth=17, estimator__max_features=sqrt, estimator__max_leaf_nodes=10, estimator__min_samples_leaf=1, estimator__splitter=best \n",
      "[CV]  estimator__max_depth=17, estimator__max_features=sqrt, estimator__max_leaf_nodes=10, estimator__min_samples_leaf=1, estimator__splitter=best, score=-0.017, total=   0.1s\n",
      "[CV] estimator__max_depth=17, estimator__max_features=sqrt, estimator__max_leaf_nodes=10, estimator__min_samples_leaf=1, estimator__splitter=best \n",
      "[CV]  estimator__max_depth=17, estimator__max_features=sqrt, estimator__max_leaf_nodes=10, estimator__min_samples_leaf=1, estimator__splitter=best, score=-0.017, total=   0.1s\n",
      "[CV] estimator__max_depth=17, estimator__max_features=sqrt, estimator__max_leaf_nodes=10, estimator__min_samples_leaf=1, estimator__splitter=random \n"
     ]
    },
    {
     "name": "stderr",
     "output_type": "stream",
     "text": [
      "/home/abhinav/anaconda3/lib/python3.8/site-packages/sklearn/multiclass.py:76: UserWarning: Label not 10 is present in all training examples.\n",
      "  warnings.warn(\"Label %s is present in all training examples.\" %\n"
     ]
    },
    {
     "name": "stdout",
     "output_type": "stream",
     "text": [
      "[CV]  estimator__max_depth=17, estimator__max_features=sqrt, estimator__max_leaf_nodes=10, estimator__min_samples_leaf=1, estimator__splitter=random, score=-0.018, total=   0.1s\n",
      "[CV] estimator__max_depth=17, estimator__max_features=sqrt, estimator__max_leaf_nodes=10, estimator__min_samples_leaf=1, estimator__splitter=random \n",
      "[CV]  estimator__max_depth=17, estimator__max_features=sqrt, estimator__max_leaf_nodes=10, estimator__min_samples_leaf=1, estimator__splitter=random, score=-0.017, total=   0.1s\n",
      "[CV] estimator__max_depth=17, estimator__max_features=sqrt, estimator__max_leaf_nodes=10, estimator__min_samples_leaf=1, estimator__splitter=random \n",
      "[CV]  estimator__max_depth=17, estimator__max_features=sqrt, estimator__max_leaf_nodes=10, estimator__min_samples_leaf=1, estimator__splitter=random, score=-0.016, total=   0.1s\n",
      "[CV] estimator__max_depth=17, estimator__max_features=sqrt, estimator__max_leaf_nodes=10, estimator__min_samples_leaf=3, estimator__splitter=best \n"
     ]
    },
    {
     "name": "stderr",
     "output_type": "stream",
     "text": [
      "/home/abhinav/anaconda3/lib/python3.8/site-packages/sklearn/multiclass.py:76: UserWarning: Label not 10 is present in all training examples.\n",
      "  warnings.warn(\"Label %s is present in all training examples.\" %\n"
     ]
    },
    {
     "name": "stdout",
     "output_type": "stream",
     "text": [
      "[CV]  estimator__max_depth=17, estimator__max_features=sqrt, estimator__max_leaf_nodes=10, estimator__min_samples_leaf=3, estimator__splitter=best, score=-0.018, total=   0.1s\n",
      "[CV] estimator__max_depth=17, estimator__max_features=sqrt, estimator__max_leaf_nodes=10, estimator__min_samples_leaf=3, estimator__splitter=best \n",
      "[CV]  estimator__max_depth=17, estimator__max_features=sqrt, estimator__max_leaf_nodes=10, estimator__min_samples_leaf=3, estimator__splitter=best, score=-0.017, total=   0.1s\n",
      "[CV] estimator__max_depth=17, estimator__max_features=sqrt, estimator__max_leaf_nodes=10, estimator__min_samples_leaf=3, estimator__splitter=best \n",
      "[CV]  estimator__max_depth=17, estimator__max_features=sqrt, estimator__max_leaf_nodes=10, estimator__min_samples_leaf=3, estimator__splitter=best, score=-0.018, total=   0.1s\n",
      "[CV] estimator__max_depth=17, estimator__max_features=sqrt, estimator__max_leaf_nodes=10, estimator__min_samples_leaf=3, estimator__splitter=random \n"
     ]
    },
    {
     "name": "stderr",
     "output_type": "stream",
     "text": [
      "/home/abhinav/anaconda3/lib/python3.8/site-packages/sklearn/multiclass.py:76: UserWarning: Label not 10 is present in all training examples.\n",
      "  warnings.warn(\"Label %s is present in all training examples.\" %\n"
     ]
    },
    {
     "name": "stdout",
     "output_type": "stream",
     "text": [
      "[CV]  estimator__max_depth=17, estimator__max_features=sqrt, estimator__max_leaf_nodes=10, estimator__min_samples_leaf=3, estimator__splitter=random, score=-0.017, total=   0.1s\n",
      "[CV] estimator__max_depth=17, estimator__max_features=sqrt, estimator__max_leaf_nodes=10, estimator__min_samples_leaf=3, estimator__splitter=random \n",
      "[CV]  estimator__max_depth=17, estimator__max_features=sqrt, estimator__max_leaf_nodes=10, estimator__min_samples_leaf=3, estimator__splitter=random, score=-0.018, total=   0.1s\n",
      "[CV] estimator__max_depth=17, estimator__max_features=sqrt, estimator__max_leaf_nodes=10, estimator__min_samples_leaf=3, estimator__splitter=random \n",
      "[CV]  estimator__max_depth=17, estimator__max_features=sqrt, estimator__max_leaf_nodes=10, estimator__min_samples_leaf=3, estimator__splitter=random, score=-0.017, total=   0.1s\n",
      "[CV] estimator__max_depth=17, estimator__max_features=sqrt, estimator__max_leaf_nodes=10, estimator__min_samples_leaf=5, estimator__splitter=best \n"
     ]
    },
    {
     "name": "stderr",
     "output_type": "stream",
     "text": [
      "/home/abhinav/anaconda3/lib/python3.8/site-packages/sklearn/multiclass.py:76: UserWarning: Label not 10 is present in all training examples.\n",
      "  warnings.warn(\"Label %s is present in all training examples.\" %\n"
     ]
    },
    {
     "name": "stdout",
     "output_type": "stream",
     "text": [
      "[CV]  estimator__max_depth=17, estimator__max_features=sqrt, estimator__max_leaf_nodes=10, estimator__min_samples_leaf=5, estimator__splitter=best, score=-0.018, total=   0.1s\n",
      "[CV] estimator__max_depth=17, estimator__max_features=sqrt, estimator__max_leaf_nodes=10, estimator__min_samples_leaf=5, estimator__splitter=best \n",
      "[CV]  estimator__max_depth=17, estimator__max_features=sqrt, estimator__max_leaf_nodes=10, estimator__min_samples_leaf=5, estimator__splitter=best, score=-0.018, total=   0.1s\n",
      "[CV] estimator__max_depth=17, estimator__max_features=sqrt, estimator__max_leaf_nodes=10, estimator__min_samples_leaf=5, estimator__splitter=best \n",
      "[CV]  estimator__max_depth=17, estimator__max_features=sqrt, estimator__max_leaf_nodes=10, estimator__min_samples_leaf=5, estimator__splitter=best, score=-0.018, total=   0.1s\n",
      "[CV] estimator__max_depth=17, estimator__max_features=sqrt, estimator__max_leaf_nodes=10, estimator__min_samples_leaf=5, estimator__splitter=random \n"
     ]
    },
    {
     "name": "stderr",
     "output_type": "stream",
     "text": [
      "/home/abhinav/anaconda3/lib/python3.8/site-packages/sklearn/multiclass.py:76: UserWarning: Label not 10 is present in all training examples.\n",
      "  warnings.warn(\"Label %s is present in all training examples.\" %\n"
     ]
    },
    {
     "name": "stdout",
     "output_type": "stream",
     "text": [
      "[CV]  estimator__max_depth=17, estimator__max_features=sqrt, estimator__max_leaf_nodes=10, estimator__min_samples_leaf=5, estimator__splitter=random, score=-0.018, total=   0.1s\n",
      "[CV] estimator__max_depth=17, estimator__max_features=sqrt, estimator__max_leaf_nodes=10, estimator__min_samples_leaf=5, estimator__splitter=random \n",
      "[CV]  estimator__max_depth=17, estimator__max_features=sqrt, estimator__max_leaf_nodes=10, estimator__min_samples_leaf=5, estimator__splitter=random, score=-0.018, total=   0.1s\n",
      "[CV] estimator__max_depth=17, estimator__max_features=sqrt, estimator__max_leaf_nodes=10, estimator__min_samples_leaf=5, estimator__splitter=random \n",
      "[CV]  estimator__max_depth=17, estimator__max_features=sqrt, estimator__max_leaf_nodes=10, estimator__min_samples_leaf=5, estimator__splitter=random, score=-0.018, total=   0.1s\n",
      "[CV] estimator__max_depth=17, estimator__max_features=sqrt, estimator__max_leaf_nodes=20, estimator__min_samples_leaf=1, estimator__splitter=best \n"
     ]
    },
    {
     "name": "stderr",
     "output_type": "stream",
     "text": [
      "/home/abhinav/anaconda3/lib/python3.8/site-packages/sklearn/multiclass.py:76: UserWarning: Label not 10 is present in all training examples.\n",
      "  warnings.warn(\"Label %s is present in all training examples.\" %\n"
     ]
    },
    {
     "name": "stdout",
     "output_type": "stream",
     "text": [
      "[CV]  estimator__max_depth=17, estimator__max_features=sqrt, estimator__max_leaf_nodes=20, estimator__min_samples_leaf=1, estimator__splitter=best, score=-0.017, total=   0.1s\n",
      "[CV] estimator__max_depth=17, estimator__max_features=sqrt, estimator__max_leaf_nodes=20, estimator__min_samples_leaf=1, estimator__splitter=best \n",
      "[CV]  estimator__max_depth=17, estimator__max_features=sqrt, estimator__max_leaf_nodes=20, estimator__min_samples_leaf=1, estimator__splitter=best, score=-0.016, total=   0.1s\n",
      "[CV] estimator__max_depth=17, estimator__max_features=sqrt, estimator__max_leaf_nodes=20, estimator__min_samples_leaf=1, estimator__splitter=best \n",
      "[CV]  estimator__max_depth=17, estimator__max_features=sqrt, estimator__max_leaf_nodes=20, estimator__min_samples_leaf=1, estimator__splitter=best, score=-0.015, total=   0.1s\n",
      "[CV] estimator__max_depth=17, estimator__max_features=sqrt, estimator__max_leaf_nodes=20, estimator__min_samples_leaf=1, estimator__splitter=random \n"
     ]
    },
    {
     "name": "stderr",
     "output_type": "stream",
     "text": [
      "/home/abhinav/anaconda3/lib/python3.8/site-packages/sklearn/multiclass.py:76: UserWarning: Label not 10 is present in all training examples.\n",
      "  warnings.warn(\"Label %s is present in all training examples.\" %\n"
     ]
    },
    {
     "name": "stdout",
     "output_type": "stream",
     "text": [
      "[CV]  estimator__max_depth=17, estimator__max_features=sqrt, estimator__max_leaf_nodes=20, estimator__min_samples_leaf=1, estimator__splitter=random, score=-0.016, total=   0.1s\n",
      "[CV] estimator__max_depth=17, estimator__max_features=sqrt, estimator__max_leaf_nodes=20, estimator__min_samples_leaf=1, estimator__splitter=random \n",
      "[CV]  estimator__max_depth=17, estimator__max_features=sqrt, estimator__max_leaf_nodes=20, estimator__min_samples_leaf=1, estimator__splitter=random, score=-0.017, total=   0.1s\n",
      "[CV] estimator__max_depth=17, estimator__max_features=sqrt, estimator__max_leaf_nodes=20, estimator__min_samples_leaf=1, estimator__splitter=random \n",
      "[CV]  estimator__max_depth=17, estimator__max_features=sqrt, estimator__max_leaf_nodes=20, estimator__min_samples_leaf=1, estimator__splitter=random, score=-0.016, total=   0.1s\n",
      "[CV] estimator__max_depth=17, estimator__max_features=sqrt, estimator__max_leaf_nodes=20, estimator__min_samples_leaf=3, estimator__splitter=best \n"
     ]
    },
    {
     "name": "stderr",
     "output_type": "stream",
     "text": [
      "/home/abhinav/anaconda3/lib/python3.8/site-packages/sklearn/multiclass.py:76: UserWarning: Label not 10 is present in all training examples.\n",
      "  warnings.warn(\"Label %s is present in all training examples.\" %\n"
     ]
    },
    {
     "name": "stdout",
     "output_type": "stream",
     "text": [
      "[CV]  estimator__max_depth=17, estimator__max_features=sqrt, estimator__max_leaf_nodes=20, estimator__min_samples_leaf=3, estimator__splitter=best, score=-0.017, total=   0.1s\n",
      "[CV] estimator__max_depth=17, estimator__max_features=sqrt, estimator__max_leaf_nodes=20, estimator__min_samples_leaf=3, estimator__splitter=best \n",
      "[CV]  estimator__max_depth=17, estimator__max_features=sqrt, estimator__max_leaf_nodes=20, estimator__min_samples_leaf=3, estimator__splitter=best, score=-0.017, total=   0.1s\n",
      "[CV] estimator__max_depth=17, estimator__max_features=sqrt, estimator__max_leaf_nodes=20, estimator__min_samples_leaf=3, estimator__splitter=best \n",
      "[CV]  estimator__max_depth=17, estimator__max_features=sqrt, estimator__max_leaf_nodes=20, estimator__min_samples_leaf=3, estimator__splitter=best, score=-0.017, total=   0.1s\n",
      "[CV] estimator__max_depth=17, estimator__max_features=sqrt, estimator__max_leaf_nodes=20, estimator__min_samples_leaf=3, estimator__splitter=random \n"
     ]
    },
    {
     "name": "stderr",
     "output_type": "stream",
     "text": [
      "/home/abhinav/anaconda3/lib/python3.8/site-packages/sklearn/multiclass.py:76: UserWarning: Label not 10 is present in all training examples.\n",
      "  warnings.warn(\"Label %s is present in all training examples.\" %\n"
     ]
    },
    {
     "name": "stdout",
     "output_type": "stream",
     "text": [
      "[CV]  estimator__max_depth=17, estimator__max_features=sqrt, estimator__max_leaf_nodes=20, estimator__min_samples_leaf=3, estimator__splitter=random, score=-0.018, total=   0.1s\n",
      "[CV] estimator__max_depth=17, estimator__max_features=sqrt, estimator__max_leaf_nodes=20, estimator__min_samples_leaf=3, estimator__splitter=random \n",
      "[CV]  estimator__max_depth=17, estimator__max_features=sqrt, estimator__max_leaf_nodes=20, estimator__min_samples_leaf=3, estimator__splitter=random, score=-0.018, total=   0.1s\n",
      "[CV] estimator__max_depth=17, estimator__max_features=sqrt, estimator__max_leaf_nodes=20, estimator__min_samples_leaf=3, estimator__splitter=random \n",
      "[CV]  estimator__max_depth=17, estimator__max_features=sqrt, estimator__max_leaf_nodes=20, estimator__min_samples_leaf=3, estimator__splitter=random, score=-0.017, total=   0.1s\n",
      "[CV] estimator__max_depth=17, estimator__max_features=sqrt, estimator__max_leaf_nodes=20, estimator__min_samples_leaf=5, estimator__splitter=best \n"
     ]
    },
    {
     "name": "stderr",
     "output_type": "stream",
     "text": [
      "/home/abhinav/anaconda3/lib/python3.8/site-packages/sklearn/multiclass.py:76: UserWarning: Label not 10 is present in all training examples.\n",
      "  warnings.warn(\"Label %s is present in all training examples.\" %\n"
     ]
    },
    {
     "name": "stdout",
     "output_type": "stream",
     "text": [
      "[CV]  estimator__max_depth=17, estimator__max_features=sqrt, estimator__max_leaf_nodes=20, estimator__min_samples_leaf=5, estimator__splitter=best, score=-0.018, total=   0.1s\n",
      "[CV] estimator__max_depth=17, estimator__max_features=sqrt, estimator__max_leaf_nodes=20, estimator__min_samples_leaf=5, estimator__splitter=best \n",
      "[CV]  estimator__max_depth=17, estimator__max_features=sqrt, estimator__max_leaf_nodes=20, estimator__min_samples_leaf=5, estimator__splitter=best, score=-0.017, total=   0.1s\n",
      "[CV] estimator__max_depth=17, estimator__max_features=sqrt, estimator__max_leaf_nodes=20, estimator__min_samples_leaf=5, estimator__splitter=best \n",
      "[CV]  estimator__max_depth=17, estimator__max_features=sqrt, estimator__max_leaf_nodes=20, estimator__min_samples_leaf=5, estimator__splitter=best, score=-0.018, total=   0.1s\n",
      "[CV] estimator__max_depth=17, estimator__max_features=sqrt, estimator__max_leaf_nodes=20, estimator__min_samples_leaf=5, estimator__splitter=random \n"
     ]
    },
    {
     "name": "stderr",
     "output_type": "stream",
     "text": [
      "/home/abhinav/anaconda3/lib/python3.8/site-packages/sklearn/multiclass.py:76: UserWarning: Label not 10 is present in all training examples.\n",
      "  warnings.warn(\"Label %s is present in all training examples.\" %\n"
     ]
    },
    {
     "name": "stdout",
     "output_type": "stream",
     "text": [
      "[CV]  estimator__max_depth=17, estimator__max_features=sqrt, estimator__max_leaf_nodes=20, estimator__min_samples_leaf=5, estimator__splitter=random, score=-0.018, total=   0.1s\n",
      "[CV] estimator__max_depth=17, estimator__max_features=sqrt, estimator__max_leaf_nodes=20, estimator__min_samples_leaf=5, estimator__splitter=random \n",
      "[CV]  estimator__max_depth=17, estimator__max_features=sqrt, estimator__max_leaf_nodes=20, estimator__min_samples_leaf=5, estimator__splitter=random, score=-0.018, total=   0.1s\n",
      "[CV] estimator__max_depth=17, estimator__max_features=sqrt, estimator__max_leaf_nodes=20, estimator__min_samples_leaf=5, estimator__splitter=random \n",
      "[CV]  estimator__max_depth=17, estimator__max_features=sqrt, estimator__max_leaf_nodes=20, estimator__min_samples_leaf=5, estimator__splitter=random, score=-0.018, total=   0.1s\n",
      "[CV] estimator__max_depth=17, estimator__max_features=sqrt, estimator__max_leaf_nodes=30, estimator__min_samples_leaf=1, estimator__splitter=best \n"
     ]
    },
    {
     "name": "stderr",
     "output_type": "stream",
     "text": [
      "/home/abhinav/anaconda3/lib/python3.8/site-packages/sklearn/multiclass.py:76: UserWarning: Label not 10 is present in all training examples.\n",
      "  warnings.warn(\"Label %s is present in all training examples.\" %\n"
     ]
    },
    {
     "name": "stdout",
     "output_type": "stream",
     "text": [
      "[CV]  estimator__max_depth=17, estimator__max_features=sqrt, estimator__max_leaf_nodes=30, estimator__min_samples_leaf=1, estimator__splitter=best, score=-0.015, total=   0.1s\n",
      "[CV] estimator__max_depth=17, estimator__max_features=sqrt, estimator__max_leaf_nodes=30, estimator__min_samples_leaf=1, estimator__splitter=best \n",
      "[CV]  estimator__max_depth=17, estimator__max_features=sqrt, estimator__max_leaf_nodes=30, estimator__min_samples_leaf=1, estimator__splitter=best, score=-0.016, total=   0.1s\n",
      "[CV] estimator__max_depth=17, estimator__max_features=sqrt, estimator__max_leaf_nodes=30, estimator__min_samples_leaf=1, estimator__splitter=best \n",
      "[CV]  estimator__max_depth=17, estimator__max_features=sqrt, estimator__max_leaf_nodes=30, estimator__min_samples_leaf=1, estimator__splitter=best, score=-0.016, total=   0.1s\n",
      "[CV] estimator__max_depth=17, estimator__max_features=sqrt, estimator__max_leaf_nodes=30, estimator__min_samples_leaf=1, estimator__splitter=random \n"
     ]
    },
    {
     "name": "stderr",
     "output_type": "stream",
     "text": [
      "/home/abhinav/anaconda3/lib/python3.8/site-packages/sklearn/multiclass.py:76: UserWarning: Label not 10 is present in all training examples.\n",
      "  warnings.warn(\"Label %s is present in all training examples.\" %\n"
     ]
    },
    {
     "name": "stdout",
     "output_type": "stream",
     "text": [
      "[CV]  estimator__max_depth=17, estimator__max_features=sqrt, estimator__max_leaf_nodes=30, estimator__min_samples_leaf=1, estimator__splitter=random, score=-0.017, total=   0.1s\n",
      "[CV] estimator__max_depth=17, estimator__max_features=sqrt, estimator__max_leaf_nodes=30, estimator__min_samples_leaf=1, estimator__splitter=random \n",
      "[CV]  estimator__max_depth=17, estimator__max_features=sqrt, estimator__max_leaf_nodes=30, estimator__min_samples_leaf=1, estimator__splitter=random, score=-0.016, total=   0.1s\n",
      "[CV] estimator__max_depth=17, estimator__max_features=sqrt, estimator__max_leaf_nodes=30, estimator__min_samples_leaf=1, estimator__splitter=random \n",
      "[CV]  estimator__max_depth=17, estimator__max_features=sqrt, estimator__max_leaf_nodes=30, estimator__min_samples_leaf=1, estimator__splitter=random, score=-0.018, total=   0.1s\n",
      "[CV] estimator__max_depth=17, estimator__max_features=sqrt, estimator__max_leaf_nodes=30, estimator__min_samples_leaf=3, estimator__splitter=best \n"
     ]
    },
    {
     "name": "stderr",
     "output_type": "stream",
     "text": [
      "/home/abhinav/anaconda3/lib/python3.8/site-packages/sklearn/multiclass.py:76: UserWarning: Label not 10 is present in all training examples.\n",
      "  warnings.warn(\"Label %s is present in all training examples.\" %\n"
     ]
    },
    {
     "name": "stdout",
     "output_type": "stream",
     "text": [
      "[CV]  estimator__max_depth=17, estimator__max_features=sqrt, estimator__max_leaf_nodes=30, estimator__min_samples_leaf=3, estimator__splitter=best, score=-0.017, total=   0.1s\n",
      "[CV] estimator__max_depth=17, estimator__max_features=sqrt, estimator__max_leaf_nodes=30, estimator__min_samples_leaf=3, estimator__splitter=best \n",
      "[CV]  estimator__max_depth=17, estimator__max_features=sqrt, estimator__max_leaf_nodes=30, estimator__min_samples_leaf=3, estimator__splitter=best, score=-0.017, total=   0.1s\n",
      "[CV] estimator__max_depth=17, estimator__max_features=sqrt, estimator__max_leaf_nodes=30, estimator__min_samples_leaf=3, estimator__splitter=best \n",
      "[CV]  estimator__max_depth=17, estimator__max_features=sqrt, estimator__max_leaf_nodes=30, estimator__min_samples_leaf=3, estimator__splitter=best, score=-0.017, total=   0.1s\n",
      "[CV] estimator__max_depth=17, estimator__max_features=sqrt, estimator__max_leaf_nodes=30, estimator__min_samples_leaf=3, estimator__splitter=random \n"
     ]
    },
    {
     "name": "stderr",
     "output_type": "stream",
     "text": [
      "/home/abhinav/anaconda3/lib/python3.8/site-packages/sklearn/multiclass.py:76: UserWarning: Label not 10 is present in all training examples.\n",
      "  warnings.warn(\"Label %s is present in all training examples.\" %\n"
     ]
    },
    {
     "name": "stdout",
     "output_type": "stream",
     "text": [
      "[CV]  estimator__max_depth=17, estimator__max_features=sqrt, estimator__max_leaf_nodes=30, estimator__min_samples_leaf=3, estimator__splitter=random, score=-0.017, total=   0.1s\n",
      "[CV] estimator__max_depth=17, estimator__max_features=sqrt, estimator__max_leaf_nodes=30, estimator__min_samples_leaf=3, estimator__splitter=random \n",
      "[CV]  estimator__max_depth=17, estimator__max_features=sqrt, estimator__max_leaf_nodes=30, estimator__min_samples_leaf=3, estimator__splitter=random, score=-0.017, total=   0.1s\n",
      "[CV] estimator__max_depth=17, estimator__max_features=sqrt, estimator__max_leaf_nodes=30, estimator__min_samples_leaf=3, estimator__splitter=random \n",
      "[CV]  estimator__max_depth=17, estimator__max_features=sqrt, estimator__max_leaf_nodes=30, estimator__min_samples_leaf=3, estimator__splitter=random, score=-0.017, total=   0.1s\n",
      "[CV] estimator__max_depth=17, estimator__max_features=sqrt, estimator__max_leaf_nodes=30, estimator__min_samples_leaf=5, estimator__splitter=best \n"
     ]
    },
    {
     "name": "stderr",
     "output_type": "stream",
     "text": [
      "/home/abhinav/anaconda3/lib/python3.8/site-packages/sklearn/multiclass.py:76: UserWarning: Label not 10 is present in all training examples.\n",
      "  warnings.warn(\"Label %s is present in all training examples.\" %\n"
     ]
    },
    {
     "name": "stdout",
     "output_type": "stream",
     "text": [
      "[CV]  estimator__max_depth=17, estimator__max_features=sqrt, estimator__max_leaf_nodes=30, estimator__min_samples_leaf=5, estimator__splitter=best, score=-0.018, total=   0.1s\n",
      "[CV] estimator__max_depth=17, estimator__max_features=sqrt, estimator__max_leaf_nodes=30, estimator__min_samples_leaf=5, estimator__splitter=best \n",
      "[CV]  estimator__max_depth=17, estimator__max_features=sqrt, estimator__max_leaf_nodes=30, estimator__min_samples_leaf=5, estimator__splitter=best, score=-0.017, total=   0.1s\n",
      "[CV] estimator__max_depth=17, estimator__max_features=sqrt, estimator__max_leaf_nodes=30, estimator__min_samples_leaf=5, estimator__splitter=best \n",
      "[CV]  estimator__max_depth=17, estimator__max_features=sqrt, estimator__max_leaf_nodes=30, estimator__min_samples_leaf=5, estimator__splitter=best, score=-0.018, total=   0.1s\n",
      "[CV] estimator__max_depth=17, estimator__max_features=sqrt, estimator__max_leaf_nodes=30, estimator__min_samples_leaf=5, estimator__splitter=random \n"
     ]
    },
    {
     "name": "stderr",
     "output_type": "stream",
     "text": [
      "/home/abhinav/anaconda3/lib/python3.8/site-packages/sklearn/multiclass.py:76: UserWarning: Label not 10 is present in all training examples.\n",
      "  warnings.warn(\"Label %s is present in all training examples.\" %\n"
     ]
    },
    {
     "name": "stdout",
     "output_type": "stream",
     "text": [
      "[CV]  estimator__max_depth=17, estimator__max_features=sqrt, estimator__max_leaf_nodes=30, estimator__min_samples_leaf=5, estimator__splitter=random, score=-0.018, total=   0.1s\n",
      "[CV] estimator__max_depth=17, estimator__max_features=sqrt, estimator__max_leaf_nodes=30, estimator__min_samples_leaf=5, estimator__splitter=random \n",
      "[CV]  estimator__max_depth=17, estimator__max_features=sqrt, estimator__max_leaf_nodes=30, estimator__min_samples_leaf=5, estimator__splitter=random, score=-0.018, total=   0.1s\n",
      "[CV] estimator__max_depth=17, estimator__max_features=sqrt, estimator__max_leaf_nodes=30, estimator__min_samples_leaf=5, estimator__splitter=random \n",
      "[CV]  estimator__max_depth=17, estimator__max_features=sqrt, estimator__max_leaf_nodes=30, estimator__min_samples_leaf=5, estimator__splitter=random, score=-0.018, total=   0.1s\n",
      "[CV] estimator__max_depth=17, estimator__max_features=sqrt, estimator__max_leaf_nodes=40, estimator__min_samples_leaf=1, estimator__splitter=best \n"
     ]
    },
    {
     "name": "stderr",
     "output_type": "stream",
     "text": [
      "/home/abhinav/anaconda3/lib/python3.8/site-packages/sklearn/multiclass.py:76: UserWarning: Label not 10 is present in all training examples.\n",
      "  warnings.warn(\"Label %s is present in all training examples.\" %\n"
     ]
    },
    {
     "name": "stdout",
     "output_type": "stream",
     "text": [
      "[CV]  estimator__max_depth=17, estimator__max_features=sqrt, estimator__max_leaf_nodes=40, estimator__min_samples_leaf=1, estimator__splitter=best, score=-0.017, total=   0.1s\n",
      "[CV] estimator__max_depth=17, estimator__max_features=sqrt, estimator__max_leaf_nodes=40, estimator__min_samples_leaf=1, estimator__splitter=best \n",
      "[CV]  estimator__max_depth=17, estimator__max_features=sqrt, estimator__max_leaf_nodes=40, estimator__min_samples_leaf=1, estimator__splitter=best, score=-0.015, total=   0.1s\n",
      "[CV] estimator__max_depth=17, estimator__max_features=sqrt, estimator__max_leaf_nodes=40, estimator__min_samples_leaf=1, estimator__splitter=best \n",
      "[CV]  estimator__max_depth=17, estimator__max_features=sqrt, estimator__max_leaf_nodes=40, estimator__min_samples_leaf=1, estimator__splitter=best, score=-0.015, total=   0.1s\n",
      "[CV] estimator__max_depth=17, estimator__max_features=sqrt, estimator__max_leaf_nodes=40, estimator__min_samples_leaf=1, estimator__splitter=random \n"
     ]
    },
    {
     "name": "stderr",
     "output_type": "stream",
     "text": [
      "/home/abhinav/anaconda3/lib/python3.8/site-packages/sklearn/multiclass.py:76: UserWarning: Label not 10 is present in all training examples.\n",
      "  warnings.warn(\"Label %s is present in all training examples.\" %\n"
     ]
    },
    {
     "name": "stdout",
     "output_type": "stream",
     "text": [
      "[CV]  estimator__max_depth=17, estimator__max_features=sqrt, estimator__max_leaf_nodes=40, estimator__min_samples_leaf=1, estimator__splitter=random, score=-0.018, total=   0.1s\n",
      "[CV] estimator__max_depth=17, estimator__max_features=sqrt, estimator__max_leaf_nodes=40, estimator__min_samples_leaf=1, estimator__splitter=random \n",
      "[CV]  estimator__max_depth=17, estimator__max_features=sqrt, estimator__max_leaf_nodes=40, estimator__min_samples_leaf=1, estimator__splitter=random, score=-0.016, total=   0.1s\n",
      "[CV] estimator__max_depth=17, estimator__max_features=sqrt, estimator__max_leaf_nodes=40, estimator__min_samples_leaf=1, estimator__splitter=random \n",
      "[CV]  estimator__max_depth=17, estimator__max_features=sqrt, estimator__max_leaf_nodes=40, estimator__min_samples_leaf=1, estimator__splitter=random, score=-0.015, total=   0.1s\n",
      "[CV] estimator__max_depth=17, estimator__max_features=sqrt, estimator__max_leaf_nodes=40, estimator__min_samples_leaf=3, estimator__splitter=best \n"
     ]
    },
    {
     "name": "stderr",
     "output_type": "stream",
     "text": [
      "/home/abhinav/anaconda3/lib/python3.8/site-packages/sklearn/multiclass.py:76: UserWarning: Label not 10 is present in all training examples.\n",
      "  warnings.warn(\"Label %s is present in all training examples.\" %\n"
     ]
    },
    {
     "name": "stdout",
     "output_type": "stream",
     "text": [
      "[CV]  estimator__max_depth=17, estimator__max_features=sqrt, estimator__max_leaf_nodes=40, estimator__min_samples_leaf=3, estimator__splitter=best, score=-0.016, total=   0.1s\n",
      "[CV] estimator__max_depth=17, estimator__max_features=sqrt, estimator__max_leaf_nodes=40, estimator__min_samples_leaf=3, estimator__splitter=best \n",
      "[CV]  estimator__max_depth=17, estimator__max_features=sqrt, estimator__max_leaf_nodes=40, estimator__min_samples_leaf=3, estimator__splitter=best, score=-0.016, total=   0.1s\n",
      "[CV] estimator__max_depth=17, estimator__max_features=sqrt, estimator__max_leaf_nodes=40, estimator__min_samples_leaf=3, estimator__splitter=best \n",
      "[CV]  estimator__max_depth=17, estimator__max_features=sqrt, estimator__max_leaf_nodes=40, estimator__min_samples_leaf=3, estimator__splitter=best, score=-0.017, total=   0.1s\n",
      "[CV] estimator__max_depth=17, estimator__max_features=sqrt, estimator__max_leaf_nodes=40, estimator__min_samples_leaf=3, estimator__splitter=random \n"
     ]
    },
    {
     "name": "stderr",
     "output_type": "stream",
     "text": [
      "/home/abhinav/anaconda3/lib/python3.8/site-packages/sklearn/multiclass.py:76: UserWarning: Label not 10 is present in all training examples.\n",
      "  warnings.warn(\"Label %s is present in all training examples.\" %\n"
     ]
    },
    {
     "name": "stdout",
     "output_type": "stream",
     "text": [
      "[CV]  estimator__max_depth=17, estimator__max_features=sqrt, estimator__max_leaf_nodes=40, estimator__min_samples_leaf=3, estimator__splitter=random, score=-0.017, total=   0.1s\n",
      "[CV] estimator__max_depth=17, estimator__max_features=sqrt, estimator__max_leaf_nodes=40, estimator__min_samples_leaf=3, estimator__splitter=random \n",
      "[CV]  estimator__max_depth=17, estimator__max_features=sqrt, estimator__max_leaf_nodes=40, estimator__min_samples_leaf=3, estimator__splitter=random, score=-0.018, total=   0.1s\n",
      "[CV] estimator__max_depth=17, estimator__max_features=sqrt, estimator__max_leaf_nodes=40, estimator__min_samples_leaf=3, estimator__splitter=random \n",
      "[CV]  estimator__max_depth=17, estimator__max_features=sqrt, estimator__max_leaf_nodes=40, estimator__min_samples_leaf=3, estimator__splitter=random, score=-0.018, total=   0.1s\n",
      "[CV] estimator__max_depth=17, estimator__max_features=sqrt, estimator__max_leaf_nodes=40, estimator__min_samples_leaf=5, estimator__splitter=best \n"
     ]
    },
    {
     "name": "stderr",
     "output_type": "stream",
     "text": [
      "/home/abhinav/anaconda3/lib/python3.8/site-packages/sklearn/multiclass.py:76: UserWarning: Label not 10 is present in all training examples.\n",
      "  warnings.warn(\"Label %s is present in all training examples.\" %\n"
     ]
    },
    {
     "name": "stdout",
     "output_type": "stream",
     "text": [
      "[CV]  estimator__max_depth=17, estimator__max_features=sqrt, estimator__max_leaf_nodes=40, estimator__min_samples_leaf=5, estimator__splitter=best, score=-0.018, total=   0.1s\n",
      "[CV] estimator__max_depth=17, estimator__max_features=sqrt, estimator__max_leaf_nodes=40, estimator__min_samples_leaf=5, estimator__splitter=best \n",
      "[CV]  estimator__max_depth=17, estimator__max_features=sqrt, estimator__max_leaf_nodes=40, estimator__min_samples_leaf=5, estimator__splitter=best, score=-0.018, total=   0.1s\n",
      "[CV] estimator__max_depth=17, estimator__max_features=sqrt, estimator__max_leaf_nodes=40, estimator__min_samples_leaf=5, estimator__splitter=best \n",
      "[CV]  estimator__max_depth=17, estimator__max_features=sqrt, estimator__max_leaf_nodes=40, estimator__min_samples_leaf=5, estimator__splitter=best, score=-0.018, total=   0.1s\n",
      "[CV] estimator__max_depth=17, estimator__max_features=sqrt, estimator__max_leaf_nodes=40, estimator__min_samples_leaf=5, estimator__splitter=random \n"
     ]
    },
    {
     "name": "stderr",
     "output_type": "stream",
     "text": [
      "/home/abhinav/anaconda3/lib/python3.8/site-packages/sklearn/multiclass.py:76: UserWarning: Label not 10 is present in all training examples.\n",
      "  warnings.warn(\"Label %s is present in all training examples.\" %\n"
     ]
    },
    {
     "name": "stdout",
     "output_type": "stream",
     "text": [
      "[CV]  estimator__max_depth=17, estimator__max_features=sqrt, estimator__max_leaf_nodes=40, estimator__min_samples_leaf=5, estimator__splitter=random, score=-0.018, total=   0.1s\n",
      "[CV] estimator__max_depth=17, estimator__max_features=sqrt, estimator__max_leaf_nodes=40, estimator__min_samples_leaf=5, estimator__splitter=random \n",
      "[CV]  estimator__max_depth=17, estimator__max_features=sqrt, estimator__max_leaf_nodes=40, estimator__min_samples_leaf=5, estimator__splitter=random, score=-0.018, total=   0.1s\n",
      "[CV] estimator__max_depth=17, estimator__max_features=sqrt, estimator__max_leaf_nodes=40, estimator__min_samples_leaf=5, estimator__splitter=random \n",
      "[CV]  estimator__max_depth=17, estimator__max_features=sqrt, estimator__max_leaf_nodes=40, estimator__min_samples_leaf=5, estimator__splitter=random, score=-0.018, total=   0.1s\n",
      "[CV] estimator__max_depth=17, estimator__max_features=sqrt, estimator__max_leaf_nodes=50, estimator__min_samples_leaf=1, estimator__splitter=best \n"
     ]
    },
    {
     "name": "stderr",
     "output_type": "stream",
     "text": [
      "/home/abhinav/anaconda3/lib/python3.8/site-packages/sklearn/multiclass.py:76: UserWarning: Label not 10 is present in all training examples.\n",
      "  warnings.warn(\"Label %s is present in all training examples.\" %\n"
     ]
    },
    {
     "name": "stdout",
     "output_type": "stream",
     "text": [
      "[CV]  estimator__max_depth=17, estimator__max_features=sqrt, estimator__max_leaf_nodes=50, estimator__min_samples_leaf=1, estimator__splitter=best, score=-0.020, total=   0.1s\n",
      "[CV] estimator__max_depth=17, estimator__max_features=sqrt, estimator__max_leaf_nodes=50, estimator__min_samples_leaf=1, estimator__splitter=best \n",
      "[CV]  estimator__max_depth=17, estimator__max_features=sqrt, estimator__max_leaf_nodes=50, estimator__min_samples_leaf=1, estimator__splitter=best, score=-0.015, total=   0.1s\n",
      "[CV] estimator__max_depth=17, estimator__max_features=sqrt, estimator__max_leaf_nodes=50, estimator__min_samples_leaf=1, estimator__splitter=best \n",
      "[CV]  estimator__max_depth=17, estimator__max_features=sqrt, estimator__max_leaf_nodes=50, estimator__min_samples_leaf=1, estimator__splitter=best, score=-0.017, total=   0.1s\n",
      "[CV] estimator__max_depth=17, estimator__max_features=sqrt, estimator__max_leaf_nodes=50, estimator__min_samples_leaf=1, estimator__splitter=random \n"
     ]
    },
    {
     "name": "stderr",
     "output_type": "stream",
     "text": [
      "/home/abhinav/anaconda3/lib/python3.8/site-packages/sklearn/multiclass.py:76: UserWarning: Label not 10 is present in all training examples.\n",
      "  warnings.warn(\"Label %s is present in all training examples.\" %\n"
     ]
    },
    {
     "name": "stdout",
     "output_type": "stream",
     "text": [
      "[CV]  estimator__max_depth=17, estimator__max_features=sqrt, estimator__max_leaf_nodes=50, estimator__min_samples_leaf=1, estimator__splitter=random, score=-0.017, total=   0.1s\n",
      "[CV] estimator__max_depth=17, estimator__max_features=sqrt, estimator__max_leaf_nodes=50, estimator__min_samples_leaf=1, estimator__splitter=random \n",
      "[CV]  estimator__max_depth=17, estimator__max_features=sqrt, estimator__max_leaf_nodes=50, estimator__min_samples_leaf=1, estimator__splitter=random, score=-0.017, total=   0.1s\n",
      "[CV] estimator__max_depth=17, estimator__max_features=sqrt, estimator__max_leaf_nodes=50, estimator__min_samples_leaf=1, estimator__splitter=random \n",
      "[CV]  estimator__max_depth=17, estimator__max_features=sqrt, estimator__max_leaf_nodes=50, estimator__min_samples_leaf=1, estimator__splitter=random, score=-0.017, total=   0.1s\n",
      "[CV] estimator__max_depth=17, estimator__max_features=sqrt, estimator__max_leaf_nodes=50, estimator__min_samples_leaf=3, estimator__splitter=best \n"
     ]
    },
    {
     "name": "stderr",
     "output_type": "stream",
     "text": [
      "/home/abhinav/anaconda3/lib/python3.8/site-packages/sklearn/multiclass.py:76: UserWarning: Label not 10 is present in all training examples.\n",
      "  warnings.warn(\"Label %s is present in all training examples.\" %\n"
     ]
    },
    {
     "name": "stdout",
     "output_type": "stream",
     "text": [
      "[CV]  estimator__max_depth=17, estimator__max_features=sqrt, estimator__max_leaf_nodes=50, estimator__min_samples_leaf=3, estimator__splitter=best, score=-0.016, total=   0.1s\n",
      "[CV] estimator__max_depth=17, estimator__max_features=sqrt, estimator__max_leaf_nodes=50, estimator__min_samples_leaf=3, estimator__splitter=best \n",
      "[CV]  estimator__max_depth=17, estimator__max_features=sqrt, estimator__max_leaf_nodes=50, estimator__min_samples_leaf=3, estimator__splitter=best, score=-0.016, total=   0.1s\n",
      "[CV] estimator__max_depth=17, estimator__max_features=sqrt, estimator__max_leaf_nodes=50, estimator__min_samples_leaf=3, estimator__splitter=best \n",
      "[CV]  estimator__max_depth=17, estimator__max_features=sqrt, estimator__max_leaf_nodes=50, estimator__min_samples_leaf=3, estimator__splitter=best, score=-0.017, total=   0.1s\n",
      "[CV] estimator__max_depth=17, estimator__max_features=sqrt, estimator__max_leaf_nodes=50, estimator__min_samples_leaf=3, estimator__splitter=random \n"
     ]
    },
    {
     "name": "stderr",
     "output_type": "stream",
     "text": [
      "/home/abhinav/anaconda3/lib/python3.8/site-packages/sklearn/multiclass.py:76: UserWarning: Label not 10 is present in all training examples.\n",
      "  warnings.warn(\"Label %s is present in all training examples.\" %\n"
     ]
    },
    {
     "name": "stdout",
     "output_type": "stream",
     "text": [
      "[CV]  estimator__max_depth=17, estimator__max_features=sqrt, estimator__max_leaf_nodes=50, estimator__min_samples_leaf=3, estimator__splitter=random, score=-0.018, total=   0.1s\n",
      "[CV] estimator__max_depth=17, estimator__max_features=sqrt, estimator__max_leaf_nodes=50, estimator__min_samples_leaf=3, estimator__splitter=random \n",
      "[CV]  estimator__max_depth=17, estimator__max_features=sqrt, estimator__max_leaf_nodes=50, estimator__min_samples_leaf=3, estimator__splitter=random, score=-0.018, total=   0.1s\n",
      "[CV] estimator__max_depth=17, estimator__max_features=sqrt, estimator__max_leaf_nodes=50, estimator__min_samples_leaf=3, estimator__splitter=random \n",
      "[CV]  estimator__max_depth=17, estimator__max_features=sqrt, estimator__max_leaf_nodes=50, estimator__min_samples_leaf=3, estimator__splitter=random, score=-0.018, total=   0.1s\n",
      "[CV] estimator__max_depth=17, estimator__max_features=sqrt, estimator__max_leaf_nodes=50, estimator__min_samples_leaf=5, estimator__splitter=best \n"
     ]
    },
    {
     "name": "stderr",
     "output_type": "stream",
     "text": [
      "/home/abhinav/anaconda3/lib/python3.8/site-packages/sklearn/multiclass.py:76: UserWarning: Label not 10 is present in all training examples.\n",
      "  warnings.warn(\"Label %s is present in all training examples.\" %\n"
     ]
    },
    {
     "name": "stdout",
     "output_type": "stream",
     "text": [
      "[CV]  estimator__max_depth=17, estimator__max_features=sqrt, estimator__max_leaf_nodes=50, estimator__min_samples_leaf=5, estimator__splitter=best, score=-0.018, total=   0.1s\n",
      "[CV] estimator__max_depth=17, estimator__max_features=sqrt, estimator__max_leaf_nodes=50, estimator__min_samples_leaf=5, estimator__splitter=best \n",
      "[CV]  estimator__max_depth=17, estimator__max_features=sqrt, estimator__max_leaf_nodes=50, estimator__min_samples_leaf=5, estimator__splitter=best, score=-0.018, total=   0.1s\n",
      "[CV] estimator__max_depth=17, estimator__max_features=sqrt, estimator__max_leaf_nodes=50, estimator__min_samples_leaf=5, estimator__splitter=best \n",
      "[CV]  estimator__max_depth=17, estimator__max_features=sqrt, estimator__max_leaf_nodes=50, estimator__min_samples_leaf=5, estimator__splitter=best, score=-0.018, total=   0.1s\n",
      "[CV] estimator__max_depth=17, estimator__max_features=sqrt, estimator__max_leaf_nodes=50, estimator__min_samples_leaf=5, estimator__splitter=random \n"
     ]
    },
    {
     "name": "stderr",
     "output_type": "stream",
     "text": [
      "/home/abhinav/anaconda3/lib/python3.8/site-packages/sklearn/multiclass.py:76: UserWarning: Label not 10 is present in all training examples.\n",
      "  warnings.warn(\"Label %s is present in all training examples.\" %\n"
     ]
    },
    {
     "name": "stdout",
     "output_type": "stream",
     "text": [
      "[CV]  estimator__max_depth=17, estimator__max_features=sqrt, estimator__max_leaf_nodes=50, estimator__min_samples_leaf=5, estimator__splitter=random, score=-0.018, total=   0.1s\n",
      "[CV] estimator__max_depth=17, estimator__max_features=sqrt, estimator__max_leaf_nodes=50, estimator__min_samples_leaf=5, estimator__splitter=random \n",
      "[CV]  estimator__max_depth=17, estimator__max_features=sqrt, estimator__max_leaf_nodes=50, estimator__min_samples_leaf=5, estimator__splitter=random, score=-0.018, total=   0.1s\n",
      "[CV] estimator__max_depth=17, estimator__max_features=sqrt, estimator__max_leaf_nodes=50, estimator__min_samples_leaf=5, estimator__splitter=random \n",
      "[CV]  estimator__max_depth=17, estimator__max_features=sqrt, estimator__max_leaf_nodes=50, estimator__min_samples_leaf=5, estimator__splitter=random, score=-0.018, total=   0.1s\n",
      "[CV] estimator__max_depth=17, estimator__max_features=sqrt, estimator__max_leaf_nodes=70, estimator__min_samples_leaf=1, estimator__splitter=best \n"
     ]
    },
    {
     "name": "stderr",
     "output_type": "stream",
     "text": [
      "/home/abhinav/anaconda3/lib/python3.8/site-packages/sklearn/multiclass.py:76: UserWarning: Label not 10 is present in all training examples.\n",
      "  warnings.warn(\"Label %s is present in all training examples.\" %\n"
     ]
    },
    {
     "name": "stdout",
     "output_type": "stream",
     "text": [
      "[CV]  estimator__max_depth=17, estimator__max_features=sqrt, estimator__max_leaf_nodes=70, estimator__min_samples_leaf=1, estimator__splitter=best, score=-0.016, total=   0.1s\n",
      "[CV] estimator__max_depth=17, estimator__max_features=sqrt, estimator__max_leaf_nodes=70, estimator__min_samples_leaf=1, estimator__splitter=best \n",
      "[CV]  estimator__max_depth=17, estimator__max_features=sqrt, estimator__max_leaf_nodes=70, estimator__min_samples_leaf=1, estimator__splitter=best, score=-0.014, total=   0.1s\n",
      "[CV] estimator__max_depth=17, estimator__max_features=sqrt, estimator__max_leaf_nodes=70, estimator__min_samples_leaf=1, estimator__splitter=best \n",
      "[CV]  estimator__max_depth=17, estimator__max_features=sqrt, estimator__max_leaf_nodes=70, estimator__min_samples_leaf=1, estimator__splitter=best, score=-0.015, total=   0.1s\n",
      "[CV] estimator__max_depth=17, estimator__max_features=sqrt, estimator__max_leaf_nodes=70, estimator__min_samples_leaf=1, estimator__splitter=random \n"
     ]
    },
    {
     "name": "stderr",
     "output_type": "stream",
     "text": [
      "/home/abhinav/anaconda3/lib/python3.8/site-packages/sklearn/multiclass.py:76: UserWarning: Label not 10 is present in all training examples.\n",
      "  warnings.warn(\"Label %s is present in all training examples.\" %\n"
     ]
    },
    {
     "name": "stdout",
     "output_type": "stream",
     "text": [
      "[CV]  estimator__max_depth=17, estimator__max_features=sqrt, estimator__max_leaf_nodes=70, estimator__min_samples_leaf=1, estimator__splitter=random, score=-0.017, total=   0.1s\n",
      "[CV] estimator__max_depth=17, estimator__max_features=sqrt, estimator__max_leaf_nodes=70, estimator__min_samples_leaf=1, estimator__splitter=random \n",
      "[CV]  estimator__max_depth=17, estimator__max_features=sqrt, estimator__max_leaf_nodes=70, estimator__min_samples_leaf=1, estimator__splitter=random, score=-0.015, total=   0.1s\n",
      "[CV] estimator__max_depth=17, estimator__max_features=sqrt, estimator__max_leaf_nodes=70, estimator__min_samples_leaf=1, estimator__splitter=random \n",
      "[CV]  estimator__max_depth=17, estimator__max_features=sqrt, estimator__max_leaf_nodes=70, estimator__min_samples_leaf=1, estimator__splitter=random, score=-0.016, total=   0.1s\n",
      "[CV] estimator__max_depth=17, estimator__max_features=sqrt, estimator__max_leaf_nodes=70, estimator__min_samples_leaf=3, estimator__splitter=best \n"
     ]
    },
    {
     "name": "stderr",
     "output_type": "stream",
     "text": [
      "/home/abhinav/anaconda3/lib/python3.8/site-packages/sklearn/multiclass.py:76: UserWarning: Label not 10 is present in all training examples.\n",
      "  warnings.warn(\"Label %s is present in all training examples.\" %\n"
     ]
    },
    {
     "name": "stdout",
     "output_type": "stream",
     "text": [
      "[CV]  estimator__max_depth=17, estimator__max_features=sqrt, estimator__max_leaf_nodes=70, estimator__min_samples_leaf=3, estimator__splitter=best, score=-0.017, total=   0.1s\n",
      "[CV] estimator__max_depth=17, estimator__max_features=sqrt, estimator__max_leaf_nodes=70, estimator__min_samples_leaf=3, estimator__splitter=best \n",
      "[CV]  estimator__max_depth=17, estimator__max_features=sqrt, estimator__max_leaf_nodes=70, estimator__min_samples_leaf=3, estimator__splitter=best, score=-0.017, total=   0.1s\n",
      "[CV] estimator__max_depth=17, estimator__max_features=sqrt, estimator__max_leaf_nodes=70, estimator__min_samples_leaf=3, estimator__splitter=best \n",
      "[CV]  estimator__max_depth=17, estimator__max_features=sqrt, estimator__max_leaf_nodes=70, estimator__min_samples_leaf=3, estimator__splitter=best, score=-0.015, total=   0.1s\n",
      "[CV] estimator__max_depth=17, estimator__max_features=sqrt, estimator__max_leaf_nodes=70, estimator__min_samples_leaf=3, estimator__splitter=random \n"
     ]
    },
    {
     "name": "stderr",
     "output_type": "stream",
     "text": [
      "/home/abhinav/anaconda3/lib/python3.8/site-packages/sklearn/multiclass.py:76: UserWarning: Label not 10 is present in all training examples.\n",
      "  warnings.warn(\"Label %s is present in all training examples.\" %\n"
     ]
    },
    {
     "name": "stdout",
     "output_type": "stream",
     "text": [
      "[CV]  estimator__max_depth=17, estimator__max_features=sqrt, estimator__max_leaf_nodes=70, estimator__min_samples_leaf=3, estimator__splitter=random, score=-0.018, total=   0.1s\n",
      "[CV] estimator__max_depth=17, estimator__max_features=sqrt, estimator__max_leaf_nodes=70, estimator__min_samples_leaf=3, estimator__splitter=random \n",
      "[CV]  estimator__max_depth=17, estimator__max_features=sqrt, estimator__max_leaf_nodes=70, estimator__min_samples_leaf=3, estimator__splitter=random, score=-0.018, total=   0.1s\n",
      "[CV] estimator__max_depth=17, estimator__max_features=sqrt, estimator__max_leaf_nodes=70, estimator__min_samples_leaf=3, estimator__splitter=random \n",
      "[CV]  estimator__max_depth=17, estimator__max_features=sqrt, estimator__max_leaf_nodes=70, estimator__min_samples_leaf=3, estimator__splitter=random, score=-0.017, total=   0.1s\n",
      "[CV] estimator__max_depth=17, estimator__max_features=sqrt, estimator__max_leaf_nodes=70, estimator__min_samples_leaf=5, estimator__splitter=best \n"
     ]
    },
    {
     "name": "stderr",
     "output_type": "stream",
     "text": [
      "/home/abhinav/anaconda3/lib/python3.8/site-packages/sklearn/multiclass.py:76: UserWarning: Label not 10 is present in all training examples.\n",
      "  warnings.warn(\"Label %s is present in all training examples.\" %\n"
     ]
    },
    {
     "name": "stdout",
     "output_type": "stream",
     "text": [
      "[CV]  estimator__max_depth=17, estimator__max_features=sqrt, estimator__max_leaf_nodes=70, estimator__min_samples_leaf=5, estimator__splitter=best, score=-0.017, total=   0.1s\n",
      "[CV] estimator__max_depth=17, estimator__max_features=sqrt, estimator__max_leaf_nodes=70, estimator__min_samples_leaf=5, estimator__splitter=best \n",
      "[CV]  estimator__max_depth=17, estimator__max_features=sqrt, estimator__max_leaf_nodes=70, estimator__min_samples_leaf=5, estimator__splitter=best, score=-0.018, total=   0.1s\n",
      "[CV] estimator__max_depth=17, estimator__max_features=sqrt, estimator__max_leaf_nodes=70, estimator__min_samples_leaf=5, estimator__splitter=best \n",
      "[CV]  estimator__max_depth=17, estimator__max_features=sqrt, estimator__max_leaf_nodes=70, estimator__min_samples_leaf=5, estimator__splitter=best, score=-0.018, total=   0.1s\n",
      "[CV] estimator__max_depth=17, estimator__max_features=sqrt, estimator__max_leaf_nodes=70, estimator__min_samples_leaf=5, estimator__splitter=random \n"
     ]
    },
    {
     "name": "stderr",
     "output_type": "stream",
     "text": [
      "/home/abhinav/anaconda3/lib/python3.8/site-packages/sklearn/multiclass.py:76: UserWarning: Label not 10 is present in all training examples.\n",
      "  warnings.warn(\"Label %s is present in all training examples.\" %\n"
     ]
    },
    {
     "name": "stdout",
     "output_type": "stream",
     "text": [
      "[CV]  estimator__max_depth=17, estimator__max_features=sqrt, estimator__max_leaf_nodes=70, estimator__min_samples_leaf=5, estimator__splitter=random, score=-0.018, total=   0.1s\n",
      "[CV] estimator__max_depth=17, estimator__max_features=sqrt, estimator__max_leaf_nodes=70, estimator__min_samples_leaf=5, estimator__splitter=random \n",
      "[CV]  estimator__max_depth=17, estimator__max_features=sqrt, estimator__max_leaf_nodes=70, estimator__min_samples_leaf=5, estimator__splitter=random, score=-0.018, total=   0.1s\n",
      "[CV] estimator__max_depth=17, estimator__max_features=sqrt, estimator__max_leaf_nodes=70, estimator__min_samples_leaf=5, estimator__splitter=random \n",
      "[CV]  estimator__max_depth=17, estimator__max_features=sqrt, estimator__max_leaf_nodes=70, estimator__min_samples_leaf=5, estimator__splitter=random, score=-0.018, total=   0.1s\n",
      "[CV] estimator__max_depth=17, estimator__max_features=None, estimator__max_leaf_nodes=None, estimator__min_samples_leaf=1, estimator__splitter=best \n"
     ]
    },
    {
     "name": "stderr",
     "output_type": "stream",
     "text": [
      "/home/abhinav/anaconda3/lib/python3.8/site-packages/sklearn/multiclass.py:76: UserWarning: Label not 10 is present in all training examples.\n",
      "  warnings.warn(\"Label %s is present in all training examples.\" %\n"
     ]
    },
    {
     "name": "stdout",
     "output_type": "stream",
     "text": [
      "[CV]  estimator__max_depth=17, estimator__max_features=None, estimator__max_leaf_nodes=None, estimator__min_samples_leaf=1, estimator__splitter=best, score=-0.010, total=   0.1s\n",
      "[CV] estimator__max_depth=17, estimator__max_features=None, estimator__max_leaf_nodes=None, estimator__min_samples_leaf=1, estimator__splitter=best \n",
      "[CV]  estimator__max_depth=17, estimator__max_features=None, estimator__max_leaf_nodes=None, estimator__min_samples_leaf=1, estimator__splitter=best, score=-0.010, total=   0.1s\n",
      "[CV] estimator__max_depth=17, estimator__max_features=None, estimator__max_leaf_nodes=None, estimator__min_samples_leaf=1, estimator__splitter=best \n",
      "[CV]  estimator__max_depth=17, estimator__max_features=None, estimator__max_leaf_nodes=None, estimator__min_samples_leaf=1, estimator__splitter=best, score=-0.009, total=   0.1s\n",
      "[CV] estimator__max_depth=17, estimator__max_features=None, estimator__max_leaf_nodes=None, estimator__min_samples_leaf=1, estimator__splitter=random \n",
      "[CV]  estimator__max_depth=17, estimator__max_features=None, estimator__max_leaf_nodes=None, estimator__min_samples_leaf=1, estimator__splitter=random, score=-0.011, total=   0.1s\n",
      "[CV] estimator__max_depth=17, estimator__max_features=None, estimator__max_leaf_nodes=None, estimator__min_samples_leaf=1, estimator__splitter=random \n"
     ]
    },
    {
     "name": "stderr",
     "output_type": "stream",
     "text": [
      "/home/abhinav/anaconda3/lib/python3.8/site-packages/sklearn/multiclass.py:76: UserWarning: Label not 10 is present in all training examples.\n",
      "  warnings.warn(\"Label %s is present in all training examples.\" %\n"
     ]
    },
    {
     "name": "stdout",
     "output_type": "stream",
     "text": [
      "[CV]  estimator__max_depth=17, estimator__max_features=None, estimator__max_leaf_nodes=None, estimator__min_samples_leaf=1, estimator__splitter=random, score=-0.010, total=   0.1s\n",
      "[CV] estimator__max_depth=17, estimator__max_features=None, estimator__max_leaf_nodes=None, estimator__min_samples_leaf=1, estimator__splitter=random \n",
      "[CV]  estimator__max_depth=17, estimator__max_features=None, estimator__max_leaf_nodes=None, estimator__min_samples_leaf=1, estimator__splitter=random, score=-0.010, total=   0.1s\n",
      "[CV] estimator__max_depth=17, estimator__max_features=None, estimator__max_leaf_nodes=None, estimator__min_samples_leaf=3, estimator__splitter=best \n"
     ]
    },
    {
     "name": "stderr",
     "output_type": "stream",
     "text": [
      "/home/abhinav/anaconda3/lib/python3.8/site-packages/sklearn/multiclass.py:76: UserWarning: Label not 10 is present in all training examples.\n",
      "  warnings.warn(\"Label %s is present in all training examples.\" %\n"
     ]
    },
    {
     "name": "stdout",
     "output_type": "stream",
     "text": [
      "[CV]  estimator__max_depth=17, estimator__max_features=None, estimator__max_leaf_nodes=None, estimator__min_samples_leaf=3, estimator__splitter=best, score=-0.012, total=   0.1s\n",
      "[CV] estimator__max_depth=17, estimator__max_features=None, estimator__max_leaf_nodes=None, estimator__min_samples_leaf=3, estimator__splitter=best \n",
      "[CV]  estimator__max_depth=17, estimator__max_features=None, estimator__max_leaf_nodes=None, estimator__min_samples_leaf=3, estimator__splitter=best, score=-0.012, total=   0.1s\n",
      "[CV] estimator__max_depth=17, estimator__max_features=None, estimator__max_leaf_nodes=None, estimator__min_samples_leaf=3, estimator__splitter=best \n",
      "[CV]  estimator__max_depth=17, estimator__max_features=None, estimator__max_leaf_nodes=None, estimator__min_samples_leaf=3, estimator__splitter=best, score=-0.011, total=   0.1s\n",
      "[CV] estimator__max_depth=17, estimator__max_features=None, estimator__max_leaf_nodes=None, estimator__min_samples_leaf=3, estimator__splitter=random \n",
      "[CV]  estimator__max_depth=17, estimator__max_features=None, estimator__max_leaf_nodes=None, estimator__min_samples_leaf=3, estimator__splitter=random, score=-0.014, total=   0.1s\n",
      "[CV] estimator__max_depth=17, estimator__max_features=None, estimator__max_leaf_nodes=None, estimator__min_samples_leaf=3, estimator__splitter=random \n"
     ]
    },
    {
     "name": "stderr",
     "output_type": "stream",
     "text": [
      "/home/abhinav/anaconda3/lib/python3.8/site-packages/sklearn/multiclass.py:76: UserWarning: Label not 10 is present in all training examples.\n",
      "  warnings.warn(\"Label %s is present in all training examples.\" %\n"
     ]
    },
    {
     "name": "stdout",
     "output_type": "stream",
     "text": [
      "[CV]  estimator__max_depth=17, estimator__max_features=None, estimator__max_leaf_nodes=None, estimator__min_samples_leaf=3, estimator__splitter=random, score=-0.013, total=   0.1s\n",
      "[CV] estimator__max_depth=17, estimator__max_features=None, estimator__max_leaf_nodes=None, estimator__min_samples_leaf=3, estimator__splitter=random \n",
      "[CV]  estimator__max_depth=17, estimator__max_features=None, estimator__max_leaf_nodes=None, estimator__min_samples_leaf=3, estimator__splitter=random, score=-0.013, total=   0.1s\n",
      "[CV] estimator__max_depth=17, estimator__max_features=None, estimator__max_leaf_nodes=None, estimator__min_samples_leaf=5, estimator__splitter=best \n"
     ]
    },
    {
     "name": "stderr",
     "output_type": "stream",
     "text": [
      "/home/abhinav/anaconda3/lib/python3.8/site-packages/sklearn/multiclass.py:76: UserWarning: Label not 10 is present in all training examples.\n",
      "  warnings.warn(\"Label %s is present in all training examples.\" %\n"
     ]
    },
    {
     "name": "stdout",
     "output_type": "stream",
     "text": [
      "[CV]  estimator__max_depth=17, estimator__max_features=None, estimator__max_leaf_nodes=None, estimator__min_samples_leaf=5, estimator__splitter=best, score=-0.015, total=   0.1s\n",
      "[CV] estimator__max_depth=17, estimator__max_features=None, estimator__max_leaf_nodes=None, estimator__min_samples_leaf=5, estimator__splitter=best \n",
      "[CV]  estimator__max_depth=17, estimator__max_features=None, estimator__max_leaf_nodes=None, estimator__min_samples_leaf=5, estimator__splitter=best, score=-0.014, total=   0.1s\n",
      "[CV] estimator__max_depth=17, estimator__max_features=None, estimator__max_leaf_nodes=None, estimator__min_samples_leaf=5, estimator__splitter=best \n",
      "[CV]  estimator__max_depth=17, estimator__max_features=None, estimator__max_leaf_nodes=None, estimator__min_samples_leaf=5, estimator__splitter=best, score=-0.016, total=   0.1s\n",
      "[CV] estimator__max_depth=17, estimator__max_features=None, estimator__max_leaf_nodes=None, estimator__min_samples_leaf=5, estimator__splitter=random \n",
      "[CV]  estimator__max_depth=17, estimator__max_features=None, estimator__max_leaf_nodes=None, estimator__min_samples_leaf=5, estimator__splitter=random, score=-0.016, total=   0.1s\n",
      "[CV] estimator__max_depth=17, estimator__max_features=None, estimator__max_leaf_nodes=None, estimator__min_samples_leaf=5, estimator__splitter=random \n"
     ]
    },
    {
     "name": "stderr",
     "output_type": "stream",
     "text": [
      "/home/abhinav/anaconda3/lib/python3.8/site-packages/sklearn/multiclass.py:76: UserWarning: Label not 10 is present in all training examples.\n",
      "  warnings.warn(\"Label %s is present in all training examples.\" %\n"
     ]
    },
    {
     "name": "stdout",
     "output_type": "stream",
     "text": [
      "[CV]  estimator__max_depth=17, estimator__max_features=None, estimator__max_leaf_nodes=None, estimator__min_samples_leaf=5, estimator__splitter=random, score=-0.015, total=   0.1s\n",
      "[CV] estimator__max_depth=17, estimator__max_features=None, estimator__max_leaf_nodes=None, estimator__min_samples_leaf=5, estimator__splitter=random \n",
      "[CV]  estimator__max_depth=17, estimator__max_features=None, estimator__max_leaf_nodes=None, estimator__min_samples_leaf=5, estimator__splitter=random, score=-0.016, total=   0.1s\n",
      "[CV] estimator__max_depth=17, estimator__max_features=None, estimator__max_leaf_nodes=10, estimator__min_samples_leaf=1, estimator__splitter=best \n"
     ]
    },
    {
     "name": "stderr",
     "output_type": "stream",
     "text": [
      "/home/abhinav/anaconda3/lib/python3.8/site-packages/sklearn/multiclass.py:76: UserWarning: Label not 10 is present in all training examples.\n",
      "  warnings.warn(\"Label %s is present in all training examples.\" %\n"
     ]
    },
    {
     "name": "stdout",
     "output_type": "stream",
     "text": [
      "[CV]  estimator__max_depth=17, estimator__max_features=None, estimator__max_leaf_nodes=10, estimator__min_samples_leaf=1, estimator__splitter=best, score=-0.010, total=   0.2s\n",
      "[CV] estimator__max_depth=17, estimator__max_features=None, estimator__max_leaf_nodes=10, estimator__min_samples_leaf=1, estimator__splitter=best \n",
      "[CV]  estimator__max_depth=17, estimator__max_features=None, estimator__max_leaf_nodes=10, estimator__min_samples_leaf=1, estimator__splitter=best, score=-0.010, total=   0.2s\n",
      "[CV] estimator__max_depth=17, estimator__max_features=None, estimator__max_leaf_nodes=10, estimator__min_samples_leaf=1, estimator__splitter=best \n",
      "[CV]  estimator__max_depth=17, estimator__max_features=None, estimator__max_leaf_nodes=10, estimator__min_samples_leaf=1, estimator__splitter=best, score=-0.009, total=   0.2s\n",
      "[CV] estimator__max_depth=17, estimator__max_features=None, estimator__max_leaf_nodes=10, estimator__min_samples_leaf=1, estimator__splitter=random \n",
      "[CV]  estimator__max_depth=17, estimator__max_features=None, estimator__max_leaf_nodes=10, estimator__min_samples_leaf=1, estimator__splitter=random, score=-0.010, total=   0.2s\n",
      "[CV] estimator__max_depth=17, estimator__max_features=None, estimator__max_leaf_nodes=10, estimator__min_samples_leaf=1, estimator__splitter=random \n"
     ]
    },
    {
     "name": "stderr",
     "output_type": "stream",
     "text": [
      "/home/abhinav/anaconda3/lib/python3.8/site-packages/sklearn/multiclass.py:76: UserWarning: Label not 10 is present in all training examples.\n",
      "  warnings.warn(\"Label %s is present in all training examples.\" %\n"
     ]
    },
    {
     "name": "stdout",
     "output_type": "stream",
     "text": [
      "[CV]  estimator__max_depth=17, estimator__max_features=None, estimator__max_leaf_nodes=10, estimator__min_samples_leaf=1, estimator__splitter=random, score=-0.010, total=   0.2s\n",
      "[CV] estimator__max_depth=17, estimator__max_features=None, estimator__max_leaf_nodes=10, estimator__min_samples_leaf=1, estimator__splitter=random \n",
      "[CV]  estimator__max_depth=17, estimator__max_features=None, estimator__max_leaf_nodes=10, estimator__min_samples_leaf=1, estimator__splitter=random, score=-0.010, total=   0.2s\n",
      "[CV] estimator__max_depth=17, estimator__max_features=None, estimator__max_leaf_nodes=10, estimator__min_samples_leaf=3, estimator__splitter=best \n"
     ]
    },
    {
     "name": "stderr",
     "output_type": "stream",
     "text": [
      "/home/abhinav/anaconda3/lib/python3.8/site-packages/sklearn/multiclass.py:76: UserWarning: Label not 10 is present in all training examples.\n",
      "  warnings.warn(\"Label %s is present in all training examples.\" %\n"
     ]
    },
    {
     "name": "stdout",
     "output_type": "stream",
     "text": [
      "[CV]  estimator__max_depth=17, estimator__max_features=None, estimator__max_leaf_nodes=10, estimator__min_samples_leaf=3, estimator__splitter=best, score=-0.012, total=   0.2s\n",
      "[CV] estimator__max_depth=17, estimator__max_features=None, estimator__max_leaf_nodes=10, estimator__min_samples_leaf=3, estimator__splitter=best \n",
      "[CV]  estimator__max_depth=17, estimator__max_features=None, estimator__max_leaf_nodes=10, estimator__min_samples_leaf=3, estimator__splitter=best, score=-0.012, total=   0.2s\n",
      "[CV] estimator__max_depth=17, estimator__max_features=None, estimator__max_leaf_nodes=10, estimator__min_samples_leaf=3, estimator__splitter=best \n",
      "[CV]  estimator__max_depth=17, estimator__max_features=None, estimator__max_leaf_nodes=10, estimator__min_samples_leaf=3, estimator__splitter=best, score=-0.012, total=   0.2s\n",
      "[CV] estimator__max_depth=17, estimator__max_features=None, estimator__max_leaf_nodes=10, estimator__min_samples_leaf=3, estimator__splitter=random \n",
      "[CV]  estimator__max_depth=17, estimator__max_features=None, estimator__max_leaf_nodes=10, estimator__min_samples_leaf=3, estimator__splitter=random, score=-0.013, total=   0.2s\n",
      "[CV] estimator__max_depth=17, estimator__max_features=None, estimator__max_leaf_nodes=10, estimator__min_samples_leaf=3, estimator__splitter=random \n"
     ]
    },
    {
     "name": "stderr",
     "output_type": "stream",
     "text": [
      "/home/abhinav/anaconda3/lib/python3.8/site-packages/sklearn/multiclass.py:76: UserWarning: Label not 10 is present in all training examples.\n",
      "  warnings.warn(\"Label %s is present in all training examples.\" %\n"
     ]
    },
    {
     "name": "stdout",
     "output_type": "stream",
     "text": [
      "[CV]  estimator__max_depth=17, estimator__max_features=None, estimator__max_leaf_nodes=10, estimator__min_samples_leaf=3, estimator__splitter=random, score=-0.013, total=   0.2s\n",
      "[CV] estimator__max_depth=17, estimator__max_features=None, estimator__max_leaf_nodes=10, estimator__min_samples_leaf=3, estimator__splitter=random \n",
      "[CV]  estimator__max_depth=17, estimator__max_features=None, estimator__max_leaf_nodes=10, estimator__min_samples_leaf=3, estimator__splitter=random, score=-0.012, total=   0.2s\n",
      "[CV] estimator__max_depth=17, estimator__max_features=None, estimator__max_leaf_nodes=10, estimator__min_samples_leaf=5, estimator__splitter=best \n"
     ]
    },
    {
     "name": "stderr",
     "output_type": "stream",
     "text": [
      "/home/abhinav/anaconda3/lib/python3.8/site-packages/sklearn/multiclass.py:76: UserWarning: Label not 10 is present in all training examples.\n",
      "  warnings.warn(\"Label %s is present in all training examples.\" %\n"
     ]
    },
    {
     "name": "stdout",
     "output_type": "stream",
     "text": [
      "[CV]  estimator__max_depth=17, estimator__max_features=None, estimator__max_leaf_nodes=10, estimator__min_samples_leaf=5, estimator__splitter=best, score=-0.015, total=   0.2s\n",
      "[CV] estimator__max_depth=17, estimator__max_features=None, estimator__max_leaf_nodes=10, estimator__min_samples_leaf=5, estimator__splitter=best \n",
      "[CV]  estimator__max_depth=17, estimator__max_features=None, estimator__max_leaf_nodes=10, estimator__min_samples_leaf=5, estimator__splitter=best, score=-0.014, total=   0.2s\n",
      "[CV] estimator__max_depth=17, estimator__max_features=None, estimator__max_leaf_nodes=10, estimator__min_samples_leaf=5, estimator__splitter=best \n",
      "[CV]  estimator__max_depth=17, estimator__max_features=None, estimator__max_leaf_nodes=10, estimator__min_samples_leaf=5, estimator__splitter=best, score=-0.016, total=   0.2s\n",
      "[CV] estimator__max_depth=17, estimator__max_features=None, estimator__max_leaf_nodes=10, estimator__min_samples_leaf=5, estimator__splitter=random \n"
     ]
    },
    {
     "name": "stderr",
     "output_type": "stream",
     "text": [
      "/home/abhinav/anaconda3/lib/python3.8/site-packages/sklearn/multiclass.py:76: UserWarning: Label not 10 is present in all training examples.\n",
      "  warnings.warn(\"Label %s is present in all training examples.\" %\n"
     ]
    },
    {
     "name": "stdout",
     "output_type": "stream",
     "text": [
      "[CV]  estimator__max_depth=17, estimator__max_features=None, estimator__max_leaf_nodes=10, estimator__min_samples_leaf=5, estimator__splitter=random, score=-0.016, total=   0.2s\n",
      "[CV] estimator__max_depth=17, estimator__max_features=None, estimator__max_leaf_nodes=10, estimator__min_samples_leaf=5, estimator__splitter=random \n",
      "[CV]  estimator__max_depth=17, estimator__max_features=None, estimator__max_leaf_nodes=10, estimator__min_samples_leaf=5, estimator__splitter=random, score=-0.015, total=   0.2s\n",
      "[CV] estimator__max_depth=17, estimator__max_features=None, estimator__max_leaf_nodes=10, estimator__min_samples_leaf=5, estimator__splitter=random \n",
      "[CV]  estimator__max_depth=17, estimator__max_features=None, estimator__max_leaf_nodes=10, estimator__min_samples_leaf=5, estimator__splitter=random, score=-0.017, total=   0.2s\n",
      "[CV] estimator__max_depth=17, estimator__max_features=None, estimator__max_leaf_nodes=20, estimator__min_samples_leaf=1, estimator__splitter=best \n",
      "[CV]  estimator__max_depth=17, estimator__max_features=None, estimator__max_leaf_nodes=20, estimator__min_samples_leaf=1, estimator__splitter=best, score=-0.010, total=   0.2s\n",
      "[CV] estimator__max_depth=17, estimator__max_features=None, estimator__max_leaf_nodes=20, estimator__min_samples_leaf=1, estimator__splitter=best \n"
     ]
    },
    {
     "name": "stderr",
     "output_type": "stream",
     "text": [
      "/home/abhinav/anaconda3/lib/python3.8/site-packages/sklearn/multiclass.py:76: UserWarning: Label not 10 is present in all training examples.\n",
      "  warnings.warn(\"Label %s is present in all training examples.\" %\n"
     ]
    },
    {
     "name": "stdout",
     "output_type": "stream",
     "text": [
      "[CV]  estimator__max_depth=17, estimator__max_features=None, estimator__max_leaf_nodes=20, estimator__min_samples_leaf=1, estimator__splitter=best, score=-0.009, total=   0.2s\n",
      "[CV] estimator__max_depth=17, estimator__max_features=None, estimator__max_leaf_nodes=20, estimator__min_samples_leaf=1, estimator__splitter=best \n",
      "[CV]  estimator__max_depth=17, estimator__max_features=None, estimator__max_leaf_nodes=20, estimator__min_samples_leaf=1, estimator__splitter=best, score=-0.009, total=   0.2s\n",
      "[CV] estimator__max_depth=17, estimator__max_features=None, estimator__max_leaf_nodes=20, estimator__min_samples_leaf=1, estimator__splitter=random \n"
     ]
    },
    {
     "name": "stderr",
     "output_type": "stream",
     "text": [
      "/home/abhinav/anaconda3/lib/python3.8/site-packages/sklearn/multiclass.py:76: UserWarning: Label not 10 is present in all training examples.\n",
      "  warnings.warn(\"Label %s is present in all training examples.\" %\n"
     ]
    },
    {
     "name": "stdout",
     "output_type": "stream",
     "text": [
      "[CV]  estimator__max_depth=17, estimator__max_features=None, estimator__max_leaf_nodes=20, estimator__min_samples_leaf=1, estimator__splitter=random, score=-0.011, total=   0.2s\n",
      "[CV] estimator__max_depth=17, estimator__max_features=None, estimator__max_leaf_nodes=20, estimator__min_samples_leaf=1, estimator__splitter=random \n",
      "[CV]  estimator__max_depth=17, estimator__max_features=None, estimator__max_leaf_nodes=20, estimator__min_samples_leaf=1, estimator__splitter=random, score=-0.009, total=   0.2s\n",
      "[CV] estimator__max_depth=17, estimator__max_features=None, estimator__max_leaf_nodes=20, estimator__min_samples_leaf=1, estimator__splitter=random \n",
      "[CV]  estimator__max_depth=17, estimator__max_features=None, estimator__max_leaf_nodes=20, estimator__min_samples_leaf=1, estimator__splitter=random, score=-0.010, total=   0.2s\n",
      "[CV] estimator__max_depth=17, estimator__max_features=None, estimator__max_leaf_nodes=20, estimator__min_samples_leaf=3, estimator__splitter=best \n"
     ]
    },
    {
     "name": "stderr",
     "output_type": "stream",
     "text": [
      "/home/abhinav/anaconda3/lib/python3.8/site-packages/sklearn/multiclass.py:76: UserWarning: Label not 10 is present in all training examples.\n",
      "  warnings.warn(\"Label %s is present in all training examples.\" %\n"
     ]
    },
    {
     "name": "stdout",
     "output_type": "stream",
     "text": [
      "[CV]  estimator__max_depth=17, estimator__max_features=None, estimator__max_leaf_nodes=20, estimator__min_samples_leaf=3, estimator__splitter=best, score=-0.012, total=   0.2s\n",
      "[CV] estimator__max_depth=17, estimator__max_features=None, estimator__max_leaf_nodes=20, estimator__min_samples_leaf=3, estimator__splitter=best \n",
      "[CV]  estimator__max_depth=17, estimator__max_features=None, estimator__max_leaf_nodes=20, estimator__min_samples_leaf=3, estimator__splitter=best, score=-0.012, total=   0.2s\n",
      "[CV] estimator__max_depth=17, estimator__max_features=None, estimator__max_leaf_nodes=20, estimator__min_samples_leaf=3, estimator__splitter=best \n",
      "[CV]  estimator__max_depth=17, estimator__max_features=None, estimator__max_leaf_nodes=20, estimator__min_samples_leaf=3, estimator__splitter=best, score=-0.012, total=   0.2s\n",
      "[CV] estimator__max_depth=17, estimator__max_features=None, estimator__max_leaf_nodes=20, estimator__min_samples_leaf=3, estimator__splitter=random \n"
     ]
    },
    {
     "name": "stderr",
     "output_type": "stream",
     "text": [
      "/home/abhinav/anaconda3/lib/python3.8/site-packages/sklearn/multiclass.py:76: UserWarning: Label not 10 is present in all training examples.\n",
      "  warnings.warn(\"Label %s is present in all training examples.\" %\n"
     ]
    },
    {
     "name": "stdout",
     "output_type": "stream",
     "text": [
      "[CV]  estimator__max_depth=17, estimator__max_features=None, estimator__max_leaf_nodes=20, estimator__min_samples_leaf=3, estimator__splitter=random, score=-0.013, total=   0.3s\n",
      "[CV] estimator__max_depth=17, estimator__max_features=None, estimator__max_leaf_nodes=20, estimator__min_samples_leaf=3, estimator__splitter=random \n",
      "[CV]  estimator__max_depth=17, estimator__max_features=None, estimator__max_leaf_nodes=20, estimator__min_samples_leaf=3, estimator__splitter=random, score=-0.013, total=   0.2s\n",
      "[CV] estimator__max_depth=17, estimator__max_features=None, estimator__max_leaf_nodes=20, estimator__min_samples_leaf=3, estimator__splitter=random \n",
      "[CV]  estimator__max_depth=17, estimator__max_features=None, estimator__max_leaf_nodes=20, estimator__min_samples_leaf=3, estimator__splitter=random, score=-0.013, total=   0.2s\n",
      "[CV] estimator__max_depth=17, estimator__max_features=None, estimator__max_leaf_nodes=20, estimator__min_samples_leaf=5, estimator__splitter=best \n"
     ]
    },
    {
     "name": "stderr",
     "output_type": "stream",
     "text": [
      "/home/abhinav/anaconda3/lib/python3.8/site-packages/sklearn/multiclass.py:76: UserWarning: Label not 10 is present in all training examples.\n",
      "  warnings.warn(\"Label %s is present in all training examples.\" %\n"
     ]
    },
    {
     "name": "stdout",
     "output_type": "stream",
     "text": [
      "[CV]  estimator__max_depth=17, estimator__max_features=None, estimator__max_leaf_nodes=20, estimator__min_samples_leaf=5, estimator__splitter=best, score=-0.015, total=   0.3s\n",
      "[CV] estimator__max_depth=17, estimator__max_features=None, estimator__max_leaf_nodes=20, estimator__min_samples_leaf=5, estimator__splitter=best \n",
      "[CV]  estimator__max_depth=17, estimator__max_features=None, estimator__max_leaf_nodes=20, estimator__min_samples_leaf=5, estimator__splitter=best, score=-0.014, total=   0.3s\n",
      "[CV] estimator__max_depth=17, estimator__max_features=None, estimator__max_leaf_nodes=20, estimator__min_samples_leaf=5, estimator__splitter=best \n",
      "[CV]  estimator__max_depth=17, estimator__max_features=None, estimator__max_leaf_nodes=20, estimator__min_samples_leaf=5, estimator__splitter=best, score=-0.016, total=   0.3s\n",
      "[CV] estimator__max_depth=17, estimator__max_features=None, estimator__max_leaf_nodes=20, estimator__min_samples_leaf=5, estimator__splitter=random \n"
     ]
    },
    {
     "name": "stderr",
     "output_type": "stream",
     "text": [
      "/home/abhinav/anaconda3/lib/python3.8/site-packages/sklearn/multiclass.py:76: UserWarning: Label not 10 is present in all training examples.\n",
      "  warnings.warn(\"Label %s is present in all training examples.\" %\n"
     ]
    },
    {
     "name": "stdout",
     "output_type": "stream",
     "text": [
      "[CV]  estimator__max_depth=17, estimator__max_features=None, estimator__max_leaf_nodes=20, estimator__min_samples_leaf=5, estimator__splitter=random, score=-0.016, total=   0.3s\n",
      "[CV] estimator__max_depth=17, estimator__max_features=None, estimator__max_leaf_nodes=20, estimator__min_samples_leaf=5, estimator__splitter=random \n",
      "[CV]  estimator__max_depth=17, estimator__max_features=None, estimator__max_leaf_nodes=20, estimator__min_samples_leaf=5, estimator__splitter=random, score=-0.016, total=   0.3s\n",
      "[CV] estimator__max_depth=17, estimator__max_features=None, estimator__max_leaf_nodes=20, estimator__min_samples_leaf=5, estimator__splitter=random \n",
      "[CV]  estimator__max_depth=17, estimator__max_features=None, estimator__max_leaf_nodes=20, estimator__min_samples_leaf=5, estimator__splitter=random, score=-0.016, total=   0.3s\n",
      "[CV] estimator__max_depth=17, estimator__max_features=None, estimator__max_leaf_nodes=30, estimator__min_samples_leaf=1, estimator__splitter=best \n",
      "[CV]  estimator__max_depth=17, estimator__max_features=None, estimator__max_leaf_nodes=30, estimator__min_samples_leaf=1, estimator__splitter=best, score=-0.010, total=   0.2s\n",
      "[CV] estimator__max_depth=17, estimator__max_features=None, estimator__max_leaf_nodes=30, estimator__min_samples_leaf=1, estimator__splitter=best \n"
     ]
    },
    {
     "name": "stderr",
     "output_type": "stream",
     "text": [
      "/home/abhinav/anaconda3/lib/python3.8/site-packages/sklearn/multiclass.py:76: UserWarning: Label not 10 is present in all training examples.\n",
      "  warnings.warn(\"Label %s is present in all training examples.\" %\n"
     ]
    },
    {
     "name": "stdout",
     "output_type": "stream",
     "text": [
      "[CV]  estimator__max_depth=17, estimator__max_features=None, estimator__max_leaf_nodes=30, estimator__min_samples_leaf=1, estimator__splitter=best, score=-0.010, total=   0.2s\n",
      "[CV] estimator__max_depth=17, estimator__max_features=None, estimator__max_leaf_nodes=30, estimator__min_samples_leaf=1, estimator__splitter=best \n",
      "[CV]  estimator__max_depth=17, estimator__max_features=None, estimator__max_leaf_nodes=30, estimator__min_samples_leaf=1, estimator__splitter=best, score=-0.009, total=   0.2s\n",
      "[CV] estimator__max_depth=17, estimator__max_features=None, estimator__max_leaf_nodes=30, estimator__min_samples_leaf=1, estimator__splitter=random \n"
     ]
    },
    {
     "name": "stderr",
     "output_type": "stream",
     "text": [
      "/home/abhinav/anaconda3/lib/python3.8/site-packages/sklearn/multiclass.py:76: UserWarning: Label not 10 is present in all training examples.\n",
      "  warnings.warn(\"Label %s is present in all training examples.\" %\n"
     ]
    },
    {
     "name": "stdout",
     "output_type": "stream",
     "text": [
      "[CV]  estimator__max_depth=17, estimator__max_features=None, estimator__max_leaf_nodes=30, estimator__min_samples_leaf=1, estimator__splitter=random, score=-0.011, total=   0.2s\n",
      "[CV] estimator__max_depth=17, estimator__max_features=None, estimator__max_leaf_nodes=30, estimator__min_samples_leaf=1, estimator__splitter=random \n",
      "[CV]  estimator__max_depth=17, estimator__max_features=None, estimator__max_leaf_nodes=30, estimator__min_samples_leaf=1, estimator__splitter=random, score=-0.010, total=   0.2s\n",
      "[CV] estimator__max_depth=17, estimator__max_features=None, estimator__max_leaf_nodes=30, estimator__min_samples_leaf=1, estimator__splitter=random \n",
      "[CV]  estimator__max_depth=17, estimator__max_features=None, estimator__max_leaf_nodes=30, estimator__min_samples_leaf=1, estimator__splitter=random, score=-0.011, total=   0.2s\n",
      "[CV] estimator__max_depth=17, estimator__max_features=None, estimator__max_leaf_nodes=30, estimator__min_samples_leaf=3, estimator__splitter=best \n"
     ]
    },
    {
     "name": "stderr",
     "output_type": "stream",
     "text": [
      "/home/abhinav/anaconda3/lib/python3.8/site-packages/sklearn/multiclass.py:76: UserWarning: Label not 10 is present in all training examples.\n",
      "  warnings.warn(\"Label %s is present in all training examples.\" %\n"
     ]
    },
    {
     "name": "stdout",
     "output_type": "stream",
     "text": [
      "[CV]  estimator__max_depth=17, estimator__max_features=None, estimator__max_leaf_nodes=30, estimator__min_samples_leaf=3, estimator__splitter=best, score=-0.013, total=   0.2s\n",
      "[CV] estimator__max_depth=17, estimator__max_features=None, estimator__max_leaf_nodes=30, estimator__min_samples_leaf=3, estimator__splitter=best \n",
      "[CV]  estimator__max_depth=17, estimator__max_features=None, estimator__max_leaf_nodes=30, estimator__min_samples_leaf=3, estimator__splitter=best, score=-0.012, total=   0.2s\n",
      "[CV] estimator__max_depth=17, estimator__max_features=None, estimator__max_leaf_nodes=30, estimator__min_samples_leaf=3, estimator__splitter=best \n",
      "[CV]  estimator__max_depth=17, estimator__max_features=None, estimator__max_leaf_nodes=30, estimator__min_samples_leaf=3, estimator__splitter=best, score=-0.011, total=   0.2s\n",
      "[CV] estimator__max_depth=17, estimator__max_features=None, estimator__max_leaf_nodes=30, estimator__min_samples_leaf=3, estimator__splitter=random \n"
     ]
    },
    {
     "name": "stderr",
     "output_type": "stream",
     "text": [
      "/home/abhinav/anaconda3/lib/python3.8/site-packages/sklearn/multiclass.py:76: UserWarning: Label not 10 is present in all training examples.\n",
      "  warnings.warn(\"Label %s is present in all training examples.\" %\n"
     ]
    },
    {
     "name": "stdout",
     "output_type": "stream",
     "text": [
      "[CV]  estimator__max_depth=17, estimator__max_features=None, estimator__max_leaf_nodes=30, estimator__min_samples_leaf=3, estimator__splitter=random, score=-0.014, total=   0.3s\n",
      "[CV] estimator__max_depth=17, estimator__max_features=None, estimator__max_leaf_nodes=30, estimator__min_samples_leaf=3, estimator__splitter=random \n",
      "[CV]  estimator__max_depth=17, estimator__max_features=None, estimator__max_leaf_nodes=30, estimator__min_samples_leaf=3, estimator__splitter=random, score=-0.013, total=   0.2s\n",
      "[CV] estimator__max_depth=17, estimator__max_features=None, estimator__max_leaf_nodes=30, estimator__min_samples_leaf=3, estimator__splitter=random \n",
      "[CV]  estimator__max_depth=17, estimator__max_features=None, estimator__max_leaf_nodes=30, estimator__min_samples_leaf=3, estimator__splitter=random, score=-0.012, total=   0.2s\n",
      "[CV] estimator__max_depth=17, estimator__max_features=None, estimator__max_leaf_nodes=30, estimator__min_samples_leaf=5, estimator__splitter=best \n"
     ]
    },
    {
     "name": "stderr",
     "output_type": "stream",
     "text": [
      "/home/abhinav/anaconda3/lib/python3.8/site-packages/sklearn/multiclass.py:76: UserWarning: Label not 10 is present in all training examples.\n",
      "  warnings.warn(\"Label %s is present in all training examples.\" %\n"
     ]
    },
    {
     "name": "stdout",
     "output_type": "stream",
     "text": [
      "[CV]  estimator__max_depth=17, estimator__max_features=None, estimator__max_leaf_nodes=30, estimator__min_samples_leaf=5, estimator__splitter=best, score=-0.015, total=   0.3s\n",
      "[CV] estimator__max_depth=17, estimator__max_features=None, estimator__max_leaf_nodes=30, estimator__min_samples_leaf=5, estimator__splitter=best \n",
      "[CV]  estimator__max_depth=17, estimator__max_features=None, estimator__max_leaf_nodes=30, estimator__min_samples_leaf=5, estimator__splitter=best, score=-0.014, total=   0.3s\n",
      "[CV] estimator__max_depth=17, estimator__max_features=None, estimator__max_leaf_nodes=30, estimator__min_samples_leaf=5, estimator__splitter=best \n",
      "[CV]  estimator__max_depth=17, estimator__max_features=None, estimator__max_leaf_nodes=30, estimator__min_samples_leaf=5, estimator__splitter=best, score=-0.016, total=   0.3s\n",
      "[CV] estimator__max_depth=17, estimator__max_features=None, estimator__max_leaf_nodes=30, estimator__min_samples_leaf=5, estimator__splitter=random \n"
     ]
    },
    {
     "name": "stderr",
     "output_type": "stream",
     "text": [
      "/home/abhinav/anaconda3/lib/python3.8/site-packages/sklearn/multiclass.py:76: UserWarning: Label not 10 is present in all training examples.\n",
      "  warnings.warn(\"Label %s is present in all training examples.\" %\n"
     ]
    },
    {
     "name": "stdout",
     "output_type": "stream",
     "text": [
      "[CV]  estimator__max_depth=17, estimator__max_features=None, estimator__max_leaf_nodes=30, estimator__min_samples_leaf=5, estimator__splitter=random, score=-0.016, total=   0.3s\n",
      "[CV] estimator__max_depth=17, estimator__max_features=None, estimator__max_leaf_nodes=30, estimator__min_samples_leaf=5, estimator__splitter=random \n",
      "[CV]  estimator__max_depth=17, estimator__max_features=None, estimator__max_leaf_nodes=30, estimator__min_samples_leaf=5, estimator__splitter=random, score=-0.015, total=   0.3s\n",
      "[CV] estimator__max_depth=17, estimator__max_features=None, estimator__max_leaf_nodes=30, estimator__min_samples_leaf=5, estimator__splitter=random \n",
      "[CV]  estimator__max_depth=17, estimator__max_features=None, estimator__max_leaf_nodes=30, estimator__min_samples_leaf=5, estimator__splitter=random, score=-0.017, total=   0.3s\n",
      "[CV] estimator__max_depth=17, estimator__max_features=None, estimator__max_leaf_nodes=40, estimator__min_samples_leaf=1, estimator__splitter=best \n",
      "[CV]  estimator__max_depth=17, estimator__max_features=None, estimator__max_leaf_nodes=40, estimator__min_samples_leaf=1, estimator__splitter=best, score=-0.010, total=   0.2s\n",
      "[CV] estimator__max_depth=17, estimator__max_features=None, estimator__max_leaf_nodes=40, estimator__min_samples_leaf=1, estimator__splitter=best \n"
     ]
    },
    {
     "name": "stderr",
     "output_type": "stream",
     "text": [
      "/home/abhinav/anaconda3/lib/python3.8/site-packages/sklearn/multiclass.py:76: UserWarning: Label not 10 is present in all training examples.\n",
      "  warnings.warn(\"Label %s is present in all training examples.\" %\n"
     ]
    },
    {
     "name": "stdout",
     "output_type": "stream",
     "text": [
      "[CV]  estimator__max_depth=17, estimator__max_features=None, estimator__max_leaf_nodes=40, estimator__min_samples_leaf=1, estimator__splitter=best, score=-0.010, total=   0.2s\n",
      "[CV] estimator__max_depth=17, estimator__max_features=None, estimator__max_leaf_nodes=40, estimator__min_samples_leaf=1, estimator__splitter=best \n",
      "[CV]  estimator__max_depth=17, estimator__max_features=None, estimator__max_leaf_nodes=40, estimator__min_samples_leaf=1, estimator__splitter=best, score=-0.009, total=   0.2s\n",
      "[CV] estimator__max_depth=17, estimator__max_features=None, estimator__max_leaf_nodes=40, estimator__min_samples_leaf=1, estimator__splitter=random \n"
     ]
    },
    {
     "name": "stderr",
     "output_type": "stream",
     "text": [
      "/home/abhinav/anaconda3/lib/python3.8/site-packages/sklearn/multiclass.py:76: UserWarning: Label not 10 is present in all training examples.\n",
      "  warnings.warn(\"Label %s is present in all training examples.\" %\n"
     ]
    },
    {
     "name": "stdout",
     "output_type": "stream",
     "text": [
      "[CV]  estimator__max_depth=17, estimator__max_features=None, estimator__max_leaf_nodes=40, estimator__min_samples_leaf=1, estimator__splitter=random, score=-0.011, total=   0.2s\n",
      "[CV] estimator__max_depth=17, estimator__max_features=None, estimator__max_leaf_nodes=40, estimator__min_samples_leaf=1, estimator__splitter=random \n",
      "[CV]  estimator__max_depth=17, estimator__max_features=None, estimator__max_leaf_nodes=40, estimator__min_samples_leaf=1, estimator__splitter=random, score=-0.011, total=   0.2s\n",
      "[CV] estimator__max_depth=17, estimator__max_features=None, estimator__max_leaf_nodes=40, estimator__min_samples_leaf=1, estimator__splitter=random \n",
      "[CV]  estimator__max_depth=17, estimator__max_features=None, estimator__max_leaf_nodes=40, estimator__min_samples_leaf=1, estimator__splitter=random, score=-0.010, total=   0.2s\n",
      "[CV] estimator__max_depth=17, estimator__max_features=None, estimator__max_leaf_nodes=40, estimator__min_samples_leaf=3, estimator__splitter=best \n"
     ]
    },
    {
     "name": "stderr",
     "output_type": "stream",
     "text": [
      "/home/abhinav/anaconda3/lib/python3.8/site-packages/sklearn/multiclass.py:76: UserWarning: Label not 10 is present in all training examples.\n",
      "  warnings.warn(\"Label %s is present in all training examples.\" %\n"
     ]
    },
    {
     "name": "stdout",
     "output_type": "stream",
     "text": [
      "[CV]  estimator__max_depth=17, estimator__max_features=None, estimator__max_leaf_nodes=40, estimator__min_samples_leaf=3, estimator__splitter=best, score=-0.012, total=   0.2s\n",
      "[CV] estimator__max_depth=17, estimator__max_features=None, estimator__max_leaf_nodes=40, estimator__min_samples_leaf=3, estimator__splitter=best \n",
      "[CV]  estimator__max_depth=17, estimator__max_features=None, estimator__max_leaf_nodes=40, estimator__min_samples_leaf=3, estimator__splitter=best, score=-0.012, total=   0.2s\n",
      "[CV] estimator__max_depth=17, estimator__max_features=None, estimator__max_leaf_nodes=40, estimator__min_samples_leaf=3, estimator__splitter=best \n",
      "[CV]  estimator__max_depth=17, estimator__max_features=None, estimator__max_leaf_nodes=40, estimator__min_samples_leaf=3, estimator__splitter=best, score=-0.011, total=   0.2s\n",
      "[CV] estimator__max_depth=17, estimator__max_features=None, estimator__max_leaf_nodes=40, estimator__min_samples_leaf=3, estimator__splitter=random \n"
     ]
    },
    {
     "name": "stderr",
     "output_type": "stream",
     "text": [
      "/home/abhinav/anaconda3/lib/python3.8/site-packages/sklearn/multiclass.py:76: UserWarning: Label not 10 is present in all training examples.\n",
      "  warnings.warn(\"Label %s is present in all training examples.\" %\n"
     ]
    },
    {
     "name": "stdout",
     "output_type": "stream",
     "text": [
      "[CV]  estimator__max_depth=17, estimator__max_features=None, estimator__max_leaf_nodes=40, estimator__min_samples_leaf=3, estimator__splitter=random, score=-0.014, total=   0.3s\n",
      "[CV] estimator__max_depth=17, estimator__max_features=None, estimator__max_leaf_nodes=40, estimator__min_samples_leaf=3, estimator__splitter=random \n",
      "[CV]  estimator__max_depth=17, estimator__max_features=None, estimator__max_leaf_nodes=40, estimator__min_samples_leaf=3, estimator__splitter=random, score=-0.013, total=   0.3s\n",
      "[CV] estimator__max_depth=17, estimator__max_features=None, estimator__max_leaf_nodes=40, estimator__min_samples_leaf=3, estimator__splitter=random \n",
      "[CV]  estimator__max_depth=17, estimator__max_features=None, estimator__max_leaf_nodes=40, estimator__min_samples_leaf=3, estimator__splitter=random, score=-0.013, total=   0.3s\n",
      "[CV] estimator__max_depth=17, estimator__max_features=None, estimator__max_leaf_nodes=40, estimator__min_samples_leaf=5, estimator__splitter=best \n"
     ]
    },
    {
     "name": "stderr",
     "output_type": "stream",
     "text": [
      "/home/abhinav/anaconda3/lib/python3.8/site-packages/sklearn/multiclass.py:76: UserWarning: Label not 10 is present in all training examples.\n",
      "  warnings.warn(\"Label %s is present in all training examples.\" %\n"
     ]
    },
    {
     "name": "stdout",
     "output_type": "stream",
     "text": [
      "[CV]  estimator__max_depth=17, estimator__max_features=None, estimator__max_leaf_nodes=40, estimator__min_samples_leaf=5, estimator__splitter=best, score=-0.015, total=   0.3s\n",
      "[CV] estimator__max_depth=17, estimator__max_features=None, estimator__max_leaf_nodes=40, estimator__min_samples_leaf=5, estimator__splitter=best \n",
      "[CV]  estimator__max_depth=17, estimator__max_features=None, estimator__max_leaf_nodes=40, estimator__min_samples_leaf=5, estimator__splitter=best, score=-0.014, total=   0.3s\n",
      "[CV] estimator__max_depth=17, estimator__max_features=None, estimator__max_leaf_nodes=40, estimator__min_samples_leaf=5, estimator__splitter=best \n",
      "[CV]  estimator__max_depth=17, estimator__max_features=None, estimator__max_leaf_nodes=40, estimator__min_samples_leaf=5, estimator__splitter=best, score=-0.016, total=   0.3s\n",
      "[CV] estimator__max_depth=17, estimator__max_features=None, estimator__max_leaf_nodes=40, estimator__min_samples_leaf=5, estimator__splitter=random \n"
     ]
    },
    {
     "name": "stderr",
     "output_type": "stream",
     "text": [
      "/home/abhinav/anaconda3/lib/python3.8/site-packages/sklearn/multiclass.py:76: UserWarning: Label not 10 is present in all training examples.\n",
      "  warnings.warn(\"Label %s is present in all training examples.\" %\n"
     ]
    },
    {
     "name": "stdout",
     "output_type": "stream",
     "text": [
      "[CV]  estimator__max_depth=17, estimator__max_features=None, estimator__max_leaf_nodes=40, estimator__min_samples_leaf=5, estimator__splitter=random, score=-0.016, total=   0.3s\n",
      "[CV] estimator__max_depth=17, estimator__max_features=None, estimator__max_leaf_nodes=40, estimator__min_samples_leaf=5, estimator__splitter=random \n",
      "[CV]  estimator__max_depth=17, estimator__max_features=None, estimator__max_leaf_nodes=40, estimator__min_samples_leaf=5, estimator__splitter=random, score=-0.016, total=   0.3s\n",
      "[CV] estimator__max_depth=17, estimator__max_features=None, estimator__max_leaf_nodes=40, estimator__min_samples_leaf=5, estimator__splitter=random \n",
      "[CV]  estimator__max_depth=17, estimator__max_features=None, estimator__max_leaf_nodes=40, estimator__min_samples_leaf=5, estimator__splitter=random, score=-0.016, total=   0.3s\n",
      "[CV] estimator__max_depth=17, estimator__max_features=None, estimator__max_leaf_nodes=50, estimator__min_samples_leaf=1, estimator__splitter=best \n",
      "[CV]  estimator__max_depth=17, estimator__max_features=None, estimator__max_leaf_nodes=50, estimator__min_samples_leaf=1, estimator__splitter=best, score=-0.010, total=   0.2s\n",
      "[CV] estimator__max_depth=17, estimator__max_features=None, estimator__max_leaf_nodes=50, estimator__min_samples_leaf=1, estimator__splitter=best \n"
     ]
    },
    {
     "name": "stderr",
     "output_type": "stream",
     "text": [
      "/home/abhinav/anaconda3/lib/python3.8/site-packages/sklearn/multiclass.py:76: UserWarning: Label not 10 is present in all training examples.\n",
      "  warnings.warn(\"Label %s is present in all training examples.\" %\n"
     ]
    },
    {
     "name": "stdout",
     "output_type": "stream",
     "text": [
      "[CV]  estimator__max_depth=17, estimator__max_features=None, estimator__max_leaf_nodes=50, estimator__min_samples_leaf=1, estimator__splitter=best, score=-0.010, total=   0.2s\n",
      "[CV] estimator__max_depth=17, estimator__max_features=None, estimator__max_leaf_nodes=50, estimator__min_samples_leaf=1, estimator__splitter=best \n",
      "[CV]  estimator__max_depth=17, estimator__max_features=None, estimator__max_leaf_nodes=50, estimator__min_samples_leaf=1, estimator__splitter=best, score=-0.010, total=   0.2s\n",
      "[CV] estimator__max_depth=17, estimator__max_features=None, estimator__max_leaf_nodes=50, estimator__min_samples_leaf=1, estimator__splitter=random \n"
     ]
    },
    {
     "name": "stderr",
     "output_type": "stream",
     "text": [
      "/home/abhinav/anaconda3/lib/python3.8/site-packages/sklearn/multiclass.py:76: UserWarning: Label not 10 is present in all training examples.\n",
      "  warnings.warn(\"Label %s is present in all training examples.\" %\n"
     ]
    },
    {
     "name": "stdout",
     "output_type": "stream",
     "text": [
      "[CV]  estimator__max_depth=17, estimator__max_features=None, estimator__max_leaf_nodes=50, estimator__min_samples_leaf=1, estimator__splitter=random, score=-0.011, total=   0.2s\n",
      "[CV] estimator__max_depth=17, estimator__max_features=None, estimator__max_leaf_nodes=50, estimator__min_samples_leaf=1, estimator__splitter=random \n",
      "[CV]  estimator__max_depth=17, estimator__max_features=None, estimator__max_leaf_nodes=50, estimator__min_samples_leaf=1, estimator__splitter=random, score=-0.011, total=   0.2s\n",
      "[CV] estimator__max_depth=17, estimator__max_features=None, estimator__max_leaf_nodes=50, estimator__min_samples_leaf=1, estimator__splitter=random \n",
      "[CV]  estimator__max_depth=17, estimator__max_features=None, estimator__max_leaf_nodes=50, estimator__min_samples_leaf=1, estimator__splitter=random, score=-0.010, total=   0.2s\n",
      "[CV] estimator__max_depth=17, estimator__max_features=None, estimator__max_leaf_nodes=50, estimator__min_samples_leaf=3, estimator__splitter=best \n"
     ]
    },
    {
     "name": "stderr",
     "output_type": "stream",
     "text": [
      "/home/abhinav/anaconda3/lib/python3.8/site-packages/sklearn/multiclass.py:76: UserWarning: Label not 10 is present in all training examples.\n",
      "  warnings.warn(\"Label %s is present in all training examples.\" %\n"
     ]
    },
    {
     "name": "stdout",
     "output_type": "stream",
     "text": [
      "[CV]  estimator__max_depth=17, estimator__max_features=None, estimator__max_leaf_nodes=50, estimator__min_samples_leaf=3, estimator__splitter=best, score=-0.012, total=   0.2s\n",
      "[CV] estimator__max_depth=17, estimator__max_features=None, estimator__max_leaf_nodes=50, estimator__min_samples_leaf=3, estimator__splitter=best \n",
      "[CV]  estimator__max_depth=17, estimator__max_features=None, estimator__max_leaf_nodes=50, estimator__min_samples_leaf=3, estimator__splitter=best, score=-0.012, total=   0.2s\n",
      "[CV] estimator__max_depth=17, estimator__max_features=None, estimator__max_leaf_nodes=50, estimator__min_samples_leaf=3, estimator__splitter=best \n",
      "[CV]  estimator__max_depth=17, estimator__max_features=None, estimator__max_leaf_nodes=50, estimator__min_samples_leaf=3, estimator__splitter=best, score=-0.012, total=   0.2s\n",
      "[CV] estimator__max_depth=17, estimator__max_features=None, estimator__max_leaf_nodes=50, estimator__min_samples_leaf=3, estimator__splitter=random \n"
     ]
    },
    {
     "name": "stderr",
     "output_type": "stream",
     "text": [
      "/home/abhinav/anaconda3/lib/python3.8/site-packages/sklearn/multiclass.py:76: UserWarning: Label not 10 is present in all training examples.\n",
      "  warnings.warn(\"Label %s is present in all training examples.\" %\n"
     ]
    },
    {
     "name": "stdout",
     "output_type": "stream",
     "text": [
      "[CV]  estimator__max_depth=17, estimator__max_features=None, estimator__max_leaf_nodes=50, estimator__min_samples_leaf=3, estimator__splitter=random, score=-0.013, total=   0.3s\n",
      "[CV] estimator__max_depth=17, estimator__max_features=None, estimator__max_leaf_nodes=50, estimator__min_samples_leaf=3, estimator__splitter=random \n",
      "[CV]  estimator__max_depth=17, estimator__max_features=None, estimator__max_leaf_nodes=50, estimator__min_samples_leaf=3, estimator__splitter=random, score=-0.013, total=   0.3s\n",
      "[CV] estimator__max_depth=17, estimator__max_features=None, estimator__max_leaf_nodes=50, estimator__min_samples_leaf=3, estimator__splitter=random \n",
      "[CV]  estimator__max_depth=17, estimator__max_features=None, estimator__max_leaf_nodes=50, estimator__min_samples_leaf=3, estimator__splitter=random, score=-0.013, total=   0.2s\n",
      "[CV] estimator__max_depth=17, estimator__max_features=None, estimator__max_leaf_nodes=50, estimator__min_samples_leaf=5, estimator__splitter=best \n"
     ]
    },
    {
     "name": "stderr",
     "output_type": "stream",
     "text": [
      "/home/abhinav/anaconda3/lib/python3.8/site-packages/sklearn/multiclass.py:76: UserWarning: Label not 10 is present in all training examples.\n",
      "  warnings.warn(\"Label %s is present in all training examples.\" %\n"
     ]
    },
    {
     "name": "stdout",
     "output_type": "stream",
     "text": [
      "[CV]  estimator__max_depth=17, estimator__max_features=None, estimator__max_leaf_nodes=50, estimator__min_samples_leaf=5, estimator__splitter=best, score=-0.015, total=   0.3s\n",
      "[CV] estimator__max_depth=17, estimator__max_features=None, estimator__max_leaf_nodes=50, estimator__min_samples_leaf=5, estimator__splitter=best \n",
      "[CV]  estimator__max_depth=17, estimator__max_features=None, estimator__max_leaf_nodes=50, estimator__min_samples_leaf=5, estimator__splitter=best, score=-0.014, total=   0.3s\n",
      "[CV] estimator__max_depth=17, estimator__max_features=None, estimator__max_leaf_nodes=50, estimator__min_samples_leaf=5, estimator__splitter=best \n",
      "[CV]  estimator__max_depth=17, estimator__max_features=None, estimator__max_leaf_nodes=50, estimator__min_samples_leaf=5, estimator__splitter=best, score=-0.016, total=   0.3s\n",
      "[CV] estimator__max_depth=17, estimator__max_features=None, estimator__max_leaf_nodes=50, estimator__min_samples_leaf=5, estimator__splitter=random \n"
     ]
    },
    {
     "name": "stderr",
     "output_type": "stream",
     "text": [
      "/home/abhinav/anaconda3/lib/python3.8/site-packages/sklearn/multiclass.py:76: UserWarning: Label not 10 is present in all training examples.\n",
      "  warnings.warn(\"Label %s is present in all training examples.\" %\n"
     ]
    },
    {
     "name": "stdout",
     "output_type": "stream",
     "text": [
      "[CV]  estimator__max_depth=17, estimator__max_features=None, estimator__max_leaf_nodes=50, estimator__min_samples_leaf=5, estimator__splitter=random, score=-0.016, total=   0.3s\n",
      "[CV] estimator__max_depth=17, estimator__max_features=None, estimator__max_leaf_nodes=50, estimator__min_samples_leaf=5, estimator__splitter=random \n",
      "[CV]  estimator__max_depth=17, estimator__max_features=None, estimator__max_leaf_nodes=50, estimator__min_samples_leaf=5, estimator__splitter=random, score=-0.015, total=   0.3s\n",
      "[CV] estimator__max_depth=17, estimator__max_features=None, estimator__max_leaf_nodes=50, estimator__min_samples_leaf=5, estimator__splitter=random \n",
      "[CV]  estimator__max_depth=17, estimator__max_features=None, estimator__max_leaf_nodes=50, estimator__min_samples_leaf=5, estimator__splitter=random, score=-0.016, total=   0.3s\n",
      "[CV] estimator__max_depth=17, estimator__max_features=None, estimator__max_leaf_nodes=70, estimator__min_samples_leaf=1, estimator__splitter=best \n",
      "[CV]  estimator__max_depth=17, estimator__max_features=None, estimator__max_leaf_nodes=70, estimator__min_samples_leaf=1, estimator__splitter=best, score=-0.010, total=   0.2s\n",
      "[CV] estimator__max_depth=17, estimator__max_features=None, estimator__max_leaf_nodes=70, estimator__min_samples_leaf=1, estimator__splitter=best \n"
     ]
    },
    {
     "name": "stderr",
     "output_type": "stream",
     "text": [
      "/home/abhinav/anaconda3/lib/python3.8/site-packages/sklearn/multiclass.py:76: UserWarning: Label not 10 is present in all training examples.\n",
      "  warnings.warn(\"Label %s is present in all training examples.\" %\n"
     ]
    },
    {
     "name": "stdout",
     "output_type": "stream",
     "text": [
      "[CV]  estimator__max_depth=17, estimator__max_features=None, estimator__max_leaf_nodes=70, estimator__min_samples_leaf=1, estimator__splitter=best, score=-0.011, total=   0.2s\n",
      "[CV] estimator__max_depth=17, estimator__max_features=None, estimator__max_leaf_nodes=70, estimator__min_samples_leaf=1, estimator__splitter=best \n",
      "[CV]  estimator__max_depth=17, estimator__max_features=None, estimator__max_leaf_nodes=70, estimator__min_samples_leaf=1, estimator__splitter=best, score=-0.010, total=   0.2s\n",
      "[CV] estimator__max_depth=17, estimator__max_features=None, estimator__max_leaf_nodes=70, estimator__min_samples_leaf=1, estimator__splitter=random \n"
     ]
    },
    {
     "name": "stderr",
     "output_type": "stream",
     "text": [
      "/home/abhinav/anaconda3/lib/python3.8/site-packages/sklearn/multiclass.py:76: UserWarning: Label not 10 is present in all training examples.\n",
      "  warnings.warn(\"Label %s is present in all training examples.\" %\n"
     ]
    },
    {
     "name": "stdout",
     "output_type": "stream",
     "text": [
      "[CV]  estimator__max_depth=17, estimator__max_features=None, estimator__max_leaf_nodes=70, estimator__min_samples_leaf=1, estimator__splitter=random, score=-0.012, total=   0.2s\n",
      "[CV] estimator__max_depth=17, estimator__max_features=None, estimator__max_leaf_nodes=70, estimator__min_samples_leaf=1, estimator__splitter=random \n",
      "[CV]  estimator__max_depth=17, estimator__max_features=None, estimator__max_leaf_nodes=70, estimator__min_samples_leaf=1, estimator__splitter=random, score=-0.012, total=   0.2s\n",
      "[CV] estimator__max_depth=17, estimator__max_features=None, estimator__max_leaf_nodes=70, estimator__min_samples_leaf=1, estimator__splitter=random \n",
      "[CV]  estimator__max_depth=17, estimator__max_features=None, estimator__max_leaf_nodes=70, estimator__min_samples_leaf=1, estimator__splitter=random, score=-0.010, total=   0.2s\n",
      "[CV] estimator__max_depth=17, estimator__max_features=None, estimator__max_leaf_nodes=70, estimator__min_samples_leaf=3, estimator__splitter=best \n"
     ]
    },
    {
     "name": "stderr",
     "output_type": "stream",
     "text": [
      "/home/abhinav/anaconda3/lib/python3.8/site-packages/sklearn/multiclass.py:76: UserWarning: Label not 10 is present in all training examples.\n",
      "  warnings.warn(\"Label %s is present in all training examples.\" %\n"
     ]
    },
    {
     "name": "stdout",
     "output_type": "stream",
     "text": [
      "[CV]  estimator__max_depth=17, estimator__max_features=None, estimator__max_leaf_nodes=70, estimator__min_samples_leaf=3, estimator__splitter=best, score=-0.013, total=   0.2s\n",
      "[CV] estimator__max_depth=17, estimator__max_features=None, estimator__max_leaf_nodes=70, estimator__min_samples_leaf=3, estimator__splitter=best \n",
      "[CV]  estimator__max_depth=17, estimator__max_features=None, estimator__max_leaf_nodes=70, estimator__min_samples_leaf=3, estimator__splitter=best, score=-0.012, total=   0.2s\n",
      "[CV] estimator__max_depth=17, estimator__max_features=None, estimator__max_leaf_nodes=70, estimator__min_samples_leaf=3, estimator__splitter=best \n",
      "[CV]  estimator__max_depth=17, estimator__max_features=None, estimator__max_leaf_nodes=70, estimator__min_samples_leaf=3, estimator__splitter=best, score=-0.012, total=   0.2s\n",
      "[CV] estimator__max_depth=17, estimator__max_features=None, estimator__max_leaf_nodes=70, estimator__min_samples_leaf=3, estimator__splitter=random \n"
     ]
    },
    {
     "name": "stderr",
     "output_type": "stream",
     "text": [
      "/home/abhinav/anaconda3/lib/python3.8/site-packages/sklearn/multiclass.py:76: UserWarning: Label not 10 is present in all training examples.\n",
      "  warnings.warn(\"Label %s is present in all training examples.\" %\n"
     ]
    },
    {
     "name": "stdout",
     "output_type": "stream",
     "text": [
      "[CV]  estimator__max_depth=17, estimator__max_features=None, estimator__max_leaf_nodes=70, estimator__min_samples_leaf=3, estimator__splitter=random, score=-0.014, total=   0.3s\n",
      "[CV] estimator__max_depth=17, estimator__max_features=None, estimator__max_leaf_nodes=70, estimator__min_samples_leaf=3, estimator__splitter=random \n",
      "[CV]  estimator__max_depth=17, estimator__max_features=None, estimator__max_leaf_nodes=70, estimator__min_samples_leaf=3, estimator__splitter=random, score=-0.013, total=   0.3s\n",
      "[CV] estimator__max_depth=17, estimator__max_features=None, estimator__max_leaf_nodes=70, estimator__min_samples_leaf=3, estimator__splitter=random \n",
      "[CV]  estimator__max_depth=17, estimator__max_features=None, estimator__max_leaf_nodes=70, estimator__min_samples_leaf=3, estimator__splitter=random, score=-0.013, total=   0.2s\n",
      "[CV] estimator__max_depth=17, estimator__max_features=None, estimator__max_leaf_nodes=70, estimator__min_samples_leaf=5, estimator__splitter=best \n"
     ]
    },
    {
     "name": "stderr",
     "output_type": "stream",
     "text": [
      "/home/abhinav/anaconda3/lib/python3.8/site-packages/sklearn/multiclass.py:76: UserWarning: Label not 10 is present in all training examples.\n",
      "  warnings.warn(\"Label %s is present in all training examples.\" %\n"
     ]
    },
    {
     "name": "stdout",
     "output_type": "stream",
     "text": [
      "[CV]  estimator__max_depth=17, estimator__max_features=None, estimator__max_leaf_nodes=70, estimator__min_samples_leaf=5, estimator__splitter=best, score=-0.015, total=   0.3s\n",
      "[CV] estimator__max_depth=17, estimator__max_features=None, estimator__max_leaf_nodes=70, estimator__min_samples_leaf=5, estimator__splitter=best \n",
      "[CV]  estimator__max_depth=17, estimator__max_features=None, estimator__max_leaf_nodes=70, estimator__min_samples_leaf=5, estimator__splitter=best, score=-0.014, total=   0.3s\n",
      "[CV] estimator__max_depth=17, estimator__max_features=None, estimator__max_leaf_nodes=70, estimator__min_samples_leaf=5, estimator__splitter=best \n",
      "[CV]  estimator__max_depth=17, estimator__max_features=None, estimator__max_leaf_nodes=70, estimator__min_samples_leaf=5, estimator__splitter=best, score=-0.016, total=   0.3s\n",
      "[CV] estimator__max_depth=17, estimator__max_features=None, estimator__max_leaf_nodes=70, estimator__min_samples_leaf=5, estimator__splitter=random \n"
     ]
    },
    {
     "name": "stderr",
     "output_type": "stream",
     "text": [
      "/home/abhinav/anaconda3/lib/python3.8/site-packages/sklearn/multiclass.py:76: UserWarning: Label not 10 is present in all training examples.\n",
      "  warnings.warn(\"Label %s is present in all training examples.\" %\n"
     ]
    },
    {
     "name": "stdout",
     "output_type": "stream",
     "text": [
      "[CV]  estimator__max_depth=17, estimator__max_features=None, estimator__max_leaf_nodes=70, estimator__min_samples_leaf=5, estimator__splitter=random, score=-0.016, total=   0.3s\n",
      "[CV] estimator__max_depth=17, estimator__max_features=None, estimator__max_leaf_nodes=70, estimator__min_samples_leaf=5, estimator__splitter=random \n",
      "[CV]  estimator__max_depth=17, estimator__max_features=None, estimator__max_leaf_nodes=70, estimator__min_samples_leaf=5, estimator__splitter=random, score=-0.015, total=   0.3s\n",
      "[CV] estimator__max_depth=17, estimator__max_features=None, estimator__max_leaf_nodes=70, estimator__min_samples_leaf=5, estimator__splitter=random \n",
      "[CV]  estimator__max_depth=17, estimator__max_features=None, estimator__max_leaf_nodes=70, estimator__min_samples_leaf=5, estimator__splitter=random, score=-0.016, total=   0.3s\n",
      "[CV] estimator__max_depth=24, estimator__max_features=auto, estimator__max_leaf_nodes=None, estimator__min_samples_leaf=1, estimator__splitter=best \n",
      "[CV]  estimator__max_depth=24, estimator__max_features=auto, estimator__max_leaf_nodes=None, estimator__min_samples_leaf=1, estimator__splitter=best, score=-0.016, total=   0.1s\n",
      "[CV] estimator__max_depth=24, estimator__max_features=auto, estimator__max_leaf_nodes=None, estimator__min_samples_leaf=1, estimator__splitter=best \n",
      "[CV]  estimator__max_depth=24, estimator__max_features=auto, estimator__max_leaf_nodes=None, estimator__min_samples_leaf=1, estimator__splitter=best, score=-0.015, total=   0.1s\n",
      "[CV] estimator__max_depth=24, estimator__max_features=auto, estimator__max_leaf_nodes=None, estimator__min_samples_leaf=1, estimator__splitter=best \n"
     ]
    },
    {
     "name": "stderr",
     "output_type": "stream",
     "text": [
      "/home/abhinav/anaconda3/lib/python3.8/site-packages/sklearn/multiclass.py:76: UserWarning: Label not 10 is present in all training examples.\n",
      "  warnings.warn(\"Label %s is present in all training examples.\" %\n"
     ]
    },
    {
     "name": "stdout",
     "output_type": "stream",
     "text": [
      "[CV]  estimator__max_depth=24, estimator__max_features=auto, estimator__max_leaf_nodes=None, estimator__min_samples_leaf=1, estimator__splitter=best, score=-0.015, total=   0.1s\n",
      "[CV] estimator__max_depth=24, estimator__max_features=auto, estimator__max_leaf_nodes=None, estimator__min_samples_leaf=1, estimator__splitter=random \n",
      "[CV]  estimator__max_depth=24, estimator__max_features=auto, estimator__max_leaf_nodes=None, estimator__min_samples_leaf=1, estimator__splitter=random, score=-0.016, total=   0.1s\n",
      "[CV] estimator__max_depth=24, estimator__max_features=auto, estimator__max_leaf_nodes=None, estimator__min_samples_leaf=1, estimator__splitter=random \n",
      "[CV]  estimator__max_depth=24, estimator__max_features=auto, estimator__max_leaf_nodes=None, estimator__min_samples_leaf=1, estimator__splitter=random, score=-0.015, total=   0.1s\n",
      "[CV] estimator__max_depth=24, estimator__max_features=auto, estimator__max_leaf_nodes=None, estimator__min_samples_leaf=1, estimator__splitter=random \n"
     ]
    },
    {
     "name": "stderr",
     "output_type": "stream",
     "text": [
      "/home/abhinav/anaconda3/lib/python3.8/site-packages/sklearn/multiclass.py:76: UserWarning: Label not 10 is present in all training examples.\n",
      "  warnings.warn(\"Label %s is present in all training examples.\" %\n"
     ]
    },
    {
     "name": "stdout",
     "output_type": "stream",
     "text": [
      "[CV]  estimator__max_depth=24, estimator__max_features=auto, estimator__max_leaf_nodes=None, estimator__min_samples_leaf=1, estimator__splitter=random, score=-0.017, total=   0.1s\n",
      "[CV] estimator__max_depth=24, estimator__max_features=auto, estimator__max_leaf_nodes=None, estimator__min_samples_leaf=3, estimator__splitter=best \n",
      "[CV]  estimator__max_depth=24, estimator__max_features=auto, estimator__max_leaf_nodes=None, estimator__min_samples_leaf=3, estimator__splitter=best, score=-0.018, total=   0.1s\n",
      "[CV] estimator__max_depth=24, estimator__max_features=auto, estimator__max_leaf_nodes=None, estimator__min_samples_leaf=3, estimator__splitter=best \n",
      "[CV]  estimator__max_depth=24, estimator__max_features=auto, estimator__max_leaf_nodes=None, estimator__min_samples_leaf=3, estimator__splitter=best, score=-0.017, total=   0.1s\n",
      "[CV] estimator__max_depth=24, estimator__max_features=auto, estimator__max_leaf_nodes=None, estimator__min_samples_leaf=3, estimator__splitter=best \n"
     ]
    },
    {
     "name": "stderr",
     "output_type": "stream",
     "text": [
      "/home/abhinav/anaconda3/lib/python3.8/site-packages/sklearn/multiclass.py:76: UserWarning: Label not 10 is present in all training examples.\n",
      "  warnings.warn(\"Label %s is present in all training examples.\" %\n"
     ]
    },
    {
     "name": "stdout",
     "output_type": "stream",
     "text": [
      "[CV]  estimator__max_depth=24, estimator__max_features=auto, estimator__max_leaf_nodes=None, estimator__min_samples_leaf=3, estimator__splitter=best, score=-0.017, total=   0.1s\n",
      "[CV] estimator__max_depth=24, estimator__max_features=auto, estimator__max_leaf_nodes=None, estimator__min_samples_leaf=3, estimator__splitter=random \n",
      "[CV]  estimator__max_depth=24, estimator__max_features=auto, estimator__max_leaf_nodes=None, estimator__min_samples_leaf=3, estimator__splitter=random, score=-0.018, total=   0.1s\n",
      "[CV] estimator__max_depth=24, estimator__max_features=auto, estimator__max_leaf_nodes=None, estimator__min_samples_leaf=3, estimator__splitter=random \n",
      "[CV]  estimator__max_depth=24, estimator__max_features=auto, estimator__max_leaf_nodes=None, estimator__min_samples_leaf=3, estimator__splitter=random, score=-0.017, total=   0.1s\n",
      "[CV] estimator__max_depth=24, estimator__max_features=auto, estimator__max_leaf_nodes=None, estimator__min_samples_leaf=3, estimator__splitter=random \n"
     ]
    },
    {
     "name": "stderr",
     "output_type": "stream",
     "text": [
      "/home/abhinav/anaconda3/lib/python3.8/site-packages/sklearn/multiclass.py:76: UserWarning: Label not 10 is present in all training examples.\n",
      "  warnings.warn(\"Label %s is present in all training examples.\" %\n"
     ]
    },
    {
     "name": "stdout",
     "output_type": "stream",
     "text": [
      "[CV]  estimator__max_depth=24, estimator__max_features=auto, estimator__max_leaf_nodes=None, estimator__min_samples_leaf=3, estimator__splitter=random, score=-0.017, total=   0.1s\n",
      "[CV] estimator__max_depth=24, estimator__max_features=auto, estimator__max_leaf_nodes=None, estimator__min_samples_leaf=5, estimator__splitter=best \n",
      "[CV]  estimator__max_depth=24, estimator__max_features=auto, estimator__max_leaf_nodes=None, estimator__min_samples_leaf=5, estimator__splitter=best, score=-0.018, total=   0.1s\n",
      "[CV] estimator__max_depth=24, estimator__max_features=auto, estimator__max_leaf_nodes=None, estimator__min_samples_leaf=5, estimator__splitter=best \n",
      "[CV]  estimator__max_depth=24, estimator__max_features=auto, estimator__max_leaf_nodes=None, estimator__min_samples_leaf=5, estimator__splitter=best, score=-0.018, total=   0.1s\n",
      "[CV] estimator__max_depth=24, estimator__max_features=auto, estimator__max_leaf_nodes=None, estimator__min_samples_leaf=5, estimator__splitter=best \n"
     ]
    },
    {
     "name": "stderr",
     "output_type": "stream",
     "text": [
      "/home/abhinav/anaconda3/lib/python3.8/site-packages/sklearn/multiclass.py:76: UserWarning: Label not 10 is present in all training examples.\n",
      "  warnings.warn(\"Label %s is present in all training examples.\" %\n"
     ]
    },
    {
     "name": "stdout",
     "output_type": "stream",
     "text": [
      "[CV]  estimator__max_depth=24, estimator__max_features=auto, estimator__max_leaf_nodes=None, estimator__min_samples_leaf=5, estimator__splitter=best, score=-0.018, total=   0.1s\n",
      "[CV] estimator__max_depth=24, estimator__max_features=auto, estimator__max_leaf_nodes=None, estimator__min_samples_leaf=5, estimator__splitter=random \n",
      "[CV]  estimator__max_depth=24, estimator__max_features=auto, estimator__max_leaf_nodes=None, estimator__min_samples_leaf=5, estimator__splitter=random, score=-0.018, total=   0.1s\n",
      "[CV] estimator__max_depth=24, estimator__max_features=auto, estimator__max_leaf_nodes=None, estimator__min_samples_leaf=5, estimator__splitter=random \n",
      "[CV]  estimator__max_depth=24, estimator__max_features=auto, estimator__max_leaf_nodes=None, estimator__min_samples_leaf=5, estimator__splitter=random, score=-0.018, total=   0.1s\n",
      "[CV] estimator__max_depth=24, estimator__max_features=auto, estimator__max_leaf_nodes=None, estimator__min_samples_leaf=5, estimator__splitter=random \n"
     ]
    },
    {
     "name": "stderr",
     "output_type": "stream",
     "text": [
      "/home/abhinav/anaconda3/lib/python3.8/site-packages/sklearn/multiclass.py:76: UserWarning: Label not 10 is present in all training examples.\n",
      "  warnings.warn(\"Label %s is present in all training examples.\" %\n"
     ]
    },
    {
     "name": "stdout",
     "output_type": "stream",
     "text": [
      "[CV]  estimator__max_depth=24, estimator__max_features=auto, estimator__max_leaf_nodes=None, estimator__min_samples_leaf=5, estimator__splitter=random, score=-0.018, total=   0.1s\n",
      "[CV] estimator__max_depth=24, estimator__max_features=auto, estimator__max_leaf_nodes=10, estimator__min_samples_leaf=1, estimator__splitter=best \n",
      "[CV]  estimator__max_depth=24, estimator__max_features=auto, estimator__max_leaf_nodes=10, estimator__min_samples_leaf=1, estimator__splitter=best, score=-0.018, total=   0.1s\n",
      "[CV] estimator__max_depth=24, estimator__max_features=auto, estimator__max_leaf_nodes=10, estimator__min_samples_leaf=1, estimator__splitter=best \n",
      "[CV]  estimator__max_depth=24, estimator__max_features=auto, estimator__max_leaf_nodes=10, estimator__min_samples_leaf=1, estimator__splitter=best, score=-0.018, total=   0.1s\n",
      "[CV] estimator__max_depth=24, estimator__max_features=auto, estimator__max_leaf_nodes=10, estimator__min_samples_leaf=1, estimator__splitter=best \n"
     ]
    },
    {
     "name": "stderr",
     "output_type": "stream",
     "text": [
      "/home/abhinav/anaconda3/lib/python3.8/site-packages/sklearn/multiclass.py:76: UserWarning: Label not 10 is present in all training examples.\n",
      "  warnings.warn(\"Label %s is present in all training examples.\" %\n"
     ]
    },
    {
     "name": "stdout",
     "output_type": "stream",
     "text": [
      "[CV]  estimator__max_depth=24, estimator__max_features=auto, estimator__max_leaf_nodes=10, estimator__min_samples_leaf=1, estimator__splitter=best, score=-0.018, total=   0.1s\n",
      "[CV] estimator__max_depth=24, estimator__max_features=auto, estimator__max_leaf_nodes=10, estimator__min_samples_leaf=1, estimator__splitter=random \n",
      "[CV]  estimator__max_depth=24, estimator__max_features=auto, estimator__max_leaf_nodes=10, estimator__min_samples_leaf=1, estimator__splitter=random, score=-0.018, total=   0.1s\n",
      "[CV] estimator__max_depth=24, estimator__max_features=auto, estimator__max_leaf_nodes=10, estimator__min_samples_leaf=1, estimator__splitter=random \n",
      "[CV]  estimator__max_depth=24, estimator__max_features=auto, estimator__max_leaf_nodes=10, estimator__min_samples_leaf=1, estimator__splitter=random, score=-0.018, total=   0.1s\n",
      "[CV] estimator__max_depth=24, estimator__max_features=auto, estimator__max_leaf_nodes=10, estimator__min_samples_leaf=1, estimator__splitter=random \n"
     ]
    },
    {
     "name": "stderr",
     "output_type": "stream",
     "text": [
      "/home/abhinav/anaconda3/lib/python3.8/site-packages/sklearn/multiclass.py:76: UserWarning: Label not 10 is present in all training examples.\n",
      "  warnings.warn(\"Label %s is present in all training examples.\" %\n"
     ]
    },
    {
     "name": "stdout",
     "output_type": "stream",
     "text": [
      "[CV]  estimator__max_depth=24, estimator__max_features=auto, estimator__max_leaf_nodes=10, estimator__min_samples_leaf=1, estimator__splitter=random, score=-0.017, total=   0.1s\n",
      "[CV] estimator__max_depth=24, estimator__max_features=auto, estimator__max_leaf_nodes=10, estimator__min_samples_leaf=3, estimator__splitter=best \n",
      "[CV]  estimator__max_depth=24, estimator__max_features=auto, estimator__max_leaf_nodes=10, estimator__min_samples_leaf=3, estimator__splitter=best, score=-0.017, total=   0.1s\n",
      "[CV] estimator__max_depth=24, estimator__max_features=auto, estimator__max_leaf_nodes=10, estimator__min_samples_leaf=3, estimator__splitter=best \n",
      "[CV]  estimator__max_depth=24, estimator__max_features=auto, estimator__max_leaf_nodes=10, estimator__min_samples_leaf=3, estimator__splitter=best, score=-0.017, total=   0.1s\n",
      "[CV] estimator__max_depth=24, estimator__max_features=auto, estimator__max_leaf_nodes=10, estimator__min_samples_leaf=3, estimator__splitter=best \n"
     ]
    },
    {
     "name": "stderr",
     "output_type": "stream",
     "text": [
      "/home/abhinav/anaconda3/lib/python3.8/site-packages/sklearn/multiclass.py:76: UserWarning: Label not 10 is present in all training examples.\n",
      "  warnings.warn(\"Label %s is present in all training examples.\" %\n"
     ]
    },
    {
     "name": "stdout",
     "output_type": "stream",
     "text": [
      "[CV]  estimator__max_depth=24, estimator__max_features=auto, estimator__max_leaf_nodes=10, estimator__min_samples_leaf=3, estimator__splitter=best, score=-0.018, total=   0.1s\n",
      "[CV] estimator__max_depth=24, estimator__max_features=auto, estimator__max_leaf_nodes=10, estimator__min_samples_leaf=3, estimator__splitter=random \n",
      "[CV]  estimator__max_depth=24, estimator__max_features=auto, estimator__max_leaf_nodes=10, estimator__min_samples_leaf=3, estimator__splitter=random, score=-0.018, total=   0.1s\n",
      "[CV] estimator__max_depth=24, estimator__max_features=auto, estimator__max_leaf_nodes=10, estimator__min_samples_leaf=3, estimator__splitter=random \n",
      "[CV]  estimator__max_depth=24, estimator__max_features=auto, estimator__max_leaf_nodes=10, estimator__min_samples_leaf=3, estimator__splitter=random, score=-0.018, total=   0.1s\n",
      "[CV] estimator__max_depth=24, estimator__max_features=auto, estimator__max_leaf_nodes=10, estimator__min_samples_leaf=3, estimator__splitter=random \n"
     ]
    },
    {
     "name": "stderr",
     "output_type": "stream",
     "text": [
      "/home/abhinav/anaconda3/lib/python3.8/site-packages/sklearn/multiclass.py:76: UserWarning: Label not 10 is present in all training examples.\n",
      "  warnings.warn(\"Label %s is present in all training examples.\" %\n"
     ]
    },
    {
     "name": "stdout",
     "output_type": "stream",
     "text": [
      "[CV]  estimator__max_depth=24, estimator__max_features=auto, estimator__max_leaf_nodes=10, estimator__min_samples_leaf=3, estimator__splitter=random, score=-0.018, total=   0.1s\n",
      "[CV] estimator__max_depth=24, estimator__max_features=auto, estimator__max_leaf_nodes=10, estimator__min_samples_leaf=5, estimator__splitter=best \n",
      "[CV]  estimator__max_depth=24, estimator__max_features=auto, estimator__max_leaf_nodes=10, estimator__min_samples_leaf=5, estimator__splitter=best, score=-0.018, total=   0.1s\n",
      "[CV] estimator__max_depth=24, estimator__max_features=auto, estimator__max_leaf_nodes=10, estimator__min_samples_leaf=5, estimator__splitter=best \n",
      "[CV]  estimator__max_depth=24, estimator__max_features=auto, estimator__max_leaf_nodes=10, estimator__min_samples_leaf=5, estimator__splitter=best, score=-0.018, total=   0.1s\n",
      "[CV] estimator__max_depth=24, estimator__max_features=auto, estimator__max_leaf_nodes=10, estimator__min_samples_leaf=5, estimator__splitter=best \n"
     ]
    },
    {
     "name": "stderr",
     "output_type": "stream",
     "text": [
      "/home/abhinav/anaconda3/lib/python3.8/site-packages/sklearn/multiclass.py:76: UserWarning: Label not 10 is present in all training examples.\n",
      "  warnings.warn(\"Label %s is present in all training examples.\" %\n"
     ]
    },
    {
     "name": "stdout",
     "output_type": "stream",
     "text": [
      "[CV]  estimator__max_depth=24, estimator__max_features=auto, estimator__max_leaf_nodes=10, estimator__min_samples_leaf=5, estimator__splitter=best, score=-0.018, total=   0.1s\n",
      "[CV] estimator__max_depth=24, estimator__max_features=auto, estimator__max_leaf_nodes=10, estimator__min_samples_leaf=5, estimator__splitter=random \n",
      "[CV]  estimator__max_depth=24, estimator__max_features=auto, estimator__max_leaf_nodes=10, estimator__min_samples_leaf=5, estimator__splitter=random, score=-0.018, total=   0.1s\n",
      "[CV] estimator__max_depth=24, estimator__max_features=auto, estimator__max_leaf_nodes=10, estimator__min_samples_leaf=5, estimator__splitter=random \n",
      "[CV]  estimator__max_depth=24, estimator__max_features=auto, estimator__max_leaf_nodes=10, estimator__min_samples_leaf=5, estimator__splitter=random, score=-0.018, total=   0.1s\n",
      "[CV] estimator__max_depth=24, estimator__max_features=auto, estimator__max_leaf_nodes=10, estimator__min_samples_leaf=5, estimator__splitter=random \n"
     ]
    },
    {
     "name": "stderr",
     "output_type": "stream",
     "text": [
      "/home/abhinav/anaconda3/lib/python3.8/site-packages/sklearn/multiclass.py:76: UserWarning: Label not 10 is present in all training examples.\n",
      "  warnings.warn(\"Label %s is present in all training examples.\" %\n"
     ]
    },
    {
     "name": "stdout",
     "output_type": "stream",
     "text": [
      "[CV]  estimator__max_depth=24, estimator__max_features=auto, estimator__max_leaf_nodes=10, estimator__min_samples_leaf=5, estimator__splitter=random, score=-0.018, total=   0.1s\n",
      "[CV] estimator__max_depth=24, estimator__max_features=auto, estimator__max_leaf_nodes=20, estimator__min_samples_leaf=1, estimator__splitter=best \n",
      "[CV]  estimator__max_depth=24, estimator__max_features=auto, estimator__max_leaf_nodes=20, estimator__min_samples_leaf=1, estimator__splitter=best, score=-0.015, total=   0.1s\n",
      "[CV] estimator__max_depth=24, estimator__max_features=auto, estimator__max_leaf_nodes=20, estimator__min_samples_leaf=1, estimator__splitter=best \n",
      "[CV]  estimator__max_depth=24, estimator__max_features=auto, estimator__max_leaf_nodes=20, estimator__min_samples_leaf=1, estimator__splitter=best, score=-0.016, total=   0.1s\n",
      "[CV] estimator__max_depth=24, estimator__max_features=auto, estimator__max_leaf_nodes=20, estimator__min_samples_leaf=1, estimator__splitter=best \n"
     ]
    },
    {
     "name": "stderr",
     "output_type": "stream",
     "text": [
      "/home/abhinav/anaconda3/lib/python3.8/site-packages/sklearn/multiclass.py:76: UserWarning: Label not 10 is present in all training examples.\n",
      "  warnings.warn(\"Label %s is present in all training examples.\" %\n"
     ]
    },
    {
     "name": "stdout",
     "output_type": "stream",
     "text": [
      "[CV]  estimator__max_depth=24, estimator__max_features=auto, estimator__max_leaf_nodes=20, estimator__min_samples_leaf=1, estimator__splitter=best, score=-0.016, total=   0.1s\n",
      "[CV] estimator__max_depth=24, estimator__max_features=auto, estimator__max_leaf_nodes=20, estimator__min_samples_leaf=1, estimator__splitter=random \n",
      "[CV]  estimator__max_depth=24, estimator__max_features=auto, estimator__max_leaf_nodes=20, estimator__min_samples_leaf=1, estimator__splitter=random, score=-0.018, total=   0.1s\n",
      "[CV] estimator__max_depth=24, estimator__max_features=auto, estimator__max_leaf_nodes=20, estimator__min_samples_leaf=1, estimator__splitter=random \n",
      "[CV]  estimator__max_depth=24, estimator__max_features=auto, estimator__max_leaf_nodes=20, estimator__min_samples_leaf=1, estimator__splitter=random, score=-0.018, total=   0.1s\n",
      "[CV] estimator__max_depth=24, estimator__max_features=auto, estimator__max_leaf_nodes=20, estimator__min_samples_leaf=1, estimator__splitter=random \n"
     ]
    },
    {
     "name": "stderr",
     "output_type": "stream",
     "text": [
      "/home/abhinav/anaconda3/lib/python3.8/site-packages/sklearn/multiclass.py:76: UserWarning: Label not 10 is present in all training examples.\n",
      "  warnings.warn(\"Label %s is present in all training examples.\" %\n"
     ]
    },
    {
     "name": "stdout",
     "output_type": "stream",
     "text": [
      "[CV]  estimator__max_depth=24, estimator__max_features=auto, estimator__max_leaf_nodes=20, estimator__min_samples_leaf=1, estimator__splitter=random, score=-0.016, total=   0.1s\n",
      "[CV] estimator__max_depth=24, estimator__max_features=auto, estimator__max_leaf_nodes=20, estimator__min_samples_leaf=3, estimator__splitter=best \n",
      "[CV]  estimator__max_depth=24, estimator__max_features=auto, estimator__max_leaf_nodes=20, estimator__min_samples_leaf=3, estimator__splitter=best, score=-0.016, total=   0.1s\n",
      "[CV] estimator__max_depth=24, estimator__max_features=auto, estimator__max_leaf_nodes=20, estimator__min_samples_leaf=3, estimator__splitter=best \n",
      "[CV]  estimator__max_depth=24, estimator__max_features=auto, estimator__max_leaf_nodes=20, estimator__min_samples_leaf=3, estimator__splitter=best, score=-0.016, total=   0.1s\n",
      "[CV] estimator__max_depth=24, estimator__max_features=auto, estimator__max_leaf_nodes=20, estimator__min_samples_leaf=3, estimator__splitter=best \n"
     ]
    },
    {
     "name": "stderr",
     "output_type": "stream",
     "text": [
      "/home/abhinav/anaconda3/lib/python3.8/site-packages/sklearn/multiclass.py:76: UserWarning: Label not 10 is present in all training examples.\n",
      "  warnings.warn(\"Label %s is present in all training examples.\" %\n"
     ]
    },
    {
     "name": "stdout",
     "output_type": "stream",
     "text": [
      "[CV]  estimator__max_depth=24, estimator__max_features=auto, estimator__max_leaf_nodes=20, estimator__min_samples_leaf=3, estimator__splitter=best, score=-0.017, total=   0.1s\n",
      "[CV] estimator__max_depth=24, estimator__max_features=auto, estimator__max_leaf_nodes=20, estimator__min_samples_leaf=3, estimator__splitter=random \n",
      "[CV]  estimator__max_depth=24, estimator__max_features=auto, estimator__max_leaf_nodes=20, estimator__min_samples_leaf=3, estimator__splitter=random, score=-0.018, total=   0.1s\n",
      "[CV] estimator__max_depth=24, estimator__max_features=auto, estimator__max_leaf_nodes=20, estimator__min_samples_leaf=3, estimator__splitter=random \n",
      "[CV]  estimator__max_depth=24, estimator__max_features=auto, estimator__max_leaf_nodes=20, estimator__min_samples_leaf=3, estimator__splitter=random, score=-0.016, total=   0.1s\n",
      "[CV] estimator__max_depth=24, estimator__max_features=auto, estimator__max_leaf_nodes=20, estimator__min_samples_leaf=3, estimator__splitter=random \n"
     ]
    },
    {
     "name": "stderr",
     "output_type": "stream",
     "text": [
      "/home/abhinav/anaconda3/lib/python3.8/site-packages/sklearn/multiclass.py:76: UserWarning: Label not 10 is present in all training examples.\n",
      "  warnings.warn(\"Label %s is present in all training examples.\" %\n"
     ]
    },
    {
     "name": "stdout",
     "output_type": "stream",
     "text": [
      "[CV]  estimator__max_depth=24, estimator__max_features=auto, estimator__max_leaf_nodes=20, estimator__min_samples_leaf=3, estimator__splitter=random, score=-0.018, total=   0.1s\n",
      "[CV] estimator__max_depth=24, estimator__max_features=auto, estimator__max_leaf_nodes=20, estimator__min_samples_leaf=5, estimator__splitter=best \n",
      "[CV]  estimator__max_depth=24, estimator__max_features=auto, estimator__max_leaf_nodes=20, estimator__min_samples_leaf=5, estimator__splitter=best, score=-0.018, total=   0.1s\n",
      "[CV] estimator__max_depth=24, estimator__max_features=auto, estimator__max_leaf_nodes=20, estimator__min_samples_leaf=5, estimator__splitter=best \n",
      "[CV]  estimator__max_depth=24, estimator__max_features=auto, estimator__max_leaf_nodes=20, estimator__min_samples_leaf=5, estimator__splitter=best, score=-0.018, total=   0.1s\n",
      "[CV] estimator__max_depth=24, estimator__max_features=auto, estimator__max_leaf_nodes=20, estimator__min_samples_leaf=5, estimator__splitter=best \n"
     ]
    },
    {
     "name": "stderr",
     "output_type": "stream",
     "text": [
      "/home/abhinav/anaconda3/lib/python3.8/site-packages/sklearn/multiclass.py:76: UserWarning: Label not 10 is present in all training examples.\n",
      "  warnings.warn(\"Label %s is present in all training examples.\" %\n"
     ]
    },
    {
     "name": "stdout",
     "output_type": "stream",
     "text": [
      "[CV]  estimator__max_depth=24, estimator__max_features=auto, estimator__max_leaf_nodes=20, estimator__min_samples_leaf=5, estimator__splitter=best, score=-0.018, total=   0.1s\n",
      "[CV] estimator__max_depth=24, estimator__max_features=auto, estimator__max_leaf_nodes=20, estimator__min_samples_leaf=5, estimator__splitter=random \n",
      "[CV]  estimator__max_depth=24, estimator__max_features=auto, estimator__max_leaf_nodes=20, estimator__min_samples_leaf=5, estimator__splitter=random, score=-0.018, total=   0.1s\n",
      "[CV] estimator__max_depth=24, estimator__max_features=auto, estimator__max_leaf_nodes=20, estimator__min_samples_leaf=5, estimator__splitter=random \n",
      "[CV]  estimator__max_depth=24, estimator__max_features=auto, estimator__max_leaf_nodes=20, estimator__min_samples_leaf=5, estimator__splitter=random, score=-0.018, total=   0.1s\n",
      "[CV] estimator__max_depth=24, estimator__max_features=auto, estimator__max_leaf_nodes=20, estimator__min_samples_leaf=5, estimator__splitter=random \n"
     ]
    },
    {
     "name": "stderr",
     "output_type": "stream",
     "text": [
      "/home/abhinav/anaconda3/lib/python3.8/site-packages/sklearn/multiclass.py:76: UserWarning: Label not 10 is present in all training examples.\n",
      "  warnings.warn(\"Label %s is present in all training examples.\" %\n"
     ]
    },
    {
     "name": "stdout",
     "output_type": "stream",
     "text": [
      "[CV]  estimator__max_depth=24, estimator__max_features=auto, estimator__max_leaf_nodes=20, estimator__min_samples_leaf=5, estimator__splitter=random, score=-0.018, total=   0.1s\n",
      "[CV] estimator__max_depth=24, estimator__max_features=auto, estimator__max_leaf_nodes=30, estimator__min_samples_leaf=1, estimator__splitter=best \n",
      "[CV]  estimator__max_depth=24, estimator__max_features=auto, estimator__max_leaf_nodes=30, estimator__min_samples_leaf=1, estimator__splitter=best, score=-0.015, total=   0.1s\n",
      "[CV] estimator__max_depth=24, estimator__max_features=auto, estimator__max_leaf_nodes=30, estimator__min_samples_leaf=1, estimator__splitter=best \n",
      "[CV]  estimator__max_depth=24, estimator__max_features=auto, estimator__max_leaf_nodes=30, estimator__min_samples_leaf=1, estimator__splitter=best, score=-0.015, total=   0.1s\n",
      "[CV] estimator__max_depth=24, estimator__max_features=auto, estimator__max_leaf_nodes=30, estimator__min_samples_leaf=1, estimator__splitter=best \n"
     ]
    },
    {
     "name": "stderr",
     "output_type": "stream",
     "text": [
      "/home/abhinav/anaconda3/lib/python3.8/site-packages/sklearn/multiclass.py:76: UserWarning: Label not 10 is present in all training examples.\n",
      "  warnings.warn(\"Label %s is present in all training examples.\" %\n"
     ]
    },
    {
     "name": "stdout",
     "output_type": "stream",
     "text": [
      "[CV]  estimator__max_depth=24, estimator__max_features=auto, estimator__max_leaf_nodes=30, estimator__min_samples_leaf=1, estimator__splitter=best, score=-0.015, total=   0.1s\n",
      "[CV] estimator__max_depth=24, estimator__max_features=auto, estimator__max_leaf_nodes=30, estimator__min_samples_leaf=1, estimator__splitter=random \n",
      "[CV]  estimator__max_depth=24, estimator__max_features=auto, estimator__max_leaf_nodes=30, estimator__min_samples_leaf=1, estimator__splitter=random, score=-0.016, total=   0.1s\n",
      "[CV] estimator__max_depth=24, estimator__max_features=auto, estimator__max_leaf_nodes=30, estimator__min_samples_leaf=1, estimator__splitter=random \n",
      "[CV]  estimator__max_depth=24, estimator__max_features=auto, estimator__max_leaf_nodes=30, estimator__min_samples_leaf=1, estimator__splitter=random, score=-0.016, total=   0.1s\n",
      "[CV] estimator__max_depth=24, estimator__max_features=auto, estimator__max_leaf_nodes=30, estimator__min_samples_leaf=1, estimator__splitter=random \n"
     ]
    },
    {
     "name": "stderr",
     "output_type": "stream",
     "text": [
      "/home/abhinav/anaconda3/lib/python3.8/site-packages/sklearn/multiclass.py:76: UserWarning: Label not 10 is present in all training examples.\n",
      "  warnings.warn(\"Label %s is present in all training examples.\" %\n"
     ]
    },
    {
     "name": "stdout",
     "output_type": "stream",
     "text": [
      "[CV]  estimator__max_depth=24, estimator__max_features=auto, estimator__max_leaf_nodes=30, estimator__min_samples_leaf=1, estimator__splitter=random, score=-0.016, total=   0.1s\n",
      "[CV] estimator__max_depth=24, estimator__max_features=auto, estimator__max_leaf_nodes=30, estimator__min_samples_leaf=3, estimator__splitter=best \n",
      "[CV]  estimator__max_depth=24, estimator__max_features=auto, estimator__max_leaf_nodes=30, estimator__min_samples_leaf=3, estimator__splitter=best, score=-0.016, total=   0.1s\n",
      "[CV] estimator__max_depth=24, estimator__max_features=auto, estimator__max_leaf_nodes=30, estimator__min_samples_leaf=3, estimator__splitter=best \n",
      "[CV]  estimator__max_depth=24, estimator__max_features=auto, estimator__max_leaf_nodes=30, estimator__min_samples_leaf=3, estimator__splitter=best, score=-0.017, total=   0.1s\n",
      "[CV] estimator__max_depth=24, estimator__max_features=auto, estimator__max_leaf_nodes=30, estimator__min_samples_leaf=3, estimator__splitter=best \n"
     ]
    },
    {
     "name": "stderr",
     "output_type": "stream",
     "text": [
      "/home/abhinav/anaconda3/lib/python3.8/site-packages/sklearn/multiclass.py:76: UserWarning: Label not 10 is present in all training examples.\n",
      "  warnings.warn(\"Label %s is present in all training examples.\" %\n"
     ]
    },
    {
     "name": "stdout",
     "output_type": "stream",
     "text": [
      "[CV]  estimator__max_depth=24, estimator__max_features=auto, estimator__max_leaf_nodes=30, estimator__min_samples_leaf=3, estimator__splitter=best, score=-0.016, total=   0.1s\n",
      "[CV] estimator__max_depth=24, estimator__max_features=auto, estimator__max_leaf_nodes=30, estimator__min_samples_leaf=3, estimator__splitter=random \n",
      "[CV]  estimator__max_depth=24, estimator__max_features=auto, estimator__max_leaf_nodes=30, estimator__min_samples_leaf=3, estimator__splitter=random, score=-0.018, total=   0.1s\n",
      "[CV] estimator__max_depth=24, estimator__max_features=auto, estimator__max_leaf_nodes=30, estimator__min_samples_leaf=3, estimator__splitter=random \n",
      "[CV]  estimator__max_depth=24, estimator__max_features=auto, estimator__max_leaf_nodes=30, estimator__min_samples_leaf=3, estimator__splitter=random, score=-0.017, total=   0.1s\n",
      "[CV] estimator__max_depth=24, estimator__max_features=auto, estimator__max_leaf_nodes=30, estimator__min_samples_leaf=3, estimator__splitter=random \n"
     ]
    },
    {
     "name": "stderr",
     "output_type": "stream",
     "text": [
      "/home/abhinav/anaconda3/lib/python3.8/site-packages/sklearn/multiclass.py:76: UserWarning: Label not 10 is present in all training examples.\n",
      "  warnings.warn(\"Label %s is present in all training examples.\" %\n"
     ]
    },
    {
     "name": "stdout",
     "output_type": "stream",
     "text": [
      "[CV]  estimator__max_depth=24, estimator__max_features=auto, estimator__max_leaf_nodes=30, estimator__min_samples_leaf=3, estimator__splitter=random, score=-0.017, total=   0.1s\n",
      "[CV] estimator__max_depth=24, estimator__max_features=auto, estimator__max_leaf_nodes=30, estimator__min_samples_leaf=5, estimator__splitter=best \n",
      "[CV]  estimator__max_depth=24, estimator__max_features=auto, estimator__max_leaf_nodes=30, estimator__min_samples_leaf=5, estimator__splitter=best, score=-0.018, total=   0.1s\n",
      "[CV] estimator__max_depth=24, estimator__max_features=auto, estimator__max_leaf_nodes=30, estimator__min_samples_leaf=5, estimator__splitter=best \n",
      "[CV]  estimator__max_depth=24, estimator__max_features=auto, estimator__max_leaf_nodes=30, estimator__min_samples_leaf=5, estimator__splitter=best, score=-0.018, total=   0.1s\n",
      "[CV] estimator__max_depth=24, estimator__max_features=auto, estimator__max_leaf_nodes=30, estimator__min_samples_leaf=5, estimator__splitter=best \n"
     ]
    },
    {
     "name": "stderr",
     "output_type": "stream",
     "text": [
      "/home/abhinav/anaconda3/lib/python3.8/site-packages/sklearn/multiclass.py:76: UserWarning: Label not 10 is present in all training examples.\n",
      "  warnings.warn(\"Label %s is present in all training examples.\" %\n"
     ]
    },
    {
     "name": "stdout",
     "output_type": "stream",
     "text": [
      "[CV]  estimator__max_depth=24, estimator__max_features=auto, estimator__max_leaf_nodes=30, estimator__min_samples_leaf=5, estimator__splitter=best, score=-0.018, total=   0.1s\n",
      "[CV] estimator__max_depth=24, estimator__max_features=auto, estimator__max_leaf_nodes=30, estimator__min_samples_leaf=5, estimator__splitter=random \n",
      "[CV]  estimator__max_depth=24, estimator__max_features=auto, estimator__max_leaf_nodes=30, estimator__min_samples_leaf=5, estimator__splitter=random, score=-0.018, total=   0.1s\n",
      "[CV] estimator__max_depth=24, estimator__max_features=auto, estimator__max_leaf_nodes=30, estimator__min_samples_leaf=5, estimator__splitter=random \n",
      "[CV]  estimator__max_depth=24, estimator__max_features=auto, estimator__max_leaf_nodes=30, estimator__min_samples_leaf=5, estimator__splitter=random, score=-0.018, total=   0.1s\n",
      "[CV] estimator__max_depth=24, estimator__max_features=auto, estimator__max_leaf_nodes=30, estimator__min_samples_leaf=5, estimator__splitter=random \n"
     ]
    },
    {
     "name": "stderr",
     "output_type": "stream",
     "text": [
      "/home/abhinav/anaconda3/lib/python3.8/site-packages/sklearn/multiclass.py:76: UserWarning: Label not 10 is present in all training examples.\n",
      "  warnings.warn(\"Label %s is present in all training examples.\" %\n"
     ]
    },
    {
     "name": "stdout",
     "output_type": "stream",
     "text": [
      "[CV]  estimator__max_depth=24, estimator__max_features=auto, estimator__max_leaf_nodes=30, estimator__min_samples_leaf=5, estimator__splitter=random, score=-0.018, total=   0.1s\n",
      "[CV] estimator__max_depth=24, estimator__max_features=auto, estimator__max_leaf_nodes=40, estimator__min_samples_leaf=1, estimator__splitter=best \n",
      "[CV]  estimator__max_depth=24, estimator__max_features=auto, estimator__max_leaf_nodes=40, estimator__min_samples_leaf=1, estimator__splitter=best, score=-0.017, total=   0.1s\n",
      "[CV] estimator__max_depth=24, estimator__max_features=auto, estimator__max_leaf_nodes=40, estimator__min_samples_leaf=1, estimator__splitter=best \n",
      "[CV]  estimator__max_depth=24, estimator__max_features=auto, estimator__max_leaf_nodes=40, estimator__min_samples_leaf=1, estimator__splitter=best, score=-0.016, total=   0.1s\n",
      "[CV] estimator__max_depth=24, estimator__max_features=auto, estimator__max_leaf_nodes=40, estimator__min_samples_leaf=1, estimator__splitter=best \n"
     ]
    },
    {
     "name": "stderr",
     "output_type": "stream",
     "text": [
      "/home/abhinav/anaconda3/lib/python3.8/site-packages/sklearn/multiclass.py:76: UserWarning: Label not 10 is present in all training examples.\n",
      "  warnings.warn(\"Label %s is present in all training examples.\" %\n"
     ]
    },
    {
     "name": "stdout",
     "output_type": "stream",
     "text": [
      "[CV]  estimator__max_depth=24, estimator__max_features=auto, estimator__max_leaf_nodes=40, estimator__min_samples_leaf=1, estimator__splitter=best, score=-0.017, total=   0.1s\n",
      "[CV] estimator__max_depth=24, estimator__max_features=auto, estimator__max_leaf_nodes=40, estimator__min_samples_leaf=1, estimator__splitter=random \n",
      "[CV]  estimator__max_depth=24, estimator__max_features=auto, estimator__max_leaf_nodes=40, estimator__min_samples_leaf=1, estimator__splitter=random, score=-0.016, total=   0.1s\n",
      "[CV] estimator__max_depth=24, estimator__max_features=auto, estimator__max_leaf_nodes=40, estimator__min_samples_leaf=1, estimator__splitter=random \n",
      "[CV]  estimator__max_depth=24, estimator__max_features=auto, estimator__max_leaf_nodes=40, estimator__min_samples_leaf=1, estimator__splitter=random, score=-0.016, total=   0.1s\n",
      "[CV] estimator__max_depth=24, estimator__max_features=auto, estimator__max_leaf_nodes=40, estimator__min_samples_leaf=1, estimator__splitter=random \n"
     ]
    },
    {
     "name": "stderr",
     "output_type": "stream",
     "text": [
      "/home/abhinav/anaconda3/lib/python3.8/site-packages/sklearn/multiclass.py:76: UserWarning: Label not 10 is present in all training examples.\n",
      "  warnings.warn(\"Label %s is present in all training examples.\" %\n"
     ]
    },
    {
     "name": "stdout",
     "output_type": "stream",
     "text": [
      "[CV]  estimator__max_depth=24, estimator__max_features=auto, estimator__max_leaf_nodes=40, estimator__min_samples_leaf=1, estimator__splitter=random, score=-0.016, total=   0.1s\n",
      "[CV] estimator__max_depth=24, estimator__max_features=auto, estimator__max_leaf_nodes=40, estimator__min_samples_leaf=3, estimator__splitter=best \n",
      "[CV]  estimator__max_depth=24, estimator__max_features=auto, estimator__max_leaf_nodes=40, estimator__min_samples_leaf=3, estimator__splitter=best, score=-0.016, total=   0.1s\n",
      "[CV] estimator__max_depth=24, estimator__max_features=auto, estimator__max_leaf_nodes=40, estimator__min_samples_leaf=3, estimator__splitter=best \n",
      "[CV]  estimator__max_depth=24, estimator__max_features=auto, estimator__max_leaf_nodes=40, estimator__min_samples_leaf=3, estimator__splitter=best, score=-0.016, total=   0.1s\n",
      "[CV] estimator__max_depth=24, estimator__max_features=auto, estimator__max_leaf_nodes=40, estimator__min_samples_leaf=3, estimator__splitter=best \n"
     ]
    },
    {
     "name": "stderr",
     "output_type": "stream",
     "text": [
      "/home/abhinav/anaconda3/lib/python3.8/site-packages/sklearn/multiclass.py:76: UserWarning: Label not 10 is present in all training examples.\n",
      "  warnings.warn(\"Label %s is present in all training examples.\" %\n"
     ]
    },
    {
     "name": "stdout",
     "output_type": "stream",
     "text": [
      "[CV]  estimator__max_depth=24, estimator__max_features=auto, estimator__max_leaf_nodes=40, estimator__min_samples_leaf=3, estimator__splitter=best, score=-0.017, total=   0.1s\n",
      "[CV] estimator__max_depth=24, estimator__max_features=auto, estimator__max_leaf_nodes=40, estimator__min_samples_leaf=3, estimator__splitter=random \n",
      "[CV]  estimator__max_depth=24, estimator__max_features=auto, estimator__max_leaf_nodes=40, estimator__min_samples_leaf=3, estimator__splitter=random, score=-0.018, total=   0.1s\n",
      "[CV] estimator__max_depth=24, estimator__max_features=auto, estimator__max_leaf_nodes=40, estimator__min_samples_leaf=3, estimator__splitter=random \n",
      "[CV]  estimator__max_depth=24, estimator__max_features=auto, estimator__max_leaf_nodes=40, estimator__min_samples_leaf=3, estimator__splitter=random, score=-0.018, total=   0.1s\n",
      "[CV] estimator__max_depth=24, estimator__max_features=auto, estimator__max_leaf_nodes=40, estimator__min_samples_leaf=3, estimator__splitter=random \n"
     ]
    },
    {
     "name": "stderr",
     "output_type": "stream",
     "text": [
      "/home/abhinav/anaconda3/lib/python3.8/site-packages/sklearn/multiclass.py:76: UserWarning: Label not 10 is present in all training examples.\n",
      "  warnings.warn(\"Label %s is present in all training examples.\" %\n"
     ]
    },
    {
     "name": "stdout",
     "output_type": "stream",
     "text": [
      "[CV]  estimator__max_depth=24, estimator__max_features=auto, estimator__max_leaf_nodes=40, estimator__min_samples_leaf=3, estimator__splitter=random, score=-0.017, total=   0.1s\n",
      "[CV] estimator__max_depth=24, estimator__max_features=auto, estimator__max_leaf_nodes=40, estimator__min_samples_leaf=5, estimator__splitter=best \n",
      "[CV]  estimator__max_depth=24, estimator__max_features=auto, estimator__max_leaf_nodes=40, estimator__min_samples_leaf=5, estimator__splitter=best, score=-0.018, total=   0.1s\n",
      "[CV] estimator__max_depth=24, estimator__max_features=auto, estimator__max_leaf_nodes=40, estimator__min_samples_leaf=5, estimator__splitter=best \n",
      "[CV]  estimator__max_depth=24, estimator__max_features=auto, estimator__max_leaf_nodes=40, estimator__min_samples_leaf=5, estimator__splitter=best, score=-0.018, total=   0.1s\n",
      "[CV] estimator__max_depth=24, estimator__max_features=auto, estimator__max_leaf_nodes=40, estimator__min_samples_leaf=5, estimator__splitter=best \n"
     ]
    },
    {
     "name": "stderr",
     "output_type": "stream",
     "text": [
      "/home/abhinav/anaconda3/lib/python3.8/site-packages/sklearn/multiclass.py:76: UserWarning: Label not 10 is present in all training examples.\n",
      "  warnings.warn(\"Label %s is present in all training examples.\" %\n"
     ]
    },
    {
     "name": "stdout",
     "output_type": "stream",
     "text": [
      "[CV]  estimator__max_depth=24, estimator__max_features=auto, estimator__max_leaf_nodes=40, estimator__min_samples_leaf=5, estimator__splitter=best, score=-0.017, total=   0.1s\n",
      "[CV] estimator__max_depth=24, estimator__max_features=auto, estimator__max_leaf_nodes=40, estimator__min_samples_leaf=5, estimator__splitter=random \n",
      "[CV]  estimator__max_depth=24, estimator__max_features=auto, estimator__max_leaf_nodes=40, estimator__min_samples_leaf=5, estimator__splitter=random, score=-0.018, total=   0.1s\n",
      "[CV] estimator__max_depth=24, estimator__max_features=auto, estimator__max_leaf_nodes=40, estimator__min_samples_leaf=5, estimator__splitter=random \n",
      "[CV]  estimator__max_depth=24, estimator__max_features=auto, estimator__max_leaf_nodes=40, estimator__min_samples_leaf=5, estimator__splitter=random, score=-0.017, total=   0.1s\n",
      "[CV] estimator__max_depth=24, estimator__max_features=auto, estimator__max_leaf_nodes=40, estimator__min_samples_leaf=5, estimator__splitter=random \n"
     ]
    },
    {
     "name": "stderr",
     "output_type": "stream",
     "text": [
      "/home/abhinav/anaconda3/lib/python3.8/site-packages/sklearn/multiclass.py:76: UserWarning: Label not 10 is present in all training examples.\n",
      "  warnings.warn(\"Label %s is present in all training examples.\" %\n"
     ]
    },
    {
     "name": "stdout",
     "output_type": "stream",
     "text": [
      "[CV]  estimator__max_depth=24, estimator__max_features=auto, estimator__max_leaf_nodes=40, estimator__min_samples_leaf=5, estimator__splitter=random, score=-0.018, total=   0.1s\n",
      "[CV] estimator__max_depth=24, estimator__max_features=auto, estimator__max_leaf_nodes=50, estimator__min_samples_leaf=1, estimator__splitter=best \n",
      "[CV]  estimator__max_depth=24, estimator__max_features=auto, estimator__max_leaf_nodes=50, estimator__min_samples_leaf=1, estimator__splitter=best, score=-0.015, total=   0.1s\n",
      "[CV] estimator__max_depth=24, estimator__max_features=auto, estimator__max_leaf_nodes=50, estimator__min_samples_leaf=1, estimator__splitter=best \n",
      "[CV]  estimator__max_depth=24, estimator__max_features=auto, estimator__max_leaf_nodes=50, estimator__min_samples_leaf=1, estimator__splitter=best, score=-0.016, total=   0.1s\n",
      "[CV] estimator__max_depth=24, estimator__max_features=auto, estimator__max_leaf_nodes=50, estimator__min_samples_leaf=1, estimator__splitter=best \n"
     ]
    },
    {
     "name": "stderr",
     "output_type": "stream",
     "text": [
      "/home/abhinav/anaconda3/lib/python3.8/site-packages/sklearn/multiclass.py:76: UserWarning: Label not 10 is present in all training examples.\n",
      "  warnings.warn(\"Label %s is present in all training examples.\" %\n"
     ]
    },
    {
     "name": "stdout",
     "output_type": "stream",
     "text": [
      "[CV]  estimator__max_depth=24, estimator__max_features=auto, estimator__max_leaf_nodes=50, estimator__min_samples_leaf=1, estimator__splitter=best, score=-0.016, total=   0.1s\n",
      "[CV] estimator__max_depth=24, estimator__max_features=auto, estimator__max_leaf_nodes=50, estimator__min_samples_leaf=1, estimator__splitter=random \n",
      "[CV]  estimator__max_depth=24, estimator__max_features=auto, estimator__max_leaf_nodes=50, estimator__min_samples_leaf=1, estimator__splitter=random, score=-0.016, total=   0.1s\n",
      "[CV] estimator__max_depth=24, estimator__max_features=auto, estimator__max_leaf_nodes=50, estimator__min_samples_leaf=1, estimator__splitter=random \n",
      "[CV]  estimator__max_depth=24, estimator__max_features=auto, estimator__max_leaf_nodes=50, estimator__min_samples_leaf=1, estimator__splitter=random, score=-0.015, total=   0.1s\n",
      "[CV] estimator__max_depth=24, estimator__max_features=auto, estimator__max_leaf_nodes=50, estimator__min_samples_leaf=1, estimator__splitter=random \n"
     ]
    },
    {
     "name": "stderr",
     "output_type": "stream",
     "text": [
      "/home/abhinav/anaconda3/lib/python3.8/site-packages/sklearn/multiclass.py:76: UserWarning: Label not 10 is present in all training examples.\n",
      "  warnings.warn(\"Label %s is present in all training examples.\" %\n"
     ]
    },
    {
     "name": "stdout",
     "output_type": "stream",
     "text": [
      "[CV]  estimator__max_depth=24, estimator__max_features=auto, estimator__max_leaf_nodes=50, estimator__min_samples_leaf=1, estimator__splitter=random, score=-0.015, total=   0.1s\n",
      "[CV] estimator__max_depth=24, estimator__max_features=auto, estimator__max_leaf_nodes=50, estimator__min_samples_leaf=3, estimator__splitter=best \n",
      "[CV]  estimator__max_depth=24, estimator__max_features=auto, estimator__max_leaf_nodes=50, estimator__min_samples_leaf=3, estimator__splitter=best, score=-0.016, total=   0.1s\n",
      "[CV] estimator__max_depth=24, estimator__max_features=auto, estimator__max_leaf_nodes=50, estimator__min_samples_leaf=3, estimator__splitter=best \n",
      "[CV]  estimator__max_depth=24, estimator__max_features=auto, estimator__max_leaf_nodes=50, estimator__min_samples_leaf=3, estimator__splitter=best, score=-0.016, total=   0.1s\n",
      "[CV] estimator__max_depth=24, estimator__max_features=auto, estimator__max_leaf_nodes=50, estimator__min_samples_leaf=3, estimator__splitter=best \n"
     ]
    },
    {
     "name": "stderr",
     "output_type": "stream",
     "text": [
      "/home/abhinav/anaconda3/lib/python3.8/site-packages/sklearn/multiclass.py:76: UserWarning: Label not 10 is present in all training examples.\n",
      "  warnings.warn(\"Label %s is present in all training examples.\" %\n"
     ]
    },
    {
     "name": "stdout",
     "output_type": "stream",
     "text": [
      "[CV]  estimator__max_depth=24, estimator__max_features=auto, estimator__max_leaf_nodes=50, estimator__min_samples_leaf=3, estimator__splitter=best, score=-0.017, total=   0.1s\n",
      "[CV] estimator__max_depth=24, estimator__max_features=auto, estimator__max_leaf_nodes=50, estimator__min_samples_leaf=3, estimator__splitter=random \n",
      "[CV]  estimator__max_depth=24, estimator__max_features=auto, estimator__max_leaf_nodes=50, estimator__min_samples_leaf=3, estimator__splitter=random, score=-0.018, total=   0.1s\n",
      "[CV] estimator__max_depth=24, estimator__max_features=auto, estimator__max_leaf_nodes=50, estimator__min_samples_leaf=3, estimator__splitter=random \n",
      "[CV]  estimator__max_depth=24, estimator__max_features=auto, estimator__max_leaf_nodes=50, estimator__min_samples_leaf=3, estimator__splitter=random, score=-0.017, total=   0.1s\n",
      "[CV] estimator__max_depth=24, estimator__max_features=auto, estimator__max_leaf_nodes=50, estimator__min_samples_leaf=3, estimator__splitter=random \n"
     ]
    },
    {
     "name": "stderr",
     "output_type": "stream",
     "text": [
      "/home/abhinav/anaconda3/lib/python3.8/site-packages/sklearn/multiclass.py:76: UserWarning: Label not 10 is present in all training examples.\n",
      "  warnings.warn(\"Label %s is present in all training examples.\" %\n"
     ]
    },
    {
     "name": "stdout",
     "output_type": "stream",
     "text": [
      "[CV]  estimator__max_depth=24, estimator__max_features=auto, estimator__max_leaf_nodes=50, estimator__min_samples_leaf=3, estimator__splitter=random, score=-0.018, total=   0.1s\n",
      "[CV] estimator__max_depth=24, estimator__max_features=auto, estimator__max_leaf_nodes=50, estimator__min_samples_leaf=5, estimator__splitter=best \n",
      "[CV]  estimator__max_depth=24, estimator__max_features=auto, estimator__max_leaf_nodes=50, estimator__min_samples_leaf=5, estimator__splitter=best, score=-0.017, total=   0.1s\n",
      "[CV] estimator__max_depth=24, estimator__max_features=auto, estimator__max_leaf_nodes=50, estimator__min_samples_leaf=5, estimator__splitter=best \n",
      "[CV]  estimator__max_depth=24, estimator__max_features=auto, estimator__max_leaf_nodes=50, estimator__min_samples_leaf=5, estimator__splitter=best, score=-0.018, total=   0.1s\n",
      "[CV] estimator__max_depth=24, estimator__max_features=auto, estimator__max_leaf_nodes=50, estimator__min_samples_leaf=5, estimator__splitter=best \n"
     ]
    },
    {
     "name": "stderr",
     "output_type": "stream",
     "text": [
      "/home/abhinav/anaconda3/lib/python3.8/site-packages/sklearn/multiclass.py:76: UserWarning: Label not 10 is present in all training examples.\n",
      "  warnings.warn(\"Label %s is present in all training examples.\" %\n"
     ]
    },
    {
     "name": "stdout",
     "output_type": "stream",
     "text": [
      "[CV]  estimator__max_depth=24, estimator__max_features=auto, estimator__max_leaf_nodes=50, estimator__min_samples_leaf=5, estimator__splitter=best, score=-0.018, total=   0.1s\n",
      "[CV] estimator__max_depth=24, estimator__max_features=auto, estimator__max_leaf_nodes=50, estimator__min_samples_leaf=5, estimator__splitter=random \n",
      "[CV]  estimator__max_depth=24, estimator__max_features=auto, estimator__max_leaf_nodes=50, estimator__min_samples_leaf=5, estimator__splitter=random, score=-0.018, total=   0.1s\n",
      "[CV] estimator__max_depth=24, estimator__max_features=auto, estimator__max_leaf_nodes=50, estimator__min_samples_leaf=5, estimator__splitter=random \n",
      "[CV]  estimator__max_depth=24, estimator__max_features=auto, estimator__max_leaf_nodes=50, estimator__min_samples_leaf=5, estimator__splitter=random, score=-0.018, total=   0.1s\n",
      "[CV] estimator__max_depth=24, estimator__max_features=auto, estimator__max_leaf_nodes=50, estimator__min_samples_leaf=5, estimator__splitter=random \n"
     ]
    },
    {
     "name": "stderr",
     "output_type": "stream",
     "text": [
      "/home/abhinav/anaconda3/lib/python3.8/site-packages/sklearn/multiclass.py:76: UserWarning: Label not 10 is present in all training examples.\n",
      "  warnings.warn(\"Label %s is present in all training examples.\" %\n"
     ]
    },
    {
     "name": "stdout",
     "output_type": "stream",
     "text": [
      "[CV]  estimator__max_depth=24, estimator__max_features=auto, estimator__max_leaf_nodes=50, estimator__min_samples_leaf=5, estimator__splitter=random, score=-0.018, total=   0.1s\n",
      "[CV] estimator__max_depth=24, estimator__max_features=auto, estimator__max_leaf_nodes=70, estimator__min_samples_leaf=1, estimator__splitter=best \n",
      "[CV]  estimator__max_depth=24, estimator__max_features=auto, estimator__max_leaf_nodes=70, estimator__min_samples_leaf=1, estimator__splitter=best, score=-0.015, total=   0.1s\n",
      "[CV] estimator__max_depth=24, estimator__max_features=auto, estimator__max_leaf_nodes=70, estimator__min_samples_leaf=1, estimator__splitter=best \n",
      "[CV]  estimator__max_depth=24, estimator__max_features=auto, estimator__max_leaf_nodes=70, estimator__min_samples_leaf=1, estimator__splitter=best, score=-0.014, total=   0.1s\n",
      "[CV] estimator__max_depth=24, estimator__max_features=auto, estimator__max_leaf_nodes=70, estimator__min_samples_leaf=1, estimator__splitter=best \n"
     ]
    },
    {
     "name": "stderr",
     "output_type": "stream",
     "text": [
      "/home/abhinav/anaconda3/lib/python3.8/site-packages/sklearn/multiclass.py:76: UserWarning: Label not 10 is present in all training examples.\n",
      "  warnings.warn(\"Label %s is present in all training examples.\" %\n"
     ]
    },
    {
     "name": "stdout",
     "output_type": "stream",
     "text": [
      "[CV]  estimator__max_depth=24, estimator__max_features=auto, estimator__max_leaf_nodes=70, estimator__min_samples_leaf=1, estimator__splitter=best, score=-0.016, total=   0.1s\n",
      "[CV] estimator__max_depth=24, estimator__max_features=auto, estimator__max_leaf_nodes=70, estimator__min_samples_leaf=1, estimator__splitter=random \n",
      "[CV]  estimator__max_depth=24, estimator__max_features=auto, estimator__max_leaf_nodes=70, estimator__min_samples_leaf=1, estimator__splitter=random, score=-0.015, total=   0.1s\n",
      "[CV] estimator__max_depth=24, estimator__max_features=auto, estimator__max_leaf_nodes=70, estimator__min_samples_leaf=1, estimator__splitter=random \n",
      "[CV]  estimator__max_depth=24, estimator__max_features=auto, estimator__max_leaf_nodes=70, estimator__min_samples_leaf=1, estimator__splitter=random, score=-0.017, total=   0.1s\n",
      "[CV] estimator__max_depth=24, estimator__max_features=auto, estimator__max_leaf_nodes=70, estimator__min_samples_leaf=1, estimator__splitter=random \n"
     ]
    },
    {
     "name": "stderr",
     "output_type": "stream",
     "text": [
      "/home/abhinav/anaconda3/lib/python3.8/site-packages/sklearn/multiclass.py:76: UserWarning: Label not 10 is present in all training examples.\n",
      "  warnings.warn(\"Label %s is present in all training examples.\" %\n"
     ]
    },
    {
     "name": "stdout",
     "output_type": "stream",
     "text": [
      "[CV]  estimator__max_depth=24, estimator__max_features=auto, estimator__max_leaf_nodes=70, estimator__min_samples_leaf=1, estimator__splitter=random, score=-0.015, total=   0.1s\n",
      "[CV] estimator__max_depth=24, estimator__max_features=auto, estimator__max_leaf_nodes=70, estimator__min_samples_leaf=3, estimator__splitter=best \n",
      "[CV]  estimator__max_depth=24, estimator__max_features=auto, estimator__max_leaf_nodes=70, estimator__min_samples_leaf=3, estimator__splitter=best, score=-0.017, total=   0.1s\n",
      "[CV] estimator__max_depth=24, estimator__max_features=auto, estimator__max_leaf_nodes=70, estimator__min_samples_leaf=3, estimator__splitter=best \n",
      "[CV]  estimator__max_depth=24, estimator__max_features=auto, estimator__max_leaf_nodes=70, estimator__min_samples_leaf=3, estimator__splitter=best, score=-0.016, total=   0.1s\n",
      "[CV] estimator__max_depth=24, estimator__max_features=auto, estimator__max_leaf_nodes=70, estimator__min_samples_leaf=3, estimator__splitter=best \n"
     ]
    },
    {
     "name": "stderr",
     "output_type": "stream",
     "text": [
      "/home/abhinav/anaconda3/lib/python3.8/site-packages/sklearn/multiclass.py:76: UserWarning: Label not 10 is present in all training examples.\n",
      "  warnings.warn(\"Label %s is present in all training examples.\" %\n"
     ]
    },
    {
     "name": "stdout",
     "output_type": "stream",
     "text": [
      "[CV]  estimator__max_depth=24, estimator__max_features=auto, estimator__max_leaf_nodes=70, estimator__min_samples_leaf=3, estimator__splitter=best, score=-0.017, total=   0.1s\n",
      "[CV] estimator__max_depth=24, estimator__max_features=auto, estimator__max_leaf_nodes=70, estimator__min_samples_leaf=3, estimator__splitter=random \n",
      "[CV]  estimator__max_depth=24, estimator__max_features=auto, estimator__max_leaf_nodes=70, estimator__min_samples_leaf=3, estimator__splitter=random, score=-0.017, total=   0.1s\n",
      "[CV] estimator__max_depth=24, estimator__max_features=auto, estimator__max_leaf_nodes=70, estimator__min_samples_leaf=3, estimator__splitter=random \n",
      "[CV]  estimator__max_depth=24, estimator__max_features=auto, estimator__max_leaf_nodes=70, estimator__min_samples_leaf=3, estimator__splitter=random, score=-0.018, total=   0.1s\n",
      "[CV] estimator__max_depth=24, estimator__max_features=auto, estimator__max_leaf_nodes=70, estimator__min_samples_leaf=3, estimator__splitter=random \n"
     ]
    },
    {
     "name": "stderr",
     "output_type": "stream",
     "text": [
      "/home/abhinav/anaconda3/lib/python3.8/site-packages/sklearn/multiclass.py:76: UserWarning: Label not 10 is present in all training examples.\n",
      "  warnings.warn(\"Label %s is present in all training examples.\" %\n"
     ]
    },
    {
     "name": "stdout",
     "output_type": "stream",
     "text": [
      "[CV]  estimator__max_depth=24, estimator__max_features=auto, estimator__max_leaf_nodes=70, estimator__min_samples_leaf=3, estimator__splitter=random, score=-0.018, total=   0.1s\n",
      "[CV] estimator__max_depth=24, estimator__max_features=auto, estimator__max_leaf_nodes=70, estimator__min_samples_leaf=5, estimator__splitter=best \n",
      "[CV]  estimator__max_depth=24, estimator__max_features=auto, estimator__max_leaf_nodes=70, estimator__min_samples_leaf=5, estimator__splitter=best, score=-0.018, total=   0.1s\n",
      "[CV] estimator__max_depth=24, estimator__max_features=auto, estimator__max_leaf_nodes=70, estimator__min_samples_leaf=5, estimator__splitter=best \n",
      "[CV]  estimator__max_depth=24, estimator__max_features=auto, estimator__max_leaf_nodes=70, estimator__min_samples_leaf=5, estimator__splitter=best, score=-0.018, total=   0.1s\n",
      "[CV] estimator__max_depth=24, estimator__max_features=auto, estimator__max_leaf_nodes=70, estimator__min_samples_leaf=5, estimator__splitter=best \n"
     ]
    },
    {
     "name": "stderr",
     "output_type": "stream",
     "text": [
      "/home/abhinav/anaconda3/lib/python3.8/site-packages/sklearn/multiclass.py:76: UserWarning: Label not 10 is present in all training examples.\n",
      "  warnings.warn(\"Label %s is present in all training examples.\" %\n"
     ]
    },
    {
     "name": "stdout",
     "output_type": "stream",
     "text": [
      "[CV]  estimator__max_depth=24, estimator__max_features=auto, estimator__max_leaf_nodes=70, estimator__min_samples_leaf=5, estimator__splitter=best, score=-0.018, total=   0.1s\n",
      "[CV] estimator__max_depth=24, estimator__max_features=auto, estimator__max_leaf_nodes=70, estimator__min_samples_leaf=5, estimator__splitter=random \n",
      "[CV]  estimator__max_depth=24, estimator__max_features=auto, estimator__max_leaf_nodes=70, estimator__min_samples_leaf=5, estimator__splitter=random, score=-0.018, total=   0.1s\n",
      "[CV] estimator__max_depth=24, estimator__max_features=auto, estimator__max_leaf_nodes=70, estimator__min_samples_leaf=5, estimator__splitter=random \n",
      "[CV]  estimator__max_depth=24, estimator__max_features=auto, estimator__max_leaf_nodes=70, estimator__min_samples_leaf=5, estimator__splitter=random, score=-0.018, total=   0.1s\n",
      "[CV] estimator__max_depth=24, estimator__max_features=auto, estimator__max_leaf_nodes=70, estimator__min_samples_leaf=5, estimator__splitter=random \n"
     ]
    },
    {
     "name": "stderr",
     "output_type": "stream",
     "text": [
      "/home/abhinav/anaconda3/lib/python3.8/site-packages/sklearn/multiclass.py:76: UserWarning: Label not 10 is present in all training examples.\n",
      "  warnings.warn(\"Label %s is present in all training examples.\" %\n"
     ]
    },
    {
     "name": "stdout",
     "output_type": "stream",
     "text": [
      "[CV]  estimator__max_depth=24, estimator__max_features=auto, estimator__max_leaf_nodes=70, estimator__min_samples_leaf=5, estimator__splitter=random, score=-0.018, total=   0.1s\n",
      "[CV] estimator__max_depth=24, estimator__max_features=sqrt, estimator__max_leaf_nodes=None, estimator__min_samples_leaf=1, estimator__splitter=best \n",
      "[CV]  estimator__max_depth=24, estimator__max_features=sqrt, estimator__max_leaf_nodes=None, estimator__min_samples_leaf=1, estimator__splitter=best, score=-0.016, total=   0.1s\n",
      "[CV] estimator__max_depth=24, estimator__max_features=sqrt, estimator__max_leaf_nodes=None, estimator__min_samples_leaf=1, estimator__splitter=best \n",
      "[CV]  estimator__max_depth=24, estimator__max_features=sqrt, estimator__max_leaf_nodes=None, estimator__min_samples_leaf=1, estimator__splitter=best, score=-0.016, total=   0.1s\n",
      "[CV] estimator__max_depth=24, estimator__max_features=sqrt, estimator__max_leaf_nodes=None, estimator__min_samples_leaf=1, estimator__splitter=best \n"
     ]
    },
    {
     "name": "stderr",
     "output_type": "stream",
     "text": [
      "/home/abhinav/anaconda3/lib/python3.8/site-packages/sklearn/multiclass.py:76: UserWarning: Label not 10 is present in all training examples.\n",
      "  warnings.warn(\"Label %s is present in all training examples.\" %\n"
     ]
    },
    {
     "name": "stdout",
     "output_type": "stream",
     "text": [
      "[CV]  estimator__max_depth=24, estimator__max_features=sqrt, estimator__max_leaf_nodes=None, estimator__min_samples_leaf=1, estimator__splitter=best, score=-0.015, total=   0.1s\n",
      "[CV] estimator__max_depth=24, estimator__max_features=sqrt, estimator__max_leaf_nodes=None, estimator__min_samples_leaf=1, estimator__splitter=random \n",
      "[CV]  estimator__max_depth=24, estimator__max_features=sqrt, estimator__max_leaf_nodes=None, estimator__min_samples_leaf=1, estimator__splitter=random, score=-0.016, total=   0.1s\n",
      "[CV] estimator__max_depth=24, estimator__max_features=sqrt, estimator__max_leaf_nodes=None, estimator__min_samples_leaf=1, estimator__splitter=random \n",
      "[CV]  estimator__max_depth=24, estimator__max_features=sqrt, estimator__max_leaf_nodes=None, estimator__min_samples_leaf=1, estimator__splitter=random, score=-0.016, total=   0.1s\n",
      "[CV] estimator__max_depth=24, estimator__max_features=sqrt, estimator__max_leaf_nodes=None, estimator__min_samples_leaf=1, estimator__splitter=random \n"
     ]
    },
    {
     "name": "stderr",
     "output_type": "stream",
     "text": [
      "/home/abhinav/anaconda3/lib/python3.8/site-packages/sklearn/multiclass.py:76: UserWarning: Label not 10 is present in all training examples.\n",
      "  warnings.warn(\"Label %s is present in all training examples.\" %\n"
     ]
    },
    {
     "name": "stdout",
     "output_type": "stream",
     "text": [
      "[CV]  estimator__max_depth=24, estimator__max_features=sqrt, estimator__max_leaf_nodes=None, estimator__min_samples_leaf=1, estimator__splitter=random, score=-0.017, total=   0.1s\n",
      "[CV] estimator__max_depth=24, estimator__max_features=sqrt, estimator__max_leaf_nodes=None, estimator__min_samples_leaf=3, estimator__splitter=best \n",
      "[CV]  estimator__max_depth=24, estimator__max_features=sqrt, estimator__max_leaf_nodes=None, estimator__min_samples_leaf=3, estimator__splitter=best, score=-0.017, total=   0.1s\n",
      "[CV] estimator__max_depth=24, estimator__max_features=sqrt, estimator__max_leaf_nodes=None, estimator__min_samples_leaf=3, estimator__splitter=best \n",
      "[CV]  estimator__max_depth=24, estimator__max_features=sqrt, estimator__max_leaf_nodes=None, estimator__min_samples_leaf=3, estimator__splitter=best, score=-0.017, total=   0.1s\n",
      "[CV] estimator__max_depth=24, estimator__max_features=sqrt, estimator__max_leaf_nodes=None, estimator__min_samples_leaf=3, estimator__splitter=best \n"
     ]
    },
    {
     "name": "stderr",
     "output_type": "stream",
     "text": [
      "/home/abhinav/anaconda3/lib/python3.8/site-packages/sklearn/multiclass.py:76: UserWarning: Label not 10 is present in all training examples.\n",
      "  warnings.warn(\"Label %s is present in all training examples.\" %\n"
     ]
    },
    {
     "name": "stdout",
     "output_type": "stream",
     "text": [
      "[CV]  estimator__max_depth=24, estimator__max_features=sqrt, estimator__max_leaf_nodes=None, estimator__min_samples_leaf=3, estimator__splitter=best, score=-0.018, total=   0.1s\n",
      "[CV] estimator__max_depth=24, estimator__max_features=sqrt, estimator__max_leaf_nodes=None, estimator__min_samples_leaf=3, estimator__splitter=random \n",
      "[CV]  estimator__max_depth=24, estimator__max_features=sqrt, estimator__max_leaf_nodes=None, estimator__min_samples_leaf=3, estimator__splitter=random, score=-0.018, total=   0.1s\n",
      "[CV] estimator__max_depth=24, estimator__max_features=sqrt, estimator__max_leaf_nodes=None, estimator__min_samples_leaf=3, estimator__splitter=random \n",
      "[CV]  estimator__max_depth=24, estimator__max_features=sqrt, estimator__max_leaf_nodes=None, estimator__min_samples_leaf=3, estimator__splitter=random, score=-0.017, total=   0.1s\n",
      "[CV] estimator__max_depth=24, estimator__max_features=sqrt, estimator__max_leaf_nodes=None, estimator__min_samples_leaf=3, estimator__splitter=random \n"
     ]
    },
    {
     "name": "stderr",
     "output_type": "stream",
     "text": [
      "/home/abhinav/anaconda3/lib/python3.8/site-packages/sklearn/multiclass.py:76: UserWarning: Label not 10 is present in all training examples.\n",
      "  warnings.warn(\"Label %s is present in all training examples.\" %\n"
     ]
    },
    {
     "name": "stdout",
     "output_type": "stream",
     "text": [
      "[CV]  estimator__max_depth=24, estimator__max_features=sqrt, estimator__max_leaf_nodes=None, estimator__min_samples_leaf=3, estimator__splitter=random, score=-0.018, total=   0.1s\n",
      "[CV] estimator__max_depth=24, estimator__max_features=sqrt, estimator__max_leaf_nodes=None, estimator__min_samples_leaf=5, estimator__splitter=best \n",
      "[CV]  estimator__max_depth=24, estimator__max_features=sqrt, estimator__max_leaf_nodes=None, estimator__min_samples_leaf=5, estimator__splitter=best, score=-0.017, total=   0.1s\n",
      "[CV] estimator__max_depth=24, estimator__max_features=sqrt, estimator__max_leaf_nodes=None, estimator__min_samples_leaf=5, estimator__splitter=best \n",
      "[CV]  estimator__max_depth=24, estimator__max_features=sqrt, estimator__max_leaf_nodes=None, estimator__min_samples_leaf=5, estimator__splitter=best, score=-0.017, total=   0.1s\n",
      "[CV] estimator__max_depth=24, estimator__max_features=sqrt, estimator__max_leaf_nodes=None, estimator__min_samples_leaf=5, estimator__splitter=best \n"
     ]
    },
    {
     "name": "stderr",
     "output_type": "stream",
     "text": [
      "/home/abhinav/anaconda3/lib/python3.8/site-packages/sklearn/multiclass.py:76: UserWarning: Label not 10 is present in all training examples.\n",
      "  warnings.warn(\"Label %s is present in all training examples.\" %\n"
     ]
    },
    {
     "name": "stdout",
     "output_type": "stream",
     "text": [
      "[CV]  estimator__max_depth=24, estimator__max_features=sqrt, estimator__max_leaf_nodes=None, estimator__min_samples_leaf=5, estimator__splitter=best, score=-0.018, total=   0.1s\n",
      "[CV] estimator__max_depth=24, estimator__max_features=sqrt, estimator__max_leaf_nodes=None, estimator__min_samples_leaf=5, estimator__splitter=random \n",
      "[CV]  estimator__max_depth=24, estimator__max_features=sqrt, estimator__max_leaf_nodes=None, estimator__min_samples_leaf=5, estimator__splitter=random, score=-0.018, total=   0.1s\n",
      "[CV] estimator__max_depth=24, estimator__max_features=sqrt, estimator__max_leaf_nodes=None, estimator__min_samples_leaf=5, estimator__splitter=random \n",
      "[CV]  estimator__max_depth=24, estimator__max_features=sqrt, estimator__max_leaf_nodes=None, estimator__min_samples_leaf=5, estimator__splitter=random, score=-0.018, total=   0.1s\n",
      "[CV] estimator__max_depth=24, estimator__max_features=sqrt, estimator__max_leaf_nodes=None, estimator__min_samples_leaf=5, estimator__splitter=random \n"
     ]
    },
    {
     "name": "stderr",
     "output_type": "stream",
     "text": [
      "/home/abhinav/anaconda3/lib/python3.8/site-packages/sklearn/multiclass.py:76: UserWarning: Label not 10 is present in all training examples.\n",
      "  warnings.warn(\"Label %s is present in all training examples.\" %\n"
     ]
    },
    {
     "name": "stdout",
     "output_type": "stream",
     "text": [
      "[CV]  estimator__max_depth=24, estimator__max_features=sqrt, estimator__max_leaf_nodes=None, estimator__min_samples_leaf=5, estimator__splitter=random, score=-0.018, total=   0.1s\n",
      "[CV] estimator__max_depth=24, estimator__max_features=sqrt, estimator__max_leaf_nodes=10, estimator__min_samples_leaf=1, estimator__splitter=best \n",
      "[CV]  estimator__max_depth=24, estimator__max_features=sqrt, estimator__max_leaf_nodes=10, estimator__min_samples_leaf=1, estimator__splitter=best, score=-0.019, total=   0.1s\n",
      "[CV] estimator__max_depth=24, estimator__max_features=sqrt, estimator__max_leaf_nodes=10, estimator__min_samples_leaf=1, estimator__splitter=best \n",
      "[CV]  estimator__max_depth=24, estimator__max_features=sqrt, estimator__max_leaf_nodes=10, estimator__min_samples_leaf=1, estimator__splitter=best, score=-0.018, total=   0.1s\n",
      "[CV] estimator__max_depth=24, estimator__max_features=sqrt, estimator__max_leaf_nodes=10, estimator__min_samples_leaf=1, estimator__splitter=best \n"
     ]
    },
    {
     "name": "stderr",
     "output_type": "stream",
     "text": [
      "/home/abhinav/anaconda3/lib/python3.8/site-packages/sklearn/multiclass.py:76: UserWarning: Label not 10 is present in all training examples.\n",
      "  warnings.warn(\"Label %s is present in all training examples.\" %\n"
     ]
    },
    {
     "name": "stdout",
     "output_type": "stream",
     "text": [
      "[CV]  estimator__max_depth=24, estimator__max_features=sqrt, estimator__max_leaf_nodes=10, estimator__min_samples_leaf=1, estimator__splitter=best, score=-0.018, total=   0.1s\n",
      "[CV] estimator__max_depth=24, estimator__max_features=sqrt, estimator__max_leaf_nodes=10, estimator__min_samples_leaf=1, estimator__splitter=random \n",
      "[CV]  estimator__max_depth=24, estimator__max_features=sqrt, estimator__max_leaf_nodes=10, estimator__min_samples_leaf=1, estimator__splitter=random, score=-0.018, total=   0.1s\n",
      "[CV] estimator__max_depth=24, estimator__max_features=sqrt, estimator__max_leaf_nodes=10, estimator__min_samples_leaf=1, estimator__splitter=random \n",
      "[CV]  estimator__max_depth=24, estimator__max_features=sqrt, estimator__max_leaf_nodes=10, estimator__min_samples_leaf=1, estimator__splitter=random, score=-0.017, total=   0.1s\n",
      "[CV] estimator__max_depth=24, estimator__max_features=sqrt, estimator__max_leaf_nodes=10, estimator__min_samples_leaf=1, estimator__splitter=random \n"
     ]
    },
    {
     "name": "stderr",
     "output_type": "stream",
     "text": [
      "/home/abhinav/anaconda3/lib/python3.8/site-packages/sklearn/multiclass.py:76: UserWarning: Label not 10 is present in all training examples.\n",
      "  warnings.warn(\"Label %s is present in all training examples.\" %\n"
     ]
    },
    {
     "name": "stdout",
     "output_type": "stream",
     "text": [
      "[CV]  estimator__max_depth=24, estimator__max_features=sqrt, estimator__max_leaf_nodes=10, estimator__min_samples_leaf=1, estimator__splitter=random, score=-0.017, total=   0.1s\n",
      "[CV] estimator__max_depth=24, estimator__max_features=sqrt, estimator__max_leaf_nodes=10, estimator__min_samples_leaf=3, estimator__splitter=best \n",
      "[CV]  estimator__max_depth=24, estimator__max_features=sqrt, estimator__max_leaf_nodes=10, estimator__min_samples_leaf=3, estimator__splitter=best, score=-0.017, total=   0.1s\n",
      "[CV] estimator__max_depth=24, estimator__max_features=sqrt, estimator__max_leaf_nodes=10, estimator__min_samples_leaf=3, estimator__splitter=best \n",
      "[CV]  estimator__max_depth=24, estimator__max_features=sqrt, estimator__max_leaf_nodes=10, estimator__min_samples_leaf=3, estimator__splitter=best, score=-0.016, total=   0.1s\n",
      "[CV] estimator__max_depth=24, estimator__max_features=sqrt, estimator__max_leaf_nodes=10, estimator__min_samples_leaf=3, estimator__splitter=best \n"
     ]
    },
    {
     "name": "stderr",
     "output_type": "stream",
     "text": [
      "/home/abhinav/anaconda3/lib/python3.8/site-packages/sklearn/multiclass.py:76: UserWarning: Label not 10 is present in all training examples.\n",
      "  warnings.warn(\"Label %s is present in all training examples.\" %\n"
     ]
    },
    {
     "name": "stdout",
     "output_type": "stream",
     "text": [
      "[CV]  estimator__max_depth=24, estimator__max_features=sqrt, estimator__max_leaf_nodes=10, estimator__min_samples_leaf=3, estimator__splitter=best, score=-0.017, total=   0.1s\n",
      "[CV] estimator__max_depth=24, estimator__max_features=sqrt, estimator__max_leaf_nodes=10, estimator__min_samples_leaf=3, estimator__splitter=random \n",
      "[CV]  estimator__max_depth=24, estimator__max_features=sqrt, estimator__max_leaf_nodes=10, estimator__min_samples_leaf=3, estimator__splitter=random, score=-0.018, total=   0.1s\n",
      "[CV] estimator__max_depth=24, estimator__max_features=sqrt, estimator__max_leaf_nodes=10, estimator__min_samples_leaf=3, estimator__splitter=random \n",
      "[CV]  estimator__max_depth=24, estimator__max_features=sqrt, estimator__max_leaf_nodes=10, estimator__min_samples_leaf=3, estimator__splitter=random, score=-0.018, total=   0.1s\n",
      "[CV] estimator__max_depth=24, estimator__max_features=sqrt, estimator__max_leaf_nodes=10, estimator__min_samples_leaf=3, estimator__splitter=random \n"
     ]
    },
    {
     "name": "stderr",
     "output_type": "stream",
     "text": [
      "/home/abhinav/anaconda3/lib/python3.8/site-packages/sklearn/multiclass.py:76: UserWarning: Label not 10 is present in all training examples.\n",
      "  warnings.warn(\"Label %s is present in all training examples.\" %\n"
     ]
    },
    {
     "name": "stdout",
     "output_type": "stream",
     "text": [
      "[CV]  estimator__max_depth=24, estimator__max_features=sqrt, estimator__max_leaf_nodes=10, estimator__min_samples_leaf=3, estimator__splitter=random, score=-0.017, total=   0.1s\n",
      "[CV] estimator__max_depth=24, estimator__max_features=sqrt, estimator__max_leaf_nodes=10, estimator__min_samples_leaf=5, estimator__splitter=best \n",
      "[CV]  estimator__max_depth=24, estimator__max_features=sqrt, estimator__max_leaf_nodes=10, estimator__min_samples_leaf=5, estimator__splitter=best, score=-0.018, total=   0.1s\n",
      "[CV] estimator__max_depth=24, estimator__max_features=sqrt, estimator__max_leaf_nodes=10, estimator__min_samples_leaf=5, estimator__splitter=best \n",
      "[CV]  estimator__max_depth=24, estimator__max_features=sqrt, estimator__max_leaf_nodes=10, estimator__min_samples_leaf=5, estimator__splitter=best, score=-0.018, total=   0.1s\n",
      "[CV] estimator__max_depth=24, estimator__max_features=sqrt, estimator__max_leaf_nodes=10, estimator__min_samples_leaf=5, estimator__splitter=best \n"
     ]
    },
    {
     "name": "stderr",
     "output_type": "stream",
     "text": [
      "/home/abhinav/anaconda3/lib/python3.8/site-packages/sklearn/multiclass.py:76: UserWarning: Label not 10 is present in all training examples.\n",
      "  warnings.warn(\"Label %s is present in all training examples.\" %\n"
     ]
    },
    {
     "name": "stdout",
     "output_type": "stream",
     "text": [
      "[CV]  estimator__max_depth=24, estimator__max_features=sqrt, estimator__max_leaf_nodes=10, estimator__min_samples_leaf=5, estimator__splitter=best, score=-0.018, total=   0.1s\n",
      "[CV] estimator__max_depth=24, estimator__max_features=sqrt, estimator__max_leaf_nodes=10, estimator__min_samples_leaf=5, estimator__splitter=random \n",
      "[CV]  estimator__max_depth=24, estimator__max_features=sqrt, estimator__max_leaf_nodes=10, estimator__min_samples_leaf=5, estimator__splitter=random, score=-0.018, total=   0.1s\n",
      "[CV] estimator__max_depth=24, estimator__max_features=sqrt, estimator__max_leaf_nodes=10, estimator__min_samples_leaf=5, estimator__splitter=random \n",
      "[CV]  estimator__max_depth=24, estimator__max_features=sqrt, estimator__max_leaf_nodes=10, estimator__min_samples_leaf=5, estimator__splitter=random, score=-0.018, total=   0.1s\n",
      "[CV] estimator__max_depth=24, estimator__max_features=sqrt, estimator__max_leaf_nodes=10, estimator__min_samples_leaf=5, estimator__splitter=random \n"
     ]
    },
    {
     "name": "stderr",
     "output_type": "stream",
     "text": [
      "/home/abhinav/anaconda3/lib/python3.8/site-packages/sklearn/multiclass.py:76: UserWarning: Label not 10 is present in all training examples.\n",
      "  warnings.warn(\"Label %s is present in all training examples.\" %\n"
     ]
    },
    {
     "name": "stdout",
     "output_type": "stream",
     "text": [
      "[CV]  estimator__max_depth=24, estimator__max_features=sqrt, estimator__max_leaf_nodes=10, estimator__min_samples_leaf=5, estimator__splitter=random, score=-0.018, total=   0.1s\n",
      "[CV] estimator__max_depth=24, estimator__max_features=sqrt, estimator__max_leaf_nodes=20, estimator__min_samples_leaf=1, estimator__splitter=best \n",
      "[CV]  estimator__max_depth=24, estimator__max_features=sqrt, estimator__max_leaf_nodes=20, estimator__min_samples_leaf=1, estimator__splitter=best, score=-0.017, total=   0.1s\n",
      "[CV] estimator__max_depth=24, estimator__max_features=sqrt, estimator__max_leaf_nodes=20, estimator__min_samples_leaf=1, estimator__splitter=best \n",
      "[CV]  estimator__max_depth=24, estimator__max_features=sqrt, estimator__max_leaf_nodes=20, estimator__min_samples_leaf=1, estimator__splitter=best, score=-0.017, total=   0.1s\n",
      "[CV] estimator__max_depth=24, estimator__max_features=sqrt, estimator__max_leaf_nodes=20, estimator__min_samples_leaf=1, estimator__splitter=best \n"
     ]
    },
    {
     "name": "stderr",
     "output_type": "stream",
     "text": [
      "/home/abhinav/anaconda3/lib/python3.8/site-packages/sklearn/multiclass.py:76: UserWarning: Label not 10 is present in all training examples.\n",
      "  warnings.warn(\"Label %s is present in all training examples.\" %\n"
     ]
    },
    {
     "name": "stdout",
     "output_type": "stream",
     "text": [
      "[CV]  estimator__max_depth=24, estimator__max_features=sqrt, estimator__max_leaf_nodes=20, estimator__min_samples_leaf=1, estimator__splitter=best, score=-0.016, total=   0.1s\n",
      "[CV] estimator__max_depth=24, estimator__max_features=sqrt, estimator__max_leaf_nodes=20, estimator__min_samples_leaf=1, estimator__splitter=random \n",
      "[CV]  estimator__max_depth=24, estimator__max_features=sqrt, estimator__max_leaf_nodes=20, estimator__min_samples_leaf=1, estimator__splitter=random, score=-0.016, total=   0.1s\n",
      "[CV] estimator__max_depth=24, estimator__max_features=sqrt, estimator__max_leaf_nodes=20, estimator__min_samples_leaf=1, estimator__splitter=random \n",
      "[CV]  estimator__max_depth=24, estimator__max_features=sqrt, estimator__max_leaf_nodes=20, estimator__min_samples_leaf=1, estimator__splitter=random, score=-0.017, total=   0.1s\n",
      "[CV] estimator__max_depth=24, estimator__max_features=sqrt, estimator__max_leaf_nodes=20, estimator__min_samples_leaf=1, estimator__splitter=random \n"
     ]
    },
    {
     "name": "stderr",
     "output_type": "stream",
     "text": [
      "/home/abhinav/anaconda3/lib/python3.8/site-packages/sklearn/multiclass.py:76: UserWarning: Label not 10 is present in all training examples.\n",
      "  warnings.warn(\"Label %s is present in all training examples.\" %\n"
     ]
    },
    {
     "name": "stdout",
     "output_type": "stream",
     "text": [
      "[CV]  estimator__max_depth=24, estimator__max_features=sqrt, estimator__max_leaf_nodes=20, estimator__min_samples_leaf=1, estimator__splitter=random, score=-0.016, total=   0.1s\n",
      "[CV] estimator__max_depth=24, estimator__max_features=sqrt, estimator__max_leaf_nodes=20, estimator__min_samples_leaf=3, estimator__splitter=best \n",
      "[CV]  estimator__max_depth=24, estimator__max_features=sqrt, estimator__max_leaf_nodes=20, estimator__min_samples_leaf=3, estimator__splitter=best, score=-0.017, total=   0.1s\n",
      "[CV] estimator__max_depth=24, estimator__max_features=sqrt, estimator__max_leaf_nodes=20, estimator__min_samples_leaf=3, estimator__splitter=best \n",
      "[CV]  estimator__max_depth=24, estimator__max_features=sqrt, estimator__max_leaf_nodes=20, estimator__min_samples_leaf=3, estimator__splitter=best, score=-0.016, total=   0.1s\n",
      "[CV] estimator__max_depth=24, estimator__max_features=sqrt, estimator__max_leaf_nodes=20, estimator__min_samples_leaf=3, estimator__splitter=best \n"
     ]
    },
    {
     "name": "stderr",
     "output_type": "stream",
     "text": [
      "/home/abhinav/anaconda3/lib/python3.8/site-packages/sklearn/multiclass.py:76: UserWarning: Label not 10 is present in all training examples.\n",
      "  warnings.warn(\"Label %s is present in all training examples.\" %\n"
     ]
    },
    {
     "name": "stdout",
     "output_type": "stream",
     "text": [
      "[CV]  estimator__max_depth=24, estimator__max_features=sqrt, estimator__max_leaf_nodes=20, estimator__min_samples_leaf=3, estimator__splitter=best, score=-0.017, total=   0.1s\n",
      "[CV] estimator__max_depth=24, estimator__max_features=sqrt, estimator__max_leaf_nodes=20, estimator__min_samples_leaf=3, estimator__splitter=random \n",
      "[CV]  estimator__max_depth=24, estimator__max_features=sqrt, estimator__max_leaf_nodes=20, estimator__min_samples_leaf=3, estimator__splitter=random, score=-0.018, total=   0.1s\n",
      "[CV] estimator__max_depth=24, estimator__max_features=sqrt, estimator__max_leaf_nodes=20, estimator__min_samples_leaf=3, estimator__splitter=random \n",
      "[CV]  estimator__max_depth=24, estimator__max_features=sqrt, estimator__max_leaf_nodes=20, estimator__min_samples_leaf=3, estimator__splitter=random, score=-0.018, total=   0.1s\n",
      "[CV] estimator__max_depth=24, estimator__max_features=sqrt, estimator__max_leaf_nodes=20, estimator__min_samples_leaf=3, estimator__splitter=random \n"
     ]
    },
    {
     "name": "stderr",
     "output_type": "stream",
     "text": [
      "/home/abhinav/anaconda3/lib/python3.8/site-packages/sklearn/multiclass.py:76: UserWarning: Label not 10 is present in all training examples.\n",
      "  warnings.warn(\"Label %s is present in all training examples.\" %\n"
     ]
    },
    {
     "name": "stdout",
     "output_type": "stream",
     "text": [
      "[CV]  estimator__max_depth=24, estimator__max_features=sqrt, estimator__max_leaf_nodes=20, estimator__min_samples_leaf=3, estimator__splitter=random, score=-0.017, total=   0.1s\n",
      "[CV] estimator__max_depth=24, estimator__max_features=sqrt, estimator__max_leaf_nodes=20, estimator__min_samples_leaf=5, estimator__splitter=best \n",
      "[CV]  estimator__max_depth=24, estimator__max_features=sqrt, estimator__max_leaf_nodes=20, estimator__min_samples_leaf=5, estimator__splitter=best, score=-0.018, total=   0.1s\n",
      "[CV] estimator__max_depth=24, estimator__max_features=sqrt, estimator__max_leaf_nodes=20, estimator__min_samples_leaf=5, estimator__splitter=best \n",
      "[CV]  estimator__max_depth=24, estimator__max_features=sqrt, estimator__max_leaf_nodes=20, estimator__min_samples_leaf=5, estimator__splitter=best, score=-0.017, total=   0.1s\n",
      "[CV] estimator__max_depth=24, estimator__max_features=sqrt, estimator__max_leaf_nodes=20, estimator__min_samples_leaf=5, estimator__splitter=best \n"
     ]
    },
    {
     "name": "stderr",
     "output_type": "stream",
     "text": [
      "/home/abhinav/anaconda3/lib/python3.8/site-packages/sklearn/multiclass.py:76: UserWarning: Label not 10 is present in all training examples.\n",
      "  warnings.warn(\"Label %s is present in all training examples.\" %\n"
     ]
    },
    {
     "name": "stdout",
     "output_type": "stream",
     "text": [
      "[CV]  estimator__max_depth=24, estimator__max_features=sqrt, estimator__max_leaf_nodes=20, estimator__min_samples_leaf=5, estimator__splitter=best, score=-0.018, total=   0.1s\n",
      "[CV] estimator__max_depth=24, estimator__max_features=sqrt, estimator__max_leaf_nodes=20, estimator__min_samples_leaf=5, estimator__splitter=random \n",
      "[CV]  estimator__max_depth=24, estimator__max_features=sqrt, estimator__max_leaf_nodes=20, estimator__min_samples_leaf=5, estimator__splitter=random, score=-0.018, total=   0.1s\n",
      "[CV] estimator__max_depth=24, estimator__max_features=sqrt, estimator__max_leaf_nodes=20, estimator__min_samples_leaf=5, estimator__splitter=random \n",
      "[CV]  estimator__max_depth=24, estimator__max_features=sqrt, estimator__max_leaf_nodes=20, estimator__min_samples_leaf=5, estimator__splitter=random, score=-0.018, total=   0.1s\n",
      "[CV] estimator__max_depth=24, estimator__max_features=sqrt, estimator__max_leaf_nodes=20, estimator__min_samples_leaf=5, estimator__splitter=random \n"
     ]
    },
    {
     "name": "stderr",
     "output_type": "stream",
     "text": [
      "/home/abhinav/anaconda3/lib/python3.8/site-packages/sklearn/multiclass.py:76: UserWarning: Label not 10 is present in all training examples.\n",
      "  warnings.warn(\"Label %s is present in all training examples.\" %\n"
     ]
    },
    {
     "name": "stdout",
     "output_type": "stream",
     "text": [
      "[CV]  estimator__max_depth=24, estimator__max_features=sqrt, estimator__max_leaf_nodes=20, estimator__min_samples_leaf=5, estimator__splitter=random, score=-0.018, total=   0.1s\n",
      "[CV] estimator__max_depth=24, estimator__max_features=sqrt, estimator__max_leaf_nodes=30, estimator__min_samples_leaf=1, estimator__splitter=best \n",
      "[CV]  estimator__max_depth=24, estimator__max_features=sqrt, estimator__max_leaf_nodes=30, estimator__min_samples_leaf=1, estimator__splitter=best, score=-0.016, total=   0.1s\n",
      "[CV] estimator__max_depth=24, estimator__max_features=sqrt, estimator__max_leaf_nodes=30, estimator__min_samples_leaf=1, estimator__splitter=best \n",
      "[CV]  estimator__max_depth=24, estimator__max_features=sqrt, estimator__max_leaf_nodes=30, estimator__min_samples_leaf=1, estimator__splitter=best, score=-0.015, total=   0.1s\n",
      "[CV] estimator__max_depth=24, estimator__max_features=sqrt, estimator__max_leaf_nodes=30, estimator__min_samples_leaf=1, estimator__splitter=best \n"
     ]
    },
    {
     "name": "stderr",
     "output_type": "stream",
     "text": [
      "/home/abhinav/anaconda3/lib/python3.8/site-packages/sklearn/multiclass.py:76: UserWarning: Label not 10 is present in all training examples.\n",
      "  warnings.warn(\"Label %s is present in all training examples.\" %\n"
     ]
    },
    {
     "name": "stdout",
     "output_type": "stream",
     "text": [
      "[CV]  estimator__max_depth=24, estimator__max_features=sqrt, estimator__max_leaf_nodes=30, estimator__min_samples_leaf=1, estimator__splitter=best, score=-0.016, total=   0.1s\n",
      "[CV] estimator__max_depth=24, estimator__max_features=sqrt, estimator__max_leaf_nodes=30, estimator__min_samples_leaf=1, estimator__splitter=random \n",
      "[CV]  estimator__max_depth=24, estimator__max_features=sqrt, estimator__max_leaf_nodes=30, estimator__min_samples_leaf=1, estimator__splitter=random, score=-0.018, total=   0.1s\n",
      "[CV] estimator__max_depth=24, estimator__max_features=sqrt, estimator__max_leaf_nodes=30, estimator__min_samples_leaf=1, estimator__splitter=random \n",
      "[CV]  estimator__max_depth=24, estimator__max_features=sqrt, estimator__max_leaf_nodes=30, estimator__min_samples_leaf=1, estimator__splitter=random, score=-0.015, total=   0.1s\n",
      "[CV] estimator__max_depth=24, estimator__max_features=sqrt, estimator__max_leaf_nodes=30, estimator__min_samples_leaf=1, estimator__splitter=random \n"
     ]
    },
    {
     "name": "stderr",
     "output_type": "stream",
     "text": [
      "/home/abhinav/anaconda3/lib/python3.8/site-packages/sklearn/multiclass.py:76: UserWarning: Label not 10 is present in all training examples.\n",
      "  warnings.warn(\"Label %s is present in all training examples.\" %\n"
     ]
    },
    {
     "name": "stdout",
     "output_type": "stream",
     "text": [
      "[CV]  estimator__max_depth=24, estimator__max_features=sqrt, estimator__max_leaf_nodes=30, estimator__min_samples_leaf=1, estimator__splitter=random, score=-0.015, total=   0.1s\n",
      "[CV] estimator__max_depth=24, estimator__max_features=sqrt, estimator__max_leaf_nodes=30, estimator__min_samples_leaf=3, estimator__splitter=best \n",
      "[CV]  estimator__max_depth=24, estimator__max_features=sqrt, estimator__max_leaf_nodes=30, estimator__min_samples_leaf=3, estimator__splitter=best, score=-0.017, total=   0.1s\n",
      "[CV] estimator__max_depth=24, estimator__max_features=sqrt, estimator__max_leaf_nodes=30, estimator__min_samples_leaf=3, estimator__splitter=best \n",
      "[CV]  estimator__max_depth=24, estimator__max_features=sqrt, estimator__max_leaf_nodes=30, estimator__min_samples_leaf=3, estimator__splitter=best, score=-0.016, total=   0.1s\n",
      "[CV] estimator__max_depth=24, estimator__max_features=sqrt, estimator__max_leaf_nodes=30, estimator__min_samples_leaf=3, estimator__splitter=best \n"
     ]
    },
    {
     "name": "stderr",
     "output_type": "stream",
     "text": [
      "/home/abhinav/anaconda3/lib/python3.8/site-packages/sklearn/multiclass.py:76: UserWarning: Label not 10 is present in all training examples.\n",
      "  warnings.warn(\"Label %s is present in all training examples.\" %\n"
     ]
    },
    {
     "name": "stdout",
     "output_type": "stream",
     "text": [
      "[CV]  estimator__max_depth=24, estimator__max_features=sqrt, estimator__max_leaf_nodes=30, estimator__min_samples_leaf=3, estimator__splitter=best, score=-0.018, total=   0.1s\n",
      "[CV] estimator__max_depth=24, estimator__max_features=sqrt, estimator__max_leaf_nodes=30, estimator__min_samples_leaf=3, estimator__splitter=random \n",
      "[CV]  estimator__max_depth=24, estimator__max_features=sqrt, estimator__max_leaf_nodes=30, estimator__min_samples_leaf=3, estimator__splitter=random, score=-0.017, total=   0.1s\n",
      "[CV] estimator__max_depth=24, estimator__max_features=sqrt, estimator__max_leaf_nodes=30, estimator__min_samples_leaf=3, estimator__splitter=random \n",
      "[CV]  estimator__max_depth=24, estimator__max_features=sqrt, estimator__max_leaf_nodes=30, estimator__min_samples_leaf=3, estimator__splitter=random, score=-0.017, total=   0.1s\n",
      "[CV] estimator__max_depth=24, estimator__max_features=sqrt, estimator__max_leaf_nodes=30, estimator__min_samples_leaf=3, estimator__splitter=random \n"
     ]
    },
    {
     "name": "stderr",
     "output_type": "stream",
     "text": [
      "/home/abhinav/anaconda3/lib/python3.8/site-packages/sklearn/multiclass.py:76: UserWarning: Label not 10 is present in all training examples.\n",
      "  warnings.warn(\"Label %s is present in all training examples.\" %\n"
     ]
    },
    {
     "name": "stdout",
     "output_type": "stream",
     "text": [
      "[CV]  estimator__max_depth=24, estimator__max_features=sqrt, estimator__max_leaf_nodes=30, estimator__min_samples_leaf=3, estimator__splitter=random, score=-0.018, total=   0.1s\n",
      "[CV] estimator__max_depth=24, estimator__max_features=sqrt, estimator__max_leaf_nodes=30, estimator__min_samples_leaf=5, estimator__splitter=best \n",
      "[CV]  estimator__max_depth=24, estimator__max_features=sqrt, estimator__max_leaf_nodes=30, estimator__min_samples_leaf=5, estimator__splitter=best, score=-0.018, total=   0.1s\n",
      "[CV] estimator__max_depth=24, estimator__max_features=sqrt, estimator__max_leaf_nodes=30, estimator__min_samples_leaf=5, estimator__splitter=best \n",
      "[CV]  estimator__max_depth=24, estimator__max_features=sqrt, estimator__max_leaf_nodes=30, estimator__min_samples_leaf=5, estimator__splitter=best, score=-0.018, total=   0.1s\n",
      "[CV] estimator__max_depth=24, estimator__max_features=sqrt, estimator__max_leaf_nodes=30, estimator__min_samples_leaf=5, estimator__splitter=best \n"
     ]
    },
    {
     "name": "stderr",
     "output_type": "stream",
     "text": [
      "/home/abhinav/anaconda3/lib/python3.8/site-packages/sklearn/multiclass.py:76: UserWarning: Label not 10 is present in all training examples.\n",
      "  warnings.warn(\"Label %s is present in all training examples.\" %\n"
     ]
    },
    {
     "name": "stdout",
     "output_type": "stream",
     "text": [
      "[CV]  estimator__max_depth=24, estimator__max_features=sqrt, estimator__max_leaf_nodes=30, estimator__min_samples_leaf=5, estimator__splitter=best, score=-0.018, total=   0.1s\n",
      "[CV] estimator__max_depth=24, estimator__max_features=sqrt, estimator__max_leaf_nodes=30, estimator__min_samples_leaf=5, estimator__splitter=random \n",
      "[CV]  estimator__max_depth=24, estimator__max_features=sqrt, estimator__max_leaf_nodes=30, estimator__min_samples_leaf=5, estimator__splitter=random, score=-0.018, total=   0.1s\n",
      "[CV] estimator__max_depth=24, estimator__max_features=sqrt, estimator__max_leaf_nodes=30, estimator__min_samples_leaf=5, estimator__splitter=random \n",
      "[CV]  estimator__max_depth=24, estimator__max_features=sqrt, estimator__max_leaf_nodes=30, estimator__min_samples_leaf=5, estimator__splitter=random, score=-0.018, total=   0.1s\n",
      "[CV] estimator__max_depth=24, estimator__max_features=sqrt, estimator__max_leaf_nodes=30, estimator__min_samples_leaf=5, estimator__splitter=random \n"
     ]
    },
    {
     "name": "stderr",
     "output_type": "stream",
     "text": [
      "/home/abhinav/anaconda3/lib/python3.8/site-packages/sklearn/multiclass.py:76: UserWarning: Label not 10 is present in all training examples.\n",
      "  warnings.warn(\"Label %s is present in all training examples.\" %\n"
     ]
    },
    {
     "name": "stdout",
     "output_type": "stream",
     "text": [
      "[CV]  estimator__max_depth=24, estimator__max_features=sqrt, estimator__max_leaf_nodes=30, estimator__min_samples_leaf=5, estimator__splitter=random, score=-0.018, total=   0.1s\n",
      "[CV] estimator__max_depth=24, estimator__max_features=sqrt, estimator__max_leaf_nodes=40, estimator__min_samples_leaf=1, estimator__splitter=best \n",
      "[CV]  estimator__max_depth=24, estimator__max_features=sqrt, estimator__max_leaf_nodes=40, estimator__min_samples_leaf=1, estimator__splitter=best, score=-0.016, total=   0.1s\n",
      "[CV] estimator__max_depth=24, estimator__max_features=sqrt, estimator__max_leaf_nodes=40, estimator__min_samples_leaf=1, estimator__splitter=best \n",
      "[CV]  estimator__max_depth=24, estimator__max_features=sqrt, estimator__max_leaf_nodes=40, estimator__min_samples_leaf=1, estimator__splitter=best, score=-0.015, total=   0.1s\n",
      "[CV] estimator__max_depth=24, estimator__max_features=sqrt, estimator__max_leaf_nodes=40, estimator__min_samples_leaf=1, estimator__splitter=best \n"
     ]
    },
    {
     "name": "stderr",
     "output_type": "stream",
     "text": [
      "/home/abhinav/anaconda3/lib/python3.8/site-packages/sklearn/multiclass.py:76: UserWarning: Label not 10 is present in all training examples.\n",
      "  warnings.warn(\"Label %s is present in all training examples.\" %\n"
     ]
    },
    {
     "name": "stdout",
     "output_type": "stream",
     "text": [
      "[CV]  estimator__max_depth=24, estimator__max_features=sqrt, estimator__max_leaf_nodes=40, estimator__min_samples_leaf=1, estimator__splitter=best, score=-0.015, total=   0.1s\n",
      "[CV] estimator__max_depth=24, estimator__max_features=sqrt, estimator__max_leaf_nodes=40, estimator__min_samples_leaf=1, estimator__splitter=random \n",
      "[CV]  estimator__max_depth=24, estimator__max_features=sqrt, estimator__max_leaf_nodes=40, estimator__min_samples_leaf=1, estimator__splitter=random, score=-0.016, total=   0.1s\n",
      "[CV] estimator__max_depth=24, estimator__max_features=sqrt, estimator__max_leaf_nodes=40, estimator__min_samples_leaf=1, estimator__splitter=random \n",
      "[CV]  estimator__max_depth=24, estimator__max_features=sqrt, estimator__max_leaf_nodes=40, estimator__min_samples_leaf=1, estimator__splitter=random, score=-0.017, total=   0.1s\n",
      "[CV] estimator__max_depth=24, estimator__max_features=sqrt, estimator__max_leaf_nodes=40, estimator__min_samples_leaf=1, estimator__splitter=random \n"
     ]
    },
    {
     "name": "stderr",
     "output_type": "stream",
     "text": [
      "/home/abhinav/anaconda3/lib/python3.8/site-packages/sklearn/multiclass.py:76: UserWarning: Label not 10 is present in all training examples.\n",
      "  warnings.warn(\"Label %s is present in all training examples.\" %\n"
     ]
    },
    {
     "name": "stdout",
     "output_type": "stream",
     "text": [
      "[CV]  estimator__max_depth=24, estimator__max_features=sqrt, estimator__max_leaf_nodes=40, estimator__min_samples_leaf=1, estimator__splitter=random, score=-0.016, total=   0.1s\n",
      "[CV] estimator__max_depth=24, estimator__max_features=sqrt, estimator__max_leaf_nodes=40, estimator__min_samples_leaf=3, estimator__splitter=best \n",
      "[CV]  estimator__max_depth=24, estimator__max_features=sqrt, estimator__max_leaf_nodes=40, estimator__min_samples_leaf=3, estimator__splitter=best, score=-0.016, total=   0.1s\n",
      "[CV] estimator__max_depth=24, estimator__max_features=sqrt, estimator__max_leaf_nodes=40, estimator__min_samples_leaf=3, estimator__splitter=best \n",
      "[CV]  estimator__max_depth=24, estimator__max_features=sqrt, estimator__max_leaf_nodes=40, estimator__min_samples_leaf=3, estimator__splitter=best, score=-0.017, total=   0.1s\n",
      "[CV] estimator__max_depth=24, estimator__max_features=sqrt, estimator__max_leaf_nodes=40, estimator__min_samples_leaf=3, estimator__splitter=best \n"
     ]
    },
    {
     "name": "stderr",
     "output_type": "stream",
     "text": [
      "/home/abhinav/anaconda3/lib/python3.8/site-packages/sklearn/multiclass.py:76: UserWarning: Label not 10 is present in all training examples.\n",
      "  warnings.warn(\"Label %s is present in all training examples.\" %\n"
     ]
    },
    {
     "name": "stdout",
     "output_type": "stream",
     "text": [
      "[CV]  estimator__max_depth=24, estimator__max_features=sqrt, estimator__max_leaf_nodes=40, estimator__min_samples_leaf=3, estimator__splitter=best, score=-0.018, total=   0.1s\n",
      "[CV] estimator__max_depth=24, estimator__max_features=sqrt, estimator__max_leaf_nodes=40, estimator__min_samples_leaf=3, estimator__splitter=random \n",
      "[CV]  estimator__max_depth=24, estimator__max_features=sqrt, estimator__max_leaf_nodes=40, estimator__min_samples_leaf=3, estimator__splitter=random, score=-0.017, total=   0.1s\n",
      "[CV] estimator__max_depth=24, estimator__max_features=sqrt, estimator__max_leaf_nodes=40, estimator__min_samples_leaf=3, estimator__splitter=random \n",
      "[CV]  estimator__max_depth=24, estimator__max_features=sqrt, estimator__max_leaf_nodes=40, estimator__min_samples_leaf=3, estimator__splitter=random, score=-0.017, total=   0.1s\n",
      "[CV] estimator__max_depth=24, estimator__max_features=sqrt, estimator__max_leaf_nodes=40, estimator__min_samples_leaf=3, estimator__splitter=random \n"
     ]
    },
    {
     "name": "stderr",
     "output_type": "stream",
     "text": [
      "/home/abhinav/anaconda3/lib/python3.8/site-packages/sklearn/multiclass.py:76: UserWarning: Label not 10 is present in all training examples.\n",
      "  warnings.warn(\"Label %s is present in all training examples.\" %\n"
     ]
    },
    {
     "name": "stdout",
     "output_type": "stream",
     "text": [
      "[CV]  estimator__max_depth=24, estimator__max_features=sqrt, estimator__max_leaf_nodes=40, estimator__min_samples_leaf=3, estimator__splitter=random, score=-0.018, total=   0.1s\n",
      "[CV] estimator__max_depth=24, estimator__max_features=sqrt, estimator__max_leaf_nodes=40, estimator__min_samples_leaf=5, estimator__splitter=best \n",
      "[CV]  estimator__max_depth=24, estimator__max_features=sqrt, estimator__max_leaf_nodes=40, estimator__min_samples_leaf=5, estimator__splitter=best, score=-0.017, total=   0.1s\n",
      "[CV] estimator__max_depth=24, estimator__max_features=sqrt, estimator__max_leaf_nodes=40, estimator__min_samples_leaf=5, estimator__splitter=best \n",
      "[CV]  estimator__max_depth=24, estimator__max_features=sqrt, estimator__max_leaf_nodes=40, estimator__min_samples_leaf=5, estimator__splitter=best, score=-0.016, total=   0.1s\n",
      "[CV] estimator__max_depth=24, estimator__max_features=sqrt, estimator__max_leaf_nodes=40, estimator__min_samples_leaf=5, estimator__splitter=best \n"
     ]
    },
    {
     "name": "stderr",
     "output_type": "stream",
     "text": [
      "/home/abhinav/anaconda3/lib/python3.8/site-packages/sklearn/multiclass.py:76: UserWarning: Label not 10 is present in all training examples.\n",
      "  warnings.warn(\"Label %s is present in all training examples.\" %\n"
     ]
    },
    {
     "name": "stdout",
     "output_type": "stream",
     "text": [
      "[CV]  estimator__max_depth=24, estimator__max_features=sqrt, estimator__max_leaf_nodes=40, estimator__min_samples_leaf=5, estimator__splitter=best, score=-0.018, total=   0.1s\n",
      "[CV] estimator__max_depth=24, estimator__max_features=sqrt, estimator__max_leaf_nodes=40, estimator__min_samples_leaf=5, estimator__splitter=random \n",
      "[CV]  estimator__max_depth=24, estimator__max_features=sqrt, estimator__max_leaf_nodes=40, estimator__min_samples_leaf=5, estimator__splitter=random, score=-0.018, total=   0.1s\n",
      "[CV] estimator__max_depth=24, estimator__max_features=sqrt, estimator__max_leaf_nodes=40, estimator__min_samples_leaf=5, estimator__splitter=random \n",
      "[CV]  estimator__max_depth=24, estimator__max_features=sqrt, estimator__max_leaf_nodes=40, estimator__min_samples_leaf=5, estimator__splitter=random, score=-0.018, total=   0.1s\n",
      "[CV] estimator__max_depth=24, estimator__max_features=sqrt, estimator__max_leaf_nodes=40, estimator__min_samples_leaf=5, estimator__splitter=random \n"
     ]
    },
    {
     "name": "stderr",
     "output_type": "stream",
     "text": [
      "/home/abhinav/anaconda3/lib/python3.8/site-packages/sklearn/multiclass.py:76: UserWarning: Label not 10 is present in all training examples.\n",
      "  warnings.warn(\"Label %s is present in all training examples.\" %\n"
     ]
    },
    {
     "name": "stdout",
     "output_type": "stream",
     "text": [
      "[CV]  estimator__max_depth=24, estimator__max_features=sqrt, estimator__max_leaf_nodes=40, estimator__min_samples_leaf=5, estimator__splitter=random, score=-0.018, total=   0.1s\n",
      "[CV] estimator__max_depth=24, estimator__max_features=sqrt, estimator__max_leaf_nodes=50, estimator__min_samples_leaf=1, estimator__splitter=best \n",
      "[CV]  estimator__max_depth=24, estimator__max_features=sqrt, estimator__max_leaf_nodes=50, estimator__min_samples_leaf=1, estimator__splitter=best, score=-0.014, total=   0.1s\n",
      "[CV] estimator__max_depth=24, estimator__max_features=sqrt, estimator__max_leaf_nodes=50, estimator__min_samples_leaf=1, estimator__splitter=best \n",
      "[CV]  estimator__max_depth=24, estimator__max_features=sqrt, estimator__max_leaf_nodes=50, estimator__min_samples_leaf=1, estimator__splitter=best, score=-0.018, total=   0.1s\n",
      "[CV] estimator__max_depth=24, estimator__max_features=sqrt, estimator__max_leaf_nodes=50, estimator__min_samples_leaf=1, estimator__splitter=best \n"
     ]
    },
    {
     "name": "stderr",
     "output_type": "stream",
     "text": [
      "/home/abhinav/anaconda3/lib/python3.8/site-packages/sklearn/multiclass.py:76: UserWarning: Label not 10 is present in all training examples.\n",
      "  warnings.warn(\"Label %s is present in all training examples.\" %\n"
     ]
    },
    {
     "name": "stdout",
     "output_type": "stream",
     "text": [
      "[CV]  estimator__max_depth=24, estimator__max_features=sqrt, estimator__max_leaf_nodes=50, estimator__min_samples_leaf=1, estimator__splitter=best, score=-0.017, total=   0.1s\n",
      "[CV] estimator__max_depth=24, estimator__max_features=sqrt, estimator__max_leaf_nodes=50, estimator__min_samples_leaf=1, estimator__splitter=random \n",
      "[CV]  estimator__max_depth=24, estimator__max_features=sqrt, estimator__max_leaf_nodes=50, estimator__min_samples_leaf=1, estimator__splitter=random, score=-0.017, total=   0.1s\n",
      "[CV] estimator__max_depth=24, estimator__max_features=sqrt, estimator__max_leaf_nodes=50, estimator__min_samples_leaf=1, estimator__splitter=random \n",
      "[CV]  estimator__max_depth=24, estimator__max_features=sqrt, estimator__max_leaf_nodes=50, estimator__min_samples_leaf=1, estimator__splitter=random, score=-0.016, total=   0.1s\n",
      "[CV] estimator__max_depth=24, estimator__max_features=sqrt, estimator__max_leaf_nodes=50, estimator__min_samples_leaf=1, estimator__splitter=random \n"
     ]
    },
    {
     "name": "stderr",
     "output_type": "stream",
     "text": [
      "/home/abhinav/anaconda3/lib/python3.8/site-packages/sklearn/multiclass.py:76: UserWarning: Label not 10 is present in all training examples.\n",
      "  warnings.warn(\"Label %s is present in all training examples.\" %\n"
     ]
    },
    {
     "name": "stdout",
     "output_type": "stream",
     "text": [
      "[CV]  estimator__max_depth=24, estimator__max_features=sqrt, estimator__max_leaf_nodes=50, estimator__min_samples_leaf=1, estimator__splitter=random, score=-0.016, total=   0.1s\n",
      "[CV] estimator__max_depth=24, estimator__max_features=sqrt, estimator__max_leaf_nodes=50, estimator__min_samples_leaf=3, estimator__splitter=best \n",
      "[CV]  estimator__max_depth=24, estimator__max_features=sqrt, estimator__max_leaf_nodes=50, estimator__min_samples_leaf=3, estimator__splitter=best, score=-0.016, total=   0.1s\n",
      "[CV] estimator__max_depth=24, estimator__max_features=sqrt, estimator__max_leaf_nodes=50, estimator__min_samples_leaf=3, estimator__splitter=best \n",
      "[CV]  estimator__max_depth=24, estimator__max_features=sqrt, estimator__max_leaf_nodes=50, estimator__min_samples_leaf=3, estimator__splitter=best, score=-0.017, total=   0.1s\n",
      "[CV] estimator__max_depth=24, estimator__max_features=sqrt, estimator__max_leaf_nodes=50, estimator__min_samples_leaf=3, estimator__splitter=best \n"
     ]
    },
    {
     "name": "stderr",
     "output_type": "stream",
     "text": [
      "/home/abhinav/anaconda3/lib/python3.8/site-packages/sklearn/multiclass.py:76: UserWarning: Label not 10 is present in all training examples.\n",
      "  warnings.warn(\"Label %s is present in all training examples.\" %\n"
     ]
    },
    {
     "name": "stdout",
     "output_type": "stream",
     "text": [
      "[CV]  estimator__max_depth=24, estimator__max_features=sqrt, estimator__max_leaf_nodes=50, estimator__min_samples_leaf=3, estimator__splitter=best, score=-0.018, total=   0.1s\n",
      "[CV] estimator__max_depth=24, estimator__max_features=sqrt, estimator__max_leaf_nodes=50, estimator__min_samples_leaf=3, estimator__splitter=random \n",
      "[CV]  estimator__max_depth=24, estimator__max_features=sqrt, estimator__max_leaf_nodes=50, estimator__min_samples_leaf=3, estimator__splitter=random, score=-0.017, total=   0.1s\n",
      "[CV] estimator__max_depth=24, estimator__max_features=sqrt, estimator__max_leaf_nodes=50, estimator__min_samples_leaf=3, estimator__splitter=random \n",
      "[CV]  estimator__max_depth=24, estimator__max_features=sqrt, estimator__max_leaf_nodes=50, estimator__min_samples_leaf=3, estimator__splitter=random, score=-0.017, total=   0.1s\n",
      "[CV] estimator__max_depth=24, estimator__max_features=sqrt, estimator__max_leaf_nodes=50, estimator__min_samples_leaf=3, estimator__splitter=random \n"
     ]
    },
    {
     "name": "stderr",
     "output_type": "stream",
     "text": [
      "/home/abhinav/anaconda3/lib/python3.8/site-packages/sklearn/multiclass.py:76: UserWarning: Label not 10 is present in all training examples.\n",
      "  warnings.warn(\"Label %s is present in all training examples.\" %\n"
     ]
    },
    {
     "name": "stdout",
     "output_type": "stream",
     "text": [
      "[CV]  estimator__max_depth=24, estimator__max_features=sqrt, estimator__max_leaf_nodes=50, estimator__min_samples_leaf=3, estimator__splitter=random, score=-0.019, total=   0.1s\n",
      "[CV] estimator__max_depth=24, estimator__max_features=sqrt, estimator__max_leaf_nodes=50, estimator__min_samples_leaf=5, estimator__splitter=best \n",
      "[CV]  estimator__max_depth=24, estimator__max_features=sqrt, estimator__max_leaf_nodes=50, estimator__min_samples_leaf=5, estimator__splitter=best, score=-0.017, total=   0.1s\n",
      "[CV] estimator__max_depth=24, estimator__max_features=sqrt, estimator__max_leaf_nodes=50, estimator__min_samples_leaf=5, estimator__splitter=best \n",
      "[CV]  estimator__max_depth=24, estimator__max_features=sqrt, estimator__max_leaf_nodes=50, estimator__min_samples_leaf=5, estimator__splitter=best, score=-0.017, total=   0.1s\n",
      "[CV] estimator__max_depth=24, estimator__max_features=sqrt, estimator__max_leaf_nodes=50, estimator__min_samples_leaf=5, estimator__splitter=best \n"
     ]
    },
    {
     "name": "stderr",
     "output_type": "stream",
     "text": [
      "/home/abhinav/anaconda3/lib/python3.8/site-packages/sklearn/multiclass.py:76: UserWarning: Label not 10 is present in all training examples.\n",
      "  warnings.warn(\"Label %s is present in all training examples.\" %\n"
     ]
    },
    {
     "name": "stdout",
     "output_type": "stream",
     "text": [
      "[CV]  estimator__max_depth=24, estimator__max_features=sqrt, estimator__max_leaf_nodes=50, estimator__min_samples_leaf=5, estimator__splitter=best, score=-0.018, total=   0.1s\n",
      "[CV] estimator__max_depth=24, estimator__max_features=sqrt, estimator__max_leaf_nodes=50, estimator__min_samples_leaf=5, estimator__splitter=random \n",
      "[CV]  estimator__max_depth=24, estimator__max_features=sqrt, estimator__max_leaf_nodes=50, estimator__min_samples_leaf=5, estimator__splitter=random, score=-0.018, total=   0.1s\n",
      "[CV] estimator__max_depth=24, estimator__max_features=sqrt, estimator__max_leaf_nodes=50, estimator__min_samples_leaf=5, estimator__splitter=random \n",
      "[CV]  estimator__max_depth=24, estimator__max_features=sqrt, estimator__max_leaf_nodes=50, estimator__min_samples_leaf=5, estimator__splitter=random, score=-0.018, total=   0.1s\n",
      "[CV] estimator__max_depth=24, estimator__max_features=sqrt, estimator__max_leaf_nodes=50, estimator__min_samples_leaf=5, estimator__splitter=random \n"
     ]
    },
    {
     "name": "stderr",
     "output_type": "stream",
     "text": [
      "/home/abhinav/anaconda3/lib/python3.8/site-packages/sklearn/multiclass.py:76: UserWarning: Label not 10 is present in all training examples.\n",
      "  warnings.warn(\"Label %s is present in all training examples.\" %\n"
     ]
    },
    {
     "name": "stdout",
     "output_type": "stream",
     "text": [
      "[CV]  estimator__max_depth=24, estimator__max_features=sqrt, estimator__max_leaf_nodes=50, estimator__min_samples_leaf=5, estimator__splitter=random, score=-0.018, total=   0.1s\n",
      "[CV] estimator__max_depth=24, estimator__max_features=sqrt, estimator__max_leaf_nodes=70, estimator__min_samples_leaf=1, estimator__splitter=best \n",
      "[CV]  estimator__max_depth=24, estimator__max_features=sqrt, estimator__max_leaf_nodes=70, estimator__min_samples_leaf=1, estimator__splitter=best, score=-0.014, total=   0.1s\n",
      "[CV] estimator__max_depth=24, estimator__max_features=sqrt, estimator__max_leaf_nodes=70, estimator__min_samples_leaf=1, estimator__splitter=best \n",
      "[CV]  estimator__max_depth=24, estimator__max_features=sqrt, estimator__max_leaf_nodes=70, estimator__min_samples_leaf=1, estimator__splitter=best, score=-0.016, total=   0.1s\n",
      "[CV] estimator__max_depth=24, estimator__max_features=sqrt, estimator__max_leaf_nodes=70, estimator__min_samples_leaf=1, estimator__splitter=best \n"
     ]
    },
    {
     "name": "stderr",
     "output_type": "stream",
     "text": [
      "/home/abhinav/anaconda3/lib/python3.8/site-packages/sklearn/multiclass.py:76: UserWarning: Label not 10 is present in all training examples.\n",
      "  warnings.warn(\"Label %s is present in all training examples.\" %\n"
     ]
    },
    {
     "name": "stdout",
     "output_type": "stream",
     "text": [
      "[CV]  estimator__max_depth=24, estimator__max_features=sqrt, estimator__max_leaf_nodes=70, estimator__min_samples_leaf=1, estimator__splitter=best, score=-0.017, total=   0.1s\n",
      "[CV] estimator__max_depth=24, estimator__max_features=sqrt, estimator__max_leaf_nodes=70, estimator__min_samples_leaf=1, estimator__splitter=random \n",
      "[CV]  estimator__max_depth=24, estimator__max_features=sqrt, estimator__max_leaf_nodes=70, estimator__min_samples_leaf=1, estimator__splitter=random, score=-0.016, total=   0.1s\n",
      "[CV] estimator__max_depth=24, estimator__max_features=sqrt, estimator__max_leaf_nodes=70, estimator__min_samples_leaf=1, estimator__splitter=random \n",
      "[CV]  estimator__max_depth=24, estimator__max_features=sqrt, estimator__max_leaf_nodes=70, estimator__min_samples_leaf=1, estimator__splitter=random, score=-0.017, total=   0.1s\n",
      "[CV] estimator__max_depth=24, estimator__max_features=sqrt, estimator__max_leaf_nodes=70, estimator__min_samples_leaf=1, estimator__splitter=random \n"
     ]
    },
    {
     "name": "stderr",
     "output_type": "stream",
     "text": [
      "/home/abhinav/anaconda3/lib/python3.8/site-packages/sklearn/multiclass.py:76: UserWarning: Label not 10 is present in all training examples.\n",
      "  warnings.warn(\"Label %s is present in all training examples.\" %\n"
     ]
    },
    {
     "name": "stdout",
     "output_type": "stream",
     "text": [
      "[CV]  estimator__max_depth=24, estimator__max_features=sqrt, estimator__max_leaf_nodes=70, estimator__min_samples_leaf=1, estimator__splitter=random, score=-0.016, total=   0.1s\n",
      "[CV] estimator__max_depth=24, estimator__max_features=sqrt, estimator__max_leaf_nodes=70, estimator__min_samples_leaf=3, estimator__splitter=best \n",
      "[CV]  estimator__max_depth=24, estimator__max_features=sqrt, estimator__max_leaf_nodes=70, estimator__min_samples_leaf=3, estimator__splitter=best, score=-0.017, total=   0.1s\n",
      "[CV] estimator__max_depth=24, estimator__max_features=sqrt, estimator__max_leaf_nodes=70, estimator__min_samples_leaf=3, estimator__splitter=best \n",
      "[CV]  estimator__max_depth=24, estimator__max_features=sqrt, estimator__max_leaf_nodes=70, estimator__min_samples_leaf=3, estimator__splitter=best, score=-0.017, total=   0.1s\n",
      "[CV] estimator__max_depth=24, estimator__max_features=sqrt, estimator__max_leaf_nodes=70, estimator__min_samples_leaf=3, estimator__splitter=best \n"
     ]
    },
    {
     "name": "stderr",
     "output_type": "stream",
     "text": [
      "/home/abhinav/anaconda3/lib/python3.8/site-packages/sklearn/multiclass.py:76: UserWarning: Label not 10 is present in all training examples.\n",
      "  warnings.warn(\"Label %s is present in all training examples.\" %\n"
     ]
    },
    {
     "name": "stdout",
     "output_type": "stream",
     "text": [
      "[CV]  estimator__max_depth=24, estimator__max_features=sqrt, estimator__max_leaf_nodes=70, estimator__min_samples_leaf=3, estimator__splitter=best, score=-0.017, total=   0.1s\n",
      "[CV] estimator__max_depth=24, estimator__max_features=sqrt, estimator__max_leaf_nodes=70, estimator__min_samples_leaf=3, estimator__splitter=random \n",
      "[CV]  estimator__max_depth=24, estimator__max_features=sqrt, estimator__max_leaf_nodes=70, estimator__min_samples_leaf=3, estimator__splitter=random, score=-0.018, total=   0.1s\n",
      "[CV] estimator__max_depth=24, estimator__max_features=sqrt, estimator__max_leaf_nodes=70, estimator__min_samples_leaf=3, estimator__splitter=random \n",
      "[CV]  estimator__max_depth=24, estimator__max_features=sqrt, estimator__max_leaf_nodes=70, estimator__min_samples_leaf=3, estimator__splitter=random, score=-0.018, total=   0.1s\n",
      "[CV] estimator__max_depth=24, estimator__max_features=sqrt, estimator__max_leaf_nodes=70, estimator__min_samples_leaf=3, estimator__splitter=random \n"
     ]
    },
    {
     "name": "stderr",
     "output_type": "stream",
     "text": [
      "/home/abhinav/anaconda3/lib/python3.8/site-packages/sklearn/multiclass.py:76: UserWarning: Label not 10 is present in all training examples.\n",
      "  warnings.warn(\"Label %s is present in all training examples.\" %\n"
     ]
    },
    {
     "name": "stdout",
     "output_type": "stream",
     "text": [
      "[CV]  estimator__max_depth=24, estimator__max_features=sqrt, estimator__max_leaf_nodes=70, estimator__min_samples_leaf=3, estimator__splitter=random, score=-0.018, total=   0.1s\n",
      "[CV] estimator__max_depth=24, estimator__max_features=sqrt, estimator__max_leaf_nodes=70, estimator__min_samples_leaf=5, estimator__splitter=best \n",
      "[CV]  estimator__max_depth=24, estimator__max_features=sqrt, estimator__max_leaf_nodes=70, estimator__min_samples_leaf=5, estimator__splitter=best, score=-0.018, total=   0.1s\n",
      "[CV] estimator__max_depth=24, estimator__max_features=sqrt, estimator__max_leaf_nodes=70, estimator__min_samples_leaf=5, estimator__splitter=best \n",
      "[CV]  estimator__max_depth=24, estimator__max_features=sqrt, estimator__max_leaf_nodes=70, estimator__min_samples_leaf=5, estimator__splitter=best, score=-0.018, total=   0.1s\n",
      "[CV] estimator__max_depth=24, estimator__max_features=sqrt, estimator__max_leaf_nodes=70, estimator__min_samples_leaf=5, estimator__splitter=best \n"
     ]
    },
    {
     "name": "stderr",
     "output_type": "stream",
     "text": [
      "/home/abhinav/anaconda3/lib/python3.8/site-packages/sklearn/multiclass.py:76: UserWarning: Label not 10 is present in all training examples.\n",
      "  warnings.warn(\"Label %s is present in all training examples.\" %\n"
     ]
    },
    {
     "name": "stdout",
     "output_type": "stream",
     "text": [
      "[CV]  estimator__max_depth=24, estimator__max_features=sqrt, estimator__max_leaf_nodes=70, estimator__min_samples_leaf=5, estimator__splitter=best, score=-0.018, total=   0.1s\n",
      "[CV] estimator__max_depth=24, estimator__max_features=sqrt, estimator__max_leaf_nodes=70, estimator__min_samples_leaf=5, estimator__splitter=random \n",
      "[CV]  estimator__max_depth=24, estimator__max_features=sqrt, estimator__max_leaf_nodes=70, estimator__min_samples_leaf=5, estimator__splitter=random, score=-0.018, total=   0.1s\n",
      "[CV] estimator__max_depth=24, estimator__max_features=sqrt, estimator__max_leaf_nodes=70, estimator__min_samples_leaf=5, estimator__splitter=random \n",
      "[CV]  estimator__max_depth=24, estimator__max_features=sqrt, estimator__max_leaf_nodes=70, estimator__min_samples_leaf=5, estimator__splitter=random, score=-0.018, total=   0.1s\n",
      "[CV] estimator__max_depth=24, estimator__max_features=sqrt, estimator__max_leaf_nodes=70, estimator__min_samples_leaf=5, estimator__splitter=random \n"
     ]
    },
    {
     "name": "stderr",
     "output_type": "stream",
     "text": [
      "/home/abhinav/anaconda3/lib/python3.8/site-packages/sklearn/multiclass.py:76: UserWarning: Label not 10 is present in all training examples.\n",
      "  warnings.warn(\"Label %s is present in all training examples.\" %\n"
     ]
    },
    {
     "name": "stdout",
     "output_type": "stream",
     "text": [
      "[CV]  estimator__max_depth=24, estimator__max_features=sqrt, estimator__max_leaf_nodes=70, estimator__min_samples_leaf=5, estimator__splitter=random, score=-0.018, total=   0.1s\n",
      "[CV] estimator__max_depth=24, estimator__max_features=None, estimator__max_leaf_nodes=None, estimator__min_samples_leaf=1, estimator__splitter=best \n",
      "[CV]  estimator__max_depth=24, estimator__max_features=None, estimator__max_leaf_nodes=None, estimator__min_samples_leaf=1, estimator__splitter=best, score=-0.010, total=   0.1s\n",
      "[CV] estimator__max_depth=24, estimator__max_features=None, estimator__max_leaf_nodes=None, estimator__min_samples_leaf=1, estimator__splitter=best \n"
     ]
    },
    {
     "name": "stderr",
     "output_type": "stream",
     "text": [
      "/home/abhinav/anaconda3/lib/python3.8/site-packages/sklearn/multiclass.py:76: UserWarning: Label not 10 is present in all training examples.\n",
      "  warnings.warn(\"Label %s is present in all training examples.\" %\n"
     ]
    },
    {
     "name": "stdout",
     "output_type": "stream",
     "text": [
      "[CV]  estimator__max_depth=24, estimator__max_features=None, estimator__max_leaf_nodes=None, estimator__min_samples_leaf=1, estimator__splitter=best, score=-0.010, total=   0.1s\n",
      "[CV] estimator__max_depth=24, estimator__max_features=None, estimator__max_leaf_nodes=None, estimator__min_samples_leaf=1, estimator__splitter=best \n",
      "[CV]  estimator__max_depth=24, estimator__max_features=None, estimator__max_leaf_nodes=None, estimator__min_samples_leaf=1, estimator__splitter=best, score=-0.009, total=   0.1s\n",
      "[CV] estimator__max_depth=24, estimator__max_features=None, estimator__max_leaf_nodes=None, estimator__min_samples_leaf=1, estimator__splitter=random \n"
     ]
    },
    {
     "name": "stderr",
     "output_type": "stream",
     "text": [
      "/home/abhinav/anaconda3/lib/python3.8/site-packages/sklearn/multiclass.py:76: UserWarning: Label not 10 is present in all training examples.\n",
      "  warnings.warn(\"Label %s is present in all training examples.\" %\n"
     ]
    },
    {
     "name": "stdout",
     "output_type": "stream",
     "text": [
      "[CV]  estimator__max_depth=24, estimator__max_features=None, estimator__max_leaf_nodes=None, estimator__min_samples_leaf=1, estimator__splitter=random, score=-0.011, total=   0.1s\n",
      "[CV] estimator__max_depth=24, estimator__max_features=None, estimator__max_leaf_nodes=None, estimator__min_samples_leaf=1, estimator__splitter=random \n",
      "[CV]  estimator__max_depth=24, estimator__max_features=None, estimator__max_leaf_nodes=None, estimator__min_samples_leaf=1, estimator__splitter=random, score=-0.011, total=   0.1s\n",
      "[CV] estimator__max_depth=24, estimator__max_features=None, estimator__max_leaf_nodes=None, estimator__min_samples_leaf=1, estimator__splitter=random \n",
      "[CV]  estimator__max_depth=24, estimator__max_features=None, estimator__max_leaf_nodes=None, estimator__min_samples_leaf=1, estimator__splitter=random, score=-0.010, total=   0.1s\n",
      "[CV] estimator__max_depth=24, estimator__max_features=None, estimator__max_leaf_nodes=None, estimator__min_samples_leaf=3, estimator__splitter=best \n",
      "[CV]  estimator__max_depth=24, estimator__max_features=None, estimator__max_leaf_nodes=None, estimator__min_samples_leaf=3, estimator__splitter=best, score=-0.012, total=   0.1s\n",
      "[CV] estimator__max_depth=24, estimator__max_features=None, estimator__max_leaf_nodes=None, estimator__min_samples_leaf=3, estimator__splitter=best \n"
     ]
    },
    {
     "name": "stderr",
     "output_type": "stream",
     "text": [
      "/home/abhinav/anaconda3/lib/python3.8/site-packages/sklearn/multiclass.py:76: UserWarning: Label not 10 is present in all training examples.\n",
      "  warnings.warn(\"Label %s is present in all training examples.\" %\n"
     ]
    },
    {
     "name": "stdout",
     "output_type": "stream",
     "text": [
      "[CV]  estimator__max_depth=24, estimator__max_features=None, estimator__max_leaf_nodes=None, estimator__min_samples_leaf=3, estimator__splitter=best, score=-0.012, total=   0.1s\n",
      "[CV] estimator__max_depth=24, estimator__max_features=None, estimator__max_leaf_nodes=None, estimator__min_samples_leaf=3, estimator__splitter=best \n",
      "[CV]  estimator__max_depth=24, estimator__max_features=None, estimator__max_leaf_nodes=None, estimator__min_samples_leaf=3, estimator__splitter=best, score=-0.011, total=   0.1s\n",
      "[CV] estimator__max_depth=24, estimator__max_features=None, estimator__max_leaf_nodes=None, estimator__min_samples_leaf=3, estimator__splitter=random \n"
     ]
    },
    {
     "name": "stderr",
     "output_type": "stream",
     "text": [
      "/home/abhinav/anaconda3/lib/python3.8/site-packages/sklearn/multiclass.py:76: UserWarning: Label not 10 is present in all training examples.\n",
      "  warnings.warn(\"Label %s is present in all training examples.\" %\n"
     ]
    },
    {
     "name": "stdout",
     "output_type": "stream",
     "text": [
      "[CV]  estimator__max_depth=24, estimator__max_features=None, estimator__max_leaf_nodes=None, estimator__min_samples_leaf=3, estimator__splitter=random, score=-0.014, total=   0.1s\n",
      "[CV] estimator__max_depth=24, estimator__max_features=None, estimator__max_leaf_nodes=None, estimator__min_samples_leaf=3, estimator__splitter=random \n",
      "[CV]  estimator__max_depth=24, estimator__max_features=None, estimator__max_leaf_nodes=None, estimator__min_samples_leaf=3, estimator__splitter=random, score=-0.014, total=   0.1s\n",
      "[CV] estimator__max_depth=24, estimator__max_features=None, estimator__max_leaf_nodes=None, estimator__min_samples_leaf=3, estimator__splitter=random \n",
      "[CV]  estimator__max_depth=24, estimator__max_features=None, estimator__max_leaf_nodes=None, estimator__min_samples_leaf=3, estimator__splitter=random, score=-0.013, total=   0.1s\n",
      "[CV] estimator__max_depth=24, estimator__max_features=None, estimator__max_leaf_nodes=None, estimator__min_samples_leaf=5, estimator__splitter=best \n",
      "[CV]  estimator__max_depth=24, estimator__max_features=None, estimator__max_leaf_nodes=None, estimator__min_samples_leaf=5, estimator__splitter=best, score=-0.015, total=   0.1s\n",
      "[CV] estimator__max_depth=24, estimator__max_features=None, estimator__max_leaf_nodes=None, estimator__min_samples_leaf=5, estimator__splitter=best \n"
     ]
    },
    {
     "name": "stderr",
     "output_type": "stream",
     "text": [
      "/home/abhinav/anaconda3/lib/python3.8/site-packages/sklearn/multiclass.py:76: UserWarning: Label not 10 is present in all training examples.\n",
      "  warnings.warn(\"Label %s is present in all training examples.\" %\n"
     ]
    },
    {
     "name": "stdout",
     "output_type": "stream",
     "text": [
      "[CV]  estimator__max_depth=24, estimator__max_features=None, estimator__max_leaf_nodes=None, estimator__min_samples_leaf=5, estimator__splitter=best, score=-0.014, total=   0.1s\n",
      "[CV] estimator__max_depth=24, estimator__max_features=None, estimator__max_leaf_nodes=None, estimator__min_samples_leaf=5, estimator__splitter=best \n",
      "[CV]  estimator__max_depth=24, estimator__max_features=None, estimator__max_leaf_nodes=None, estimator__min_samples_leaf=5, estimator__splitter=best, score=-0.016, total=   0.1s\n",
      "[CV] estimator__max_depth=24, estimator__max_features=None, estimator__max_leaf_nodes=None, estimator__min_samples_leaf=5, estimator__splitter=random \n"
     ]
    },
    {
     "name": "stderr",
     "output_type": "stream",
     "text": [
      "/home/abhinav/anaconda3/lib/python3.8/site-packages/sklearn/multiclass.py:76: UserWarning: Label not 10 is present in all training examples.\n",
      "  warnings.warn(\"Label %s is present in all training examples.\" %\n"
     ]
    },
    {
     "name": "stdout",
     "output_type": "stream",
     "text": [
      "[CV]  estimator__max_depth=24, estimator__max_features=None, estimator__max_leaf_nodes=None, estimator__min_samples_leaf=5, estimator__splitter=random, score=-0.017, total=   0.1s\n",
      "[CV] estimator__max_depth=24, estimator__max_features=None, estimator__max_leaf_nodes=None, estimator__min_samples_leaf=5, estimator__splitter=random \n",
      "[CV]  estimator__max_depth=24, estimator__max_features=None, estimator__max_leaf_nodes=None, estimator__min_samples_leaf=5, estimator__splitter=random, score=-0.015, total=   0.1s\n",
      "[CV] estimator__max_depth=24, estimator__max_features=None, estimator__max_leaf_nodes=None, estimator__min_samples_leaf=5, estimator__splitter=random \n",
      "[CV]  estimator__max_depth=24, estimator__max_features=None, estimator__max_leaf_nodes=None, estimator__min_samples_leaf=5, estimator__splitter=random, score=-0.017, total=   0.1s\n",
      "[CV] estimator__max_depth=24, estimator__max_features=None, estimator__max_leaf_nodes=10, estimator__min_samples_leaf=1, estimator__splitter=best \n",
      "[CV]  estimator__max_depth=24, estimator__max_features=None, estimator__max_leaf_nodes=10, estimator__min_samples_leaf=1, estimator__splitter=best, score=-0.010, total=   0.1s\n",
      "[CV] estimator__max_depth=24, estimator__max_features=None, estimator__max_leaf_nodes=10, estimator__min_samples_leaf=1, estimator__splitter=best \n"
     ]
    },
    {
     "name": "stderr",
     "output_type": "stream",
     "text": [
      "/home/abhinav/anaconda3/lib/python3.8/site-packages/sklearn/multiclass.py:76: UserWarning: Label not 10 is present in all training examples.\n",
      "  warnings.warn(\"Label %s is present in all training examples.\" %\n"
     ]
    },
    {
     "name": "stdout",
     "output_type": "stream",
     "text": [
      "[CV]  estimator__max_depth=24, estimator__max_features=None, estimator__max_leaf_nodes=10, estimator__min_samples_leaf=1, estimator__splitter=best, score=-0.010, total=   0.2s\n",
      "[CV] estimator__max_depth=24, estimator__max_features=None, estimator__max_leaf_nodes=10, estimator__min_samples_leaf=1, estimator__splitter=best \n",
      "[CV]  estimator__max_depth=24, estimator__max_features=None, estimator__max_leaf_nodes=10, estimator__min_samples_leaf=1, estimator__splitter=best, score=-0.011, total=   0.1s\n",
      "[CV] estimator__max_depth=24, estimator__max_features=None, estimator__max_leaf_nodes=10, estimator__min_samples_leaf=1, estimator__splitter=random \n"
     ]
    },
    {
     "name": "stderr",
     "output_type": "stream",
     "text": [
      "/home/abhinav/anaconda3/lib/python3.8/site-packages/sklearn/multiclass.py:76: UserWarning: Label not 10 is present in all training examples.\n",
      "  warnings.warn(\"Label %s is present in all training examples.\" %\n"
     ]
    },
    {
     "name": "stdout",
     "output_type": "stream",
     "text": [
      "[CV]  estimator__max_depth=24, estimator__max_features=None, estimator__max_leaf_nodes=10, estimator__min_samples_leaf=1, estimator__splitter=random, score=-0.011, total=   0.2s\n",
      "[CV] estimator__max_depth=24, estimator__max_features=None, estimator__max_leaf_nodes=10, estimator__min_samples_leaf=1, estimator__splitter=random \n",
      "[CV]  estimator__max_depth=24, estimator__max_features=None, estimator__max_leaf_nodes=10, estimator__min_samples_leaf=1, estimator__splitter=random, score=-0.010, total=   0.2s\n",
      "[CV] estimator__max_depth=24, estimator__max_features=None, estimator__max_leaf_nodes=10, estimator__min_samples_leaf=1, estimator__splitter=random \n",
      "[CV]  estimator__max_depth=24, estimator__max_features=None, estimator__max_leaf_nodes=10, estimator__min_samples_leaf=1, estimator__splitter=random, score=-0.011, total=   0.2s\n",
      "[CV] estimator__max_depth=24, estimator__max_features=None, estimator__max_leaf_nodes=10, estimator__min_samples_leaf=3, estimator__splitter=best \n",
      "[CV]  estimator__max_depth=24, estimator__max_features=None, estimator__max_leaf_nodes=10, estimator__min_samples_leaf=3, estimator__splitter=best, score=-0.012, total=   0.2s\n",
      "[CV] estimator__max_depth=24, estimator__max_features=None, estimator__max_leaf_nodes=10, estimator__min_samples_leaf=3, estimator__splitter=best \n"
     ]
    },
    {
     "name": "stderr",
     "output_type": "stream",
     "text": [
      "/home/abhinav/anaconda3/lib/python3.8/site-packages/sklearn/multiclass.py:76: UserWarning: Label not 10 is present in all training examples.\n",
      "  warnings.warn(\"Label %s is present in all training examples.\" %\n"
     ]
    },
    {
     "name": "stdout",
     "output_type": "stream",
     "text": [
      "[CV]  estimator__max_depth=24, estimator__max_features=None, estimator__max_leaf_nodes=10, estimator__min_samples_leaf=3, estimator__splitter=best, score=-0.012, total=   0.2s\n",
      "[CV] estimator__max_depth=24, estimator__max_features=None, estimator__max_leaf_nodes=10, estimator__min_samples_leaf=3, estimator__splitter=best \n",
      "[CV]  estimator__max_depth=24, estimator__max_features=None, estimator__max_leaf_nodes=10, estimator__min_samples_leaf=3, estimator__splitter=best, score=-0.012, total=   0.2s\n",
      "[CV] estimator__max_depth=24, estimator__max_features=None, estimator__max_leaf_nodes=10, estimator__min_samples_leaf=3, estimator__splitter=random \n"
     ]
    },
    {
     "name": "stderr",
     "output_type": "stream",
     "text": [
      "/home/abhinav/anaconda3/lib/python3.8/site-packages/sklearn/multiclass.py:76: UserWarning: Label not 10 is present in all training examples.\n",
      "  warnings.warn(\"Label %s is present in all training examples.\" %\n"
     ]
    },
    {
     "name": "stdout",
     "output_type": "stream",
     "text": [
      "[CV]  estimator__max_depth=24, estimator__max_features=None, estimator__max_leaf_nodes=10, estimator__min_samples_leaf=3, estimator__splitter=random, score=-0.013, total=   0.2s\n",
      "[CV] estimator__max_depth=24, estimator__max_features=None, estimator__max_leaf_nodes=10, estimator__min_samples_leaf=3, estimator__splitter=random \n",
      "[CV]  estimator__max_depth=24, estimator__max_features=None, estimator__max_leaf_nodes=10, estimator__min_samples_leaf=3, estimator__splitter=random, score=-0.012, total=   0.2s\n",
      "[CV] estimator__max_depth=24, estimator__max_features=None, estimator__max_leaf_nodes=10, estimator__min_samples_leaf=3, estimator__splitter=random \n",
      "[CV]  estimator__max_depth=24, estimator__max_features=None, estimator__max_leaf_nodes=10, estimator__min_samples_leaf=3, estimator__splitter=random, score=-0.013, total=   0.2s\n",
      "[CV] estimator__max_depth=24, estimator__max_features=None, estimator__max_leaf_nodes=10, estimator__min_samples_leaf=5, estimator__splitter=best \n",
      "[CV]  estimator__max_depth=24, estimator__max_features=None, estimator__max_leaf_nodes=10, estimator__min_samples_leaf=5, estimator__splitter=best, score=-0.015, total=   0.2s\n",
      "[CV] estimator__max_depth=24, estimator__max_features=None, estimator__max_leaf_nodes=10, estimator__min_samples_leaf=5, estimator__splitter=best \n"
     ]
    },
    {
     "name": "stderr",
     "output_type": "stream",
     "text": [
      "/home/abhinav/anaconda3/lib/python3.8/site-packages/sklearn/multiclass.py:76: UserWarning: Label not 10 is present in all training examples.\n",
      "  warnings.warn(\"Label %s is present in all training examples.\" %\n"
     ]
    },
    {
     "name": "stdout",
     "output_type": "stream",
     "text": [
      "[CV]  estimator__max_depth=24, estimator__max_features=None, estimator__max_leaf_nodes=10, estimator__min_samples_leaf=5, estimator__splitter=best, score=-0.014, total=   0.2s\n",
      "[CV] estimator__max_depth=24, estimator__max_features=None, estimator__max_leaf_nodes=10, estimator__min_samples_leaf=5, estimator__splitter=best \n",
      "[CV]  estimator__max_depth=24, estimator__max_features=None, estimator__max_leaf_nodes=10, estimator__min_samples_leaf=5, estimator__splitter=best, score=-0.016, total=   0.2s\n",
      "[CV] estimator__max_depth=24, estimator__max_features=None, estimator__max_leaf_nodes=10, estimator__min_samples_leaf=5, estimator__splitter=random \n"
     ]
    },
    {
     "name": "stderr",
     "output_type": "stream",
     "text": [
      "/home/abhinav/anaconda3/lib/python3.8/site-packages/sklearn/multiclass.py:76: UserWarning: Label not 10 is present in all training examples.\n",
      "  warnings.warn(\"Label %s is present in all training examples.\" %\n"
     ]
    },
    {
     "name": "stdout",
     "output_type": "stream",
     "text": [
      "[CV]  estimator__max_depth=24, estimator__max_features=None, estimator__max_leaf_nodes=10, estimator__min_samples_leaf=5, estimator__splitter=random, score=-0.017, total=   0.2s\n",
      "[CV] estimator__max_depth=24, estimator__max_features=None, estimator__max_leaf_nodes=10, estimator__min_samples_leaf=5, estimator__splitter=random \n",
      "[CV]  estimator__max_depth=24, estimator__max_features=None, estimator__max_leaf_nodes=10, estimator__min_samples_leaf=5, estimator__splitter=random, score=-0.014, total=   0.2s\n",
      "[CV] estimator__max_depth=24, estimator__max_features=None, estimator__max_leaf_nodes=10, estimator__min_samples_leaf=5, estimator__splitter=random \n",
      "[CV]  estimator__max_depth=24, estimator__max_features=None, estimator__max_leaf_nodes=10, estimator__min_samples_leaf=5, estimator__splitter=random, score=-0.017, total=   0.2s\n",
      "[CV] estimator__max_depth=24, estimator__max_features=None, estimator__max_leaf_nodes=20, estimator__min_samples_leaf=1, estimator__splitter=best \n",
      "[CV]  estimator__max_depth=24, estimator__max_features=None, estimator__max_leaf_nodes=20, estimator__min_samples_leaf=1, estimator__splitter=best, score=-0.010, total=   0.2s\n",
      "[CV] estimator__max_depth=24, estimator__max_features=None, estimator__max_leaf_nodes=20, estimator__min_samples_leaf=1, estimator__splitter=best \n"
     ]
    },
    {
     "name": "stderr",
     "output_type": "stream",
     "text": [
      "/home/abhinav/anaconda3/lib/python3.8/site-packages/sklearn/multiclass.py:76: UserWarning: Label not 10 is present in all training examples.\n",
      "  warnings.warn(\"Label %s is present in all training examples.\" %\n"
     ]
    },
    {
     "name": "stdout",
     "output_type": "stream",
     "text": [
      "[CV]  estimator__max_depth=24, estimator__max_features=None, estimator__max_leaf_nodes=20, estimator__min_samples_leaf=1, estimator__splitter=best, score=-0.010, total=   0.2s\n",
      "[CV] estimator__max_depth=24, estimator__max_features=None, estimator__max_leaf_nodes=20, estimator__min_samples_leaf=1, estimator__splitter=best \n",
      "[CV]  estimator__max_depth=24, estimator__max_features=None, estimator__max_leaf_nodes=20, estimator__min_samples_leaf=1, estimator__splitter=best, score=-0.010, total=   0.2s\n",
      "[CV] estimator__max_depth=24, estimator__max_features=None, estimator__max_leaf_nodes=20, estimator__min_samples_leaf=1, estimator__splitter=random \n"
     ]
    },
    {
     "name": "stderr",
     "output_type": "stream",
     "text": [
      "/home/abhinav/anaconda3/lib/python3.8/site-packages/sklearn/multiclass.py:76: UserWarning: Label not 10 is present in all training examples.\n",
      "  warnings.warn(\"Label %s is present in all training examples.\" %\n"
     ]
    },
    {
     "name": "stdout",
     "output_type": "stream",
     "text": [
      "[CV]  estimator__max_depth=24, estimator__max_features=None, estimator__max_leaf_nodes=20, estimator__min_samples_leaf=1, estimator__splitter=random, score=-0.010, total=   0.2s\n",
      "[CV] estimator__max_depth=24, estimator__max_features=None, estimator__max_leaf_nodes=20, estimator__min_samples_leaf=1, estimator__splitter=random \n",
      "[CV]  estimator__max_depth=24, estimator__max_features=None, estimator__max_leaf_nodes=20, estimator__min_samples_leaf=1, estimator__splitter=random, score=-0.010, total=   0.2s\n",
      "[CV] estimator__max_depth=24, estimator__max_features=None, estimator__max_leaf_nodes=20, estimator__min_samples_leaf=1, estimator__splitter=random \n",
      "[CV]  estimator__max_depth=24, estimator__max_features=None, estimator__max_leaf_nodes=20, estimator__min_samples_leaf=1, estimator__splitter=random, score=-0.010, total=   0.2s\n",
      "[CV] estimator__max_depth=24, estimator__max_features=None, estimator__max_leaf_nodes=20, estimator__min_samples_leaf=3, estimator__splitter=best \n"
     ]
    },
    {
     "name": "stderr",
     "output_type": "stream",
     "text": [
      "/home/abhinav/anaconda3/lib/python3.8/site-packages/sklearn/multiclass.py:76: UserWarning: Label not 10 is present in all training examples.\n",
      "  warnings.warn(\"Label %s is present in all training examples.\" %\n"
     ]
    },
    {
     "name": "stdout",
     "output_type": "stream",
     "text": [
      "[CV]  estimator__max_depth=24, estimator__max_features=None, estimator__max_leaf_nodes=20, estimator__min_samples_leaf=3, estimator__splitter=best, score=-0.012, total=   0.2s\n",
      "[CV] estimator__max_depth=24, estimator__max_features=None, estimator__max_leaf_nodes=20, estimator__min_samples_leaf=3, estimator__splitter=best \n",
      "[CV]  estimator__max_depth=24, estimator__max_features=None, estimator__max_leaf_nodes=20, estimator__min_samples_leaf=3, estimator__splitter=best, score=-0.012, total=   0.2s\n",
      "[CV] estimator__max_depth=24, estimator__max_features=None, estimator__max_leaf_nodes=20, estimator__min_samples_leaf=3, estimator__splitter=best \n",
      "[CV]  estimator__max_depth=24, estimator__max_features=None, estimator__max_leaf_nodes=20, estimator__min_samples_leaf=3, estimator__splitter=best, score=-0.012, total=   0.2s\n",
      "[CV] estimator__max_depth=24, estimator__max_features=None, estimator__max_leaf_nodes=20, estimator__min_samples_leaf=3, estimator__splitter=random \n"
     ]
    },
    {
     "name": "stderr",
     "output_type": "stream",
     "text": [
      "/home/abhinav/anaconda3/lib/python3.8/site-packages/sklearn/multiclass.py:76: UserWarning: Label not 10 is present in all training examples.\n",
      "  warnings.warn(\"Label %s is present in all training examples.\" %\n"
     ]
    },
    {
     "name": "stdout",
     "output_type": "stream",
     "text": [
      "[CV]  estimator__max_depth=24, estimator__max_features=None, estimator__max_leaf_nodes=20, estimator__min_samples_leaf=3, estimator__splitter=random, score=-0.013, total=   0.3s\n",
      "[CV] estimator__max_depth=24, estimator__max_features=None, estimator__max_leaf_nodes=20, estimator__min_samples_leaf=3, estimator__splitter=random \n",
      "[CV]  estimator__max_depth=24, estimator__max_features=None, estimator__max_leaf_nodes=20, estimator__min_samples_leaf=3, estimator__splitter=random, score=-0.013, total=   0.3s\n",
      "[CV] estimator__max_depth=24, estimator__max_features=None, estimator__max_leaf_nodes=20, estimator__min_samples_leaf=3, estimator__splitter=random \n",
      "[CV]  estimator__max_depth=24, estimator__max_features=None, estimator__max_leaf_nodes=20, estimator__min_samples_leaf=3, estimator__splitter=random, score=-0.012, total=   0.2s\n",
      "[CV] estimator__max_depth=24, estimator__max_features=None, estimator__max_leaf_nodes=20, estimator__min_samples_leaf=5, estimator__splitter=best \n"
     ]
    },
    {
     "name": "stderr",
     "output_type": "stream",
     "text": [
      "/home/abhinav/anaconda3/lib/python3.8/site-packages/sklearn/multiclass.py:76: UserWarning: Label not 10 is present in all training examples.\n",
      "  warnings.warn(\"Label %s is present in all training examples.\" %\n"
     ]
    },
    {
     "name": "stdout",
     "output_type": "stream",
     "text": [
      "[CV]  estimator__max_depth=24, estimator__max_features=None, estimator__max_leaf_nodes=20, estimator__min_samples_leaf=5, estimator__splitter=best, score=-0.015, total=   0.3s\n",
      "[CV] estimator__max_depth=24, estimator__max_features=None, estimator__max_leaf_nodes=20, estimator__min_samples_leaf=5, estimator__splitter=best \n",
      "[CV]  estimator__max_depth=24, estimator__max_features=None, estimator__max_leaf_nodes=20, estimator__min_samples_leaf=5, estimator__splitter=best, score=-0.014, total=   0.3s\n",
      "[CV] estimator__max_depth=24, estimator__max_features=None, estimator__max_leaf_nodes=20, estimator__min_samples_leaf=5, estimator__splitter=best \n",
      "[CV]  estimator__max_depth=24, estimator__max_features=None, estimator__max_leaf_nodes=20, estimator__min_samples_leaf=5, estimator__splitter=best, score=-0.016, total=   0.3s\n",
      "[CV] estimator__max_depth=24, estimator__max_features=None, estimator__max_leaf_nodes=20, estimator__min_samples_leaf=5, estimator__splitter=random \n"
     ]
    },
    {
     "name": "stderr",
     "output_type": "stream",
     "text": [
      "/home/abhinav/anaconda3/lib/python3.8/site-packages/sklearn/multiclass.py:76: UserWarning: Label not 10 is present in all training examples.\n",
      "  warnings.warn(\"Label %s is present in all training examples.\" %\n"
     ]
    },
    {
     "name": "stdout",
     "output_type": "stream",
     "text": [
      "[CV]  estimator__max_depth=24, estimator__max_features=None, estimator__max_leaf_nodes=20, estimator__min_samples_leaf=5, estimator__splitter=random, score=-0.015, total=   0.3s\n",
      "[CV] estimator__max_depth=24, estimator__max_features=None, estimator__max_leaf_nodes=20, estimator__min_samples_leaf=5, estimator__splitter=random \n",
      "[CV]  estimator__max_depth=24, estimator__max_features=None, estimator__max_leaf_nodes=20, estimator__min_samples_leaf=5, estimator__splitter=random, score=-0.015, total=   0.3s\n",
      "[CV] estimator__max_depth=24, estimator__max_features=None, estimator__max_leaf_nodes=20, estimator__min_samples_leaf=5, estimator__splitter=random \n",
      "[CV]  estimator__max_depth=24, estimator__max_features=None, estimator__max_leaf_nodes=20, estimator__min_samples_leaf=5, estimator__splitter=random, score=-0.016, total=   0.3s\n",
      "[CV] estimator__max_depth=24, estimator__max_features=None, estimator__max_leaf_nodes=30, estimator__min_samples_leaf=1, estimator__splitter=best \n",
      "[CV]  estimator__max_depth=24, estimator__max_features=None, estimator__max_leaf_nodes=30, estimator__min_samples_leaf=1, estimator__splitter=best, score=-0.010, total=   0.2s\n",
      "[CV] estimator__max_depth=24, estimator__max_features=None, estimator__max_leaf_nodes=30, estimator__min_samples_leaf=1, estimator__splitter=best \n"
     ]
    },
    {
     "name": "stderr",
     "output_type": "stream",
     "text": [
      "/home/abhinav/anaconda3/lib/python3.8/site-packages/sklearn/multiclass.py:76: UserWarning: Label not 10 is present in all training examples.\n",
      "  warnings.warn(\"Label %s is present in all training examples.\" %\n"
     ]
    },
    {
     "name": "stdout",
     "output_type": "stream",
     "text": [
      "[CV]  estimator__max_depth=24, estimator__max_features=None, estimator__max_leaf_nodes=30, estimator__min_samples_leaf=1, estimator__splitter=best, score=-0.010, total=   0.2s\n",
      "[CV] estimator__max_depth=24, estimator__max_features=None, estimator__max_leaf_nodes=30, estimator__min_samples_leaf=1, estimator__splitter=best \n",
      "[CV]  estimator__max_depth=24, estimator__max_features=None, estimator__max_leaf_nodes=30, estimator__min_samples_leaf=1, estimator__splitter=best, score=-0.009, total=   0.2s\n",
      "[CV] estimator__max_depth=24, estimator__max_features=None, estimator__max_leaf_nodes=30, estimator__min_samples_leaf=1, estimator__splitter=random \n"
     ]
    },
    {
     "name": "stderr",
     "output_type": "stream",
     "text": [
      "/home/abhinav/anaconda3/lib/python3.8/site-packages/sklearn/multiclass.py:76: UserWarning: Label not 10 is present in all training examples.\n",
      "  warnings.warn(\"Label %s is present in all training examples.\" %\n"
     ]
    },
    {
     "name": "stdout",
     "output_type": "stream",
     "text": [
      "[CV]  estimator__max_depth=24, estimator__max_features=None, estimator__max_leaf_nodes=30, estimator__min_samples_leaf=1, estimator__splitter=random, score=-0.011, total=   0.2s\n",
      "[CV] estimator__max_depth=24, estimator__max_features=None, estimator__max_leaf_nodes=30, estimator__min_samples_leaf=1, estimator__splitter=random \n",
      "[CV]  estimator__max_depth=24, estimator__max_features=None, estimator__max_leaf_nodes=30, estimator__min_samples_leaf=1, estimator__splitter=random, score=-0.010, total=   0.2s\n",
      "[CV] estimator__max_depth=24, estimator__max_features=None, estimator__max_leaf_nodes=30, estimator__min_samples_leaf=1, estimator__splitter=random \n",
      "[CV]  estimator__max_depth=24, estimator__max_features=None, estimator__max_leaf_nodes=30, estimator__min_samples_leaf=1, estimator__splitter=random, score=-0.010, total=   0.2s\n",
      "[CV] estimator__max_depth=24, estimator__max_features=None, estimator__max_leaf_nodes=30, estimator__min_samples_leaf=3, estimator__splitter=best \n"
     ]
    },
    {
     "name": "stderr",
     "output_type": "stream",
     "text": [
      "/home/abhinav/anaconda3/lib/python3.8/site-packages/sklearn/multiclass.py:76: UserWarning: Label not 10 is present in all training examples.\n",
      "  warnings.warn(\"Label %s is present in all training examples.\" %\n"
     ]
    },
    {
     "name": "stdout",
     "output_type": "stream",
     "text": [
      "[CV]  estimator__max_depth=24, estimator__max_features=None, estimator__max_leaf_nodes=30, estimator__min_samples_leaf=3, estimator__splitter=best, score=-0.013, total=   0.3s\n",
      "[CV] estimator__max_depth=24, estimator__max_features=None, estimator__max_leaf_nodes=30, estimator__min_samples_leaf=3, estimator__splitter=best \n",
      "[CV]  estimator__max_depth=24, estimator__max_features=None, estimator__max_leaf_nodes=30, estimator__min_samples_leaf=3, estimator__splitter=best, score=-0.012, total=   0.3s\n",
      "[CV] estimator__max_depth=24, estimator__max_features=None, estimator__max_leaf_nodes=30, estimator__min_samples_leaf=3, estimator__splitter=best \n",
      "[CV]  estimator__max_depth=24, estimator__max_features=None, estimator__max_leaf_nodes=30, estimator__min_samples_leaf=3, estimator__splitter=best, score=-0.011, total=   0.2s\n",
      "[CV] estimator__max_depth=24, estimator__max_features=None, estimator__max_leaf_nodes=30, estimator__min_samples_leaf=3, estimator__splitter=random \n"
     ]
    },
    {
     "name": "stderr",
     "output_type": "stream",
     "text": [
      "/home/abhinav/anaconda3/lib/python3.8/site-packages/sklearn/multiclass.py:76: UserWarning: Label not 10 is present in all training examples.\n",
      "  warnings.warn(\"Label %s is present in all training examples.\" %\n"
     ]
    },
    {
     "name": "stdout",
     "output_type": "stream",
     "text": [
      "[CV]  estimator__max_depth=24, estimator__max_features=None, estimator__max_leaf_nodes=30, estimator__min_samples_leaf=3, estimator__splitter=random, score=-0.014, total=   0.3s\n",
      "[CV] estimator__max_depth=24, estimator__max_features=None, estimator__max_leaf_nodes=30, estimator__min_samples_leaf=3, estimator__splitter=random \n",
      "[CV]  estimator__max_depth=24, estimator__max_features=None, estimator__max_leaf_nodes=30, estimator__min_samples_leaf=3, estimator__splitter=random, score=-0.012, total=   0.3s\n",
      "[CV] estimator__max_depth=24, estimator__max_features=None, estimator__max_leaf_nodes=30, estimator__min_samples_leaf=3, estimator__splitter=random \n",
      "[CV]  estimator__max_depth=24, estimator__max_features=None, estimator__max_leaf_nodes=30, estimator__min_samples_leaf=3, estimator__splitter=random, score=-0.013, total=   0.3s\n",
      "[CV] estimator__max_depth=24, estimator__max_features=None, estimator__max_leaf_nodes=30, estimator__min_samples_leaf=5, estimator__splitter=best \n"
     ]
    },
    {
     "name": "stderr",
     "output_type": "stream",
     "text": [
      "/home/abhinav/anaconda3/lib/python3.8/site-packages/sklearn/multiclass.py:76: UserWarning: Label not 10 is present in all training examples.\n",
      "  warnings.warn(\"Label %s is present in all training examples.\" %\n"
     ]
    },
    {
     "name": "stdout",
     "output_type": "stream",
     "text": [
      "[CV]  estimator__max_depth=24, estimator__max_features=None, estimator__max_leaf_nodes=30, estimator__min_samples_leaf=5, estimator__splitter=best, score=-0.015, total=   0.3s\n",
      "[CV] estimator__max_depth=24, estimator__max_features=None, estimator__max_leaf_nodes=30, estimator__min_samples_leaf=5, estimator__splitter=best \n",
      "[CV]  estimator__max_depth=24, estimator__max_features=None, estimator__max_leaf_nodes=30, estimator__min_samples_leaf=5, estimator__splitter=best, score=-0.014, total=   0.3s\n",
      "[CV] estimator__max_depth=24, estimator__max_features=None, estimator__max_leaf_nodes=30, estimator__min_samples_leaf=5, estimator__splitter=best \n",
      "[CV]  estimator__max_depth=24, estimator__max_features=None, estimator__max_leaf_nodes=30, estimator__min_samples_leaf=5, estimator__splitter=best, score=-0.016, total=   0.3s\n",
      "[CV] estimator__max_depth=24, estimator__max_features=None, estimator__max_leaf_nodes=30, estimator__min_samples_leaf=5, estimator__splitter=random \n"
     ]
    },
    {
     "name": "stderr",
     "output_type": "stream",
     "text": [
      "/home/abhinav/anaconda3/lib/python3.8/site-packages/sklearn/multiclass.py:76: UserWarning: Label not 10 is present in all training examples.\n",
      "  warnings.warn(\"Label %s is present in all training examples.\" %\n"
     ]
    },
    {
     "name": "stdout",
     "output_type": "stream",
     "text": [
      "[CV]  estimator__max_depth=24, estimator__max_features=None, estimator__max_leaf_nodes=30, estimator__min_samples_leaf=5, estimator__splitter=random, score=-0.016, total=   0.3s\n",
      "[CV] estimator__max_depth=24, estimator__max_features=None, estimator__max_leaf_nodes=30, estimator__min_samples_leaf=5, estimator__splitter=random \n",
      "[CV]  estimator__max_depth=24, estimator__max_features=None, estimator__max_leaf_nodes=30, estimator__min_samples_leaf=5, estimator__splitter=random, score=-0.015, total=   0.3s\n",
      "[CV] estimator__max_depth=24, estimator__max_features=None, estimator__max_leaf_nodes=30, estimator__min_samples_leaf=5, estimator__splitter=random \n",
      "[CV]  estimator__max_depth=24, estimator__max_features=None, estimator__max_leaf_nodes=30, estimator__min_samples_leaf=5, estimator__splitter=random, score=-0.016, total=   0.3s\n",
      "[CV] estimator__max_depth=24, estimator__max_features=None, estimator__max_leaf_nodes=40, estimator__min_samples_leaf=1, estimator__splitter=best \n",
      "[CV]  estimator__max_depth=24, estimator__max_features=None, estimator__max_leaf_nodes=40, estimator__min_samples_leaf=1, estimator__splitter=best, score=-0.010, total=   0.2s\n",
      "[CV] estimator__max_depth=24, estimator__max_features=None, estimator__max_leaf_nodes=40, estimator__min_samples_leaf=1, estimator__splitter=best \n"
     ]
    },
    {
     "name": "stderr",
     "output_type": "stream",
     "text": [
      "/home/abhinav/anaconda3/lib/python3.8/site-packages/sklearn/multiclass.py:76: UserWarning: Label not 10 is present in all training examples.\n",
      "  warnings.warn(\"Label %s is present in all training examples.\" %\n"
     ]
    },
    {
     "name": "stdout",
     "output_type": "stream",
     "text": [
      "[CV]  estimator__max_depth=24, estimator__max_features=None, estimator__max_leaf_nodes=40, estimator__min_samples_leaf=1, estimator__splitter=best, score=-0.011, total=   0.2s\n",
      "[CV] estimator__max_depth=24, estimator__max_features=None, estimator__max_leaf_nodes=40, estimator__min_samples_leaf=1, estimator__splitter=best \n",
      "[CV]  estimator__max_depth=24, estimator__max_features=None, estimator__max_leaf_nodes=40, estimator__min_samples_leaf=1, estimator__splitter=best, score=-0.010, total=   0.2s\n",
      "[CV] estimator__max_depth=24, estimator__max_features=None, estimator__max_leaf_nodes=40, estimator__min_samples_leaf=1, estimator__splitter=random \n"
     ]
    },
    {
     "name": "stderr",
     "output_type": "stream",
     "text": [
      "/home/abhinav/anaconda3/lib/python3.8/site-packages/sklearn/multiclass.py:76: UserWarning: Label not 10 is present in all training examples.\n",
      "  warnings.warn(\"Label %s is present in all training examples.\" %\n"
     ]
    },
    {
     "name": "stdout",
     "output_type": "stream",
     "text": [
      "[CV]  estimator__max_depth=24, estimator__max_features=None, estimator__max_leaf_nodes=40, estimator__min_samples_leaf=1, estimator__splitter=random, score=-0.011, total=   0.2s\n",
      "[CV] estimator__max_depth=24, estimator__max_features=None, estimator__max_leaf_nodes=40, estimator__min_samples_leaf=1, estimator__splitter=random \n",
      "[CV]  estimator__max_depth=24, estimator__max_features=None, estimator__max_leaf_nodes=40, estimator__min_samples_leaf=1, estimator__splitter=random, score=-0.011, total=   0.2s\n",
      "[CV] estimator__max_depth=24, estimator__max_features=None, estimator__max_leaf_nodes=40, estimator__min_samples_leaf=1, estimator__splitter=random \n",
      "[CV]  estimator__max_depth=24, estimator__max_features=None, estimator__max_leaf_nodes=40, estimator__min_samples_leaf=1, estimator__splitter=random, score=-0.010, total=   0.2s\n",
      "[CV] estimator__max_depth=24, estimator__max_features=None, estimator__max_leaf_nodes=40, estimator__min_samples_leaf=3, estimator__splitter=best \n"
     ]
    },
    {
     "name": "stderr",
     "output_type": "stream",
     "text": [
      "/home/abhinav/anaconda3/lib/python3.8/site-packages/sklearn/multiclass.py:76: UserWarning: Label not 10 is present in all training examples.\n",
      "  warnings.warn(\"Label %s is present in all training examples.\" %\n"
     ]
    },
    {
     "name": "stdout",
     "output_type": "stream",
     "text": [
      "[CV]  estimator__max_depth=24, estimator__max_features=None, estimator__max_leaf_nodes=40, estimator__min_samples_leaf=3, estimator__splitter=best, score=-0.012, total=   0.3s\n",
      "[CV] estimator__max_depth=24, estimator__max_features=None, estimator__max_leaf_nodes=40, estimator__min_samples_leaf=3, estimator__splitter=best \n",
      "[CV]  estimator__max_depth=24, estimator__max_features=None, estimator__max_leaf_nodes=40, estimator__min_samples_leaf=3, estimator__splitter=best, score=-0.012, total=   0.3s\n",
      "[CV] estimator__max_depth=24, estimator__max_features=None, estimator__max_leaf_nodes=40, estimator__min_samples_leaf=3, estimator__splitter=best \n",
      "[CV]  estimator__max_depth=24, estimator__max_features=None, estimator__max_leaf_nodes=40, estimator__min_samples_leaf=3, estimator__splitter=best, score=-0.012, total=   0.2s\n",
      "[CV] estimator__max_depth=24, estimator__max_features=None, estimator__max_leaf_nodes=40, estimator__min_samples_leaf=3, estimator__splitter=random \n"
     ]
    },
    {
     "name": "stderr",
     "output_type": "stream",
     "text": [
      "/home/abhinav/anaconda3/lib/python3.8/site-packages/sklearn/multiclass.py:76: UserWarning: Label not 10 is present in all training examples.\n",
      "  warnings.warn(\"Label %s is present in all training examples.\" %\n"
     ]
    },
    {
     "name": "stdout",
     "output_type": "stream",
     "text": [
      "[CV]  estimator__max_depth=24, estimator__max_features=None, estimator__max_leaf_nodes=40, estimator__min_samples_leaf=3, estimator__splitter=random, score=-0.015, total=   0.3s\n",
      "[CV] estimator__max_depth=24, estimator__max_features=None, estimator__max_leaf_nodes=40, estimator__min_samples_leaf=3, estimator__splitter=random \n",
      "[CV]  estimator__max_depth=24, estimator__max_features=None, estimator__max_leaf_nodes=40, estimator__min_samples_leaf=3, estimator__splitter=random, score=-0.013, total=   0.3s\n",
      "[CV] estimator__max_depth=24, estimator__max_features=None, estimator__max_leaf_nodes=40, estimator__min_samples_leaf=3, estimator__splitter=random \n",
      "[CV]  estimator__max_depth=24, estimator__max_features=None, estimator__max_leaf_nodes=40, estimator__min_samples_leaf=3, estimator__splitter=random, score=-0.013, total=   0.3s\n",
      "[CV] estimator__max_depth=24, estimator__max_features=None, estimator__max_leaf_nodes=40, estimator__min_samples_leaf=5, estimator__splitter=best \n"
     ]
    },
    {
     "name": "stderr",
     "output_type": "stream",
     "text": [
      "/home/abhinav/anaconda3/lib/python3.8/site-packages/sklearn/multiclass.py:76: UserWarning: Label not 10 is present in all training examples.\n",
      "  warnings.warn(\"Label %s is present in all training examples.\" %\n"
     ]
    },
    {
     "name": "stdout",
     "output_type": "stream",
     "text": [
      "[CV]  estimator__max_depth=24, estimator__max_features=None, estimator__max_leaf_nodes=40, estimator__min_samples_leaf=5, estimator__splitter=best, score=-0.015, total=   0.3s\n",
      "[CV] estimator__max_depth=24, estimator__max_features=None, estimator__max_leaf_nodes=40, estimator__min_samples_leaf=5, estimator__splitter=best \n",
      "[CV]  estimator__max_depth=24, estimator__max_features=None, estimator__max_leaf_nodes=40, estimator__min_samples_leaf=5, estimator__splitter=best, score=-0.014, total=   0.3s\n",
      "[CV] estimator__max_depth=24, estimator__max_features=None, estimator__max_leaf_nodes=40, estimator__min_samples_leaf=5, estimator__splitter=best \n",
      "[CV]  estimator__max_depth=24, estimator__max_features=None, estimator__max_leaf_nodes=40, estimator__min_samples_leaf=5, estimator__splitter=best, score=-0.016, total=   0.3s\n",
      "[CV] estimator__max_depth=24, estimator__max_features=None, estimator__max_leaf_nodes=40, estimator__min_samples_leaf=5, estimator__splitter=random \n"
     ]
    },
    {
     "name": "stderr",
     "output_type": "stream",
     "text": [
      "/home/abhinav/anaconda3/lib/python3.8/site-packages/sklearn/multiclass.py:76: UserWarning: Label not 10 is present in all training examples.\n",
      "  warnings.warn(\"Label %s is present in all training examples.\" %\n"
     ]
    },
    {
     "name": "stdout",
     "output_type": "stream",
     "text": [
      "[CV]  estimator__max_depth=24, estimator__max_features=None, estimator__max_leaf_nodes=40, estimator__min_samples_leaf=5, estimator__splitter=random, score=-0.016, total=   0.3s\n",
      "[CV] estimator__max_depth=24, estimator__max_features=None, estimator__max_leaf_nodes=40, estimator__min_samples_leaf=5, estimator__splitter=random \n",
      "[CV]  estimator__max_depth=24, estimator__max_features=None, estimator__max_leaf_nodes=40, estimator__min_samples_leaf=5, estimator__splitter=random, score=-0.015, total=   0.3s\n",
      "[CV] estimator__max_depth=24, estimator__max_features=None, estimator__max_leaf_nodes=40, estimator__min_samples_leaf=5, estimator__splitter=random \n",
      "[CV]  estimator__max_depth=24, estimator__max_features=None, estimator__max_leaf_nodes=40, estimator__min_samples_leaf=5, estimator__splitter=random, score=-0.016, total=   0.3s\n",
      "[CV] estimator__max_depth=24, estimator__max_features=None, estimator__max_leaf_nodes=50, estimator__min_samples_leaf=1, estimator__splitter=best \n",
      "[CV]  estimator__max_depth=24, estimator__max_features=None, estimator__max_leaf_nodes=50, estimator__min_samples_leaf=1, estimator__splitter=best, score=-0.010, total=   0.2s\n",
      "[CV] estimator__max_depth=24, estimator__max_features=None, estimator__max_leaf_nodes=50, estimator__min_samples_leaf=1, estimator__splitter=best \n"
     ]
    },
    {
     "name": "stderr",
     "output_type": "stream",
     "text": [
      "/home/abhinav/anaconda3/lib/python3.8/site-packages/sklearn/multiclass.py:76: UserWarning: Label not 10 is present in all training examples.\n",
      "  warnings.warn(\"Label %s is present in all training examples.\" %\n"
     ]
    },
    {
     "name": "stdout",
     "output_type": "stream",
     "text": [
      "[CV]  estimator__max_depth=24, estimator__max_features=None, estimator__max_leaf_nodes=50, estimator__min_samples_leaf=1, estimator__splitter=best, score=-0.010, total=   0.2s\n",
      "[CV] estimator__max_depth=24, estimator__max_features=None, estimator__max_leaf_nodes=50, estimator__min_samples_leaf=1, estimator__splitter=best \n",
      "[CV]  estimator__max_depth=24, estimator__max_features=None, estimator__max_leaf_nodes=50, estimator__min_samples_leaf=1, estimator__splitter=best, score=-0.009, total=   0.2s\n",
      "[CV] estimator__max_depth=24, estimator__max_features=None, estimator__max_leaf_nodes=50, estimator__min_samples_leaf=1, estimator__splitter=random \n"
     ]
    },
    {
     "name": "stderr",
     "output_type": "stream",
     "text": [
      "/home/abhinav/anaconda3/lib/python3.8/site-packages/sklearn/multiclass.py:76: UserWarning: Label not 10 is present in all training examples.\n",
      "  warnings.warn(\"Label %s is present in all training examples.\" %\n"
     ]
    },
    {
     "name": "stdout",
     "output_type": "stream",
     "text": [
      "[CV]  estimator__max_depth=24, estimator__max_features=None, estimator__max_leaf_nodes=50, estimator__min_samples_leaf=1, estimator__splitter=random, score=-0.010, total=   0.2s\n",
      "[CV] estimator__max_depth=24, estimator__max_features=None, estimator__max_leaf_nodes=50, estimator__min_samples_leaf=1, estimator__splitter=random \n",
      "[CV]  estimator__max_depth=24, estimator__max_features=None, estimator__max_leaf_nodes=50, estimator__min_samples_leaf=1, estimator__splitter=random, score=-0.010, total=   0.2s\n",
      "[CV] estimator__max_depth=24, estimator__max_features=None, estimator__max_leaf_nodes=50, estimator__min_samples_leaf=1, estimator__splitter=random \n",
      "[CV]  estimator__max_depth=24, estimator__max_features=None, estimator__max_leaf_nodes=50, estimator__min_samples_leaf=1, estimator__splitter=random, score=-0.010, total=   0.2s\n",
      "[CV] estimator__max_depth=24, estimator__max_features=None, estimator__max_leaf_nodes=50, estimator__min_samples_leaf=3, estimator__splitter=best \n"
     ]
    },
    {
     "name": "stderr",
     "output_type": "stream",
     "text": [
      "/home/abhinav/anaconda3/lib/python3.8/site-packages/sklearn/multiclass.py:76: UserWarning: Label not 10 is present in all training examples.\n",
      "  warnings.warn(\"Label %s is present in all training examples.\" %\n"
     ]
    },
    {
     "name": "stdout",
     "output_type": "stream",
     "text": [
      "[CV]  estimator__max_depth=24, estimator__max_features=None, estimator__max_leaf_nodes=50, estimator__min_samples_leaf=3, estimator__splitter=best, score=-0.012, total=   0.3s\n",
      "[CV] estimator__max_depth=24, estimator__max_features=None, estimator__max_leaf_nodes=50, estimator__min_samples_leaf=3, estimator__splitter=best \n",
      "[CV]  estimator__max_depth=24, estimator__max_features=None, estimator__max_leaf_nodes=50, estimator__min_samples_leaf=3, estimator__splitter=best, score=-0.012, total=   0.3s\n",
      "[CV] estimator__max_depth=24, estimator__max_features=None, estimator__max_leaf_nodes=50, estimator__min_samples_leaf=3, estimator__splitter=best \n",
      "[CV]  estimator__max_depth=24, estimator__max_features=None, estimator__max_leaf_nodes=50, estimator__min_samples_leaf=3, estimator__splitter=best, score=-0.012, total=   0.2s\n",
      "[CV] estimator__max_depth=24, estimator__max_features=None, estimator__max_leaf_nodes=50, estimator__min_samples_leaf=3, estimator__splitter=random \n"
     ]
    },
    {
     "name": "stderr",
     "output_type": "stream",
     "text": [
      "/home/abhinav/anaconda3/lib/python3.8/site-packages/sklearn/multiclass.py:76: UserWarning: Label not 10 is present in all training examples.\n",
      "  warnings.warn(\"Label %s is present in all training examples.\" %\n"
     ]
    },
    {
     "name": "stdout",
     "output_type": "stream",
     "text": [
      "[CV]  estimator__max_depth=24, estimator__max_features=None, estimator__max_leaf_nodes=50, estimator__min_samples_leaf=3, estimator__splitter=random, score=-0.014, total=   0.3s\n",
      "[CV] estimator__max_depth=24, estimator__max_features=None, estimator__max_leaf_nodes=50, estimator__min_samples_leaf=3, estimator__splitter=random \n",
      "[CV]  estimator__max_depth=24, estimator__max_features=None, estimator__max_leaf_nodes=50, estimator__min_samples_leaf=3, estimator__splitter=random, score=-0.013, total=   0.3s\n",
      "[CV] estimator__max_depth=24, estimator__max_features=None, estimator__max_leaf_nodes=50, estimator__min_samples_leaf=3, estimator__splitter=random \n",
      "[CV]  estimator__max_depth=24, estimator__max_features=None, estimator__max_leaf_nodes=50, estimator__min_samples_leaf=3, estimator__splitter=random, score=-0.012, total=   0.3s\n",
      "[CV] estimator__max_depth=24, estimator__max_features=None, estimator__max_leaf_nodes=50, estimator__min_samples_leaf=5, estimator__splitter=best \n"
     ]
    },
    {
     "name": "stderr",
     "output_type": "stream",
     "text": [
      "/home/abhinav/anaconda3/lib/python3.8/site-packages/sklearn/multiclass.py:76: UserWarning: Label not 10 is present in all training examples.\n",
      "  warnings.warn(\"Label %s is present in all training examples.\" %\n"
     ]
    },
    {
     "name": "stdout",
     "output_type": "stream",
     "text": [
      "[CV]  estimator__max_depth=24, estimator__max_features=None, estimator__max_leaf_nodes=50, estimator__min_samples_leaf=5, estimator__splitter=best, score=-0.015, total=   0.3s\n",
      "[CV] estimator__max_depth=24, estimator__max_features=None, estimator__max_leaf_nodes=50, estimator__min_samples_leaf=5, estimator__splitter=best \n",
      "[CV]  estimator__max_depth=24, estimator__max_features=None, estimator__max_leaf_nodes=50, estimator__min_samples_leaf=5, estimator__splitter=best, score=-0.014, total=   0.3s\n",
      "[CV] estimator__max_depth=24, estimator__max_features=None, estimator__max_leaf_nodes=50, estimator__min_samples_leaf=5, estimator__splitter=best \n",
      "[CV]  estimator__max_depth=24, estimator__max_features=None, estimator__max_leaf_nodes=50, estimator__min_samples_leaf=5, estimator__splitter=best, score=-0.016, total=   0.3s\n",
      "[CV] estimator__max_depth=24, estimator__max_features=None, estimator__max_leaf_nodes=50, estimator__min_samples_leaf=5, estimator__splitter=random \n"
     ]
    },
    {
     "name": "stderr",
     "output_type": "stream",
     "text": [
      "/home/abhinav/anaconda3/lib/python3.8/site-packages/sklearn/multiclass.py:76: UserWarning: Label not 10 is present in all training examples.\n",
      "  warnings.warn(\"Label %s is present in all training examples.\" %\n"
     ]
    },
    {
     "name": "stdout",
     "output_type": "stream",
     "text": [
      "[CV]  estimator__max_depth=24, estimator__max_features=None, estimator__max_leaf_nodes=50, estimator__min_samples_leaf=5, estimator__splitter=random, score=-0.016, total=   0.3s\n",
      "[CV] estimator__max_depth=24, estimator__max_features=None, estimator__max_leaf_nodes=50, estimator__min_samples_leaf=5, estimator__splitter=random \n",
      "[CV]  estimator__max_depth=24, estimator__max_features=None, estimator__max_leaf_nodes=50, estimator__min_samples_leaf=5, estimator__splitter=random, score=-0.015, total=   0.3s\n",
      "[CV] estimator__max_depth=24, estimator__max_features=None, estimator__max_leaf_nodes=50, estimator__min_samples_leaf=5, estimator__splitter=random \n",
      "[CV]  estimator__max_depth=24, estimator__max_features=None, estimator__max_leaf_nodes=50, estimator__min_samples_leaf=5, estimator__splitter=random, score=-0.016, total=   0.3s\n",
      "[CV] estimator__max_depth=24, estimator__max_features=None, estimator__max_leaf_nodes=70, estimator__min_samples_leaf=1, estimator__splitter=best \n",
      "[CV]  estimator__max_depth=24, estimator__max_features=None, estimator__max_leaf_nodes=70, estimator__min_samples_leaf=1, estimator__splitter=best, score=-0.010, total=   0.2s\n",
      "[CV] estimator__max_depth=24, estimator__max_features=None, estimator__max_leaf_nodes=70, estimator__min_samples_leaf=1, estimator__splitter=best \n"
     ]
    },
    {
     "name": "stderr",
     "output_type": "stream",
     "text": [
      "/home/abhinav/anaconda3/lib/python3.8/site-packages/sklearn/multiclass.py:76: UserWarning: Label not 10 is present in all training examples.\n",
      "  warnings.warn(\"Label %s is present in all training examples.\" %\n"
     ]
    },
    {
     "name": "stdout",
     "output_type": "stream",
     "text": [
      "[CV]  estimator__max_depth=24, estimator__max_features=None, estimator__max_leaf_nodes=70, estimator__min_samples_leaf=1, estimator__splitter=best, score=-0.011, total=   0.2s\n",
      "[CV] estimator__max_depth=24, estimator__max_features=None, estimator__max_leaf_nodes=70, estimator__min_samples_leaf=1, estimator__splitter=best \n",
      "[CV]  estimator__max_depth=24, estimator__max_features=None, estimator__max_leaf_nodes=70, estimator__min_samples_leaf=1, estimator__splitter=best, score=-0.010, total=   0.2s\n",
      "[CV] estimator__max_depth=24, estimator__max_features=None, estimator__max_leaf_nodes=70, estimator__min_samples_leaf=1, estimator__splitter=random \n"
     ]
    },
    {
     "name": "stderr",
     "output_type": "stream",
     "text": [
      "/home/abhinav/anaconda3/lib/python3.8/site-packages/sklearn/multiclass.py:76: UserWarning: Label not 10 is present in all training examples.\n",
      "  warnings.warn(\"Label %s is present in all training examples.\" %\n"
     ]
    },
    {
     "name": "stdout",
     "output_type": "stream",
     "text": [
      "[CV]  estimator__max_depth=24, estimator__max_features=None, estimator__max_leaf_nodes=70, estimator__min_samples_leaf=1, estimator__splitter=random, score=-0.011, total=   0.2s\n",
      "[CV] estimator__max_depth=24, estimator__max_features=None, estimator__max_leaf_nodes=70, estimator__min_samples_leaf=1, estimator__splitter=random \n",
      "[CV]  estimator__max_depth=24, estimator__max_features=None, estimator__max_leaf_nodes=70, estimator__min_samples_leaf=1, estimator__splitter=random, score=-0.010, total=   0.2s\n",
      "[CV] estimator__max_depth=24, estimator__max_features=None, estimator__max_leaf_nodes=70, estimator__min_samples_leaf=1, estimator__splitter=random \n",
      "[CV]  estimator__max_depth=24, estimator__max_features=None, estimator__max_leaf_nodes=70, estimator__min_samples_leaf=1, estimator__splitter=random, score=-0.011, total=   0.2s\n",
      "[CV] estimator__max_depth=24, estimator__max_features=None, estimator__max_leaf_nodes=70, estimator__min_samples_leaf=3, estimator__splitter=best \n"
     ]
    },
    {
     "name": "stderr",
     "output_type": "stream",
     "text": [
      "/home/abhinav/anaconda3/lib/python3.8/site-packages/sklearn/multiclass.py:76: UserWarning: Label not 10 is present in all training examples.\n",
      "  warnings.warn(\"Label %s is present in all training examples.\" %\n"
     ]
    },
    {
     "name": "stdout",
     "output_type": "stream",
     "text": [
      "[CV]  estimator__max_depth=24, estimator__max_features=None, estimator__max_leaf_nodes=70, estimator__min_samples_leaf=3, estimator__splitter=best, score=-0.012, total=   0.3s\n",
      "[CV] estimator__max_depth=24, estimator__max_features=None, estimator__max_leaf_nodes=70, estimator__min_samples_leaf=3, estimator__splitter=best \n",
      "[CV]  estimator__max_depth=24, estimator__max_features=None, estimator__max_leaf_nodes=70, estimator__min_samples_leaf=3, estimator__splitter=best, score=-0.012, total=   0.3s\n",
      "[CV] estimator__max_depth=24, estimator__max_features=None, estimator__max_leaf_nodes=70, estimator__min_samples_leaf=3, estimator__splitter=best \n",
      "[CV]  estimator__max_depth=24, estimator__max_features=None, estimator__max_leaf_nodes=70, estimator__min_samples_leaf=3, estimator__splitter=best, score=-0.012, total=   0.2s\n",
      "[CV] estimator__max_depth=24, estimator__max_features=None, estimator__max_leaf_nodes=70, estimator__min_samples_leaf=3, estimator__splitter=random \n"
     ]
    },
    {
     "name": "stderr",
     "output_type": "stream",
     "text": [
      "/home/abhinav/anaconda3/lib/python3.8/site-packages/sklearn/multiclass.py:76: UserWarning: Label not 10 is present in all training examples.\n",
      "  warnings.warn(\"Label %s is present in all training examples.\" %\n"
     ]
    },
    {
     "name": "stdout",
     "output_type": "stream",
     "text": [
      "[CV]  estimator__max_depth=24, estimator__max_features=None, estimator__max_leaf_nodes=70, estimator__min_samples_leaf=3, estimator__splitter=random, score=-0.013, total=   0.3s\n",
      "[CV] estimator__max_depth=24, estimator__max_features=None, estimator__max_leaf_nodes=70, estimator__min_samples_leaf=3, estimator__splitter=random \n",
      "[CV]  estimator__max_depth=24, estimator__max_features=None, estimator__max_leaf_nodes=70, estimator__min_samples_leaf=3, estimator__splitter=random, score=-0.013, total=   0.3s\n",
      "[CV] estimator__max_depth=24, estimator__max_features=None, estimator__max_leaf_nodes=70, estimator__min_samples_leaf=3, estimator__splitter=random \n",
      "[CV]  estimator__max_depth=24, estimator__max_features=None, estimator__max_leaf_nodes=70, estimator__min_samples_leaf=3, estimator__splitter=random, score=-0.013, total=   0.3s\n",
      "[CV] estimator__max_depth=24, estimator__max_features=None, estimator__max_leaf_nodes=70, estimator__min_samples_leaf=5, estimator__splitter=best \n"
     ]
    },
    {
     "name": "stderr",
     "output_type": "stream",
     "text": [
      "/home/abhinav/anaconda3/lib/python3.8/site-packages/sklearn/multiclass.py:76: UserWarning: Label not 10 is present in all training examples.\n",
      "  warnings.warn(\"Label %s is present in all training examples.\" %\n"
     ]
    },
    {
     "name": "stdout",
     "output_type": "stream",
     "text": [
      "[CV]  estimator__max_depth=24, estimator__max_features=None, estimator__max_leaf_nodes=70, estimator__min_samples_leaf=5, estimator__splitter=best, score=-0.015, total=   0.3s\n",
      "[CV] estimator__max_depth=24, estimator__max_features=None, estimator__max_leaf_nodes=70, estimator__min_samples_leaf=5, estimator__splitter=best \n",
      "[CV]  estimator__max_depth=24, estimator__max_features=None, estimator__max_leaf_nodes=70, estimator__min_samples_leaf=5, estimator__splitter=best, score=-0.014, total=   0.3s\n",
      "[CV] estimator__max_depth=24, estimator__max_features=None, estimator__max_leaf_nodes=70, estimator__min_samples_leaf=5, estimator__splitter=best \n",
      "[CV]  estimator__max_depth=24, estimator__max_features=None, estimator__max_leaf_nodes=70, estimator__min_samples_leaf=5, estimator__splitter=best, score=-0.016, total=   0.3s\n",
      "[CV] estimator__max_depth=24, estimator__max_features=None, estimator__max_leaf_nodes=70, estimator__min_samples_leaf=5, estimator__splitter=random \n"
     ]
    },
    {
     "name": "stderr",
     "output_type": "stream",
     "text": [
      "/home/abhinav/anaconda3/lib/python3.8/site-packages/sklearn/multiclass.py:76: UserWarning: Label not 10 is present in all training examples.\n",
      "  warnings.warn(\"Label %s is present in all training examples.\" %\n"
     ]
    },
    {
     "name": "stdout",
     "output_type": "stream",
     "text": [
      "[CV]  estimator__max_depth=24, estimator__max_features=None, estimator__max_leaf_nodes=70, estimator__min_samples_leaf=5, estimator__splitter=random, score=-0.017, total=   0.3s\n",
      "[CV] estimator__max_depth=24, estimator__max_features=None, estimator__max_leaf_nodes=70, estimator__min_samples_leaf=5, estimator__splitter=random \n",
      "[CV]  estimator__max_depth=24, estimator__max_features=None, estimator__max_leaf_nodes=70, estimator__min_samples_leaf=5, estimator__splitter=random, score=-0.015, total=   0.3s\n",
      "[CV] estimator__max_depth=24, estimator__max_features=None, estimator__max_leaf_nodes=70, estimator__min_samples_leaf=5, estimator__splitter=random \n",
      "[CV]  estimator__max_depth=24, estimator__max_features=None, estimator__max_leaf_nodes=70, estimator__min_samples_leaf=5, estimator__splitter=random, score=-0.017, total=   0.3s\n"
     ]
    },
    {
     "name": "stderr",
     "output_type": "stream",
     "text": [
      "[Parallel(n_jobs=1)]: Done 1512 out of 1512 | elapsed:  2.8min finished\n"
     ]
    },
    {
     "data": {
      "text/plain": [
       "GridSearchCV(cv=3,\n",
       "             estimator=OneVsRestClassifier(estimator=DecisionTreeClassifier()),\n",
       "             param_grid={'estimator__max_depth': [1, 9, 17, 24],\n",
       "                         'estimator__max_features': ['auto', 'sqrt', None],\n",
       "                         'estimator__max_leaf_nodes': [None, 10, 20, 30, 40, 50,\n",
       "                                                       70],\n",
       "                         'estimator__min_samples_leaf': [1, 3, 5],\n",
       "                         'estimator__splitter': ['best', 'random']},\n",
       "             scoring='neg_mean_squared_error', verbose=3)"
      ]
     },
     "execution_count": 17,
     "metadata": {},
     "output_type": "execute_result"
    }
   ],
   "source": [
    "clf = OneVsRestClassifier(decision_tree)\n",
    "clf_tuned=GridSearchCV(clf,param_grid=parameters,scoring='neg_mean_squared_error',cv=3,verbose=3)\n",
    "\n",
    "clf_tuned.fit(X_train, y_train)"
   ]
  },
  {
   "cell_type": "code",
   "execution_count": 18,
   "metadata": {
    "scrolled": true
   },
   "outputs": [
    {
     "data": {
      "text/plain": [
       "{'estimator__max_depth': 9,\n",
       " 'estimator__max_features': None,\n",
       " 'estimator__max_leaf_nodes': 30,\n",
       " 'estimator__min_samples_leaf': 1,\n",
       " 'estimator__splitter': 'best'}"
      ]
     },
     "execution_count": 18,
     "metadata": {},
     "output_type": "execute_result"
    }
   ],
   "source": [
    "clf_tuned.best_params_"
   ]
  },
  {
   "cell_type": "markdown",
   "metadata": {},
   "source": [
    "# Testing on tuned model metrics"
   ]
  },
  {
   "cell_type": "code",
   "execution_count": 30,
   "metadata": {
    "scrolled": true
   },
   "outputs": [
    {
     "name": "stdout",
     "output_type": "stream",
     "text": [
      "Clf:  DecisionTreeClassifier\n",
      "Exact Match Ratio: 62.57\n",
      "Hamming loss: 0.82\n",
      "Recall: 82.74\n",
      "Precision: 69.4\n",
      "F1 Measure: 75.48\n",
      "-------------\n",
      "\n"
     ]
    }
   ],
   "source": [
    "decision_tree_tuned = DecisionTreeClassifier(max_depth=9,min_samples_leaf=1,splitter='best',max_leaf_nodes=30,max_features=None)\n",
    "clf_tuned = OneVsRestClassifier(decision_tree_tuned)\n",
    "clf_tuned.fit(X_train, y_train)\n",
    "y_pred = clf_tuned.predict(X_test)\n",
    "print_metrics_report(decision_tree_tuned,y_test,y_pred)"
   ]
  },
  {
   "cell_type": "code",
   "execution_count": 20,
   "metadata": {},
   "outputs": [
    {
     "name": "stdout",
     "output_type": "stream",
     "text": [
      "                            precision    recall  f1-score   support\n",
      "\n",
      "                       abs       1.00      0.17      0.29         6\n",
      "                 airCooled       1.00      0.50      0.67         6\n",
      "                   battery       1.00      1.00      1.00         7\n",
      "             bookingAmount       1.00      1.00      1.00         3\n",
      "                   braking       1.00      1.00      1.00         3\n",
      "                       bs6       0.64      1.00      0.78         9\n",
      "                   comfort       0.60      0.30      0.40        10\n",
      "               competition       1.00      0.71      0.83        14\n",
      "                complaints       1.00      0.60      0.75         5\n",
      "                 cylinders       0.71      0.56      0.63         9\n",
      "                    engine       0.50      1.00      0.67         1\n",
      "        engineDisplacement       0.67      0.73      0.70        11\n",
      "           exchangeOptions       1.00      1.00      1.00         4\n",
      "              fuelCapacity       1.00      0.57      0.73         7\n",
      "                       gma       0.86      0.60      0.71        10\n",
      "           groundClearance       1.00      0.75      0.86         4\n",
      "              hazardLights       1.00      1.00      1.00        10\n",
      "                 Headlamps       1.00      0.62      0.77         8\n",
      "         instrumentCluster       0.75      0.75      0.75         4\n",
      "                 kickstart       0.67      0.75      0.71         8\n",
      "          longStrokeengine       0.00      0.00      0.00         4\n",
      "                    ducati       0.88      0.88      0.88         8\n",
      "             ducatiColours       1.00      0.67      0.80         6\n",
      "            ducatiFeatures       0.50      0.20      0.29         5\n",
      "             ducatiFinance       0.60      0.75      0.67         4\n",
      "              ducatiLegacy       1.00      0.88      0.93         8\n",
      "               ducatiPrice       1.00      1.00      1.00         7\n",
      "            ducatiVariants       0.73      0.89      0.80         9\n",
      "                   mileage       1.00      0.33      0.50         3\n",
      "                       miy       1.00      1.00      1.00         3\n",
      "                 newDesign       1.00      1.00      1.00         4\n",
      "                  newFrame       0.75      0.43      0.55         7\n",
      "                     power       0.00      0.00      0.00         2\n",
      "                 ducatiApp       0.86      0.60      0.71        10\n",
      "                       rsa       0.50      0.33      0.40         6\n",
      "                seatHeight       1.00      0.83      0.91         6\n",
      "               serviceCost       0.88      0.70      0.78        10\n",
      "             tbtNavigation       0.40      0.33      0.36         6\n",
      "                   triumph       0.60      0.82      0.69        11\n",
      "                  topSpeed       1.00      0.83      0.91         6\n",
      "                    torque       1.00      0.60      0.75        10\n",
      "             tubelessTyres       1.00      1.00      1.00         6\n",
      "                   upgrade       0.64      0.64      0.64        11\n",
      "                   usbPort       1.00      0.40      0.57         5\n",
      "                vibrations       0.86      0.60      0.71        10\n",
      "                  warranty       1.00      0.85      0.92        13\n",
      "                windscreen       1.00      0.75      0.86         4\n",
      "               faceFilters       1.00      1.00      1.00         5\n",
      "              launchSignup       1.00      0.67      0.80         6\n",
      "        downloadWallpapers       0.89      0.73      0.80        11\n",
      "       safetyMeasuresCovid       0.60      0.60      0.60         5\n",
      "                   Apparel       1.00      0.67      0.80         6\n",
      "              bookTestRide       1.00      0.75      0.86         4\n",
      "              locateDealer       1.00      1.00      1.00         3\n",
      "ducatiAvailabilityDelivery       1.00      1.00      1.00         3\n",
      "\n",
      "                 micro avg       0.84      0.70      0.76       366\n",
      "                 macro avg       0.84      0.70      0.74       366\n",
      "              weighted avg       0.85      0.70      0.75       366\n",
      "               samples avg       0.67      0.70      0.68       366\n",
      "\n"
     ]
    },
    {
     "name": "stderr",
     "output_type": "stream",
     "text": [
      "/home/abhinav/anaconda3/lib/python3.8/site-packages/sklearn/metrics/_classification.py:1221: UndefinedMetricWarning: Precision and F-score are ill-defined and being set to 0.0 in labels with no predicted samples. Use `zero_division` parameter to control this behavior.\n",
      "  _warn_prf(average, modifier, msg_start, len(result))\n",
      "/home/abhinav/anaconda3/lib/python3.8/site-packages/sklearn/metrics/_classification.py:1221: UndefinedMetricWarning: Precision and F-score are ill-defined and being set to 0.0 in samples with no predicted labels. Use `zero_division` parameter to control this behavior.\n",
      "  _warn_prf(average, modifier, msg_start, len(result))\n"
     ]
    }
   ],
   "source": [
    "from sklearn.metrics import classification_report\n",
    "\n",
    "print(classification_report(y_test,y_pred,target_names=labels_list))"
   ]
  },
  {
   "cell_type": "markdown",
   "metadata": {},
   "source": [
    "# Results and Conclusion\n",
    "\n",
    "We have used following metrics for analyzing the model performance\n",
    "\n",
    "1. **Exact Match Ratio**\n",
    "2. **Hamming Loss**\n",
    "3. **Recall**\n",
    "4. **Precision**\n",
    "5. **F1 Score**\n",
    "\n",
    "We got the **75.48** as F1 Score using tf idf + Decision Tree classifier\n",
    "\n",
    "Results can be improved further by\n",
    "1. Having atleast 25 samples per class for each of the classes\n",
    "2. Using weighted word2Vec for creating the feature vector for a sentence"
   ]
  },
  {
   "cell_type": "markdown",
   "metadata": {},
   "source": [
    "# Testing on sample test sentences"
   ]
  },
  {
   "cell_type": "code",
   "execution_count": 21,
   "metadata": {},
   "outputs": [
    {
     "name": "stdout",
     "output_type": "stream",
     "text": [
      "[('engineDisplacement',)]\n",
      "[('fuelCapacity',)]\n",
      "[('engineDisplacement', 'fuelCapacity')]\n"
     ]
    }
   ],
   "source": [
    "x = [\n",
    "    ['how much is engine displacement'],\n",
    "    ['What is the fuel tank capacity?'],\n",
    "    ['I want to know about engine displacement and fuel tank capacity']\n",
    "]\n",
    "for sentence in x:\n",
    "    xt = tfidf.transform(sentence)\n",
    "    value = multilabel.inverse_transform(clf_tuned.predict(xt))\n",
    "    print(value)"
   ]
  }
 ],
 "metadata": {
  "kernelspec": {
   "display_name": "Python 3 (ipykernel)",
   "language": "python",
   "name": "python3"
  },
  "language_info": {
   "codemirror_mode": {
    "name": "ipython",
    "version": 3
   },
   "file_extension": ".py",
   "mimetype": "text/x-python",
   "name": "python",
   "nbconvert_exporter": "python",
   "pygments_lexer": "ipython3",
   "version": "3.10.9"
  }
 },
 "nbformat": 4,
 "nbformat_minor": 4
}
